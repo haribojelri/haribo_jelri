{
  "nbformat": 4,
  "nbformat_minor": 0,
  "metadata": {
    "colab": {
      "provenance": []
    },
    "kernelspec": {
      "name": "python3",
      "display_name": "Python 3"
    },
    "language_info": {
      "name": "python"
    },
    "widgets": {
      "application/vnd.jupyter.widget-state+json": {
        "0a2a2a479aad461ca681c0e973dc6e5b": {
          "model_module": "@jupyter-widgets/controls",
          "model_name": "HBoxModel",
          "model_module_version": "1.5.0",
          "state": {
            "_dom_classes": [],
            "_model_module": "@jupyter-widgets/controls",
            "_model_module_version": "1.5.0",
            "_model_name": "HBoxModel",
            "_view_count": null,
            "_view_module": "@jupyter-widgets/controls",
            "_view_module_version": "1.5.0",
            "_view_name": "HBoxView",
            "box_style": "",
            "children": [
              "IPY_MODEL_4ab027544b9b46b187a13fd72f279834",
              "IPY_MODEL_9e3047014cc84025a30e10db73ebe601",
              "IPY_MODEL_4f75adedcc254cd292ba08f1220637b5"
            ],
            "layout": "IPY_MODEL_398de589f02a46e48859a2ecc9d27ee6"
          }
        },
        "4ab027544b9b46b187a13fd72f279834": {
          "model_module": "@jupyter-widgets/controls",
          "model_name": "HTMLModel",
          "model_module_version": "1.5.0",
          "state": {
            "_dom_classes": [],
            "_model_module": "@jupyter-widgets/controls",
            "_model_module_version": "1.5.0",
            "_model_name": "HTMLModel",
            "_view_count": null,
            "_view_module": "@jupyter-widgets/controls",
            "_view_module_version": "1.5.0",
            "_view_name": "HTMLView",
            "description": "",
            "description_tooltip": null,
            "layout": "IPY_MODEL_0371defbfd084347b780629d20f8310c",
            "placeholder": "​",
            "style": "IPY_MODEL_253b2a8479924a72b68699c19ac09cad",
            "value": "100%"
          }
        },
        "9e3047014cc84025a30e10db73ebe601": {
          "model_module": "@jupyter-widgets/controls",
          "model_name": "FloatProgressModel",
          "model_module_version": "1.5.0",
          "state": {
            "_dom_classes": [],
            "_model_module": "@jupyter-widgets/controls",
            "_model_module_version": "1.5.0",
            "_model_name": "FloatProgressModel",
            "_view_count": null,
            "_view_module": "@jupyter-widgets/controls",
            "_view_module_version": "1.5.0",
            "_view_name": "ProgressView",
            "bar_style": "success",
            "description": "",
            "description_tooltip": null,
            "layout": "IPY_MODEL_b48e12ac81a74acfaa872fe7093b4d3c",
            "max": 9912422,
            "min": 0,
            "orientation": "horizontal",
            "style": "IPY_MODEL_207bb2717ddf4d82977c88e1d05a3d7f",
            "value": 9912422
          }
        },
        "4f75adedcc254cd292ba08f1220637b5": {
          "model_module": "@jupyter-widgets/controls",
          "model_name": "HTMLModel",
          "model_module_version": "1.5.0",
          "state": {
            "_dom_classes": [],
            "_model_module": "@jupyter-widgets/controls",
            "_model_module_version": "1.5.0",
            "_model_name": "HTMLModel",
            "_view_count": null,
            "_view_module": "@jupyter-widgets/controls",
            "_view_module_version": "1.5.0",
            "_view_name": "HTMLView",
            "description": "",
            "description_tooltip": null,
            "layout": "IPY_MODEL_98e9bee128b84254a112e28d4c1ecdc3",
            "placeholder": "​",
            "style": "IPY_MODEL_3c9c75dba28a45d29d46755f02428541",
            "value": " 9912422/9912422 [00:00&lt;00:00, 66608062.82it/s]"
          }
        },
        "398de589f02a46e48859a2ecc9d27ee6": {
          "model_module": "@jupyter-widgets/base",
          "model_name": "LayoutModel",
          "model_module_version": "1.2.0",
          "state": {
            "_model_module": "@jupyter-widgets/base",
            "_model_module_version": "1.2.0",
            "_model_name": "LayoutModel",
            "_view_count": null,
            "_view_module": "@jupyter-widgets/base",
            "_view_module_version": "1.2.0",
            "_view_name": "LayoutView",
            "align_content": null,
            "align_items": null,
            "align_self": null,
            "border": null,
            "bottom": null,
            "display": null,
            "flex": null,
            "flex_flow": null,
            "grid_area": null,
            "grid_auto_columns": null,
            "grid_auto_flow": null,
            "grid_auto_rows": null,
            "grid_column": null,
            "grid_gap": null,
            "grid_row": null,
            "grid_template_areas": null,
            "grid_template_columns": null,
            "grid_template_rows": null,
            "height": null,
            "justify_content": null,
            "justify_items": null,
            "left": null,
            "margin": null,
            "max_height": null,
            "max_width": null,
            "min_height": null,
            "min_width": null,
            "object_fit": null,
            "object_position": null,
            "order": null,
            "overflow": null,
            "overflow_x": null,
            "overflow_y": null,
            "padding": null,
            "right": null,
            "top": null,
            "visibility": null,
            "width": null
          }
        },
        "0371defbfd084347b780629d20f8310c": {
          "model_module": "@jupyter-widgets/base",
          "model_name": "LayoutModel",
          "model_module_version": "1.2.0",
          "state": {
            "_model_module": "@jupyter-widgets/base",
            "_model_module_version": "1.2.0",
            "_model_name": "LayoutModel",
            "_view_count": null,
            "_view_module": "@jupyter-widgets/base",
            "_view_module_version": "1.2.0",
            "_view_name": "LayoutView",
            "align_content": null,
            "align_items": null,
            "align_self": null,
            "border": null,
            "bottom": null,
            "display": null,
            "flex": null,
            "flex_flow": null,
            "grid_area": null,
            "grid_auto_columns": null,
            "grid_auto_flow": null,
            "grid_auto_rows": null,
            "grid_column": null,
            "grid_gap": null,
            "grid_row": null,
            "grid_template_areas": null,
            "grid_template_columns": null,
            "grid_template_rows": null,
            "height": null,
            "justify_content": null,
            "justify_items": null,
            "left": null,
            "margin": null,
            "max_height": null,
            "max_width": null,
            "min_height": null,
            "min_width": null,
            "object_fit": null,
            "object_position": null,
            "order": null,
            "overflow": null,
            "overflow_x": null,
            "overflow_y": null,
            "padding": null,
            "right": null,
            "top": null,
            "visibility": null,
            "width": null
          }
        },
        "253b2a8479924a72b68699c19ac09cad": {
          "model_module": "@jupyter-widgets/controls",
          "model_name": "DescriptionStyleModel",
          "model_module_version": "1.5.0",
          "state": {
            "_model_module": "@jupyter-widgets/controls",
            "_model_module_version": "1.5.0",
            "_model_name": "DescriptionStyleModel",
            "_view_count": null,
            "_view_module": "@jupyter-widgets/base",
            "_view_module_version": "1.2.0",
            "_view_name": "StyleView",
            "description_width": ""
          }
        },
        "b48e12ac81a74acfaa872fe7093b4d3c": {
          "model_module": "@jupyter-widgets/base",
          "model_name": "LayoutModel",
          "model_module_version": "1.2.0",
          "state": {
            "_model_module": "@jupyter-widgets/base",
            "_model_module_version": "1.2.0",
            "_model_name": "LayoutModel",
            "_view_count": null,
            "_view_module": "@jupyter-widgets/base",
            "_view_module_version": "1.2.0",
            "_view_name": "LayoutView",
            "align_content": null,
            "align_items": null,
            "align_self": null,
            "border": null,
            "bottom": null,
            "display": null,
            "flex": null,
            "flex_flow": null,
            "grid_area": null,
            "grid_auto_columns": null,
            "grid_auto_flow": null,
            "grid_auto_rows": null,
            "grid_column": null,
            "grid_gap": null,
            "grid_row": null,
            "grid_template_areas": null,
            "grid_template_columns": null,
            "grid_template_rows": null,
            "height": null,
            "justify_content": null,
            "justify_items": null,
            "left": null,
            "margin": null,
            "max_height": null,
            "max_width": null,
            "min_height": null,
            "min_width": null,
            "object_fit": null,
            "object_position": null,
            "order": null,
            "overflow": null,
            "overflow_x": null,
            "overflow_y": null,
            "padding": null,
            "right": null,
            "top": null,
            "visibility": null,
            "width": null
          }
        },
        "207bb2717ddf4d82977c88e1d05a3d7f": {
          "model_module": "@jupyter-widgets/controls",
          "model_name": "ProgressStyleModel",
          "model_module_version": "1.5.0",
          "state": {
            "_model_module": "@jupyter-widgets/controls",
            "_model_module_version": "1.5.0",
            "_model_name": "ProgressStyleModel",
            "_view_count": null,
            "_view_module": "@jupyter-widgets/base",
            "_view_module_version": "1.2.0",
            "_view_name": "StyleView",
            "bar_color": null,
            "description_width": ""
          }
        },
        "98e9bee128b84254a112e28d4c1ecdc3": {
          "model_module": "@jupyter-widgets/base",
          "model_name": "LayoutModel",
          "model_module_version": "1.2.0",
          "state": {
            "_model_module": "@jupyter-widgets/base",
            "_model_module_version": "1.2.0",
            "_model_name": "LayoutModel",
            "_view_count": null,
            "_view_module": "@jupyter-widgets/base",
            "_view_module_version": "1.2.0",
            "_view_name": "LayoutView",
            "align_content": null,
            "align_items": null,
            "align_self": null,
            "border": null,
            "bottom": null,
            "display": null,
            "flex": null,
            "flex_flow": null,
            "grid_area": null,
            "grid_auto_columns": null,
            "grid_auto_flow": null,
            "grid_auto_rows": null,
            "grid_column": null,
            "grid_gap": null,
            "grid_row": null,
            "grid_template_areas": null,
            "grid_template_columns": null,
            "grid_template_rows": null,
            "height": null,
            "justify_content": null,
            "justify_items": null,
            "left": null,
            "margin": null,
            "max_height": null,
            "max_width": null,
            "min_height": null,
            "min_width": null,
            "object_fit": null,
            "object_position": null,
            "order": null,
            "overflow": null,
            "overflow_x": null,
            "overflow_y": null,
            "padding": null,
            "right": null,
            "top": null,
            "visibility": null,
            "width": null
          }
        },
        "3c9c75dba28a45d29d46755f02428541": {
          "model_module": "@jupyter-widgets/controls",
          "model_name": "DescriptionStyleModel",
          "model_module_version": "1.5.0",
          "state": {
            "_model_module": "@jupyter-widgets/controls",
            "_model_module_version": "1.5.0",
            "_model_name": "DescriptionStyleModel",
            "_view_count": null,
            "_view_module": "@jupyter-widgets/base",
            "_view_module_version": "1.2.0",
            "_view_name": "StyleView",
            "description_width": ""
          }
        },
        "78857fe5862f49f3a06d1ee21f3598be": {
          "model_module": "@jupyter-widgets/controls",
          "model_name": "HBoxModel",
          "model_module_version": "1.5.0",
          "state": {
            "_dom_classes": [],
            "_model_module": "@jupyter-widgets/controls",
            "_model_module_version": "1.5.0",
            "_model_name": "HBoxModel",
            "_view_count": null,
            "_view_module": "@jupyter-widgets/controls",
            "_view_module_version": "1.5.0",
            "_view_name": "HBoxView",
            "box_style": "",
            "children": [
              "IPY_MODEL_99378969a7774f0e9584a4166d7e342b",
              "IPY_MODEL_ddd61c65989c43898f456c0baf034855",
              "IPY_MODEL_e3ca44f34ede407cbcfbec4b44a6b8d1"
            ],
            "layout": "IPY_MODEL_dc483661577d465793f450008708a964"
          }
        },
        "99378969a7774f0e9584a4166d7e342b": {
          "model_module": "@jupyter-widgets/controls",
          "model_name": "HTMLModel",
          "model_module_version": "1.5.0",
          "state": {
            "_dom_classes": [],
            "_model_module": "@jupyter-widgets/controls",
            "_model_module_version": "1.5.0",
            "_model_name": "HTMLModel",
            "_view_count": null,
            "_view_module": "@jupyter-widgets/controls",
            "_view_module_version": "1.5.0",
            "_view_name": "HTMLView",
            "description": "",
            "description_tooltip": null,
            "layout": "IPY_MODEL_b3681df3daa342fc8d08647c9d07c065",
            "placeholder": "​",
            "style": "IPY_MODEL_44832536c7814e49a362719986d09701",
            "value": "100%"
          }
        },
        "ddd61c65989c43898f456c0baf034855": {
          "model_module": "@jupyter-widgets/controls",
          "model_name": "FloatProgressModel",
          "model_module_version": "1.5.0",
          "state": {
            "_dom_classes": [],
            "_model_module": "@jupyter-widgets/controls",
            "_model_module_version": "1.5.0",
            "_model_name": "FloatProgressModel",
            "_view_count": null,
            "_view_module": "@jupyter-widgets/controls",
            "_view_module_version": "1.5.0",
            "_view_name": "ProgressView",
            "bar_style": "success",
            "description": "",
            "description_tooltip": null,
            "layout": "IPY_MODEL_c9290df5b9b34d189ae06d96843770d5",
            "max": 28881,
            "min": 0,
            "orientation": "horizontal",
            "style": "IPY_MODEL_5071e2f7f1924ea1a56adb8c57875891",
            "value": 28881
          }
        },
        "e3ca44f34ede407cbcfbec4b44a6b8d1": {
          "model_module": "@jupyter-widgets/controls",
          "model_name": "HTMLModel",
          "model_module_version": "1.5.0",
          "state": {
            "_dom_classes": [],
            "_model_module": "@jupyter-widgets/controls",
            "_model_module_version": "1.5.0",
            "_model_name": "HTMLModel",
            "_view_count": null,
            "_view_module": "@jupyter-widgets/controls",
            "_view_module_version": "1.5.0",
            "_view_name": "HTMLView",
            "description": "",
            "description_tooltip": null,
            "layout": "IPY_MODEL_9149674cc9694a22a2b2b17c592a530d",
            "placeholder": "​",
            "style": "IPY_MODEL_066a50f6d0ec484d9ee39a8e7aa7d2ba",
            "value": " 28881/28881 [00:00&lt;00:00, 1324162.33it/s]"
          }
        },
        "dc483661577d465793f450008708a964": {
          "model_module": "@jupyter-widgets/base",
          "model_name": "LayoutModel",
          "model_module_version": "1.2.0",
          "state": {
            "_model_module": "@jupyter-widgets/base",
            "_model_module_version": "1.2.0",
            "_model_name": "LayoutModel",
            "_view_count": null,
            "_view_module": "@jupyter-widgets/base",
            "_view_module_version": "1.2.0",
            "_view_name": "LayoutView",
            "align_content": null,
            "align_items": null,
            "align_self": null,
            "border": null,
            "bottom": null,
            "display": null,
            "flex": null,
            "flex_flow": null,
            "grid_area": null,
            "grid_auto_columns": null,
            "grid_auto_flow": null,
            "grid_auto_rows": null,
            "grid_column": null,
            "grid_gap": null,
            "grid_row": null,
            "grid_template_areas": null,
            "grid_template_columns": null,
            "grid_template_rows": null,
            "height": null,
            "justify_content": null,
            "justify_items": null,
            "left": null,
            "margin": null,
            "max_height": null,
            "max_width": null,
            "min_height": null,
            "min_width": null,
            "object_fit": null,
            "object_position": null,
            "order": null,
            "overflow": null,
            "overflow_x": null,
            "overflow_y": null,
            "padding": null,
            "right": null,
            "top": null,
            "visibility": null,
            "width": null
          }
        },
        "b3681df3daa342fc8d08647c9d07c065": {
          "model_module": "@jupyter-widgets/base",
          "model_name": "LayoutModel",
          "model_module_version": "1.2.0",
          "state": {
            "_model_module": "@jupyter-widgets/base",
            "_model_module_version": "1.2.0",
            "_model_name": "LayoutModel",
            "_view_count": null,
            "_view_module": "@jupyter-widgets/base",
            "_view_module_version": "1.2.0",
            "_view_name": "LayoutView",
            "align_content": null,
            "align_items": null,
            "align_self": null,
            "border": null,
            "bottom": null,
            "display": null,
            "flex": null,
            "flex_flow": null,
            "grid_area": null,
            "grid_auto_columns": null,
            "grid_auto_flow": null,
            "grid_auto_rows": null,
            "grid_column": null,
            "grid_gap": null,
            "grid_row": null,
            "grid_template_areas": null,
            "grid_template_columns": null,
            "grid_template_rows": null,
            "height": null,
            "justify_content": null,
            "justify_items": null,
            "left": null,
            "margin": null,
            "max_height": null,
            "max_width": null,
            "min_height": null,
            "min_width": null,
            "object_fit": null,
            "object_position": null,
            "order": null,
            "overflow": null,
            "overflow_x": null,
            "overflow_y": null,
            "padding": null,
            "right": null,
            "top": null,
            "visibility": null,
            "width": null
          }
        },
        "44832536c7814e49a362719986d09701": {
          "model_module": "@jupyter-widgets/controls",
          "model_name": "DescriptionStyleModel",
          "model_module_version": "1.5.0",
          "state": {
            "_model_module": "@jupyter-widgets/controls",
            "_model_module_version": "1.5.0",
            "_model_name": "DescriptionStyleModel",
            "_view_count": null,
            "_view_module": "@jupyter-widgets/base",
            "_view_module_version": "1.2.0",
            "_view_name": "StyleView",
            "description_width": ""
          }
        },
        "c9290df5b9b34d189ae06d96843770d5": {
          "model_module": "@jupyter-widgets/base",
          "model_name": "LayoutModel",
          "model_module_version": "1.2.0",
          "state": {
            "_model_module": "@jupyter-widgets/base",
            "_model_module_version": "1.2.0",
            "_model_name": "LayoutModel",
            "_view_count": null,
            "_view_module": "@jupyter-widgets/base",
            "_view_module_version": "1.2.0",
            "_view_name": "LayoutView",
            "align_content": null,
            "align_items": null,
            "align_self": null,
            "border": null,
            "bottom": null,
            "display": null,
            "flex": null,
            "flex_flow": null,
            "grid_area": null,
            "grid_auto_columns": null,
            "grid_auto_flow": null,
            "grid_auto_rows": null,
            "grid_column": null,
            "grid_gap": null,
            "grid_row": null,
            "grid_template_areas": null,
            "grid_template_columns": null,
            "grid_template_rows": null,
            "height": null,
            "justify_content": null,
            "justify_items": null,
            "left": null,
            "margin": null,
            "max_height": null,
            "max_width": null,
            "min_height": null,
            "min_width": null,
            "object_fit": null,
            "object_position": null,
            "order": null,
            "overflow": null,
            "overflow_x": null,
            "overflow_y": null,
            "padding": null,
            "right": null,
            "top": null,
            "visibility": null,
            "width": null
          }
        },
        "5071e2f7f1924ea1a56adb8c57875891": {
          "model_module": "@jupyter-widgets/controls",
          "model_name": "ProgressStyleModel",
          "model_module_version": "1.5.0",
          "state": {
            "_model_module": "@jupyter-widgets/controls",
            "_model_module_version": "1.5.0",
            "_model_name": "ProgressStyleModel",
            "_view_count": null,
            "_view_module": "@jupyter-widgets/base",
            "_view_module_version": "1.2.0",
            "_view_name": "StyleView",
            "bar_color": null,
            "description_width": ""
          }
        },
        "9149674cc9694a22a2b2b17c592a530d": {
          "model_module": "@jupyter-widgets/base",
          "model_name": "LayoutModel",
          "model_module_version": "1.2.0",
          "state": {
            "_model_module": "@jupyter-widgets/base",
            "_model_module_version": "1.2.0",
            "_model_name": "LayoutModel",
            "_view_count": null,
            "_view_module": "@jupyter-widgets/base",
            "_view_module_version": "1.2.0",
            "_view_name": "LayoutView",
            "align_content": null,
            "align_items": null,
            "align_self": null,
            "border": null,
            "bottom": null,
            "display": null,
            "flex": null,
            "flex_flow": null,
            "grid_area": null,
            "grid_auto_columns": null,
            "grid_auto_flow": null,
            "grid_auto_rows": null,
            "grid_column": null,
            "grid_gap": null,
            "grid_row": null,
            "grid_template_areas": null,
            "grid_template_columns": null,
            "grid_template_rows": null,
            "height": null,
            "justify_content": null,
            "justify_items": null,
            "left": null,
            "margin": null,
            "max_height": null,
            "max_width": null,
            "min_height": null,
            "min_width": null,
            "object_fit": null,
            "object_position": null,
            "order": null,
            "overflow": null,
            "overflow_x": null,
            "overflow_y": null,
            "padding": null,
            "right": null,
            "top": null,
            "visibility": null,
            "width": null
          }
        },
        "066a50f6d0ec484d9ee39a8e7aa7d2ba": {
          "model_module": "@jupyter-widgets/controls",
          "model_name": "DescriptionStyleModel",
          "model_module_version": "1.5.0",
          "state": {
            "_model_module": "@jupyter-widgets/controls",
            "_model_module_version": "1.5.0",
            "_model_name": "DescriptionStyleModel",
            "_view_count": null,
            "_view_module": "@jupyter-widgets/base",
            "_view_module_version": "1.2.0",
            "_view_name": "StyleView",
            "description_width": ""
          }
        },
        "7e16f8b53b0b4b6dba8c10ecda87908b": {
          "model_module": "@jupyter-widgets/controls",
          "model_name": "HBoxModel",
          "model_module_version": "1.5.0",
          "state": {
            "_dom_classes": [],
            "_model_module": "@jupyter-widgets/controls",
            "_model_module_version": "1.5.0",
            "_model_name": "HBoxModel",
            "_view_count": null,
            "_view_module": "@jupyter-widgets/controls",
            "_view_module_version": "1.5.0",
            "_view_name": "HBoxView",
            "box_style": "",
            "children": [
              "IPY_MODEL_c3d0443bdf094d22adb7bc93ba5d527b",
              "IPY_MODEL_3b25b4cdd46c4ff8b852779a4d4a5ed8",
              "IPY_MODEL_97bab055ef3b4e44b72bf7e3d7899851"
            ],
            "layout": "IPY_MODEL_394097c163724d9fb267326a592509f5"
          }
        },
        "c3d0443bdf094d22adb7bc93ba5d527b": {
          "model_module": "@jupyter-widgets/controls",
          "model_name": "HTMLModel",
          "model_module_version": "1.5.0",
          "state": {
            "_dom_classes": [],
            "_model_module": "@jupyter-widgets/controls",
            "_model_module_version": "1.5.0",
            "_model_name": "HTMLModel",
            "_view_count": null,
            "_view_module": "@jupyter-widgets/controls",
            "_view_module_version": "1.5.0",
            "_view_name": "HTMLView",
            "description": "",
            "description_tooltip": null,
            "layout": "IPY_MODEL_7afe9b5856844ea8b42b61f076d96755",
            "placeholder": "​",
            "style": "IPY_MODEL_04834be0c8f54565b6f03d4e0bc905df",
            "value": "100%"
          }
        },
        "3b25b4cdd46c4ff8b852779a4d4a5ed8": {
          "model_module": "@jupyter-widgets/controls",
          "model_name": "FloatProgressModel",
          "model_module_version": "1.5.0",
          "state": {
            "_dom_classes": [],
            "_model_module": "@jupyter-widgets/controls",
            "_model_module_version": "1.5.0",
            "_model_name": "FloatProgressModel",
            "_view_count": null,
            "_view_module": "@jupyter-widgets/controls",
            "_view_module_version": "1.5.0",
            "_view_name": "ProgressView",
            "bar_style": "success",
            "description": "",
            "description_tooltip": null,
            "layout": "IPY_MODEL_bf9071898d6840d0ae1e529b795dc750",
            "max": 1648877,
            "min": 0,
            "orientation": "horizontal",
            "style": "IPY_MODEL_aef04f8d62d6486281f6d56ab575f8d7",
            "value": 1648877
          }
        },
        "97bab055ef3b4e44b72bf7e3d7899851": {
          "model_module": "@jupyter-widgets/controls",
          "model_name": "HTMLModel",
          "model_module_version": "1.5.0",
          "state": {
            "_dom_classes": [],
            "_model_module": "@jupyter-widgets/controls",
            "_model_module_version": "1.5.0",
            "_model_name": "HTMLModel",
            "_view_count": null,
            "_view_module": "@jupyter-widgets/controls",
            "_view_module_version": "1.5.0",
            "_view_name": "HTMLView",
            "description": "",
            "description_tooltip": null,
            "layout": "IPY_MODEL_7426df69cbb14d91b1d92dd7791f4c48",
            "placeholder": "​",
            "style": "IPY_MODEL_2931e678c30941ef8acf117f9c7da687",
            "value": " 1648877/1648877 [00:00&lt;00:00, 55260376.64it/s]"
          }
        },
        "394097c163724d9fb267326a592509f5": {
          "model_module": "@jupyter-widgets/base",
          "model_name": "LayoutModel",
          "model_module_version": "1.2.0",
          "state": {
            "_model_module": "@jupyter-widgets/base",
            "_model_module_version": "1.2.0",
            "_model_name": "LayoutModel",
            "_view_count": null,
            "_view_module": "@jupyter-widgets/base",
            "_view_module_version": "1.2.0",
            "_view_name": "LayoutView",
            "align_content": null,
            "align_items": null,
            "align_self": null,
            "border": null,
            "bottom": null,
            "display": null,
            "flex": null,
            "flex_flow": null,
            "grid_area": null,
            "grid_auto_columns": null,
            "grid_auto_flow": null,
            "grid_auto_rows": null,
            "grid_column": null,
            "grid_gap": null,
            "grid_row": null,
            "grid_template_areas": null,
            "grid_template_columns": null,
            "grid_template_rows": null,
            "height": null,
            "justify_content": null,
            "justify_items": null,
            "left": null,
            "margin": null,
            "max_height": null,
            "max_width": null,
            "min_height": null,
            "min_width": null,
            "object_fit": null,
            "object_position": null,
            "order": null,
            "overflow": null,
            "overflow_x": null,
            "overflow_y": null,
            "padding": null,
            "right": null,
            "top": null,
            "visibility": null,
            "width": null
          }
        },
        "7afe9b5856844ea8b42b61f076d96755": {
          "model_module": "@jupyter-widgets/base",
          "model_name": "LayoutModel",
          "model_module_version": "1.2.0",
          "state": {
            "_model_module": "@jupyter-widgets/base",
            "_model_module_version": "1.2.0",
            "_model_name": "LayoutModel",
            "_view_count": null,
            "_view_module": "@jupyter-widgets/base",
            "_view_module_version": "1.2.0",
            "_view_name": "LayoutView",
            "align_content": null,
            "align_items": null,
            "align_self": null,
            "border": null,
            "bottom": null,
            "display": null,
            "flex": null,
            "flex_flow": null,
            "grid_area": null,
            "grid_auto_columns": null,
            "grid_auto_flow": null,
            "grid_auto_rows": null,
            "grid_column": null,
            "grid_gap": null,
            "grid_row": null,
            "grid_template_areas": null,
            "grid_template_columns": null,
            "grid_template_rows": null,
            "height": null,
            "justify_content": null,
            "justify_items": null,
            "left": null,
            "margin": null,
            "max_height": null,
            "max_width": null,
            "min_height": null,
            "min_width": null,
            "object_fit": null,
            "object_position": null,
            "order": null,
            "overflow": null,
            "overflow_x": null,
            "overflow_y": null,
            "padding": null,
            "right": null,
            "top": null,
            "visibility": null,
            "width": null
          }
        },
        "04834be0c8f54565b6f03d4e0bc905df": {
          "model_module": "@jupyter-widgets/controls",
          "model_name": "DescriptionStyleModel",
          "model_module_version": "1.5.0",
          "state": {
            "_model_module": "@jupyter-widgets/controls",
            "_model_module_version": "1.5.0",
            "_model_name": "DescriptionStyleModel",
            "_view_count": null,
            "_view_module": "@jupyter-widgets/base",
            "_view_module_version": "1.2.0",
            "_view_name": "StyleView",
            "description_width": ""
          }
        },
        "bf9071898d6840d0ae1e529b795dc750": {
          "model_module": "@jupyter-widgets/base",
          "model_name": "LayoutModel",
          "model_module_version": "1.2.0",
          "state": {
            "_model_module": "@jupyter-widgets/base",
            "_model_module_version": "1.2.0",
            "_model_name": "LayoutModel",
            "_view_count": null,
            "_view_module": "@jupyter-widgets/base",
            "_view_module_version": "1.2.0",
            "_view_name": "LayoutView",
            "align_content": null,
            "align_items": null,
            "align_self": null,
            "border": null,
            "bottom": null,
            "display": null,
            "flex": null,
            "flex_flow": null,
            "grid_area": null,
            "grid_auto_columns": null,
            "grid_auto_flow": null,
            "grid_auto_rows": null,
            "grid_column": null,
            "grid_gap": null,
            "grid_row": null,
            "grid_template_areas": null,
            "grid_template_columns": null,
            "grid_template_rows": null,
            "height": null,
            "justify_content": null,
            "justify_items": null,
            "left": null,
            "margin": null,
            "max_height": null,
            "max_width": null,
            "min_height": null,
            "min_width": null,
            "object_fit": null,
            "object_position": null,
            "order": null,
            "overflow": null,
            "overflow_x": null,
            "overflow_y": null,
            "padding": null,
            "right": null,
            "top": null,
            "visibility": null,
            "width": null
          }
        },
        "aef04f8d62d6486281f6d56ab575f8d7": {
          "model_module": "@jupyter-widgets/controls",
          "model_name": "ProgressStyleModel",
          "model_module_version": "1.5.0",
          "state": {
            "_model_module": "@jupyter-widgets/controls",
            "_model_module_version": "1.5.0",
            "_model_name": "ProgressStyleModel",
            "_view_count": null,
            "_view_module": "@jupyter-widgets/base",
            "_view_module_version": "1.2.0",
            "_view_name": "StyleView",
            "bar_color": null,
            "description_width": ""
          }
        },
        "7426df69cbb14d91b1d92dd7791f4c48": {
          "model_module": "@jupyter-widgets/base",
          "model_name": "LayoutModel",
          "model_module_version": "1.2.0",
          "state": {
            "_model_module": "@jupyter-widgets/base",
            "_model_module_version": "1.2.0",
            "_model_name": "LayoutModel",
            "_view_count": null,
            "_view_module": "@jupyter-widgets/base",
            "_view_module_version": "1.2.0",
            "_view_name": "LayoutView",
            "align_content": null,
            "align_items": null,
            "align_self": null,
            "border": null,
            "bottom": null,
            "display": null,
            "flex": null,
            "flex_flow": null,
            "grid_area": null,
            "grid_auto_columns": null,
            "grid_auto_flow": null,
            "grid_auto_rows": null,
            "grid_column": null,
            "grid_gap": null,
            "grid_row": null,
            "grid_template_areas": null,
            "grid_template_columns": null,
            "grid_template_rows": null,
            "height": null,
            "justify_content": null,
            "justify_items": null,
            "left": null,
            "margin": null,
            "max_height": null,
            "max_width": null,
            "min_height": null,
            "min_width": null,
            "object_fit": null,
            "object_position": null,
            "order": null,
            "overflow": null,
            "overflow_x": null,
            "overflow_y": null,
            "padding": null,
            "right": null,
            "top": null,
            "visibility": null,
            "width": null
          }
        },
        "2931e678c30941ef8acf117f9c7da687": {
          "model_module": "@jupyter-widgets/controls",
          "model_name": "DescriptionStyleModel",
          "model_module_version": "1.5.0",
          "state": {
            "_model_module": "@jupyter-widgets/controls",
            "_model_module_version": "1.5.0",
            "_model_name": "DescriptionStyleModel",
            "_view_count": null,
            "_view_module": "@jupyter-widgets/base",
            "_view_module_version": "1.2.0",
            "_view_name": "StyleView",
            "description_width": ""
          }
        },
        "b3727a05ddb0414ab5a4212f6144c096": {
          "model_module": "@jupyter-widgets/controls",
          "model_name": "HBoxModel",
          "model_module_version": "1.5.0",
          "state": {
            "_dom_classes": [],
            "_model_module": "@jupyter-widgets/controls",
            "_model_module_version": "1.5.0",
            "_model_name": "HBoxModel",
            "_view_count": null,
            "_view_module": "@jupyter-widgets/controls",
            "_view_module_version": "1.5.0",
            "_view_name": "HBoxView",
            "box_style": "",
            "children": [
              "IPY_MODEL_f9acb99180bc4be0a8bdd3fcb7a98372",
              "IPY_MODEL_8f92d9484b15486f9b3cd12f8ef32c69",
              "IPY_MODEL_b2ce9dc5e5fa49bd93ff1a7fa54c490c"
            ],
            "layout": "IPY_MODEL_a250d4eb4bd84390ab6831b500587b19"
          }
        },
        "f9acb99180bc4be0a8bdd3fcb7a98372": {
          "model_module": "@jupyter-widgets/controls",
          "model_name": "HTMLModel",
          "model_module_version": "1.5.0",
          "state": {
            "_dom_classes": [],
            "_model_module": "@jupyter-widgets/controls",
            "_model_module_version": "1.5.0",
            "_model_name": "HTMLModel",
            "_view_count": null,
            "_view_module": "@jupyter-widgets/controls",
            "_view_module_version": "1.5.0",
            "_view_name": "HTMLView",
            "description": "",
            "description_tooltip": null,
            "layout": "IPY_MODEL_516cde599e3e488ab14b724ffed647e4",
            "placeholder": "​",
            "style": "IPY_MODEL_7ef0a3154a1440d9990ceb3eea8e3c23",
            "value": "100%"
          }
        },
        "8f92d9484b15486f9b3cd12f8ef32c69": {
          "model_module": "@jupyter-widgets/controls",
          "model_name": "FloatProgressModel",
          "model_module_version": "1.5.0",
          "state": {
            "_dom_classes": [],
            "_model_module": "@jupyter-widgets/controls",
            "_model_module_version": "1.5.0",
            "_model_name": "FloatProgressModel",
            "_view_count": null,
            "_view_module": "@jupyter-widgets/controls",
            "_view_module_version": "1.5.0",
            "_view_name": "ProgressView",
            "bar_style": "success",
            "description": "",
            "description_tooltip": null,
            "layout": "IPY_MODEL_edd3bf46b9e4425b90ee106fa11a3201",
            "max": 4542,
            "min": 0,
            "orientation": "horizontal",
            "style": "IPY_MODEL_69b2830e9b574f0ea6f82dc08eafa752",
            "value": 4542
          }
        },
        "b2ce9dc5e5fa49bd93ff1a7fa54c490c": {
          "model_module": "@jupyter-widgets/controls",
          "model_name": "HTMLModel",
          "model_module_version": "1.5.0",
          "state": {
            "_dom_classes": [],
            "_model_module": "@jupyter-widgets/controls",
            "_model_module_version": "1.5.0",
            "_model_name": "HTMLModel",
            "_view_count": null,
            "_view_module": "@jupyter-widgets/controls",
            "_view_module_version": "1.5.0",
            "_view_name": "HTMLView",
            "description": "",
            "description_tooltip": null,
            "layout": "IPY_MODEL_94dbe89287da4953bfa55fdd07b88c4c",
            "placeholder": "​",
            "style": "IPY_MODEL_ced54019d01047959b0ee9cbe9c3a1bc",
            "value": " 4542/4542 [00:00&lt;00:00, 222420.39it/s]"
          }
        },
        "a250d4eb4bd84390ab6831b500587b19": {
          "model_module": "@jupyter-widgets/base",
          "model_name": "LayoutModel",
          "model_module_version": "1.2.0",
          "state": {
            "_model_module": "@jupyter-widgets/base",
            "_model_module_version": "1.2.0",
            "_model_name": "LayoutModel",
            "_view_count": null,
            "_view_module": "@jupyter-widgets/base",
            "_view_module_version": "1.2.0",
            "_view_name": "LayoutView",
            "align_content": null,
            "align_items": null,
            "align_self": null,
            "border": null,
            "bottom": null,
            "display": null,
            "flex": null,
            "flex_flow": null,
            "grid_area": null,
            "grid_auto_columns": null,
            "grid_auto_flow": null,
            "grid_auto_rows": null,
            "grid_column": null,
            "grid_gap": null,
            "grid_row": null,
            "grid_template_areas": null,
            "grid_template_columns": null,
            "grid_template_rows": null,
            "height": null,
            "justify_content": null,
            "justify_items": null,
            "left": null,
            "margin": null,
            "max_height": null,
            "max_width": null,
            "min_height": null,
            "min_width": null,
            "object_fit": null,
            "object_position": null,
            "order": null,
            "overflow": null,
            "overflow_x": null,
            "overflow_y": null,
            "padding": null,
            "right": null,
            "top": null,
            "visibility": null,
            "width": null
          }
        },
        "516cde599e3e488ab14b724ffed647e4": {
          "model_module": "@jupyter-widgets/base",
          "model_name": "LayoutModel",
          "model_module_version": "1.2.0",
          "state": {
            "_model_module": "@jupyter-widgets/base",
            "_model_module_version": "1.2.0",
            "_model_name": "LayoutModel",
            "_view_count": null,
            "_view_module": "@jupyter-widgets/base",
            "_view_module_version": "1.2.0",
            "_view_name": "LayoutView",
            "align_content": null,
            "align_items": null,
            "align_self": null,
            "border": null,
            "bottom": null,
            "display": null,
            "flex": null,
            "flex_flow": null,
            "grid_area": null,
            "grid_auto_columns": null,
            "grid_auto_flow": null,
            "grid_auto_rows": null,
            "grid_column": null,
            "grid_gap": null,
            "grid_row": null,
            "grid_template_areas": null,
            "grid_template_columns": null,
            "grid_template_rows": null,
            "height": null,
            "justify_content": null,
            "justify_items": null,
            "left": null,
            "margin": null,
            "max_height": null,
            "max_width": null,
            "min_height": null,
            "min_width": null,
            "object_fit": null,
            "object_position": null,
            "order": null,
            "overflow": null,
            "overflow_x": null,
            "overflow_y": null,
            "padding": null,
            "right": null,
            "top": null,
            "visibility": null,
            "width": null
          }
        },
        "7ef0a3154a1440d9990ceb3eea8e3c23": {
          "model_module": "@jupyter-widgets/controls",
          "model_name": "DescriptionStyleModel",
          "model_module_version": "1.5.0",
          "state": {
            "_model_module": "@jupyter-widgets/controls",
            "_model_module_version": "1.5.0",
            "_model_name": "DescriptionStyleModel",
            "_view_count": null,
            "_view_module": "@jupyter-widgets/base",
            "_view_module_version": "1.2.0",
            "_view_name": "StyleView",
            "description_width": ""
          }
        },
        "edd3bf46b9e4425b90ee106fa11a3201": {
          "model_module": "@jupyter-widgets/base",
          "model_name": "LayoutModel",
          "model_module_version": "1.2.0",
          "state": {
            "_model_module": "@jupyter-widgets/base",
            "_model_module_version": "1.2.0",
            "_model_name": "LayoutModel",
            "_view_count": null,
            "_view_module": "@jupyter-widgets/base",
            "_view_module_version": "1.2.0",
            "_view_name": "LayoutView",
            "align_content": null,
            "align_items": null,
            "align_self": null,
            "border": null,
            "bottom": null,
            "display": null,
            "flex": null,
            "flex_flow": null,
            "grid_area": null,
            "grid_auto_columns": null,
            "grid_auto_flow": null,
            "grid_auto_rows": null,
            "grid_column": null,
            "grid_gap": null,
            "grid_row": null,
            "grid_template_areas": null,
            "grid_template_columns": null,
            "grid_template_rows": null,
            "height": null,
            "justify_content": null,
            "justify_items": null,
            "left": null,
            "margin": null,
            "max_height": null,
            "max_width": null,
            "min_height": null,
            "min_width": null,
            "object_fit": null,
            "object_position": null,
            "order": null,
            "overflow": null,
            "overflow_x": null,
            "overflow_y": null,
            "padding": null,
            "right": null,
            "top": null,
            "visibility": null,
            "width": null
          }
        },
        "69b2830e9b574f0ea6f82dc08eafa752": {
          "model_module": "@jupyter-widgets/controls",
          "model_name": "ProgressStyleModel",
          "model_module_version": "1.5.0",
          "state": {
            "_model_module": "@jupyter-widgets/controls",
            "_model_module_version": "1.5.0",
            "_model_name": "ProgressStyleModel",
            "_view_count": null,
            "_view_module": "@jupyter-widgets/base",
            "_view_module_version": "1.2.0",
            "_view_name": "StyleView",
            "bar_color": null,
            "description_width": ""
          }
        },
        "94dbe89287da4953bfa55fdd07b88c4c": {
          "model_module": "@jupyter-widgets/base",
          "model_name": "LayoutModel",
          "model_module_version": "1.2.0",
          "state": {
            "_model_module": "@jupyter-widgets/base",
            "_model_module_version": "1.2.0",
            "_model_name": "LayoutModel",
            "_view_count": null,
            "_view_module": "@jupyter-widgets/base",
            "_view_module_version": "1.2.0",
            "_view_name": "LayoutView",
            "align_content": null,
            "align_items": null,
            "align_self": null,
            "border": null,
            "bottom": null,
            "display": null,
            "flex": null,
            "flex_flow": null,
            "grid_area": null,
            "grid_auto_columns": null,
            "grid_auto_flow": null,
            "grid_auto_rows": null,
            "grid_column": null,
            "grid_gap": null,
            "grid_row": null,
            "grid_template_areas": null,
            "grid_template_columns": null,
            "grid_template_rows": null,
            "height": null,
            "justify_content": null,
            "justify_items": null,
            "left": null,
            "margin": null,
            "max_height": null,
            "max_width": null,
            "min_height": null,
            "min_width": null,
            "object_fit": null,
            "object_position": null,
            "order": null,
            "overflow": null,
            "overflow_x": null,
            "overflow_y": null,
            "padding": null,
            "right": null,
            "top": null,
            "visibility": null,
            "width": null
          }
        },
        "ced54019d01047959b0ee9cbe9c3a1bc": {
          "model_module": "@jupyter-widgets/controls",
          "model_name": "DescriptionStyleModel",
          "model_module_version": "1.5.0",
          "state": {
            "_model_module": "@jupyter-widgets/controls",
            "_model_module_version": "1.5.0",
            "_model_name": "DescriptionStyleModel",
            "_view_count": null,
            "_view_module": "@jupyter-widgets/base",
            "_view_module_version": "1.2.0",
            "_view_name": "StyleView",
            "description_width": ""
          }
        }
      }
    }
  },
  "cells": [
    {
      "cell_type": "code",
      "execution_count": 3,
      "metadata": {
        "id": "SRe4Hj826yWP"
      },
      "outputs": [],
      "source": [
        "# 1010 패턴"
      ]
    },
    {
      "cell_type": "code",
      "source": [
        "import torch\n",
        "import torch.nn as nn\n",
        "import pandas as pd\n",
        "import matplotlib.pyplot as plt"
      ],
      "metadata": {
        "id": "_3zfSu8F-qs0"
      },
      "execution_count": 4,
      "outputs": []
    },
    {
      "cell_type": "code",
      "source": [
        "# 1010 패턴을 이용해서 데이터를 생성하는 함수\n",
        "def generate_real():\n",
        "  return torch.FloatTensor([1,0,1,0])"
      ],
      "metadata": {
        "id": "V7uBn9xe-2cK"
      },
      "execution_count": 5,
      "outputs": []
    },
    {
      "cell_type": "code",
      "source": [
        "generate_real()"
      ],
      "metadata": {
        "colab": {
          "base_uri": "https://localhost:8080/"
        },
        "id": "LDqVEpEU_Ibh",
        "outputId": "cd7c061e-1807-4000-fbd8-9fb9d859e669"
      },
      "execution_count": 6,
      "outputs": [
        {
          "output_type": "execute_result",
          "data": {
            "text/plain": [
              "tensor([1., 0., 1., 0.])"
            ]
          },
          "metadata": {},
          "execution_count": 6
        }
      ]
    },
    {
      "cell_type": "code",
      "source": [
        "import random"
      ],
      "metadata": {
        "id": "YN9rZVU4_Jf6"
      },
      "execution_count": 7,
      "outputs": []
    },
    {
      "cell_type": "code",
      "source": [
        "# 데이터 생성\n",
        "def generate_real():\n",
        "  real_data = torch.FloatTensor([\n",
        "   random.uniform(0.8,1.0),\n",
        "   random.uniform(0.0,0.2),   \n",
        "   random.uniform(0.8,1.0),\n",
        "   random.uniform(0.0,0.2)\n",
        "  ])\n",
        "  return real_data\n",
        "\n",
        "generate_real()  "
      ],
      "metadata": {
        "colab": {
          "base_uri": "https://localhost:8080/"
        },
        "id": "h_zU0S4f_TuJ",
        "outputId": "b1e45239-737c-4cea-9625-620fb0af24c4"
      },
      "execution_count": 8,
      "outputs": [
        {
          "output_type": "execute_result",
          "data": {
            "text/plain": [
              "tensor([0.8957, 0.1118, 0.8357, 0.0250])"
            ]
          },
          "metadata": {},
          "execution_count": 8
        }
      ]
    },
    {
      "cell_type": "code",
      "source": [
        "# 판별기\n",
        "class Discriminator(nn.Module):\n",
        "  # 초기화\n",
        "  def __init__(self) -> None:\n",
        "    super().__init__()\n",
        "    self.model = nn.Sequential(\n",
        "        nn.Linear(4,3),\n",
        "        nn.Sigmoid(),\n",
        "        nn.Linear(3,1),\n",
        "        nn.Sigmoid()\n",
        "    )\n",
        "    # 손실함수 지정\n",
        "    self.loss_function = nn.MSELoss()\n",
        "    # 옵티마이져 - 스토캐스틱 경사하강법(확율적 경사하강법)\n",
        "    self.optimizer = torch.optim.SGD(self.parameters(), lr= 1e-2)\n",
        "\n",
        "    # 측정을 위한 변수\n",
        "    self.count = 0;\n",
        "    self.progress = [] \n",
        "\n",
        "  def forward(self,inputs):\n",
        "    return self.model(inputs)\n",
        "    \n",
        "  def train(self, inputs, targets):\n",
        "    # 신경망의 출력 계산(예측)\n",
        "    outputs = self.forward(inputs)\n",
        "    # 손실계산\n",
        "    loss = self.loss_function(outputs,targets) \n",
        "\n",
        "    # 10회마다 오차를 저장\n",
        "    self.count += 1;\n",
        "    if self.count % 10 == 0:\n",
        "      print(f\"count = {self.count}\")      \n",
        "      self.progress.append(loss.detach().numpy() )\n",
        "    \n",
        "    # 기울기를 초기화하고 역전파후 가중치 갱신\n",
        "    self.optimizer.zero_grad()\n",
        "    loss.backward()\n",
        "    self.optimizer.step()    \n",
        "\n",
        "  # 누적된 손실을 시각화\n",
        "  def plot_progress(self):\n",
        "    # progress = self.progress.detach().numpy()\n",
        "    df = pd.DataFrame(self.progress, columns=['loss'])\n",
        "    df.plot(ylim=(0,1.0), figsize=(16,8), alpha=0.1, marker = '.', yticks=(0,0.25,0.5),grid=True )"
      ],
      "metadata": {
        "id": "-g5V7ZKK_gt5"
      },
      "execution_count": 9,
      "outputs": []
    },
    {
      "cell_type": "code",
      "source": [
        "# 판별기 테스트 - 생성기 만들기전에 제대로 판별하는지 확인\n",
        "# 노이즈 패턴 만들기\n",
        "def generate_random(size):\n",
        "  return torch.rand(size)\n"
      ],
      "metadata": {
        "id": "VY6Go_bsEJyb"
      },
      "execution_count": 10,
      "outputs": []
    },
    {
      "cell_type": "code",
      "source": [
        "temp = pd.DataFrame({'A': torch.rand(4),\n",
        "                    'B': torch.rand(4),\n",
        "                     'C': torch.rand(4)},\n",
        "                    index=[1, 2, 3, 4])\n",
        "temp.plot()"
      ],
      "metadata": {
        "colab": {
          "base_uri": "https://localhost:8080/",
          "height": 284
        },
        "id": "8RSAYYdPE3jU",
        "outputId": "7662bf00-8a7c-4d70-900b-357b3fa08d1b"
      },
      "execution_count": 11,
      "outputs": [
        {
          "output_type": "execute_result",
          "data": {
            "text/plain": [
              "<matplotlib.axes._subplots.AxesSubplot at 0x7fa068eb2040>"
            ]
          },
          "metadata": {},
          "execution_count": 11
        },
        {
          "output_type": "display_data",
          "data": {
            "text/plain": [
              "<Figure size 432x288 with 1 Axes>"
            ],
            "image/png": "[encoded data removed]"
          },
          "metadata": {
            "needs_background": "light"
          }
        }
      ]
    },
    {
      "cell_type": "code",
      "source": [
        "# 1010 패턴데이터는 진짜.... 출력은 1\n",
        "# 노이즈 패턴 가짜           출력은 0\n",
        "# 10000번 훈련\n",
        "D = Discriminator()\n",
        "for i in range(10000):\n",
        "  # 실제데이터\n",
        "  D.train(generate_real(), torch.FloatTensor([1.0]))\n",
        "  # 생성된 데이터\n",
        "  D.train(generate_random(4), torch.FloatTensor([0.0]))"
      ],
      "metadata": {
        "id": "0NJYGYIrF8Cp"
      },
      "execution_count": null,
      "outputs": []
    },
    {
      "cell_type": "code",
      "source": [
        "D.plot_progress()"
      ],
      "metadata": {
        "colab": {
          "base_uri": "https://localhost:8080/",
          "height": 483
        },
        "id": "FkumgWcc96QH",
        "outputId": "72b3212e-4907-4f31-c5a4-c3b611277dc4"
      },
      "execution_count": 13,
      "outputs": [
        {
          "output_type": "display_data",
          "data": {
            "text/plain": [
              "<Figure size 1152x576 with 1 Axes>"
            ],
            "image/png": "[encoded data removed]"
          },
          "metadata": {
            "needs_background": "light"
          }
        }
      ]
    },
    {
      "cell_type": "code",
      "source": [
        "D.forward(generate_real()).item(), D.forward(generate_random(4)).item()"
      ],
      "metadata": {
        "id": "CSLqrkFNBQWu",
        "colab": {
          "base_uri": "https://localhost:8080/"
        },
        "outputId": "bdd4516b-45b8-49cf-f8d4-829cbf992c14"
      },
      "execution_count": 14,
      "outputs": [
        {
          "output_type": "execute_result",
          "data": {
            "text/plain": [
              "(0.8262766003608704, 0.04812992364168167)"
            ]
          },
          "metadata": {},
          "execution_count": 14
        }
      ]
    },
    {
      "cell_type": "code",
      "source": [
        "# 생성기\n",
        "class Generator(nn.Module):\n",
        "  # 초기화\n",
        "  def __init__(self) -> None:\n",
        "    super().__init__()\n",
        "    self.model = nn.Sequential(\n",
        "        nn.Linear(1,3),\n",
        "        nn.Sigmoid(),\n",
        "        nn.Linear(3,4),\n",
        "        nn.Sigmoid()\n",
        "    )\n",
        "    # 손실함수 지정\n",
        "    self.loss_function = nn.MSELoss()\n",
        "    # 옵티마이져 - 스토캐스틱 경사하강법(확율적 경사하강법)\n",
        "    self.optimizer = torch.optim.SGD(self.parameters(), lr= 1e-2)\n",
        "\n",
        "    # 측정을 위한 변수\n",
        "    self.count = 0;\n",
        "    self.progress = [] \n",
        "\n",
        "  def forward(self,inputs):\n",
        "    return self.model(inputs)\n",
        "\n",
        "  def train(self, D,inputs, targets):\n",
        "    # 신경망의 출력 계산(예측)\n",
        "    outputs = self.forward(inputs)\n",
        "    # 판별기로 전달\n",
        "    outputs = D.forward(outputs)\n",
        "\n",
        "    # 손실계산\n",
        "    loss = self.loss_function(outputs,targets) \n",
        "\n",
        "    # 10회마다 오차를 저장\n",
        "    self.count += 1;\n",
        "    if self.count % 10 == 0:      \n",
        "      self.progress.append(loss.detach().numpy() )\n",
        "    \n",
        "    # 기울기를 초기화하고 역전파후 가중치 갱신\n",
        "    self.optimizer.zero_grad()\n",
        "    loss.backward()\n",
        "    self.optimizer.step()      \n",
        "  # 누적된 손실을 시각화\n",
        "  def plot_progress(self):\n",
        "    # progress = self.progress.detach().numpy()\n",
        "    df = pd.DataFrame(self.progress, columns=['loss'])\n",
        "    df.plot(ylim=(0,1.0), figsize=(16,8), alpha=0.1, marker = '.', yticks=(0,0.25,0.5),grid=True )    "
      ],
      "metadata": {
        "id": "yOF7EruaI2XC"
      },
      "execution_count": 15,
      "outputs": []
    },
    {
      "cell_type": "code",
      "source": [
        "G = Generator()\n",
        "G.forward(torch.FloatTensor([0.5]))"
      ],
      "metadata": {
        "colab": {
          "base_uri": "https://localhost:8080/"
        },
        "id": "wk2TJil0MUIP",
        "outputId": "a17f8ba5-a7a6-495a-903f-03965dd1099e"
      },
      "execution_count": 16,
      "outputs": [
        {
          "output_type": "execute_result",
          "data": {
            "text/plain": [
              "tensor([0.5107, 0.4407, 0.5035, 0.6600], grad_fn=<SigmoidBackward0>)"
            ]
          },
          "metadata": {},
          "execution_count": 16
        }
      ]
    },
    {
      "cell_type": "code",
      "source": [
        "D = Discriminator()\n",
        "G = Generator()\n",
        "for i in range(10000):\n",
        "  # 참에대한 판별기 훈련\n",
        "  D.train(generate_real(), torch.FloatTensor([1.0]))\n",
        "\n",
        "  # 거짓dp 대한 판별기 훈련\n",
        "  # 이때 G의 기울기가 계산되면 안된다. detach()이용\n",
        "  D.train( G.forward(torch.FloatTensor([0.5])).detach(), torch.FloatTensor([0.0] ))\n",
        "  # 생성기 훈련\n",
        "  G.train(D,torch.FloatTensor([0.5]), torch.FloatTensor([1.0]))\n"
      ],
      "metadata": {
        "id": "BgCSUM6tMje_"
      },
      "execution_count": null,
      "outputs": []
    },
    {
      "cell_type": "code",
      "source": [
        "D.plot_progress()"
      ],
      "metadata": {
        "colab": {
          "base_uri": "https://localhost:8080/",
          "height": 483
        },
        "id": "Xr0nuxjMN70o",
        "outputId": "f8c3aaa0-7a34-4a72-83d6-59c12a861dbe"
      },
      "execution_count": 18,
      "outputs": [
        {
          "output_type": "display_data",
          "data": {
            "text/plain": [
              "<Figure size 1152x576 with 1 Axes>"
            ],
            "image/png": "[encoded data removed]"
          },
          "metadata": {
            "needs_background": "light"
          }
        }
      ]
    },
    {
      "cell_type": "code",
      "source": [
        "G.plot_progress()"
      ],
      "metadata": {
        "colab": {
          "base_uri": "https://localhost:8080/",
          "height": 483
        },
        "id": "hVfF58I1OSwf",
        "outputId": "4e12e3fa-1a55-4c51-b0ed-bce16686de67"
      },
      "execution_count": 19,
      "outputs": [
        {
          "output_type": "display_data",
          "data": {
            "text/plain": [
              "<Figure size 1152x576 with 1 Axes>"
            ],
            "image/png": "[encoded data removed]"
          },
          "metadata": {
            "needs_background": "light"
          }
        }
      ]
    },
    {
      "cell_type": "code",
      "source": [
        "G.forward(torch.FloatTensor([0.5]))"
      ],
      "metadata": {
        "colab": {
          "base_uri": "https://localhost:8080/"
        },
        "id": "eR7DhQKJO37F",
        "outputId": "ea6fa0a7-6fd7-419e-d9b6-efac7cc27241"
      },
      "execution_count": 20,
      "outputs": [
        {
          "output_type": "execute_result",
          "data": {
            "text/plain": [
              "tensor([0.9312, 0.0974, 0.9113, 0.0739], grad_fn=<SigmoidBackward0>)"
            ]
          },
          "metadata": {},
          "execution_count": 20
        }
      ]
    },
    {
      "cell_type": "markdown",
      "source": [
        "MNIST 판별기"
      ],
      "metadata": {
        "id": "D0zvlglvQqnj"
      }
    },
    {
      "cell_type": "code",
      "source": [
        "from torch.utils.data import Dataset\n",
        "from torchvision.datasets import MNIST\n",
        "from torchvision import transforms"
      ],
      "metadata": {
        "id": "g4b28OSeQoxU"
      },
      "execution_count": 24,
      "outputs": []
    },
    {
      "cell_type": "code",
      "source": [
        "# 판별기\n",
        "class Discriminator(nn.Module):\n",
        "  # 초기화\n",
        "  def __init__(self) -> None:\n",
        "    super().__init__()\n",
        "    self.model = nn.Sequential(\n",
        "        nn.Linear(28*28,200),\n",
        "        nn.Sigmoid(),\n",
        "        nn.Linear(200,1),\n",
        "        nn.Sigmoid()\n",
        "    )\n",
        "    # 손실함수 지정\n",
        "    self.loss_function = nn.MSELoss()\n",
        "    # 옵티마이져 - 스토캐스틱 경사하강법(확율적 경사하강법)\n",
        "    self.optimizer = torch.optim.SGD(self.parameters(), lr= 1e-2)\n",
        "\n",
        "    # 측정을 위한 변수\n",
        "    self.count = 0;\n",
        "    self.progress = [] \n",
        "\n",
        "  def forward(self,inputs):\n",
        "    return self.model(inputs)\n",
        "    \n",
        "  def train(self, inputs, targets):\n",
        "    # 신경망의 출력 계산(예측)\n",
        "    outputs = self.forward(inputs)\n",
        "    # 손실계산\n",
        "    loss = self.loss_function(outputs,targets) \n",
        "\n",
        "    # 10회마다 오차를 저장\n",
        "    self.count += 1;\n",
        "    if self.count % 10 == 0:      \n",
        "      self.progress.append(loss.detach().numpy() )\n",
        "    \n",
        "    # 기울기를 초기화하고 역전파후 가중치 갱신\n",
        "    self.optimizer.zero_grad()\n",
        "    loss.backward()\n",
        "    self.optimizer.step()    \n",
        "\n",
        "  # 누적된 손실을 시각화\n",
        "  def plot_progress(self):\n",
        "    # progress = self.progress.detach().numpy()\n",
        "    df = pd.DataFrame(self.progress, columns=['loss'])\n",
        "    df.plot(ylim=(0,1.0), figsize=(16,8), alpha=0.1, marker = '.', yticks=(0,0.25,0.5),grid=True )"
      ],
      "metadata": {
        "id": "tXSYBmBLQrpK"
      },
      "execution_count": 41,
      "outputs": []
    },
    {
      "cell_type": "code",
      "source": [
        "# 생성기\n",
        "# 판별기가 실제 이미지와 임의의 노이즈간의 구별을 할수 있는지 확인\n",
        "# 다운로드 받을 경로\n",
        "root_dir = './mnist_data'\n",
        "# 변환방법\n",
        "mnist_transform = transforms.Compose([\n",
        "  transforms.ToTensor(),  \n",
        "  transforms.Normalize((0.5,),(1.0))    \n",
        "])\n",
        "\n",
        "# 데이터셋 - 실제\n",
        "train_dataset = MNIST(root_dir,transform= mnist_transform, train=True, download=True)\n",
        "# 데이터 로드 - 배치단위로 묶음"
      ],
      "metadata": {
        "colab": {
          "base_uri": "https://localhost:8080/",
          "height": 444,
          "referenced_widgets": [
            "0a2a2a479aad461ca681c0e973dc6e5b",
            "4ab027544b9b46b187a13fd72f279834",
            "9e3047014cc84025a30e10db73ebe601",
            "4f75adedcc254cd292ba08f1220637b5",
            "398de589f02a46e48859a2ecc9d27ee6",
            "0371defbfd084347b780629d20f8310c",
            "253b2a8479924a72b68699c19ac09cad",
            "b48e12ac81a74acfaa872fe7093b4d3c",
            "207bb2717ddf4d82977c88e1d05a3d7f",
            "98e9bee128b84254a112e28d4c1ecdc3",
            "3c9c75dba28a45d29d46755f02428541",
            "78857fe5862f49f3a06d1ee21f3598be",
            "99378969a7774f0e9584a4166d7e342b",
            "ddd61c65989c43898f456c0baf034855",
            "e3ca44f34ede407cbcfbec4b44a6b8d1",
            "dc483661577d465793f450008708a964",
            "b3681df3daa342fc8d08647c9d07c065",
            "44832536c7814e49a362719986d09701",
            "c9290df5b9b34d189ae06d96843770d5",
            "5071e2f7f1924ea1a56adb8c57875891",
            "9149674cc9694a22a2b2b17c592a530d",
            "066a50f6d0ec484d9ee39a8e7aa7d2ba",
            "7e16f8b53b0b4b6dba8c10ecda87908b",
            "c3d0443bdf094d22adb7bc93ba5d527b",
            "3b25b4cdd46c4ff8b852779a4d4a5ed8",
            "97bab055ef3b4e44b72bf7e3d7899851",
            "394097c163724d9fb267326a592509f5",
            "7afe9b5856844ea8b42b61f076d96755",
            "04834be0c8f54565b6f03d4e0bc905df",
            "bf9071898d6840d0ae1e529b795dc750",
            "aef04f8d62d6486281f6d56ab575f8d7",
            "7426df69cbb14d91b1d92dd7791f4c48",
            "2931e678c30941ef8acf117f9c7da687",
            "b3727a05ddb0414ab5a4212f6144c096",
            "f9acb99180bc4be0a8bdd3fcb7a98372",
            "8f92d9484b15486f9b3cd12f8ef32c69",
            "b2ce9dc5e5fa49bd93ff1a7fa54c490c",
            "a250d4eb4bd84390ab6831b500587b19",
            "516cde599e3e488ab14b724ffed647e4",
            "7ef0a3154a1440d9990ceb3eea8e3c23",
            "edd3bf46b9e4425b90ee106fa11a3201",
            "69b2830e9b574f0ea6f82dc08eafa752",
            "94dbe89287da4953bfa55fdd07b88c4c",
            "ced54019d01047959b0ee9cbe9c3a1bc"
          ]
        },
        "id": "3R5wY1X0Rv9c",
        "outputId": "04baf2eb-cbce-4981-ff42-349eb06a02c7"
      },
      "execution_count": 25,
      "outputs": [
        {
          "output_type": "stream",
          "name": "stdout",
          "text": [
            "Downloading http://yann.lecun.com/exdb/mnist/train-images-idx3-ubyte.gz\n",
            "Downloading http://yann.lecun.com/exdb/mnist/train-images-idx3-ubyte.gz to ./mnist_data/MNIST/raw/train-images-idx3-ubyte.gz\n"
          ]
        },
        {
          "output_type": "display_data",
          "data": {
            "text/plain": [
              "  0%|          | 0/9912422 [00:00<?, ?it/s]"
            ],
            "application/vnd.jupyter.widget-view+json": {
              "version_major": 2,
              "version_minor": 0,
              "model_id": "0a2a2a479aad461ca681c0e973dc6e5b"
            }
          },
          "metadata": {}
        },
        {
          "output_type": "stream",
          "name": "stdout",
          "text": [
            "Extracting ./mnist_data/MNIST/raw/train-images-idx3-ubyte.gz to ./mnist_data/MNIST/raw\n",
            "\n",
            "Downloading http://yann.lecun.com/exdb/mnist/train-labels-idx1-ubyte.gz\n",
            "Downloading http://yann.lecun.com/exdb/mnist/train-labels-idx1-ubyte.gz to ./mnist_data/MNIST/raw/train-labels-idx1-ubyte.gz\n"
          ]
        },
        {
          "output_type": "display_data",
          "data": {
            "text/plain": [
              "  0%|          | 0/28881 [00:00<?, ?it/s]"
            ],
            "application/vnd.jupyter.widget-view+json": {
              "version_major": 2,
              "version_minor": 0,
              "model_id": "78857fe5862f49f3a06d1ee21f3598be"
            }
          },
          "metadata": {}
        },
        {
          "output_type": "stream",
          "name": "stdout",
          "text": [
            "Extracting ./mnist_data/MNIST/raw/train-labels-idx1-ubyte.gz to ./mnist_data/MNIST/raw\n",
            "\n",
            "Downloading http://yann.lecun.com/exdb/mnist/t10k-images-idx3-ubyte.gz\n",
            "Downloading http://yann.lecun.com/exdb/mnist/t10k-images-idx3-ubyte.gz to ./mnist_data/MNIST/raw/t10k-images-idx3-ubyte.gz\n"
          ]
        },
        {
          "output_type": "display_data",
          "data": {
            "text/plain": [
              "  0%|          | 0/1648877 [00:00<?, ?it/s]"
            ],
            "application/vnd.jupyter.widget-view+json": {
              "version_major": 2,
              "version_minor": 0,
              "model_id": "7e16f8b53b0b4b6dba8c10ecda87908b"
            }
          },
          "metadata": {}
        },
        {
          "output_type": "stream",
          "name": "stdout",
          "text": [
            "Extracting ./mnist_data/MNIST/raw/t10k-images-idx3-ubyte.gz to ./mnist_data/MNIST/raw\n",
            "\n",
            "Downloading http://yann.lecun.com/exdb/mnist/t10k-labels-idx1-ubyte.gz\n",
            "Downloading http://yann.lecun.com/exdb/mnist/t10k-labels-idx1-ubyte.gz to ./mnist_data/MNIST/raw/t10k-labels-idx1-ubyte.gz\n"
          ]
        },
        {
          "output_type": "display_data",
          "data": {
            "text/plain": [
              "  0%|          | 0/4542 [00:00<?, ?it/s]"
            ],
            "application/vnd.jupyter.widget-view+json": {
              "version_major": 2,
              "version_minor": 0,
              "model_id": "b3727a05ddb0414ab5a4212f6144c096"
            }
          },
          "metadata": {}
        },
        {
          "output_type": "stream",
          "name": "stdout",
          "text": [
            "Extracting ./mnist_data/MNIST/raw/t10k-labels-idx1-ubyte.gz to ./mnist_data/MNIST/raw\n",
            "\n"
          ]
        }
      ]
    },
    {
      "cell_type": "code",
      "source": [
        "a,b = next(iter(train_dataset))\n",
        "a.shape, type(b)"
      ],
      "metadata": {
        "colab": {
          "base_uri": "https://localhost:8080/"
        },
        "id": "Evm7vC_QURAG",
        "outputId": "bfd22c13-a9e7-4acb-cd8f-5c10a8bc99a5"
      },
      "execution_count": 33,
      "outputs": [
        {
          "output_type": "execute_result",
          "data": {
            "text/plain": [
              "(torch.Size([1, 28, 28]), int)"
            ]
          },
          "metadata": {},
          "execution_count": 33
        }
      ]
    },
    {
      "cell_type": "code",
      "source": [
        "D = Discriminator()"
      ],
      "metadata": {
        "id": "sIHTVnC4UXAq"
      },
      "execution_count": 42,
      "outputs": []
    },
    {
      "cell_type": "code",
      "source": [
        "import torch\n",
        "from tqdm import tqdm\n",
        "for image, target in tqdm(train_dataset):\n",
        "  # 실제 데이터\n",
        "  image = image.view(1,28*28)  \n",
        "  D.train(image,torch.FloatTensor([1.0]))\n",
        "  # 가짜 노이즈 데이터(생성된 데이터)\n",
        "  D.train(generate_random(28*28),torch.FloatTensor([0.0]))"
      ],
      "metadata": {
        "colab": {
          "base_uri": "https://localhost:8080/"
        },
        "id": "1Do1V1z3Uswp",
        "outputId": "5c1b6e53-8dff-4e4e-ccb6-da2f13199a20"
      },
      "execution_count": 43,
      "outputs": [
        {
          "output_type": "stream",
          "name": "stderr",
          "text": [
            "100%|██████████| 60000/60000 [01:58<00:00, 504.37it/s]\n"
          ]
        }
      ]
    },
    {
      "cell_type": "code",
      "source": [
        "D.plot_progress()"
      ],
      "metadata": {
        "colab": {
          "base_uri": "https://localhost:8080/",
          "height": 483
        },
        "id": "U34DxxI1VuJS",
        "outputId": "cfa5e785-b4b6-47b0-f736-67cd868a3efa"
      },
      "execution_count": 44,
      "outputs": [
        {
          "output_type": "display_data",
          "data": {
            "text/plain": [
              "<Figure size 1152x576 with 1 Axes>"
            ],
            "image/png": "[encoded data removed]"
          },
          "metadata": {
            "needs_background": "light"
          }
        }
      ]
    },
    {
      "cell_type": "code",
      "source": [
        "# 임의데이터\n",
        "val_dataset = MNIST(root_dir,transform= mnist_transform, train=False, download=True)"
      ],
      "metadata": {
        "id": "vVrfgAIWXOcy"
      },
      "execution_count": 45,
      "outputs": []
    },
    {
      "cell_type": "code",
      "source": [
        "rnd_ist = random.sample(range(len(val_dataset)),10)"
      ],
      "metadata": {
        "id": "C3gbBXpFYzau"
      },
      "execution_count": 61,
      "outputs": []
    },
    {
      "cell_type": "code",
      "source": [
        "# 판별기 성능 테스트\n",
        "for i in rnd_ist:\n",
        "  image, target = val_dataset[i]\n",
        "  image.shape, target\n",
        "  image = image.view(1,28*28)\n",
        "  print(D.forward(image), D.forward(generate_random(28*28)), target)"
      ],
      "metadata": {
        "colab": {
          "base_uri": "https://localhost:8080/"
        },
        "id": "V3sAVRvzXjZq",
        "outputId": "a7aecf59-15a5-495f-bbc5-86a40e282197"
      },
      "execution_count": 62,
      "outputs": [
        {
          "output_type": "stream",
          "name": "stdout",
          "text": [
            "tensor([[0.9984]], grad_fn=<SigmoidBackward0>) tensor([0.0037], grad_fn=<SigmoidBackward0>) 1\n",
            "tensor([[0.9958]], grad_fn=<SigmoidBackward0>) tensor([0.0039], grad_fn=<SigmoidBackward0>) 6\n",
            "tensor([[0.9972]], grad_fn=<SigmoidBackward0>) tensor([0.0036], grad_fn=<SigmoidBackward0>) 0\n",
            "tensor([[0.9975]], grad_fn=<SigmoidBackward0>) tensor([0.0037], grad_fn=<SigmoidBackward0>) 4\n",
            "tensor([[0.9975]], grad_fn=<SigmoidBackward0>) tensor([0.0032], grad_fn=<SigmoidBackward0>) 0\n",
            "tensor([[0.9979]], grad_fn=<SigmoidBackward0>) tensor([0.0035], grad_fn=<SigmoidBackward0>) 1\n",
            "tensor([[0.9981]], grad_fn=<SigmoidBackward0>) tensor([0.0030], grad_fn=<SigmoidBackward0>) 1\n",
            "tensor([[0.9980]], grad_fn=<SigmoidBackward0>) tensor([0.0036], grad_fn=<SigmoidBackward0>) 1\n",
            "tensor([[0.9966]], grad_fn=<SigmoidBackward0>) tensor([0.0034], grad_fn=<SigmoidBackward0>) 6\n",
            "tensor([[0.9931]], grad_fn=<SigmoidBackward0>) tensor([0.0034], grad_fn=<SigmoidBackward0>) 9\n"
          ]
        }
      ]
    },
    {
      "cell_type": "code",
      "source": [
        "# 생성기 : 훈련데이터의 여러 양상을 다양하게 반영하도록 이미지를 생성 \n",
        "# 매훈련마다 임의의 상수를 입력(0.5는 안됨)\n",
        "# 생성기\n",
        "class Generator(nn.Module):\n",
        "  # 초기화\n",
        "  def __init__(self) -> None:\n",
        "    super().__init__()\n",
        "    self.model = nn.Sequential(\n",
        "        nn.Linear(1,200),\n",
        "        nn.Sigmoid(),\n",
        "        nn.Linear(200,28*28),\n",
        "        nn.Sigmoid()\n",
        "    )\n",
        "    # 손실함수 지정\n",
        "    self.loss_function = nn.MSELoss()\n",
        "    # 옵티마이져 - 스토캐스틱 경사하강법(확율적 경사하강법)\n",
        "    self.optimizer = torch.optim.SGD(self.parameters(), lr= 1e-2)\n",
        "\n",
        "    # 측정을 위한 변수\n",
        "    self.count = 0;\n",
        "    self.progress = [] \n",
        "\n",
        "  def forward(self,inputs):\n",
        "    return self.model(inputs)\n",
        "\n",
        "  def train(self, D,inputs, targets):\n",
        "    # 신경망의 출력 계산(예측)\n",
        "    outputs = self.forward(inputs)\n",
        "    # 판별기로 전달\n",
        "    outputs = D.forward(outputs)\n",
        "\n",
        "    # 손실계산\n",
        "    loss = self.loss_function(outputs,targets) \n",
        "\n",
        "    # 10회마다 오차를 저장\n",
        "    self.count += 1;\n",
        "    if self.count % 10 == 0:      \n",
        "      self.progress.append(loss.detach().numpy() )\n",
        "    \n",
        "    # 기울기를 초기화하고 역전파후 가중치 갱신\n",
        "    self.optimizer.zero_grad()\n",
        "    loss.backward()\n",
        "    self.optimizer.step()      \n",
        "  # 누적된 손실을 시각화\n",
        "  def plot_progress(self):\n",
        "    # progress = self.progress.detach().numpy()\n",
        "    df = pd.DataFrame(self.progress, columns=['loss'])\n",
        "    df.plot(ylim=(0,1.0), figsize=(16,8), alpha=0.1, marker = '.', yticks=(0,0.25,0.5),grid=True )    "
      ],
      "metadata": {
        "id": "6kVV802ZYIWe"
      },
      "execution_count": 63,
      "outputs": []
    },
    {
      "cell_type": "code",
      "source": [
        "# 생성기 확인\n",
        "G = Generator()\n",
        "output = G.forward(generate_random(1))\n",
        "# 계산 그래프에 속해있어서 분리\n",
        "img =  output.detach().numpy().reshape(28,28)\n",
        "plt.imshow(img,interpolation=None,cmap = 'Blues')"
      ],
      "metadata": {
        "colab": {
          "base_uri": "https://localhost:8080/",
          "height": 284
        },
        "id": "UawNa8EaazxU",
        "outputId": "a5eb4f66-e8e9-4bb6-e481-6c3be23ee58e"
      },
      "execution_count": 79,
      "outputs": [
        {
          "output_type": "execute_result",
          "data": {
            "text/plain": [
              "<matplotlib.image.AxesImage at 0x7fa05fb237f0>"
            ]
          },
          "metadata": {},
          "execution_count": 79
        },
        {
          "output_type": "display_data",
          "data": {
            "text/plain": [
              "<Figure size 432x288 with 1 Axes>"
            ],
            "image/png": "[encoded data removed]"
          },
          "metadata": {
            "needs_background": "light"
          }
        }
      ]
    },
    {
      "cell_type": "code",
      "source": [
        "# GAN  훈련\n",
        "D = Discriminator()\n",
        "G = Generator()\n",
        "\n",
        "# 판별기 생성기 훈련\n",
        "import torch\n",
        "from tqdm import tqdm\n",
        "for image, target in tqdm(train_dataset):\n",
        "  # 참에 대한 데이터\n",
        "  image = image.view(1,28*28)  \n",
        "  D.train(image,torch.FloatTensor([1.0]))\n",
        "  # 가짜 데이터에 대한 판별기 훈련\n",
        "  D.train(G.forward(generate_random(1)).detach(), torch.FloatTensor([0.0])  ) \n",
        "\n",
        "  # 생성기\n",
        "  G.train(D,generate_random(1), torch.FloatTensor([1.0]))\n"
      ],
      "metadata": {
        "colab": {
          "base_uri": "https://localhost:8080/"
        },
        "id": "TPWOoDQ6dmAg",
        "outputId": "1286fb66-73fe-4f69-bd16-a03c99800baa"
      },
      "execution_count": 68,
      "outputs": [
        {
          "output_type": "stream",
          "name": "stderr",
          "text": [
            "100%|██████████| 60000/60000 [03:26<00:00, 290.59it/s]\n"
          ]
        }
      ]
    },
    {
      "cell_type": "code",
      "source": [
        "D.plot_progress()"
      ],
      "metadata": {
        "colab": {
          "base_uri": "https://localhost:8080/",
          "height": 483
        },
        "id": "18Qw99EjgANk",
        "outputId": "c18cf37e-c55e-4046-d2ea-d2ba1737f9cf"
      },
      "execution_count": 69,
      "outputs": [
        {
          "output_type": "display_data",
          "data": {
            "text/plain": [
              "<Figure size 1152x576 with 1 Axes>"
            ],
            "image/png": "[encoded data removed]"
          },
          "metadata": {
            "needs_background": "light"
          }
        }
      ]
    },
    {
      "cell_type": "code",
      "source": [
        "G.plot_progress()"
      ],
      "metadata": {
        "colab": {
          "base_uri": "https://localhost:8080/",
          "height": 483
        },
        "id": "rcAkDcU0hHVZ",
        "outputId": "945556df-4daa-427c-e2a2-5f9837c1bb60"
      },
      "execution_count": 70,
      "outputs": [
        {
          "output_type": "display_data",
          "data": {
            "text/plain": [
              "<Figure size 1152x576 with 1 Axes>"
            ],
            "image/png": "[encoded data removed]"
          },
          "metadata": {
            "needs_background": "light"
          }
        }
      ]
    },
    {
      "cell_type": "code",
      "source": [
        "plt.figure(figsize = (15,10))\n",
        "for i in range(4):\n",
        "  plt.subplot(2,2,i+1)\n",
        "  output = G.forward(generate_random(1))\n",
        "  # 계산 그래프에 속해있어서 분리\n",
        "  img =  output.detach().numpy().reshape(28,28)\n",
        "  plt.imshow(img,interpolation=None,cmap = 'Blues')\n"
      ],
      "metadata": {
        "colab": {
          "base_uri": "https://localhost:8080/",
          "height": 592
        },
        "id": "Dyt21XZ6hfPB",
        "outputId": "2c7d8def-9b60-49bd-cd3e-77170dee367b"
      },
      "execution_count": 78,
      "outputs": [
        {
          "output_type": "display_data",
          "data": {
            "text/plain": [
              "<Figure size 1080x720 with 4 Axes>"
            ],
            "image/png": "[encoded data removed]"
          },
          "metadata": {
            "needs_background": "light"
          }
        }
      ]
    },
    {
      "cell_type": "code",
      "source": [
        "# 모드 붕괴 : 10개를 다양하게 생성 하지 못하고 한개의 모양으로만 생성, 또는 극히 일부만을 생성하는 현상 \n"
      ],
      "metadata": {
        "id": "UXuXtlGIh6pp"
      },
      "execution_count": null,
      "outputs": []
    },
    {
      "cell_type": "code",
      "source": [
        "# 손실함수를 BCELoss 로 변경하고 활성화 함수를 LeakyReLU()\n",
        "# 신경망에서 나오는 값을 정규화\n",
        "# 판별기\n",
        "class Discriminator(nn.Module):\n",
        "  # 초기화\n",
        "  def __init__(self) -> None:\n",
        "    super().__init__()\n",
        "    self.model = nn.Sequential(\n",
        "        nn.Linear(28*28,200),\n",
        "        nn.LeakyReLU(),\n",
        "        nn.LayerNorm(200),\n",
        "        \n",
        "        nn.Linear(200,1),\n",
        "        nn.Sigmoid()\n",
        "    )\n",
        "    # 손실함수 지정\n",
        "    self.loss_function = nn.BCELoss()\n",
        "    # 옵티마이져 - 스토캐스틱 경사하강법(확율적 경사하강법)\n",
        "    self.optimizer = torch.optim.Adam(self.parameters(), lr= 1e-5)\n",
        "\n",
        "    # 측정을 위한 변수\n",
        "    self.count = 0;\n",
        "    self.progress = [] \n",
        "\n",
        "  def forward(self,inputs):\n",
        "    return self.model(inputs)\n",
        "    \n",
        "  def train(self, inputs, targets):\n",
        "    # 신경망의 출력 계산(예측)\n",
        "    outputs = self.forward(inputs)\n",
        "    # 손실계산\n",
        "    loss = self.loss_function(outputs,targets) \n",
        "\n",
        "    # 10회마다 오차를 저장\n",
        "    self.count += 1;\n",
        "    if self.count % 10 == 0:      \n",
        "      self.progress.append(loss.detach().numpy() )\n",
        "    \n",
        "    # 기울기를 초기화하고 역전파후 가중치 갱신\n",
        "    self.optimizer.zero_grad()\n",
        "    loss.backward()\n",
        "    self.optimizer.step()    \n",
        "\n",
        "  # 누적된 손실을 시각화\n",
        "  def plot_progress(self):\n",
        "    # progress = self.progress.detach().numpy()\n",
        "    df = pd.DataFrame(self.progress, columns=['loss'])\n",
        "    df.plot(ylim=(0,1.0), figsize=(16,8), alpha=0.1, marker = '.', yticks=(0,0.25,0.5),grid=True )"
      ],
      "metadata": {
        "id": "kBRV9M6yjoSP"
      },
      "execution_count": 91,
      "outputs": []
    },
    {
      "cell_type": "code",
      "source": [
        "# 생성기 : 훈련데이터의 여러 양상을 다양하게 반영하도록 이미지를 생성 \n",
        "# 매훈련마다 임의의 상수를 입력(0.5는 안됨)\n",
        "# 생성기\n",
        "class Generator(nn.Module):\n",
        "  # 초기화\n",
        "  def __init__(self) -> None:\n",
        "    super().__init__()\n",
        "    self.model = nn.Sequential(\n",
        "        nn.Linear(1,200),\n",
        "        nn.LeakyReLU(),\n",
        "        nn.LayerNorm(200),\n",
        "\n",
        "        nn.Linear(200,28*28),\n",
        "        nn.Sigmoid()\n",
        "    )\n",
        "    # 손실함수 지정\n",
        "    self.loss_function = nn.BCELoss()\n",
        "    # 옵티마이져 - 스토캐스틱 경사하강법(확율적 경사하강법)\n",
        "    self.optimizer = torch.optim.Adam(self.parameters(), lr= 1e-5)\n",
        "\n",
        "    # 측정을 위한 변수\n",
        "    self.count = 0;\n",
        "    self.progress = [] \n",
        "\n",
        "  def forward(self,inputs):\n",
        "    return self.model(inputs)\n",
        "\n",
        "  def train(self, D,inputs, targets):\n",
        "    # 신경망의 출력 계산(예측)\n",
        "    outputs = self.forward(inputs)\n",
        "    # 판별기로 전달\n",
        "    outputs = D.forward(outputs)\n",
        "\n",
        "    # 손실계산\n",
        "    loss = self.loss_function(outputs,targets) \n",
        "\n",
        "    # 10회마다 오차를 저장\n",
        "    self.count += 1;\n",
        "    if self.count % 10 == 0:      \n",
        "      self.progress.append(loss.detach().numpy() )\n",
        "    \n",
        "    # 기울기를 초기화하고 역전파후 가중치 갱신\n",
        "    self.optimizer.zero_grad()\n",
        "    loss.backward()\n",
        "    self.optimizer.step()      \n",
        "  # 누적된 손실을 시각화\n",
        "  def plot_progress(self):\n",
        "    # progress = self.progress.detach().numpy()\n",
        "    df = pd.DataFrame(self.progress, columns=['loss'])\n",
        "    df.plot(ylim=(0,1.0), figsize=(16,8), alpha=0.1, marker = '.', yticks=(0,0.25,0.5),grid=True )    "
      ],
      "metadata": {
        "id": "SVsSAZ0nlhmB"
      },
      "execution_count": 92,
      "outputs": []
    },
    {
      "cell_type": "code",
      "source": [
        "def generate_random_seed(size):\n",
        "    random_data = torch.randn(size)\n",
        "    return random_data"
      ],
      "metadata": {
        "id": "K2Mr2ys3pOeM"
      },
      "execution_count": 108,
      "outputs": []
    },
    {
      "cell_type": "code",
      "source": [
        "# GAN  훈련\n",
        "D = Discriminator()\n",
        "G = Generator()\n",
        "\n",
        "# 판별기 생성기 훈련\n",
        "import torch\n",
        "from tqdm import tqdm\n",
        "for image, target in tqdm(train_dataset):    \n",
        "  # 참에 대한 데이터\n",
        "  image = image.view(1,28*28)     \n",
        "  D.train(image,torch.FloatTensor([1.0]).reshape(1,1))  \n",
        "\n",
        "  # 가짜 데이터에 대한 판별기 훈련  \n",
        "  D.train(G.forward(generate_random_seed(1)).detach(), torch.FloatTensor([0.0])  ) \n",
        "\n",
        "  # 생성기\n",
        "  G.train(D,generate_random(1), torch.FloatTensor([1.0]))"
      ],
      "metadata": {
        "colab": {
          "base_uri": "https://localhost:8080/"
        },
        "id": "z419jFKvmARh",
        "outputId": "3206338d-53fa-4fe0-ef1e-5eeaedf4300f"
      },
      "execution_count": 111,
      "outputs": [
        {
          "output_type": "stream",
          "name": "stderr",
          "text": [
            "100%|██████████| 60000/60000 [07:46<00:00, 128.67it/s]\n"
          ]
        }
      ]
    },
    {
      "cell_type": "code",
      "source": [
        "D.plot_progress()"
      ],
      "metadata": {
        "colab": {
          "base_uri": "https://localhost:8080/",
          "height": 483
        },
        "id": "GJHJbEnlmfMi",
        "outputId": "6d302d1e-1b8e-4d8b-8ccf-c8fe62a3acfd"
      },
      "execution_count": 112,
      "outputs": [
        {
          "output_type": "display_data",
          "data": {
            "text/plain": [
              "<Figure size 1152x576 with 1 Axes>"
            ],
            "image/png": "[encoded data removed]"
          },
          "metadata": {
            "needs_background": "light"
          }
        }
      ]
    },
    {
      "cell_type": "code",
      "source": [
        "G.plot_progress()"
      ],
      "metadata": {
        "colab": {
          "base_uri": "https://localhost:8080/",
          "height": 483
        },
        "id": "AaN3c5SorSh4",
        "outputId": "4997d4df-daf8-45cf-bf9f-c9114f6eb56e"
      },
      "execution_count": 113,
      "outputs": [
        {
          "output_type": "display_data",
          "data": {
            "text/plain": [
              "<Figure size 1152x576 with 1 Axes>"
            ],
            "image/png": "[encoded data removed]"
          },
          "metadata": {
            "needs_background": "light"
          }
        }
      ]
    },
    {
      "cell_type": "code",
      "source": [
        "plt.figure(figsize = (15,10))\n",
        "for i in range(4):\n",
        "  plt.subplot(2,2,i+1)\n",
        "  output = G.forward(generate_random(1))\n",
        "  # 계산 그래프에 속해있어서 분리\n",
        "  img =  output.detach().numpy().reshape(28,28)\n",
        "  plt.imshow(img,interpolation=None,cmap = 'Blues')"
      ],
      "metadata": {
        "colab": {
          "base_uri": "https://localhost:8080/",
          "height": 592
        },
        "id": "ZgJ8cDZ8rXlP",
        "outputId": "3d0c59a7-79b4-4e06-99b2-6dcc878aaecb"
      },
      "execution_count": 114,
      "outputs": [
        {
          "output_type": "display_data",
          "data": {
            "text/plain": [
              "<Figure size 1080x720 with 4 Axes>"
            ],
            "image/png": "[encoded data removed]"
          },
          "metadata": {
            "needs_background": "light"
          }
        }
      ]
    },
    {
      "cell_type": "code",
      "source": [],
      "metadata": {
        "id": "HrXoFdacrclf"
      },
      "execution_count": null,
      "outputs": []
    }
  ]
}
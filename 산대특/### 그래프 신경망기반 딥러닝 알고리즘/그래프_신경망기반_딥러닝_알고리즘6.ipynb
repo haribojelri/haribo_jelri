{
  "nbformat": 4,
  "nbformat_minor": 0,
  "metadata": {
    "colab": {
      "provenance": []
    },
    "kernelspec": {
      "name": "python3",
      "display_name": "Python 3"
    },
    "language_info": {
      "name": "python"
    },
    "accelerator": "GPU",
    "gpuClass": "standard"
  },
  "cells": [
    {
      "cell_type": "code",
      "execution_count": 1,
      "metadata": {
        "id": "xg0OQyhxiaf0"
      },
      "outputs": [],
      "source": [
        "# VGNet 모델 \n"
      ]
    },
    {
      "cell_type": "code",
      "source": [
        "# 라이브러리 로드\n",
        "from tensorflow import keras\n",
        "from tensorflow.keras.models import Sequential\n",
        "from tensorflow.keras.layers import Dense,Dropout\n",
        "from tensorflow.keras.layers import Flatten,Conv2D,MaxPooling2D, BatchNormalization\n",
        "from tensorflow.keras.callbacks import TensorBoard"
      ],
      "metadata": {
        "id": "D8aF-6GXiun4"
      },
      "execution_count": 2,
      "outputs": []
    },
    {
      "cell_type": "code",
      "source": [
        "!wget https://bit.ly/36QytdH -O oxflower17.npz\n",
        "import numpy as np\n",
        "data = np.load('/content/oxflower17.npz')\n",
        "X = data['X']\n",
        "Y = data['Y']"
      ],
      "metadata": {
        "colab": {
          "base_uri": "https://localhost:8080/"
        },
        "id": "eSiifI0yius7",
        "outputId": "9bf37dd3-1edb-474e-8751-15b19b04e43a"
      },
      "execution_count": 3,
      "outputs": [
        {
          "output_type": "stream",
          "name": "stdout",
          "text": [
            "--2023-01-04 07:05:32--  https://bit.ly/36QytdH\n",
            "Resolving bit.ly (bit.ly)... 67.199.248.10, 67.199.248.11\n",
            "Connecting to bit.ly (bit.ly)|67.199.248.10|:443... connected.\n",
            "HTTP request sent, awaiting response... 301 Moved Permanently\n",
            "Location: https://onedrive.live.com/download?cid=822579D69D2DC3B5&resid=822579D69D2DC3B5!597859&authkey=AGd0CpvKFkK8GtE [following]\n",
            "--2023-01-04 07:05:32--  https://onedrive.live.com/download?cid=822579D69D2DC3B5&resid=822579D69D2DC3B5!597859&authkey=AGd0CpvKFkK8GtE\n",
            "Resolving onedrive.live.com (onedrive.live.com)... 13.107.42.13\n",
            "Connecting to onedrive.live.com (onedrive.live.com)|13.107.42.13|:443... connected.\n",
            "HTTP request sent, awaiting response... 302 Found\n",
            "Location: https://57ucia.bl.files.1drv.com/y4m3RHkDQWqpkyRisLtAmYHz0GwA2S_9x5a2uETluLPIZzct2Latr-MXvPuNtV8NA-vLfg2BWPPAPoM3Pied3c4jj6H_jZVXyZktf4PnIbRv5HdYBHLJvhMv6g_y6dxe0Xa__wGIXR4lEP-IhCgRZhiVeat7ez8IkvftC62Ni21w58ibZbggwVm9_uQgErsXMcUMCyKhgRI2mpMmlWOiGUElg/oxflower17.npz?download&psid=1 [following]\n",
            "--2023-01-04 07:05:34--  https://57ucia.bl.files.1drv.com/y4m3RHkDQWqpkyRisLtAmYHz0GwA2S_9x5a2uETluLPIZzct2Latr-MXvPuNtV8NA-vLfg2BWPPAPoM3Pied3c4jj6H_jZVXyZktf4PnIbRv5HdYBHLJvhMv6g_y6dxe0Xa__wGIXR4lEP-IhCgRZhiVeat7ez8IkvftC62Ni21w58ibZbggwVm9_uQgErsXMcUMCyKhgRI2mpMmlWOiGUElg/oxflower17.npz?download&psid=1\n",
            "Resolving 57ucia.bl.files.1drv.com (57ucia.bl.files.1drv.com)... 13.107.42.12\n",
            "Connecting to 57ucia.bl.files.1drv.com (57ucia.bl.files.1drv.com)|13.107.42.12|:443... connected.\n",
            "HTTP request sent, awaiting response... 200 OK\n",
            "Length: 252415092 (241M) [application/zip]\n",
            "Saving to: ‘oxflower17.npz’\n",
            "\n",
            "oxflower17.npz      100%[===================>] 240.72M  16.3MB/s    in 17s     \n",
            "\n",
            "2023-01-04 07:05:53 (14.0 MB/s) - ‘oxflower17.npz’ saved [252415092/252415092]\n",
            "\n"
          ]
        }
      ]
    },
    {
      "cell_type": "code",
      "source": [
        "# 신경망 구성\n",
        "# ccpb  ccpb cccpb  cccpb  cccpb f d do d do d\n",
        "model = Sequential()\n",
        "model.add(Conv2D(64,3, activation='relu', input_shape=(224,224,3)))\n",
        "model.add(Conv2D(64,3, activation='relu'))\n",
        "model.add(MaxPooling2D())\n",
        "model.add(BatchNormalization())\n",
        "\n",
        "model.add(Conv2D(128,3, activation='relu'))\n",
        "model.add(Conv2D(128,3, activation='relu'))\n",
        "model.add(MaxPooling2D())\n",
        "model.add(BatchNormalization())\n",
        "\n",
        "model.add(Conv2D(256,3, activation='relu'))\n",
        "model.add(Conv2D(256,3, activation='relu'))\n",
        "model.add(Conv2D(256,3, activation='relu'))\n",
        "model.add(MaxPooling2D())\n",
        "model.add(BatchNormalization())\n",
        "\n",
        "model.add(Conv2D(512,3, activation='relu'))\n",
        "model.add(Conv2D(512,3, activation='relu'))\n",
        "model.add(Conv2D(512,3, activation='relu'))\n",
        "model.add(MaxPooling2D())\n",
        "model.add(BatchNormalization())\n",
        "\n",
        "model.add(Conv2D(512,3, activation='relu'))\n",
        "model.add(Conv2D(512,3, activation='relu'))\n",
        "model.add(Conv2D(512,3, activation='relu'))\n",
        "model.add(MaxPooling2D())\n",
        "model.add(BatchNormalization())\n",
        "\n",
        "model.add(Flatten())\n",
        "model.add(Dense(4096, activation='relu'))\n",
        "model.add(Dropout(0.5))\n",
        "model.add(Dense(4096, activation='relu'))\n",
        "model.add(Dropout(0.5))\n",
        "\n",
        "model.add(Dense(17, activation='softmax'))\n"
      ],
      "metadata": {
        "id": "lqvZFSLni-8v"
      },
      "execution_count": 4,
      "outputs": []
    },
    {
      "cell_type": "code",
      "source": [
        "# 컴파일\n",
        "model.compile(loss = 'categorical_crossentropy', optimizer='adam', metrics=['accuracy'])\n",
        "tensorbrd = TensorBoard('logs/vggnet')\n",
        "model.fit(X,Y,batch_size=64, epochs=250, verbose=1, validation_split=0.1,shuffle=True, callbacks=[tensorbrd])\n",
        "# 훈련  callbacks = [tensorbrd]"
      ],
      "metadata": {
        "colab": {
          "base_uri": "https://localhost:8080/"
        },
        "id": "1ebNzgA1jklY",
        "outputId": "74ced716-2216-410f-b032-d3b0bc24f665"
      },
      "execution_count": null,
      "outputs": [
        {
          "output_type": "stream",
          "name": "stdout",
          "text": [
            "Epoch 1/250\n",
            "20/20 [==============================] - 59s 2s/step - loss: 3.2961 - accuracy: 0.1324 - val_loss: 84.5744 - val_accuracy: 0.0588\n",
            "Epoch 2/250\n",
            "20/20 [==============================] - 14s 704ms/step - loss: 2.8094 - accuracy: 0.1838 - val_loss: 4.9167 - val_accuracy: 0.1618\n",
            "Epoch 3/250\n",
            "20/20 [==============================] - 14s 716ms/step - loss: 2.3501 - accuracy: 0.2410 - val_loss: 4.4566 - val_accuracy: 0.0735\n",
            "Epoch 4/250\n",
            "20/20 [==============================] - 14s 718ms/step - loss: 2.1113 - accuracy: 0.2737 - val_loss: 4.9056 - val_accuracy: 0.1324\n",
            "Epoch 5/250\n",
            "20/20 [==============================] - 15s 726ms/step - loss: 1.9863 - accuracy: 0.3211 - val_loss: 3.1851 - val_accuracy: 0.1471\n",
            "Epoch 6/250\n",
            "20/20 [==============================] - 15s 732ms/step - loss: 1.9366 - accuracy: 0.3415 - val_loss: 4.2645 - val_accuracy: 0.0662\n",
            "Epoch 7/250\n",
            "20/20 [==============================] - 15s 753ms/step - loss: 2.0936 - accuracy: 0.2794 - val_loss: 4.4596 - val_accuracy: 0.0662\n",
            "Epoch 8/250\n",
            "20/20 [==============================] - 15s 773ms/step - loss: 1.9244 - accuracy: 0.3211 - val_loss: 5.9193 - val_accuracy: 0.0588\n",
            "Epoch 9/250\n",
            "20/20 [==============================] - 15s 757ms/step - loss: 1.9996 - accuracy: 0.3088 - val_loss: 3.2203 - val_accuracy: 0.1985\n",
            "Epoch 10/250\n",
            "20/20 [==============================] - 15s 749ms/step - loss: 1.8337 - accuracy: 0.3391 - val_loss: 3.4003 - val_accuracy: 0.2059\n",
            "Epoch 11/250\n",
            "20/20 [==============================] - 15s 751ms/step - loss: 1.8182 - accuracy: 0.3440 - val_loss: 2.4663 - val_accuracy: 0.2647\n",
            "Epoch 12/250\n",
            "20/20 [==============================] - 15s 759ms/step - loss: 1.6979 - accuracy: 0.3783 - val_loss: 2.8558 - val_accuracy: 0.1618\n",
            "Epoch 13/250\n",
            "20/20 [==============================] - 15s 759ms/step - loss: 1.6570 - accuracy: 0.3930 - val_loss: 2.9763 - val_accuracy: 0.2279\n",
            "Epoch 14/250\n",
            "20/20 [==============================] - 15s 766ms/step - loss: 1.6747 - accuracy: 0.3824 - val_loss: 3.0874 - val_accuracy: 0.1912\n",
            "Epoch 15/250\n",
            "20/20 [==============================] - 15s 758ms/step - loss: 1.6472 - accuracy: 0.4036 - val_loss: 2.4496 - val_accuracy: 0.1985\n",
            "Epoch 16/250\n",
            "20/20 [==============================] - 15s 747ms/step - loss: 1.6311 - accuracy: 0.4183 - val_loss: 3.5674 - val_accuracy: 0.2132\n",
            "Epoch 17/250\n",
            "20/20 [==============================] - 15s 751ms/step - loss: 1.5324 - accuracy: 0.4632 - val_loss: 2.4150 - val_accuracy: 0.2941\n",
            "Epoch 18/250\n",
            "20/20 [==============================] - 15s 753ms/step - loss: 1.5348 - accuracy: 0.4583 - val_loss: 2.2163 - val_accuracy: 0.2574\n",
            "Epoch 19/250\n",
            "20/20 [==============================] - 15s 755ms/step - loss: 1.5349 - accuracy: 0.4379 - val_loss: 4.1004 - val_accuracy: 0.1103\n",
            "Epoch 20/250\n",
            "20/20 [==============================] - 15s 761ms/step - loss: 1.5001 - accuracy: 0.4592 - val_loss: 2.5060 - val_accuracy: 0.3235\n",
            "Epoch 21/250\n",
            "20/20 [==============================] - 15s 761ms/step - loss: 1.4915 - accuracy: 0.4690 - val_loss: 2.5286 - val_accuracy: 0.3015\n",
            "Epoch 22/250\n",
            "20/20 [==============================] - 15s 748ms/step - loss: 1.4086 - accuracy: 0.4779 - val_loss: 2.9555 - val_accuracy: 0.3015\n",
            "Epoch 23/250\n",
            "20/20 [==============================] - 15s 755ms/step - loss: 1.4284 - accuracy: 0.4935 - val_loss: 2.1053 - val_accuracy: 0.3603\n",
            "Epoch 24/250\n",
            "20/20 [==============================] - 15s 748ms/step - loss: 1.4422 - accuracy: 0.4698 - val_loss: 2.3000 - val_accuracy: 0.3088\n",
            "Epoch 25/250\n",
            "20/20 [==============================] - 15s 746ms/step - loss: 1.4373 - accuracy: 0.4828 - val_loss: 3.6714 - val_accuracy: 0.2500\n",
            "Epoch 26/250\n",
            "20/20 [==============================] - 15s 758ms/step - loss: 1.5568 - accuracy: 0.4534 - val_loss: 4.0839 - val_accuracy: 0.3382\n",
            "Epoch 27/250\n",
            "20/20 [==============================] - 15s 749ms/step - loss: 1.5462 - accuracy: 0.4665 - val_loss: 3.8978 - val_accuracy: 0.2500\n",
            "Epoch 28/250\n",
            "20/20 [==============================] - 15s 759ms/step - loss: 1.4065 - accuracy: 0.4984 - val_loss: 5.0250 - val_accuracy: 0.3015\n",
            "Epoch 29/250\n",
            "20/20 [==============================] - 15s 757ms/step - loss: 1.4217 - accuracy: 0.4943 - val_loss: 2.5190 - val_accuracy: 0.4412\n",
            "Epoch 30/250\n",
            "20/20 [==============================] - 15s 749ms/step - loss: 1.3170 - accuracy: 0.5188 - val_loss: 2.7707 - val_accuracy: 0.3824\n",
            "Epoch 31/250\n",
            "20/20 [==============================] - 15s 748ms/step - loss: 1.4298 - accuracy: 0.5008 - val_loss: 2.4032 - val_accuracy: 0.4191\n",
            "Epoch 32/250\n",
            "20/20 [==============================] - 15s 755ms/step - loss: 1.3315 - accuracy: 0.5163 - val_loss: 3.1097 - val_accuracy: 0.3309\n",
            "Epoch 33/250\n",
            "20/20 [==============================] - 15s 757ms/step - loss: 1.2936 - accuracy: 0.5253 - val_loss: 5.3994 - val_accuracy: 0.2721\n",
            "Epoch 34/250\n",
            "20/20 [==============================] - 15s 757ms/step - loss: 1.2523 - accuracy: 0.5523 - val_loss: 2.6160 - val_accuracy: 0.3897\n",
            "Epoch 35/250\n",
            "20/20 [==============================] - 15s 749ms/step - loss: 1.2413 - accuracy: 0.5425 - val_loss: 2.3255 - val_accuracy: 0.4853\n",
            "Epoch 36/250\n",
            "20/20 [==============================] - 15s 748ms/step - loss: 1.1880 - accuracy: 0.5792 - val_loss: 2.1908 - val_accuracy: 0.4265\n",
            "Epoch 37/250\n",
            "20/20 [==============================] - 15s 748ms/step - loss: 1.1640 - accuracy: 0.5801 - val_loss: 2.0649 - val_accuracy: 0.4559\n",
            "Epoch 38/250\n",
            "20/20 [==============================] - 15s 746ms/step - loss: 1.2633 - accuracy: 0.5507 - val_loss: 3.9148 - val_accuracy: 0.4265\n",
            "Epoch 39/250\n",
            "20/20 [==============================] - 15s 747ms/step - loss: 1.1468 - accuracy: 0.5760 - val_loss: 2.9575 - val_accuracy: 0.3971\n",
            "Epoch 40/250\n",
            "20/20 [==============================] - 15s 748ms/step - loss: 1.2101 - accuracy: 0.5776 - val_loss: 2.2106 - val_accuracy: 0.4412\n",
            "Epoch 41/250\n",
            "20/20 [==============================] - 15s 760ms/step - loss: 1.0999 - accuracy: 0.5915 - val_loss: 2.1217 - val_accuracy: 0.4338\n",
            "Epoch 42/250\n",
            "20/20 [==============================] - 15s 747ms/step - loss: 1.0486 - accuracy: 0.6275 - val_loss: 2.6078 - val_accuracy: 0.3971\n",
            "Epoch 43/250\n",
            "20/20 [==============================] - 15s 748ms/step - loss: 1.1006 - accuracy: 0.6005 - val_loss: 1.7435 - val_accuracy: 0.4779\n",
            "Epoch 44/250\n",
            "20/20 [==============================] - 15s 746ms/step - loss: 1.0087 - accuracy: 0.6266 - val_loss: 2.8158 - val_accuracy: 0.4265\n",
            "Epoch 45/250\n",
            " 7/20 [=========>....................] - ETA: 9s - loss: 0.9189 - accuracy: 0.6674 "
          ]
        }
      ]
    }
  ]
}
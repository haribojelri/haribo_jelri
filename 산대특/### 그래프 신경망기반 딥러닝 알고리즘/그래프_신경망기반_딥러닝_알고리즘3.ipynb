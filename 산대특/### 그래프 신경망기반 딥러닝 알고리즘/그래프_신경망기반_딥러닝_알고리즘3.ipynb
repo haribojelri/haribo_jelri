{
  "nbformat": 4,
  "nbformat_minor": 0,
  "metadata": {
    "colab": {
      "provenance": []
    },
    "kernelspec": {
      "name": "python3",
      "display_name": "Python 3"
    },
    "language_info": {
      "name": "python"
    },
    "accelerator": "GPU",
    "gpuClass": "standard"
  },
  "cells": [
    {
      "cell_type": "code",
      "execution_count": 1,
      "metadata": {
        "id": "rWkwEGuMNm92"
      },
      "outputs": [],
      "source": [
        "# 하이퍼 파라메터 최적화\n",
        "# KarasTuner 사용"
      ]
    },
    {
      "cell_type": "code",
      "source": [
        "!pip install keras-tuner -q"
      ],
      "metadata": {
        "colab": {
          "base_uri": "https://localhost:8080/"
        },
        "id": "Nd3S3SAlOgDe",
        "outputId": "d9eefed6-8e5c-4232-fd21-6bc8a4ad168a"
      },
      "execution_count": 2,
      "outputs": [
        {
          "output_type": "stream",
          "name": "stdout",
          "text": [
            "\u001b[2K     \u001b[90m━━━━━━━━━━━━━━━━━━━━━━━━━━━━━━━━━━━━━━━\u001b[0m \u001b[32m135.7/135.7 KB\u001b[0m \u001b[31m5.0 MB/s\u001b[0m eta \u001b[36m0:00:00\u001b[0m\n",
            "\u001b[2K     \u001b[90m━━━━━━━━━━━━━━━━━━━━━━━━━━━━━━━━━━━━━━━━\u001b[0m \u001b[32m1.6/1.6 MB\u001b[0m \u001b[31m24.0 MB/s\u001b[0m eta \u001b[36m0:00:00\u001b[0m\n",
            "\u001b[?25h"
          ]
        }
      ]
    },
    {
      "cell_type": "code",
      "source": [
        "# keras tuner 모델 구축\n",
        "from tensorflow import keras\n",
        "from tensorflow.keras import layers"
      ],
      "metadata": {
        "id": "c-VWRI2iOkxg"
      },
      "execution_count": 3,
      "outputs": []
    },
    {
      "cell_type": "code",
      "source": [
        "def build_model(hp):\n",
        "  units = hp.Int(name='units', min_value = 16, max_value=64, step = 16)\n",
        "  model = keras.Sequential([\n",
        "      layers.Dense(units, activation='relu'),\n",
        "      layers.Dense(10, activation = 'softmax')\n",
        "  ])\n",
        "  optimizer = hp.Choice(name='optimizer', values= ['rmsprop','adam'])\n",
        "  model.compile(\n",
        "      optimizer = optimizer,\n",
        "      loss = 'sparse_categorical_crossentropy',\n",
        "      metrics = ['accuracy']\n",
        "  )\n",
        "  return model"
      ],
      "metadata": {
        "id": "zy2Mx6TrOy4x"
      },
      "execution_count": 4,
      "outputs": []
    },
    {
      "cell_type": "code",
      "source": [
        "import kerastuner as kt\n",
        "class SimpleMLP(kt.HyperModel):\n",
        "  def __init__(self, num_classes):\n",
        "    self.num_classes = num_classes\n",
        "  def build(self, hp):\n",
        "    units = hp.Int(name='units', min_value = 16, max_value=64, step = 16)\n",
        "    model = keras.Sequential([\n",
        "        layers.Dense(units, activation='relu'),\n",
        "        layers.Dense(10, activation = 'softmax')\n",
        "    ])\n",
        "    optimizer = hp.Choice(name='optimizer', values= ['rmsprop','adam'])\n",
        "    model.compile(\n",
        "        optimizer = optimizer,\n",
        "        loss = 'sparse_categorical_crossentropy',\n",
        "        metrics = ['accuracy']\n",
        "    )\n",
        "    return model\n",
        "# 객체 생성\n",
        "hypermodel = SimpleMLP(num_classes=10)"
      ],
      "metadata": {
        "colab": {
          "base_uri": "https://localhost:8080/"
        },
        "id": "4dvP9txmQguJ",
        "outputId": "f2209a68-37d6-4a84-8b28-a59f370f9506"
      },
      "execution_count": 5,
      "outputs": [
        {
          "output_type": "stream",
          "name": "stderr",
          "text": [
            "<ipython-input-5-3c1ecf6c7a9f>:1: DeprecationWarning: `import kerastuner` is deprecated, please use `import keras_tuner`.\n",
            "  import kerastuner as kt\n"
          ]
        }
      ]
    },
    {
      "cell_type": "code",
      "source": [
        "tuner = kt.BayesianOptimization(\n",
        "    build_model,\n",
        "    objective = 'val_accuracy',\n",
        "    max_trials = 5,\n",
        "    executions_per_trial = 2,\n",
        "    directory = 'mnist_kt_test',\n",
        "    overwrite = True\n",
        ")"
      ],
      "metadata": {
        "id": "xRpt6ql2Rz9R"
      },
      "execution_count": 31,
      "outputs": []
    },
    {
      "cell_type": "code",
      "source": [
        "tuner.search_space_summary()"
      ],
      "metadata": {
        "colab": {
          "base_uri": "https://localhost:8080/"
        },
        "id": "PIKQ6fs1VHlg",
        "outputId": "a08f80b7-1966-4803-ce76-6669a8eecee7"
      },
      "execution_count": 13,
      "outputs": [
        {
          "output_type": "stream",
          "name": "stdout",
          "text": [
            "Search space summary\n",
            "Default search space size: 2\n",
            "units (Int)\n",
            "{'default': None, 'conditions': [], 'min_value': 16, 'max_value': 64, 'step': 16, 'sampling': None}\n",
            "optimizer (Choice)\n",
            "{'default': 'rmsprop', 'conditions': [], 'values': ['rmsprop', 'adam'], 'ordered': False}\n"
          ]
        }
      ]
    },
    {
      "cell_type": "code",
      "source": [
        "from sklearn.model_selection import train_test_split\n",
        "(xtr,ytr),(xte,yte) =  keras.datasets.mnist.load_data()\n",
        "\n",
        "xtr = xtr.reshape(-1,28*28) / 255.\n",
        "xte = xte.reshape(-1,28*28) / 255.\n",
        "\n",
        "x_train,x_val,y_train,y_val =  train_test_split(xtr, ytr,random_state=32)\n",
        "callback = [\n",
        "    keras.callbacks.EarlyStopping(patience=5)\n",
        "]\n",
        "\n",
        "tuner.search(\n",
        "    x_train,y_train,\n",
        "    batch_size = 128,\n",
        "    epochs = 100,\n",
        "    validation_data = (x_val,y_val),\n",
        "    callbacks = callback,\n",
        "    verbose = 2\n",
        ")\n"
      ],
      "metadata": {
        "colab": {
          "base_uri": "https://localhost:8080/"
        },
        "id": "KzLeSSfyVo7Q",
        "outputId": "c9d7fc2b-97d6-4668-e00d-a9da2e8f0493"
      },
      "execution_count": 14,
      "outputs": [
        {
          "output_type": "stream",
          "name": "stdout",
          "text": [
            "Trial 5 Complete [00h 00m 47s]\n",
            "val_accuracy: 0.97120001912117\n",
            "\n",
            "Best val_accuracy So Far: 0.9717333316802979\n",
            "Total elapsed time: 00h 05m 34s\n"
          ]
        }
      ]
    },
    {
      "cell_type": "code",
      "source": [
        "best_hps =  tuner.get_best_hyperparameters(4)"
      ],
      "metadata": {
        "id": "yreZep2Dbwih"
      },
      "execution_count": 15,
      "outputs": []
    },
    {
      "cell_type": "code",
      "source": [
        "best_hps"
      ],
      "metadata": {
        "colab": {
          "base_uri": "https://localhost:8080/"
        },
        "id": "YQlJ7UuTjJSI",
        "outputId": "d58ca6ba-fd24-4ced-e2c8-9dd3aa263cc9"
      },
      "execution_count": 16,
      "outputs": [
        {
          "output_type": "execute_result",
          "data": {
            "text/plain": [
              "[<keras_tuner.engine.hyperparameters.HyperParameters at 0x7f514c205d90>,\n",
              " <keras_tuner.engine.hyperparameters.HyperParameters at 0x7f514c573d30>,\n",
              " <keras_tuner.engine.hyperparameters.HyperParameters at 0x7f514c7d8460>,\n",
              " <keras_tuner.engine.hyperparameters.HyperParameters at 0x7f51a00fb6a0>]"
            ]
          },
          "metadata": {},
          "execution_count": 16
        }
      ]
    },
    {
      "cell_type": "code",
      "source": [
        "best_hps[3].Choice(name = 'optimizer', values=['rmsprop','adam'])"
      ],
      "metadata": {
        "colab": {
          "base_uri": "https://localhost:8080/",
          "height": 35
        },
        "id": "4hZWNV57jKm4",
        "outputId": "88ec0d65-3928-4686-d954-8e9e9d449c83"
      },
      "execution_count": 30,
      "outputs": [
        {
          "output_type": "execute_result",
          "data": {
            "text/plain": [
              "'rmsprop'"
            ],
            "application/vnd.google.colaboratory.intrinsic+json": {
              "type": "string"
            }
          },
          "metadata": {},
          "execution_count": 30
        }
      ]
    },
    {
      "cell_type": "code",
      "source": [
        "best_hps[3].Int(name='units', min_value = 16, max_value=64, step = 16)"
      ],
      "metadata": {
        "colab": {
          "base_uri": "https://localhost:8080/"
        },
        "id": "VWoje9CqjQEP",
        "outputId": "ba2be50d-2d15-4447-e54f-b330363f2301"
      },
      "execution_count": 27,
      "outputs": [
        {
          "output_type": "execute_result",
          "data": {
            "text/plain": [
              "48"
            ]
          },
          "metadata": {},
          "execution_count": 27
        }
      ]
    },
    {
      "cell_type": "code",
      "source": [
        "# 튜닝후 최상의 조건으로 모델을 생성\n",
        "model = build_model(best_hps[0])"
      ],
      "metadata": {
        "id": "_RPW_5JWjpz-"
      },
      "execution_count": 32,
      "outputs": []
    },
    {
      "cell_type": "code",
      "source": [
        "best_hps[0]._hps"
      ],
      "metadata": {
        "colab": {
          "base_uri": "https://localhost:8080/"
        },
        "id": "kcgqMUBCkG5e",
        "outputId": "1edfc694-df10-4f5b-ff08-f8464794a569"
      },
      "execution_count": 33,
      "outputs": [
        {
          "output_type": "execute_result",
          "data": {
            "text/plain": [
              "defaultdict(list,\n",
              "            {'units': [Int(name: \"units\", min_value: 16, max_value: 64, step: 16, sampling: None, default: 16)],\n",
              "             'optimizer': [Choice(name: \"optimizer\", values: ['rmsprop', 'adam'], ordered: False, default: rmsprop)]})"
            ]
          },
          "metadata": {},
          "execution_count": 33
        }
      ]
    },
    {
      "cell_type": "code",
      "source": [
        "best_hps[0].values"
      ],
      "metadata": {
        "colab": {
          "base_uri": "https://localhost:8080/"
        },
        "id": "zCR33gEOkO-d",
        "outputId": "4c6e47ef-befc-42ed-b67d-dd1d5f0b52eb"
      },
      "execution_count": 34,
      "outputs": [
        {
          "output_type": "execute_result",
          "data": {
            "text/plain": [
              "{'units': 64, 'optimizer': 'rmsprop'}"
            ]
          },
          "metadata": {},
          "execution_count": 34
        }
      ]
    },
    {
      "cell_type": "code",
      "source": [
        "model.get_config()"
      ],
      "metadata": {
        "colab": {
          "base_uri": "https://localhost:8080/"
        },
        "id": "T2mFediWkXQW",
        "outputId": "dd256885-25b7-4241-ad2e-c58edae7fa05"
      },
      "execution_count": 35,
      "outputs": [
        {
          "output_type": "execute_result",
          "data": {
            "text/plain": [
              "{'name': 'sequential_2',\n",
              " 'layers': [{'class_name': 'Dense',\n",
              "   'config': {'name': 'dense_4',\n",
              "    'trainable': True,\n",
              "    'dtype': 'float32',\n",
              "    'units': 64,\n",
              "    'activation': 'relu',\n",
              "    'use_bias': True,\n",
              "    'kernel_initializer': {'class_name': 'GlorotUniform',\n",
              "     'config': {'seed': None}},\n",
              "    'bias_initializer': {'class_name': 'Zeros', 'config': {}},\n",
              "    'kernel_regularizer': None,\n",
              "    'bias_regularizer': None,\n",
              "    'activity_regularizer': None,\n",
              "    'kernel_constraint': None,\n",
              "    'bias_constraint': None}},\n",
              "  {'class_name': 'Dense',\n",
              "   'config': {'name': 'dense_5',\n",
              "    'trainable': True,\n",
              "    'dtype': 'float32',\n",
              "    'units': 10,\n",
              "    'activation': 'softmax',\n",
              "    'use_bias': True,\n",
              "    'kernel_initializer': {'class_name': 'GlorotUniform',\n",
              "     'config': {'seed': None}},\n",
              "    'bias_initializer': {'class_name': 'Zeros', 'config': {}},\n",
              "    'kernel_regularizer': None,\n",
              "    'bias_regularizer': None,\n",
              "    'activity_regularizer': None,\n",
              "    'kernel_constraint': None,\n",
              "    'bias_constraint': None}}]}"
            ]
          },
          "metadata": {},
          "execution_count": 35
        }
      ]
    },
    {
      "cell_type": "code",
      "source": [
        "# 튜닝을 통해서 최상의 신경망 값을 찾았다... dense층에 뉴런의수, 옵티마이져\n",
        "# 최상의 조건으로 설정된 모델로.. 최상의 epoch수를 찾아"
      ],
      "metadata": {
        "id": "ykrpMSXtkcEn"
      },
      "execution_count": 36,
      "outputs": []
    },
    {
      "cell_type": "code",
      "source": [
        "# 최상의 epoch 수를 리턴하는 함수\n",
        "def get_best_epoch(hp):\n",
        "  model = build_model(hp)\n",
        "  callback = [\n",
        "      keras.callbacks.EarlyStopping(patience=10)\n",
        "  ]\n",
        "  history = model.fit(\n",
        "      x_train,y_train,validation_data = (x_val,y_val), epochs = 100, batch_size=128,callbacks=callback\n",
        "  )\n",
        "  val_loss_per_epoch = history.history['val_loss']\n",
        "  best_epoch = val_loss_per_epoch.index(min(val_loss_per_epoch)) + 1\n",
        "  print(f\"best epoch : {best_epoch}\")\n",
        "  return best_epoch"
      ],
      "metadata": {
        "id": "PKvU9v0Pk6Kh"
      },
      "execution_count": 37,
      "outputs": []
    },
    {
      "cell_type": "code",
      "source": [
        "get_best_epoch(best_hps[0])"
      ],
      "metadata": {
        "colab": {
          "base_uri": "https://localhost:8080/"
        },
        "id": "POKcAilholdn",
        "outputId": "987d66c2-5e81-4eda-eea3-2121f9f8d341"
      },
      "execution_count": null,
      "outputs": [
        {
          "output_type": "stream",
          "name": "stdout",
          "text": [
            "Epoch 1/100\n",
            "352/352 [==============================] - 2s 4ms/step - loss: 0.4360 - accuracy: 0.8822 - val_loss: 0.2863 - val_accuracy: 0.9167\n",
            "Epoch 2/100\n",
            "352/352 [==============================] - 1s 4ms/step - loss: 0.2218 - accuracy: 0.9356 - val_loss: 0.2240 - val_accuracy: 0.9350\n",
            "Epoch 3/100\n",
            "352/352 [==============================] - 1s 4ms/step - loss: 0.1763 - accuracy: 0.9489 - val_loss: 0.1872 - val_accuracy: 0.9470\n",
            "Epoch 4/100\n",
            "352/352 [==============================] - 1s 4ms/step - loss: 0.1459 - accuracy: 0.9578 - val_loss: 0.1621 - val_accuracy: 0.9527\n",
            "Epoch 5/100\n",
            "352/352 [==============================] - 2s 5ms/step - loss: 0.1252 - accuracy: 0.9637 - val_loss: 0.1444 - val_accuracy: 0.9573\n",
            "Epoch 6/100\n",
            "352/352 [==============================] - 1s 4ms/step - loss: 0.1076 - accuracy: 0.9686 - val_loss: 0.1353 - val_accuracy: 0.9630\n",
            "Epoch 7/100\n",
            "324/352 [==========================>...] - ETA: 0s - loss: 0.0959 - accuracy: 0.9722"
          ]
        }
      ]
    },
    {
      "cell_type": "code",
      "source": [],
      "metadata": {
        "id": "0N-mtjpcoyMn"
      },
      "execution_count": null,
      "outputs": []
    }
  ]
}
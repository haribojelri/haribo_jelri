{
  "nbformat": 4,
  "nbformat_minor": 0,
  "metadata": {
    "colab": {
      "provenance": []
    },
    "kernelspec": {
      "name": "python3",
      "display_name": "Python 3"
    },
    "language_info": {
      "name": "python"
    }
  },
  "cells": [
    {
      "cell_type": "code",
      "execution_count": 1,
      "metadata": {
        "id": "nagTIBVvi_-O"
      },
      "outputs": [],
      "source": [
        "# 시계열 데이터 다루기 - 시퀀스 예측 머신러닝 모델"
      ]
    },
    {
      "cell_type": "code",
      "source": [
        "import tensorflow as tf\n",
        "import numpy as np\n",
        "import matplotlib.pyplot as plt"
      ],
      "metadata": {
        "id": "W0GT78rMjIS7"
      },
      "execution_count": 2,
      "outputs": []
    },
    {
      "cell_type": "code",
      "source": [
        "# 윈도우 데이터 셋\n",
        "dataset = tf.data.Dataset.range(10)\n",
        "dataset = dataset.window(5,shift=1, drop_remainder=True)\n",
        "dataset = dataset.flat_map(lambda window: window.batch(5))\n",
        "for window in dataset:\n",
        "  print(window.numpy())"
      ],
      "metadata": {
        "colab": {
          "base_uri": "https://localhost:8080/"
        },
        "id": "IIwIoXf3jl7T",
        "outputId": "a25f16af-e0a8-4f08-f866-51fe38b8414e"
      },
      "execution_count": 9,
      "outputs": [
        {
          "output_type": "stream",
          "name": "stdout",
          "text": [
            "[0 1 2 3 4]\n",
            "[1 2 3 4 5]\n",
            "[2 3 4 5 6]\n",
            "[3 4 5 6 7]\n",
            "[4 5 6 7 8]\n",
            "[5 6 7 8 9]\n"
          ]
        }
      ]
    },
    {
      "cell_type": "code",
      "source": [
        "dataset = tf.data.Dataset.range(10)\n",
        "dataset = dataset.window(5,shift=1, drop_remainder=True)\n",
        "dataset = dataset.flat_map(lambda window: window.batch(5))\n",
        "dataset = dataset.map(lambda window: (window[:-1], window[-1:] ) )\n",
        "for x,y in dataset:\n",
        "  print(x.numpy(), y.numpy())\n",
        "  "
      ],
      "metadata": {
        "colab": {
          "base_uri": "https://localhost:8080/"
        },
        "id": "oPJBBOBSjvIq",
        "outputId": "00eced07-c147-4977-e483-ff73da976dbe"
      },
      "execution_count": 12,
      "outputs": [
        {
          "output_type": "stream",
          "name": "stdout",
          "text": [
            "[0 1 2 3] [4]\n",
            "[1 2 3 4] [5]\n",
            "[2 3 4 5] [6]\n",
            "[3 4 5 6] [7]\n",
            "[4 5 6 7] [8]\n",
            "[5 6 7 8] [9]\n"
          ]
        }
      ]
    },
    {
      "cell_type": "code",
      "source": [
        "dataset = tf.data.Dataset.range(10)\n",
        "dataset = dataset.window(5,shift=1, drop_remainder=True)\n",
        "dataset = dataset.flat_map(lambda window: window.batch(5))\n",
        "dataset = dataset.map(lambda window: (window[:-1], window[-1:] ) )\n",
        "dataset = dataset.shuffle(buffer_size=10)\n",
        "dataset = dataset.batch(2).prefetch(1)\n",
        "for x,y in dataset:\n",
        "  print(f\"x = {x.numpy()}\")\n",
        "  print(f\"y = {y.numpy()}\")"
      ],
      "metadata": {
        "colab": {
          "base_uri": "https://localhost:8080/"
        },
        "id": "S3QG9M55kUe7",
        "outputId": "f12ca804-56c2-4de6-b345-66641d947c37"
      },
      "execution_count": 13,
      "outputs": [
        {
          "output_type": "stream",
          "name": "stdout",
          "text": [
            "x = [[5 6 7 8]\n",
            " [2 3 4 5]]\n",
            "y = [[9]\n",
            " [6]]\n",
            "x = [[3 4 5 6]\n",
            " [1 2 3 4]]\n",
            "y = [[7]\n",
            " [5]]\n",
            "x = [[0 1 2 3]\n",
            " [4 5 6 7]]\n",
            "y = [[4]\n",
            " [8]]\n"
          ]
        }
      ]
    },
    {
      "cell_type": "code",
      "source": [
        "# 윈도우 개념을 이용한 시계열 데이터셋\n",
        "def trend(time,slope = 0):\n",
        "  return time * slope\n",
        "def seassional_pattern(season_time):\n",
        "  return np.where(season_time < 0.4, np.cos(season_time*2*np.pi), 1/np.exp(3*season_time))  \n",
        "def seasonality(time, peroid, amplitude = 1, phase=0):\n",
        "  seassion_time = ((time*phase)%peroid) / peroid\n",
        "  return  amplitude*seassional_pattern(seassion_time)\n",
        "def nosie(time, noise_level=1,seed = None):\n",
        "  rnd = np.random.RandomState(seed)\n",
        "  return rnd.randn(len(time))*noise_level\n"
      ],
      "metadata": {
        "id": "d3M54uJMmYhC"
      },
      "execution_count": 16,
      "outputs": []
    },
    {
      "cell_type": "code",
      "source": [
        "time = np.arange(4*365+1, dtype='float32')\n",
        "series = trend(time,0.1)\n",
        "baseline = 10\n",
        "amplitude = 20\n",
        "slope = 0.09\n",
        "noise_level = 5\n",
        "\n",
        "series = baseline + trend(time,slope)\n",
        "series += seasonality(time,peroid=365, amplitude=amplitude)\n",
        "series += nosie(time, noise_level, seed = 42)"
      ],
      "metadata": {
        "id": "fEfOdRVkoxsr"
      },
      "execution_count": 22,
      "outputs": []
    },
    {
      "cell_type": "code",
      "source": [
        "series.shape"
      ],
      "metadata": {
        "colab": {
          "base_uri": "https://localhost:8080/"
        },
        "id": "2E-ttsUKnOPL",
        "outputId": "5895ad34-1a06-4fd0-8022-c15591d4652c"
      },
      "execution_count": 24,
      "outputs": [
        {
          "output_type": "execute_result",
          "data": {
            "text/plain": [
              "(1461,)"
            ]
          },
          "metadata": {},
          "execution_count": 24
        }
      ]
    },
    {
      "cell_type": "code",
      "source": [
        "def windowed_dataset(series, window_size, batch_size,shuffle_buffer):\n",
        "  dataset = tf.data.Dataset.from_tensor_slices(series)\n",
        "  dataset = dataset.window(window_size+1,shift=1, drop_remainder=True)\n",
        "  dataset = dataset.flat_map(lambda window: window.batch(window_size+1))  \n",
        "  \n",
        "  dataset = dataset.map(lambda window: (window[:-1], window[-1:] ) )\n",
        "  dataset = dataset.shuffle(shuffle_buffer)  \n",
        "  dataset = dataset.batch(batch_size).prefetch(1)\n",
        "  return dataset"
      ],
      "metadata": {
        "id": "lYgVLpnBnnPK"
      },
      "execution_count": 25,
      "outputs": []
    },
    {
      "cell_type": "code",
      "source": [
        "split_time = 1000\n",
        "time_train = time[:split_time]\n",
        "x_train = series[:split_time]\n",
        "time_valid = time[split_time:]\n",
        "x_valid = series[split_time:]\n",
        "window_size = 20\n",
        "batch_size = 32\n",
        "shuffle_buffer_size = 1000\n",
        "dataset = windowed_dataset(x_train,window_size,batch_size,shuffle_buffer_size)\n"
      ],
      "metadata": {
        "id": "PbVTiYuIrJ4c"
      },
      "execution_count": 27,
      "outputs": []
    },
    {
      "cell_type": "code",
      "source": [
        "dataset = windowed_dataset(series,window_size,1,shuffle_buffer_size)\n",
        "for feature, label in  dataset.take(1):\n",
        "  print(feature)\n",
        "  print(label)"
      ],
      "metadata": {
        "colab": {
          "base_uri": "https://localhost:8080/"
        },
        "id": "Av36nXB-rMRq",
        "outputId": "d8842676-46a3-45e4-e2ed-1ee4c4933558"
      },
      "execution_count": 30,
      "outputs": [
        {
          "output_type": "stream",
          "name": "stdout",
          "text": [
            "tf.Tensor(\n",
            "[[113.085754 113.32692  120.057274 111.78352  113.74512  115.479485\n",
            "  113.46305  110.38783  113.68046  118.16816  107.75743  113.64485\n",
            "  109.5694   119.13524  105.63406  110.545395 115.31606  121.347626\n",
            "  113.28125  110.924   ]], shape=(1, 20), dtype=float32)\n",
            "tf.Tensor([[123.195786]], shape=(1, 1), dtype=float32)\n"
          ]
        }
      ]
    },
    {
      "cell_type": "code",
      "source": [
        "# DNN 모델을 만들고 시퀀스 데이터로 훈련\n",
        "\n",
        "dataset = windowed_dataset(x_train,window_size,batch_size,shuffle_buffer_size)\n",
        "model = tf.keras.models.Sequential([\n",
        "    tf.keras.layers.Dense(10,activation = 'relu', input_shape = [window_size]),\n",
        "    tf.keras.layers.Dense(10,activation = 'relu'),\n",
        "    tf.keras.layers.Dense(1)\n",
        "])\n",
        "model.compile(loss = tf.keras.losses.mse, optimizer = tf.keras.optimizers.Adam(learning_rate = 1e-4) )"
      ],
      "metadata": {
        "id": "Z7kbWGBqr1tT"
      },
      "execution_count": 55,
      "outputs": []
    },
    {
      "cell_type": "code",
      "source": [
        "model.fit(dataset,epochs = 100, verbose=1)"
      ],
      "metadata": {
        "colab": {
          "base_uri": "https://localhost:8080/"
        },
        "id": "1fIlY-GHxlTe",
        "outputId": "f0e87595-e15f-4d00-e87c-4049d83c8382"
      },
      "execution_count": 56,
      "outputs": [
        {
          "output_type": "stream",
          "name": "stdout",
          "text": [
            "Epoch 1/100\n",
            "31/31 [==============================] - 0s 2ms/step - loss: 6107.3154\n",
            "Epoch 2/100\n",
            "31/31 [==============================] - 0s 1ms/step - loss: 5662.5542\n",
            "Epoch 3/100\n",
            "31/31 [==============================] - 0s 1ms/step - loss: 5285.1899\n",
            "Epoch 4/100\n",
            "31/31 [==============================] - 0s 1ms/step - loss: 4976.8521\n",
            "Epoch 5/100\n",
            "31/31 [==============================] - 0s 1ms/step - loss: 4834.6694\n",
            "Epoch 6/100\n",
            "31/31 [==============================] - 0s 1ms/step - loss: 4738.5400\n",
            "Epoch 7/100\n",
            "31/31 [==============================] - 0s 1ms/step - loss: 4637.0347\n",
            "Epoch 8/100\n",
            "31/31 [==============================] - 0s 1ms/step - loss: 4528.7573\n",
            "Epoch 9/100\n",
            "31/31 [==============================] - 0s 1ms/step - loss: 4412.6318\n",
            "Epoch 10/100\n",
            "31/31 [==============================] - 0s 1ms/step - loss: 4290.9761\n",
            "Epoch 11/100\n",
            "31/31 [==============================] - 0s 1ms/step - loss: 4161.1304\n",
            "Epoch 12/100\n",
            "31/31 [==============================] - 0s 1ms/step - loss: 3999.1799\n",
            "Epoch 13/100\n",
            "31/31 [==============================] - 0s 1ms/step - loss: 3753.3516\n",
            "Epoch 14/100\n",
            "31/31 [==============================] - 0s 1ms/step - loss: 3508.1887\n",
            "Epoch 15/100\n",
            "31/31 [==============================] - 0s 1ms/step - loss: 3269.1338\n",
            "Epoch 16/100\n",
            "31/31 [==============================] - 0s 1ms/step - loss: 3032.7092\n",
            "Epoch 17/100\n",
            "31/31 [==============================] - 0s 1ms/step - loss: 2798.4241\n",
            "Epoch 18/100\n",
            "31/31 [==============================] - 0s 1ms/step - loss: 2416.1370\n",
            "Epoch 19/100\n",
            "31/31 [==============================] - 0s 1ms/step - loss: 1351.7648\n",
            "Epoch 20/100\n",
            "31/31 [==============================] - 0s 1ms/step - loss: 632.6308\n",
            "Epoch 21/100\n",
            "31/31 [==============================] - 0s 1ms/step - loss: 293.5493\n",
            "Epoch 22/100\n",
            "31/31 [==============================] - 0s 1ms/step - loss: 139.1145\n",
            "Epoch 23/100\n",
            "31/31 [==============================] - 0s 1ms/step - loss: 71.8585\n",
            "Epoch 24/100\n",
            "31/31 [==============================] - 0s 1ms/step - loss: 44.6736\n",
            "Epoch 25/100\n",
            "31/31 [==============================] - 0s 1ms/step - loss: 34.0753\n",
            "Epoch 26/100\n",
            "31/31 [==============================] - 0s 1ms/step - loss: 30.4267\n",
            "Epoch 27/100\n",
            "31/31 [==============================] - 0s 1ms/step - loss: 29.1353\n",
            "Epoch 28/100\n",
            "31/31 [==============================] - 0s 1ms/step - loss: 28.7908\n",
            "Epoch 29/100\n",
            "31/31 [==============================] - 0s 1ms/step - loss: 28.6731\n",
            "Epoch 30/100\n",
            "31/31 [==============================] - 0s 1ms/step - loss: 28.6564\n",
            "Epoch 31/100\n",
            "31/31 [==============================] - 0s 1ms/step - loss: 28.6550\n",
            "Epoch 32/100\n",
            "31/31 [==============================] - 0s 1ms/step - loss: 28.6451\n",
            "Epoch 33/100\n",
            "31/31 [==============================] - 0s 1ms/step - loss: 28.6357\n",
            "Epoch 34/100\n",
            "31/31 [==============================] - 0s 1ms/step - loss: 28.6427\n",
            "Epoch 35/100\n",
            "31/31 [==============================] - 0s 1ms/step - loss: 28.6327\n",
            "Epoch 36/100\n",
            "31/31 [==============================] - 0s 1ms/step - loss: 28.6321\n",
            "Epoch 37/100\n",
            "31/31 [==============================] - 0s 1ms/step - loss: 28.6285\n",
            "Epoch 38/100\n",
            "31/31 [==============================] - 0s 1ms/step - loss: 28.6312\n",
            "Epoch 39/100\n",
            "31/31 [==============================] - 0s 1ms/step - loss: 28.6364\n",
            "Epoch 40/100\n",
            "31/31 [==============================] - 0s 1ms/step - loss: 28.6293\n",
            "Epoch 41/100\n",
            "31/31 [==============================] - 0s 1ms/step - loss: 28.6333\n",
            "Epoch 42/100\n",
            "31/31 [==============================] - 0s 1ms/step - loss: 28.6288\n",
            "Epoch 43/100\n",
            "31/31 [==============================] - 0s 1ms/step - loss: 28.6436\n",
            "Epoch 44/100\n",
            "31/31 [==============================] - 0s 1ms/step - loss: 28.6244\n",
            "Epoch 45/100\n",
            "31/31 [==============================] - 0s 1ms/step - loss: 28.6212\n",
            "Epoch 46/100\n",
            "31/31 [==============================] - 0s 1ms/step - loss: 28.6206\n",
            "Epoch 47/100\n",
            "31/31 [==============================] - 0s 1ms/step - loss: 28.6181\n",
            "Epoch 48/100\n",
            "31/31 [==============================] - 0s 1ms/step - loss: 28.6262\n",
            "Epoch 49/100\n",
            "31/31 [==============================] - 0s 1ms/step - loss: 28.6189\n",
            "Epoch 50/100\n",
            "31/31 [==============================] - 0s 1ms/step - loss: 28.6427\n",
            "Epoch 51/100\n",
            "31/31 [==============================] - 0s 2ms/step - loss: 28.6118\n",
            "Epoch 52/100\n",
            "31/31 [==============================] - 0s 1ms/step - loss: 28.6167\n",
            "Epoch 53/100\n",
            "31/31 [==============================] - 0s 1ms/step - loss: 28.6070\n",
            "Epoch 54/100\n",
            "31/31 [==============================] - 0s 1ms/step - loss: 28.6202\n",
            "Epoch 55/100\n",
            "31/31 [==============================] - 0s 1ms/step - loss: 28.6211\n",
            "Epoch 56/100\n",
            "31/31 [==============================] - 0s 1ms/step - loss: 28.6288\n",
            "Epoch 57/100\n",
            "31/31 [==============================] - 0s 1ms/step - loss: 28.6069\n",
            "Epoch 58/100\n",
            "31/31 [==============================] - 0s 1ms/step - loss: 28.6037\n",
            "Epoch 59/100\n",
            "31/31 [==============================] - 0s 1ms/step - loss: 28.6137\n",
            "Epoch 60/100\n",
            "31/31 [==============================] - 0s 1ms/step - loss: 28.5992\n",
            "Epoch 61/100\n",
            "31/31 [==============================] - 0s 1ms/step - loss: 28.6120\n",
            "Epoch 62/100\n",
            "31/31 [==============================] - 0s 1ms/step - loss: 28.6065\n",
            "Epoch 63/100\n",
            "31/31 [==============================] - 0s 1ms/step - loss: 28.6159\n",
            "Epoch 64/100\n",
            "31/31 [==============================] - 0s 1ms/step - loss: 28.5925\n",
            "Epoch 65/100\n",
            "31/31 [==============================] - 0s 1ms/step - loss: 28.5969\n",
            "Epoch 66/100\n",
            "31/31 [==============================] - 0s 1ms/step - loss: 28.6034\n",
            "Epoch 67/100\n",
            "31/31 [==============================] - 0s 1ms/step - loss: 28.5880\n",
            "Epoch 68/100\n",
            "31/31 [==============================] - 0s 1ms/step - loss: 28.6027\n",
            "Epoch 69/100\n",
            "31/31 [==============================] - 0s 1ms/step - loss: 28.6005\n",
            "Epoch 70/100\n",
            "31/31 [==============================] - 0s 1ms/step - loss: 28.5922\n",
            "Epoch 71/100\n",
            "31/31 [==============================] - 0s 1ms/step - loss: 28.5903\n",
            "Epoch 72/100\n",
            "31/31 [==============================] - 0s 1ms/step - loss: 28.5898\n",
            "Epoch 73/100\n",
            "31/31 [==============================] - 0s 1ms/step - loss: 28.6136\n",
            "Epoch 74/100\n",
            "31/31 [==============================] - 0s 1ms/step - loss: 28.5835\n",
            "Epoch 75/100\n",
            "31/31 [==============================] - 0s 1ms/step - loss: 28.5838\n",
            "Epoch 76/100\n",
            "31/31 [==============================] - 0s 1ms/step - loss: 28.5620\n",
            "Epoch 77/100\n",
            "31/31 [==============================] - 0s 1ms/step - loss: 28.5861\n",
            "Epoch 78/100\n",
            "31/31 [==============================] - 0s 1ms/step - loss: 28.5723\n",
            "Epoch 79/100\n",
            "31/31 [==============================] - 0s 1ms/step - loss: 28.5696\n",
            "Epoch 80/100\n",
            "31/31 [==============================] - 0s 1ms/step - loss: 28.5706\n",
            "Epoch 81/100\n",
            "31/31 [==============================] - 0s 1ms/step - loss: 28.5729\n",
            "Epoch 82/100\n",
            "31/31 [==============================] - 0s 1ms/step - loss: 28.5589\n",
            "Epoch 83/100\n",
            "31/31 [==============================] - 0s 1ms/step - loss: 28.5588\n",
            "Epoch 84/100\n",
            "31/31 [==============================] - 0s 1ms/step - loss: 28.5763\n",
            "Epoch 85/100\n",
            "31/31 [==============================] - 0s 1ms/step - loss: 28.5473\n",
            "Epoch 86/100\n",
            "31/31 [==============================] - 0s 1ms/step - loss: 28.5537\n",
            "Epoch 87/100\n",
            "31/31 [==============================] - 0s 1ms/step - loss: 28.5754\n",
            "Epoch 88/100\n",
            "31/31 [==============================] - 0s 1ms/step - loss: 28.5866\n",
            "Epoch 89/100\n",
            "31/31 [==============================] - 0s 1ms/step - loss: 28.5342\n",
            "Epoch 90/100\n",
            "31/31 [==============================] - 0s 1ms/step - loss: 28.5614\n",
            "Epoch 91/100\n",
            "31/31 [==============================] - 0s 1ms/step - loss: 28.5592\n",
            "Epoch 92/100\n",
            "31/31 [==============================] - 0s 1ms/step - loss: 28.5996\n",
            "Epoch 93/100\n",
            "31/31 [==============================] - 0s 1ms/step - loss: 28.5454\n",
            "Epoch 94/100\n",
            "31/31 [==============================] - 0s 1ms/step - loss: 28.5395\n",
            "Epoch 95/100\n",
            "31/31 [==============================] - 0s 1ms/step - loss: 28.5587\n",
            "Epoch 96/100\n",
            "31/31 [==============================] - 0s 1ms/step - loss: 28.5352\n",
            "Epoch 97/100\n",
            "31/31 [==============================] - 0s 1ms/step - loss: 28.5451\n",
            "Epoch 98/100\n",
            "31/31 [==============================] - 0s 1ms/step - loss: 28.5233\n",
            "Epoch 99/100\n",
            "31/31 [==============================] - 0s 1ms/step - loss: 28.5261\n",
            "Epoch 100/100\n",
            "31/31 [==============================] - 0s 1ms/step - loss: 28.5378\n"
          ]
        },
        {
          "output_type": "execute_result",
          "data": {
            "text/plain": [
              "<keras.callbacks.History at 0x7f3186b27970>"
            ]
          },
          "metadata": {},
          "execution_count": 56
        }
      ]
    },
    {
      "cell_type": "code",
      "source": [
        "# DNN 결과 평가\n",
        "series[1000:1020], series[1020]"
      ],
      "metadata": {
        "colab": {
          "base_uri": "https://localhost:8080/"
        },
        "id": "6SAGvmIlyCGq",
        "outputId": "2f1b2392-fdd4-47fc-ce85-88388622e880"
      },
      "execution_count": 57,
      "outputs": [
        {
          "output_type": "execute_result",
          "data": {
            "text/plain": [
              "(array([126.99678 , 124.71317 , 120.47815 , 117.035324, 123.85112 ,\n",
              "        122.417435, 125.01597 , 123.80586 , 125.967766, 118.13383 ,\n",
              "        127.48697 , 121.978004, 131.4563  , 117.72407 , 129.93982 ,\n",
              "        122.33956 , 118.182915, 119.11058 , 120.018265, 123.83083 ],\n",
              "       dtype=float32), 124.41418)"
            ]
          },
          "metadata": {},
          "execution_count": 57
        }
      ]
    },
    {
      "cell_type": "code",
      "source": [
        "model.predict(series[1000:1020][np.newaxis])"
      ],
      "metadata": {
        "colab": {
          "base_uri": "https://localhost:8080/"
        },
        "id": "iGPczYKJy07y",
        "outputId": "478d3e17-1138-4478-db28-2f6908620923"
      },
      "execution_count": 58,
      "outputs": [
        {
          "output_type": "stream",
          "name": "stdout",
          "text": [
            "1/1 [==============================] - 0s 37ms/step\n"
          ]
        },
        {
          "output_type": "execute_result",
          "data": {
            "text/plain": [
              "array([[125.52945]], dtype=float32)"
            ]
          },
          "metadata": {},
          "execution_count": 58
        }
      ]
    },
    {
      "cell_type": "code",
      "source": [
        "series[1000:1020].shape, series[1000:1020][np.newaxis].shape"
      ],
      "metadata": {
        "colab": {
          "base_uri": "https://localhost:8080/"
        },
        "id": "7Q7lIBZ4zh4i",
        "outputId": "8c451af2-8257-44c6-b8f2-6061c98b9f81"
      },
      "execution_count": 59,
      "outputs": [
        {
          "output_type": "execute_result",
          "data": {
            "text/plain": [
              "((20,), (1, 20))"
            ]
          },
          "metadata": {},
          "execution_count": 59
        }
      ]
    },
    {
      "cell_type": "code",
      "source": [
        "forecast = []\n",
        "for time in range(len(series) - window_size  ):\n",
        "  forecast.append(\n",
        "      model.predict(series[time:time+ window_size][np.newaxis])\n",
        "  )"
      ],
      "metadata": {
        "id": "YiaQylVnzqIC"
      },
      "execution_count": null,
      "outputs": []
    },
    {
      "cell_type": "code",
      "source": [
        "forecast2 = forecast[split_time - window_size:]\n",
        "results = np.array(forecast2)[:,0,0]"
      ],
      "metadata": {
        "id": "BYHrwR5Q0vkS"
      },
      "execution_count": 61,
      "outputs": []
    },
    {
      "cell_type": "code",
      "source": [
        "def plotSeries(time, series, label,format = '-',start=0,end=None):\n",
        "  plt.plot(time[start:end], series[start:end], format,label=label)\n",
        "  plt.xlabel('time')\n",
        "  plt.xlabel('value')\n",
        "  plt.grid(True)"
      ],
      "metadata": {
        "id": "n51M6KmK1RiD"
      },
      "execution_count": 65,
      "outputs": []
    },
    {
      "cell_type": "code",
      "source": [
        "plt.figure(figsize = (10,6))\n",
        "plotSeries(time_valid, x_valid,'train')\n",
        "plotSeries(time_valid, results,'predict')\n",
        "plt.legend()"
      ],
      "metadata": {
        "colab": {
          "base_uri": "https://localhost:8080/",
          "height": 406
        },
        "id": "SoBrVeag1smi",
        "outputId": "1e3d6d4a-0f34-4ad8-8f5e-f4d4adb4e1e7"
      },
      "execution_count": 67,
      "outputs": [
        {
          "output_type": "execute_result",
          "data": {
            "text/plain": [
              "<matplotlib.legend.Legend at 0x7f3180c8d610>"
            ]
          },
          "metadata": {},
          "execution_count": 67
        },
        {
          "output_type": "display_data",
          "data": {
            "text/plain": [
              "<Figure size 720x432 with 1 Axes>"
            ],
            "image/png": "[encoded data removed]"
          },
          "metadata": {
            "needs_background": "light"
          }
        }
      ]
    },
    {
      "cell_type": "code",
      "source": [
        "!pip install keras-tuner"
      ],
      "metadata": {
        "id": "E8Nj-5t_16lx"
      },
      "execution_count": null,
      "outputs": []
    },
    {
      "cell_type": "code",
      "source": [
        "from keras_tuner.tuners import RandomSearch"
      ],
      "metadata": {
        "id": "S_IrPWhD2muy"
      },
      "execution_count": 69,
      "outputs": []
    },
    {
      "cell_type": "code",
      "source": [
        "def build_model(hp):\n",
        "  model = tf.keras.models.Sequential()\n",
        "  model.add(tf.keras.layers.Dense(\n",
        "    units=hp.Int('units', min_value=10, max_value=30, step=2),\n",
        "    activation='relu', input_shape=[window_size]))\n",
        "  model.add(tf.keras.layers.Dense(10,activation='relu'))\n",
        "  model.add(tf.keras.layers.Dense(1))\n",
        "  sgd = tf.keras.optimizers.SGD(\n",
        "      learning_rate = 1e-4, momentum = hp.Choice('momentum', values = [.9,.7,.5,.3])\n",
        "  )\n",
        "  model.compile(loss='mse', optimizer= sgd)\n",
        "  return model"
      ],
      "metadata": {
        "id": "KoRalt4D22di"
      },
      "execution_count": 70,
      "outputs": []
    },
    {
      "cell_type": "code",
      "source": [
        "tuner = RandomSearch(build_model, objective='loss', max_trials=150,executions_per_trial=3\n",
        "             , directory = 'my_dir', project_name='hello', overwrite = True)"
      ],
      "metadata": {
        "id": "qlHulNta4I_q"
      },
      "execution_count": 71,
      "outputs": []
    },
    {
      "cell_type": "code",
      "source": [
        "tuner.search(dataset, epochs=100, verbose=0)"
      ],
      "metadata": {
        "id": "QP3rOoCF4mNh"
      },
      "execution_count": null,
      "outputs": []
    },
    {
      "cell_type": "code",
      "source": [
        "tuner.results_summary()"
      ],
      "metadata": {
        "id": "BdSrkxdl4s7z"
      },
      "execution_count": null,
      "outputs": []
    },
    {
      "cell_type": "code",
      "source": [
        "best_models =  tuner.get_best_models()"
      ],
      "metadata": {
        "id": "lNjq5vRB4-Jh"
      },
      "execution_count": null,
      "outputs": []
    }
  ]
}
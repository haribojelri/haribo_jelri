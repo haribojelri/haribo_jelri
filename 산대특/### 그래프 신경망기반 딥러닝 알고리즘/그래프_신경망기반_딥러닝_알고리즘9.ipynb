{
  "nbformat": 4,
  "nbformat_minor": 0,
  "metadata": {
    "colab": {
      "provenance": []
    },
    "kernelspec": {
      "name": "python3",
      "display_name": "Python 3"
    },
    "language_info": {
      "name": "python"
    },
    "accelerator": "GPU",
    "gpuClass": "standard"
  },
  "cells": [
    {
      "cell_type": "code",
      "execution_count": 1,
      "metadata": {
        "id": "CoAQIPVgWenA"
      },
      "outputs": [],
      "source": [
        "# RNN 기반 감성 분류기"
      ]
    },
    {
      "cell_type": "code",
      "source": [
        "from tensorflow import keras\n",
        "from tensorflow.keras.datasets import imdb\n",
        "from tensorflow.keras.preprocessing.sequence import pad_sequences\n",
        "from tensorflow.keras.models import Sequential\n",
        "from tensorflow.keras.layers import Dense, Dropout, Embedding, SpatialDropout1D, SimpleRNN\n",
        "from tensorflow.keras.callbacks import ModelCheckpoint\n",
        "import os\n",
        "from sklearn.metrics import roc_auc_score\n",
        "import matplotlib.pyplot as plt"
      ],
      "metadata": {
        "id": "EIGz0mIXWh5O"
      },
      "execution_count": 2,
      "outputs": []
    },
    {
      "cell_type": "code",
      "source": [
        "# 하이퍼 파라메터 설정\n",
        "output_dir =   './model_output/rnn'\n",
        "epochs = 16\n",
        "batch_size = 128\n",
        "\n",
        "# 벡터공간\n",
        "n_dim = 64\n",
        "n_unique_words = 10000\n",
        "max_review_length = 100 # 그레이디언트 소실때문에 낮춤\n",
        "pad_type = trunc_type = 'pre'\n",
        "drop_embed = 0.2\n",
        "\n",
        "#Rnn 층\n",
        "n_rnn = 256\n",
        "drop_rnn = 0.2"
      ],
      "metadata": {
        "id": "hEr7JFuMYdPz"
      },
      "execution_count": 3,
      "outputs": []
    },
    {
      "cell_type": "code",
      "source": [
        "(x_train,y_train),(x_valid, y_valid) = imdb.load_data(num_words=n_unique_words)"
      ],
      "metadata": {
        "id": "fMffAUaGZWJz"
      },
      "execution_count": 4,
      "outputs": []
    },
    {
      "cell_type": "code",
      "source": [
        "x_train[0][:10],y_train[0]"
      ],
      "metadata": {
        "colab": {
          "base_uri": "https://localhost:8080/"
        },
        "id": "dQZybN9EZgPZ",
        "outputId": "c8827602-1af0-4157-91b4-024a376c05d4"
      },
      "execution_count": 5,
      "outputs": [
        {
          "output_type": "execute_result",
          "data": {
            "text/plain": [
              "([1, 14, 22, 16, 43, 530, 973, 1622, 1385, 65], 1)"
            ]
          },
          "metadata": {},
          "execution_count": 5
        }
      ]
    },
    {
      "cell_type": "code",
      "source": [
        "for i in range(3):\n",
        "  print(len(x_train[i]))"
      ],
      "metadata": {
        "colab": {
          "base_uri": "https://localhost:8080/"
        },
        "id": "cg3788GUad3u",
        "outputId": "9d4a0e3c-7f51-4b83-d19e-9c393cf99096"
      },
      "execution_count": 6,
      "outputs": [
        {
          "output_type": "stream",
          "name": "stdout",
          "text": [
            "218\n",
            "189\n",
            "141\n"
          ]
        }
      ]
    },
    {
      "cell_type": "code",
      "source": [
        "x_train = pad_sequences(x_train, maxlen=max_review_length)\n",
        "x_valid = pad_sequences(x_valid, maxlen=max_review_length)"
      ],
      "metadata": {
        "id": "i8xnhLfzZlGy"
      },
      "execution_count": 7,
      "outputs": []
    },
    {
      "cell_type": "code",
      "source": [
        "for i in range(3):\n",
        "  print(len(x_train[i]))"
      ],
      "metadata": {
        "colab": {
          "base_uri": "https://localhost:8080/"
        },
        "id": "Db8UrK13aOrR",
        "outputId": "7c5b119f-0cc5-401b-c9d3-203b643ba3b0"
      },
      "execution_count": 8,
      "outputs": [
        {
          "output_type": "stream",
          "name": "stdout",
          "text": [
            "100\n",
            "100\n",
            "100\n"
          ]
        }
      ]
    },
    {
      "cell_type": "code",
      "source": [
        "# 단어를 분리하고 불용어제거하고 이를 원핫이나 또는 단어임베딩을 통해서 수치 데이터로 변경  -imdb\n",
        "# 문장의 길이를 통일"
      ],
      "metadata": {
        "id": "zZC7FM_FaP6J"
      },
      "execution_count": 9,
      "outputs": []
    },
    {
      "cell_type": "code",
      "source": [
        "# 신경망\n",
        "model = Sequential()\n",
        "model.add(Embedding(n_unique_words, n_dim, input_length = max_review_length))\n",
        "model.add(SpatialDropout1D(drop_embed))\n",
        "model.add(SimpleRNN(n_rnn, dropout = drop_rnn))\n",
        "model.add(Dense(1,activation = 'sigmoid'))\n",
        "model.summary()"
      ],
      "metadata": {
        "colab": {
          "base_uri": "https://localhost:8080/"
        },
        "id": "xa6t74Vuaw3y",
        "outputId": "737a7b46-4907-4937-fc48-1a8a8d7812b7"
      },
      "execution_count": 10,
      "outputs": [
        {
          "output_type": "stream",
          "name": "stdout",
          "text": [
            "Model: \"sequential\"\n",
            "_________________________________________________________________\n",
            " Layer (type)                Output Shape              Param #   \n",
            "=================================================================\n",
            " embedding (Embedding)       (None, 100, 64)           640000    \n",
            "                                                                 \n",
            " spatial_dropout1d (SpatialD  (None, 100, 64)          0         \n",
            " ropout1D)                                                       \n",
            "                                                                 \n",
            " simple_rnn (SimpleRNN)      (None, 256)               82176     \n",
            "                                                                 \n",
            " dense (Dense)               (None, 1)                 257       \n",
            "                                                                 \n",
            "=================================================================\n",
            "Total params: 722,433\n",
            "Trainable params: 722,433\n",
            "Non-trainable params: 0\n",
            "_________________________________________________________________\n"
          ]
        }
      ]
    },
    {
      "cell_type": "code",
      "source": [
        "from sklearn import metrics\n",
        "# 모델설정\n",
        "model.compile(loss='binary_crossentropy', optimizer = 'adam', metrics=['accuracy'])\n",
        "checkpoint = ModelCheckpoint(filepath=output_dir+'/weights.{epoch:02d}.hdf5')\n",
        "if not os.path.exists(output_dir):\n",
        "  os.makedirs(output_dir)"
      ],
      "metadata": {
        "id": "dx-2QFuPbYDR"
      },
      "execution_count": 12,
      "outputs": []
    },
    {
      "cell_type": "code",
      "source": [
        "# 훈련\n",
        "model.fit(x_train, y_train, batch_size = batch_size, epochs=epochs, verbose=1, validation_data = (x_valid,y_valid),\n",
        "          callbacks = [checkpoint]\n",
        ")"
      ],
      "metadata": {
        "colab": {
          "base_uri": "https://localhost:8080/"
        },
        "id": "1PXB1iHuciqy",
        "outputId": "cd31dd8d-02e8-4a22-dfc9-802884acb854"
      },
      "execution_count": 13,
      "outputs": [
        {
          "output_type": "stream",
          "name": "stdout",
          "text": [
            "Epoch 1/16\n",
            "196/196 [==============================] - 32s 149ms/step - loss: 0.6883 - accuracy: 0.5329 - val_loss: 0.6544 - val_accuracy: 0.5942\n",
            "Epoch 2/16\n",
            "196/196 [==============================] - 29s 147ms/step - loss: 0.6342 - accuracy: 0.6296 - val_loss: 0.6722 - val_accuracy: 0.5928\n",
            "Epoch 3/16\n",
            "196/196 [==============================] - 29s 147ms/step - loss: 0.5670 - accuracy: 0.6965 - val_loss: 0.6373 - val_accuracy: 0.6338\n",
            "Epoch 4/16\n",
            "196/196 [==============================] - 32s 161ms/step - loss: 0.4817 - accuracy: 0.7620 - val_loss: 0.6108 - val_accuracy: 0.6861\n",
            "Epoch 5/16\n",
            "196/196 [==============================] - 29s 149ms/step - loss: 0.4637 - accuracy: 0.7730 - val_loss: 0.6034 - val_accuracy: 0.6670\n",
            "Epoch 6/16\n",
            "196/196 [==============================] - 29s 147ms/step - loss: 0.4128 - accuracy: 0.8087 - val_loss: 0.6806 - val_accuracy: 0.6134\n",
            "Epoch 7/16\n",
            "196/196 [==============================] - 29s 148ms/step - loss: 0.3474 - accuracy: 0.8480 - val_loss: 0.6917 - val_accuracy: 0.6678\n",
            "Epoch 8/16\n",
            "196/196 [==============================] - 29s 148ms/step - loss: 0.3592 - accuracy: 0.8359 - val_loss: 0.6527 - val_accuracy: 0.7156\n",
            "Epoch 9/16\n",
            "196/196 [==============================] - 31s 159ms/step - loss: 0.3020 - accuracy: 0.8700 - val_loss: 0.6622 - val_accuracy: 0.7310\n",
            "Epoch 10/16\n",
            "196/196 [==============================] - 29s 149ms/step - loss: 0.3077 - accuracy: 0.8672 - val_loss: 0.7054 - val_accuracy: 0.7102\n",
            "Epoch 11/16\n",
            "196/196 [==============================] - 29s 146ms/step - loss: 0.2511 - accuracy: 0.8987 - val_loss: 0.8411 - val_accuracy: 0.6728\n",
            "Epoch 12/16\n",
            "196/196 [==============================] - 29s 148ms/step - loss: 0.2498 - accuracy: 0.8980 - val_loss: 0.8721 - val_accuracy: 0.6857\n",
            "Epoch 13/16\n",
            "196/196 [==============================] - 29s 146ms/step - loss: 0.1945 - accuracy: 0.9243 - val_loss: 0.8450 - val_accuracy: 0.6644\n",
            "Epoch 14/16\n",
            "196/196 [==============================] - 29s 147ms/step - loss: 0.1712 - accuracy: 0.9333 - val_loss: 0.9262 - val_accuracy: 0.6855\n",
            "Epoch 15/16\n",
            "196/196 [==============================] - 29s 150ms/step - loss: 0.1737 - accuracy: 0.9318 - val_loss: 0.8264 - val_accuracy: 0.7081\n",
            "Epoch 16/16\n",
            "196/196 [==============================] - 31s 160ms/step - loss: 0.1296 - accuracy: 0.9515 - val_loss: 0.9561 - val_accuracy: 0.7110\n"
          ]
        },
        {
          "output_type": "execute_result",
          "data": {
            "text/plain": [
              "<keras.callbacks.History at 0x7f874a447070>"
            ]
          },
          "metadata": {},
          "execution_count": 13
        }
      ]
    },
    {
      "cell_type": "code",
      "source": [
        "# 모델이 로드한 가중치에 해당하는 에포크상태로 변경\n",
        "# model.load_weights(output_dir+ '')"
      ],
      "metadata": {
        "id": "g4x78UtQgtVT"
      },
      "execution_count": null,
      "outputs": []
    },
    {
      "cell_type": "code",
      "source": [
        "y_hat = model.predict(x_valid)"
      ],
      "metadata": {
        "colab": {
          "base_uri": "https://localhost:8080/"
        },
        "id": "5D8s8sFDdEr7",
        "outputId": "88f9e9f6-00ac-41e7-e0bd-1970b756c59e"
      },
      "execution_count": 14,
      "outputs": [
        {
          "output_type": "stream",
          "name": "stdout",
          "text": [
            "782/782 [==============================] - 9s 11ms/step\n"
          ]
        }
      ]
    },
    {
      "cell_type": "code",
      "source": [
        "plt.hist(y_hat)\n",
        "plt.axvline(x = 0.5, color='red')"
      ],
      "metadata": {
        "colab": {
          "base_uri": "https://localhost:8080/",
          "height": 284
        },
        "id": "hk7fedgxkMVS",
        "outputId": "4953d613-b25f-48e8-a7bf-38946ac752f7"
      },
      "execution_count": 16,
      "outputs": [
        {
          "output_type": "execute_result",
          "data": {
            "text/plain": [
              "<matplotlib.lines.Line2D at 0x7f874df00700>"
            ]
          },
          "metadata": {},
          "execution_count": 16
        },
        {
          "output_type": "display_data",
          "data": {
            "text/plain": [
              "<Figure size 432x288 with 1 Axes>"
            ],
            "image/png": "[encoded data removed]"
          },
          "metadata": {
            "needs_background": "light"
          }
        }
      ]
    },
    {
      "cell_type": "code",
      "source": [],
      "metadata": {
        "id": "vh7I6dXPkVDx"
      },
      "execution_count": null,
      "outputs": []
    }
  ]
}
{
  "nbformat": 4,
  "nbformat_minor": 0,
  "metadata": {
    "colab": {
      "provenance": []
    },
    "kernelspec": {
      "name": "python3",
      "display_name": "Python 3"
    },
    "language_info": {
      "name": "python"
    },
    "accelerator": "GPU",
    "gpuClass": "standard"
  },
  "cells": [
    {
      "cell_type": "code",
      "execution_count": 1,
      "metadata": {
        "id": "QfPnKvu1DSP6"
      },
      "outputs": [],
      "source": [
        "# LeNet5 \n",
        "# c-c-p-do f d-do-d"
      ]
    },
    {
      "cell_type": "code",
      "source": [
        "# 라이브러리 로드\n",
        "from tensorflow import keras\n",
        "from tensorflow.keras.datasets import mnist\n",
        "from tensorflow.keras.models import Sequential\n",
        "from tensorflow.keras.layers import Dense,Dropout\n",
        "from tensorflow.keras.layers import Flatten,Conv2D,MaxPool2D"
      ],
      "metadata": {
        "id": "gv5IGJ5YDtvl"
      },
      "execution_count": 2,
      "outputs": []
    },
    {
      "cell_type": "code",
      "source": [
        "(x_train,y_train),(x_teset,y_test) = mnist.load_data()"
      ],
      "metadata": {
        "colab": {
          "base_uri": "https://localhost:8080/"
        },
        "id": "EkYeNoH1EMTy",
        "outputId": "bc95b29b-b38d-4698-da85-9b76ffdac868"
      },
      "execution_count": 3,
      "outputs": [
        {
          "output_type": "stream",
          "name": "stdout",
          "text": [
            "Downloading data from https://storage.googleapis.com/tensorflow/tf-keras-datasets/mnist.npz\n",
            "11490434/11490434 [==============================] - 1s 0us/step\n"
          ]
        }
      ]
    },
    {
      "cell_type": "code",
      "source": [
        "# 필요한 경우 전처리\n",
        "x_train.shape\n",
        "x_train = x_train.reshape(-1,28,28,1) / 255.\n",
        "x_teset = x_teset.reshape(-1,28,28,1) / 255.\n",
        "\n",
        "n_classes = 10\n",
        "y_train = keras.utils.to_categorical(y_train,n_classes)\n",
        "y_test = keras.utils.to_categorical(y_test,n_classes)"
      ],
      "metadata": {
        "id": "micDdYQeEaIr"
      },
      "execution_count": 4,
      "outputs": []
    },
    {
      "cell_type": "code",
      "source": [
        "# 모델 만들고\n",
        "# c-c-p-do f d-do-d\n",
        "model = Sequential()\n",
        "model.add(Conv2D(32,(3,3),activation='relu', input_shape=(28,28,1)))\n",
        "model.add(Conv2D(64,(3,3),activation='relu'))\n",
        "model.add(MaxPool2D())\n",
        "model.add(Dropout(0.25))\n",
        "\n",
        "model.add(Flatten())\n",
        "\n",
        "model.add(Dense(128, activation='relu'))\n",
        "model.add(Dropout(0.5))\n",
        "model.add(Dense(n_classes, activation='softmax'))"
      ],
      "metadata": {
        "id": "M8pASdJwEdn0"
      },
      "execution_count": 5,
      "outputs": []
    },
    {
      "cell_type": "code",
      "source": [
        "# 훈련\n",
        "model.compile(loss='categorical_crossentropy', optimizer='adam', metrics=['accuracy'])\n",
        "history = model.fit(x_train,y_train,batch_size = 128, epochs = 10, validation_split=0.8)"
      ],
      "metadata": {
        "colab": {
          "base_uri": "https://localhost:8080/"
        },
        "id": "Qu2qPQkEEfXk",
        "outputId": "6cd8b700-51be-49b2-93f5-6f775fe09944"
      },
      "execution_count": 6,
      "outputs": [
        {
          "output_type": "stream",
          "name": "stdout",
          "text": [
            "Epoch 1/10\n",
            "94/94 [==============================] - 11s 29ms/step - loss: 0.5570 - accuracy: 0.8301 - val_loss: 0.1847 - val_accuracy: 0.9478\n",
            "Epoch 2/10\n",
            "94/94 [==============================] - 3s 36ms/step - loss: 0.1908 - accuracy: 0.9426 - val_loss: 0.1019 - val_accuracy: 0.9689\n",
            "Epoch 3/10\n",
            "94/94 [==============================] - 2s 24ms/step - loss: 0.1253 - accuracy: 0.9612 - val_loss: 0.0971 - val_accuracy: 0.9707\n",
            "Epoch 4/10\n",
            "94/94 [==============================] - 3s 36ms/step - loss: 0.1030 - accuracy: 0.9706 - val_loss: 0.0803 - val_accuracy: 0.9756\n",
            "Epoch 5/10\n",
            "94/94 [==============================] - 2s 24ms/step - loss: 0.0811 - accuracy: 0.9740 - val_loss: 0.0752 - val_accuracy: 0.9769\n",
            "Epoch 6/10\n",
            "94/94 [==============================] - 2s 24ms/step - loss: 0.0699 - accuracy: 0.9774 - val_loss: 0.0670 - val_accuracy: 0.9800\n",
            "Epoch 7/10\n",
            "94/94 [==============================] - 3s 36ms/step - loss: 0.0576 - accuracy: 0.9813 - val_loss: 0.0683 - val_accuracy: 0.9802\n",
            "Epoch 8/10\n",
            "94/94 [==============================] - 2s 24ms/step - loss: 0.0486 - accuracy: 0.9847 - val_loss: 0.0784 - val_accuracy: 0.9774\n",
            "Epoch 9/10\n",
            "94/94 [==============================] - 2s 24ms/step - loss: 0.0417 - accuracy: 0.9872 - val_loss: 0.0659 - val_accuracy: 0.9816\n",
            "Epoch 10/10\n",
            "94/94 [==============================] - 3s 36ms/step - loss: 0.0418 - accuracy: 0.9868 - val_loss: 0.0651 - val_accuracy: 0.9817\n"
          ]
        }
      ]
    },
    {
      "cell_type": "code",
      "source": [
        "# 평가\n",
        "model.evaluate(x_teset,y_test)"
      ],
      "metadata": {
        "colab": {
          "base_uri": "https://localhost:8080/"
        },
        "id": "1pjI7wNLEf8z",
        "outputId": "233d2186-6a02-4df3-fdc0-d91015c05118"
      },
      "execution_count": 9,
      "outputs": [
        {
          "output_type": "stream",
          "name": "stdout",
          "text": [
            "313/313 [==============================] - 1s 3ms/step - loss: 0.0587 - accuracy: 0.9819\n"
          ]
        },
        {
          "output_type": "execute_result",
          "data": {
            "text/plain": [
              "[0.05869487300515175, 0.9818999767303467]"
            ]
          },
          "metadata": {},
          "execution_count": 9
        }
      ]
    },
    {
      "cell_type": "code",
      "source": [],
      "metadata": {
        "id": "Ib4uP0UUMeFk"
      },
      "execution_count": null,
      "outputs": []
    }
  ]
}
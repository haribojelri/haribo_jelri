{
 "cells": [
  {
   "cell_type": "code",
   "execution_count": 2,
   "id": "43424bfd",
   "metadata": {
    "scrolled": true
   },
   "outputs": [
    {
     "name": "stdout",
     "output_type": "stream",
     "text": [
      "Requirement already satisfied: selenium in c:\\users\\user\\miniconda3\\lib\\site-packages (4.4.3)\n",
      "Requirement already satisfied: trio-websocket~=0.9 in c:\\users\\user\\miniconda3\\lib\\site-packages (from selenium) (0.9.2)\n",
      "Requirement already satisfied: certifi>=2021.10.8 in c:\\users\\user\\miniconda3\\lib\\site-packages (from selenium) (2022.6.15.2)\n",
      "Requirement already satisfied: trio~=0.17 in c:\\users\\user\\miniconda3\\lib\\site-packages (from selenium) (0.21.0)\n",
      "Requirement already satisfied: urllib3[socks]~=1.26 in c:\\users\\user\\miniconda3\\lib\\site-packages (from selenium) (1.26.8)\n",
      "Requirement already satisfied: sortedcontainers in c:\\users\\user\\miniconda3\\lib\\site-packages (from trio~=0.17->selenium) (2.4.0)\n",
      "Requirement already satisfied: async-generator>=1.9 in c:\\users\\user\\miniconda3\\lib\\site-packages (from trio~=0.17->selenium) (1.10)\n",
      "Requirement already satisfied: attrs>=19.2.0 in c:\\users\\user\\miniconda3\\lib\\site-packages (from trio~=0.17->selenium) (22.1.0)\n",
      "Requirement already satisfied: cffi>=1.14 in c:\\users\\user\\miniconda3\\lib\\site-packages (from trio~=0.17->selenium) (1.15.0)\n",
      "Requirement already satisfied: idna in c:\\users\\user\\miniconda3\\lib\\site-packages (from trio~=0.17->selenium) (3.3)\n",
      "Requirement already satisfied: sniffio in c:\\users\\user\\miniconda3\\lib\\site-packages (from trio~=0.17->selenium) (1.3.0)\n",
      "Requirement already satisfied: outcome in c:\\users\\user\\miniconda3\\lib\\site-packages (from trio~=0.17->selenium) (1.2.0)\n",
      "Requirement already satisfied: pycparser in c:\\users\\user\\miniconda3\\lib\\site-packages (from cffi>=1.14->trio~=0.17->selenium) (2.21)\n",
      "Requirement already satisfied: wsproto>=0.14 in c:\\users\\user\\miniconda3\\lib\\site-packages (from trio-websocket~=0.9->selenium) (1.2.0)\n",
      "Requirement already satisfied: PySocks!=1.5.7,<2.0,>=1.5.6 in c:\\users\\user\\miniconda3\\lib\\site-packages (from urllib3[socks]~=1.26->selenium) (1.7.1)\n",
      "Requirement already satisfied: h11<1,>=0.9.0 in c:\\users\\user\\miniconda3\\lib\\site-packages (from wsproto>=0.14->trio-websocket~=0.9->selenium) (0.14.0)\n"
     ]
    }
   ],
   "source": [
    "!pip install selenium"
   ]
  },
  {
   "cell_type": "code",
   "execution_count": 3,
   "id": "774c4d31",
   "metadata": {},
   "outputs": [
    {
     "name": "stdout",
     "output_type": "stream",
     "text": [
      "Collecting bs4\n",
      "  Using cached bs4-0.0.1.tar.gz (1.1 kB)\n",
      "Requirement already satisfied: beautifulsoup4 in c:\\users\\user\\miniconda3\\lib\\site-packages (from bs4) (4.11.1)\n",
      "Requirement already satisfied: soupsieve>1.2 in c:\\users\\user\\miniconda3\\lib\\site-packages (from beautifulsoup4->bs4) (2.3.2.post1)\n",
      "Building wheels for collected packages: bs4\n",
      "  Building wheel for bs4 (setup.py): started\n",
      "  Building wheel for bs4 (setup.py): finished with status 'done'\n",
      "  Created wheel for bs4: filename=bs4-0.0.1-py3-none-any.whl size=1272 sha256=d0e21b810c792ef6f577797312d33c27dd03d000afa27278714381146d983920\n",
      "  Stored in directory: c:\\users\\user\\appdata\\local\\pip\\cache\\wheels\\73\\2b\\cb\\099980278a0c9a3e57ff1a89875ec07bfa0b6fcbebb9a8cad3\n",
      "Successfully built bs4\n",
      "Installing collected packages: bs4\n",
      "Successfully installed bs4-0.0.1\n"
     ]
    }
   ],
   "source": [
    "!pip install bs4"
   ]
  },
  {
   "cell_type": "code",
   "execution_count": 12,
   "id": "d22797ee",
   "metadata": {},
   "outputs": [],
   "source": [
    "import selenium\n",
    "from bs4 import BeautifulSoup\n",
    "from selenium import webdriver\n",
    "url = \"https:www.naver.com\"\n",
    "driver = webdriver.Chrome('chromedriver')\n",
    "driver.get(url)"
   ]
  },
  {
   "cell_type": "code",
   "execution_count": 13,
   "id": "3e0937af",
   "metadata": {},
   "outputs": [],
   "source": [
    "html = driver.page_source  # html 소스 가져오기\n",
    "soup =  BeautifulSoup(html, 'html.parser')"
   ]
  },
  {
   "cell_type": "code",
   "execution_count": 15,
   "id": "d018180b",
   "metadata": {},
   "outputs": [
    {
     "name": "stdout",
     "output_type": "stream",
     "text": [
      "\n",
      "\n",
      "\n",
      "ON/OFF 설정은해당기기(브라우저)에 저장됩니다.\n",
      "동일한 시간대/연령/남녀별 사용자 그룹의관심사에 맞춰 자동완성을 제공합니다.\n",
      "해당 언론사 사정으로 접근이 제한됩니다.\n",
      "을(를)구독해지 하시겠습니까?\n",
      "구독한 언론사에 추가되었습니다.\n",
      "해당 언론사 사정으로 접근이 제한됩니다.\n",
      "을(를)구독해지 하시겠습니까?\n",
      "구독한 언론사에 추가되었습니다.\n",
      "해당 언론사 사정으로 접근이 일시 제한됩니다.\n",
      "을(를)구독해지 하시겠습니까?\n",
      "해당 언론사 사정으로 접근이 제한됩니다.\n",
      "을(를)구독해지 하시겠습니까?\n",
      "언론사 구독 설정에서 관심있는 언론사를 구독하시면언론사가 직접 편집한 뉴스들을 네이버 홈에서 바로 보실 수 있습니다.\n",
      "강렬한 첫 만남, 그리고 1년 뒤오언은 내가 물건을 잃어버리는 방식에 관해, 잃어버리는 행위를 내 나름의 예술로 승화해나가는 방식에 관해 이야기하면서 나를 놀리곤 했다. 나는 물건을 제자리에 두지 않았고, 딴 곳에 정신을 팔았고, 자주 잊어버렸다. 우리가 두 번째 데이트를 하던 날, 나는 저녁을 먹었던 곳에서 주차권을 잃어버렸다. 오언과 나는 각자 자기 차\n",
      "백 번의 전시는 백 번의 ‘케바케’ 내가 전시 기획이란 것을 처음 배운 곳은 책이다. 학예사 자격증을 받기 위해서 박물관학과 전시에 관한 책들을 읽고 교육을 받으면서 나는 전시 기획이 뭔지 알게 되었다. 그때 내가 배운 박물관 전시 기획이란 다음과 같다. 몇 년에 걸쳐서 소장품을 연구하고, 분류한다. 보존 상태가 좋지 않은 것들은 꼼꼼\n",
      "올리버 색스를 흥미롭게 읽은 사람이라면, 이 책을 집어들 이유는 그것만으로 충분하다. ★하지현 건국대학교병원 정신건강의학과 전문의 추천! ☆ 부커상 수상자 존 밴빌 추천☆ ☆ 아마존 과학 분야 베스트셀러☆ ☆ 하버드대·영국왕립연구소 명강의☆ ☆ 뉴욕타임스·옵서버·퍼블리셔스 위클리 극찬☆ 우리 내면을 완성하는 기억과 뇌과학의 세계 오래된 기억들의 방 아주 오\n",
      "꽃말의 탄생 : 서양 문화로 읽는 매혹적인 꽃 이야기​신화, 역사, 문학에 숨겨진 꽃말의 유래 ‘사랑해’를 말하는 빨간 장미 애도를 표현하는 하얀 백합 많은 이들에게 사랑받는 50여 종의 꽃과 식물을 총망라! 국내에는 소개되지 않았던 꽃에 얽힌 신비로운 이야기 <꽃말의 탄생: 서양 문화로 읽는 매혹적인 꽃 이야기>는 우리에게\n",
      "#목요일에는코코아를 #아오야마미치코 아오야마 미치코 지음 ㅣ 권남희 옮김 ㅣ 128*190 ㅣ 13,800원 ㅣ 192쪽 “‘좋아요’를 누르고 싶은 작가가 등장했다!” 세상의 모든 삶, 그리고 돌연한 사랑을 응원하는 코코아처럼 따뜻한 열두 빛깔 옴니버스! 작은 위로가 큰 힘이 될 때가 있다. 한 편의 소설에서 그 위로를 찾는다면 《목요일에는 코코아를》을 건\n",
      "소란스러운 세계를 살아가는 내향인의 비밀스러운 기쁨에 대하여은둔과 거리를 사랑하는 어느 내향인의 소소한 기록 “이제 내향형 인간의 시대가 왔다”   은둔과 거리를 사랑하는 어느 내향인의 소소한 기록이제 ‘내향형 인간’의 시대가 왔다. 첫 산문집 《우아한 가난의 시대》(2020년 문학나눔 선정도서)에서 MZ세대의 만성적인 빈곤감과 우아한 삶을 향한 욕망에 관\n",
      "“갈수록 정보는 넘쳐나는데, 우리는 왜 두렵고 불안한가?” 거짓과 진실이 뒤엉킨 혼란스러운 시대에도 의심으로 일상의 평온을 지키는 회의주의의 길 저마다 ‘안다는 확신’으로 가득 찬 확증편향의 시대 ‘의심하는 인간Homo Dubitans’이 필요한 이유 미국의 한 18세 이민자 출신의 소년이 아버지를 살해한 혐의로 재판정에 섰다. 정황상 모든 증거가 소년이 \n",
      "도서명 : 아무것도 하지 않으면 아무것도 달라지지 않는다 저자 : 고윤(페이서스 코리아) 출판사명 : 마인드셋 분야 : 국내도서 > 자기계발 페이지 : 204page 사양 : 128x188mm 판형 : 무선제본 발행일 : 2022년 6월 30일 가격 : 14,400원 ISBN : 979-11-91043-92-1(03190) 아무것도 하지 않으면 아무것도 달\n",
      "가볍고 상쾌한 몸을 위한 기적의 스트레칭굽은 어깨가 직각 어깨로, 거북목이 일자목이 되는 방법부터 허리 통증, 골반 뒤틀림, 하체 부종까지 완벽 해결! 틀어지고 망가진 몸의 균형을 바로 잡는 ‘순간 스트레칭’의 힘 ★ 쉽고 효과 빠른 스트레칭 37 ★당신은 지금 몸이 보내는 신호를 무시하고 있지 않나요? 묵직한 어깨와 목, 시큰한 손목\n",
      "<내가 살인자의 마음을 읽는 이유> - 권일용(21세기북스) '모두가 안전한 세상을 위한 권일용의 범죄심리 수업'의 책으로 최근에 나왔다. 저자는 경찰청 제1호 프로파일링 마스터로서, 2017년 퇴직한 후로 방송에 자주 얼굴을 비치며 사람들의 관심을 끌었고, 이 책은 총 네 번의 강연 내용을 수정, 보완한 결과물이다. 30년간 약 3천 건의 강력사건 범죄현\n",
      "네이버를 더 안전하고 편리하게 이용하세요\n"
     ]
    }
   ],
   "source": [
    "tag_list = soup.select('body p')\n",
    "for tag in tag_list:\n",
    "    print(tag.text)"
   ]
  },
  {
   "cell_type": "code",
   "execution_count": 16,
   "id": "e2e42c1e",
   "metadata": {},
   "outputs": [],
   "source": [
    "from selenium.webdriver.common.by import By"
   ]
  },
  {
   "cell_type": "code",
   "execution_count": 17,
   "id": "5b3ecd64",
   "metadata": {},
   "outputs": [],
   "source": [
    "# btn =  driver.find_element(By.XPATH,'/html/body/div[2]/div[3]/div[3]/div/div[2]/a')"
   ]
  },
  {
   "cell_type": "code",
   "execution_count": 18,
   "id": "6b331611",
   "metadata": {},
   "outputs": [],
   "source": [
    "# btn.click()"
   ]
  },
  {
   "cell_type": "code",
   "execution_count": 19,
   "id": "54735b78",
   "metadata": {},
   "outputs": [],
   "source": [
    "# input_tag =  driver.find_element(By.CSS_SELECTOR,'#query')\n",
    "# input_tag.send_keys(\"이규영\")\n",
    "# input_tag.send_keys('\\n')   # enter key 입력\n",
    "# driver.implicitly_wait(3)  # 최대 3초 대기(3초 지나면 다음 코드 실행)"
   ]
  },
  {
   "cell_type": "code",
   "execution_count": 5,
   "id": "c128f26e",
   "metadata": {},
   "outputs": [],
   "source": [
    "driver.close()"
   ]
  },
  {
   "cell_type": "code",
   "execution_count": null,
   "id": "35633837",
   "metadata": {},
   "outputs": [],
   "source": []
  }
 ],
 "metadata": {
  "kernelspec": {
   "display_name": "Python 3 (ipykernel)",
   "language": "python",
   "name": "python3"
  },
  "language_info": {
   "codemirror_mode": {
    "name": "ipython",
    "version": 3
   },
   "file_extension": ".py",
   "mimetype": "text/x-python",
   "name": "python",
   "nbconvert_exporter": "python",
   "pygments_lexer": "ipython3",
   "version": "3.9.12"
  }
 },
 "nbformat": 4,
 "nbformat_minor": 5
}

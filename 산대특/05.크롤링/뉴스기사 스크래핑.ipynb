{
 "cells": [
  {
   "cell_type": "code",
   "execution_count": 168,
   "id": "27822dbc",
   "metadata": {},
   "outputs": [],
   "source": [
    "import pandas as pd\n",
    "import numpy as np\n",
    "from urllib import request\n",
    "from bs4 import BeautifulSoup"
   ]
  },
  {
   "cell_type": "code",
   "execution_count": 169,
   "id": "d02f6c4e",
   "metadata": {},
   "outputs": [],
   "source": [
    "url = 'https://news.daum.net/'\n",
    "target = request.urlopen(url)\n",
    "soup =  BeautifulSoup(target,'html.parser')"
   ]
  },
  {
   "cell_type": "code",
   "execution_count": 170,
   "id": "61645e13",
   "metadata": {},
   "outputs": [
    {
     "data": {
      "text/plain": [
       "'홈 | 다음뉴스'"
      ]
     },
     "execution_count": 170,
     "metadata": {},
     "output_type": "execute_result"
    }
   ],
   "source": [
    "soup.title.string"
   ]
  },
  {
   "cell_type": "code",
   "execution_count": 171,
   "id": "f9fe5f75",
   "metadata": {},
   "outputs": [
    {
     "data": {
      "text/plain": [
       "'https://v.daum.net/v/20220926133901281'"
      ]
     },
     "execution_count": 171,
     "metadata": {},
     "output_type": "execute_result"
    }
   ],
   "source": [
    "#ody > div.container-doc > main > section > div > div.content-article > div.box_g.box_news_issue > ul > li:nth-child(1) > div > div > strong > a\n",
    "# body > div.container-doc > main > section > div > div.content-article > div.box_g.box_news_issue > ul > li:nth-child(1) > div > div > strong > a\n",
    "# news = soup.select('div > strong > a')\n",
    "news_link = soup.select('div > strong > a')\n",
    "news_link[0]['href']\n",
    "# pd.DataFrame( [title.text.strip() for title in news])    "
   ]
  },
  {
   "cell_type": "code",
   "execution_count": 172,
   "id": "b7119386",
   "metadata": {},
   "outputs": [
    {
     "data": {
      "text/plain": [
       "'신승훈 콘서트에서 소름 끼친 이 장면'"
      ]
     },
     "execution_count": 172,
     "metadata": {},
     "output_type": "execute_result"
    }
   ],
   "source": [
    "news_link[0].text.strip()"
   ]
  },
  {
   "cell_type": "code",
   "execution_count": 173,
   "id": "46d20116",
   "metadata": {},
   "outputs": [],
   "source": [
    "df = pd.DataFrame([title.text.strip() for title in news_link])"
   ]
  },
  {
   "cell_type": "code",
   "execution_count": 174,
   "id": "1177d2ef",
   "metadata": {},
   "outputs": [
    {
     "data": {
      "text/html": [
       "<div>\n",
       "<style scoped>\n",
       "    .dataframe tbody tr th:only-of-type {\n",
       "        vertical-align: middle;\n",
       "    }\n",
       "\n",
       "    .dataframe tbody tr th {\n",
       "        vertical-align: top;\n",
       "    }\n",
       "\n",
       "    .dataframe thead th {\n",
       "        text-align: right;\n",
       "    }\n",
       "</style>\n",
       "<table border=\"1\" class=\"dataframe\">\n",
       "  <thead>\n",
       "    <tr style=\"text-align: right;\">\n",
       "      <th></th>\n",
       "      <th>0</th>\n",
       "    </tr>\n",
       "  </thead>\n",
       "  <tbody>\n",
       "    <tr>\n",
       "      <th>0</th>\n",
       "      <td>신승훈 콘서트에서 소름 끼친 이 장면</td>\n",
       "    </tr>\n",
       "    <tr>\n",
       "      <th>1</th>\n",
       "      <td>몰래 해외여행 가 성병 옮겨온 남편, 추궁하자 버럭..이혼 사유 될까?</td>\n",
       "    </tr>\n",
       "    <tr>\n",
       "      <th>2</th>\n",
       "      <td>'지방 총각들', 결혼이 유일한 답은 아니다 [신필규의 아직도 적응 중]</td>\n",
       "    </tr>\n",
       "    <tr>\n",
       "      <th>3</th>\n",
       "      <td>\"김건희 '7시간 통화' 방송도 MBC\"..국힘, 전면전 예고</td>\n",
       "    </tr>\n",
       "    <tr>\n",
       "      <th>4</th>\n",
       "      <td>전봉민 의원 \"최근 2년간 스토킹 혐의 입건 공무원 60명\"</td>\n",
       "    </tr>\n",
       "  </tbody>\n",
       "</table>\n",
       "</div>"
      ],
      "text/plain": [
       "                                          0\n",
       "0                      신승훈 콘서트에서 소름 끼친 이 장면\n",
       "1   몰래 해외여행 가 성병 옮겨온 남편, 추궁하자 버럭..이혼 사유 될까?\n",
       "2  '지방 총각들', 결혼이 유일한 답은 아니다 [신필규의 아직도 적응 중]\n",
       "3        \"김건희 '7시간 통화' 방송도 MBC\"..국힘, 전면전 예고\n",
       "4         전봉민 의원 \"최근 2년간 스토킹 혐의 입건 공무원 60명\""
      ]
     },
     "execution_count": 174,
     "metadata": {},
     "output_type": "execute_result"
    }
   ],
   "source": [
    "df.head()"
   ]
  },
  {
   "cell_type": "code",
   "execution_count": 175,
   "id": "83b54293",
   "metadata": {},
   "outputs": [
    {
     "data": {
      "text/html": [
       "<div>\n",
       "<style scoped>\n",
       "    .dataframe tbody tr th:only-of-type {\n",
       "        vertical-align: middle;\n",
       "    }\n",
       "\n",
       "    .dataframe tbody tr th {\n",
       "        vertical-align: top;\n",
       "    }\n",
       "\n",
       "    .dataframe thead th {\n",
       "        text-align: right;\n",
       "    }\n",
       "</style>\n",
       "<table border=\"1\" class=\"dataframe\">\n",
       "  <thead>\n",
       "    <tr style=\"text-align: right;\">\n",
       "      <th></th>\n",
       "      <th>0</th>\n",
       "      <th>link</th>\n",
       "    </tr>\n",
       "  </thead>\n",
       "  <tbody>\n",
       "    <tr>\n",
       "      <th>0</th>\n",
       "      <td>신승훈 콘서트에서 소름 끼친 이 장면</td>\n",
       "      <td>https://v.daum.net/v/20220926133901281</td>\n",
       "    </tr>\n",
       "    <tr>\n",
       "      <th>1</th>\n",
       "      <td>몰래 해외여행 가 성병 옮겨온 남편, 추궁하자 버럭..이혼 사유 될까?</td>\n",
       "      <td>https://v.daum.net/v/20220926133709239</td>\n",
       "    </tr>\n",
       "    <tr>\n",
       "      <th>2</th>\n",
       "      <td>'지방 총각들', 결혼이 유일한 답은 아니다 [신필규의 아직도 적응 중]</td>\n",
       "      <td>https://v.daum.net/v/20220926133600182</td>\n",
       "    </tr>\n",
       "    <tr>\n",
       "      <th>3</th>\n",
       "      <td>\"김건희 '7시간 통화' 방송도 MBC\"..국힘, 전면전 예고</td>\n",
       "      <td>https://v.daum.net/v/20220926133533166</td>\n",
       "    </tr>\n",
       "    <tr>\n",
       "      <th>4</th>\n",
       "      <td>전봉민 의원 \"최근 2년간 스토킹 혐의 입건 공무원 60명\"</td>\n",
       "      <td>https://v.daum.net/v/20220926133440124</td>\n",
       "    </tr>\n",
       "  </tbody>\n",
       "</table>\n",
       "</div>"
      ],
      "text/plain": [
       "                                          0  \\\n",
       "0                      신승훈 콘서트에서 소름 끼친 이 장면   \n",
       "1   몰래 해외여행 가 성병 옮겨온 남편, 추궁하자 버럭..이혼 사유 될까?   \n",
       "2  '지방 총각들', 결혼이 유일한 답은 아니다 [신필규의 아직도 적응 중]   \n",
       "3        \"김건희 '7시간 통화' 방송도 MBC\"..국힘, 전면전 예고   \n",
       "4         전봉민 의원 \"최근 2년간 스토킹 혐의 입건 공무원 60명\"   \n",
       "\n",
       "                                     link  \n",
       "0  https://v.daum.net/v/20220926133901281  \n",
       "1  https://v.daum.net/v/20220926133709239  \n",
       "2  https://v.daum.net/v/20220926133600182  \n",
       "3  https://v.daum.net/v/20220926133533166  \n",
       "4  https://v.daum.net/v/20220926133440124  "
      ]
     },
     "execution_count": 175,
     "metadata": {},
     "output_type": "execute_result"
    }
   ],
   "source": [
    "df['link'] =  [link['href'].strip() for link in news_link]\n",
    "df.head()"
   ]
  },
  {
   "cell_type": "code",
   "execution_count": 176,
   "id": "ed3fc0ed",
   "metadata": {},
   "outputs": [
    {
     "data": {
      "text/html": [
       "<div>\n",
       "<style scoped>\n",
       "    .dataframe tbody tr th:only-of-type {\n",
       "        vertical-align: middle;\n",
       "    }\n",
       "\n",
       "    .dataframe tbody tr th {\n",
       "        vertical-align: top;\n",
       "    }\n",
       "\n",
       "    .dataframe thead th {\n",
       "        text-align: right;\n",
       "    }\n",
       "</style>\n",
       "<table border=\"1\" class=\"dataframe\">\n",
       "  <thead>\n",
       "    <tr style=\"text-align: right;\">\n",
       "      <th></th>\n",
       "      <th>title</th>\n",
       "      <th>link</th>\n",
       "    </tr>\n",
       "  </thead>\n",
       "  <tbody>\n",
       "    <tr>\n",
       "      <th>0</th>\n",
       "      <td>신승훈 콘서트에서 소름 끼친 이 장면</td>\n",
       "      <td>https://v.daum.net/v/20220926133901281</td>\n",
       "    </tr>\n",
       "    <tr>\n",
       "      <th>1</th>\n",
       "      <td>몰래 해외여행 가 성병 옮겨온 남편, 추궁하자 버럭..이혼 사유 될까?</td>\n",
       "      <td>https://v.daum.net/v/20220926133709239</td>\n",
       "    </tr>\n",
       "    <tr>\n",
       "      <th>2</th>\n",
       "      <td>'지방 총각들', 결혼이 유일한 답은 아니다 [신필규의 아직도 적응 중]</td>\n",
       "      <td>https://v.daum.net/v/20220926133600182</td>\n",
       "    </tr>\n",
       "    <tr>\n",
       "      <th>3</th>\n",
       "      <td>\"김건희 '7시간 통화' 방송도 MBC\"..국힘, 전면전 예고</td>\n",
       "      <td>https://v.daum.net/v/20220926133533166</td>\n",
       "    </tr>\n",
       "    <tr>\n",
       "      <th>4</th>\n",
       "      <td>전봉민 의원 \"최근 2년간 스토킹 혐의 입건 공무원 60명\"</td>\n",
       "      <td>https://v.daum.net/v/20220926133440124</td>\n",
       "    </tr>\n",
       "  </tbody>\n",
       "</table>\n",
       "</div>"
      ],
      "text/plain": [
       "                                      title  \\\n",
       "0                      신승훈 콘서트에서 소름 끼친 이 장면   \n",
       "1   몰래 해외여행 가 성병 옮겨온 남편, 추궁하자 버럭..이혼 사유 될까?   \n",
       "2  '지방 총각들', 결혼이 유일한 답은 아니다 [신필규의 아직도 적응 중]   \n",
       "3        \"김건희 '7시간 통화' 방송도 MBC\"..국힘, 전면전 예고   \n",
       "4         전봉민 의원 \"최근 2년간 스토킹 혐의 입건 공무원 60명\"   \n",
       "\n",
       "                                     link  \n",
       "0  https://v.daum.net/v/20220926133901281  \n",
       "1  https://v.daum.net/v/20220926133709239  \n",
       "2  https://v.daum.net/v/20220926133600182  \n",
       "3  https://v.daum.net/v/20220926133533166  \n",
       "4  https://v.daum.net/v/20220926133440124  "
      ]
     },
     "execution_count": 176,
     "metadata": {},
     "output_type": "execute_result"
    }
   ],
   "source": [
    "df.columns = ['title','link']\n",
    "df.head()"
   ]
  },
  {
   "cell_type": "code",
   "execution_count": 177,
   "id": "e06f81cd",
   "metadata": {},
   "outputs": [],
   "source": [
    "from functools import reduce"
   ]
  },
  {
   "cell_type": "code",
   "execution_count": 137,
   "id": "12eda92a",
   "metadata": {},
   "outputs": [],
   "source": [
    "def getTextFromUrl(url):\n",
    "    target = request.urlopen(url)\n",
    "    soup = BeautifulSoup(target, 'html.parser')\n",
    "    contents = soup.find(\"div\",{\"class\":\"news_view fs_type1\"}).findAll(\"p\")[:-1]    \n",
    "    contents =  reduce(lambda x,y : x+y, [i.text for i in contents])\n",
    "    return contents    "
   ]
  },
  {
   "cell_type": "code",
   "execution_count": 150,
   "id": "8f791c33",
   "metadata": {
    "scrolled": true
   },
   "outputs": [
    {
     "data": {
      "text/html": [
       "<div>\n",
       "<style scoped>\n",
       "    .dataframe tbody tr th:only-of-type {\n",
       "        vertical-align: middle;\n",
       "    }\n",
       "\n",
       "    .dataframe tbody tr th {\n",
       "        vertical-align: top;\n",
       "    }\n",
       "\n",
       "    .dataframe thead th {\n",
       "        text-align: right;\n",
       "    }\n",
       "</style>\n",
       "<table border=\"1\" class=\"dataframe\">\n",
       "  <thead>\n",
       "    <tr style=\"text-align: right;\">\n",
       "      <th></th>\n",
       "      <th>title</th>\n",
       "      <th>link</th>\n",
       "      <th>detail</th>\n",
       "    </tr>\n",
       "  </thead>\n",
       "  <tbody>\n",
       "    <tr>\n",
       "      <th>0</th>\n",
       "      <td>伊 유력 극우 첫 총리 멜로니의 '거친 생각'에 EU '불안한 눈빛'</td>\n",
       "      <td>https://v.daum.net/v/20220926120204329</td>\n",
       "      <td>(서울=뉴스1) 최서윤 기자 = 이탈리아에 무솔리니의 향수가 돌아온다. 지난 25일...</td>\n",
       "    </tr>\n",
       "    <tr>\n",
       "      <th>1</th>\n",
       "      <td>경찰 \"신당역 사건 못 막아 송구..10월까지 스토킹 전수조사\"</td>\n",
       "      <td>https://v.daum.net/v/20220926120153318</td>\n",
       "      <td>기사내용 요약 불송치 포함 기존 400여 사건 조사해 조치키로 스토킹 수사역량 강화...</td>\n",
       "    </tr>\n",
       "    <tr>\n",
       "      <th>2</th>\n",
       "      <td>폭주하는 달러·원 환율, 13년6개월여만에 1430원도 '터치'</td>\n",
       "      <td>https://v.daum.net/v/20220926120140305</td>\n",
       "      <td>(서울=뉴스1) 이기림 기자 = 26일 달러·원 환율이 1430원을 돌파했다. 13...</td>\n",
       "    </tr>\n",
       "    <tr>\n",
       "      <th>3</th>\n",
       "      <td>공정위, 은행 스캐너 입찰 담합 3개사 적발..과징금 2.3억</td>\n",
       "      <td>https://v.daum.net/v/20220926120128276</td>\n",
       "      <td>기사내용 요약 낙찰 예정자·투찰가 등 미리 정해둬 유찰 우려에 들러리 참여 요청하기...</td>\n",
       "    </tr>\n",
       "    <tr>\n",
       "      <th>4</th>\n",
       "      <td>'경유 보조금' 연말까지 연장..생계형 운전자 부담 줄인다</td>\n",
       "      <td>https://v.daum.net/v/20220926120118266</td>\n",
       "      <td>생계형 운전자들의 유류비 부담을 완화하기 위해 도입된 '경유 유가연동보조금 제도'가...</td>\n",
       "    </tr>\n",
       "  </tbody>\n",
       "</table>\n",
       "</div>"
      ],
      "text/plain": [
       "                                    title  \\\n",
       "0  伊 유력 극우 첫 총리 멜로니의 '거친 생각'에 EU '불안한 눈빛'   \n",
       "1     경찰 \"신당역 사건 못 막아 송구..10월까지 스토킹 전수조사\"   \n",
       "2     폭주하는 달러·원 환율, 13년6개월여만에 1430원도 '터치'   \n",
       "3      공정위, 은행 스캐너 입찰 담합 3개사 적발..과징금 2.3억   \n",
       "4        '경유 보조금' 연말까지 연장..생계형 운전자 부담 줄인다   \n",
       "\n",
       "                                     link  \\\n",
       "0  https://v.daum.net/v/20220926120204329   \n",
       "1  https://v.daum.net/v/20220926120153318   \n",
       "2  https://v.daum.net/v/20220926120140305   \n",
       "3  https://v.daum.net/v/20220926120128276   \n",
       "4  https://v.daum.net/v/20220926120118266   \n",
       "\n",
       "                                              detail  \n",
       "0  (서울=뉴스1) 최서윤 기자 = 이탈리아에 무솔리니의 향수가 돌아온다. 지난 25일...  \n",
       "1  기사내용 요약 불송치 포함 기존 400여 사건 조사해 조치키로 스토킹 수사역량 강화...  \n",
       "2  (서울=뉴스1) 이기림 기자 = 26일 달러·원 환율이 1430원을 돌파했다. 13...  \n",
       "3  기사내용 요약 낙찰 예정자·투찰가 등 미리 정해둬 유찰 우려에 들러리 참여 요청하기...  \n",
       "4  생계형 운전자들의 유류비 부담을 완화하기 위해 도입된 '경유 유가연동보조금 제도'가...  "
      ]
     },
     "execution_count": 150,
     "metadata": {},
     "output_type": "execute_result"
    }
   ],
   "source": [
    "result_lilst = []\n",
    "for idx, link in enumerate( df['link']):\n",
    "    try:\n",
    "        result_lilst.append( getTextFromUrl(link))\n",
    "    except:\n",
    "        result_lilst.append(np.nan)\n",
    "df['detail'] = result_lilst\n",
    "df.head()\n",
    "    \n",
    "    \n"
   ]
  },
  {
   "cell_type": "code",
   "execution_count": 155,
   "id": "f266e9dc",
   "metadata": {},
   "outputs": [
    {
     "data": {
      "text/html": [
       "<div>\n",
       "<style scoped>\n",
       "    .dataframe tbody tr th:only-of-type {\n",
       "        vertical-align: middle;\n",
       "    }\n",
       "\n",
       "    .dataframe tbody tr th {\n",
       "        vertical-align: top;\n",
       "    }\n",
       "\n",
       "    .dataframe thead th {\n",
       "        text-align: right;\n",
       "    }\n",
       "</style>\n",
       "<table border=\"1\" class=\"dataframe\">\n",
       "  <thead>\n",
       "    <tr style=\"text-align: right;\">\n",
       "      <th></th>\n",
       "      <th>title</th>\n",
       "      <th>link</th>\n",
       "      <th>detail</th>\n",
       "    </tr>\n",
       "  </thead>\n",
       "  <tbody>\n",
       "    <tr>\n",
       "      <th>28</th>\n",
       "      <td>산비장이</td>\n",
       "      <td>https://gallery.v.daum.net/p/viewer/379/8TInvm...</td>\n",
       "      <td>NaN</td>\n",
       "    </tr>\n",
       "    <tr>\n",
       "      <th>29</th>\n",
       "      <td>전주 아파트에서 불.. 지체 장애 50대 화상</td>\n",
       "      <td>https://gallery.v.daum.net/p/viewer/1518/1U0TF...</td>\n",
       "      <td>NaN</td>\n",
       "    </tr>\n",
       "    <tr>\n",
       "      <th>30</th>\n",
       "      <td>'대중교통도 스마트 시대'..청계천 달리는 '자율주행 셔틀버스' 공개</td>\n",
       "      <td>https://gallery.v.daum.net/p/viewer/5024184/Xj...</td>\n",
       "      <td>NaN</td>\n",
       "    </tr>\n",
       "    <tr>\n",
       "      <th>31</th>\n",
       "      <td>원희룡 장관 \"대구·경북 통합 신공항, 이왕 짓는 김에 제대로 짓겠다\"</td>\n",
       "      <td>https://gallery.v.daum.net/p/viewer/5032954/yq...</td>\n",
       "      <td>NaN</td>\n",
       "    </tr>\n",
       "  </tbody>\n",
       "</table>\n",
       "</div>"
      ],
      "text/plain": [
       "                                      title  \\\n",
       "28                                     산비장이   \n",
       "29                전주 아파트에서 불.. 지체 장애 50대 화상   \n",
       "30   '대중교통도 스마트 시대'..청계천 달리는 '자율주행 셔틀버스' 공개   \n",
       "31  원희룡 장관 \"대구·경북 통합 신공항, 이왕 짓는 김에 제대로 짓겠다\"   \n",
       "\n",
       "                                                 link detail  \n",
       "28  https://gallery.v.daum.net/p/viewer/379/8TInvm...    NaN  \n",
       "29  https://gallery.v.daum.net/p/viewer/1518/1U0TF...    NaN  \n",
       "30  https://gallery.v.daum.net/p/viewer/5024184/Xj...    NaN  \n",
       "31  https://gallery.v.daum.net/p/viewer/5032954/yq...    NaN  "
      ]
     },
     "execution_count": 155,
     "metadata": {},
     "output_type": "execute_result"
    }
   ],
   "source": [
    "df[df['detail'].isnull()]"
   ]
  },
  {
   "cell_type": "code",
   "execution_count": 179,
   "id": "9e833bd5",
   "metadata": {},
   "outputs": [
    {
     "data": {
      "text/plain": [
       "title                                 '아베 국장 대표단 파견 철회하라!'\n",
       "link     https://gallery.v.daum.net/p/viewer/5573600/Vx...\n",
       "Name: 29, dtype: object"
      ]
     },
     "execution_count": 179,
     "metadata": {},
     "output_type": "execute_result"
    }
   ],
   "source": [
    "df.loc[29]"
   ]
  },
  {
   "cell_type": "code",
   "execution_count": null,
   "id": "4f618869",
   "metadata": {},
   "outputs": [],
   "source": []
  },
  {
   "cell_type": "code",
   "execution_count": null,
   "id": "7a4779ef",
   "metadata": {},
   "outputs": [],
   "source": []
  },
  {
   "cell_type": "code",
   "execution_count": null,
   "id": "8320761b",
   "metadata": {},
   "outputs": [],
   "source": []
  }
 ],
 "metadata": {
  "kernelspec": {
   "display_name": "Python 3 (ipykernel)",
   "language": "python",
   "name": "python3"
  },
  "language_info": {
   "codemirror_mode": {
    "name": "ipython",
    "version": 3
   },
   "file_extension": ".py",
   "mimetype": "text/x-python",
   "name": "python",
   "nbconvert_exporter": "python",
   "pygments_lexer": "ipython3",
   "version": "3.9.12"
  }
 },
 "nbformat": 4,
 "nbformat_minor": 5
}

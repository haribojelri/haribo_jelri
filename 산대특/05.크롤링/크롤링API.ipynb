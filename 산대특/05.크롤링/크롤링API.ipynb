{
 "cells": [
  {
   "cell_type": "code",
   "execution_count": 1,
   "id": "d1a038e9",
   "metadata": {},
   "outputs": [],
   "source": [
    "# 네이버 개발자 센터\n",
    "# 카카오 개발자 센터\n",
    "# 페이스북 개발자 센터\n",
    "# 트위터 개발자 센터\n",
    "# 공공데이터포털\n",
    "# 세계날씨 http://openweathermap.org\n",
    "# 유로..... 구글"
   ]
  },
  {
   "cell_type": "code",
   "execution_count": 2,
   "id": "43fef417",
   "metadata": {},
   "outputs": [],
   "source": [
    "# 전체작업 설계\n",
    "# 1. 검색어 지정 : srcText = 000\n",
    "# 2. 네이버 뉴스 검색 : getNaverSearch()\n",
    "#     url = base + node + srcText\n",
    "#     접속및 검색 요청 : urllib.request.urlopen()\n",
    "#     요청 결과 응답 json으로 받기 : json.load()\n",
    "# 3. 응답 데이터를 정리해서 리스트로 저장 : getPostData()\n",
    "# 4. 리스트를 JSON 파일로 저장 : json.dumps()"
   ]
  },
  {
   "cell_type": "code",
   "execution_count": 3,
   "id": "533c9c9e",
   "metadata": {},
   "outputs": [],
   "source": [
    "# 시퀀스\n",
    "# 검색어 지정 -> 뉴스검색->getNaverSearch()         ->         getRequestUrl()\n",
    "#                   <- json.load(responseDecode) <- Response.read()\n",
    "# 리스트에 저장 --------->   getPostData()\n",
    "#                <------ jsonResult"
   ]
  },
  {
   "cell_type": "code",
   "execution_count": 7,
   "id": "267ee2aa",
   "metadata": {},
   "outputs": [],
   "source": [
    "import urllib\n",
    "import datetime\n",
    "import json"
   ]
  },
  {
   "cell_type": "code",
   "execution_count": null,
   "id": "936cb9fc",
   "metadata": {},
   "outputs": [],
   "source": []
  },
  {
   "cell_type": "code",
   "execution_count": null,
   "id": "1d0e1d8b",
   "metadata": {},
   "outputs": [],
   "source": []
  },
  {
   "cell_type": "code",
   "execution_count": null,
   "id": "ac591e65",
   "metadata": {},
   "outputs": [],
   "source": []
  },
  {
   "cell_type": "code",
   "execution_count": 9,
   "id": "cd0bcc9c",
   "metadata": {},
   "outputs": [],
   "source": [
    "def getPostData(post,jsonResult,cnt):\n",
    "    title = post['title']\n",
    "    description = post['description']\n",
    "    org_link = post['originallink']\n",
    "    link = post['link']\n",
    "    pDate = datetime.datetime.strptime(post['pubDate'],'%a, %d %b %Y %H:%M:%S +0900' )\n",
    "    pDate = pDate.strptime('%Y-%m-%d %H:%M:%S')\n",
    "    jsonResult.append(\n",
    "        {\n",
    "                'cnt':cnt, 'title':title, 'description':description\n",
    "                ,'org_link':org_link, 'link':link, 'pDate':pDate\n",
    "        })\n",
    "    return"
   ]
  },
  {
   "cell_type": "code",
   "execution_count": 10,
   "id": "815892c7",
   "metadata": {},
   "outputs": [],
   "source": [
    "def getNaverSearch(node,srcText, start, display):\n",
    "    base = \"https://openapi.naver.com/v1/search\"\n",
    "    node = \"/\"+node+\".json\"\n",
    "    parameters = f\"?query={urllib.parse.quote(srcText)}&start={start}&display={display}\"\n",
    "    url = base+node+parameters\n",
    "    responseDecode = getRequestUrl(url)\n",
    "    if(responseDecode == None):\n",
    "        return None\n",
    "    else:\n",
    "        return json.loads(responseDecode)"
   ]
  },
  {
   "cell_type": "code",
   "execution_count": 11,
   "id": "55f5dad8",
   "metadata": {},
   "outputs": [],
   "source": [
    "def getRequestUrl(url):\n",
    "    req = urllib.request.Request(url)\n",
    "    req.add_header(\"X-Naver-Client-Id\",'1thcHFTKX2Brlcp2Y6PA')\n",
    "    req.add_header(\"X-Naver-Client-Secret\",'syAhbzt28N')\n",
    "    try:\n",
    "        response = urllib.request.urlopen(req)\n",
    "        if response.getcode() == 200:\n",
    "            print(f\"{datetime.datetime.now} url request success\")\n",
    "            return response.read().decode('utf-8')\n",
    "    except Exception as e:\n",
    "        print(e)\n",
    "        print(f\"{datetime.datetime.now} error for url : {url}\")\n",
    "    "
   ]
  },
  {
   "cell_type": "code",
   "execution_count": 12,
   "id": "e0c671b0",
   "metadata": {},
   "outputs": [],
   "source": [
    "# 함수설계하기\n",
    "def main():\n",
    "    node = 'news' # 크롤링할 대상\n",
    "    srcText = input('검색어를 입력하세요')\n",
    "    cnt = 0\n",
    "    jsonResult = []\n",
    "    jsonResponse = getNaverSearch(node,srcText,1,100) # start=1, display=100\n",
    "    total = jsonResponse['total']\n",
    "    while( (jsonResponse!=None) and (jsonResponse['display']!=0) ):\n",
    "        for post in jsonResponse['items']:\n",
    "            cnt += 1\n",
    "            getPostData(post,jsonResult,cnt)\n",
    "        start = jsonResponse['start'] + jsonResponse['display']\n",
    "        jsonResponse = getNaverSearch(node,srcText,start,100)\n",
    "    print(f'전체검색: {total}건')\n",
    "    print(f'가져온 데이터: {cnt}건')         \n",
    "        "
   ]
  },
  {
   "cell_type": "code",
   "execution_count": null,
   "id": "d2c9ccff",
   "metadata": {},
   "outputs": [],
   "source": []
  },
  {
   "cell_type": "code",
   "execution_count": null,
   "id": "4727eefa",
   "metadata": {},
   "outputs": [],
   "source": []
  },
  {
   "cell_type": "code",
   "execution_count": null,
   "id": "3a7f4cb6",
   "metadata": {},
   "outputs": [],
   "source": []
  },
  {
   "cell_type": "code",
   "execution_count": null,
   "id": "176893af",
   "metadata": {},
   "outputs": [],
   "source": []
  },
  {
   "cell_type": "code",
   "execution_count": null,
   "id": "e18665ae",
   "metadata": {},
   "outputs": [],
   "source": []
  },
  {
   "cell_type": "code",
   "execution_count": null,
   "id": "fd314aed",
   "metadata": {},
   "outputs": [],
   "source": []
  }
 ],
 "metadata": {
  "kernelspec": {
   "display_name": "Python 3 (ipykernel)",
   "language": "python",
   "name": "python3"
  },
  "language_info": {
   "codemirror_mode": {
    "name": "ipython",
    "version": 3
   },
   "file_extension": ".py",
   "mimetype": "text/x-python",
   "name": "python",
   "nbconvert_exporter": "python",
   "pygments_lexer": "ipython3",
   "version": "3.9.12"
  }
 },
 "nbformat": 4,
 "nbformat_minor": 5
}

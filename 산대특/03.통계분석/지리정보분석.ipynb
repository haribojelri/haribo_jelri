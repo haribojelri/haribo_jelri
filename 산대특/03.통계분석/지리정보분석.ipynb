{
 "cells": [
  {
   "cell_type": "code",
   "execution_count": 1,
   "id": "7ecad94b",
   "metadata": {},
   "outputs": [],
   "source": [
    "# 주소데이터 분석 + 지오맵\n",
    "# 주소를 이용해서 위도 경로의 GPS정보를 찾는다\n",
    "# 행정구역을 찾아서 지도에 나타난 정보를 분석"
   ]
  },
  {
   "cell_type": "code",
   "execution_count": 2,
   "id": "7b34cd24",
   "metadata": {},
   "outputs": [],
   "source": [
    "# 1. 전에 크롤링한 매장주소\n",
    "# 2. 공식적으로 다운로드할수 있는 행정구역별 .... \n",
    "# 필요에 따라서 데이터를 정제"
   ]
  },
  {
   "cell_type": "code",
   "execution_count": 3,
   "id": "48207293",
   "metadata": {},
   "outputs": [],
   "source": [
    "# 위도와 경도의 GPS좌표를구하려면... 주소데이터에서 행정구역 이름이 정확해야함 - 데이터 정제"
   ]
  },
  {
   "cell_type": "code",
   "execution_count": 7,
   "id": "2eed7122",
   "metadata": {},
   "outputs": [
    {
     "data": {
      "text/html": [
       "<div>\n",
       "<style scoped>\n",
       "    .dataframe tbody tr th:only-of-type {\n",
       "        vertical-align: middle;\n",
       "    }\n",
       "\n",
       "    .dataframe tbody tr th {\n",
       "        vertical-align: top;\n",
       "    }\n",
       "\n",
       "    .dataframe thead th {\n",
       "        text-align: right;\n",
       "    }\n",
       "</style>\n",
       "<table border=\"1\" class=\"dataframe\">\n",
       "  <thead>\n",
       "    <tr style=\"text-align: right;\">\n",
       "      <th></th>\n",
       "      <th>store</th>\n",
       "      <th>address</th>\n",
       "      <th>phone</th>\n",
       "    </tr>\n",
       "  </thead>\n",
       "  <tbody>\n",
       "    <tr>\n",
       "      <th>0</th>\n",
       "      <td>학동역 DT점</td>\n",
       "      <td>서울시 강남구 학동로 211 1층</td>\n",
       "      <td>02-3444-9973</td>\n",
       "    </tr>\n",
       "    <tr>\n",
       "      <th>1</th>\n",
       "      <td>수서점</td>\n",
       "      <td>서울시 강남구 광평로 280 수서동 724호</td>\n",
       "      <td>02-3412-2326</td>\n",
       "    </tr>\n",
       "    <tr>\n",
       "      <th>2</th>\n",
       "      <td>차병원점</td>\n",
       "      <td>서울시 강남구 논현로 566 강남차병원1층</td>\n",
       "      <td>02-538-7615</td>\n",
       "    </tr>\n",
       "    <tr>\n",
       "      <th>3</th>\n",
       "      <td>강남대로점</td>\n",
       "      <td>서울시 서초구 강남대로 369 1층</td>\n",
       "      <td>02-588-5778</td>\n",
       "    </tr>\n",
       "    <tr>\n",
       "      <th>4</th>\n",
       "      <td>메가박스점</td>\n",
       "      <td>서울 강남구 삼성동 159 코엑스몰 지하2층</td>\n",
       "      <td>02-6002-3320</td>\n",
       "    </tr>\n",
       "  </tbody>\n",
       "</table>\n",
       "</div>"
      ],
      "text/plain": [
       "     store                     address         phone\n",
       "0  학동역 DT점        서울시 강남구 학동로 211 1층    02-3444-9973\n",
       "1      수서점  서울시 강남구 광평로 280 수서동 724호    02-3412-2326\n",
       "2     차병원점   서울시 강남구 논현로 566 강남차병원1층     02-538-7615\n",
       "3    강남대로점       서울시 서초구 강남대로 369 1층     02-588-5778\n",
       "4    메가박스점  서울 강남구 삼성동 159 코엑스몰 지하2층    02-6002-3320"
      ]
     },
     "execution_count": 7,
     "metadata": {},
     "output_type": "execute_result"
    }
   ],
   "source": [
    "import pandas as pd\n",
    "cb = pd.read_csv('CoffeeBean.csv',encoding='cp949',index_col=0)\n",
    "cb.head()"
   ]
  },
  {
   "cell_type": "code",
   "execution_count": 20,
   "id": "ae3d247f",
   "metadata": {},
   "outputs": [
    {
     "data": {
      "text/plain": [
       "{'강원도',\n",
       " '경기',\n",
       " '경기도',\n",
       " '경남',\n",
       " '경상남도',\n",
       " '경상북도',\n",
       " '광주',\n",
       " '광주광역시',\n",
       " '대구광역시',\n",
       " '대전시',\n",
       " '부산',\n",
       " '부산광역시',\n",
       " '부산시',\n",
       " '서울',\n",
       " '서울시',\n",
       " '서울특별시',\n",
       " '세종특별자치시',\n",
       " '인천',\n",
       " '인천광역시',\n",
       " '인천시',\n",
       " '충북'}"
      ]
     },
     "execution_count": 20,
     "metadata": {},
     "output_type": "execute_result"
    }
   ],
   "source": [
    "# 주소만분리  하고 행정구역 체계에 맞춰서 정리\n",
    "addrs = [add.split() for add in cb.address]\n",
    "set([i[0] for i in addrs])\n",
    "    \n"
   ]
  },
  {
   "cell_type": "code",
   "execution_count": null,
   "id": "f77a8b4f",
   "metadata": {},
   "outputs": [],
   "source": [
    "['서울특별시','부산광역시','인천광역시','광주광역시','대전광역시','울산광역시','세종특별자치시','경기도','충청북도','충청남도','전라북도','전라남도','경상북도','경상남도','제주특별자치도']"
   ]
  },
  {
   "cell_type": "code",
   "execution_count": 38,
   "id": "313a32d8",
   "metadata": {},
   "outputs": [],
   "source": [
    "addrs2 = []\n",
    "for value in addrs:\n",
    "    if '서울' in value[0]:\n",
    "        addrs2.append(['서울특별시'] +  value[1:])\n",
    "    elif '경기' in value[0]:\n",
    "        addrs2.append(['경기도'] +  value[1:])\n",
    "    elif '경남' in value[0]:\n",
    "        addrs2.append(['경상남도'] +  value[1:])\n",
    "    elif '광주' in value[0]:\n",
    "        addrs2.append(['광주광역시'] +  value[1:])\n",
    "    elif '대전시' in value[0]:\n",
    "        addrs2.append(['대전광역시'] +  value[1:])\n",
    "    elif '부산' in value[0]:\n",
    "        addrs2.append(['부산광역시'] +  value[1:])\n",
    "    elif '부산시' in value[0]:\n",
    "        addrs2.append(['부산광역시'] +  value[1:])\n",
    "    elif '인천' in value[0]:\n",
    "        addrs2.append(['인천광역시'] +  value[1:])\n",
    "    elif '인천시' in value[0]:\n",
    "        addrs2.append(['인천광역시'] +  value[1:])\n",
    "    elif '충북' in value[0]:\n",
    "        addrs2.append(['충청북도'] +  value[1:])\n",
    "    else:\n",
    "        addrs2.append(value)\n",
    "addrs2 = [\" \".join(i) for i in addrs2]\n",
    "cb['address2'] = addrs2\n",
    "            \n"
   ]
  },
  {
   "cell_type": "code",
   "execution_count": 41,
   "id": "ec7f30bd",
   "metadata": {},
   "outputs": [],
   "source": [
    "cb.head()\n",
    "cb.to_csv('CoffeeBean3.csv',encoding='cp949')"
   ]
  },
  {
   "cell_type": "code",
   "execution_count": 33,
   "id": "86282711",
   "metadata": {
    "scrolled": true
   },
   "outputs": [
    {
     "name": "stdout",
     "output_type": "stream",
     "text": [
      "Collecting folium\n",
      "  Downloading folium-0.12.1.post1-py2.py3-none-any.whl (95 kB)\n",
      "     ---------------------------------------- 95.0/95.0 kB 2.6 MB/s eta 0:00:00\n",
      "Requirement already satisfied: numpy in c:\\users\\user\\miniconda3\\envs\\ai\\lib\\site-packages (from folium) (1.21.6)\n",
      "Collecting requests\n",
      "  Downloading requests-2.28.1-py3-none-any.whl (62 kB)\n",
      "     ---------------------------------------- 62.8/62.8 kB ? eta 0:00:00\n",
      "Collecting jinja2>=2.9\n",
      "  Using cached Jinja2-3.1.2-py3-none-any.whl (133 kB)\n",
      "Collecting branca>=0.3.0\n",
      "  Downloading branca-0.5.0-py3-none-any.whl (24 kB)\n",
      "Collecting MarkupSafe>=2.0\n",
      "  Downloading MarkupSafe-2.1.1-cp37-cp37m-win_amd64.whl (17 kB)\n",
      "Collecting idna<4,>=2.5\n",
      "  Downloading idna-3.4-py3-none-any.whl (61 kB)\n",
      "     ---------------------------------------- 61.5/61.5 kB ? eta 0:00:00\n",
      "Collecting urllib3<1.27,>=1.21.1\n",
      "  Downloading urllib3-1.26.12-py2.py3-none-any.whl (140 kB)\n",
      "     -------------------------------------- 140.4/140.4 kB 8.7 MB/s eta 0:00:00\n",
      "Collecting charset-normalizer<3,>=2\n",
      "  Downloading charset_normalizer-2.1.1-py3-none-any.whl (39 kB)\n",
      "Requirement already satisfied: certifi>=2017.4.17 in c:\\users\\user\\miniconda3\\envs\\ai\\lib\\site-packages (from requests->folium) (2022.9.14)\n",
      "Installing collected packages: urllib3, MarkupSafe, idna, charset-normalizer, requests, jinja2, branca, folium\n",
      "Successfully installed MarkupSafe-2.1.1 branca-0.5.0 charset-normalizer-2.1.1 folium-0.12.1.post1 idna-3.4 jinja2-3.1.2 requests-2.28.1 urllib3-1.26.12\n"
     ]
    }
   ],
   "source": [
    "!pip install folium"
   ]
  },
  {
   "cell_type": "code",
   "execution_count": 35,
   "id": "a202b631",
   "metadata": {},
   "outputs": [],
   "source": [
    "import folium\n",
    "m = folium.Map(location=[37.5602, 126.9754],zoom_start=12)\n",
    "folium.Marker(\n",
    "    location=[37.5602, 126.9754]\n",
    "    ,tooltip='숭례문'\n",
    ").add_to(m)\n",
    "m.save(\"숭례문.html\")"
   ]
  },
  {
   "cell_type": "code",
   "execution_count": 46,
   "id": "c734a616",
   "metadata": {},
   "outputs": [
    {
     "data": {
      "text/html": [
       "<div>\n",
       "<style scoped>\n",
       "    .dataframe tbody tr th:only-of-type {\n",
       "        vertical-align: middle;\n",
       "    }\n",
       "\n",
       "    .dataframe tbody tr th {\n",
       "        vertical-align: top;\n",
       "    }\n",
       "\n",
       "    .dataframe thead th {\n",
       "        text-align: right;\n",
       "    }\n",
       "</style>\n",
       "<table border=\"1\" class=\"dataframe\">\n",
       "  <thead>\n",
       "    <tr style=\"text-align: right;\">\n",
       "      <th></th>\n",
       "      <th>store</th>\n",
       "      <th>address</th>\n",
       "      <th>phone</th>\n",
       "      <th>address2</th>\n",
       "      <th>Latitude</th>\n",
       "      <th>Longitude</th>\n",
       "    </tr>\n",
       "  </thead>\n",
       "  <tbody>\n",
       "    <tr>\n",
       "      <th>0</th>\n",
       "      <td>학동역 DT점</td>\n",
       "      <td>서울시 강남구 학동로 211 1층</td>\n",
       "      <td>02-3444-9973</td>\n",
       "      <td>서울특별시 강남구 학동로 211 1층</td>\n",
       "      <td>37.514647</td>\n",
       "      <td>127.032047</td>\n",
       "    </tr>\n",
       "    <tr>\n",
       "      <th>1</th>\n",
       "      <td>수서점</td>\n",
       "      <td>서울시 강남구 광평로 280 수서동 724호</td>\n",
       "      <td>02-3412-2326</td>\n",
       "      <td>서울특별시 강남구 광평로 280 수서동 724호</td>\n",
       "      <td>37.487283</td>\n",
       "      <td>127.103109</td>\n",
       "    </tr>\n",
       "    <tr>\n",
       "      <th>2</th>\n",
       "      <td>차병원점</td>\n",
       "      <td>서울시 강남구 논현로 566 강남차병원1층</td>\n",
       "      <td>02-538-7615</td>\n",
       "      <td>서울특별시 강남구 논현로 566 강남차병원1층</td>\n",
       "      <td>37.484801</td>\n",
       "      <td>127.041832</td>\n",
       "    </tr>\n",
       "    <tr>\n",
       "      <th>3</th>\n",
       "      <td>강남대로점</td>\n",
       "      <td>서울시 서초구 강남대로 369 1층</td>\n",
       "      <td>02-588-5778</td>\n",
       "      <td>서울특별시 서초구 강남대로 369 1층</td>\n",
       "      <td>37.495615</td>\n",
       "      <td>127.028203</td>\n",
       "    </tr>\n",
       "    <tr>\n",
       "      <th>4</th>\n",
       "      <td>메가박스점</td>\n",
       "      <td>서울 강남구 삼성동 159 코엑스몰 지하2층</td>\n",
       "      <td>02-6002-3320</td>\n",
       "      <td>서울특별시 강남구 삼성동 159 코엑스몰 지하2층</td>\n",
       "      <td>37.510193</td>\n",
       "      <td>127.058582</td>\n",
       "    </tr>\n",
       "  </tbody>\n",
       "</table>\n",
       "</div>"
      ],
      "text/plain": [
       "     store                     address         phone  \\\n",
       "0  학동역 DT점        서울시 강남구 학동로 211 1층    02-3444-9973   \n",
       "1      수서점  서울시 강남구 광평로 280 수서동 724호    02-3412-2326   \n",
       "2     차병원점   서울시 강남구 논현로 566 강남차병원1층     02-538-7615   \n",
       "3    강남대로점       서울시 서초구 강남대로 369 1층     02-588-5778   \n",
       "4    메가박스점  서울 강남구 삼성동 159 코엑스몰 지하2층    02-6002-3320   \n",
       "\n",
       "                      address2   Latitude   Longitude  \n",
       "0         서울특별시 강남구 학동로 211 1층  37.514647  127.032047  \n",
       "1   서울특별시 강남구 광평로 280 수서동 724호  37.487283  127.103109  \n",
       "2    서울특별시 강남구 논현로 566 강남차병원1층  37.484801  127.041832  \n",
       "3        서울특별시 서초구 강남대로 369 1층  37.495615  127.028203  \n",
       "4  서울특별시 강남구 삼성동 159 코엑스몰 지하2층  37.510193  127.058582  "
      ]
     },
     "execution_count": 46,
     "metadata": {},
     "output_type": "execute_result"
    }
   ],
   "source": [
    "temp = pd.read_csv('convert_CoffeeBean.csv')\n",
    "temp[['Latitude', 'Longitude']]\n",
    "cb2 = pd.concat([cb,temp[['Latitude', 'Longitude']]], axis=1).copy()\n",
    "cb2.head()"
   ]
  },
  {
   "cell_type": "code",
   "execution_count": 47,
   "id": "0961190c",
   "metadata": {},
   "outputs": [],
   "source": [
    "cb2.to_csv('mergedCoff.csv',encoding='cp949')"
   ]
  },
  {
   "cell_type": "code",
   "execution_count": null,
   "id": "f4847352",
   "metadata": {},
   "outputs": [],
   "source": []
  }
 ],
 "metadata": {
  "kernelspec": {
   "display_name": "Python 3 (ipykernel)",
   "language": "python",
   "name": "python3"
  },
  "language_info": {
   "codemirror_mode": {
    "name": "ipython",
    "version": 3
   },
   "file_extension": ".py",
   "mimetype": "text/x-python",
   "name": "python",
   "nbconvert_exporter": "python",
   "pygments_lexer": "ipython3",
   "version": "3.9.12"
  }
 },
 "nbformat": 4,
 "nbformat_minor": 5
}

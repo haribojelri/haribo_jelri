{
 "cells": [
  {
   "cell_type": "code",
   "execution_count": null,
   "id": "cb8e8cf6",
   "metadata": {},
   "outputs": [],
   "source": [
    "# conda prompt 실행  -원하는 디렉터리로 이동해서 \n",
    "# cd e:7.ai\n",
    "# conda create -n 사용할이름 python==3.7\n",
    "# conda env list  #가상환경리스트를 조회\n",
    "# conda activate 사용할이름\n",
    "#(base) -> (ai)\n",
    "# jupyter notebook 실행"
   ]
  },
  {
   "cell_type": "code",
   "execution_count": 2,
   "id": "10b58c58",
   "metadata": {},
   "outputs": [
    {
     "name": "stdout",
     "output_type": "stream",
     "text": [
      "Collecting konlpy\n",
      "  Using cached konlpy-0.6.0-py2.py3-none-any.whl (19.4 MB)\n",
      "Collecting numpy>=1.6\n",
      "  Downloading numpy-1.21.6-cp37-cp37m-win_amd64.whl (14.0 MB)\n",
      "     ---------------------------------------- 14.0/14.0 MB 9.9 MB/s eta 0:00:00\n",
      "Collecting JPype1>=0.7.0\n",
      "  Downloading JPype1-1.4.0-cp37-cp37m-win_amd64.whl (343 kB)\n",
      "     ------------------------------------- 343.9/343.9 kB 20.9 MB/s eta 0:00:00\n",
      "Collecting lxml>=4.1.0\n",
      "  Downloading lxml-4.9.1-cp37-cp37m-win_amd64.whl (3.6 MB)\n",
      "     ---------------------------------------- 3.6/3.6 MB 9.9 MB/s eta 0:00:00\n",
      "Collecting typing-extensions\n",
      "  Downloading typing_extensions-4.3.0-py3-none-any.whl (25 kB)\n",
      "Installing collected packages: typing-extensions, numpy, lxml, JPype1, konlpy\n",
      "Successfully installed JPype1-1.4.0 konlpy-0.6.0 lxml-4.9.1 numpy-1.21.6 typing-extensions-4.3.0\n"
     ]
    }
   ],
   "source": [
    "!pip install konlpy"
   ]
  },
  {
   "cell_type": "code",
   "execution_count": 3,
   "id": "7d771953",
   "metadata": {},
   "outputs": [],
   "source": [
    "import json\n",
    "import re\n",
    "from konlpy.tag import Okt\n",
    "from collections import Counter\n",
    "from wordcloud import WordCloud\n",
    "\n",
    "import numpy as np\n",
    "import pandas as pd\n",
    "import matplotlib.pyplot as plt\n",
    "import seaborn as sns\n",
    "\n",
    "import matplotlib\n",
    "import matplotlib.font_manager as fm\n",
    "font_loc = 'C:/Windows/Fonts/H2PORM.TTF'\n",
    "font_name = fm.FontProperties(fname=font_loc).get_name()\n",
    "matplotlib.rc('font',family=font_name)\n",
    "plt.rcParams['axes.unicode_minus'] = False  # 한글폰트적용시 - 깨짐방지.."
   ]
  },
  {
   "cell_type": "code",
   "execution_count": 6,
   "id": "df462c4e",
   "metadata": {},
   "outputs": [],
   "source": [
    "# filename = '한국어 언어분석 통합 말뭉치.json'\n",
    "# json.loads(open(filename,'r',encoding='utf-8').read())"
   ]
  },
  {
   "cell_type": "code",
   "execution_count": 5,
   "id": "df2313a6",
   "metadata": {},
   "outputs": [],
   "source": [
    "import glob"
   ]
  },
  {
   "cell_type": "code",
   "execution_count": 7,
   "id": "f66fc0b9",
   "metadata": {},
   "outputs": [
    {
     "data": {
      "text/plain": [
       "['./kor\\\\myCabinetExcelData (1).xls',\n",
       " './kor\\\\myCabinetExcelData (2).xls',\n",
       " './kor\\\\myCabinetExcelData (3).xls',\n",
       " './kor\\\\myCabinetExcelData (4).xls',\n",
       " './kor\\\\myCabinetExcelData (5).xls',\n",
       " './kor\\\\myCabinetExcelData (6).xls',\n",
       " './kor\\\\myCabinetExcelData.xls']"
      ]
     },
     "execution_count": 7,
     "metadata": {},
     "output_type": "execute_result"
    }
   ],
   "source": [
    "#파일 읽기\n",
    "all_files =glob.glob(\"./kor/*.xls\")\n",
    "all_files"
   ]
  },
  {
   "cell_type": "code",
   "execution_count": 13,
   "id": "6a9b86b8",
   "metadata": {},
   "outputs": [
    {
     "data": {
      "text/html": [
       "<div>\n",
       "<style scoped>\n",
       "    .dataframe tbody tr th:only-of-type {\n",
       "        vertical-align: middle;\n",
       "    }\n",
       "\n",
       "    .dataframe tbody tr th {\n",
       "        vertical-align: top;\n",
       "    }\n",
       "\n",
       "    .dataframe thead th {\n",
       "        text-align: right;\n",
       "    }\n",
       "</style>\n",
       "<table border=\"1\" class=\"dataframe\">\n",
       "  <thead>\n",
       "    <tr style=\"text-align: right;\">\n",
       "      <th></th>\n",
       "      <th>Unnamed: 0</th>\n",
       "      <th>번호</th>\n",
       "      <th>참고문헌양식</th>\n",
       "    </tr>\n",
       "  </thead>\n",
       "  <tbody>\n",
       "    <tr>\n",
       "      <th>0</th>\n",
       "      <td>NaN</td>\n",
       "      <td>NaN</td>\n",
       "      <td>NaN</td>\n",
       "    </tr>\n",
       "    <tr>\n",
       "      <th>1</th>\n",
       "      <td>NaN</td>\n",
       "      <td>2.0</td>\n",
       "      <td>김수환. \"AI의 사회적 윤리 알고리즘 적용 문제에 관한 사례연구.\" 국내석사학위논...</td>\n",
       "    </tr>\n",
       "    <tr>\n",
       "      <th>2</th>\n",
       "      <td>NaN</td>\n",
       "      <td>3.0</td>\n",
       "      <td>문민우. \"해상트래픽에 따른 위성 AIS 검출 성능 평가.\" 국내석사학위논문 목포대...</td>\n",
       "    </tr>\n",
       "    <tr>\n",
       "      <th>3</th>\n",
       "      <td>NaN</td>\n",
       "      <td>4.0</td>\n",
       "      <td>이주환. \"AIS 데이터 메시지 형식과 사양 확장에 관한 연구.\" 국내석사학위논문 ...</td>\n",
       "    </tr>\n",
       "    <tr>\n",
       "      <th>4</th>\n",
       "      <td>NaN</td>\n",
       "      <td>5.0</td>\n",
       "      <td>이학진. \"AIS자료를 활용한 VLCC항해용선 시황예측 방안에 대한 연구.\" 국내석...</td>\n",
       "    </tr>\n",
       "  </tbody>\n",
       "</table>\n",
       "</div>"
      ],
      "text/plain": [
       "   Unnamed: 0   번호                                             참고문헌양식\n",
       "0         NaN  NaN                                                NaN\n",
       "1         NaN  2.0  김수환. \"AI의 사회적 윤리 알고리즘 적용 문제에 관한 사례연구.\" 국내석사학위논...\n",
       "2         NaN  3.0  문민우. \"해상트래픽에 따른 위성 AIS 검출 성능 평가.\" 국내석사학위논문 목포대...\n",
       "3         NaN  4.0  이주환. \"AIS 데이터 메시지 형식과 사양 확장에 관한 연구.\" 국내석사학위논문 ...\n",
       "4         NaN  5.0  이학진. \"AIS자료를 활용한 VLCC항해용선 시황예측 방안에 대한 연구.\" 국내석..."
      ]
     },
     "execution_count": 13,
     "metadata": {},
     "output_type": "execute_result"
    }
   ],
   "source": [
    "all_worlds_list = [pd.read_excel(w) for w in all_files]\n",
    "words_df = pd.concat(all_worlds_list)\n",
    "words_df.head()"
   ]
  },
  {
   "cell_type": "code",
   "execution_count": 22,
   "id": "5abdd8dd",
   "metadata": {},
   "outputs": [],
   "source": [
    "data = words_df['참고문헌양식']\n",
    "data = data.dropna()"
   ]
  },
  {
   "cell_type": "code",
   "execution_count": 26,
   "id": "550ac80e",
   "metadata": {},
   "outputs": [],
   "source": [
    "data.reset_index(drop=True,inplace=True)"
   ]
  },
  {
   "cell_type": "code",
   "execution_count": 34,
   "id": "39c705eb",
   "metadata": {},
   "outputs": [
    {
     "data": {
      "text/plain": [
       "'김수환   AI의 사회적 윤리 알고리즘 적용 문제에 관한 사례연구   국내석사학위논문 서울과학기술대학교  2020  서울  '"
      ]
     },
     "execution_count": 34,
     "metadata": {},
     "output_type": "execute_result"
    }
   ],
   "source": [
    "data[0]\n",
    "temp = re.sub(r'[^\\w]',' ',data[0])\n",
    "temp"
   ]
  },
  {
   "cell_type": "code",
   "execution_count": 36,
   "id": "1f06ddd1",
   "metadata": {},
   "outputs": [
    {
     "data": {
      "text/plain": [
       "['김수환',\n",
       " '의',\n",
       " '사회',\n",
       " '윤리',\n",
       " '알고리즘',\n",
       " '적용',\n",
       " '문제',\n",
       " '관',\n",
       " '사례',\n",
       " '연구',\n",
       " '국내',\n",
       " '석사',\n",
       " '학위',\n",
       " '논문',\n",
       " '서울',\n",
       " '과학기술대',\n",
       " '학교',\n",
       " '서울']"
      ]
     },
     "execution_count": 36,
     "metadata": {},
     "output_type": "execute_result"
    }
   ],
   "source": [
    "# 아버지가방에들어가신다\n",
    "# 아버지 명사\n",
    "# 가방 명사\n",
    "# 에 조사\n",
    "# 들어가신 \n",
    "# 다 \n",
    "nlp = Okt()  # 품사 태깅   Mecab Komoran ....\n",
    "word_nouns =  nlp.nouns(temp)\n",
    "word_nouns"
   ]
  },
  {
   "cell_type": "code",
   "execution_count": 37,
   "id": "cf363a2b",
   "metadata": {},
   "outputs": [
    {
     "data": {
      "text/plain": [
       "Counter({'김수환': 1,\n",
       "         '의': 1,\n",
       "         '사회': 1,\n",
       "         '윤리': 1,\n",
       "         '알고리즘': 1,\n",
       "         '적용': 1,\n",
       "         '문제': 1,\n",
       "         '관': 1,\n",
       "         '사례': 1,\n",
       "         '연구': 1,\n",
       "         '국내': 1,\n",
       "         '석사': 1,\n",
       "         '학위': 1,\n",
       "         '논문': 1,\n",
       "         '서울': 2,\n",
       "         '과학기술대': 1,\n",
       "         '학교': 1})"
      ]
     },
     "execution_count": 37,
     "metadata": {},
     "output_type": "execute_result"
    }
   ],
   "source": [
    "count = Counter(word_nouns)\n",
    "count"
   ]
  }
 ],
 "metadata": {
  "kernelspec": {
   "display_name": "Python 3 (ipykernel)",
   "language": "python",
   "name": "python3"
  },
  "language_info": {
   "codemirror_mode": {
    "name": "ipython",
    "version": 3
   },
   "file_extension": ".py",
   "mimetype": "text/x-python",
   "name": "python",
   "nbconvert_exporter": "python",
   "pygments_lexer": "ipython3",
   "version": "3.9.12"
  }
 },
 "nbformat": 4,
 "nbformat_minor": 5
}

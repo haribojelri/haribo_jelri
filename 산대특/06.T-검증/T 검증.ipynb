{
 "cells": [
  {
   "cell_type": "code",
   "execution_count": 1,
   "id": "b54d864b",
   "metadata": {},
   "outputs": [],
   "source": [
    "# T-검증.. 데이터에서 찾은 평균으로 두 그룹에 차이가 있는지 확인하는 방법\n",
    "# 와인품질이 1등급 인지 2등급인지에 따라서 가격에 차이가 있는지 확인\n",
    "# 시각화 - 히스토그램"
   ]
  },
  {
   "cell_type": "code",
   "execution_count": 2,
   "id": "78c93735",
   "metadata": {},
   "outputs": [],
   "source": [
    "# 과수원에서 알려진 사과의 평균무게는 200g \n",
    "# 실제 그런지 알아보기 위해 임의로 15개를 뽑아서 무게를 측정하고 해당데이터를 가지고\n",
    "#과수원에서 생산되는 전체사과 무게의 평균이 200과 같다고 할수 있는지 검증\n",
    "#귀무가설 : 과수원에서 생산되는 사과의 무게 평균이 200g이다\n",
    "#대립가설 : 과수원에서 생산되는 사과의 무게 평균이 200g이 아니다"
   ]
  },
  {
   "cell_type": "code",
   "execution_count": 3,
   "id": "b0a886eb",
   "metadata": {},
   "outputs": [
    {
     "data": {
      "text/plain": [
       "15"
      ]
     },
     "execution_count": 3,
     "metadata": {},
     "output_type": "execute_result"
    }
   ],
   "source": [
    "apple_mean = 200  # 알려진평균\n",
    "# 수집데이터\n",
    "data = [200,210,180,190,185,170,180,180,210,180,183,191,204,201,186]\n"
   ]
  },
  {
   "cell_type": "code",
   "execution_count": 4,
   "id": "14c00e3f",
   "metadata": {},
   "outputs": [
    {
     "data": {
      "text/plain": [
       "ShapiroResult(statistic=0.9217347502708435, pvalue=0.20472237467765808)"
      ]
     },
     "execution_count": 4,
     "metadata": {},
     "output_type": "execute_result"
    }
   ],
   "source": [
    "# 데이터가 30개 이하면 별도의 정규성 검증이 필요\n",
    "from scipy.stats import shapiro\n",
    "shapiro(data)\n",
    "# 1. 검정통계  2, p-value  \n",
    "# 정규성검사에서는 p-value가 유의수준 0.05보다 클경우 표본이 정규분포를따른다."
   ]
  },
  {
   "cell_type": "code",
   "execution_count": 5,
   "id": "e221946b",
   "metadata": {},
   "outputs": [
    {
     "data": {
      "text/plain": [
       "<AxesSubplot:>"
      ]
     },
     "execution_count": 5,
     "metadata": {},
     "output_type": "execute_result"
    },
    {
     "data": {
      "image/png": "[encoded data removed]",
      "text/plain": [
       "<Figure size 640x480 with 1 Axes>"
      ]
     },
     "metadata": {},
     "output_type": "display_data"
    }
   ],
   "source": [
    "import seaborn as sns\n",
    "import matplotlib.pyplot as plt\n",
    "sns.boxplot(data=data)"
   ]
  },
  {
   "cell_type": "code",
   "execution_count": 6,
   "id": "3edd82f6",
   "metadata": {},
   "outputs": [],
   "source": [
    "# 일표본 T-검증을 사용 one-sample t-test\n",
    "# 가정 : 모집단의 구성요소들이 정규분포를 이룬다는 가정하에서 검정통계량 값을 계산\n",
    "# 종속변수는 연속형 변수여야하고 검증하고자하는 기준값이 있어야 한다.\n",
    "# 단일 모집단에서 알고자하는 값이 종속변수"
   ]
  },
  {
   "cell_type": "code",
   "execution_count": 8,
   "id": "df72a3fa",
   "metadata": {},
   "outputs": [
    {
     "data": {
      "text/plain": [
       "Ttest_1sampResult(statistic=-3.1562714293709564, pvalue=0.007003780898109026)"
      ]
     },
     "execution_count": 8,
     "metadata": {},
     "output_type": "execute_result"
    }
   ],
   "source": [
    "from scipy.stats import ttest_1samp\n",
    "ttest_1samp(data, apple_mean)"
   ]
  },
  {
   "cell_type": "code",
   "execution_count": 9,
   "id": "c27b1708",
   "metadata": {},
   "outputs": [],
   "source": [
    "# T-value는 -3.1562714293709564 , 유의확율(p-value) 0.007003780898109026  유의확율은 0.05보다 작다\n",
    "# 귀무가설을 기각 --- \n",
    "\n",
    "# 과수원에서 생산되는 사과의 평균 무게는 200g 이 아니다.\n",
    "# 설정한 기준값과(apple_meam) 종속변수의 평균값 사이에 차이가 - 통계적으로 유의하다...두 값이 다르다는 결론"
   ]
  },
  {
   "cell_type": "code",
   "execution_count": 10,
   "id": "fc94ec2f",
   "metadata": {},
   "outputs": [],
   "source": [
    "# 대응표본 t-검증(paired smaple t-test)\n",
    "# 단일모집단에 대해서 두번의 처리 두 개의 처리에 따른 평균의 차이를 비교\n",
    "# 모집단에서 크기가 n개인 표본하나 추출, 표본내의 데이터중에서 두번의 측정\n",
    "# 모집단과 표본은 하나씩... 각 객체들에 대해 두개씩 관측값이 존재\n",
    "# 부부 30쌍을 대상으로 남편과 아내의 결혼 만족도에 차이, 쌍둥이 연구 before-after연구"
   ]
  },
  {
   "cell_type": "code",
   "execution_count": 11,
   "id": "fe208361",
   "metadata": {},
   "outputs": [],
   "source": [
    "# 10명의 환자에게 수면영야제를 복용하기 전과 복용후의 수면 시간측정 영양제가 효과가 있는지 판단 \n",
    "# 단 정규성을 만족한다는 가정\n",
    "#귀무가설 : 전과 후의 수면시간에 차이가 없다\n",
    "#대랍가설 : 전과 후의 수면시간에 차이가 있다"
   ]
  },
  {
   "cell_type": "code",
   "execution_count": 13,
   "id": "29947d08",
   "metadata": {},
   "outputs": [],
   "source": [
    "import pandas as pd"
   ]
  },
  {
   "cell_type": "code",
   "execution_count": 15,
   "id": "24339b96",
   "metadata": {},
   "outputs": [
    {
     "data": {
      "text/html": [
       "<div>\n",
       "<style scoped>\n",
       "    .dataframe tbody tr th:only-of-type {\n",
       "        vertical-align: middle;\n",
       "    }\n",
       "\n",
       "    .dataframe tbody tr th {\n",
       "        vertical-align: top;\n",
       "    }\n",
       "\n",
       "    .dataframe thead th {\n",
       "        text-align: right;\n",
       "    }\n",
       "</style>\n",
       "<table border=\"1\" class=\"dataframe\">\n",
       "  <thead>\n",
       "    <tr style=\"text-align: right;\">\n",
       "      <th></th>\n",
       "      <th>when</th>\n",
       "      <th>score</th>\n",
       "    </tr>\n",
       "  </thead>\n",
       "  <tbody>\n",
       "    <tr>\n",
       "      <th>0</th>\n",
       "      <td>before</td>\n",
       "      <td>7</td>\n",
       "    </tr>\n",
       "    <tr>\n",
       "      <th>1</th>\n",
       "      <td>before</td>\n",
       "      <td>3</td>\n",
       "    </tr>\n",
       "    <tr>\n",
       "      <th>2</th>\n",
       "      <td>before</td>\n",
       "      <td>4</td>\n",
       "    </tr>\n",
       "    <tr>\n",
       "      <th>3</th>\n",
       "      <td>before</td>\n",
       "      <td>5</td>\n",
       "    </tr>\n",
       "    <tr>\n",
       "      <th>4</th>\n",
       "      <td>before</td>\n",
       "      <td>2</td>\n",
       "    </tr>\n",
       "  </tbody>\n",
       "</table>\n",
       "</div>"
      ],
      "text/plain": [
       "     when  score\n",
       "0  before      7\n",
       "1  before      3\n",
       "2  before      4\n",
       "3  before      5\n",
       "4  before      2"
      ]
     },
     "execution_count": 15,
     "metadata": {},
     "output_type": "execute_result"
    }
   ],
   "source": [
    "before = [7,3,4,5,2,1,6,6,5,4]\n",
    "after = [8,4,5,6,2,3,6,8,6,5]\n",
    "when = ['before','after']\n",
    "\n",
    "# for j in range(2):\n",
    "#     for i in range(10)\n",
    "when = [when[j] for j in range(2) for i in range(10)]\n",
    "df = pd.DataFrame({'when':when, 'score':before+after})\n",
    "df.head()"
   ]
  },
  {
   "cell_type": "code",
   "execution_count": 16,
   "id": "ef77b3b8",
   "metadata": {},
   "outputs": [
    {
     "data": {
      "text/plain": [
       "(ShapiroResult(statistic=0.9644591808319092, pvalue=0.835266649723053),\n",
       " ShapiroResult(statistic=0.945683479309082, pvalue=0.6177965998649597))"
      ]
     },
     "execution_count": 16,
     "metadata": {},
     "output_type": "execute_result"
    }
   ],
   "source": [
    "# 정규성 검증\n",
    "normal1 = shapiro(before)\n",
    "normal2 = shapiro(after)\n",
    "normal1, normal2\n",
    "# 둘다 0.05보다 크기때문에 정규성에 문제가 없음"
   ]
  },
  {
   "cell_type": "code",
   "execution_count": 17,
   "id": "a4af694d",
   "metadata": {},
   "outputs": [
    {
     "data": {
      "text/plain": [
       "Ttest_relResult(statistic=-4.743416490252569, pvalue=0.001053871257016553)"
      ]
     },
     "execution_count": 17,
     "metadata": {},
     "output_type": "execute_result"
    }
   ],
   "source": [
    "# t- 검증\n",
    "import scipy.stats\n",
    "scipy.stats.ttest_rel(before,after)\n",
    "# p-value가 0.05보다 작기때문에 귀무가설 기각  수면영양제를 복용하기전과 복용후의 \n",
    "#수면시간의 차이는 통계적으로 유의하다, 영양제먹고 수면시간에 영향이 있다 "
   ]
  },
  {
   "cell_type": "code",
   "execution_count": 18,
   "id": "b97cc5d9",
   "metadata": {},
   "outputs": [],
   "source": [
    "# 독립표본 t-검증(independent sample t-teset)\n",
    "# 두개의 독립된 모집단의 평균을 비교할때 사용\n",
    "# 부부100쌍을뽑아서 남편100명과 아내100으로 집단을 비교"
   ]
  },
  {
   "cell_type": "code",
   "execution_count": null,
   "id": "a4ef8be6",
   "metadata": {},
   "outputs": [],
   "source": [
    "# 두지역의 낮 최고기온에 차이가 있는지 알아본다\n",
    "# 귀무가설 : a,b 두 지역에 낮 최고 기온은 차이가없다\n",
    "# 대립가설 : a,b 두 지역에 낮 최고 기온은 차이가있다"
   ]
  },
  {
   "cell_type": "code",
   "execution_count": 20,
   "id": "5221e1ce",
   "metadata": {},
   "outputs": [
    {
     "data": {
      "text/html": [
       "<div>\n",
       "<style scoped>\n",
       "    .dataframe tbody tr th:only-of-type {\n",
       "        vertical-align: middle;\n",
       "    }\n",
       "\n",
       "    .dataframe tbody tr th {\n",
       "        vertical-align: top;\n",
       "    }\n",
       "\n",
       "    .dataframe thead th {\n",
       "        text-align: right;\n",
       "    }\n",
       "</style>\n",
       "<table border=\"1\" class=\"dataframe\">\n",
       "  <thead>\n",
       "    <tr style=\"text-align: right;\">\n",
       "      <th></th>\n",
       "      <th>group</th>\n",
       "      <th>temp</th>\n",
       "    </tr>\n",
       "  </thead>\n",
       "  <tbody>\n",
       "    <tr>\n",
       "      <th>0</th>\n",
       "      <td>a</td>\n",
       "      <td>-1</td>\n",
       "    </tr>\n",
       "    <tr>\n",
       "      <th>1</th>\n",
       "      <td>a</td>\n",
       "      <td>0</td>\n",
       "    </tr>\n",
       "    <tr>\n",
       "      <th>2</th>\n",
       "      <td>a</td>\n",
       "      <td>3</td>\n",
       "    </tr>\n",
       "    <tr>\n",
       "      <th>3</th>\n",
       "      <td>a</td>\n",
       "      <td>4</td>\n",
       "    </tr>\n",
       "    <tr>\n",
       "      <th>4</th>\n",
       "      <td>a</td>\n",
       "      <td>1</td>\n",
       "    </tr>\n",
       "  </tbody>\n",
       "</table>\n",
       "</div>"
      ],
      "text/plain": [
       "  group  temp\n",
       "0     a    -1\n",
       "1     a     0\n",
       "2     a     3\n",
       "3     a     4\n",
       "4     a     1"
      ]
     },
     "execution_count": 20,
     "metadata": {},
     "output_type": "execute_result"
    }
   ],
   "source": [
    "a = [-1,0,3,4,1,3,3,1,1,3]\n",
    "b = [6,6,8,8,11,11,10,8,8,9]\n",
    "group = ['a']*10 + ['b']*10\n",
    "df = pd.DataFrame({'group':group, 'temp':a+b})\n",
    "df.head()"
   ]
  },
  {
   "cell_type": "code",
   "execution_count": 21,
   "id": "e6fa3ed3",
   "metadata": {},
   "outputs": [
    {
     "data": {
      "text/plain": [
       "(ShapiroResult(statistic=0.9004895687103271, pvalue=0.22182336449623108),\n",
       " ShapiroResult(statistic=0.9001172184944153, pvalue=0.21974670886993408))"
      ]
     },
     "execution_count": 21,
     "metadata": {},
     "output_type": "execute_result"
    }
   ],
   "source": [
    "shapiro(a),shapiro(b)"
   ]
  },
  {
   "cell_type": "code",
   "execution_count": 22,
   "id": "5fed256d",
   "metadata": {},
   "outputs": [
    {
     "data": {
      "text/plain": [
       "Ttest_indResult(statistic=-8.805969882200301, pvalue=6.085029390352169e-08)"
      ]
     },
     "execution_count": 22,
     "metadata": {},
     "output_type": "execute_result"
    }
   ],
   "source": [
    "scipy.stats.ttest_ind(a,b)\n",
    "# p-value 0.05보다 작으므로 유의수준보다 작다 귀무가설 기각... 통계적으로 유의미하다... "
   ]
  },
  {
   "cell_type": "code",
   "execution_count": null,
   "id": "b50cac9f",
   "metadata": {},
   "outputs": [],
   "source": []
  }
 ],
 "metadata": {
  "kernelspec": {
   "display_name": "Python 3 (ipykernel)",
   "language": "python",
   "name": "python3"
  },
  "language_info": {
   "codemirror_mode": {
    "name": "ipython",
    "version": 3
   },
   "file_extension": ".py",
   "mimetype": "text/x-python",
   "name": "python",
   "nbconvert_exporter": "python",
   "pygments_lexer": "ipython3",
   "version": "3.9.12"
  }
 },
 "nbformat": 4,
 "nbformat_minor": 5
}

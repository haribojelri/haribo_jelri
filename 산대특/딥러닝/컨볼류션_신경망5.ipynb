{
  "nbformat": 4,
  "nbformat_minor": 0,
  "metadata": {
    "colab": {
      "provenance": [],
      "collapsed_sections": []
    },
    "kernelspec": {
      "name": "python3",
      "display_name": "Python 3"
    },
    "language_info": {
      "name": "python"
    },
    "accelerator": "GPU"
  },
  "cells": [
    {
      "cell_type": "code",
      "execution_count": 1,
      "metadata": {
        "id": "lBu0va3DLtp_",
        "colab": {
          "base_uri": "https://localhost:8080/"
        },
        "outputId": "2124e2b8-ab90-4d6b-f0d1-075d2b00d6f4"
      },
      "outputs": [
        {
          "output_type": "stream",
          "name": "stdout",
          "text": [
            "Epoch 1/30\n"
          ]
        },
        {
          "output_type": "stream",
          "name": "stderr",
          "text": [
            "/usr/local/lib/python3.7/dist-packages/ipykernel_launcher.py:24: UserWarning: `Model.fit_generator` is deprecated and will be removed in a future version. Please use `Model.fit`, which supports generators.\n"
          ]
        },
        {
          "output_type": "stream",
          "name": "stdout",
          "text": [
            "391/391 [==============================] - 29s 67ms/step - loss: 1.2279 - accuracy: 0.5766 - val_loss: 0.8942 - val_accuracy: 0.6940\n",
            "Epoch 2/30\n",
            "391/391 [==============================] - 26s 66ms/step - loss: 1.1329 - accuracy: 0.6036 - val_loss: 0.7549 - val_accuracy: 0.7377\n",
            "Epoch 3/30\n",
            "391/391 [==============================] - 27s 70ms/step - loss: 1.1028 - accuracy: 0.6159 - val_loss: 0.8303 - val_accuracy: 0.7173\n",
            "Epoch 4/30\n",
            "391/391 [==============================] - 26s 67ms/step - loss: 1.0700 - accuracy: 0.6251 - val_loss: 0.8353 - val_accuracy: 0.7126\n",
            "Epoch 5/30\n",
            "391/391 [==============================] - 26s 66ms/step - loss: 1.0580 - accuracy: 0.6295 - val_loss: 0.9016 - val_accuracy: 0.6898\n",
            "Epoch 6/30\n",
            "391/391 [==============================] - 26s 66ms/step - loss: 1.0405 - accuracy: 0.6372 - val_loss: 0.8464 - val_accuracy: 0.7076\n",
            "Epoch 7/30\n",
            "391/391 [==============================] - 26s 66ms/step - loss: 1.0329 - accuracy: 0.6398 - val_loss: 0.7460 - val_accuracy: 0.7359\n",
            "Epoch 8/30\n",
            "391/391 [==============================] - 25s 65ms/step - loss: 1.0185 - accuracy: 0.6439 - val_loss: 0.7379 - val_accuracy: 0.7450\n",
            "Epoch 9/30\n",
            "391/391 [==============================] - 26s 66ms/step - loss: 0.9989 - accuracy: 0.6491 - val_loss: 0.8041 - val_accuracy: 0.7235\n",
            "Epoch 10/30\n",
            "391/391 [==============================] - 25s 65ms/step - loss: 0.9885 - accuracy: 0.6557 - val_loss: 0.8783 - val_accuracy: 0.7002\n",
            "Epoch 11/30\n",
            "391/391 [==============================] - 27s 70ms/step - loss: 0.9855 - accuracy: 0.6546 - val_loss: 0.7563 - val_accuracy: 0.7365\n",
            "Epoch 12/30\n",
            "391/391 [==============================] - 26s 66ms/step - loss: 0.9777 - accuracy: 0.6587 - val_loss: 0.7127 - val_accuracy: 0.7536\n",
            "Epoch 13/30\n",
            "391/391 [==============================] - 26s 66ms/step - loss: 0.9729 - accuracy: 0.6617 - val_loss: 0.7785 - val_accuracy: 0.7318\n",
            "Epoch 14/30\n",
            "391/391 [==============================] - 26s 66ms/step - loss: 0.9596 - accuracy: 0.6665 - val_loss: 0.7089 - val_accuracy: 0.7556\n",
            "Epoch 15/30\n",
            "391/391 [==============================] - 26s 66ms/step - loss: 0.9625 - accuracy: 0.6639 - val_loss: 0.7289 - val_accuracy: 0.7520\n",
            "Epoch 16/30\n",
            "391/391 [==============================] - 26s 68ms/step - loss: 0.9521 - accuracy: 0.6677 - val_loss: 0.7289 - val_accuracy: 0.7458\n",
            "Epoch 17/30\n",
            "391/391 [==============================] - 26s 66ms/step - loss: 0.9428 - accuracy: 0.6726 - val_loss: 0.7951 - val_accuracy: 0.7235\n",
            "Epoch 18/30\n",
            "391/391 [==============================] - 26s 66ms/step - loss: 0.9390 - accuracy: 0.6735 - val_loss: 0.6974 - val_accuracy: 0.7649\n",
            "Epoch 19/30\n",
            "391/391 [==============================] - 27s 70ms/step - loss: 0.9303 - accuracy: 0.6754 - val_loss: 0.7230 - val_accuracy: 0.7549\n",
            "Epoch 20/30\n",
            "391/391 [==============================] - 26s 66ms/step - loss: 0.9258 - accuracy: 0.6765 - val_loss: 0.7364 - val_accuracy: 0.7435\n",
            "Epoch 21/30\n",
            "391/391 [==============================] - 25s 65ms/step - loss: 0.9242 - accuracy: 0.6791 - val_loss: 0.7637 - val_accuracy: 0.7404\n",
            "Epoch 22/30\n",
            "391/391 [==============================] - 25s 65ms/step - loss: 0.9254 - accuracy: 0.6783 - val_loss: 0.7319 - val_accuracy: 0.7461\n",
            "Epoch 23/30\n",
            "391/391 [==============================] - 25s 65ms/step - loss: 0.9138 - accuracy: 0.6821 - val_loss: 0.6993 - val_accuracy: 0.7606\n",
            "Epoch 24/30\n",
            "391/391 [==============================] - 26s 67ms/step - loss: 0.9150 - accuracy: 0.6831 - val_loss: 0.7466 - val_accuracy: 0.7431\n",
            "Epoch 25/30\n",
            "391/391 [==============================] - 25s 65ms/step - loss: 0.9173 - accuracy: 0.6800 - val_loss: 0.7533 - val_accuracy: 0.7424\n",
            "Epoch 26/30\n",
            "391/391 [==============================] - 26s 66ms/step - loss: 0.9058 - accuracy: 0.6859 - val_loss: 0.7385 - val_accuracy: 0.7524\n",
            "Epoch 27/30\n",
            "391/391 [==============================] - 26s 66ms/step - loss: 0.9050 - accuracy: 0.6887 - val_loss: 0.7248 - val_accuracy: 0.7582\n",
            "Epoch 28/30\n",
            "391/391 [==============================] - 27s 69ms/step - loss: 0.9000 - accuracy: 0.6887 - val_loss: 0.6965 - val_accuracy: 0.7619\n",
            "Epoch 29/30\n",
            "391/391 [==============================] - 26s 67ms/step - loss: 0.8993 - accuracy: 0.6889 - val_loss: 0.6713 - val_accuracy: 0.7690\n",
            "Epoch 30/30\n",
            "391/391 [==============================] - 26s 66ms/step - loss: 0.8857 - accuracy: 0.6910 - val_loss: 0.6893 - val_accuracy: 0.7666\n"
          ]
        }
      ],
      "source": [
        "# 증대된 영상으로 학습\n",
        "# 온라인 방식, ,오프라인 방식\n",
        "# CIFAR-10에 데이터 증대 적용\n",
        "\n",
        "# 필요한 라이브러리 import\n",
        "import numpy as np\n",
        "import tensorflow as tf\n",
        "cnn =  tf.keras.models.load_model('/content/drive/MyDrive/Colab Notebooks/cnn.h5') \n",
        "\n",
        "# 영상 추가 확보하기\n",
        "from tensorflow.keras.datasets import cifar10\n",
        "from tensorflow.keras.preprocessing.image import ImageDataGenerator\n",
        "\n",
        "batch_size = 128  # 한번에 생성하는 양\n",
        "generator = ImageDataGenerator(rotation_range=30.0,width_shift_range=0.2,height_shift_range=0.2,horizontal_flip=True)\n",
        "\n",
        "# 데이터 확보\n",
        "(x_train,y_train),(x_test,y_test) = cifar10.load_data()\n",
        "x_train = x_train.astype('float32') / 255.0\n",
        "x_test = x_test.astype('float32') / 255.0\n",
        "y_train = tf.keras.utils.to_categorical(y_train)\n",
        "y_test = tf.keras.utils.to_categorical(y_test)\n",
        "\n",
        "hist = cnn.fit_generator(generator.flow(x_train,y_train,batch_size=batch_size),epochs=30,validation_data=[x_test,y_test])"
      ]
    },
    {
      "cell_type": "code",
      "source": [
        "cnn.evaluate(x_test,y_test)"
      ],
      "metadata": {
        "colab": {
          "base_uri": "https://localhost:8080/"
        },
        "id": "BrGxzNkVMdkd",
        "outputId": "a33981f4-5745-4d50-ca7c-0acba3fc32ff"
      },
      "execution_count": 2,
      "outputs": [
        {
          "output_type": "stream",
          "name": "stdout",
          "text": [
            "313/313 [==============================] - 1s 3ms/step - loss: 0.6893 - accuracy: 0.7666\n"
          ]
        },
        {
          "output_type": "execute_result",
          "data": {
            "text/plain": [
              "[0.6892877817153931, 0.7666000127792358]"
            ]
          },
          "metadata": {},
          "execution_count": 2
        }
      ]
    },
    {
      "cell_type": "code",
      "source": [
        "# 정확률 시각화\n",
        "import matplotlib.pyplot as plt"
      ],
      "metadata": {
        "id": "aDbXmpgOSCcl"
      },
      "execution_count": 6,
      "outputs": []
    },
    {
      "cell_type": "code",
      "source": [
        "plt.plot(hist.history['accuracy'])\n",
        "plt.plot(hist.history['val_accuracy'])"
      ],
      "metadata": {
        "colab": {
          "base_uri": "https://localhost:8080/",
          "height": 285
        },
        "id": "Bmyh6N4vVToL",
        "outputId": "5fc6991c-ef74-439e-cb9a-0ad09cda2330"
      },
      "execution_count": 7,
      "outputs": [
        {
          "output_type": "execute_result",
          "data": {
            "text/plain": [
              "[<matplotlib.lines.Line2D at 0x7f4c30439250>]"
            ]
          },
          "metadata": {},
          "execution_count": 7
        },
        {
          "output_type": "display_data",
          "data": {
            "text/plain": [
              "<Figure size 432x288 with 1 Axes>"
            ],
            "image/png": "[encoded data removed]"
          },
          "metadata": {
            "needs_background": "light"
          }
        }
      ]
    },
    {
      "cell_type": "code",
      "source": [
        "plt.plot(hist.history['loss'])\n",
        "plt.plot(hist.history['val_loss'])"
      ],
      "metadata": {
        "colab": {
          "base_uri": "https://localhost:8080/",
          "height": 284
        },
        "id": "8MG5i0GrVsrS",
        "outputId": "1b221d60-9f7e-465a-d8d0-dbe7ca67b299"
      },
      "execution_count": 8,
      "outputs": [
        {
          "output_type": "execute_result",
          "data": {
            "text/plain": [
              "[<matplotlib.lines.Line2D at 0x7f4c30156e50>]"
            ]
          },
          "metadata": {},
          "execution_count": 8
        },
        {
          "output_type": "display_data",
          "data": {
            "text/plain": [
              "<Figure size 432x288 with 1 Axes>"
            ],
            "image/png": "[encoded data removed]"
          },
          "metadata": {
            "needs_background": "light"
          }
        }
      ]
    },
    {
      "cell_type": "code",
      "source": [],
      "metadata": {
        "id": "TAHOyv2uV5NC"
      },
      "execution_count": null,
      "outputs": []
    }
  ]
}
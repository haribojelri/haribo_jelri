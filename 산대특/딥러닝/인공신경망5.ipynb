{
 "cells": [
  {
   "cell_type": "code",
   "execution_count": 10,
   "id": "9f5b390e",
   "metadata": {},
   "outputs": [],
   "source": [
    "import tensorflow as tf\n",
    "(x_train,y_train),(x_test,y_test)  = tf.keras.datasets.fashion_mnist.load_data()"
   ]
  },
  {
   "cell_type": "code",
   "execution_count": 11,
   "id": "26c478f0",
   "metadata": {},
   "outputs": [
    {
     "data": {
      "text/plain": [
       "(60000, 28, 28)"
      ]
     },
     "execution_count": 11,
     "metadata": {},
     "output_type": "execute_result"
    }
   ],
   "source": [
    "x_train_scaled =  x_train / 255.0\n",
    "x_train_scaled.shape"
   ]
  },
  {
   "cell_type": "code",
   "execution_count": 12,
   "id": "84600219",
   "metadata": {},
   "outputs": [],
   "source": [
    "# 사이킷런은 2차원을 선호\n",
    "x_train_scaled = x_train_scaled.reshape(x_train_scaled.shape[0],-1)"
   ]
  },
  {
   "cell_type": "code",
   "execution_count": 13,
   "id": "68a109bd",
   "metadata": {},
   "outputs": [],
   "source": [
    "from sklearn.model_selection import train_test_split\n",
    "x_train,x_val,y_train,y_val =  train_test_split(x_train_scaled,y_train,random_state=42)"
   ]
  },
  {
   "cell_type": "code",
   "execution_count": 14,
   "id": "0a98b822",
   "metadata": {},
   "outputs": [],
   "source": []
  },
  {
   "cell_type": "code",
   "execution_count": 15,
   "id": "8ebb7ffd",
   "metadata": {},
   "outputs": [],
   "source": [
    "dense1 =tf.keras.layers.Dense(100,activation='relu',input_dim=x_train_scaled.shape[1])\n",
    "dense2 =tf.keras.layers.Dense(10,activation='softmax')"
   ]
  },
  {
   "cell_type": "code",
   "execution_count": 16,
   "id": "c4977a28",
   "metadata": {},
   "outputs": [],
   "source": [
    "model = tf.keras.Sequential([\n",
    "    dense1,\n",
    "    dense2\n",
    "    ])"
   ]
  },
  {
   "cell_type": "code",
   "execution_count": 17,
   "id": "7e64b3a6",
   "metadata": {},
   "outputs": [],
   "source": [
    "model.compile(loss=tf.keras.losses.sparse_categorical_crossentropy, metrics='accuracy',optimizer='Adam')"
   ]
  },
  {
   "cell_type": "code",
   "execution_count": 19,
   "id": "b3b15495",
   "metadata": {},
   "outputs": [
    {
     "name": "stdout",
     "output_type": "stream",
     "text": [
      "Epoch 1/10\n",
      "1407/1407 [==============================] - 3s 2ms/step - loss: 0.5395 - accuracy: 0.8118 - val_loss: 0.4246 - val_accuracy: 0.8544\n",
      "Epoch 2/10\n",
      "1407/1407 [==============================] - 2s 2ms/step - loss: 0.4076 - accuracy: 0.8556 - val_loss: 0.3803 - val_accuracy: 0.8669\n",
      "Epoch 3/10\n",
      "1407/1407 [==============================] - 2s 2ms/step - loss: 0.3619 - accuracy: 0.8688 - val_loss: 0.3861 - val_accuracy: 0.8549\n",
      "Epoch 4/10\n",
      "1407/1407 [==============================] - 2s 2ms/step - loss: 0.3379 - accuracy: 0.8758 - val_loss: 0.4154 - val_accuracy: 0.8554\n",
      "Epoch 5/10\n",
      "1407/1407 [==============================] - 2s 2ms/step - loss: 0.3139 - accuracy: 0.8844 - val_loss: 0.3389 - val_accuracy: 0.8806\n",
      "Epoch 6/10\n",
      "1407/1407 [==============================] - 2s 2ms/step - loss: 0.2980 - accuracy: 0.8901 - val_loss: 0.3411 - val_accuracy: 0.8762\n",
      "Epoch 7/10\n",
      "1407/1407 [==============================] - 2s 2ms/step - loss: 0.2834 - accuracy: 0.8964 - val_loss: 0.3287 - val_accuracy: 0.8830\n",
      "Epoch 8/10\n",
      "1407/1407 [==============================] - 2s 2ms/step - loss: 0.2712 - accuracy: 0.9004 - val_loss: 0.3298 - val_accuracy: 0.8815\n",
      "Epoch 9/10\n",
      "1407/1407 [==============================] - 2s 2ms/step - loss: 0.2632 - accuracy: 0.9023 - val_loss: 0.3326 - val_accuracy: 0.8796\n",
      "Epoch 10/10\n",
      "1407/1407 [==============================] - 2s 2ms/step - loss: 0.2526 - accuracy: 0.9059 - val_loss: 0.3144 - val_accuracy: 0.8894\n"
     ]
    }
   ],
   "source": [
    "history =  model.fit(x_train,y_train,epochs=10,validation_data=(x_val,y_val ))"
   ]
  },
  {
   "cell_type": "code",
   "execution_count": 21,
   "id": "ffdf7d95",
   "metadata": {},
   "outputs": [
    {
     "name": "stdout",
     "output_type": "stream",
     "text": [
      "313/313 [==============================] - 0s 1ms/step - loss: 0.3494 - accuracy: 0.8760\n"
     ]
    },
    {
     "data": {
      "text/plain": [
       "[0.3493720591068268, 0.8759999871253967]"
      ]
     },
     "execution_count": 21,
     "metadata": {},
     "output_type": "execute_result"
    }
   ],
   "source": [
    "x_test_scaled = x_test / 255.0\n",
    "model.evaluate(x_test_scaled.reshape(x_test_scaled.shape[0],-1),y_test)"
   ]
  },
  {
   "cell_type": "code",
   "execution_count": 23,
   "id": "07424cde",
   "metadata": {},
   "outputs": [],
   "source": [
    "# 모델을 저장하고 복원\n",
    "model.save('mymodel.h5')"
   ]
  },
  {
   "cell_type": "code",
   "execution_count": 24,
   "id": "301a41c4",
   "metadata": {},
   "outputs": [],
   "source": [
    "model.save_weights('mymodel_weights.h5')"
   ]
  },
  {
   "cell_type": "code",
   "execution_count": 26,
   "id": "c057be9e",
   "metadata": {},
   "outputs": [
    {
     "name": "stdout",
     "output_type": "stream",
     "text": [
      " E 드라이브의 볼륨: 새 볼륨\n",
      " 볼륨 일련 번호: 6045-BA7D\n",
      "\n",
      " E:\\7.ai 디렉터리\n",
      "\n",
      "2022-10-19  오전 11:03           980,736 mymodel.h5\n",
      "2022-10-19  오전 11:04           331,936 mymodel_weights.h5\n",
      "               2개 파일           1,312,672 바이트\n",
      "               0개 디렉터리  135,118,561,280 바이트 남음\n"
     ]
    }
   ],
   "source": [
    "ls *.h5"
   ]
  },
  {
   "cell_type": "code",
   "execution_count": 27,
   "id": "d2bade9e",
   "metadata": {},
   "outputs": [],
   "source": [
    "mymodel = tf.keras.models.load_model('mymodel.h5')"
   ]
  },
  {
   "cell_type": "code",
   "execution_count": 28,
   "id": "4c46854c",
   "metadata": {},
   "outputs": [
    {
     "name": "stdout",
     "output_type": "stream",
     "text": [
      "Model: \"sequential_1\"\n",
      "_________________________________________________________________\n",
      " Layer (type)                Output Shape              Param #   \n",
      "=================================================================\n",
      " dense (Dense)               (None, 100)               78500     \n",
      "                                                                 \n",
      " dense_1 (Dense)             (None, 10)                1010      \n",
      "                                                                 \n",
      "=================================================================\n",
      "Total params: 79,510\n",
      "Trainable params: 79,510\n",
      "Non-trainable params: 0\n",
      "_________________________________________________________________\n"
     ]
    }
   ],
   "source": [
    "mymodel.summary()"
   ]
  },
  {
   "cell_type": "code",
   "execution_count": 29,
   "id": "80509945",
   "metadata": {},
   "outputs": [
    {
     "name": "stdout",
     "output_type": "stream",
     "text": [
      "313/313 [==============================] - 0s 1ms/step - loss: 0.3494 - accuracy: 0.8760\n"
     ]
    },
    {
     "data": {
      "text/plain": [
       "[0.3493720591068268, 0.8759999871253967]"
      ]
     },
     "execution_count": 29,
     "metadata": {},
     "output_type": "execute_result"
    }
   ],
   "source": [
    "mymodel.evaluate(x_test_scaled.reshape(x_test_scaled.shape[0],-1),y_test)"
   ]
  },
  {
   "cell_type": "code",
   "execution_count": null,
   "id": "fb9a7737",
   "metadata": {},
   "outputs": [],
   "source": []
  },
  {
   "cell_type": "code",
   "execution_count": null,
   "id": "fcee7515",
   "metadata": {},
   "outputs": [],
   "source": []
  },
  {
   "cell_type": "code",
   "execution_count": null,
   "id": "05bd8986",
   "metadata": {},
   "outputs": [],
   "source": []
  }
 ],
 "metadata": {
  "kernelspec": {
   "display_name": "Python 3 (ipykernel)",
   "language": "python",
   "name": "python3"
  },
  "language_info": {
   "codemirror_mode": {
    "name": "ipython",
    "version": 3
   },
   "file_extension": ".py",
   "mimetype": "text/x-python",
   "name": "python",
   "nbconvert_exporter": "python",
   "pygments_lexer": "ipython3",
   "version": "3.9.12"
  }
 },
 "nbformat": 4,
 "nbformat_minor": 5
}

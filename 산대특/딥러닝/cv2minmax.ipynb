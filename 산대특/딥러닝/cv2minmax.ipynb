{
 "cells": [
  {
   "cell_type": "code",
   "execution_count": 1,
   "id": "8fb0cfa8",
   "metadata": {},
   "outputs": [],
   "source": [
    "import numpy as np, cv2"
   ]
  },
  {
   "cell_type": "code",
   "execution_count": 2,
   "id": "5b60f3aa",
   "metadata": {},
   "outputs": [
    {
     "data": {
      "text/plain": [
       "[84, 55, 66, 97, 19, 1, 61, 6, 12, 52, 93, 76, 32, 75, 99]"
      ]
     },
     "execution_count": 2,
     "metadata": {},
     "output_type": "execute_result"
    }
   ],
   "source": [
    "# 1차원 리스트 15 개를 임의로 생성\n",
    "from random import sample\n",
    "data = sample(range(100),15)\n",
    "data"
   ]
  },
  {
   "cell_type": "code",
   "execution_count": 3,
   "id": "69326a55",
   "metadata": {},
   "outputs": [],
   "source": [
    "# 3 * 5 \n",
    "m1 = np.reshape(data,(3,5))\n",
    "m2 = np.full((3,5), 50)"
   ]
  },
  {
   "cell_type": "code",
   "execution_count": 4,
   "id": "cc07dea7",
   "metadata": {},
   "outputs": [
    {
     "data": {
      "text/plain": [
       "array([[30, 30, 30, 30, 19],\n",
       "       [ 1, 30,  6, 12, 30],\n",
       "       [30, 30, 30, 30, 30]], dtype=int32)"
      ]
     },
     "execution_count": 4,
     "metadata": {},
     "output_type": "execute_result"
    }
   ],
   "source": [
    "m_min =  cv2.min(m1,30)  # 30보다 크면 30을 선택   30보다 작은값을 유지"
   ]
  },
  {
   "cell_type": "code",
   "execution_count": 7,
   "id": "e9f9dc54",
   "metadata": {},
   "outputs": [],
   "source": [
    "cv2.max(m1,m2),cv2.max(m1,50)   # 50보다 큰 값을 유지\n",
    "m_max = cv2.max(m1,m2)"
   ]
  },
  {
   "cell_type": "markdown",
   "id": "0fe6ff3e",
   "metadata": {},
   "source": [
    "## 행렬의 최소값 / 최대값과 그 좌표를 반환"
   ]
  },
  {
   "cell_type": "code",
   "execution_count": 11,
   "id": "4b3d7859",
   "metadata": {},
   "outputs": [],
   "source": [
    "min_val,max_val,min_loc,max_loc =  cv2.minMaxLoc(m1)"
   ]
  },
  {
   "cell_type": "markdown",
   "id": "c9a8f579",
   "metadata": {},
   "source": [
    "## min_loc  max_loc 좌표는 (y,x) 행렬의 반대"
   ]
  },
  {
   "cell_type": "code",
   "execution_count": 13,
   "id": "242f7819",
   "metadata": {},
   "outputs": [
    {
     "name": "stdout",
     "output_type": "stream",
     "text": [
      "m1행렬 최소값 좌표:(0, 1) 최소값:1.0\n",
      "m1행렬 최대값 좌표:(4, 2) 최대값:99.0\n"
     ]
    }
   ],
   "source": [
    "print(f\"m1행렬 최소값 좌표:{min_loc} 최소값:{min_val}\")\n",
    "print(f\"m1행렬 최대값 좌표:{max_loc} 최대값:{max_val}\")"
   ]
  },
  {
   "cell_type": "code",
   "execution_count": null,
   "id": "49c57da7",
   "metadata": {},
   "outputs": [],
   "source": []
  }
 ],
 "metadata": {
  "kernelspec": {
   "display_name": "Python 3 (ipykernel)",
   "language": "python",
   "name": "python3"
  },
  "language_info": {
   "codemirror_mode": {
    "name": "ipython",
    "version": 3
   },
   "file_extension": ".py",
   "mimetype": "text/x-python",
   "name": "python",
   "nbconvert_exporter": "python",
   "pygments_lexer": "ipython3",
   "version": "3.7.0"
  }
 },
 "nbformat": 4,
 "nbformat_minor": 5
}

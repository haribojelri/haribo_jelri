{
 "cells": [
  {
   "cell_type": "code",
   "execution_count": 31,
   "id": "d118edff",
   "metadata": {},
   "outputs": [],
   "source": [
    "data='''나 보기가 역겨워\n",
    "가실 때에는\n",
    "말없이 고이 보내드리우리다\n",
    "영변에 약산\n",
    "진달래꽃\n",
    "아름 따다 가실 길에 뿌리우리다\n",
    "가시는 걸음걸음\n",
    "놓인 그 꽃을\n",
    "사뿐히 즈려밟고 가시옵소서\n",
    "나 보기가 역겨워\n",
    "가실 때에는\n",
    "죽어도 아니 눈물 흘리우리다'''"
   ]
  },
  {
   "cell_type": "code",
   "execution_count": 32,
   "id": "eb86c3a8",
   "metadata": {},
   "outputs": [
    {
     "data": {
      "text/plain": [
       "'나 보기가 역겨워\\n가실 때에는\\n말없이 고이 보내드리우리다\\n영변에 약산\\n진달래꽃\\n아름 따다 가실 길에 뿌리우리다\\n가시는 걸음걸음\\n놓인 그 꽃을\\n사뿐히 즈려밟고 가시옵소서\\n나 보기가 역겨워\\n가실 때에는\\n죽어도 아니 눈물 흘리우리다'"
      ]
     },
     "execution_count": 32,
     "metadata": {},
     "output_type": "execute_result"
    }
   ],
   "source": [
    "data"
   ]
  },
  {
   "cell_type": "code",
   "execution_count": 33,
   "id": "9eeff44d",
   "metadata": {},
   "outputs": [],
   "source": [
    "# 글자수를 센다."
   ]
  },
  {
   "cell_type": "code",
   "execution_count": 34,
   "id": "41aa34cb",
   "metadata": {},
   "outputs": [],
   "source": [
    "countDic = {}"
   ]
  },
  {
   "cell_type": "code",
   "execution_count": 35,
   "id": "bf07a01d",
   "metadata": {},
   "outputs": [],
   "source": [
    "# isalpha()  dictionary의 속성\n",
    "for ch in data:\n",
    "    if ch.isalpha():\n",
    "        if ch in countDic:\n",
    "            countDic[ch] += 1\n",
    "        else:\n",
    "            countDic[ch] = 1"
   ]
  },
  {
   "cell_type": "code",
   "execution_count": 36,
   "id": "7c97f4f5",
   "metadata": {},
   "outputs": [
    {
     "name": "stdout",
     "output_type": "stream",
     "text": [
      "보\n",
      "가\n",
      "실\n",
      "에\n",
      "는\n",
      "리\n",
      "우\n",
      "다\n"
     ]
    }
   ],
   "source": [
    "# 3글자 이상 \n",
    "for i in countDic:\n",
    "    if countDic[i] >=3:\n",
    "        print(i)"
   ]
  },
  {
   "cell_type": "code",
   "execution_count": 37,
   "id": "d0305c21",
   "metadata": {},
   "outputs": [],
   "source": [
    "# 선형 리스트\n",
    "list1 = [\"a\",\"b\",\"c\",\"d\",\"e\"]"
   ]
  },
  {
   "cell_type": "code",
   "execution_count": 38,
   "id": "85a2db3b",
   "metadata": {},
   "outputs": [],
   "source": [
    "# 데이터 삽입 : 끝에 삽입\n",
    "list1.append(None)\n",
    "list1[5] = 'f'"
   ]
  },
  {
   "cell_type": "code",
   "execution_count": 39,
   "id": "7818c8ef",
   "metadata": {},
   "outputs": [
    {
     "data": {
      "text/plain": [
       "['a', 'b', 'c', 'd', 'e', 'f']"
      ]
     },
     "execution_count": 39,
     "metadata": {},
     "output_type": "execute_result"
    }
   ],
   "source": [
    "list1"
   ]
  },
  {
   "cell_type": "code",
   "execution_count": 40,
   "id": "016b3569",
   "metadata": {},
   "outputs": [],
   "source": [
    "# 1. 선형리스트에 마지막에 빈 데이터를 삽입\n",
    "# 2. 순차적으로 데이터를 이동\n",
    "# 3. 원하는 위치에 데이터를 삽입"
   ]
  },
  {
   "cell_type": "code",
   "execution_count": 41,
   "id": "504e4e99",
   "metadata": {},
   "outputs": [
    {
     "data": {
      "text/plain": [
       "['a', 'b', 'c', 'd', 'e', 'f', None]"
      ]
     },
     "execution_count": 41,
     "metadata": {},
     "output_type": "execute_result"
    }
   ],
   "source": [
    "list1.append(None)\n",
    "list1"
   ]
  },
  {
   "cell_type": "code",
   "execution_count": 42,
   "id": "5a7a311e",
   "metadata": {},
   "outputs": [
    {
     "data": {
      "text/plain": [
       "['a', 'b', 'c', 'd', 'e', 'f', 'f']"
      ]
     },
     "execution_count": 42,
     "metadata": {},
     "output_type": "execute_result"
    }
   ],
   "source": [
    "list1[6] = list1[5]\n",
    "list1"
   ]
  },
  {
   "cell_type": "code",
   "execution_count": 43,
   "id": "9d2548aa",
   "metadata": {},
   "outputs": [
    {
     "data": {
      "text/plain": [
       "['a', 'b', 'c', 'd', 'e', 'ef', 'f']"
      ]
     },
     "execution_count": 43,
     "metadata": {},
     "output_type": "execute_result"
    }
   ],
   "source": [
    "list1[5] = 'ef'\n",
    "list1"
   ]
  },
  {
   "cell_type": "code",
   "execution_count": 44,
   "id": "256f3bff",
   "metadata": {},
   "outputs": [
    {
     "data": {
      "text/plain": [
       "['a', 'b', None, 'd', 'e', 'ef', 'f']"
      ]
     },
     "execution_count": 44,
     "metadata": {},
     "output_type": "execute_result"
    }
   ],
   "source": [
    "# 삭제\n",
    "list1[2] = None\n",
    "list1"
   ]
  },
  {
   "cell_type": "code",
   "execution_count": 45,
   "id": "7b65fbb6",
   "metadata": {},
   "outputs": [
    {
     "data": {
      "text/plain": [
       "['a', 'b', 'd', 'e', 'ef', 'f', 'f']"
      ]
     },
     "execution_count": 45,
     "metadata": {},
     "output_type": "execute_result"
    }
   ],
   "source": [
    "list1[2] = list1[3]\n",
    "list1[3] = list1[4]\n",
    "list1[4] = list1[5]\n",
    "list1[5] = list1[6]\n",
    "list1"
   ]
  },
  {
   "cell_type": "code",
   "execution_count": 46,
   "id": "e6cdc959",
   "metadata": {},
   "outputs": [
    {
     "data": {
      "text/plain": [
       "['a', 'b', 'd', 'e', 'ef', 'f']"
      ]
     },
     "execution_count": 46,
     "metadata": {},
     "output_type": "execute_result"
    }
   ],
   "source": [
    "del(list1[6])\n",
    "list1"
   ]
  },
  {
   "cell_type": "code",
   "execution_count": 48,
   "id": "7796548a",
   "metadata": {},
   "outputs": [],
   "source": []
  },
  {
   "cell_type": "code",
   "execution_count": 52,
   "id": "87b9a759",
   "metadata": {},
   "outputs": [],
   "source": [
    "# 데이터 삽입 함수\n",
    "list2 = ['a','b','c','d','e','f']\n",
    "def insert_data(position,data):\n",
    "    if position < 0 or position > len(list2):\n",
    "        return\n",
    "    # 빈칸 추가\n",
    "    list2.append(None)\n",
    "    size = len(list2)  # 크기\n",
    "    for i in range(size-1, position,-1):\n",
    "        list2[i] = list2[i-1]\n",
    "    list2[position] = data    "
   ]
  },
  {
   "cell_type": "code",
   "execution_count": 53,
   "id": "f9c7b9f1",
   "metadata": {},
   "outputs": [
    {
     "data": {
      "text/plain": [
       "['a', 'b', 'c', 'abc', 'd', 'e', 'f']"
      ]
     },
     "execution_count": 53,
     "metadata": {},
     "output_type": "execute_result"
    }
   ],
   "source": [
    "insert_data(3,'abc')\n",
    "list2"
   ]
  },
  {
   "cell_type": "code",
   "execution_count": 55,
   "id": "52799f73",
   "metadata": {},
   "outputs": [],
   "source": [
    "# 삭제\n",
    "def delete_data(position):\n",
    "    size = len(list2)\n",
    "    for i in range(position+1, size):\n",
    "        list2[i-1] = list2[i]\n",
    "        list2[i] = None\n",
    "    \n",
    "    del(list2[size-1])"
   ]
  },
  {
   "cell_type": "code",
   "execution_count": 56,
   "id": "2fe54ae2",
   "metadata": {},
   "outputs": [
    {
     "data": {
      "text/plain": [
       "['a', 'b', 'c', 'd', 'e', 'f']"
      ]
     },
     "execution_count": 56,
     "metadata": {},
     "output_type": "execute_result"
    }
   ],
   "source": [
    "delete_data(3)\n",
    "list2"
   ]
  },
  {
   "cell_type": "code",
   "execution_count": 58,
   "id": "5c663559",
   "metadata": {},
   "outputs": [],
   "source": [
    "# 리스트의 마지막에 데이터를 추가 - 선형리스트 구현\n",
    "linerList = []\n",
    "def add_data(data):\n",
    "    linerList.append(None)\n",
    "    size = len(linerList)\n",
    "    linerList[size-1] = data    "
   ]
  },
  {
   "cell_type": "code",
   "execution_count": 1,
   "id": "e57571bc",
   "metadata": {},
   "outputs": [
    {
     "name": "stdout",
     "output_type": "stream",
     "text": [
      "1.추가 2.삽입, 3.삭제, 4.종료4\n"
     ]
    }
   ],
   "source": [
    "select = int(input(\"1.추가 2.삽입, 3.삭제, 4.종료\"))\n",
    "while(select != 4):\n",
    "    pass\n"
   ]
  },
  {
   "cell_type": "code",
   "execution_count": 2,
   "id": "2632e7ae",
   "metadata": {},
   "outputs": [],
   "source": [
    "# 선형 리스트 응용  : 다항식의 표현\n",
    "# y(x) = a+ bx + cx**2 + dx***3\n",
    "# y(x) : 다항식\n",
    "#  a b c 계수\n",
    "# 1 2 3 지수"
   ]
  },
  {
   "cell_type": "code",
   "execution_count": 3,
   "id": "5ed6416b",
   "metadata": {},
   "outputs": [
    {
     "data": {
      "text/plain": [
       "[7, -4, 0, 5]"
      ]
     },
     "execution_count": 3,
     "metadata": {},
     "output_type": "execute_result"
    }
   ],
   "source": [
    "# y(x)  7x3 + (-4x2) + 0x1 + 5x0\n",
    "yx = [7,-4,0,5]\n",
    "yx"
   ]
  },
  {
   "cell_type": "code",
   "execution_count": 4,
   "id": "ae77dffd",
   "metadata": {},
   "outputs": [
    {
     "data": {
      "text/plain": [
       "45"
      ]
     },
     "execution_count": 4,
     "metadata": {},
     "output_type": "execute_result"
    }
   ],
   "source": [
    "x = 2\n",
    "yxVal = 7*x**3 - 4*x**2 + 0*x**1 + 5*x**0\n",
    "yxVal"
   ]
  },
  {
   "cell_type": "code",
   "execution_count": 5,
   "id": "57e8327a",
   "metadata": {},
   "outputs": [
    {
     "data": {
      "text/plain": [
       "'y(x) =  + 7x^3 + -4x^2 + 0x^1 + 5x^0'"
      ]
     },
     "execution_count": 5,
     "metadata": {},
     "output_type": "execute_result"
    }
   ],
   "source": [
    "polyStr = \"y(x) = \"\n",
    "polyStr += \" + \" + str(yx[0]) + \"x^\" + str(3)\n",
    "polyStr += \" + \" + str(yx[1]) + \"x^\" + str(2)\n",
    "polyStr += \" + \" + str(yx[2]) + \"x^\" + str(1)\n",
    "polyStr += \" + \" + str(yx[3]) + \"x^\" + str(0)\n",
    "polyStr"
   ]
  },
  {
   "cell_type": "code",
   "execution_count": 8,
   "id": "91168984",
   "metadata": {},
   "outputs": [],
   "source": [
    "# 다항식의 형태를 출력하는 함수\n",
    "#  [7,-4,0,5]\n",
    "def printPoly(p_x):\n",
    "    # 최고차항 배열길이 -1\n",
    "    temp =  len(p_x)-1\n",
    "    polyStr = \"y(x) = \"\n",
    "    for i in range(len(p_x)):\n",
    "        coef = p_x[i]  # 계수\n",
    "        polyStr +=  str(coef) + 'x^' + str(temp) + \" \"\n",
    "        temp -= 1\n",
    "    \n",
    "    return polyStr"
   ]
  },
  {
   "cell_type": "code",
   "execution_count": 18,
   "id": "663eb23e",
   "metadata": {},
   "outputs": [],
   "source": [
    "# from 송직석\n",
    "def printPoly(p_x):\n",
    "    # 최고차항 배열길이 -1\n",
    "    temp =  len(p_x)-1\n",
    "    polyStr = \"y(x) = \"\n",
    "    for idx,value in enumerate(p_x):\n",
    "        coef = value  # 계수\n",
    "        if idx == 0:\n",
    "            polyStr +=  str(coef) + 'x^' + str(temp - idx)\n",
    "        else:\n",
    "            polyStr +=  ' + ' + str(coef) + 'x^' + str(temp - idx)\n",
    "    \n",
    "    return polyStr"
   ]
  },
  {
   "cell_type": "code",
   "execution_count": 19,
   "id": "716f85d1",
   "metadata": {},
   "outputs": [
    {
     "data": {
      "text/plain": [
       "'y(x) = 7x^3 + -4x^2 + 0x^1 + 5x^0'"
      ]
     },
     "execution_count": 19,
     "metadata": {},
     "output_type": "execute_result"
    }
   ],
   "source": [
    "yx = [7,-4,0,5]\n",
    "printPoly(yx)"
   ]
  },
  {
   "cell_type": "code",
   "execution_count": 20,
   "id": "12552f7f",
   "metadata": {},
   "outputs": [],
   "source": [
    "# 다항식의 계산 결과값\n",
    "def calcPoly(xValue, yx):\n",
    "    retValue = 0\n",
    "    temp = len(yx)-1\n",
    "    for idx, value in enumerate(yx):\n",
    "        retValue += value*xValue**(temp-idx)\n",
    "    return retValue            "
   ]
  },
  {
   "cell_type": "code",
   "execution_count": 22,
   "id": "d9833078",
   "metadata": {},
   "outputs": [
    {
     "name": "stdout",
     "output_type": "stream",
     "text": [
      "y(x) = 7x^3 + -4x^2 + 0x^1 + 5x^0\n",
      "x값-->3\n",
      "158\n"
     ]
    }
   ],
   "source": [
    "pStr = printPoly(yx)\n",
    "print(pStr)\n",
    "xValue = int(input(\"x값-->\"))\n",
    "pxValue = calcPoly(xValue,yx)\n",
    "print(pxValue)"
   ]
  },
  {
   "cell_type": "code",
   "execution_count": 23,
   "id": "b5466784",
   "metadata": {},
   "outputs": [],
   "source": [
    "# 차수 [20,10,0]\n",
    "# 계수[7,-4,5]"
   ]
  },
  {
   "cell_type": "code",
   "execution_count": 26,
   "id": "8729cc00",
   "metadata": {},
   "outputs": [],
   "source": [
    "# t_x, p_x : 지수 계수\n",
    "def printPoly(t_x, p_x):\n",
    "    polyStr = \"y(x) = \"\n",
    "    for idx, value in enumerate(t_x):\n",
    "        polyStr +=  ' + ' + str(p_x[idx]) + 'x^' + str(value)\n",
    "    return polyStr"
   ]
  },
  {
   "cell_type": "code",
   "execution_count": 27,
   "id": "60233b5f",
   "metadata": {},
   "outputs": [],
   "source": [
    "def calcPoly(t_x, p_x, xValue):\n",
    "    retValue = 0\n",
    "    for idx, value in enumerate(t_x):\n",
    "        retValue+= p_x[idx]*xValue**value\n",
    "    return retValue   "
   ]
  },
  {
   "cell_type": "code",
   "execution_count": 31,
   "id": "ef6276d1",
   "metadata": {},
   "outputs": [],
   "source": [
    "# 선형리스트에 insert\n",
    "def insert_data(position,data,list2):\n",
    "    if position < 0 or position > len(list2):\n",
    "        return\n",
    "    # 빈칸 추가\n",
    "    list2.append(None)\n",
    "    size = len(list2)  # 크기\n",
    "    for i in range(size-1, position,-1):\n",
    "        list2[i] = list2[i-1]\n",
    "    list2[position] = data    \n",
    "    return list2"
   ]
  },
  {
   "cell_type": "code",
   "execution_count": 37,
   "id": "8ccc4c45",
   "metadata": {},
   "outputs": [],
   "source": [
    "q1 = [('홍길동',300),('이순신',200),('철이',30),('미애',25)]"
   ]
  },
  {
   "cell_type": "code",
   "execution_count": 35,
   "id": "f61e18a4",
   "metadata": {},
   "outputs": [],
   "source": [
    "# 새로운 데이터 '코코' 100\n",
    "# 새로운 데이터 '바나나' 200  -> 같으면 같은튜플의 앞에 위치\n",
    "tupledata = ('코코',100)\n",
    "def find_and_insert_data(tuples, tupledata):\n",
    "    count = 0\n",
    "    for name,value in tuples:\n",
    "        if tupledata[1] < value:\n",
    "            count += 1\n",
    "        else:\n",
    "            break\n",
    "    \n",
    "    return insert_data(count,tupledata,tuples)    "
   ]
  },
  {
   "cell_type": "code",
   "execution_count": 38,
   "id": "1c991ebc",
   "metadata": {},
   "outputs": [
    {
     "data": {
      "text/plain": [
       "[('홍길동', 300), ('이순신', 200), ('코코', 100), ('철이', 30), ('미애', 25)]"
      ]
     },
     "execution_count": 38,
     "metadata": {},
     "output_type": "execute_result"
    }
   ],
   "source": [
    "find_and_insert_data(q1,tupledata)"
   ]
  },
  {
   "cell_type": "code",
   "execution_count": 39,
   "id": "a6255c98",
   "metadata": {},
   "outputs": [
    {
     "data": {
      "text/plain": [
       "[('홍길동', 300), ('이순신', 200), ('코코', 100), ('순이', 30), ('철이', 30), ('미애', 25)]"
      ]
     },
     "execution_count": 39,
     "metadata": {},
     "output_type": "execute_result"
    }
   ],
   "source": [
    "tupledata = ('순이',30)\n",
    "find_and_insert_data(q1,tupledata)"
   ]
  },
  {
   "cell_type": "code",
   "execution_count": 43,
   "id": "eda0e529",
   "metadata": {},
   "outputs": [
    {
     "data": {
      "text/plain": [
       "20"
      ]
     },
     "execution_count": 43,
     "metadata": {},
     "output_type": "execute_result"
    }
   ],
   "source": [
    "# 차수 [20,10,0]\n",
    "# 계수[7,-4,5]\n",
    "x1 = [20,10,0]\n",
    "x2 = [7,-4,5]\n",
    "x3 = [x1,x2]\n",
    "x3[0][0]"
   ]
  },
  {
   "cell_type": "code",
   "execution_count": 46,
   "id": "acb870ea",
   "metadata": {},
   "outputs": [],
   "source": [
    "# def printPoly(t_x, p_x):  --> 지수 와 계수를 2차원 행렬로 전달해서 동일하게 표현하도록 변경\n",
    "def printPoly2D(ptx):\n",
    "    polyStr = \"y(x) = \"\n",
    "    for i in range(len(ptx[0])):\n",
    "           polyStr += ' + '+ str(ptx[1][i]) + 'x^' + str(ptx[0][i])\n",
    "    return polyStr         \n",
    "        "
   ]
  },
  {
   "cell_type": "code",
   "execution_count": 47,
   "id": "98e3ace1",
   "metadata": {},
   "outputs": [
    {
     "data": {
      "text/plain": [
       "'y(x) =  + 7x^20 + -4x^10 + 5x^0'"
      ]
     },
     "execution_count": 47,
     "metadata": {},
     "output_type": "execute_result"
    }
   ],
   "source": [
    "printPoly2D(x3)"
   ]
  },
  {
   "cell_type": "code",
   "execution_count": 10,
   "id": "93a4123e",
   "metadata": {},
   "outputs": [],
   "source": [
    "class Node():\n",
    "    def __init__ (self):\n",
    "        self.data = None\n",
    "        self.link = None\n",
    "        \n",
    "def printNode(start):\n",
    "    current = start\n",
    "    print(current.data, end =' ')\n",
    "    while current.link != None:\n",
    "        current = current.link\n",
    "        print(current.data, end =' ')\n",
    "    print()"
   ]
  },
  {
   "cell_type": "code",
   "execution_count": 46,
   "id": "6efa137a",
   "metadata": {},
   "outputs": [],
   "source": [
    "memory = []\n",
    "head,current,pre = None,None,None\n",
    "dataArray = [10,20,30,40,50]"
   ]
  },
  {
   "cell_type": "code",
   "execution_count": 47,
   "id": "c114bfb8",
   "metadata": {},
   "outputs": [],
   "source": [
    "# 첫번째 노드\n",
    "node = Node()\n",
    "node.data = dataArray[0]\n",
    "head = node\n",
    "memory.append(node)"
   ]
  },
  {
   "cell_type": "code",
   "execution_count": 48,
   "id": "bd76e5cf",
   "metadata": {},
   "outputs": [
    {
     "name": "stdout",
     "output_type": "stream",
     "text": [
      "15 15 15\n",
      "20 15 15\n"
     ]
    }
   ],
   "source": [
    "# 순차적으로 개념파악 이걸실행하면 아래에서 연결이 안됨\n",
    "pre = node\n",
    "node.data = 15\n",
    "print(node.data, head.data, pre.data)\n",
    "node = Node()\n",
    "node.data = 20\n",
    "print(node.data, head.data, pre.data)\n",
    "pre.link = node  # 새로만든 노드를 이전노드와 연결시킨다"
   ]
  },
  {
   "cell_type": "code",
   "execution_count": 49,
   "id": "dec6dfb8",
   "metadata": {},
   "outputs": [],
   "source": [
    "# 두번째\n",
    "for data in dataArray[1:]:\n",
    "    pre = node\n",
    "    node = Node()  # 추가할 새로운 노드\n",
    "    node.data = data\n",
    "    pre.link = node\n",
    "    memory.append(node)"
   ]
  },
  {
   "cell_type": "code",
   "execution_count": 50,
   "id": "e491cb00",
   "metadata": {},
   "outputs": [
    {
     "name": "stdout",
     "output_type": "stream",
     "text": [
      "50\n",
      "40\n",
      "15\n"
     ]
    },
    {
     "data": {
      "text/plain": [
       "(None, None, None)"
      ]
     },
     "execution_count": 50,
     "metadata": {},
     "output_type": "execute_result"
    }
   ],
   "source": [
    "print(node.data), print(pre.data), print(head.data)"
   ]
  },
  {
   "cell_type": "code",
   "execution_count": 51,
   "id": "399ebe85",
   "metadata": {},
   "outputs": [
    {
     "name": "stdout",
     "output_type": "stream",
     "text": [
      "15 20 20 30 40 50 \n"
     ]
    }
   ],
   "source": [
    "printNode(head)"
   ]
  },
  {
   "cell_type": "code",
   "execution_count": null,
   "id": "a93a0858",
   "metadata": {},
   "outputs": [],
   "source": []
  },
  {
   "cell_type": "code",
   "execution_count": null,
   "id": "0001e262",
   "metadata": {},
   "outputs": [],
   "source": []
  },
  {
   "cell_type": "code",
   "execution_count": null,
   "id": "55ccfb96",
   "metadata": {},
   "outputs": [],
   "source": []
  },
  {
   "cell_type": "code",
   "execution_count": null,
   "id": "a31dee31",
   "metadata": {},
   "outputs": [],
   "source": []
  },
  {
   "cell_type": "code",
   "execution_count": null,
   "id": "5242f994",
   "metadata": {},
   "outputs": [],
   "source": []
  },
  {
   "cell_type": "code",
   "execution_count": null,
   "id": "452c456a",
   "metadata": {},
   "outputs": [],
   "source": []
  }
 ],
 "metadata": {
  "kernelspec": {
   "display_name": "Python 3 (ipykernel)",
   "language": "python",
   "name": "python3"
  },
  "language_info": {
   "codemirror_mode": {
    "name": "ipython",
    "version": 3
   },
   "file_extension": ".py",
   "mimetype": "text/x-python",
   "name": "python",
   "nbconvert_exporter": "python",
   "pygments_lexer": "ipython3",
   "version": "3.9.12"
  }
 },
 "nbformat": 4,
 "nbformat_minor": 5
}

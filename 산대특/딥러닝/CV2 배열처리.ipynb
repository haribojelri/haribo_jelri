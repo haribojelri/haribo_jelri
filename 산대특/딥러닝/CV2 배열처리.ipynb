{
 "cells": [
  {
   "cell_type": "code",
   "execution_count": 1,
   "id": "b3c97839",
   "metadata": {},
   "outputs": [],
   "source": [
    "import cv2"
   ]
  },
  {
   "cell_type": "code",
   "execution_count": 2,
   "id": "89f05ed7",
   "metadata": {},
   "outputs": [],
   "source": [
    "image =  cv2.imread('./face2.jpg', cv2.IMREAD_COLOR)\n",
    "x_axis = cv2.flip(image,0)  # x축 기준 상하뒤집기\n",
    "y_axis = cv2.flip(image,1)  # y축 기준 상하뒤집기\n",
    "xy_axis = cv2.flip(image,-1)  \n",
    "rep_image = cv2.repeat(image,1,2) # 반복 복사\n",
    "trans_image = cv2.transpose(image)  #행렬 전치"
   ]
  },
  {
   "cell_type": "code",
   "execution_count": 6,
   "id": "5ab0d0b5",
   "metadata": {},
   "outputs": [],
   "source": [
    "# 각 행렬을 영상으로 표시\n",
    "titles = ['image','x_axis','y_axis','xy_axis','rep_image','trans_image']\n",
    "for title in titles:\n",
    "    cv2.imshow(title,eval(title))\n",
    "cv2.waitKey(0)  \n",
    "cv2.destroyAllWindows()"
   ]
  },
  {
   "cell_type": "code",
   "execution_count": 5,
   "id": "91a2fcd7",
   "metadata": {},
   "outputs": [
    {
     "data": {
      "text/plain": [
       "3"
      ]
     },
     "execution_count": 5,
     "metadata": {},
     "output_type": "execute_result"
    }
   ],
   "source": [
    "x = 1\n",
    "y = 2\n",
    "'x + y' \n",
    "eval('x + y')"
   ]
  },
  {
   "cell_type": "code",
   "execution_count": null,
   "id": "3184b4cd",
   "metadata": {},
   "outputs": [],
   "source": []
  }
 ],
 "metadata": {
  "kernelspec": {
   "display_name": "Python 3 (ipykernel)",
   "language": "python",
   "name": "python3"
  },
  "language_info": {
   "codemirror_mode": {
    "name": "ipython",
    "version": 3
   },
   "file_extension": ".py",
   "mimetype": "text/x-python",
   "name": "python",
   "nbconvert_exporter": "python",
   "pygments_lexer": "ipython3",
   "version": "3.7.0"
  }
 },
 "nbformat": 4,
 "nbformat_minor": 5
}

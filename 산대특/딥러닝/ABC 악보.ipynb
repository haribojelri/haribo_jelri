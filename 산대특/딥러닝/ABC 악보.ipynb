{
 "cells": [
  {
   "cell_type": "code",
   "execution_count": 40,
   "id": "782d4085",
   "metadata": {},
   "outputs": [],
   "source": [
    "music1 = \"tinynotation: 4/4 c4 c4 g4 g4 a4 a4 g2 f4 f4 e4 e4 d4 d4 c2 g4 g4 f4 f4 e4 e4 d2 g4 g4 f4 f4 e4 e4 d2 c4 c4 g4 g4 a4 a4 g2 f4 f4 e4 e4 d4 d4 c2\""
   ]
  },
  {
   "cell_type": "code",
   "execution_count": 41,
   "id": "b703535c",
   "metadata": {},
   "outputs": [],
   "source": [
    "# !pip install music21"
   ]
  },
  {
   "cell_type": "code",
   "execution_count": 42,
   "id": "b0446679",
   "metadata": {},
   "outputs": [],
   "source": [
    "# import music21"
   ]
  },
  {
   "cell_type": "code",
   "execution_count": 43,
   "id": "2275d9d0",
   "metadata": {},
   "outputs": [],
   "source": [
    "# music21.converter.parse(music1).show('mid')"
   ]
  },
  {
   "cell_type": "code",
   "execution_count": 44,
   "id": "45e55d79",
   "metadata": {},
   "outputs": [],
   "source": [
    "# help(music21.converter.parse)"
   ]
  },
  {
   "cell_type": "code",
   "execution_count": 45,
   "id": "9ba52186",
   "metadata": {},
   "outputs": [],
   "source": [
    "import numpy as np"
   ]
  },
  {
   "cell_type": "code",
   "execution_count": 46,
   "id": "d41f285b",
   "metadata": {},
   "outputs": [],
   "source": [
    "# dic 박자 <-> 음원"
   ]
  },
  {
   "cell_type": "code",
   "execution_count": 47,
   "id": "d960e7a7",
   "metadata": {},
   "outputs": [],
   "source": [
    "note2num = {'c':1,'d':2,'e':3,'f':4,'g':5,'a':6,'b':7}\n"
   ]
  },
  {
   "cell_type": "code",
   "execution_count": 48,
   "id": "3e6c6994",
   "metadata": {},
   "outputs": [],
   "source": [
    "num2note = {}\n",
    "for key,value in  note2num.items():\n",
    "    num2note[value] = key   "
   ]
  },
  {
   "cell_type": "code",
   "execution_count": 49,
   "id": "5f76a067",
   "metadata": {},
   "outputs": [
    {
     "data": {
      "text/plain": [
       "{1: 'c', 2: 'd', 3: 'e', 4: 'f', 5: 'g', 6: 'a', 7: 'b'}"
      ]
     },
     "execution_count": 49,
     "metadata": {},
     "output_type": "execute_result"
    }
   ],
   "source": [
    "num2note"
   ]
  },
  {
   "cell_type": "code",
   "execution_count": 50,
   "id": "8198adcb",
   "metadata": {},
   "outputs": [],
   "source": [
    "temp1 = ['c','d','e','f','g','a','b']\n",
    "temp2 = list(range(1,8))"
   ]
  },
  {
   "cell_type": "code",
   "execution_count": 51,
   "id": "511177c7",
   "metadata": {},
   "outputs": [
    {
     "data": {
      "text/plain": [
       "{'c': 1, 'd': 2, 'e': 3, 'f': 4, 'g': 5, 'a': 6, 'b': 7}"
      ]
     },
     "execution_count": 51,
     "metadata": {},
     "output_type": "execute_result"
    }
   ],
   "source": [
    "dict(zip(temp1,temp2))"
   ]
  },
  {
   "cell_type": "code",
   "execution_count": 52,
   "id": "a5cc8ce7",
   "metadata": {},
   "outputs": [
    {
     "data": {
      "text/plain": [
       "{1: 'c', 2: 'd', 3: 'e', 4: 'f', 5: 'g', 6: 'a', 7: 'b'}"
      ]
     },
     "execution_count": 52,
     "metadata": {},
     "output_type": "execute_result"
    }
   ],
   "source": [
    "dict(zip(temp2,temp1))"
   ]
  },
  {
   "cell_type": "code",
   "execution_count": 53,
   "id": "2c233dd0",
   "metadata": {},
   "outputs": [
    {
     "data": {
      "text/plain": [
       "'tinynotation: 4/4 c4 c4 g4 g4 a4 a4 g2 f4 f4 e4 e4 d4 d4 c2 g4 g4 f4 f4 e4 e4 d2 g4 g4 f4 f4 e4 e4 d2 c4 c4 g4 g4 a4 a4 g2 f4 f4 e4 e4 d4 d4 c2'"
      ]
     },
     "execution_count": 53,
     "metadata": {},
     "output_type": "execute_result"
    }
   ],
   "source": [
    "# ABC 데이터를 시계열데이터로 변환\n",
    "music1"
   ]
  },
  {
   "cell_type": "code",
   "execution_count": 54,
   "id": "b816125e",
   "metadata": {},
   "outputs": [],
   "source": [
    "seq = []\n",
    "for data in music1.split()[2:]:\n",
    "    seq.append( [note2num[data[0]],int(data[1]) ] )"
   ]
  },
  {
   "cell_type": "code",
   "execution_count": 56,
   "id": "4296e17b",
   "metadata": {},
   "outputs": [
    {
     "data": {
      "text/plain": [
       "[[1, 4], [1, 4], [5, 4], [5, 4], [6, 4]]"
      ]
     },
     "execution_count": 56,
     "metadata": {},
     "output_type": "execute_result"
    }
   ],
   "source": [
    "seq[:5]"
   ]
  },
  {
   "cell_type": "code",
   "execution_count": 57,
   "id": "160054f7",
   "metadata": {},
   "outputs": [],
   "source": [
    "# 시계열 데이터를 학습용과 정답을 생성\n",
    "def makeTrainDataAndClass(seq,window):\n",
    "    X,Y = [],[]\n",
    "    for i in range(len(seq) - window):\n",
    "        x = seq[i:window+i]\n",
    "        y = seq[i+window]\n",
    "        X.append(x); Y.append(y)\n",
    "    return np.array(X), np.array(Y)        "
   ]
  },
  {
   "cell_type": "code",
   "execution_count": 58,
   "id": "9f71e40b",
   "metadata": {},
   "outputs": [],
   "source": [
    "w = 4\n",
    "x,y =  makeTrainDataAndClass(seq,w)"
   ]
  },
  {
   "cell_type": "code",
   "execution_count": 59,
   "id": "661252e5",
   "metadata": {},
   "outputs": [
    {
     "data": {
      "text/plain": [
       "((38, 4, 2), (38, 2))"
      ]
     },
     "execution_count": 59,
     "metadata": {},
     "output_type": "execute_result"
    }
   ],
   "source": [
    "x.shape, y.shape"
   ]
  },
  {
   "cell_type": "code",
   "execution_count": 60,
   "id": "29b40d1d",
   "metadata": {},
   "outputs": [],
   "source": [
    "# 순환신경망은 시계열데이터와 같이 연속적인 흐름과 과거의 정보를 보존할 필요가 있을때\n",
    "from tensorflow.keras.models import Sequential\n",
    "from tensorflow.keras.layers import Dense, LSTM\n",
    "import tensorflow as tf"
   ]
  },
  {
   "cell_type": "code",
   "execution_count": 61,
   "id": "c2413c86",
   "metadata": {},
   "outputs": [
    {
     "data": {
      "text/plain": [
       "((38, 4, 2), (38, 2))"
      ]
     },
     "execution_count": 61,
     "metadata": {},
     "output_type": "execute_result"
    }
   ],
   "source": [
    "x_train,y_train = x, y\n",
    "x_train.shape, y_train.shape"
   ]
  },
  {
   "cell_type": "code",
   "execution_count": 66,
   "id": "7e6ac8c0",
   "metadata": {},
   "outputs": [
    {
     "name": "stdout",
     "output_type": "stream",
     "text": [
      "WARNING:tensorflow:Layer lstm_2 will not use cuDNN kernels since it doesn't meet the criteria. It will use a generic GPU kernel as fallback when running on GPU.\n"
     ]
    }
   ],
   "source": [
    "#LSTM 모델 설계 학습 - 회귀\n",
    "model=Sequential()\n",
    "model.add(LSTM(128,activation='relu',input_shape = x_train.shape[1:]))\n",
    "model.add(Dense(128,activation='relu'))\n",
    "model.add(Dense(64,activation='relu'))\n",
    "model.add(Dense(24,activation='relu'))\n",
    "model.add(Dense(2))"
   ]
  },
  {
   "cell_type": "code",
   "execution_count": 67,
   "id": "87001c66",
   "metadata": {},
   "outputs": [
    {
     "name": "stdout",
     "output_type": "stream",
     "text": [
      "Model: \"sequential_2\"\n",
      "_________________________________________________________________\n",
      " Layer (type)                Output Shape              Param #   \n",
      "=================================================================\n",
      " lstm_2 (LSTM)               (None, 128)               67072     \n",
      "                                                                 \n",
      " dense_7 (Dense)             (None, 128)               16512     \n",
      "                                                                 \n",
      " dense_8 (Dense)             (None, 64)                8256      \n",
      "                                                                 \n",
      " dense_9 (Dense)             (None, 24)                1560      \n",
      "                                                                 \n",
      " dense_10 (Dense)            (None, 2)                 50        \n",
      "                                                                 \n",
      "=================================================================\n",
      "Total params: 93,450\n",
      "Trainable params: 93,450\n",
      "Non-trainable params: 0\n",
      "_________________________________________________________________\n"
     ]
    }
   ],
   "source": [
    "model.summary()"
   ]
  },
  {
   "cell_type": "code",
   "execution_count": 68,
   "id": "a7d1090d",
   "metadata": {},
   "outputs": [],
   "source": [
    "model.compile(loss='mse',optimizer='adam',metrics=['mae'])"
   ]
  },
  {
   "cell_type": "code",
   "execution_count": 25,
   "id": "5dbdd909",
   "metadata": {},
   "outputs": [
    {
     "name": "stdout",
     "output_type": "stream",
     "text": [
      "Epoch 1/100\n",
      "38/38 [==============================] - 2s 8ms/step - loss: 7.2850 - mae: 2.3268\n",
      "Epoch 2/100\n",
      "38/38 [==============================] - 0s 8ms/step - loss: 2.0216 - mae: 1.1229\n",
      "Epoch 3/100\n",
      "38/38 [==============================] - 0s 8ms/step - loss: 1.6912 - mae: 1.0523\n",
      "Epoch 4/100\n",
      "38/38 [==============================] - 0s 7ms/step - loss: 1.7078 - mae: 1.0694\n",
      "Epoch 5/100\n",
      "38/38 [==============================] - 0s 7ms/step - loss: 1.4490 - mae: 0.9798\n",
      "Epoch 6/100\n",
      "38/38 [==============================] - 0s 7ms/step - loss: 1.2297 - mae: 0.9082\n",
      "Epoch 7/100\n",
      "38/38 [==============================] - 0s 7ms/step - loss: 1.3698 - mae: 0.9621\n",
      "Epoch 8/100\n",
      "38/38 [==============================] - 0s 6ms/step - loss: 1.6106 - mae: 1.0440\n",
      "Epoch 9/100\n",
      "38/38 [==============================] - 0s 6ms/step - loss: 1.3235 - mae: 0.9084\n",
      "Epoch 10/100\n",
      "38/38 [==============================] - 0s 7ms/step - loss: 1.1490 - mae: 0.8588\n",
      "Epoch 11/100\n",
      "38/38 [==============================] - 0s 8ms/step - loss: 1.0509 - mae: 0.8250\n",
      "Epoch 12/100\n",
      "38/38 [==============================] - 0s 7ms/step - loss: 1.0885 - mae: 0.8142\n",
      "Epoch 13/100\n",
      "38/38 [==============================] - 0s 8ms/step - loss: 1.0527 - mae: 0.7856\n",
      "Epoch 14/100\n",
      "38/38 [==============================] - 0s 7ms/step - loss: 0.9437 - mae: 0.7210\n",
      "Epoch 15/100\n",
      "38/38 [==============================] - 0s 7ms/step - loss: 0.9907 - mae: 0.7754\n",
      "Epoch 16/100\n",
      "38/38 [==============================] - 0s 7ms/step - loss: 0.9379 - mae: 0.7595\n",
      "Epoch 17/100\n",
      "38/38 [==============================] - 0s 8ms/step - loss: 1.0944 - mae: 0.8134\n",
      "Epoch 18/100\n",
      "38/38 [==============================] - 0s 7ms/step - loss: 0.8991 - mae: 0.7035\n",
      "Epoch 19/100\n",
      "38/38 [==============================] - 0s 7ms/step - loss: 0.9054 - mae: 0.7013\n",
      "Epoch 20/100\n",
      "38/38 [==============================] - 0s 6ms/step - loss: 0.8522 - mae: 0.6901\n",
      "Epoch 21/100\n",
      "38/38 [==============================] - 0s 7ms/step - loss: 0.9531 - mae: 0.7723\n",
      "Epoch 22/100\n",
      "38/38 [==============================] - 0s 7ms/step - loss: 1.0584 - mae: 0.7824\n",
      "Epoch 23/100\n",
      "38/38 [==============================] - 0s 7ms/step - loss: 0.8881 - mae: 0.6705\n",
      "Epoch 24/100\n",
      "38/38 [==============================] - 0s 7ms/step - loss: 0.7652 - mae: 0.6288\n",
      "Epoch 25/100\n",
      "38/38 [==============================] - 0s 7ms/step - loss: 0.7963 - mae: 0.6863\n",
      "Epoch 26/100\n",
      "38/38 [==============================] - 0s 8ms/step - loss: 0.8493 - mae: 0.6680\n",
      "Epoch 27/100\n",
      "38/38 [==============================] - 0s 8ms/step - loss: 0.7456 - mae: 0.6362\n",
      "Epoch 28/100\n",
      "38/38 [==============================] - 0s 7ms/step - loss: 0.8461 - mae: 0.7037\n",
      "Epoch 29/100\n",
      "38/38 [==============================] - 0s 7ms/step - loss: 0.8369 - mae: 0.6945\n",
      "Epoch 30/100\n",
      "38/38 [==============================] - 0s 7ms/step - loss: 0.8251 - mae: 0.6924\n",
      "Epoch 31/100\n",
      "38/38 [==============================] - 0s 7ms/step - loss: 1.0135 - mae: 0.7867\n",
      "Epoch 32/100\n",
      "38/38 [==============================] - 0s 7ms/step - loss: 0.9773 - mae: 0.7585\n",
      "Epoch 33/100\n",
      "38/38 [==============================] - 0s 7ms/step - loss: 0.8703 - mae: 0.6865\n",
      "Epoch 34/100\n",
      "38/38 [==============================] - 0s 8ms/step - loss: 0.7333 - mae: 0.6236\n",
      "Epoch 35/100\n",
      "38/38 [==============================] - 0s 8ms/step - loss: 0.7489 - mae: 0.6177\n",
      "Epoch 36/100\n",
      "38/38 [==============================] - 0s 8ms/step - loss: 0.7432 - mae: 0.6286\n",
      "Epoch 37/100\n",
      "38/38 [==============================] - 0s 8ms/step - loss: 0.6410 - mae: 0.5918\n",
      "Epoch 38/100\n",
      "38/38 [==============================] - 0s 7ms/step - loss: 0.6893 - mae: 0.6018\n",
      "Epoch 39/100\n",
      "38/38 [==============================] - 0s 8ms/step - loss: 0.8972 - mae: 0.7481\n",
      "Epoch 40/100\n",
      "38/38 [==============================] - 0s 8ms/step - loss: 0.7033 - mae: 0.6303\n",
      "Epoch 41/100\n",
      "38/38 [==============================] - 0s 6ms/step - loss: 0.8634 - mae: 0.6789\n",
      "Epoch 42/100\n",
      "38/38 [==============================] - 0s 6ms/step - loss: 0.8884 - mae: 0.6986\n",
      "Epoch 43/100\n",
      "38/38 [==============================] - 0s 7ms/step - loss: 0.7264 - mae: 0.6349\n",
      "Epoch 44/100\n",
      "38/38 [==============================] - 0s 6ms/step - loss: 0.6554 - mae: 0.5840\n",
      "Epoch 45/100\n",
      "38/38 [==============================] - 0s 6ms/step - loss: 0.7239 - mae: 0.6165\n",
      "Epoch 46/100\n",
      "38/38 [==============================] - 0s 6ms/step - loss: 0.6384 - mae: 0.6053\n",
      "Epoch 47/100\n",
      "38/38 [==============================] - 0s 7ms/step - loss: 0.6651 - mae: 0.5998\n",
      "Epoch 48/100\n",
      "38/38 [==============================] - 0s 7ms/step - loss: 0.6968 - mae: 0.6060\n",
      "Epoch 49/100\n",
      "38/38 [==============================] - 0s 7ms/step - loss: 0.7931 - mae: 0.6655\n",
      "Epoch 50/100\n",
      "38/38 [==============================] - 0s 8ms/step - loss: 0.6918 - mae: 0.5820\n",
      "Epoch 51/100\n",
      "38/38 [==============================] - 0s 8ms/step - loss: 0.5812 - mae: 0.5466\n",
      "Epoch 52/100\n",
      "38/38 [==============================] - 0s 8ms/step - loss: 0.6200 - mae: 0.5913\n",
      "Epoch 53/100\n",
      "38/38 [==============================] - 0s 8ms/step - loss: 0.5468 - mae: 0.5467\n",
      "Epoch 54/100\n",
      "38/38 [==============================] - 0s 7ms/step - loss: 0.7073 - mae: 0.6748\n",
      "Epoch 55/100\n",
      "38/38 [==============================] - 0s 7ms/step - loss: 0.5885 - mae: 0.5685\n",
      "Epoch 56/100\n",
      "38/38 [==============================] - 0s 7ms/step - loss: 0.6813 - mae: 0.6427\n",
      "Epoch 57/100\n",
      "38/38 [==============================] - 0s 7ms/step - loss: 0.6218 - mae: 0.5705\n",
      "Epoch 58/100\n",
      "38/38 [==============================] - 0s 7ms/step - loss: 0.6169 - mae: 0.6103\n",
      "Epoch 59/100\n",
      "38/38 [==============================] - 0s 7ms/step - loss: 0.5109 - mae: 0.5121\n",
      "Epoch 60/100\n",
      "38/38 [==============================] - 0s 7ms/step - loss: 0.5774 - mae: 0.5502\n",
      "Epoch 61/100\n",
      "38/38 [==============================] - 0s 8ms/step - loss: 0.5627 - mae: 0.5625\n",
      "Epoch 62/100\n",
      "38/38 [==============================] - 0s 7ms/step - loss: 0.5443 - mae: 0.5588\n",
      "Epoch 63/100\n",
      "38/38 [==============================] - 0s 6ms/step - loss: 0.4784 - mae: 0.4827\n",
      "Epoch 64/100\n",
      "38/38 [==============================] - 0s 6ms/step - loss: 0.4942 - mae: 0.5320\n",
      "Epoch 65/100\n",
      "38/38 [==============================] - 0s 6ms/step - loss: 0.4847 - mae: 0.5265\n",
      "Epoch 66/100\n",
      "38/38 [==============================] - 0s 8ms/step - loss: 0.5073 - mae: 0.5648\n",
      "Epoch 67/100\n",
      "38/38 [==============================] - 0s 8ms/step - loss: 0.4901 - mae: 0.5349\n",
      "Epoch 68/100\n",
      "38/38 [==============================] - 0s 7ms/step - loss: 0.4884 - mae: 0.5133\n",
      "Epoch 69/100\n",
      "38/38 [==============================] - 0s 8ms/step - loss: 0.4568 - mae: 0.5166\n",
      "Epoch 70/100\n",
      "38/38 [==============================] - 0s 8ms/step - loss: 0.5318 - mae: 0.5715\n",
      "Epoch 71/100\n",
      "38/38 [==============================] - 0s 6ms/step - loss: 0.5311 - mae: 0.5428\n",
      "Epoch 72/100\n",
      "38/38 [==============================] - 0s 7ms/step - loss: 0.4509 - mae: 0.4954\n",
      "Epoch 73/100\n",
      "38/38 [==============================] - 0s 6ms/step - loss: 0.4278 - mae: 0.4772\n",
      "Epoch 74/100\n",
      "38/38 [==============================] - 0s 7ms/step - loss: 0.4418 - mae: 0.4871\n",
      "Epoch 75/100\n",
      "38/38 [==============================] - 0s 7ms/step - loss: 0.4446 - mae: 0.4871\n",
      "Epoch 76/100\n",
      "38/38 [==============================] - 0s 7ms/step - loss: 0.4441 - mae: 0.4666\n",
      "Epoch 77/100\n",
      "38/38 [==============================] - 0s 8ms/step - loss: 0.4653 - mae: 0.5333\n",
      "Epoch 78/100\n",
      "38/38 [==============================] - 0s 7ms/step - loss: 0.4313 - mae: 0.4891\n",
      "Epoch 79/100\n",
      "38/38 [==============================] - 0s 7ms/step - loss: 0.4633 - mae: 0.5078\n",
      "Epoch 80/100\n",
      "38/38 [==============================] - 0s 8ms/step - loss: 0.4560 - mae: 0.5249\n",
      "Epoch 81/100\n",
      "38/38 [==============================] - 0s 7ms/step - loss: 0.3600 - mae: 0.4378\n",
      "Epoch 82/100\n",
      "38/38 [==============================] - 0s 7ms/step - loss: 0.3936 - mae: 0.4638\n",
      "Epoch 83/100\n",
      "38/38 [==============================] - 0s 8ms/step - loss: 0.4155 - mae: 0.4676\n",
      "Epoch 84/100\n",
      "38/38 [==============================] - 0s 7ms/step - loss: 0.4044 - mae: 0.4894\n",
      "Epoch 85/100\n",
      "38/38 [==============================] - 0s 7ms/step - loss: 0.3436 - mae: 0.4147\n",
      "Epoch 86/100\n",
      "38/38 [==============================] - 0s 6ms/step - loss: 0.4045 - mae: 0.4571\n",
      "Epoch 87/100\n"
     ]
    },
    {
     "name": "stdout",
     "output_type": "stream",
     "text": [
      "38/38 [==============================] - 0s 6ms/step - loss: 0.5000 - mae: 0.5345\n",
      "Epoch 88/100\n",
      "38/38 [==============================] - 0s 7ms/step - loss: 0.3425 - mae: 0.4313\n",
      "Epoch 89/100\n",
      "38/38 [==============================] - 0s 6ms/step - loss: 0.3773 - mae: 0.4350\n",
      "Epoch 90/100\n",
      "38/38 [==============================] - 0s 7ms/step - loss: 0.3528 - mae: 0.4200\n",
      "Epoch 91/100\n",
      "38/38 [==============================] - 0s 7ms/step - loss: 0.3546 - mae: 0.4337\n",
      "Epoch 92/100\n",
      "38/38 [==============================] - 0s 7ms/step - loss: 0.3582 - mae: 0.4191\n",
      "Epoch 93/100\n",
      "38/38 [==============================] - 0s 7ms/step - loss: 0.3451 - mae: 0.4430\n",
      "Epoch 94/100\n",
      "38/38 [==============================] - 0s 8ms/step - loss: 0.3462 - mae: 0.4086\n",
      "Epoch 95/100\n",
      "38/38 [==============================] - 0s 7ms/step - loss: 0.2848 - mae: 0.3678\n",
      "Epoch 96/100\n",
      "38/38 [==============================] - 0s 6ms/step - loss: 0.3437 - mae: 0.4415\n",
      "Epoch 97/100\n",
      "38/38 [==============================] - 0s 7ms/step - loss: 0.3157 - mae: 0.4025\n",
      "Epoch 98/100\n",
      "38/38 [==============================] - 0s 8ms/step - loss: 0.3506 - mae: 0.4162\n",
      "Epoch 99/100\n",
      "38/38 [==============================] - 0s 7ms/step - loss: 0.3128 - mae: 0.3676\n",
      "Epoch 100/100\n",
      "38/38 [==============================] - 0s 7ms/step - loss: 0.2875 - mae: 0.3635\n"
     ]
    }
   ],
   "source": [
    "hist = model.fit(x_train,y_train,epochs=100, batch_size=1)"
   ]
  },
  {
   "cell_type": "code",
   "execution_count": 26,
   "id": "28ca1af4",
   "metadata": {},
   "outputs": [
    {
     "name": "stdout",
     "output_type": "stream",
     "text": [
      "2/2 [==============================] - 0s 8ms/step\n"
     ]
    },
    {
     "data": {
      "text/plain": [
       "array([[5.966691 , 4.052119 ],\n",
       "       [6.088489 , 4.1021876],\n",
       "       [5.202659 , 2.5154357],\n",
       "       [4.122326 , 4.518261 ],\n",
       "       [4.1248937, 4.6709466],\n",
       "       [3.17862  , 4.555956 ],\n",
       "       [3.1493032, 4.4169707],\n",
       "       [2.3669105, 3.598412 ],\n",
       "       [1.8648239, 3.596362 ],\n",
       "       [1.3316047, 2.6907392],\n",
       "       [4.853331 , 3.9396315],\n",
       "       [4.8590775, 4.1187897],\n",
       "       [4.5435305, 3.871575 ],\n",
       "       [4.049307 , 4.2165575],\n",
       "       [3.3962245, 4.0885334],\n",
       "       [2.8682725, 4.1336956],\n",
       "       [2.3669105, 3.598412 ],\n",
       "       [3.0484574, 4.2646046],\n",
       "       [4.869914 , 4.181277 ],\n",
       "       [4.266249 , 3.9991753],\n",
       "       [3.8087873, 4.2004814],\n",
       "       [3.3962245, 4.0885334],\n",
       "       [2.8682725, 4.1336956],\n",
       "       [2.3669105, 3.598412 ],\n",
       "       [3.0484574, 4.2646046],\n",
       "       [1.3232056, 3.8049765],\n",
       "       [5.117602 , 3.8532143],\n",
       "       [5.306352 , 3.7690172],\n",
       "       [5.966691 , 4.052119 ],\n",
       "       [6.088489 , 4.1021876],\n",
       "       [5.202659 , 2.5154357],\n",
       "       [4.122326 , 4.518261 ],\n",
       "       [4.1248937, 4.6709466],\n",
       "       [3.17862  , 4.555956 ],\n",
       "       [3.1493032, 4.4169707],\n",
       "       [2.3669105, 3.598412 ],\n",
       "       [1.8648239, 3.596362 ],\n",
       "       [1.3316047, 2.6907392]], dtype=float32)"
      ]
     },
     "execution_count": 26,
     "metadata": {},
     "output_type": "execute_result"
    }
   ],
   "source": [
    "# 회귀로 해당 곡을 편집 가능\n",
    "model.predict(x_train)\n",
    "# y_train"
   ]
  },
  {
   "cell_type": "code",
   "execution_count": 27,
   "id": "4d3f20c0",
   "metadata": {},
   "outputs": [],
   "source": [
    "# multi hot 코드 변환\n",
    "def to_multy_hot(data):\n",
    "    temp = np.zeros((7,4))\n",
    "    x,y = data[0],data[1]    \n",
    "    temp[x-1,y-1] = 1\n",
    "    return temp"
   ]
  },
  {
   "cell_type": "code",
   "execution_count": 28,
   "id": "eb7c8609",
   "metadata": {},
   "outputs": [],
   "source": [
    "y_train_hot = np.array([ to_multy_hot(data) for data in y_train]    )"
   ]
  },
  {
   "cell_type": "code",
   "execution_count": 29,
   "id": "dac7d005",
   "metadata": {},
   "outputs": [],
   "source": [
    "y_train_hot = y_train_hot.reshape(38,-1)"
   ]
  },
  {
   "cell_type": "code",
   "execution_count": 30,
   "id": "b5303573",
   "metadata": {},
   "outputs": [
    {
     "data": {
      "text/plain": [
       "(38, 28)"
      ]
     },
     "execution_count": 30,
     "metadata": {},
     "output_type": "execute_result"
    }
   ],
   "source": [
    "y_train_hot.shape"
   ]
  },
  {
   "cell_type": "code",
   "execution_count": 105,
   "id": "cf094bb0",
   "metadata": {},
   "outputs": [
    {
     "name": "stdout",
     "output_type": "stream",
     "text": [
      "WARNING:tensorflow:Layer lstm_3 will not use cuDNN kernels since it doesn't meet the criteria. It will use a generic GPU kernel as fallback when running on GPU.\n"
     ]
    }
   ],
   "source": [
    "#  시경망 설계\n",
    "#LSTM 모델 설계 학습- 분류\n",
    "model=Sequential()\n",
    "model.add(LSTM(128,activation='relu',input_shape = x_train[0].shape))\n",
    "model.add(Dense(100,activation='relu'))\n",
    "model.add(Dense(64,activation='relu'))\n",
    "model.add(Dense(28,activation='softmax'))\n",
    "model.compile(loss=tf.keras.losses.categorical_crossentropy,optimizer='adam',metrics=['accuracy'])"
   ]
  },
  {
   "cell_type": "code",
   "execution_count": 106,
   "id": "cec78005",
   "metadata": {},
   "outputs": [
    {
     "name": "stdout",
     "output_type": "stream",
     "text": [
      "Epoch 1/50\n",
      "38/38 [==============================] - 1s 11ms/step - loss: 3.1459 - accuracy: 0.1316\n",
      "Epoch 2/50\n",
      "38/38 [==============================] - 0s 9ms/step - loss: 2.4357 - accuracy: 0.1316\n",
      "Epoch 3/50\n",
      "38/38 [==============================] - 0s 9ms/step - loss: 2.2300 - accuracy: 0.1316\n",
      "Epoch 4/50\n",
      "38/38 [==============================] - 0s 10ms/step - loss: 2.0723 - accuracy: 0.1842\n",
      "Epoch 5/50\n",
      "38/38 [==============================] - 0s 11ms/step - loss: 2.0124 - accuracy: 0.2632\n",
      "Epoch 6/50\n",
      "38/38 [==============================] - 0s 12ms/step - loss: 1.8485 - accuracy: 0.3158\n",
      "Epoch 7/50\n",
      "38/38 [==============================] - 0s 10ms/step - loss: 1.6965 - accuracy: 0.2895\n",
      "Epoch 8/50\n",
      "38/38 [==============================] - 0s 11ms/step - loss: 1.5649 - accuracy: 0.4474\n",
      "Epoch 9/50\n",
      "38/38 [==============================] - 0s 10ms/step - loss: 1.5826 - accuracy: 0.3421\n",
      "Epoch 10/50\n",
      "38/38 [==============================] - 0s 11ms/step - loss: 1.4917 - accuracy: 0.3684\n",
      "Epoch 11/50\n",
      "38/38 [==============================] - 0s 10ms/step - loss: 1.2656 - accuracy: 0.4737\n",
      "Epoch 12/50\n",
      "38/38 [==============================] - 0s 10ms/step - loss: 1.2815 - accuracy: 0.5000\n",
      "Epoch 13/50\n",
      "38/38 [==============================] - 0s 11ms/step - loss: 1.0841 - accuracy: 0.6316\n",
      "Epoch 14/50\n",
      "38/38 [==============================] - 0s 11ms/step - loss: 1.3682 - accuracy: 0.4211\n",
      "Epoch 15/50\n",
      "38/38 [==============================] - 0s 9ms/step - loss: 1.1709 - accuracy: 0.5263\n",
      "Epoch 16/50\n",
      "38/38 [==============================] - 0s 8ms/step - loss: 1.0203 - accuracy: 0.5526\n",
      "Epoch 17/50\n",
      "38/38 [==============================] - 0s 10ms/step - loss: 1.0920 - accuracy: 0.6316\n",
      "Epoch 18/50\n",
      "38/38 [==============================] - 0s 9ms/step - loss: 1.0056 - accuracy: 0.6316\n",
      "Epoch 19/50\n",
      "38/38 [==============================] - 0s 9ms/step - loss: 0.9542 - accuracy: 0.6053\n",
      "Epoch 20/50\n",
      "38/38 [==============================] - 0s 9ms/step - loss: 1.9105 - accuracy: 0.3158\n",
      "Epoch 21/50\n",
      "38/38 [==============================] - 0s 10ms/step - loss: 1.1121 - accuracy: 0.5789\n",
      "Epoch 22/50\n",
      "38/38 [==============================] - 0s 10ms/step - loss: 0.9056 - accuracy: 0.6579\n",
      "Epoch 23/50\n",
      "38/38 [==============================] - 0s 8ms/step - loss: 0.7949 - accuracy: 0.6579\n",
      "Epoch 24/50\n",
      "38/38 [==============================] - 0s 9ms/step - loss: 0.6976 - accuracy: 0.6842\n",
      "Epoch 25/50\n",
      "38/38 [==============================] - 0s 9ms/step - loss: 0.7113 - accuracy: 0.6579\n",
      "Epoch 26/50\n",
      "38/38 [==============================] - 0s 8ms/step - loss: 0.7208 - accuracy: 0.7105\n",
      "Epoch 27/50\n",
      "38/38 [==============================] - 0s 9ms/step - loss: 0.6581 - accuracy: 0.6579\n",
      "Epoch 28/50\n",
      "38/38 [==============================] - 0s 9ms/step - loss: 0.7229 - accuracy: 0.6842\n",
      "Epoch 29/50\n",
      "38/38 [==============================] - 0s 9ms/step - loss: 0.6191 - accuracy: 0.7632\n",
      "Epoch 30/50\n",
      "38/38 [==============================] - 0s 10ms/step - loss: 0.6571 - accuracy: 0.7368\n",
      "Epoch 31/50\n",
      "38/38 [==============================] - 0s 9ms/step - loss: 0.6717 - accuracy: 0.6842\n",
      "Epoch 32/50\n",
      "38/38 [==============================] - 0s 10ms/step - loss: 0.9964 - accuracy: 0.5526\n",
      "Epoch 33/50\n",
      "38/38 [==============================] - 0s 11ms/step - loss: 0.6111 - accuracy: 0.7105\n",
      "Epoch 34/50\n",
      "38/38 [==============================] - 0s 12ms/step - loss: 0.5823 - accuracy: 0.7632\n",
      "Epoch 35/50\n",
      "38/38 [==============================] - 0s 9ms/step - loss: 0.5838 - accuracy: 0.6842\n",
      "Epoch 36/50\n",
      "38/38 [==============================] - 0s 12ms/step - loss: 0.5028 - accuracy: 0.7895\n",
      "Epoch 37/50\n",
      "38/38 [==============================] - 0s 9ms/step - loss: 0.5682 - accuracy: 0.7105\n",
      "Epoch 38/50\n",
      "38/38 [==============================] - 0s 9ms/step - loss: 0.5543 - accuracy: 0.7895\n",
      "Epoch 39/50\n",
      "38/38 [==============================] - 0s 10ms/step - loss: 0.5029 - accuracy: 0.7368\n",
      "Epoch 40/50\n",
      "38/38 [==============================] - 0s 10ms/step - loss: 0.5097 - accuracy: 0.7105\n",
      "Epoch 41/50\n",
      "38/38 [==============================] - 0s 11ms/step - loss: 0.5038 - accuracy: 0.6842\n",
      "Epoch 42/50\n",
      "38/38 [==============================] - 0s 9ms/step - loss: 0.4675 - accuracy: 0.7105\n",
      "Epoch 43/50\n",
      "38/38 [==============================] - 0s 8ms/step - loss: 0.5439 - accuracy: 0.7368\n",
      "Epoch 44/50\n",
      "38/38 [==============================] - 0s 11ms/step - loss: 0.4043 - accuracy: 0.8421\n",
      "Epoch 45/50\n",
      "38/38 [==============================] - 0s 9ms/step - loss: 0.5094 - accuracy: 0.7105\n",
      "Epoch 46/50\n",
      "38/38 [==============================] - 0s 9ms/step - loss: 0.5852 - accuracy: 0.7632\n",
      "Epoch 47/50\n",
      "38/38 [==============================] - 0s 10ms/step - loss: 0.3771 - accuracy: 0.7895\n",
      "Epoch 48/50\n",
      "38/38 [==============================] - 0s 8ms/step - loss: 0.4727 - accuracy: 0.8158\n",
      "Epoch 49/50\n",
      "38/38 [==============================] - 0s 9ms/step - loss: 0.3957 - accuracy: 0.7632\n",
      "Epoch 50/50\n",
      "38/38 [==============================] - 0s 9ms/step - loss: 0.4671 - accuracy: 0.7632\n"
     ]
    }
   ],
   "source": [
    "hist = model.fit(x_train,y_train_hot,epochs=50,batch_size=1)"
   ]
  },
  {
   "cell_type": "code",
   "execution_count": 107,
   "id": "d02f1133",
   "metadata": {},
   "outputs": [],
   "source": [
    "def makeMusicOne(data):\n",
    "    row = np.argmax(data) // 4+1\n",
    "    col = np.argmax(data) % 4+1    \n",
    "    return num2note[row]+str(col)"
   ]
  },
  {
   "cell_type": "code",
   "execution_count": 108,
   "id": "98decca2",
   "metadata": {},
   "outputs": [
    {
     "name": "stdout",
     "output_type": "stream",
     "text": [
      "1/1 [==============================] - 0s 160ms/step\n"
     ]
    }
   ],
   "source": [
    "x_prepredic =  x_train[15:20]\n",
    "x_predict = model.predict(x_prepredic)\n",
    "result = [makeMusicOne(p) for p in x_predict]    \n",
    "a = ' '.join(result)"
   ]
  },
  {
   "cell_type": "code",
   "execution_count": 109,
   "id": "82de1c84",
   "metadata": {},
   "outputs": [],
   "source": [
    "#1 .전체길이를 랜덤한 길이로 분할\n",
    "from random import sample"
   ]
  },
  {
   "cell_type": "code",
   "execution_count": 110,
   "id": "274c5892",
   "metadata": {},
   "outputs": [
    {
     "data": {
      "text/plain": [
       "[[5, 8], [15, 17], [21, 25], [26, 27], [29, 36]]"
      ]
     },
     "execution_count": 110,
     "metadata": {},
     "output_type": "execute_result"
    }
   ],
   "source": [
    "samples = np.sort(sample(range(len(x_train)), 10))\n",
    "samples_list = []\n",
    "for i in range(len(samples)//2):    \n",
    "    samples_list.append([samples[i*2],samples[i*2+1] ])    \n",
    "samples_list     "
   ]
  },
  {
   "cell_type": "code",
   "execution_count": 111,
   "id": "090fb664",
   "metadata": {},
   "outputs": [],
   "source": [
    "# 모델에 적용해서 예측"
   ]
  },
  {
   "cell_type": "code",
   "execution_count": 117,
   "id": "ea872690",
   "metadata": {},
   "outputs": [
    {
     "name": "stdout",
     "output_type": "stream",
     "text": [
      "1/1 [==============================] - 0s 19ms/step\n",
      "1/1 [==============================] - 0s 23ms/step\n",
      "1/1 [==============================] - 0s 20ms/step\n",
      "1/1 [==============================] - 0s 20ms/step\n",
      "1/1 [==============================] - 0s 21ms/step\n"
     ]
    }
   ],
   "source": [
    "newmusic ='tinynotation: 4/4 '\n",
    "for data in samples_list:\n",
    "    x_prepredic =  x_train[data[0]:data[1]]\n",
    "    x_predict = model.predict(x_prepredic)    \n",
    "    result = [makeMusicOne(p) for p in x_predict]    \n",
    "    newmusic += ' '.join(result)+' ' "
   ]
  },
  {
   "cell_type": "code",
   "execution_count": 118,
   "id": "7f6e9689",
   "metadata": {},
   "outputs": [
    {
     "data": {
      "text/plain": [
       "'tinynotation: 4/4 e4 e4 d4 e4 d4 e4 e4 d4 c4 c2 a4 g2 f4 f4 e4 e4 d4 '"
      ]
     },
     "execution_count": 118,
     "metadata": {},
     "output_type": "execute_result"
    }
   ],
   "source": [
    "newmusic"
   ]
  },
  {
   "cell_type": "code",
   "execution_count": 119,
   "id": "cccee6ab",
   "metadata": {},
   "outputs": [],
   "source": [
    "music21.converter.parse(newmusic).show('mid')"
   ]
  },
  {
   "cell_type": "code",
   "execution_count": null,
   "id": "3ebfbfd0",
   "metadata": {},
   "outputs": [],
   "source": []
  }
 ],
 "metadata": {
  "kernelspec": {
   "display_name": "Python 3 (ipykernel)",
   "language": "python",
   "name": "python3"
  },
  "language_info": {
   "codemirror_mode": {
    "name": "ipython",
    "version": 3
   },
   "file_extension": ".py",
   "mimetype": "text/x-python",
   "name": "python",
   "nbconvert_exporter": "python",
   "pygments_lexer": "ipython3",
   "version": "3.9.12"
  }
 },
 "nbformat": 4,
 "nbformat_minor": 5
}

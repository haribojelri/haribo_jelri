{
  "cells": [
    {
      "cell_type": "code",
      "execution_count": 70,
      "metadata": {
        "id": "hv2oDYsYaczj"
      },
      "outputs": [],
      "source": [
        "# 새의 품종을 인식-- \n",
        "# 데이터 셋 : cub200-2011(200 새 영상 11788장)"
      ]
    },
    {
      "cell_type": "code",
      "execution_count": 75,
      "metadata": {
        "id": "Kza9YrDrbepw"
      },
      "outputs": [],
      "source": [
        "# ImageNet으로 학습된 ResNet50을 cub 데이터셋으로 전이학습\n",
        "import numpy as np\n",
        "import tensorflow as tf\n",
        "from tensorflow.keras.models import Sequential\n",
        "from tensorflow.keras.layers import Flatten,Dense\n",
        "from tensorflow.keras.optimizers import Adam\n",
        "from tensorflow.keras.applications.resnet50 import ResNet50,preprocess_input\n",
        "from tensorflow.keras.preprocessing import image\n",
        "import os\n",
        "import glob\n",
        "import zipfile"
      ]
    },
    {
      "cell_type": "code",
      "execution_count": 88,
      "metadata": {
        "id": "VsZRf7-Xc-D3"
      },
      "outputs": [],
      "source": [
        "train_foler = '/content/drive/MyDrive/Colab Notebooks/CUB200/train'\n",
        "test_foler = '/content/drive/MyDrive/Colab Notebooks/CUB200/test'"
      ]
    },
    {
      "cell_type": "code",
      "execution_count": 89,
      "metadata": {
        "id": "6Qe-WXSmdNDP"
      },
      "outputs": [],
      "source": [
        "zippath = '/content/drive/MyDrive/Colab Notebooks'"
      ]
    },
    {
      "cell_type": "code",
      "source": [
        "zippath"
      ],
      "metadata": {
        "colab": {
          "base_uri": "https://localhost:8080/",
          "height": 35
        },
        "id": "QOo6IviZ76Zj",
        "outputId": "60cf2f34-b7ea-4af2-876c-d8e6fdab0313"
      },
      "execution_count": 90,
      "outputs": [
        {
          "output_type": "execute_result",
          "data": {
            "text/plain": [
              "'/content/drive/MyDrive/Colab Notebooks'"
            ],
            "application/vnd.google.colaboratory.intrinsic+json": {
              "type": "string"
            }
          },
          "metadata": {},
          "execution_count": 90
        }
      ]
    },
    {
      "cell_type": "code",
      "execution_count": 91,
      "metadata": {
        "id": "BRt5wNKFf1Jt"
      },
      "outputs": [],
      "source": [
        "# 압축해제\n",
        "zipfile.ZipFile(zippath+\"/CUB200.zip\").extractall(zippath+\"/CUB200\")"
      ]
    },
    {
      "cell_type": "code",
      "execution_count": 92,
      "metadata": {
        "id": "M5_vQ0EUgf3v"
      },
      "outputs": [],
      "source": [
        "# 데이터의 양을 줄여서 속도 증가\n",
        "class_reduce = 0.1\n",
        "no_class = int(len(os.listdir(train_foler))*class_reduce)"
      ]
    },
    {
      "cell_type": "code",
      "execution_count": 93,
      "metadata": {
        "colab": {
          "base_uri": "https://localhost:8080/"
        },
        "id": "K-H7FLpCibNW",
        "outputId": "f656dc8c-07e4-4a2d-cf96-24396ead71c5"
      },
      "outputs": [
        {
          "output_type": "execute_result",
          "data": {
            "text/plain": [
              "20"
            ]
          },
          "metadata": {},
          "execution_count": 93
        }
      ],
      "source": [
        "no_class"
      ]
    },
    {
      "cell_type": "code",
      "execution_count": 94,
      "metadata": {
        "colab": {
          "base_uri": "https://localhost:8080/"
        },
        "id": "Bsd8MtBJjoKQ",
        "outputId": "20f86490-6b5f-4dde-8ec3-f88eddae87b9"
      },
      "outputs": [
        {
          "output_type": "execute_result",
          "data": {
            "text/plain": [
              "['/content/drive/MyDrive/Colab Notebooks/CUB200/train/001.Black_footed_Albatross',\n",
              " '/content/drive/MyDrive/Colab Notebooks/CUB200/train/002.Laysan_Albatross',\n",
              " '/content/drive/MyDrive/Colab Notebooks/CUB200/train/003.Sooty_Albatross',\n",
              " '/content/drive/MyDrive/Colab Notebooks/CUB200/train/004.Groove_billed_Ani',\n",
              " '/content/drive/MyDrive/Colab Notebooks/CUB200/train/005.Crested_Auklet',\n",
              " '/content/drive/MyDrive/Colab Notebooks/CUB200/train/006.Least_Auklet',\n",
              " '/content/drive/MyDrive/Colab Notebooks/CUB200/train/007.Parakeet_Auklet',\n",
              " '/content/drive/MyDrive/Colab Notebooks/CUB200/train/008.Rhinoceros_Auklet',\n",
              " '/content/drive/MyDrive/Colab Notebooks/CUB200/train/009.Brewer_Blackbird',\n",
              " '/content/drive/MyDrive/Colab Notebooks/CUB200/train/010.Red_winged_Blackbird',\n",
              " '/content/drive/MyDrive/Colab Notebooks/CUB200/train/011.Rusty_Blackbird',\n",
              " '/content/drive/MyDrive/Colab Notebooks/CUB200/train/012.Yellow_headed_Blackbird',\n",
              " '/content/drive/MyDrive/Colab Notebooks/CUB200/train/013.Bobolink',\n",
              " '/content/drive/MyDrive/Colab Notebooks/CUB200/train/014.Indigo_Bunting',\n",
              " '/content/drive/MyDrive/Colab Notebooks/CUB200/train/015.Lazuli_Bunting',\n",
              " '/content/drive/MyDrive/Colab Notebooks/CUB200/train/016.Painted_Bunting',\n",
              " '/content/drive/MyDrive/Colab Notebooks/CUB200/train/017.Cardinal',\n",
              " '/content/drive/MyDrive/Colab Notebooks/CUB200/train/018.Spotted_Catbird',\n",
              " '/content/drive/MyDrive/Colab Notebooks/CUB200/train/019.Gray_Catbird',\n",
              " '/content/drive/MyDrive/Colab Notebooks/CUB200/train/020.Yellow_breasted_Chat']"
            ]
          },
          "metadata": {},
          "execution_count": 94
        }
      ],
      "source": [
        "glob.glob(train_foler+\"/*.*\")[:20]"
      ]
    },
    {
      "cell_type": "code",
      "execution_count": 95,
      "metadata": {
        "id": "5ysNyUqJijKH"
      },
      "outputs": [],
      "source": [
        "# 훈련데이터 읽기\n",
        "x_train,y_train = [],[]\n",
        "for i, class_name in  enumerate(glob.glob(train_foler+\"/*.*\")):\n",
        "  if i< no_class:\n",
        "    for fname in glob.glob(class_name+\"/*.jpg\"):\n",
        "      img = image.load_img(fname,target_size=(244,244))\n",
        "      x = image.img_to_array(img)\n",
        "      x = preprocess_input(x)\n",
        "      x_train.append(x)\n",
        "      y_train.append(i)"
      ]
    },
    {
      "cell_type": "code",
      "execution_count": 96,
      "metadata": {
        "id": "7h96rshpi2Xl"
      },
      "outputs": [],
      "source": [
        "# 테스트데이터 읽기\n",
        "x_test,y_test = [],[]\n",
        "for i, class_name in  enumerate(glob.glob(test_foler+\"/*.*\")):\n",
        "  if i< no_class:\n",
        "    for fname in glob.glob(class_name+\"/*.jpg\"):\n",
        "      img = image.load_img(fname,target_size=(244,244))\n",
        "      x = image.img_to_array(img)\n",
        "      x = preprocess_input(x)\n",
        "      x_test.append(x)\n",
        "      y_test.append(i)"
      ]
    },
    {
      "cell_type": "code",
      "execution_count": 97,
      "metadata": {
        "colab": {
          "base_uri": "https://localhost:8080/"
        },
        "id": "OtjZC9C6lIb0",
        "outputId": "7ccc0d9e-0ec2-4ce8-a34e-893b603a4a12"
      },
      "outputs": [
        {
          "output_type": "execute_result",
          "data": {
            "text/plain": [
              "(600, 600, 515, 515)"
            ]
          },
          "metadata": {},
          "execution_count": 97
        }
      ],
      "source": [
        "len(x_train), len(y_train), len(x_test), len(y_test)"
      ]
    },
    {
      "cell_type": "code",
      "execution_count": 108,
      "metadata": {
        "id": "9CddCv6xltNV",
        "colab": {
          "base_uri": "https://localhost:8080/"
        },
        "outputId": "a8ca23da-bc6f-4e3d-9853-a587af29c47b"
      },
      "outputs": [
        {
          "output_type": "stream",
          "name": "stdout",
          "text": [
            "2\n",
            "4\n",
            "6\n",
            "8\n",
            "\n",
            "10\n",
            "12\n"
          ]
        }
      ],
      "source": [
        "list1 = [2,4,6,8,9,10,12]\n",
        "for data in list1:  \n",
        "  try:\n",
        "    assert data % 2 == 0\n",
        "    print(data)\n",
        "  except Exception as e:    \n",
        "    print(e) "
      ]
    },
    {
      "cell_type": "code",
      "execution_count": 98,
      "metadata": {
        "id": "p9bNED_cqfiS"
      },
      "outputs": [],
      "source": [
        "x_train = np.asarray(x_train)\n",
        "y_train = np.asarray(y_train)\n",
        "x_test = np.asarray(x_test)\n",
        "y_test = np.asarray(y_test)"
      ]
    },
    {
      "cell_type": "code",
      "execution_count": 99,
      "metadata": {
        "colab": {
          "base_uri": "https://localhost:8080/"
        },
        "id": "tDH6Nua2sUoP",
        "outputId": "ccc4bb20-67f6-44f0-813d-6bc6d92bc40a"
      },
      "outputs": [
        {
          "output_type": "execute_result",
          "data": {
            "text/plain": [
              "(600, 244, 244, 3)"
            ]
          },
          "metadata": {},
          "execution_count": 99
        }
      ],
      "source": [
        "x_train.shape"
      ]
    },
    {
      "cell_type": "code",
      "execution_count": 100,
      "metadata": {
        "id": "YeeDZwserjIj"
      },
      "outputs": [],
      "source": [
        "base_model = ResNet50(weights='imagenet', include_top=False,input_shape=(244,244,3))\n",
        "base_model.trainable = False  # 가중치를 동결"
      ]
    },
    {
      "cell_type": "code",
      "execution_count": null,
      "metadata": {
        "id": "4Kg7TZj_s3un"
      },
      "outputs": [],
      "source": [
        "base_model.summary()"
      ]
    },
    {
      "cell_type": "code",
      "execution_count": 102,
      "metadata": {
        "id": "uplSJPwJtB2S"
      },
      "outputs": [],
      "source": [
        "cnn = Sequential()\n",
        "cnn.add(base_model)\n",
        "cnn.add(Flatten())\n",
        "cnn.add(Dense(1024,activation = 'relu'))\n",
        "cnn.add(Dense(no_class,activation='softmax'))"
      ]
    },
    {
      "cell_type": "code",
      "execution_count": null,
      "metadata": {
        "id": "Dw676tc6uK2z"
      },
      "outputs": [],
      "source": [
        "cnn.summary()"
      ]
    },
    {
      "cell_type": "code",
      "execution_count": 104,
      "metadata": {
        "id": "KjE89kJrua_0"
      },
      "outputs": [],
      "source": [
        "# 컴파일\n",
        "# learning_rate=0.00002  -> 미세조정방식의 학습(낮은학습률 설정)\n",
        "# 2e-05  0.00002\n",
        "cnn.compile(loss=tf.keras.losses.sparse_categorical_crossentropy,optimizer=Adam(learning_rate=0.00002), metrics=['accuracy'])"
      ]
    },
    {
      "cell_type": "code",
      "execution_count": null,
      "metadata": {
        "id": "_mIUoF9Eudhd"
      },
      "outputs": [],
      "source": [
        "# 학습\n",
        "hist = cnn.fit(x_train,y_train,batch_size=16, epochs=10,validation_data=[x_test,y_test])"
      ]
    },
    {
      "cell_type": "code",
      "source": [
        "res = cnn.evaluate(x_test,y_test)\n",
        "res"
      ],
      "metadata": {
        "colab": {
          "base_uri": "https://localhost:8080/"
        },
        "id": "JoI2aNqu2XD4",
        "outputId": "dd35c5fc-f6af-47a0-fae9-d7e6d19371c8"
      },
      "execution_count": 106,
      "outputs": [
        {
          "output_type": "stream",
          "name": "stdout",
          "text": [
            "17/17 [==============================] - 2s 127ms/step - loss: 1.1920 - accuracy: 0.6971\n"
          ]
        },
        {
          "output_type": "execute_result",
          "data": {
            "text/plain": [
              "[1.191971778869629, 0.6970874071121216]"
            ]
          },
          "metadata": {},
          "execution_count": 106
        }
      ]
    },
    {
      "cell_type": "code",
      "source": [
        "# 미세조정방식  \n",
        "#-컨볼류션층과 완정연결층의 가중치를 동시에 수정\n",
        "#학습률은 낮게 유지하면서 조금씩 수정\n",
        "\n",
        "# 동결방식\n",
        "# 컨볼류션층과 완정연결층의 가중치를 동결해서 수정이 일어나지  않게 제한\n",
        "# base_model.trainable = False\n",
        "\n",
        "# 지금데이터셋에서는 미세조정방식이 조금 우수"
      ],
      "metadata": {
        "id": "SUVeCVD59sVH"
      },
      "execution_count": 107,
      "outputs": []
    },
    {
      "cell_type": "code",
      "source": [],
      "metadata": {
        "id": "coPubsFU_Ney"
      },
      "execution_count": null,
      "outputs": []
    }
  ],
  "metadata": {
    "colab": {
      "collapsed_sections": [],
      "provenance": []
    },
    "kernelspec": {
      "display_name": "Python 3",
      "name": "python3"
    },
    "language_info": {
      "name": "python"
    },
    "accelerator": "GPU"
  },
  "nbformat": 4,
  "nbformat_minor": 0
}
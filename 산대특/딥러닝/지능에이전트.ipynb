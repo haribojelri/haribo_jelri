{
 "cells": [
  {
   "cell_type": "code",
   "execution_count": 1,
   "id": "72c333b6",
   "metadata": {},
   "outputs": [],
   "source": [
    "# 영상 분류 cnn 모델 생성\n",
    "# CCPD CCPD F FC D FC\n",
    "# CIFAR-10"
   ]
  },
  {
   "cell_type": "code",
   "execution_count": 2,
   "id": "fb09c02e",
   "metadata": {},
   "outputs": [],
   "source": [
    "# CNN 모델 생성 ~~ 학습"
   ]
  },
  {
   "cell_type": "code",
   "execution_count": 12,
   "id": "5db39bc3",
   "metadata": {},
   "outputs": [],
   "source": [
    "import numpy as np\n",
    "import tensorflow as tf\n",
    "from tensorflow.keras.datasets import cifar10\n",
    "from tensorflow.keras.models import Sequential\n",
    "from tensorflow.keras.layers import Conv2D,MaxPooling2D,Flatten,Dense,Dropout\n",
    "from tensorflow.keras.optimizers import Adam"
   ]
  },
  {
   "cell_type": "code",
   "execution_count": 13,
   "id": "6fd7a043",
   "metadata": {},
   "outputs": [],
   "source": [
    "(x_train,y_train),(x_test,y_test) = cifar10.load_data()\n",
    "x_train = x_train.astype(np.float32) / 255.0\n",
    "x_test = x_test.astype(np.float32) / 255.0"
   ]
  },
  {
   "cell_type": "code",
   "execution_count": 5,
   "id": "76da0df8",
   "metadata": {},
   "outputs": [],
   "source": [
    "# 신경망 모델설계\n",
    "cnn = Sequential()\n",
    "cnn.add(Conv2D(32,(3,3),activation='relu',input_shape=(32,32,3)))\n",
    "cnn.add(Conv2D(32,(3,3),activation='relu'))\n",
    "cnn.add(MaxPooling2D(2,2))\n",
    "cnn.add(Dropout(0.25))\n",
    "cnn.add(Conv2D(64,(3,3),activation='relu'))\n",
    "cnn.add(Conv2D(64,(3,3),activation='relu'))\n",
    "cnn.add(MaxPooling2D(2,2))\n",
    "cnn.add(Dropout(0.5))\n",
    "cnn.add(Flatten())\n",
    "cnn.add(Dense(512,activation='relu'))\n",
    "cnn.add(Dropout(0.5))\n",
    "cnn.add(Dense(10,activation='softmax'))      \n",
    "        "
   ]
  },
  {
   "cell_type": "code",
   "execution_count": 6,
   "id": "b8f4f83f",
   "metadata": {},
   "outputs": [],
   "source": [
    "cnn.compile(loss=tf.keras.losses.sparse_categorical_crossentropy,optimizer=Adam(0.0001),metrics=['acc'])\n",
    "earlyStop = tf.keras.callbacks.EarlyStopping(patience=3)\n",
    "hist = cnn.fit(x_train,y_train,batch_size=128,epochs=100, validation_data = [x_test,y_test],callbacks=earlyStop)\n",
    "cnn.evaluate(x_test,y_test)\n",
    "cnn.save(\"my_cnn_for_deply.h5\")"
   ]
  },
  {
   "cell_type": "code",
   "execution_count": 10,
   "id": "ec974a77",
   "metadata": {},
   "outputs": [],
   "source": [
    "# 학습된 이미지를 불러와서 폴더에 담겨있는 영상을 인식"
   ]
  },
  {
   "cell_type": "code",
   "execution_count": 14,
   "id": "cbce537e",
   "metadata": {
    "scrolled": true
   },
   "outputs": [],
   "source": [
    "cnn = tf.keras.models.load_model('my_cnn_for_deply.h5')"
   ]
  },
  {
   "cell_type": "code",
   "execution_count": 49,
   "id": "b3c30037",
   "metadata": {},
   "outputs": [],
   "source": [
    "class_name=['airplane','automobile','bird','cat','deer','dog','frog','horse','ship','truck']"
   ]
  },
  {
   "cell_type": "code",
   "execution_count": 50,
   "id": "c70cac06",
   "metadata": {},
   "outputs": [],
   "source": [
    "from glob import glob"
   ]
  },
  {
   "cell_type": "code",
   "execution_count": 67,
   "id": "435140fd",
   "metadata": {},
   "outputs": [
    {
     "data": {
      "text/plain": [
       "'E:\\\\7.ai'"
      ]
     },
     "execution_count": 67,
     "metadata": {},
     "output_type": "execute_result"
    }
   ],
   "source": [
    "pwd()"
   ]
  },
  {
   "cell_type": "code",
   "execution_count": 68,
   "id": "12e92fba",
   "metadata": {},
   "outputs": [
    {
     "data": {
      "text/plain": [
       "['./test_images\\\\01.jpg',\n",
       " './test_images\\\\02.jpg',\n",
       " './test_images\\\\03.jpg',\n",
       " './test_images\\\\04.jpg',\n",
       " './test_images\\\\05.jpg',\n",
       " './test_images\\\\06.jpg',\n",
       " './test_images\\\\07.jpg',\n",
       " './test_images\\\\08.jpg',\n",
       " './test_images\\\\09.jpg',\n",
       " './test_images\\\\10.jpg',\n",
       " './test_images\\\\11.jpg',\n",
       " './test_images\\\\12.jpg']"
      ]
     },
     "execution_count": 68,
     "metadata": {},
     "output_type": "execute_result"
    }
   ],
   "source": [
    "# os.chdir('E:\\\\7.ai')\n",
    "files = glob('./test_images/*.jpg')\n",
    "files"
   ]
  },
  {
   "cell_type": "code",
   "execution_count": 69,
   "id": "5f782edf",
   "metadata": {},
   "outputs": [],
   "source": [
    "from tensorflow.keras.preprocessing import image"
   ]
  },
  {
   "cell_type": "code",
   "execution_count": 70,
   "id": "8f302a98",
   "metadata": {},
   "outputs": [],
   "source": [
    "x_train = []\n",
    "origin_img = []\n",
    "for file in files:\n",
    "    origin_img.append(image.load_img(file)) # 원본 이미지\n",
    "    img = image.load_img(file,target_size=(32,32) )    \n",
    "    x = image.img_to_array(img)    \n",
    "    x_train.append(x)\n",
    "x_train = (np.array(x_train)).astype('float32')/255.0"
   ]
  },
  {
   "cell_type": "code",
   "execution_count": 71,
   "id": "65499383",
   "metadata": {},
   "outputs": [
    {
     "data": {
      "text/plain": [
       "(12, 32, 32, 3)"
      ]
     },
     "execution_count": 71,
     "metadata": {},
     "output_type": "execute_result"
    }
   ],
   "source": [
    "x_train.shape"
   ]
  },
  {
   "cell_type": "code",
   "execution_count": 72,
   "id": "80b3050c",
   "metadata": {},
   "outputs": [
    {
     "name": "stdout",
     "output_type": "stream",
     "text": [
      "1/1 [==============================] - 0s 22ms/step\n"
     ]
    }
   ],
   "source": [
    "# 예측\n",
    "pred = cnn.predict(x_train)"
   ]
  },
  {
   "cell_type": "code",
   "execution_count": 73,
   "id": "ff062c3e",
   "metadata": {},
   "outputs": [
    {
     "data": {
      "text/plain": [
       "array([9.9854112e-01, 5.3825857e-05, 4.6923733e-04, 1.1948367e-05,\n",
       "       3.1353094e-04, 2.3395884e-07, 8.1546232e-06, 7.0352883e-07,\n",
       "       5.1177613e-04, 8.9523499e-05], dtype=float32)"
      ]
     },
     "execution_count": 73,
     "metadata": {},
     "output_type": "execute_result"
    }
   ],
   "source": [
    "pred[0]"
   ]
  },
  {
   "cell_type": "code",
   "execution_count": 74,
   "id": "b719be6f",
   "metadata": {},
   "outputs": [],
   "source": [
    "import os\n",
    "#현재경로를 test_images로 이동\n",
    "os.chdir('./test_images')\n",
    "# test_images 밑에 class_buckets 폴더가 없으면 생성\n",
    "if not os.path.isdir('class_buckets'):\n",
    "    os.mkdir('class_buckets')\n",
    "os.chdir('./class_buckets')    # 생성한 바구니폴더로 이동한다\n",
    "\n",
    "# cnn모델이 분류하는 10개의 분류명으로 폴더를 만든다\n",
    "for i in range(len(class_name)):\n",
    "    if not os.path.isdir(class_name[i]):\n",
    "        os.mkdir(class_name[i])"
   ]
  },
  {
   "cell_type": "code",
   "execution_count": 75,
   "id": "16b7bcaf",
   "metadata": {},
   "outputs": [
    {
     "data": {
      "text/plain": [
       "'E:\\\\7.ai\\\\test_images\\\\class_buckets'"
      ]
     },
     "execution_count": 75,
     "metadata": {},
     "output_type": "execute_result"
    }
   ],
   "source": [
    "pwd()"
   ]
  },
  {
   "cell_type": "code",
   "execution_count": 76,
   "id": "07279667",
   "metadata": {},
   "outputs": [
    {
     "data": {
      "text/plain": [
       "'airplane'"
      ]
     },
     "execution_count": 76,
     "metadata": {},
     "output_type": "execute_result"
    }
   ],
   "source": [
    "class_name[ np.argmax(pred[0])]"
   ]
  },
  {
   "cell_type": "code",
   "execution_count": 77,
   "id": "0cd4da8a",
   "metadata": {},
   "outputs": [],
   "source": [
    "# cnn 이 인식한 해당 이미지의 결과를 폴더에 저장\n",
    "for i in range(len(x_train)):\n",
    "    foler_name = class_name[ np.argmax(pred[i])]\n",
    "    os.chdir(foler_name)\n",
    "    origin_img[i].save(foler_name+str(i)+'.jpg')\n",
    "    os.chdir('../')# 현재폴더에서 바로 상위 폴더로 이동...     ./ 현재경로  ../ 한칸위    ../../ 두칸위    "
   ]
  },
  {
   "cell_type": "code",
   "execution_count": 78,
   "id": "c338aeee",
   "metadata": {},
   "outputs": [],
   "source": [
    "# 기능 확장"
   ]
  },
  {
   "cell_type": "code",
   "execution_count": null,
   "id": "2555a863",
   "metadata": {},
   "outputs": [],
   "source": []
  }
 ],
 "metadata": {
  "kernelspec": {
   "display_name": "Python 3 (ipykernel)",
   "language": "python",
   "name": "python3"
  },
  "language_info": {
   "codemirror_mode": {
    "name": "ipython",
    "version": 3
   },
   "file_extension": ".py",
   "mimetype": "text/x-python",
   "name": "python",
   "nbconvert_exporter": "python",
   "pygments_lexer": "ipython3",
   "version": "3.7.0"
  }
 },
 "nbformat": 4,
 "nbformat_minor": 5
}

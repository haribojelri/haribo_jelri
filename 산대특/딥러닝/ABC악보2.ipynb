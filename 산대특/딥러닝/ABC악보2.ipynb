{
 "cells": [
  {
   "cell_type": "code",
   "execution_count": 1,
   "id": "83849da7",
   "metadata": {},
   "outputs": [],
   "source": [
    "little_star=\"tinynotation: 4/4 c4 c4 g4 g4 a4 a4 g2 f4 f4 e4 e4 d4 d4 c2 g4 g4 f4 f4 e4 e4 d2 g4 g4 f4 f4 e4 e4 d2 c4 c4 g4 g4 a4 a4 g2 f4 f4 e4 e4 d4 d4 c2\" \n",
    "spring_picnic=\"tinynotation: 4/8 g8 e8 g8 e8 g8 a8 g4 e8 g8 e8 c8 d8 e8 c4 g8 e8 g8 e8 g8 a8 g4 b8 a8 g8 e8 d8 e8 c4\" \n",
    "butterfly=\"tinynotation: 2/4 g8 e8 e4 f8 d8 d4 c8 d8 e8 f8 g8 g8 g4 g8 e8 e8 e8 f8 d8 d4 c8 e8 g8 g8 e8 e8 e4 d8 d8 d8 d8 d8 e8 f4 e8 e8 e8 e8 e8 f8 g4 g8 e8 e4 f8 d8 d4 c8 e8 g8 g8 e8 e8 e4\""
   ]
  },
  {
   "cell_type": "code",
   "execution_count": null,
   "id": "b1af4ec0",
   "metadata": {},
   "outputs": [],
   "source": [
    "little_star\n",
    "spring_picnic\n",
    "butterfly"
   ]
  },
  {
   "cell_type": "code",
   "execution_count": 2,
   "id": "24326a9f",
   "metadata": {},
   "outputs": [
    {
     "name": "stderr",
     "output_type": "stream",
     "text": [
      "C:\\Users\\user\\miniconda3\\lib\\site-packages\\requests\\__init__.py:102: RequestsDependencyWarning: urllib3 (1.26.8) or chardet (5.0.0)/charset_normalizer (2.0.4) doesn't match a supported version!\n",
      "  warnings.warn(\"urllib3 ({}) or chardet ({})/charset_normalizer ({}) doesn't match a supported \"\n"
     ]
    }
   ],
   "source": [
    "import music21\n",
    "import numpy as np"
   ]
  },
  {
   "cell_type": "code",
   "execution_count": 3,
   "id": "73180d59",
   "metadata": {},
   "outputs": [],
   "source": [
    "note2num = {'c':1,'d':2,'e':3,'f':4,'g':5,'a':6,'b':7}\n",
    "num2note = {}\n",
    "for key,value in  note2num.items():\n",
    "    num2note[value] = key  "
   ]
  },
  {
   "cell_type": "code",
   "execution_count": 4,
   "id": "dc60d764",
   "metadata": {},
   "outputs": [],
   "source": [
    "# 시계열 데이터를 학습용과 정답을 생성\n",
    "def makeTrainDataAndClass(seq,window):\n",
    "    X,Y = [],[]\n",
    "    for i in range(len(seq) - window):\n",
    "        x = seq[i:window+i]\n",
    "        y = seq[i+window]\n",
    "        X.append(x); Y.append(y)\n",
    "    return np.array(X), np.array(Y)     "
   ]
  },
  {
   "cell_type": "code",
   "execution_count": 5,
   "id": "a929903f",
   "metadata": {},
   "outputs": [],
   "source": [
    "musicData = little_star.split()[2:] + spring_picnic.split()[2:] + butterfly.split()[2:]"
   ]
  },
  {
   "cell_type": "code",
   "execution_count": 18,
   "id": "b798267c",
   "metadata": {},
   "outputs": [],
   "source": [
    "# ABC 악보 ->데이터  c4\n",
    "# note2num 딕셔너리 구조를 적용해서 c4처럼 문자열의 앞 문자만 추출해서 해당 문자를 키로 입력\n",
    "note2num['c4'[0]]\n",
    "abcToData = []\n",
    "for abc in musicData:\n",
    "    abcToData.append([ note2num[abc[0]], int(abc[1]) ])\n",
    "# abcToData    \n",
    "# eval  함수나 수식을 문자열로 표했을때.->원래대로 풀어쓰기 위한 용도"
   ]
  },
  {
   "cell_type": "code",
   "execution_count": 20,
   "id": "3acd2581",
   "metadata": {},
   "outputs": [],
   "source": [
    "# 위의 코드를 리스트컴프리핸선으로 변환\n",
    "abcToData = [ [ note2num[abc[0]], int(abc[1]) ]  for abc in musicData ]"
   ]
  },
  {
   "cell_type": "code",
   "execution_count": 22,
   "id": "602dce82",
   "metadata": {},
   "outputs": [],
   "source": [
    "x_train,y_train =  makeTrainDataAndClass(abcToData,7)"
   ]
  },
  {
   "cell_type": "code",
   "execution_count": 23,
   "id": "21d2c18d",
   "metadata": {},
   "outputs": [
    {
     "data": {
      "text/plain": [
       "((117, 7, 2), (117, 2))"
      ]
     },
     "execution_count": 23,
     "metadata": {},
     "output_type": "execute_result"
    }
   ],
   "source": [
    "x_train.shape, y_train.shape"
   ]
  },
  {
   "cell_type": "code",
   "execution_count": 9,
   "id": "dcfb7f78",
   "metadata": {},
   "outputs": [],
   "source": [
    "# LSTM 모델 생성\n",
    "import tensorflow as tf\n",
    "from tensorflow.keras.models import Sequential\n",
    "from tensorflow.keras.layers import LSTM,Dense"
   ]
  },
  {
   "cell_type": "code",
   "execution_count": 27,
   "id": "c23221d4",
   "metadata": {},
   "outputs": [
    {
     "name": "stdout",
     "output_type": "stream",
     "text": [
      "WARNING:tensorflow:Layer lstm_2 will not use cuDNN kernels since it doesn't meet the criteria. It will use a generic GPU kernel as fallback when running on GPU.\n"
     ]
    }
   ],
   "source": [
    "# 모델 설계\n",
    "model =Sequential()\n",
    "model.add(LSTM(256,activation='relu',input_shape =x_train.shape[1:] ))\n",
    "model.add(Dense(156,activation='relu'))\n",
    "model.add(Dense(64,activation='relu'))\n",
    "model.add(Dense(32,activation='relu'))\n",
    "model.add(Dense(16,activation='relu'))\n",
    "model.add(Dense(2))\n",
    "model.compile(loss='mse',optimizer='rmsprop',metrics=['acc','mae'])"
   ]
  },
  {
   "cell_type": "code",
   "execution_count": 28,
   "id": "ee667c55",
   "metadata": {},
   "outputs": [],
   "source": [
    "earlyStop = tf.keras.callbacks.EarlyStopping(patience=5) # val_loss"
   ]
  },
  {
   "cell_type": "code",
   "execution_count": 30,
   "id": "ec209ddd",
   "metadata": {},
   "outputs": [
    {
     "name": "stdout",
     "output_type": "stream",
     "text": [
      "Epoch 1/200\n",
      "117/117 [==============================] - 4s 34ms/step - loss: 3.1500 - acc: 0.7949 - mae: 1.4176 - val_loss: 6.5823 - val_acc: 0.7949 - val_mae: 2.1716\n",
      "Epoch 2/200\n",
      "117/117 [==============================] - 3s 27ms/step - loss: 2.7719 - acc: 0.7949 - mae: 1.3004 - val_loss: 4.9531 - val_acc: 0.7949 - val_mae: 1.8610\n",
      "Epoch 3/200\n",
      "117/117 [==============================] - 3s 25ms/step - loss: 2.7813 - acc: 0.8034 - mae: 1.2960 - val_loss: 1.9933 - val_acc: 0.7949 - val_mae: 1.0520\n",
      "Epoch 4/200\n",
      "117/117 [==============================] - 3s 24ms/step - loss: 2.6616 - acc: 0.7863 - mae: 1.2911 - val_loss: 1.8696 - val_acc: 0.7949 - val_mae: 1.0203\n",
      "Epoch 5/200\n",
      "117/117 [==============================] - 3s 29ms/step - loss: 2.4964 - acc: 0.7949 - mae: 1.2213 - val_loss: 3.0717 - val_acc: 0.7949 - val_mae: 1.4787\n",
      "Epoch 6/200\n",
      "117/117 [==============================] - 4s 31ms/step - loss: 2.4762 - acc: 0.7863 - mae: 1.2320 - val_loss: 2.0254 - val_acc: 0.7949 - val_mae: 1.0483\n",
      "Epoch 7/200\n",
      "117/117 [==============================] - 3s 27ms/step - loss: 2.1123 - acc: 0.7692 - mae: 1.1618 - val_loss: 1.7352 - val_acc: 0.7949 - val_mae: 0.9040\n",
      "Epoch 8/200\n",
      "117/117 [==============================] - 4s 33ms/step - loss: 2.0122 - acc: 0.8205 - mae: 1.1114 - val_loss: 3.1691 - val_acc: 0.8034 - val_mae: 1.4936\n",
      "Epoch 9/200\n",
      "117/117 [==============================] - 4s 38ms/step - loss: 1.9893 - acc: 0.8120 - mae: 1.0831 - val_loss: 1.9227 - val_acc: 0.8803 - val_mae: 1.1799\n",
      "Epoch 10/200\n",
      "117/117 [==============================] - 5s 41ms/step - loss: 1.8634 - acc: 0.8632 - mae: 1.0399 - val_loss: 1.9432 - val_acc: 0.8803 - val_mae: 1.1576\n",
      "Epoch 11/200\n",
      "117/117 [==============================] - 4s 34ms/step - loss: 1.8298 - acc: 0.8547 - mae: 1.0399 - val_loss: 1.5712 - val_acc: 0.8376 - val_mae: 0.8725\n",
      "Epoch 12/200\n",
      "117/117 [==============================] - 3s 27ms/step - loss: 1.7960 - acc: 0.8632 - mae: 0.9916 - val_loss: 1.3815 - val_acc: 0.8803 - val_mae: 0.8995\n",
      "Epoch 13/200\n",
      "117/117 [==============================] - 4s 33ms/step - loss: 1.6972 - acc: 0.8718 - mae: 0.9932 - val_loss: 1.8443 - val_acc: 0.8803 - val_mae: 1.1413\n",
      "Epoch 14/200\n",
      "117/117 [==============================] - 4s 30ms/step - loss: 1.6300 - acc: 0.8547 - mae: 0.9791 - val_loss: 1.3922 - val_acc: 0.8205 - val_mae: 0.8484\n",
      "Epoch 15/200\n",
      "117/117 [==============================] - 4s 33ms/step - loss: 1.7193 - acc: 0.8547 - mae: 0.9813 - val_loss: 1.2878 - val_acc: 0.8632 - val_mae: 0.8417\n",
      "Epoch 16/200\n",
      "117/117 [==============================] - 3s 29ms/step - loss: 1.5974 - acc: 0.8718 - mae: 0.9775 - val_loss: 1.1966 - val_acc: 0.8974 - val_mae: 0.7953\n",
      "Epoch 17/200\n",
      "117/117 [==============================] - 3s 29ms/step - loss: 1.6341 - acc: 0.8889 - mae: 0.9583 - val_loss: 1.4244 - val_acc: 0.8547 - val_mae: 0.9005\n",
      "Epoch 18/200\n",
      "117/117 [==============================] - 5s 40ms/step - loss: 1.5522 - acc: 0.8889 - mae: 0.9619 - val_loss: 1.2212 - val_acc: 0.8376 - val_mae: 0.7599\n",
      "Epoch 19/200\n",
      "117/117 [==============================] - 6s 49ms/step - loss: 1.5792 - acc: 0.8889 - mae: 0.9320 - val_loss: 2.0633 - val_acc: 0.9402 - val_mae: 1.1933\n",
      "Epoch 20/200\n",
      "117/117 [==============================] - 3s 28ms/step - loss: 1.5332 - acc: 0.9060 - mae: 0.9387 - val_loss: 1.3803 - val_acc: 0.9060 - val_mae: 0.9126\n",
      "Epoch 21/200\n",
      "117/117 [==============================] - 4s 35ms/step - loss: 1.4349 - acc: 0.9060 - mae: 0.9122 - val_loss: 1.5318 - val_acc: 0.7949 - val_mae: 0.9483\n"
     ]
    }
   ],
   "source": [
    "hist = model.fit(x_train,y_train,epochs=200,batch_size=1,validation_data=(x_train,y_train),\n",
    "                callbacks=earlyStop)"
   ]
  },
  {
   "cell_type": "code",
   "execution_count": 31,
   "id": "bf8d264a",
   "metadata": {},
   "outputs": [],
   "source": [
    "# 학습이 끝났고...\n",
    "# 예측 - 곡을 예측\n",
    "# 랜덤하게 시작과 종료를 선택해서 기존 x_train에서 분할하고\n",
    "# 분할한 데이터를 예측해서  -ABC 만든다음 이 과정을 반복한다.\n",
    "\n",
    "# 1. 랜덤하게 두개 숫자 생성, 셈플데이터 추출\n",
    "# 2. 모델에 예측\n",
    "# 3. ABC 악보로 변경\n",
    "# 4. 1 2 3반복"
   ]
  },
  {
   "cell_type": "code",
   "execution_count": 110,
   "id": "db1be223",
   "metadata": {},
   "outputs": [],
   "source": [
    "#1. \n",
    "def makeMusic1():\n",
    "    temp = np.sort(sample(range(len(x_train)),2))\n",
    "    return x_train[ temp[0]:temp[1] ]"
   ]
  },
  {
   "cell_type": "code",
   "execution_count": 111,
   "id": "3c45a46d",
   "metadata": {},
   "outputs": [],
   "source": [
    "#2 \n",
    "def makeMusic2():\n",
    "    x_pre_predict = makeMusic1()\n",
    "    x_predict =  np.round(model.predict(x_pre_predict)).astype('uint8')\n",
    "    return x_predict"
   ]
  },
  {
   "cell_type": "code",
   "execution_count": 114,
   "id": "9e491ad6",
   "metadata": {},
   "outputs": [],
   "source": [
    "# 3 데이터 ->ABC 악보\n",
    "def makeMusic3():\n",
    "    x_predict = makeMusic2();\n",
    "    dataToAbc = []\n",
    "    for nums in x_predict:\n",
    "        dataToAbc.append(num2note[nums[0]]+str(nums[1]))\n",
    "    return ' '.join(dataToAbc)"
   ]
  },
  {
   "cell_type": "code",
   "execution_count": 127,
   "id": "571e8217",
   "metadata": {},
   "outputs": [
    {
     "name": "stdout",
     "output_type": "stream",
     "text": [
      "1/1 [==============================] - 0s 28ms/step\n",
      "1/1 [==============================] - 0s 25ms/step\n",
      "1/1 [==============================] - 0s 25ms/step\n"
     ]
    },
    {
     "data": {
      "text/plain": [
       "'tinynotation: 4/8 e8 e6 e7 f7 e7 f7 g6 f9 e9 e8 e8 e8 e9 e8 e8 d6 e8 e9 e8 e9 f8 e8 e6 e8 e9 e8 e9 e8 e8 e6 f9 e8 e8 e8 e8 e8 e6'"
      ]
     },
     "execution_count": 127,
     "metadata": {},
     "output_type": "execute_result"
    }
   ],
   "source": [
    "new_music = 'tinynotation: 4/8 ' + makeMusic3() +' ' + makeMusic3()+' ' + makeMusic3()\n",
    "new_music"
   ]
  },
  {
   "cell_type": "code",
   "execution_count": 128,
   "id": "2408edd7",
   "metadata": {},
   "outputs": [],
   "source": [
    "music21.converter.parse(new_music).show('mid')"
   ]
  },
  {
   "cell_type": "code",
   "execution_count": 151,
   "id": "4452d354",
   "metadata": {},
   "outputs": [
    {
     "name": "stdout",
     "output_type": "stream",
     "text": [
      "44\n",
      "30\n",
      "56\n"
     ]
    }
   ],
   "source": [
    "############  데이터를 수평이 아닌 수직으로 병합해서 데이터를 생성\n",
    "print(len(little_star.split()))\n",
    "print(len(spring_picnic.split()))\n",
    "print(len(butterfly.split()))"
   ]
  },
  {
   "cell_type": "code",
   "execution_count": 162,
   "id": "65cf8d1a",
   "metadata": {},
   "outputs": [],
   "source": [
    "#  mid음악 3개의 길이를 맞추기 위해  가장적은걸 기준으로 자른다.\n",
    "MAX_NUM = 30\n",
    "musicdata1 = little_star.split()[2:MAX_NUM] \n",
    "musicdata2 = spring_picnic.split()[2:MAX_NUM] \n",
    "musicdata3 = butterfly.split()[2:MAX_NUM] "
   ]
  },
  {
   "cell_type": "code",
   "execution_count": 163,
   "id": "c6ae9377",
   "metadata": {},
   "outputs": [
    {
     "data": {
      "text/plain": [
       "(28, 28, 28)"
      ]
     },
     "execution_count": 163,
     "metadata": {},
     "output_type": "execute_result"
    }
   ],
   "source": [
    "# 길이를 확인\n",
    "len(musicdata1), len(musicdata2), len(musicdata3)"
   ]
  },
  {
   "cell_type": "code",
   "execution_count": 164,
   "id": "5114295a",
   "metadata": {},
   "outputs": [],
   "source": [
    "# 문자형 데이터를 수치형 데이터로 변형\n",
    "musicdata1 =  np.array( [ [note2num[i[0]],int(i[1])] for i in musicdata1])\n",
    "musicdata2 =  np.array( [ [note2num[i[0]],int(i[1])] for i in musicdata2])\n",
    "musicdata3 =  np.array( [ [note2num[i[0]],int(i[1])] for i in musicdata3])"
   ]
  },
  {
   "cell_type": "code",
   "execution_count": 166,
   "id": "aa5ea75e",
   "metadata": {},
   "outputs": [
    {
     "name": "stdout",
     "output_type": "stream",
     "text": [
      "(28, 2)\n"
     ]
    },
    {
     "data": {
      "text/plain": [
       "array([[1, 4],\n",
       "       [1, 4],\n",
       "       [5, 4],\n",
       "       [5, 4],\n",
       "       [6, 4],\n",
       "       [6, 4]])"
      ]
     },
     "execution_count": 166,
     "metadata": {},
     "output_type": "execute_result"
    }
   ],
   "source": [
    "print(musicdata1.shape)\n",
    "musicdata1[:6]"
   ]
  },
  {
   "cell_type": "code",
   "execution_count": 184,
   "id": "361c5610",
   "metadata": {},
   "outputs": [
    {
     "data": {
      "text/plain": [
       "(3, 28, 2)"
      ]
     },
     "execution_count": 184,
     "metadata": {},
     "output_type": "execute_result"
    }
   ],
   "source": [
    "# vmergeData = np.vstack( [musicdata1,musicdata2,musicdata3] )\n",
    "# vmergeData.shape\n",
    "vmergeData = np.array([musicdata1,musicdata2,musicdata3])\n",
    "vmergeData.shape"
   ]
  },
  {
   "cell_type": "code",
   "execution_count": 185,
   "id": "9f36bc6c",
   "metadata": {},
   "outputs": [],
   "source": [
    "# 시계열 데이터를 학습용과 정답을 생성\n",
    "# 3차원일 경우\n",
    "def makeTrain2DimDataAndClass(seq,window):\n",
    "    X,Y = [],[]\n",
    "    assert len(seq.shape) == 3\n",
    "    for i in range(seq.shape[1] - window):\n",
    "        x = seq[:,i:window+i]\n",
    "        y = seq[:,i+window]\n",
    "        X.append(x); Y.append(y)\n",
    "    return np.array(X), np.array(Y)  "
   ]
  },
  {
   "cell_type": "code",
   "execution_count": 186,
   "id": "dd1ee011",
   "metadata": {},
   "outputs": [
    {
     "data": {
      "text/plain": [
       "((24, 3, 4, 2), (24, 3, 2))"
      ]
     },
     "execution_count": 186,
     "metadata": {},
     "output_type": "execute_result"
    }
   ],
   "source": [
    "# LSTM에 들어갈 시계열 형태의 데이터 생성\n",
    "x_train,y_train = makeTrain2DimDataAndClass(vmergeData,4)\n",
    "x_train.shape,y_train.shape"
   ]
  },
  {
   "cell_type": "code",
   "execution_count": 189,
   "id": "98c24132",
   "metadata": {},
   "outputs": [
    {
     "data": {
      "text/plain": [
       "((24, 3, 8), (24, 6))"
      ]
     },
     "execution_count": 189,
     "metadata": {},
     "output_type": "execute_result"
    }
   ],
   "source": [
    "x_train = x_train.reshape(24,3,-1)\n",
    "y_train = y_train.reshape(24,-1)\n",
    "x_train.shape,y_train.shape"
   ]
  },
  {
   "cell_type": "code",
   "execution_count": 191,
   "id": "2ac0182a",
   "metadata": {},
   "outputs": [
    {
     "name": "stdout",
     "output_type": "stream",
     "text": [
      "WARNING:tensorflow:Layer lstm_5 will not use cuDNN kernels since it doesn't meet the criteria. It will use a generic GPU kernel as fallback when running on GPU.\n",
      "Epoch 1/200\n",
      "24/24 [==============================] - 1s 11ms/step - loss: 7.6027 - mae: 2.1071 - acc: 0.2500\n",
      "Epoch 2/200\n",
      "24/24 [==============================] - 0s 10ms/step - loss: 2.6029 - mae: 1.3001 - acc: 0.3750\n",
      "Epoch 3/200\n",
      "24/24 [==============================] - 0s 9ms/step - loss: 2.7317 - mae: 1.3369 - acc: 0.7083\n",
      "Epoch 4/200\n",
      "24/24 [==============================] - 0s 11ms/step - loss: 2.2030 - mae: 1.1273 - acc: 0.1667\n",
      "Epoch 5/200\n",
      "24/24 [==============================] - 0s 11ms/step - loss: 2.0751 - mae: 1.1486 - acc: 0.8750\n",
      "Epoch 6/200\n",
      "24/24 [==============================] - 0s 11ms/step - loss: 2.1536 - mae: 1.1763 - acc: 0.5000\n",
      "Epoch 7/200\n",
      "24/24 [==============================] - 0s 11ms/step - loss: 1.9792 - mae: 1.0594 - acc: 0.6250\n",
      "Epoch 8/200\n",
      "24/24 [==============================] - 0s 11ms/step - loss: 1.9820 - mae: 1.0922 - acc: 0.4583\n",
      "Epoch 9/200\n",
      "24/24 [==============================] - 0s 11ms/step - loss: 1.7768 - mae: 1.0654 - acc: 1.0000\n",
      "Epoch 10/200\n",
      "24/24 [==============================] - 0s 10ms/step - loss: 1.6673 - mae: 1.0144 - acc: 0.5000\n",
      "Epoch 11/200\n",
      "24/24 [==============================] - 0s 11ms/step - loss: 1.6898 - mae: 0.9855 - acc: 0.7083\n",
      "Epoch 12/200\n",
      "24/24 [==============================] - 0s 11ms/step - loss: 1.4920 - mae: 0.9146 - acc: 0.7917\n",
      "Epoch 13/200\n",
      "24/24 [==============================] - 0s 11ms/step - loss: 1.3863 - mae: 0.9102 - acc: 0.9167\n",
      "Epoch 14/200\n",
      "24/24 [==============================] - 0s 12ms/step - loss: 1.3775 - mae: 0.8937 - acc: 0.6667\n",
      "Epoch 15/200\n",
      "24/24 [==============================] - 0s 11ms/step - loss: 1.2266 - mae: 0.8187 - acc: 0.6667\n",
      "Epoch 16/200\n",
      "24/24 [==============================] - 0s 10ms/step - loss: 1.1857 - mae: 0.7983 - acc: 0.7500\n",
      "Epoch 17/200\n",
      "24/24 [==============================] - 0s 13ms/step - loss: 1.2225 - mae: 0.8164 - acc: 0.7917\n",
      "Epoch 18/200\n",
      "24/24 [==============================] - 0s 11ms/step - loss: 1.0674 - mae: 0.7361 - acc: 0.7917\n",
      "Epoch 19/200\n",
      "24/24 [==============================] - 0s 14ms/step - loss: 0.9470 - mae: 0.7426 - acc: 0.9167\n",
      "Epoch 20/200\n",
      "24/24 [==============================] - 0s 9ms/step - loss: 0.8629 - mae: 0.6762 - acc: 0.9167\n",
      "Epoch 21/200\n",
      "24/24 [==============================] - 1s 22ms/step - loss: 0.8606 - mae: 0.6999 - acc: 0.7917\n",
      "Epoch 22/200\n",
      "24/24 [==============================] - 0s 19ms/step - loss: 0.7436 - mae: 0.6044 - acc: 0.8333\n",
      "Epoch 23/200\n",
      "24/24 [==============================] - 0s 11ms/step - loss: 0.7731 - mae: 0.6462 - acc: 0.9167\n",
      "Epoch 24/200\n",
      "24/24 [==============================] - 0s 7ms/step - loss: 0.8717 - mae: 0.6837 - acc: 0.7917\n",
      "Epoch 25/200\n",
      "24/24 [==============================] - 0s 10ms/step - loss: 0.7306 - mae: 0.6186 - acc: 0.7083\n",
      "Epoch 26/200\n",
      "24/24 [==============================] - 0s 15ms/step - loss: 0.7341 - mae: 0.6100 - acc: 0.7500\n",
      "Epoch 27/200\n",
      "24/24 [==============================] - 0s 13ms/step - loss: 0.6525 - mae: 0.5826 - acc: 0.7500\n",
      "Epoch 28/200\n",
      "24/24 [==============================] - 0s 12ms/step - loss: 0.6230 - mae: 0.5933 - acc: 0.8333\n",
      "Epoch 29/200\n",
      "24/24 [==============================] - 0s 14ms/step - loss: 0.6969 - mae: 0.6269 - acc: 0.8750\n",
      "Epoch 30/200\n",
      "24/24 [==============================] - 0s 11ms/step - loss: 0.5828 - mae: 0.5518 - acc: 0.8333\n",
      "Epoch 31/200\n",
      "24/24 [==============================] - 0s 14ms/step - loss: 0.5898 - mae: 0.5746 - acc: 0.7917\n",
      "Epoch 32/200\n",
      "24/24 [==============================] - 0s 11ms/step - loss: 0.6671 - mae: 0.5585 - acc: 0.7917\n",
      "Epoch 33/200\n",
      "24/24 [==============================] - 0s 13ms/step - loss: 0.5996 - mae: 0.5653 - acc: 0.7917\n",
      "Epoch 34/200\n",
      "24/24 [==============================] - 0s 10ms/step - loss: 0.5220 - mae: 0.5311 - acc: 0.7917\n",
      "Epoch 35/200\n",
      "24/24 [==============================] - 0s 9ms/step - loss: 0.6206 - mae: 0.5746 - acc: 0.7917\n",
      "Epoch 36/200\n",
      "24/24 [==============================] - 0s 13ms/step - loss: 0.5039 - mae: 0.4896 - acc: 0.6250\n",
      "Epoch 37/200\n",
      "24/24 [==============================] - 0s 14ms/step - loss: 0.4788 - mae: 0.4916 - acc: 0.7500\n",
      "Epoch 38/200\n",
      "24/24 [==============================] - 0s 11ms/step - loss: 0.4692 - mae: 0.4829 - acc: 0.6667\n",
      "Epoch 39/200\n",
      "24/24 [==============================] - 0s 11ms/step - loss: 0.4566 - mae: 0.4679 - acc: 0.7083\n",
      "Epoch 40/200\n",
      "24/24 [==============================] - 0s 13ms/step - loss: 0.4034 - mae: 0.4467 - acc: 0.8750\n",
      "Epoch 41/200\n",
      "24/24 [==============================] - 0s 11ms/step - loss: 0.3822 - mae: 0.4300 - acc: 0.8333\n",
      "Epoch 42/200\n",
      "24/24 [==============================] - 0s 9ms/step - loss: 0.4002 - mae: 0.4610 - acc: 0.7083\n",
      "Epoch 43/200\n",
      "24/24 [==============================] - 0s 15ms/step - loss: 0.3407 - mae: 0.4165 - acc: 0.7083\n",
      "Epoch 44/200\n",
      "24/24 [==============================] - 0s 16ms/step - loss: 0.3411 - mae: 0.4198 - acc: 0.7083\n",
      "Epoch 45/200\n",
      "24/24 [==============================] - 0s 13ms/step - loss: 0.3965 - mae: 0.4526 - acc: 0.8750\n",
      "Epoch 46/200\n",
      "24/24 [==============================] - 0s 12ms/step - loss: 0.3722 - mae: 0.4169 - acc: 0.7917\n",
      "Epoch 47/200\n",
      "24/24 [==============================] - 0s 10ms/step - loss: 0.3075 - mae: 0.3867 - acc: 0.6667\n",
      "Epoch 48/200\n",
      "24/24 [==============================] - 0s 12ms/step - loss: 0.3019 - mae: 0.3763 - acc: 0.5417\n",
      "Epoch 49/200\n",
      "24/24 [==============================] - 0s 17ms/step - loss: 0.2997 - mae: 0.3907 - acc: 0.8750\n",
      "Epoch 50/200\n",
      "24/24 [==============================] - 0s 15ms/step - loss: 0.2570 - mae: 0.3570 - acc: 0.6667\n",
      "Epoch 51/200\n",
      "24/24 [==============================] - 0s 13ms/step - loss: 0.2336 - mae: 0.3297 - acc: 0.7083\n",
      "Epoch 52/200\n",
      "24/24 [==============================] - 0s 12ms/step - loss: 0.2162 - mae: 0.3226 - acc: 0.7500\n",
      "Epoch 53/200\n",
      "24/24 [==============================] - 0s 12ms/step - loss: 0.1881 - mae: 0.3102 - acc: 0.8333\n",
      "Epoch 54/200\n",
      "24/24 [==============================] - 0s 12ms/step - loss: 0.1863 - mae: 0.2990 - acc: 0.5833\n",
      "Epoch 55/200\n",
      "24/24 [==============================] - 0s 11ms/step - loss: 0.2222 - mae: 0.3453 - acc: 0.5833\n",
      "Epoch 56/200\n",
      "24/24 [==============================] - 0s 9ms/step - loss: 0.2368 - mae: 0.3645 - acc: 0.7500\n",
      "Epoch 57/200\n",
      "24/24 [==============================] - 0s 13ms/step - loss: 0.1866 - mae: 0.3145 - acc: 0.7083\n",
      "Epoch 58/200\n",
      "24/24 [==============================] - 0s 10ms/step - loss: 0.1772 - mae: 0.3041 - acc: 0.7917\n",
      "Epoch 59/200\n",
      "24/24 [==============================] - 0s 12ms/step - loss: 0.1776 - mae: 0.2945 - acc: 0.7500\n",
      "Epoch 60/200\n",
      "24/24 [==============================] - 0s 12ms/step - loss: 0.1494 - mae: 0.2790 - acc: 0.6667\n",
      "Epoch 61/200\n",
      "24/24 [==============================] - 0s 13ms/step - loss: 0.1731 - mae: 0.2898 - acc: 0.7500\n",
      "Epoch 62/200\n",
      "24/24 [==============================] - 0s 12ms/step - loss: 0.1924 - mae: 0.3146 - acc: 0.6667\n",
      "Epoch 63/200\n",
      "24/24 [==============================] - 0s 11ms/step - loss: 0.1679 - mae: 0.2961 - acc: 0.7500\n",
      "Epoch 64/200\n",
      "24/24 [==============================] - 0s 12ms/step - loss: 0.1642 - mae: 0.2838 - acc: 0.6250\n",
      "Epoch 65/200\n",
      "24/24 [==============================] - 0s 10ms/step - loss: 0.1305 - mae: 0.2651 - acc: 0.7500\n",
      "Epoch 66/200\n",
      "24/24 [==============================] - 0s 12ms/step - loss: 0.1163 - mae: 0.2412 - acc: 0.6667\n",
      "Epoch 67/200\n",
      "24/24 [==============================] - 0s 11ms/step - loss: 0.1253 - mae: 0.2247 - acc: 0.7083\n",
      "Epoch 68/200\n",
      "24/24 [==============================] - 0s 14ms/step - loss: 0.1158 - mae: 0.2246 - acc: 0.6250\n",
      "Epoch 69/200\n",
      "24/24 [==============================] - 0s 13ms/step - loss: 0.1330 - mae: 0.2759 - acc: 0.7083\n",
      "Epoch 70/200\n",
      "24/24 [==============================] - 0s 12ms/step - loss: 0.1324 - mae: 0.2567 - acc: 0.7083\n",
      "Epoch 71/200\n",
      "24/24 [==============================] - 0s 9ms/step - loss: 0.1091 - mae: 0.2299 - acc: 0.7917\n",
      "Epoch 72/200\n",
      "24/24 [==============================] - 0s 9ms/step - loss: 0.1018 - mae: 0.2162 - acc: 0.5417\n",
      "Epoch 73/200\n",
      "24/24 [==============================] - 0s 11ms/step - loss: 0.0818 - mae: 0.2030 - acc: 0.7500\n",
      "Epoch 74/200\n"
     ]
    },
    {
     "name": "stdout",
     "output_type": "stream",
     "text": [
      "24/24 [==============================] - 0s 11ms/step - loss: 0.0870 - mae: 0.1933 - acc: 0.7083\n",
      "Epoch 75/200\n",
      "24/24 [==============================] - 0s 11ms/step - loss: 0.1019 - mae: 0.2225 - acc: 0.8750\n",
      "Epoch 76/200\n",
      "24/24 [==============================] - 0s 11ms/step - loss: 0.0859 - mae: 0.1890 - acc: 0.5000\n",
      "Epoch 77/200\n",
      "24/24 [==============================] - 0s 14ms/step - loss: 0.0626 - mae: 0.1728 - acc: 0.8750\n",
      "Epoch 78/200\n",
      "24/24 [==============================] - 0s 13ms/step - loss: 0.0812 - mae: 0.1863 - acc: 0.7500\n",
      "Epoch 79/200\n",
      "24/24 [==============================] - 0s 12ms/step - loss: 0.0825 - mae: 0.1972 - acc: 0.6250\n",
      "Epoch 80/200\n",
      "24/24 [==============================] - 0s 11ms/step - loss: 0.0504 - mae: 0.1443 - acc: 0.7083\n",
      "Epoch 81/200\n",
      "24/24 [==============================] - 0s 12ms/step - loss: 0.0526 - mae: 0.1562 - acc: 0.7500\n",
      "Epoch 82/200\n",
      "24/24 [==============================] - 0s 14ms/step - loss: 0.0571 - mae: 0.1724 - acc: 0.7083\n",
      "Epoch 83/200\n",
      "24/24 [==============================] - 0s 11ms/step - loss: 0.0611 - mae: 0.1830 - acc: 0.6250\n",
      "Epoch 84/200\n",
      "24/24 [==============================] - 0s 9ms/step - loss: 0.0674 - mae: 0.1831 - acc: 0.7083\n",
      "Epoch 85/200\n",
      "24/24 [==============================] - 0s 9ms/step - loss: 0.0757 - mae: 0.1931 - acc: 0.7500\n",
      "Epoch 86/200\n",
      "24/24 [==============================] - 0s 10ms/step - loss: 0.0372 - mae: 0.1419 - acc: 0.7083\n",
      "Epoch 87/200\n",
      "24/24 [==============================] - 0s 11ms/step - loss: 0.0500 - mae: 0.1730 - acc: 0.6667\n",
      "Epoch 88/200\n",
      "24/24 [==============================] - 0s 9ms/step - loss: 0.0407 - mae: 0.1413 - acc: 0.6250\n",
      "Epoch 89/200\n",
      "24/24 [==============================] - 0s 11ms/step - loss: 0.0409 - mae: 0.1471 - acc: 0.7083\n",
      "Epoch 90/200\n",
      "24/24 [==============================] - 0s 10ms/step - loss: 0.0485 - mae: 0.1630 - acc: 0.6250\n",
      "Epoch 91/200\n",
      "24/24 [==============================] - 0s 9ms/step - loss: 0.0444 - mae: 0.1404 - acc: 0.6667\n",
      "Epoch 92/200\n",
      "24/24 [==============================] - 0s 10ms/step - loss: 0.0346 - mae: 0.1256 - acc: 0.5833\n",
      "Epoch 93/200\n",
      "24/24 [==============================] - 0s 8ms/step - loss: 0.0436 - mae: 0.1364 - acc: 0.7083\n",
      "Epoch 94/200\n",
      "24/24 [==============================] - 0s 8ms/step - loss: 0.0316 - mae: 0.1334 - acc: 0.7917\n",
      "Epoch 95/200\n",
      "24/24 [==============================] - 0s 10ms/step - loss: 0.0266 - mae: 0.1244 - acc: 0.7917\n",
      "Epoch 96/200\n",
      "24/24 [==============================] - 0s 8ms/step - loss: 0.0320 - mae: 0.1333 - acc: 0.7083\n",
      "Epoch 97/200\n",
      "24/24 [==============================] - 0s 9ms/step - loss: 0.0159 - mae: 0.0922 - acc: 0.7917\n",
      "Epoch 98/200\n",
      "24/24 [==============================] - 0s 9ms/step - loss: 0.0206 - mae: 0.1052 - acc: 0.7500\n",
      "Epoch 99/200\n",
      "24/24 [==============================] - 0s 10ms/step - loss: 0.0195 - mae: 0.0968 - acc: 0.5417\n",
      "Epoch 100/200\n",
      "24/24 [==============================] - 0s 9ms/step - loss: 0.0181 - mae: 0.0942 - acc: 0.7500\n",
      "Epoch 101/200\n",
      "24/24 [==============================] - 0s 7ms/step - loss: 0.0167 - mae: 0.0933 - acc: 0.5833\n",
      "Epoch 102/200\n",
      "24/24 [==============================] - 0s 9ms/step - loss: 0.0238 - mae: 0.1171 - acc: 0.7083\n",
      "Epoch 103/200\n",
      "24/24 [==============================] - 0s 8ms/step - loss: 0.0184 - mae: 0.0968 - acc: 0.5417\n",
      "Epoch 104/200\n",
      "24/24 [==============================] - 0s 9ms/step - loss: 0.0192 - mae: 0.0966 - acc: 0.7917\n",
      "Epoch 105/200\n",
      "24/24 [==============================] - 0s 8ms/step - loss: 0.0146 - mae: 0.0915 - acc: 0.6250\n",
      "Epoch 106/200\n",
      "24/24 [==============================] - 0s 8ms/step - loss: 0.0310 - mae: 0.1236 - acc: 0.7917\n",
      "Epoch 107/200\n",
      "24/24 [==============================] - 0s 9ms/step - loss: 0.0241 - mae: 0.1157 - acc: 0.5833\n",
      "Epoch 108/200\n",
      "24/24 [==============================] - 0s 8ms/step - loss: 0.0181 - mae: 0.1018 - acc: 0.7500\n",
      "Epoch 109/200\n",
      "24/24 [==============================] - 0s 9ms/step - loss: 0.0227 - mae: 0.1098 - acc: 0.5417\n",
      "Epoch 110/200\n",
      "24/24 [==============================] - 0s 12ms/step - loss: 0.0426 - mae: 0.1483 - acc: 0.6667\n",
      "Epoch 111/200\n",
      "24/24 [==============================] - 0s 9ms/step - loss: 0.0778 - mae: 0.2061 - acc: 0.7500\n",
      "Epoch 112/200\n",
      "24/24 [==============================] - 0s 8ms/step - loss: 0.0708 - mae: 0.2008 - acc: 0.7500\n",
      "Epoch 113/200\n",
      "24/24 [==============================] - 0s 8ms/step - loss: 0.1220 - mae: 0.2649 - acc: 0.7917\n",
      "Epoch 114/200\n",
      "24/24 [==============================] - 0s 9ms/step - loss: 0.0707 - mae: 0.2045 - acc: 0.7083\n",
      "Epoch 115/200\n",
      "24/24 [==============================] - 0s 10ms/step - loss: 0.0585 - mae: 0.1881 - acc: 0.6250\n",
      "Epoch 116/200\n",
      "24/24 [==============================] - 0s 19ms/step - loss: 0.0596 - mae: 0.1858 - acc: 0.7500\n",
      "Epoch 117/200\n",
      "24/24 [==============================] - 0s 10ms/step - loss: 0.0912 - mae: 0.2390 - acc: 0.5417\n",
      "Epoch 118/200\n",
      "24/24 [==============================] - 0s 12ms/step - loss: 0.0677 - mae: 0.2017 - acc: 0.7500\n",
      "Epoch 119/200\n",
      "24/24 [==============================] - 0s 12ms/step - loss: 0.0486 - mae: 0.1713 - acc: 0.5833\n",
      "Epoch 120/200\n",
      "24/24 [==============================] - 0s 16ms/step - loss: 0.0636 - mae: 0.1971 - acc: 0.7917\n",
      "Epoch 121/200\n",
      "24/24 [==============================] - 0s 11ms/step - loss: 0.0544 - mae: 0.1732 - acc: 0.5833\n",
      "Epoch 122/200\n",
      "24/24 [==============================] - 0s 9ms/step - loss: 0.0522 - mae: 0.1870 - acc: 0.7500\n",
      "Epoch 123/200\n",
      "24/24 [==============================] - 0s 9ms/step - loss: 0.0555 - mae: 0.1832 - acc: 0.7917\n",
      "Epoch 124/200\n",
      "24/24 [==============================] - 0s 14ms/step - loss: 0.0596 - mae: 0.1838 - acc: 0.7083\n",
      "Epoch 125/200\n",
      "24/24 [==============================] - 0s 12ms/step - loss: 0.0814 - mae: 0.2176 - acc: 0.7500\n",
      "Epoch 126/200\n",
      "24/24 [==============================] - 0s 14ms/step - loss: 0.0753 - mae: 0.1947 - acc: 0.5417\n",
      "Epoch 127/200\n",
      "24/24 [==============================] - 0s 11ms/step - loss: 0.0520 - mae: 0.1670 - acc: 0.6667\n",
      "Epoch 128/200\n",
      "24/24 [==============================] - 0s 10ms/step - loss: 0.0421 - mae: 0.1574 - acc: 0.7500\n",
      "Epoch 129/200\n",
      "24/24 [==============================] - 0s 9ms/step - loss: 0.0379 - mae: 0.1513 - acc: 0.6667\n",
      "Epoch 130/200\n",
      "24/24 [==============================] - 0s 8ms/step - loss: 0.0574 - mae: 0.1941 - acc: 0.6667\n",
      "Epoch 131/200\n",
      "24/24 [==============================] - 0s 9ms/step - loss: 0.1057 - mae: 0.2529 - acc: 0.5833\n",
      "Epoch 132/200\n",
      "24/24 [==============================] - 0s 10ms/step - loss: 0.0747 - mae: 0.1927 - acc: 0.7500\n",
      "Epoch 133/200\n",
      "24/24 [==============================] - 0s 11ms/step - loss: 0.0564 - mae: 0.1768 - acc: 0.6667\n",
      "Epoch 134/200\n",
      "24/24 [==============================] - 0s 12ms/step - loss: 0.0307 - mae: 0.1383 - acc: 0.7500\n",
      "Epoch 135/200\n",
      "24/24 [==============================] - 0s 10ms/step - loss: 0.0297 - mae: 0.1306 - acc: 0.7083\n",
      "Epoch 136/200\n",
      "24/24 [==============================] - 0s 10ms/step - loss: 0.0263 - mae: 0.1246 - acc: 0.5833\n",
      "Epoch 137/200\n",
      "24/24 [==============================] - 0s 12ms/step - loss: 0.0206 - mae: 0.1083 - acc: 0.7917\n",
      "Epoch 138/200\n",
      "24/24 [==============================] - 0s 16ms/step - loss: 0.0138 - mae: 0.0904 - acc: 0.7500\n",
      "Epoch 139/200\n",
      "24/24 [==============================] - 0s 13ms/step - loss: 0.0110 - mae: 0.0841 - acc: 0.7083\n",
      "Epoch 140/200\n",
      "24/24 [==============================] - 0s 12ms/step - loss: 0.0136 - mae: 0.0941 - acc: 0.7500\n",
      "Epoch 141/200\n",
      "24/24 [==============================] - 0s 9ms/step - loss: 0.0123 - mae: 0.0919 - acc: 0.7500\n",
      "Epoch 142/200\n",
      "24/24 [==============================] - 0s 10ms/step - loss: 0.0115 - mae: 0.0815 - acc: 0.7083\n",
      "Epoch 143/200\n",
      "24/24 [==============================] - 0s 12ms/step - loss: 0.0077 - mae: 0.0706 - acc: 0.7500\n",
      "Epoch 144/200\n",
      "24/24 [==============================] - 0s 13ms/step - loss: 0.0071 - mae: 0.0647 - acc: 0.5417\n",
      "Epoch 145/200\n",
      "24/24 [==============================] - 0s 9ms/step - loss: 0.0092 - mae: 0.0728 - acc: 0.6667\n",
      "Epoch 146/200\n",
      "24/24 [==============================] - 0s 13ms/step - loss: 0.0064 - mae: 0.0613 - acc: 0.7500\n",
      "Epoch 147/200\n",
      "24/24 [==============================] - 0s 17ms/step - loss: 0.0079 - mae: 0.0681 - acc: 0.7917\n",
      "Epoch 148/200\n"
     ]
    },
    {
     "name": "stdout",
     "output_type": "stream",
     "text": [
      "24/24 [==============================] - 0s 12ms/step - loss: 0.0183 - mae: 0.1014 - acc: 0.6250\n",
      "Epoch 149/200\n",
      "24/24 [==============================] - 0s 10ms/step - loss: 0.0270 - mae: 0.1226 - acc: 0.7083\n",
      "Epoch 150/200\n",
      "24/24 [==============================] - 0s 11ms/step - loss: 0.0366 - mae: 0.1498 - acc: 0.6250\n",
      "Epoch 151/200\n",
      "24/24 [==============================] - 0s 13ms/step - loss: 0.0403 - mae: 0.1551 - acc: 0.6250\n",
      "Epoch 152/200\n",
      "24/24 [==============================] - 0s 11ms/step - loss: 0.0333 - mae: 0.1495 - acc: 0.7917\n",
      "Epoch 153/200\n",
      "24/24 [==============================] - 0s 10ms/step - loss: 0.0557 - mae: 0.1903 - acc: 0.5833\n",
      "Epoch 154/200\n",
      "24/24 [==============================] - 0s 19ms/step - loss: 0.0370 - mae: 0.1445 - acc: 0.7500\n",
      "Epoch 155/200\n",
      "24/24 [==============================] - 0s 9ms/step - loss: 0.0439 - mae: 0.1571 - acc: 0.6667\n",
      "Epoch 156/200\n",
      "24/24 [==============================] - 0s 9ms/step - loss: 0.0396 - mae: 0.1548 - acc: 0.5417\n",
      "Epoch 157/200\n",
      "24/24 [==============================] - 0s 10ms/step - loss: 0.0385 - mae: 0.1554 - acc: 0.7083\n",
      "Epoch 158/200\n",
      "24/24 [==============================] - 0s 9ms/step - loss: 0.0499 - mae: 0.1721 - acc: 0.6667\n",
      "Epoch 159/200\n",
      "24/24 [==============================] - 0s 9ms/step - loss: 0.0240 - mae: 0.1214 - acc: 0.7500\n",
      "Epoch 160/200\n",
      "24/24 [==============================] - 0s 8ms/step - loss: 0.0301 - mae: 0.1281 - acc: 0.7083\n",
      "Epoch 161/200\n",
      "24/24 [==============================] - 0s 12ms/step - loss: 0.0322 - mae: 0.1413 - acc: 0.7917\n",
      "Epoch 162/200\n",
      "24/24 [==============================] - 0s 8ms/step - loss: 0.0329 - mae: 0.1375 - acc: 0.6667\n",
      "Epoch 163/200\n",
      "24/24 [==============================] - 0s 9ms/step - loss: 0.0264 - mae: 0.1226 - acc: 0.6250\n",
      "Epoch 164/200\n",
      "24/24 [==============================] - 0s 8ms/step - loss: 0.0409 - mae: 0.1563 - acc: 0.7500\n",
      "Epoch 165/200\n",
      "24/24 [==============================] - 0s 9ms/step - loss: 0.0559 - mae: 0.1797 - acc: 0.7500\n",
      "Epoch 166/200\n",
      "24/24 [==============================] - 0s 8ms/step - loss: 0.0602 - mae: 0.1867 - acc: 0.6250\n",
      "Epoch 167/200\n",
      "24/24 [==============================] - 0s 13ms/step - loss: 0.0659 - mae: 0.2130 - acc: 0.7083\n",
      "Epoch 168/200\n",
      "24/24 [==============================] - 0s 11ms/step - loss: 0.1074 - mae: 0.2665 - acc: 0.7917\n",
      "Epoch 169/200\n",
      "24/24 [==============================] - 0s 13ms/step - loss: 0.0513 - mae: 0.1786 - acc: 0.5833\n",
      "Epoch 170/200\n",
      "24/24 [==============================] - 0s 10ms/step - loss: 0.0399 - mae: 0.1525 - acc: 0.6667\n",
      "Epoch 171/200\n",
      "24/24 [==============================] - 0s 9ms/step - loss: 0.0373 - mae: 0.1519 - acc: 0.6667\n",
      "Epoch 172/200\n",
      "24/24 [==============================] - 0s 12ms/step - loss: 0.0254 - mae: 0.1193 - acc: 0.7917\n",
      "Epoch 173/200\n",
      "24/24 [==============================] - 0s 7ms/step - loss: 0.0251 - mae: 0.1261 - acc: 0.5833\n",
      "Epoch 174/200\n",
      "24/24 [==============================] - 0s 11ms/step - loss: 0.0267 - mae: 0.1335 - acc: 0.7500\n",
      "Epoch 175/200\n",
      "24/24 [==============================] - 0s 9ms/step - loss: 0.0239 - mae: 0.1260 - acc: 0.6667\n",
      "Epoch 176/200\n",
      "24/24 [==============================] - 0s 11ms/step - loss: 0.0247 - mae: 0.1219 - acc: 0.5833\n",
      "Epoch 177/200\n",
      "24/24 [==============================] - 0s 11ms/step - loss: 0.0398 - mae: 0.1413 - acc: 0.6667\n",
      "Epoch 178/200\n",
      "24/24 [==============================] - 0s 10ms/step - loss: 0.0356 - mae: 0.1462 - acc: 0.7500\n",
      "Epoch 179/200\n",
      "24/24 [==============================] - 0s 9ms/step - loss: 0.0280 - mae: 0.1199 - acc: 0.6667\n",
      "Epoch 180/200\n",
      "24/24 [==============================] - 0s 14ms/step - loss: 0.0257 - mae: 0.1162 - acc: 0.6667\n",
      "Epoch 181/200\n",
      "24/24 [==============================] - 0s 14ms/step - loss: 0.0214 - mae: 0.1102 - acc: 0.5417\n",
      "Epoch 182/200\n",
      "24/24 [==============================] - 0s 13ms/step - loss: 0.0247 - mae: 0.1097 - acc: 0.7083\n",
      "Epoch 183/200\n",
      "24/24 [==============================] - 0s 12ms/step - loss: 0.0235 - mae: 0.1222 - acc: 0.7500\n",
      "Epoch 184/200\n",
      "24/24 [==============================] - 0s 16ms/step - loss: 0.0287 - mae: 0.1286 - acc: 0.5833\n",
      "Epoch 185/200\n",
      "24/24 [==============================] - 0s 10ms/step - loss: 0.0252 - mae: 0.1214 - acc: 0.7083\n",
      "Epoch 186/200\n",
      "24/24 [==============================] - 0s 13ms/step - loss: 0.0211 - mae: 0.1070 - acc: 0.7500\n",
      "Epoch 187/200\n",
      "24/24 [==============================] - 0s 13ms/step - loss: 0.0223 - mae: 0.1110 - acc: 0.6667\n",
      "Epoch 188/200\n",
      "24/24 [==============================] - 0s 11ms/step - loss: 0.0310 - mae: 0.1382 - acc: 0.7083\n",
      "Epoch 189/200\n",
      "24/24 [==============================] - 0s 13ms/step - loss: 0.0470 - mae: 0.1638 - acc: 0.6250\n",
      "Epoch 190/200\n",
      "24/24 [==============================] - 0s 12ms/step - loss: 0.0601 - mae: 0.1649 - acc: 0.5833\n",
      "Epoch 191/200\n",
      "24/24 [==============================] - 0s 12ms/step - loss: 0.0905 - mae: 0.2125 - acc: 0.7917\n",
      "Epoch 192/200\n",
      "24/24 [==============================] - 0s 12ms/step - loss: 0.0936 - mae: 0.2415 - acc: 0.5833\n",
      "Epoch 193/200\n",
      "24/24 [==============================] - 0s 15ms/step - loss: 0.0916 - mae: 0.2333 - acc: 0.7500\n",
      "Epoch 194/200\n",
      "24/24 [==============================] - 0s 16ms/step - loss: 0.1147 - mae: 0.2545 - acc: 0.7500\n",
      "Epoch 195/200\n",
      "24/24 [==============================] - 0s 13ms/step - loss: 0.0952 - mae: 0.2460 - acc: 0.7083\n",
      "Epoch 196/200\n",
      "24/24 [==============================] - 0s 12ms/step - loss: 0.0907 - mae: 0.2297 - acc: 0.6667\n",
      "Epoch 197/200\n",
      "24/24 [==============================] - 0s 13ms/step - loss: 0.0804 - mae: 0.2123 - acc: 0.5833\n",
      "Epoch 198/200\n",
      "24/24 [==============================] - 0s 12ms/step - loss: 0.0576 - mae: 0.1886 - acc: 0.5417\n",
      "Epoch 199/200\n",
      "24/24 [==============================] - 0s 14ms/step - loss: 0.0311 - mae: 0.1362 - acc: 0.6667\n",
      "Epoch 200/200\n",
      "24/24 [==============================] - 0s 11ms/step - loss: 0.0576 - mae: 0.1873 - acc: 0.8333\n"
     ]
    },
    {
     "data": {
      "text/plain": [
       "<keras.callbacks.History at 0x20c1f6ec3a0>"
      ]
     },
     "execution_count": 191,
     "metadata": {},
     "output_type": "execute_result"
    }
   ],
   "source": [
    "# 모델\n",
    "model=Sequential()\n",
    "model.add(LSTM(128,activation='relu', input_shape = x_train.shape[1:]))\n",
    "model.add(Dense(6))\n",
    "model.compile(loss='mse',optimizer='adam',metrics=['mae','acc'])\n",
    "model.fit(x_train,y_train,epochs=200,batch_size=1)"
   ]
  },
  {
   "cell_type": "code",
   "execution_count": 211,
   "id": "f398651b",
   "metadata": {},
   "outputs": [
    {
     "name": "stdout",
     "output_type": "stream",
     "text": [
      "1/1 [==============================] - 0s 20ms/step\n"
     ]
    }
   ],
   "source": [
    "# 첫소절 5\n",
    "predict = model.predict(x_train[:5])\n",
    "predict = predict.astype('uint8')\n",
    "\n",
    "# song1 = 'tinynotation: 4/4 '\n",
    "# song2 = 'tinynotation: 4/8 '\n",
    "# song3 = 'tinynotation: 2/4 '\n",
    "song1 = ''\n",
    "for i in range(5):\n",
    "    song1 += ' '.join(num2note[round(predict[i][0])]) + str(round(predict[i][1])) + ' '\n",
    "    song1 += ' '.join(num2note[round(predict[i][2])]) + str(round(predict[i][3])) + ' '\n",
    "    song1 += ' '.join(num2note[round(predict[i][4])]) + str(round(predict[i][5])) + ' '\n",
    "    "
   ]
  },
  {
   "cell_type": "code",
   "execution_count": 213,
   "id": "3235afbd",
   "metadata": {},
   "outputs": [
    {
     "data": {
      "text/plain": [
       "'tinynotation: 4/8 g3 g8 c7 g3 g7 c3 f2 f3 c7 e4 d7 d8 e3 f8 e7 '"
      ]
     },
     "execution_count": 213,
     "metadata": {},
     "output_type": "execute_result"
    }
   ],
   "source": [
    "song1 = 'tinynotation: 4/8 ' + song1\n",
    "song1"
   ]
  },
  {
   "cell_type": "code",
   "execution_count": null,
   "id": "5a052389",
   "metadata": {},
   "outputs": [],
   "source": []
  },
  {
   "cell_type": "code",
   "execution_count": null,
   "id": "6c6cf6fe",
   "metadata": {},
   "outputs": [],
   "source": []
  },
  {
   "cell_type": "code",
   "execution_count": null,
   "id": "f3ba3dc2",
   "metadata": {},
   "outputs": [],
   "source": []
  }
 ],
 "metadata": {
  "kernelspec": {
   "display_name": "Python 3 (ipykernel)",
   "language": "python",
   "name": "python3"
  },
  "language_info": {
   "codemirror_mode": {
    "name": "ipython",
    "version": 3
   },
   "file_extension": ".py",
   "mimetype": "text/x-python",
   "name": "python",
   "nbconvert_exporter": "python",
   "pygments_lexer": "ipython3",
   "version": "3.9.12"
  }
 },
 "nbformat": 4,
 "nbformat_minor": 5
}

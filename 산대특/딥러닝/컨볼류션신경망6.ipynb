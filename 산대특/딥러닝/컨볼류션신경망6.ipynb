{
  "nbformat": 4,
  "nbformat_minor": 0,
  "metadata": {
    "colab": {
      "provenance": [],
      "collapsed_sections": []
    },
    "kernelspec": {
      "name": "python3",
      "display_name": "Python 3"
    },
    "language_info": {
      "name": "python"
    },
    "accelerator": "GPU"
  },
  "cells": [
    {
      "cell_type": "code",
      "execution_count": 1,
      "metadata": {
        "id": "S8OS9ubBSHIv"
      },
      "outputs": [],
      "source": [
        "# CNN  \n",
        "zipFilePath = '/content/drive/MyDrive/산대특 공유폴더/horse-or-human.zip'"
      ]
    },
    {
      "cell_type": "code",
      "source": [
        "import urllib.request\n",
        "import zipfile"
      ],
      "metadata": {
        "id": "Ue_ymG63SkvF"
      },
      "execution_count": 2,
      "outputs": []
    },
    {
      "cell_type": "code",
      "source": [
        "target_dir = '/content/drive/MyDrive/Colab Notebooks'"
      ],
      "metadata": {
        "id": "DldqRRgESsFs"
      },
      "execution_count": 4,
      "outputs": []
    },
    {
      "cell_type": "code",
      "source": [
        "# 인터넷에서 target으로파일 read\n",
        "# urllib.request.urlretrieve(zipFilePath,target_dir)"
      ],
      "metadata": {
        "id": "4sStNifqSvAc"
      },
      "execution_count": 6,
      "outputs": []
    },
    {
      "cell_type": "code",
      "source": [
        "zip_data = zipfile.ZipFile(zipFilePath,'r')\n",
        "zip_data.extractall(target_dir)\n",
        "zip_data.close()"
      ],
      "metadata": {
        "id": "6t_NflppTJ7t"
      },
      "execution_count": 7,
      "outputs": []
    },
    {
      "cell_type": "code",
      "source": [
        "horses_path = '/content/drive/MyDrive/Colab Notebooks/horses'\n",
        "humans_path = '/content/drive/MyDrive/Colab Notebooks/humans'"
      ],
      "metadata": {
        "id": "VYkieavxTeRr"
      },
      "execution_count": 8,
      "outputs": []
    },
    {
      "cell_type": "code",
      "source": [
        "import os\n",
        "import glob"
      ],
      "metadata": {
        "id": "KZ592gCrUMGt"
      },
      "execution_count": 9,
      "outputs": []
    },
    {
      "cell_type": "code",
      "source": [
        "horse_lists = glob.glob(horses_path+\"/*.png\")\n",
        "human_lists = glob.glob(humans_path+\"/*.png\")"
      ],
      "metadata": {
        "id": "TlynbH-AWUvj"
      },
      "execution_count": 14,
      "outputs": []
    },
    {
      "cell_type": "code",
      "source": [
        "from tensorflow.keras.preprocessing import image"
      ],
      "metadata": {
        "id": "nbyWy1mYWguT"
      },
      "execution_count": 15,
      "outputs": []
    },
    {
      "cell_type": "code",
      "source": [
        "temp = image.load_img(horse_lists[0],target_size=(255,255))"
      ],
      "metadata": {
        "id": "f8hFxzMNXFmL"
      },
      "execution_count": 18,
      "outputs": []
    },
    {
      "cell_type": "code",
      "source": [
        "image.img_to_array(image.load_img(horse_lists[0],target_size=(255,255)))"
      ],
      "metadata": {
        "id": "ghO4SI0nX42H"
      },
      "execution_count": null,
      "outputs": []
    },
    {
      "cell_type": "code",
      "source": [
        "# 데이터 확보\n",
        "horse_datas = [image.img_to_array(image.load_img(horsefile,target_size=(255,255))) for horsefile in horse_lists]"
      ],
      "metadata": {
        "id": "TzWaY2klXKsD"
      },
      "execution_count": 25,
      "outputs": []
    },
    {
      "cell_type": "code",
      "source": [
        "human_datas = [image.img_to_array(image.load_img(humanfile,target_size=(255,255))) for humanfile in human_lists]"
      ],
      "metadata": {
        "id": "84c_4U8IYKWq"
      },
      "execution_count": 26,
      "outputs": []
    },
    {
      "cell_type": "code",
      "source": [
        "import numpy as np\n",
        "np.array(horse_datas).shape,  np.array(human_datas).shape"
      ],
      "metadata": {
        "colab": {
          "base_uri": "https://localhost:8080/"
        },
        "id": "Pz3Chy4VYnLC",
        "outputId": "c4f5288a-897f-4749-833e-260f8cffc5f5"
      },
      "execution_count": 28,
      "outputs": [
        {
          "output_type": "execute_result",
          "data": {
            "text/plain": [
              "((500, 255, 255, 3), (527, 255, 255, 3))"
            ]
          },
          "metadata": {},
          "execution_count": 28
        }
      ]
    },
    {
      "cell_type": "code",
      "source": [
        "y = [0]*500 + [1]*527"
      ],
      "metadata": {
        "id": "2do2Vts9YsAy"
      },
      "execution_count": 31,
      "outputs": []
    },
    {
      "cell_type": "code",
      "source": [
        "x = horse_datas + human_datas"
      ],
      "metadata": {
        "id": "85UxK_CyY-mC"
      },
      "execution_count": 32,
      "outputs": []
    },
    {
      "cell_type": "code",
      "source": [
        "len(x), len(y)"
      ],
      "metadata": {
        "colab": {
          "base_uri": "https://localhost:8080/"
        },
        "id": "KMGjTjf9ZNF7",
        "outputId": "fabf2051-eaba-4db3-dd44-6d985989b4fb"
      },
      "execution_count": 33,
      "outputs": [
        {
          "output_type": "execute_result",
          "data": {
            "text/plain": [
              "(1027, 1027)"
            ]
          },
          "metadata": {},
          "execution_count": 33
        }
      ]
    },
    {
      "cell_type": "code",
      "source": [
        "# 표준화\n",
        "x = np.array(x).astype('float32') / 255.0"
      ],
      "metadata": {
        "id": "6dkqbN4gZhBL"
      },
      "execution_count": 35,
      "outputs": []
    },
    {
      "cell_type": "code",
      "source": [
        "# 잘섞고 잘 분리\n",
        "from sklearn.model_selection import train_test_split"
      ],
      "metadata": {
        "id": "o71Co98rab-E"
      },
      "execution_count": 36,
      "outputs": []
    },
    {
      "cell_type": "code",
      "source": [
        "x_train,x_test,y_train,y_test =  train_test_split(x,y,random_state=42)"
      ],
      "metadata": {
        "id": "EIAl--BDd1l5"
      },
      "execution_count": 37,
      "outputs": []
    },
    {
      "cell_type": "code",
      "source": [
        "# 신경망 만들기\n",
        "import tensorflow as tf\n",
        "from tensorflow.keras.layers import Dense, Conv2D,Flatten,Dropout,MaxPooling2D"
      ],
      "metadata": {
        "id": "4Dq9pXcsd_5Z"
      },
      "execution_count": 40,
      "outputs": []
    },
    {
      "cell_type": "code",
      "source": [
        "model = tf.keras.models.Sequential([\n",
        "    Conv2D(32,(3,3),activation='relu',input_shape=(255,255,3)),\n",
        "    Conv2D(32,(3,3),activation='relu'),\n",
        "    MaxPooling2D((2,2)),\n",
        "    Dropout(0.25),\n",
        "\n",
        "    Conv2D(64,(3,3),activation='relu'),\n",
        "    Conv2D(64,(3,3),activation='relu'),\n",
        "    MaxPooling2D((2,2)),\n",
        "    Dropout(0.25),\n",
        "\n",
        "    Flatten(),\n",
        "\n",
        "    Dense(128,activation='relu'),\n",
        "    Dropout(0.5),\n",
        "    Dense(1,activation='sigmoid')\n",
        "])"
      ],
      "metadata": {
        "id": "1Cp9DZnkeLaJ"
      },
      "execution_count": 42,
      "outputs": []
    },
    {
      "cell_type": "code",
      "source": [
        "model.summary()"
      ],
      "metadata": {
        "colab": {
          "base_uri": "https://localhost:8080/"
        },
        "id": "_TZbciKbfrHJ",
        "outputId": "c18ffea8-0af4-45de-a96c-1952e2493cfb"
      },
      "execution_count": 43,
      "outputs": [
        {
          "output_type": "stream",
          "name": "stdout",
          "text": [
            "Model: \"sequential\"\n",
            "_________________________________________________________________\n",
            " Layer (type)                Output Shape              Param #   \n",
            "=================================================================\n",
            " conv2d (Conv2D)             (None, 253, 253, 32)      896       \n",
            "                                                                 \n",
            " conv2d_1 (Conv2D)           (None, 251, 251, 32)      9248      \n",
            "                                                                 \n",
            " max_pooling2d (MaxPooling2D  (None, 125, 125, 32)     0         \n",
            " )                                                               \n",
            "                                                                 \n",
            " dropout (Dropout)           (None, 125, 125, 32)      0         \n",
            "                                                                 \n",
            " conv2d_2 (Conv2D)           (None, 123, 123, 64)      18496     \n",
            "                                                                 \n",
            " conv2d_3 (Conv2D)           (None, 121, 121, 64)      36928     \n",
            "                                                                 \n",
            " max_pooling2d_1 (MaxPooling  (None, 60, 60, 64)       0         \n",
            " 2D)                                                             \n",
            "                                                                 \n",
            " dropout_1 (Dropout)         (None, 60, 60, 64)        0         \n",
            "                                                                 \n",
            " flatten (Flatten)           (None, 230400)            0         \n",
            "                                                                 \n",
            " dense (Dense)               (None, 128)               29491328  \n",
            "                                                                 \n",
            " dropout_2 (Dropout)         (None, 128)               0         \n",
            "                                                                 \n",
            " dense_1 (Dense)             (None, 1)                 129       \n",
            "                                                                 \n",
            "=================================================================\n",
            "Total params: 29,557,025\n",
            "Trainable params: 29,557,025\n",
            "Non-trainable params: 0\n",
            "_________________________________________________________________\n"
          ]
        }
      ]
    },
    {
      "cell_type": "code",
      "source": [
        "model.compile(loss = tf.keras.losses.binary_crossentropy,\n",
        "              optimizer='adam', metrics=['acc','mae']\n",
        "              )"
      ],
      "metadata": {
        "id": "NPqm-jGvfyqL"
      },
      "execution_count": 44,
      "outputs": []
    },
    {
      "cell_type": "code",
      "source": [
        "earlyStop = tf.keras.callbacks.EarlyStopping(patience=5)\n",
        "hist = model.fit(x_train,y_train,batch_size=32,epochs=100,validation_data=(x_test,y_test),callbacks=[earlyStop])"
      ],
      "metadata": {
        "id": "VLnu46vVgQSw"
      },
      "execution_count": null,
      "outputs": []
    }
  ]
}
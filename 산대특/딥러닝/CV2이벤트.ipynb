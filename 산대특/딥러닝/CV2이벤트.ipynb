{
 "cells": [
  {
   "cell_type": "code",
   "execution_count": 1,
   "id": "57a721cf",
   "metadata": {},
   "outputs": [],
   "source": [
    "# 이벤트 - 사건\n",
    "# 콜백 - 개발자가 제공하고 시스템이 호출방식"
   ]
  },
  {
   "cell_type": "code",
   "execution_count": 1,
   "id": "64a8db44",
   "metadata": {},
   "outputs": [],
   "source": [
    "import numpy as np\n",
    "import cv2"
   ]
  },
  {
   "cell_type": "code",
   "execution_count": 2,
   "id": "88f21c74",
   "metadata": {},
   "outputs": [],
   "source": [
    "switch_case = {\n",
    "    ord('a') : 'a키 입력',\n",
    "    ord('b') : 'b키 입력'    \n",
    "}"
   ]
  },
  {
   "cell_type": "code",
   "execution_count": 5,
   "id": "626ebd0e",
   "metadata": {},
   "outputs": [],
   "source": [
    "def onMouse(event, x,y,flags,param):\n",
    "    if event == cv2.EVENT_LBUTTONDOWN:\n",
    "        print('왼쪽마우스버튼')\n",
    "    elif event == cv2.EVENT_RBUTTONDOWN:\n",
    "        print('오른쪽마우스버튼')\n",
    "    elif event == cv2.EVENT_MBUTTONDOWN:\n",
    "        print('가운데마우스버튼')"
   ]
  },
  {
   "cell_type": "code",
   "execution_count": 7,
   "id": "2e9b037d",
   "metadata": {},
   "outputs": [
    {
     "name": "stdout",
     "output_type": "stream",
     "text": [
      "왼쪽마우스버튼\n",
      "오른쪽마우스버튼\n",
      "가운데마우스버튼\n",
      "가운데마우스버튼\n",
      "가운데마우스버튼\n",
      "가운데마우스버튼\n",
      "가운데마우스버튼\n",
      "가운데마우스버튼\n",
      "왼쪽마우스버튼\n",
      "오른쪽마우스버튼\n"
     ]
    }
   ],
   "source": [
    "image = np.ones((200,300),np.float32)  # 모든 원소가 1인 행렬\n",
    "cv2.namedWindow('keyboard Event')\n",
    "cv2.imshow(\"keyboard event\",image)\n",
    "cv2.setMouseCallback('keyboard event',onMouse)\n",
    "cv2.waitKey(0)\n",
    "cv2.destroyAllWindows()"
   ]
  },
  {
   "cell_type": "code",
   "execution_count": null,
   "id": "7cddc699",
   "metadata": {},
   "outputs": [],
   "source": []
  },
  {
   "cell_type": "code",
   "execution_count": 9,
   "id": "e2c94869",
   "metadata": {},
   "outputs": [
    {
     "name": "stdout",
     "output_type": "stream",
     "text": [
      "a키 입력\n",
      "a키 입력\n",
      "a키 입력\n",
      "a키 입력\n",
      "b키 입력\n",
      "b키 입력\n",
      "b키 입력\n",
      "b키 입력\n",
      "a키 입력\n",
      "a키 입력\n",
      "b키 입력\n",
      "b키 입력\n",
      "a키 입력\n",
      "a키 입력\n",
      "b키 입력\n",
      "b키 입력\n"
     ]
    }
   ],
   "source": [
    "while True:\n",
    "    key = cv2.waitKeyEx(100)  # 100ms동안 키 이벤트 대기\n",
    "    if key == 27:break\n",
    "    try:\n",
    "        result = switch_case[key]\n",
    "        print(result)\n",
    "    except Exception as e:\n",
    "        result = -1\n",
    "cv2.destroyAllWindows()   # 모든 윈도우 제거        "
   ]
  },
  {
   "cell_type": "code",
   "execution_count": null,
   "id": "75cdac74",
   "metadata": {},
   "outputs": [],
   "source": []
  },
  {
   "cell_type": "code",
   "execution_count": null,
   "id": "eb38d342",
   "metadata": {},
   "outputs": [],
   "source": []
  }
 ],
 "metadata": {
  "kernelspec": {
   "display_name": "Python 3 (ipykernel)",
   "language": "python",
   "name": "python3"
  },
  "language_info": {
   "codemirror_mode": {
    "name": "ipython",
    "version": 3
   },
   "file_extension": ".py",
   "mimetype": "text/x-python",
   "name": "python",
   "nbconvert_exporter": "python",
   "pygments_lexer": "ipython3",
   "version": "3.7.0"
  }
 },
 "nbformat": 4,
 "nbformat_minor": 5
}

{
 "cells": [
  {
   "cell_type": "code",
   "execution_count": 189,
   "id": "5d88fa56",
   "metadata": {},
   "outputs": [],
   "source": [
    "# 인공지능 > 기계학습 > 신경망 > 딥러닝"
   ]
  },
  {
   "cell_type": "code",
   "execution_count": 190,
   "id": "9e9d7ca7",
   "metadata": {},
   "outputs": [],
   "source": [
    "# 머신러닝 - 데이터 - iris 시작"
   ]
  },
  {
   "cell_type": "code",
   "execution_count": 191,
   "id": "8e5b5a2d",
   "metadata": {},
   "outputs": [],
   "source": [
    "from sklearn import datasets"
   ]
  },
  {
   "cell_type": "code",
   "execution_count": 192,
   "id": "4807ee32",
   "metadata": {},
   "outputs": [],
   "source": [
    "d =  datasets.load_iris()"
   ]
  },
  {
   "cell_type": "code",
   "execution_count": 193,
   "id": "4a22c742",
   "metadata": {},
   "outputs": [
    {
     "name": "stdout",
     "output_type": "stream",
     "text": [
      ".. _iris_dataset:\n",
      "\n",
      "Iris plants dataset\n",
      "--------------------\n",
      "\n",
      "**Data Set Characteristics:**\n",
      "\n",
      "    :Number of Instances: 150 (50 in each of three classes)\n",
      "    :Number of Attributes: 4 numeric, predictive attributes and the class\n",
      "    :Attribute Information:\n",
      "        - sepal length in cm\n",
      "        - sepal width in cm\n",
      "        - petal length in cm\n",
      "        - petal width in cm\n",
      "        - class:\n",
      "                - Iris-Setosa\n",
      "                - Iris-Versicolour\n",
      "                - Iris-Virginica\n",
      "                \n",
      "    :Summary Statistics:\n",
      "\n",
      "    ============== ==== ==== ======= ===== ====================\n",
      "                    Min  Max   Mean    SD   Class Correlation\n",
      "    ============== ==== ==== ======= ===== ====================\n",
      "    sepal length:   4.3  7.9   5.84   0.83    0.7826\n",
      "    sepal width:    2.0  4.4   3.05   0.43   -0.4194\n",
      "    petal length:   1.0  6.9   3.76   1.76    0.9490  (high!)\n",
      "    petal width:    0.1  2.5   1.20   0.76    0.9565  (high!)\n",
      "    ============== ==== ==== ======= ===== ====================\n",
      "\n",
      "    :Missing Attribute Values: None\n",
      "    :Class Distribution: 33.3% for each of 3 classes.\n",
      "    :Creator: R.A. Fisher\n",
      "    :Donor: Michael Marshall (MARSHALL%PLU@io.arc.nasa.gov)\n",
      "    :Date: July, 1988\n",
      "\n",
      "The famous Iris database, first used by Sir R.A. Fisher. The dataset is taken\n",
      "from Fisher's paper. Note that it's the same as in R, but not as in the UCI\n",
      "Machine Learning Repository, which has two wrong data points.\n",
      "\n",
      "This is perhaps the best known database to be found in the\n",
      "pattern recognition literature.  Fisher's paper is a classic in the field and\n",
      "is referenced frequently to this day.  (See Duda & Hart, for example.)  The\n",
      "data set contains 3 classes of 50 instances each, where each class refers to a\n",
      "type of iris plant.  One class is linearly separable from the other 2; the\n",
      "latter are NOT linearly separable from each other.\n",
      "\n",
      ".. topic:: References\n",
      "\n",
      "   - Fisher, R.A. \"The use of multiple measurements in taxonomic problems\"\n",
      "     Annual Eugenics, 7, Part II, 179-188 (1936); also in \"Contributions to\n",
      "     Mathematical Statistics\" (John Wiley, NY, 1950).\n",
      "   - Duda, R.O., & Hart, P.E. (1973) Pattern Classification and Scene Analysis.\n",
      "     (Q327.D83) John Wiley & Sons.  ISBN 0-471-22361-1.  See page 218.\n",
      "   - Dasarathy, B.V. (1980) \"Nosing Around the Neighborhood: A New System\n",
      "     Structure and Classification Rule for Recognition in Partially Exposed\n",
      "     Environments\".  IEEE Transactions on Pattern Analysis and Machine\n",
      "     Intelligence, Vol. PAMI-2, No. 1, 67-71.\n",
      "   - Gates, G.W. (1972) \"The Reduced Nearest Neighbor Rule\".  IEEE Transactions\n",
      "     on Information Theory, May 1972, 431-433.\n",
      "   - See also: 1988 MLC Proceedings, 54-64.  Cheeseman et al\"s AUTOCLASS II\n",
      "     conceptual clustering system finds 3 classes in the data.\n",
      "   - Many, many more ...\n"
     ]
    }
   ],
   "source": [
    "print(d.DESCR)"
   ]
  },
  {
   "cell_type": "code",
   "execution_count": 194,
   "id": "8b443124",
   "metadata": {},
   "outputs": [
    {
     "name": "stdout",
     "output_type": "stream",
     "text": [
      "1 [5.1 3.5 1.4 0.2] 0\n",
      "2 [4.9 3.  1.4 0.2] 0\n",
      "3 [4.7 3.2 1.3 0.2] 0\n",
      "4 [4.6 3.1 1.5 0.2] 0\n",
      "5 [5.  3.6 1.4 0.2] 0\n",
      "6 [5.4 3.9 1.7 0.4] 0\n",
      "7 [4.6 3.4 1.4 0.3] 0\n",
      "8 [5.  3.4 1.5 0.2] 0\n",
      "9 [4.4 2.9 1.4 0.2] 0\n",
      "10 [4.9 3.1 1.5 0.1] 0\n",
      "11 [5.4 3.7 1.5 0.2] 0\n",
      "12 [4.8 3.4 1.6 0.2] 0\n",
      "13 [4.8 3.  1.4 0.1] 0\n",
      "14 [4.3 3.  1.1 0.1] 0\n",
      "15 [5.8 4.  1.2 0.2] 0\n",
      "16 [5.7 4.4 1.5 0.4] 0\n",
      "17 [5.4 3.9 1.3 0.4] 0\n",
      "18 [5.1 3.5 1.4 0.3] 0\n",
      "19 [5.7 3.8 1.7 0.3] 0\n",
      "20 [5.1 3.8 1.5 0.3] 0\n",
      "21 [5.4 3.4 1.7 0.2] 0\n",
      "22 [5.1 3.7 1.5 0.4] 0\n",
      "23 [4.6 3.6 1.  0.2] 0\n",
      "24 [5.1 3.3 1.7 0.5] 0\n",
      "25 [4.8 3.4 1.9 0.2] 0\n",
      "26 [5.  3.  1.6 0.2] 0\n",
      "27 [5.  3.4 1.6 0.4] 0\n",
      "28 [5.2 3.5 1.5 0.2] 0\n",
      "29 [5.2 3.4 1.4 0.2] 0\n",
      "30 [4.7 3.2 1.6 0.2] 0\n",
      "31 [4.8 3.1 1.6 0.2] 0\n",
      "32 [5.4 3.4 1.5 0.4] 0\n",
      "33 [5.2 4.1 1.5 0.1] 0\n",
      "34 [5.5 4.2 1.4 0.2] 0\n",
      "35 [4.9 3.1 1.5 0.2] 0\n",
      "36 [5.  3.2 1.2 0.2] 0\n",
      "37 [5.5 3.5 1.3 0.2] 0\n",
      "38 [4.9 3.6 1.4 0.1] 0\n",
      "39 [4.4 3.  1.3 0.2] 0\n",
      "40 [5.1 3.4 1.5 0.2] 0\n",
      "41 [5.  3.5 1.3 0.3] 0\n",
      "42 [4.5 2.3 1.3 0.3] 0\n",
      "43 [4.4 3.2 1.3 0.2] 0\n",
      "44 [5.  3.5 1.6 0.6] 0\n",
      "45 [5.1 3.8 1.9 0.4] 0\n",
      "46 [4.8 3.  1.4 0.3] 0\n",
      "47 [5.1 3.8 1.6 0.2] 0\n",
      "48 [4.6 3.2 1.4 0.2] 0\n",
      "49 [5.3 3.7 1.5 0.2] 0\n",
      "50 [5.  3.3 1.4 0.2] 0\n",
      "51 [7.  3.2 4.7 1.4] 1\n",
      "52 [6.4 3.2 4.5 1.5] 1\n",
      "53 [6.9 3.1 4.9 1.5] 1\n",
      "54 [5.5 2.3 4.  1.3] 1\n",
      "55 [6.5 2.8 4.6 1.5] 1\n",
      "56 [5.7 2.8 4.5 1.3] 1\n",
      "57 [6.3 3.3 4.7 1.6] 1\n",
      "58 [4.9 2.4 3.3 1. ] 1\n",
      "59 [6.6 2.9 4.6 1.3] 1\n",
      "60 [5.2 2.7 3.9 1.4] 1\n",
      "61 [5.  2.  3.5 1. ] 1\n",
      "62 [5.9 3.  4.2 1.5] 1\n",
      "63 [6.  2.2 4.  1. ] 1\n",
      "64 [6.1 2.9 4.7 1.4] 1\n",
      "65 [5.6 2.9 3.6 1.3] 1\n",
      "66 [6.7 3.1 4.4 1.4] 1\n",
      "67 [5.6 3.  4.5 1.5] 1\n",
      "68 [5.8 2.7 4.1 1. ] 1\n",
      "69 [6.2 2.2 4.5 1.5] 1\n",
      "70 [5.6 2.5 3.9 1.1] 1\n",
      "71 [5.9 3.2 4.8 1.8] 1\n",
      "72 [6.1 2.8 4.  1.3] 1\n",
      "73 [6.3 2.5 4.9 1.5] 1\n",
      "74 [6.1 2.8 4.7 1.2] 1\n",
      "75 [6.4 2.9 4.3 1.3] 1\n",
      "76 [6.6 3.  4.4 1.4] 1\n",
      "77 [6.8 2.8 4.8 1.4] 1\n",
      "78 [6.7 3.  5.  1.7] 1\n",
      "79 [6.  2.9 4.5 1.5] 1\n",
      "80 [5.7 2.6 3.5 1. ] 1\n",
      "81 [5.5 2.4 3.8 1.1] 1\n",
      "82 [5.5 2.4 3.7 1. ] 1\n",
      "83 [5.8 2.7 3.9 1.2] 1\n",
      "84 [6.  2.7 5.1 1.6] 1\n",
      "85 [5.4 3.  4.5 1.5] 1\n",
      "86 [6.  3.4 4.5 1.6] 1\n",
      "87 [6.7 3.1 4.7 1.5] 1\n",
      "88 [6.3 2.3 4.4 1.3] 1\n",
      "89 [5.6 3.  4.1 1.3] 1\n",
      "90 [5.5 2.5 4.  1.3] 1\n",
      "91 [5.5 2.6 4.4 1.2] 1\n",
      "92 [6.1 3.  4.6 1.4] 1\n",
      "93 [5.8 2.6 4.  1.2] 1\n",
      "94 [5.  2.3 3.3 1. ] 1\n",
      "95 [5.6 2.7 4.2 1.3] 1\n",
      "96 [5.7 3.  4.2 1.2] 1\n",
      "97 [5.7 2.9 4.2 1.3] 1\n",
      "98 [6.2 2.9 4.3 1.3] 1\n",
      "99 [5.1 2.5 3.  1.1] 1\n",
      "100 [5.7 2.8 4.1 1.3] 1\n",
      "101 [6.3 3.3 6.  2.5] 2\n",
      "102 [5.8 2.7 5.1 1.9] 2\n",
      "103 [7.1 3.  5.9 2.1] 2\n",
      "104 [6.3 2.9 5.6 1.8] 2\n",
      "105 [6.5 3.  5.8 2.2] 2\n",
      "106 [7.6 3.  6.6 2.1] 2\n",
      "107 [4.9 2.5 4.5 1.7] 2\n",
      "108 [7.3 2.9 6.3 1.8] 2\n",
      "109 [6.7 2.5 5.8 1.8] 2\n",
      "110 [7.2 3.6 6.1 2.5] 2\n",
      "111 [6.5 3.2 5.1 2. ] 2\n",
      "112 [6.4 2.7 5.3 1.9] 2\n",
      "113 [6.8 3.  5.5 2.1] 2\n",
      "114 [5.7 2.5 5.  2. ] 2\n",
      "115 [5.8 2.8 5.1 2.4] 2\n",
      "116 [6.4 3.2 5.3 2.3] 2\n",
      "117 [6.5 3.  5.5 1.8] 2\n",
      "118 [7.7 3.8 6.7 2.2] 2\n",
      "119 [7.7 2.6 6.9 2.3] 2\n",
      "120 [6.  2.2 5.  1.5] 2\n",
      "121 [6.9 3.2 5.7 2.3] 2\n",
      "122 [5.6 2.8 4.9 2. ] 2\n",
      "123 [7.7 2.8 6.7 2. ] 2\n",
      "124 [6.3 2.7 4.9 1.8] 2\n",
      "125 [6.7 3.3 5.7 2.1] 2\n",
      "126 [7.2 3.2 6.  1.8] 2\n",
      "127 [6.2 2.8 4.8 1.8] 2\n",
      "128 [6.1 3.  4.9 1.8] 2\n",
      "129 [6.4 2.8 5.6 2.1] 2\n",
      "130 [7.2 3.  5.8 1.6] 2\n",
      "131 [7.4 2.8 6.1 1.9] 2\n",
      "132 [7.9 3.8 6.4 2. ] 2\n",
      "133 [6.4 2.8 5.6 2.2] 2\n",
      "134 [6.3 2.8 5.1 1.5] 2\n",
      "135 [6.1 2.6 5.6 1.4] 2\n",
      "136 [7.7 3.  6.1 2.3] 2\n",
      "137 [6.3 3.4 5.6 2.4] 2\n",
      "138 [6.4 3.1 5.5 1.8] 2\n",
      "139 [6.  3.  4.8 1.8] 2\n",
      "140 [6.9 3.1 5.4 2.1] 2\n",
      "141 [6.7 3.1 5.6 2.4] 2\n",
      "142 [6.9 3.1 5.1 2.3] 2\n",
      "143 [5.8 2.7 5.1 1.9] 2\n",
      "144 [6.8 3.2 5.9 2.3] 2\n",
      "145 [6.7 3.3 5.7 2.5] 2\n",
      "146 [6.7 3.  5.2 2.3] 2\n",
      "147 [6.3 2.5 5.  1.9] 2\n",
      "148 [6.5 3.  5.2 2. ] 2\n",
      "149 [6.2 3.4 5.4 2.3] 2\n",
      "150 [5.9 3.  5.1 1.8] 2\n"
     ]
    }
   ],
   "source": [
    "# 샘플을 순서대로 출력\n",
    "for i in range(0,len(d.data)):\n",
    "    print(i+1, d.data[i],d.target[i])"
   ]
  },
  {
   "cell_type": "code",
   "execution_count": 195,
   "id": "e3c4696b",
   "metadata": {},
   "outputs": [],
   "source": [
    "# 특징벡터 : x = (x1, x2 ,,,,)\n",
    "# 레이블  0 1 2 ,,,,,\n",
    "# 원핫 : 한 요소만 1인 이진열\n",
    "# 100  010  001\n"
   ]
  },
  {
   "cell_type": "code",
   "execution_count": 196,
   "id": "a7d9ae21",
   "metadata": {},
   "outputs": [],
   "source": [
    "# SVM (Supprt Vector Machine)  - base model - 분류 모델\n",
    "from sklearn import svm\n",
    "s = svm.SVC(probability = True)"
   ]
  },
  {
   "cell_type": "code",
   "execution_count": 197,
   "id": "0b4cbaa3",
   "metadata": {},
   "outputs": [],
   "source": [
    "# 머신러닝(기계학습)  : 1. 모델선택  2. 학습(하이퍼 파라메터)  3. 평가  4.예측 및 적용(현장설치)"
   ]
  },
  {
   "cell_type": "code",
   "execution_count": 198,
   "id": "69876ee9",
   "metadata": {},
   "outputs": [
    {
     "data": {
      "text/html": [
       "<style>#sk-container-id-14 {color: black;background-color: white;}#sk-container-id-14 pre{padding: 0;}#sk-container-id-14 div.sk-toggleable {background-color: white;}#sk-container-id-14 label.sk-toggleable__label {cursor: pointer;display: block;width: 100%;margin-bottom: 0;padding: 0.3em;box-sizing: border-box;text-align: center;}#sk-container-id-14 label.sk-toggleable__label-arrow:before {content: \"▸\";float: left;margin-right: 0.25em;color: #696969;}#sk-container-id-14 label.sk-toggleable__label-arrow:hover:before {color: black;}#sk-container-id-14 div.sk-estimator:hover label.sk-toggleable__label-arrow:before {color: black;}#sk-container-id-14 div.sk-toggleable__content {max-height: 0;max-width: 0;overflow: hidden;text-align: left;background-color: #f0f8ff;}#sk-container-id-14 div.sk-toggleable__content pre {margin: 0.2em;color: black;border-radius: 0.25em;background-color: #f0f8ff;}#sk-container-id-14 input.sk-toggleable__control:checked~div.sk-toggleable__content {max-height: 200px;max-width: 100%;overflow: auto;}#sk-container-id-14 input.sk-toggleable__control:checked~label.sk-toggleable__label-arrow:before {content: \"▾\";}#sk-container-id-14 div.sk-estimator input.sk-toggleable__control:checked~label.sk-toggleable__label {background-color: #d4ebff;}#sk-container-id-14 div.sk-label input.sk-toggleable__control:checked~label.sk-toggleable__label {background-color: #d4ebff;}#sk-container-id-14 input.sk-hidden--visually {border: 0;clip: rect(1px 1px 1px 1px);clip: rect(1px, 1px, 1px, 1px);height: 1px;margin: -1px;overflow: hidden;padding: 0;position: absolute;width: 1px;}#sk-container-id-14 div.sk-estimator {font-family: monospace;background-color: #f0f8ff;border: 1px dotted black;border-radius: 0.25em;box-sizing: border-box;margin-bottom: 0.5em;}#sk-container-id-14 div.sk-estimator:hover {background-color: #d4ebff;}#sk-container-id-14 div.sk-parallel-item::after {content: \"\";width: 100%;border-bottom: 1px solid gray;flex-grow: 1;}#sk-container-id-14 div.sk-label:hover label.sk-toggleable__label {background-color: #d4ebff;}#sk-container-id-14 div.sk-serial::before {content: \"\";position: absolute;border-left: 1px solid gray;box-sizing: border-box;top: 0;bottom: 0;left: 50%;z-index: 0;}#sk-container-id-14 div.sk-serial {display: flex;flex-direction: column;align-items: center;background-color: white;padding-right: 0.2em;padding-left: 0.2em;position: relative;}#sk-container-id-14 div.sk-item {position: relative;z-index: 1;}#sk-container-id-14 div.sk-parallel {display: flex;align-items: stretch;justify-content: center;background-color: white;position: relative;}#sk-container-id-14 div.sk-item::before, #sk-container-id-14 div.sk-parallel-item::before {content: \"\";position: absolute;border-left: 1px solid gray;box-sizing: border-box;top: 0;bottom: 0;left: 50%;z-index: -1;}#sk-container-id-14 div.sk-parallel-item {display: flex;flex-direction: column;z-index: 1;position: relative;background-color: white;}#sk-container-id-14 div.sk-parallel-item:first-child::after {align-self: flex-end;width: 50%;}#sk-container-id-14 div.sk-parallel-item:last-child::after {align-self: flex-start;width: 50%;}#sk-container-id-14 div.sk-parallel-item:only-child::after {width: 0;}#sk-container-id-14 div.sk-dashed-wrapped {border: 1px dashed gray;margin: 0 0.4em 0.5em 0.4em;box-sizing: border-box;padding-bottom: 0.4em;background-color: white;}#sk-container-id-14 div.sk-label label {font-family: monospace;font-weight: bold;display: inline-block;line-height: 1.2em;}#sk-container-id-14 div.sk-label-container {text-align: center;}#sk-container-id-14 div.sk-container {/* jupyter's `normalize.less` sets `[hidden] { display: none; }` but bootstrap.min.css set `[hidden] { display: none !important; }` so we also need the `!important` here to be able to override the default hidden behavior on the sphinx rendered scikit-learn.org. See: https://github.com/scikit-learn/scikit-learn/issues/21755 */display: inline-block !important;position: relative;}#sk-container-id-14 div.sk-text-repr-fallback {display: none;}</style><div id=\"sk-container-id-14\" class=\"sk-top-container\"><div class=\"sk-text-repr-fallback\"><pre>SVC(probability=True)</pre><b>In a Jupyter environment, please rerun this cell to show the HTML representation or trust the notebook. <br />On GitHub, the HTML representation is unable to render, please try loading this page with nbviewer.org.</b></div><div class=\"sk-container\" hidden><div class=\"sk-item\"><div class=\"sk-estimator sk-toggleable\"><input class=\"sk-toggleable__control sk-hidden--visually\" id=\"sk-estimator-id-18\" type=\"checkbox\" checked><label for=\"sk-estimator-id-18\" class=\"sk-toggleable__label sk-toggleable__label-arrow\">SVC</label><div class=\"sk-toggleable__content\"><pre>SVC(probability=True)</pre></div></div></div></div></div>"
      ],
      "text/plain": [
       "SVC(probability=True)"
      ]
     },
     "execution_count": 198,
     "metadata": {},
     "output_type": "execute_result"
    }
   ],
   "source": [
    "s.fit(d.data, d.target)"
   ]
  },
  {
   "cell_type": "code",
   "execution_count": 199,
   "id": "c77257b2",
   "metadata": {},
   "outputs": [],
   "source": [
    "# 샘플을 변형해서 새로운 데이터 생성\n",
    "new_d = [[6.4,3.2,6.0,2.5],[7.1,3.1,4.7,1.35]]"
   ]
  },
  {
   "cell_type": "code",
   "execution_count": 200,
   "id": "c8009d9a",
   "metadata": {},
   "outputs": [
    {
     "data": {
      "text/plain": [
       "array([2, 1])"
      ]
     },
     "execution_count": 200,
     "metadata": {},
     "output_type": "execute_result"
    }
   ],
   "source": [
    "# 예측\n",
    "s.predict(new_d)"
   ]
  },
  {
   "cell_type": "code",
   "execution_count": 201,
   "id": "f55e8487",
   "metadata": {},
   "outputs": [
    {
     "data": {
      "text/plain": [
       "array([[6.20425453e-03, 5.67345249e-04, 9.93228400e-01],\n",
       "       [9.37389135e-03, 9.08687989e-01, 8.19381199e-02]])"
      ]
     },
     "execution_count": 201,
     "metadata": {},
     "output_type": "execute_result"
    }
   ],
   "source": [
    "# 확률 비교\n",
    "s.predict_proba(new_d)"
   ]
  },
  {
   "cell_type": "code",
   "execution_count": 202,
   "id": "48fdf65f",
   "metadata": {},
   "outputs": [],
   "source": [
    "# 훈련 / 테스트 집합\n",
    "# 훈련집합 : 학습용데이터 특징벡터, 레이블 정보를 모두 제공\n",
    "# 테스트집합 : 성능측정 특징정보만 제공, 예측결과를 가지고 정확률을 측정할때 레이블 정보 사용"
   ]
  },
  {
   "cell_type": "code",
   "execution_count": 203,
   "id": "4a157fdf",
   "metadata": {},
   "outputs": [],
   "source": [
    "# 하이퍼매개변수 : 모델의 동작을 제어하는데 사용, 학습하기전에 설정\n",
    "# 하이퍼매개변수 최적화 : 자동설정 - GridSearchCV"
   ]
  },
  {
   "cell_type": "code",
   "execution_count": 204,
   "id": "1fd05e4f",
   "metadata": {},
   "outputs": [],
   "source": [
    "# 데이터 편향 "
   ]
  },
  {
   "cell_type": "code",
   "execution_count": 205,
   "id": "2a6d3045",
   "metadata": {},
   "outputs": [],
   "source": [
    "# 규칙기반 vs 고전적 기계학습 vs 딥러닝\n",
    "# 규칙기반  : 분류의 규칙을 사람이 구현"
   ]
  },
  {
   "cell_type": "code",
   "execution_count": 206,
   "id": "8717bb27",
   "metadata": {},
   "outputs": [],
   "source": [
    "# 기계학습 : 특징벡터를 추출, 레이블을 붙이는 과정은 규칙기반과 동일, 규칙-> 모델이만듦"
   ]
  },
  {
   "cell_type": "code",
   "execution_count": 207,
   "id": "e0e80163",
   "metadata": {},
   "outputs": [],
   "source": [
    "# 딥러닝 : 레이블을 붙이는 방법은 규칙기반과 동일\n",
    "# 특징벡터를 추출은 학습을 통해 자동으로 알아냄, 특징학습(Feature learning), 표현학습(representation learning)\n",
    "# 장점 : 특징추출, 분류를 동시에 최적화 - >뛰어난 성능보장"
   ]
  },
  {
   "cell_type": "code",
   "execution_count": 208,
   "id": "2aee63f3",
   "metadata": {},
   "outputs": [
    {
     "name": "stdout",
     "output_type": "stream",
     "text": [
      "Requirement already satisfied: plotly in c:\\users\\user\\miniconda3\\lib\\site-packages (5.11.0)\n",
      "Requirement already satisfied: tenacity>=6.2.0 in c:\\users\\user\\miniconda3\\lib\\site-packages (from plotly) (8.1.0)\n",
      "Note: you may need to restart the kernel to use updated packages.\n"
     ]
    }
   ],
   "source": [
    "pip install plotly"
   ]
  },
  {
   "cell_type": "code",
   "execution_count": 209,
   "id": "4eda12de",
   "metadata": {},
   "outputs": [],
   "source": [
    "import plotly.express as px"
   ]
  },
  {
   "cell_type": "code",
   "execution_count": 210,
   "id": "a03113ea",
   "metadata": {},
   "outputs": [
    {
     "data": {
      "application/vnd.plotly.v1+json": {
       "config": {
        "plotlyServerURL": "https://plot.ly"
       },
       "data": [
        {
         "hovertemplate": "species=setosa<br>sepal_length=%{x}<br>sepal_width=%{y}<br>petal_width=%{z}<extra></extra>",
         "legendgroup": "setosa",
         "marker": {
          "color": "#636efa",
          "symbol": "circle"
         },
         "mode": "markers",
         "name": "setosa",
         "scene": "scene",
         "showlegend": true,
         "type": "scatter3d",
         "x": [
          5.1,
          4.9,
          4.7,
          4.6,
          5,
          5.4,
          4.6,
          5,
          4.4,
          4.9,
          5.4,
          4.8,
          4.8,
          4.3,
          5.8,
          5.7,
          5.4,
          5.1,
          5.7,
          5.1,
          5.4,
          5.1,
          4.6,
          5.1,
          4.8,
          5,
          5,
          5.2,
          5.2,
          4.7,
          4.8,
          5.4,
          5.2,
          5.5,
          4.9,
          5,
          5.5,
          4.9,
          4.4,
          5.1,
          5,
          4.5,
          4.4,
          5,
          5.1,
          4.8,
          5.1,
          4.6,
          5.3,
          5
         ],
         "y": [
          3.5,
          3,
          3.2,
          3.1,
          3.6,
          3.9,
          3.4,
          3.4,
          2.9,
          3.1,
          3.7,
          3.4,
          3,
          3,
          4,
          4.4,
          3.9,
          3.5,
          3.8,
          3.8,
          3.4,
          3.7,
          3.6,
          3.3,
          3.4,
          3,
          3.4,
          3.5,
          3.4,
          3.2,
          3.1,
          3.4,
          4.1,
          4.2,
          3.1,
          3.2,
          3.5,
          3.1,
          3,
          3.4,
          3.5,
          2.3,
          3.2,
          3.5,
          3.8,
          3,
          3.8,
          3.2,
          3.7,
          3.3
         ],
         "z": [
          0.2,
          0.2,
          0.2,
          0.2,
          0.2,
          0.4,
          0.3,
          0.2,
          0.2,
          0.1,
          0.2,
          0.2,
          0.1,
          0.1,
          0.2,
          0.4,
          0.4,
          0.3,
          0.3,
          0.3,
          0.2,
          0.4,
          0.2,
          0.5,
          0.2,
          0.2,
          0.4,
          0.2,
          0.2,
          0.2,
          0.2,
          0.4,
          0.1,
          0.2,
          0.1,
          0.2,
          0.2,
          0.1,
          0.2,
          0.2,
          0.3,
          0.3,
          0.2,
          0.6,
          0.4,
          0.3,
          0.2,
          0.2,
          0.2,
          0.2
         ]
        },
        {
         "hovertemplate": "species=versicolor<br>sepal_length=%{x}<br>sepal_width=%{y}<br>petal_width=%{z}<extra></extra>",
         "legendgroup": "versicolor",
         "marker": {
          "color": "#EF553B",
          "symbol": "circle"
         },
         "mode": "markers",
         "name": "versicolor",
         "scene": "scene",
         "showlegend": true,
         "type": "scatter3d",
         "x": [
          7,
          6.4,
          6.9,
          5.5,
          6.5,
          5.7,
          6.3,
          4.9,
          6.6,
          5.2,
          5,
          5.9,
          6,
          6.1,
          5.6,
          6.7,
          5.6,
          5.8,
          6.2,
          5.6,
          5.9,
          6.1,
          6.3,
          6.1,
          6.4,
          6.6,
          6.8,
          6.7,
          6,
          5.7,
          5.5,
          5.5,
          5.8,
          6,
          5.4,
          6,
          6.7,
          6.3,
          5.6,
          5.5,
          5.5,
          6.1,
          5.8,
          5,
          5.6,
          5.7,
          5.7,
          6.2,
          5.1,
          5.7
         ],
         "y": [
          3.2,
          3.2,
          3.1,
          2.3,
          2.8,
          2.8,
          3.3,
          2.4,
          2.9,
          2.7,
          2,
          3,
          2.2,
          2.9,
          2.9,
          3.1,
          3,
          2.7,
          2.2,
          2.5,
          3.2,
          2.8,
          2.5,
          2.8,
          2.9,
          3,
          2.8,
          3,
          2.9,
          2.6,
          2.4,
          2.4,
          2.7,
          2.7,
          3,
          3.4,
          3.1,
          2.3,
          3,
          2.5,
          2.6,
          3,
          2.6,
          2.3,
          2.7,
          3,
          2.9,
          2.9,
          2.5,
          2.8
         ],
         "z": [
          1.4,
          1.5,
          1.5,
          1.3,
          1.5,
          1.3,
          1.6,
          1,
          1.3,
          1.4,
          1,
          1.5,
          1,
          1.4,
          1.3,
          1.4,
          1.5,
          1,
          1.5,
          1.1,
          1.8,
          1.3,
          1.5,
          1.2,
          1.3,
          1.4,
          1.4,
          1.7,
          1.5,
          1,
          1.1,
          1,
          1.2,
          1.6,
          1.5,
          1.6,
          1.5,
          1.3,
          1.3,
          1.3,
          1.2,
          1.4,
          1.2,
          1,
          1.3,
          1.2,
          1.3,
          1.3,
          1.1,
          1.3
         ]
        },
        {
         "hovertemplate": "species=virginica<br>sepal_length=%{x}<br>sepal_width=%{y}<br>petal_width=%{z}<extra></extra>",
         "legendgroup": "virginica",
         "marker": {
          "color": "#00cc96",
          "symbol": "circle"
         },
         "mode": "markers",
         "name": "virginica",
         "scene": "scene",
         "showlegend": true,
         "type": "scatter3d",
         "x": [
          6.3,
          5.8,
          7.1,
          6.3,
          6.5,
          7.6,
          4.9,
          7.3,
          6.7,
          7.2,
          6.5,
          6.4,
          6.8,
          5.7,
          5.8,
          6.4,
          6.5,
          7.7,
          7.7,
          6,
          6.9,
          5.6,
          7.7,
          6.3,
          6.7,
          7.2,
          6.2,
          6.1,
          6.4,
          7.2,
          7.4,
          7.9,
          6.4,
          6.3,
          6.1,
          7.7,
          6.3,
          6.4,
          6,
          6.9,
          6.7,
          6.9,
          5.8,
          6.8,
          6.7,
          6.7,
          6.3,
          6.5,
          6.2,
          5.9
         ],
         "y": [
          3.3,
          2.7,
          3,
          2.9,
          3,
          3,
          2.5,
          2.9,
          2.5,
          3.6,
          3.2,
          2.7,
          3,
          2.5,
          2.8,
          3.2,
          3,
          3.8,
          2.6,
          2.2,
          3.2,
          2.8,
          2.8,
          2.7,
          3.3,
          3.2,
          2.8,
          3,
          2.8,
          3,
          2.8,
          3.8,
          2.8,
          2.8,
          2.6,
          3,
          3.4,
          3.1,
          3,
          3.1,
          3.1,
          3.1,
          2.7,
          3.2,
          3.3,
          3,
          2.5,
          3,
          3.4,
          3
         ],
         "z": [
          2.5,
          1.9,
          2.1,
          1.8,
          2.2,
          2.1,
          1.7,
          1.8,
          1.8,
          2.5,
          2,
          1.9,
          2.1,
          2,
          2.4,
          2.3,
          1.8,
          2.2,
          2.3,
          1.5,
          2.3,
          2,
          2,
          1.8,
          2.1,
          1.8,
          1.8,
          1.8,
          2.1,
          1.6,
          1.9,
          2,
          2.2,
          1.5,
          1.4,
          2.3,
          2.4,
          1.8,
          1.8,
          2.1,
          2.4,
          2.3,
          1.9,
          2.3,
          2.5,
          2.3,
          1.9,
          2,
          2.3,
          1.8
         ]
        }
       ],
       "layout": {
        "legend": {
         "title": {
          "text": "species"
         },
         "tracegroupgap": 0
        },
        "margin": {
         "t": 60
        },
        "scene": {
         "domain": {
          "x": [
           0,
           1
          ],
          "y": [
           0,
           1
          ]
         },
         "xaxis": {
          "title": {
           "text": "sepal_length"
          }
         },
         "yaxis": {
          "title": {
           "text": "sepal_width"
          }
         },
         "zaxis": {
          "title": {
           "text": "petal_width"
          }
         }
        },
        "template": {
         "data": {
          "bar": [
           {
            "error_x": {
             "color": "#2a3f5f"
            },
            "error_y": {
             "color": "#2a3f5f"
            },
            "marker": {
             "line": {
              "color": "#E5ECF6",
              "width": 0.5
             },
             "pattern": {
              "fillmode": "overlay",
              "size": 10,
              "solidity": 0.2
             }
            },
            "type": "bar"
           }
          ],
          "barpolar": [
           {
            "marker": {
             "line": {
              "color": "#E5ECF6",
              "width": 0.5
             },
             "pattern": {
              "fillmode": "overlay",
              "size": 10,
              "solidity": 0.2
             }
            },
            "type": "barpolar"
           }
          ],
          "carpet": [
           {
            "aaxis": {
             "endlinecolor": "#2a3f5f",
             "gridcolor": "white",
             "linecolor": "white",
             "minorgridcolor": "white",
             "startlinecolor": "#2a3f5f"
            },
            "baxis": {
             "endlinecolor": "#2a3f5f",
             "gridcolor": "white",
             "linecolor": "white",
             "minorgridcolor": "white",
             "startlinecolor": "#2a3f5f"
            },
            "type": "carpet"
           }
          ],
          "choropleth": [
           {
            "colorbar": {
             "outlinewidth": 0,
             "ticks": ""
            },
            "type": "choropleth"
           }
          ],
          "contour": [
           {
            "colorbar": {
             "outlinewidth": 0,
             "ticks": ""
            },
            "colorscale": [
             [
              0,
              "#0d0887"
             ],
             [
              0.1111111111111111,
              "#46039f"
             ],
             [
              0.2222222222222222,
              "#7201a8"
             ],
             [
              0.3333333333333333,
              "#9c179e"
             ],
             [
              0.4444444444444444,
              "#bd3786"
             ],
             [
              0.5555555555555556,
              "#d8576b"
             ],
             [
              0.6666666666666666,
              "#ed7953"
             ],
             [
              0.7777777777777778,
              "#fb9f3a"
             ],
             [
              0.8888888888888888,
              "#fdca26"
             ],
             [
              1,
              "#f0f921"
             ]
            ],
            "type": "contour"
           }
          ],
          "contourcarpet": [
           {
            "colorbar": {
             "outlinewidth": 0,
             "ticks": ""
            },
            "type": "contourcarpet"
           }
          ],
          "heatmap": [
           {
            "colorbar": {
             "outlinewidth": 0,
             "ticks": ""
            },
            "colorscale": [
             [
              0,
              "#0d0887"
             ],
             [
              0.1111111111111111,
              "#46039f"
             ],
             [
              0.2222222222222222,
              "#7201a8"
             ],
             [
              0.3333333333333333,
              "#9c179e"
             ],
             [
              0.4444444444444444,
              "#bd3786"
             ],
             [
              0.5555555555555556,
              "#d8576b"
             ],
             [
              0.6666666666666666,
              "#ed7953"
             ],
             [
              0.7777777777777778,
              "#fb9f3a"
             ],
             [
              0.8888888888888888,
              "#fdca26"
             ],
             [
              1,
              "#f0f921"
             ]
            ],
            "type": "heatmap"
           }
          ],
          "heatmapgl": [
           {
            "colorbar": {
             "outlinewidth": 0,
             "ticks": ""
            },
            "colorscale": [
             [
              0,
              "#0d0887"
             ],
             [
              0.1111111111111111,
              "#46039f"
             ],
             [
              0.2222222222222222,
              "#7201a8"
             ],
             [
              0.3333333333333333,
              "#9c179e"
             ],
             [
              0.4444444444444444,
              "#bd3786"
             ],
             [
              0.5555555555555556,
              "#d8576b"
             ],
             [
              0.6666666666666666,
              "#ed7953"
             ],
             [
              0.7777777777777778,
              "#fb9f3a"
             ],
             [
              0.8888888888888888,
              "#fdca26"
             ],
             [
              1,
              "#f0f921"
             ]
            ],
            "type": "heatmapgl"
           }
          ],
          "histogram": [
           {
            "marker": {
             "pattern": {
              "fillmode": "overlay",
              "size": 10,
              "solidity": 0.2
             }
            },
            "type": "histogram"
           }
          ],
          "histogram2d": [
           {
            "colorbar": {
             "outlinewidth": 0,
             "ticks": ""
            },
            "colorscale": [
             [
              0,
              "#0d0887"
             ],
             [
              0.1111111111111111,
              "#46039f"
             ],
             [
              0.2222222222222222,
              "#7201a8"
             ],
             [
              0.3333333333333333,
              "#9c179e"
             ],
             [
              0.4444444444444444,
              "#bd3786"
             ],
             [
              0.5555555555555556,
              "#d8576b"
             ],
             [
              0.6666666666666666,
              "#ed7953"
             ],
             [
              0.7777777777777778,
              "#fb9f3a"
             ],
             [
              0.8888888888888888,
              "#fdca26"
             ],
             [
              1,
              "#f0f921"
             ]
            ],
            "type": "histogram2d"
           }
          ],
          "histogram2dcontour": [
           {
            "colorbar": {
             "outlinewidth": 0,
             "ticks": ""
            },
            "colorscale": [
             [
              0,
              "#0d0887"
             ],
             [
              0.1111111111111111,
              "#46039f"
             ],
             [
              0.2222222222222222,
              "#7201a8"
             ],
             [
              0.3333333333333333,
              "#9c179e"
             ],
             [
              0.4444444444444444,
              "#bd3786"
             ],
             [
              0.5555555555555556,
              "#d8576b"
             ],
             [
              0.6666666666666666,
              "#ed7953"
             ],
             [
              0.7777777777777778,
              "#fb9f3a"
             ],
             [
              0.8888888888888888,
              "#fdca26"
             ],
             [
              1,
              "#f0f921"
             ]
            ],
            "type": "histogram2dcontour"
           }
          ],
          "mesh3d": [
           {
            "colorbar": {
             "outlinewidth": 0,
             "ticks": ""
            },
            "type": "mesh3d"
           }
          ],
          "parcoords": [
           {
            "line": {
             "colorbar": {
              "outlinewidth": 0,
              "ticks": ""
             }
            },
            "type": "parcoords"
           }
          ],
          "pie": [
           {
            "automargin": true,
            "type": "pie"
           }
          ],
          "scatter": [
           {
            "fillpattern": {
             "fillmode": "overlay",
             "size": 10,
             "solidity": 0.2
            },
            "type": "scatter"
           }
          ],
          "scatter3d": [
           {
            "line": {
             "colorbar": {
              "outlinewidth": 0,
              "ticks": ""
             }
            },
            "marker": {
             "colorbar": {
              "outlinewidth": 0,
              "ticks": ""
             }
            },
            "type": "scatter3d"
           }
          ],
          "scattercarpet": [
           {
            "marker": {
             "colorbar": {
              "outlinewidth": 0,
              "ticks": ""
             }
            },
            "type": "scattercarpet"
           }
          ],
          "scattergeo": [
           {
            "marker": {
             "colorbar": {
              "outlinewidth": 0,
              "ticks": ""
             }
            },
            "type": "scattergeo"
           }
          ],
          "scattergl": [
           {
            "marker": {
             "colorbar": {
              "outlinewidth": 0,
              "ticks": ""
             }
            },
            "type": "scattergl"
           }
          ],
          "scattermapbox": [
           {
            "marker": {
             "colorbar": {
              "outlinewidth": 0,
              "ticks": ""
             }
            },
            "type": "scattermapbox"
           }
          ],
          "scatterpolar": [
           {
            "marker": {
             "colorbar": {
              "outlinewidth": 0,
              "ticks": ""
             }
            },
            "type": "scatterpolar"
           }
          ],
          "scatterpolargl": [
           {
            "marker": {
             "colorbar": {
              "outlinewidth": 0,
              "ticks": ""
             }
            },
            "type": "scatterpolargl"
           }
          ],
          "scatterternary": [
           {
            "marker": {
             "colorbar": {
              "outlinewidth": 0,
              "ticks": ""
             }
            },
            "type": "scatterternary"
           }
          ],
          "surface": [
           {
            "colorbar": {
             "outlinewidth": 0,
             "ticks": ""
            },
            "colorscale": [
             [
              0,
              "#0d0887"
             ],
             [
              0.1111111111111111,
              "#46039f"
             ],
             [
              0.2222222222222222,
              "#7201a8"
             ],
             [
              0.3333333333333333,
              "#9c179e"
             ],
             [
              0.4444444444444444,
              "#bd3786"
             ],
             [
              0.5555555555555556,
              "#d8576b"
             ],
             [
              0.6666666666666666,
              "#ed7953"
             ],
             [
              0.7777777777777778,
              "#fb9f3a"
             ],
             [
              0.8888888888888888,
              "#fdca26"
             ],
             [
              1,
              "#f0f921"
             ]
            ],
            "type": "surface"
           }
          ],
          "table": [
           {
            "cells": {
             "fill": {
              "color": "#EBF0F8"
             },
             "line": {
              "color": "white"
             }
            },
            "header": {
             "fill": {
              "color": "#C8D4E3"
             },
             "line": {
              "color": "white"
             }
            },
            "type": "table"
           }
          ]
         },
         "layout": {
          "annotationdefaults": {
           "arrowcolor": "#2a3f5f",
           "arrowhead": 0,
           "arrowwidth": 1
          },
          "autotypenumbers": "strict",
          "coloraxis": {
           "colorbar": {
            "outlinewidth": 0,
            "ticks": ""
           }
          },
          "colorscale": {
           "diverging": [
            [
             0,
             "#8e0152"
            ],
            [
             0.1,
             "#c51b7d"
            ],
            [
             0.2,
             "#de77ae"
            ],
            [
             0.3,
             "#f1b6da"
            ],
            [
             0.4,
             "#fde0ef"
            ],
            [
             0.5,
             "#f7f7f7"
            ],
            [
             0.6,
             "#e6f5d0"
            ],
            [
             0.7,
             "#b8e186"
            ],
            [
             0.8,
             "#7fbc41"
            ],
            [
             0.9,
             "#4d9221"
            ],
            [
             1,
             "#276419"
            ]
           ],
           "sequential": [
            [
             0,
             "#0d0887"
            ],
            [
             0.1111111111111111,
             "#46039f"
            ],
            [
             0.2222222222222222,
             "#7201a8"
            ],
            [
             0.3333333333333333,
             "#9c179e"
            ],
            [
             0.4444444444444444,
             "#bd3786"
            ],
            [
             0.5555555555555556,
             "#d8576b"
            ],
            [
             0.6666666666666666,
             "#ed7953"
            ],
            [
             0.7777777777777778,
             "#fb9f3a"
            ],
            [
             0.8888888888888888,
             "#fdca26"
            ],
            [
             1,
             "#f0f921"
            ]
           ],
           "sequentialminus": [
            [
             0,
             "#0d0887"
            ],
            [
             0.1111111111111111,
             "#46039f"
            ],
            [
             0.2222222222222222,
             "#7201a8"
            ],
            [
             0.3333333333333333,
             "#9c179e"
            ],
            [
             0.4444444444444444,
             "#bd3786"
            ],
            [
             0.5555555555555556,
             "#d8576b"
            ],
            [
             0.6666666666666666,
             "#ed7953"
            ],
            [
             0.7777777777777778,
             "#fb9f3a"
            ],
            [
             0.8888888888888888,
             "#fdca26"
            ],
            [
             1,
             "#f0f921"
            ]
           ]
          },
          "colorway": [
           "#636efa",
           "#EF553B",
           "#00cc96",
           "#ab63fa",
           "#FFA15A",
           "#19d3f3",
           "#FF6692",
           "#B6E880",
           "#FF97FF",
           "#FECB52"
          ],
          "font": {
           "color": "#2a3f5f"
          },
          "geo": {
           "bgcolor": "white",
           "lakecolor": "white",
           "landcolor": "#E5ECF6",
           "showlakes": true,
           "showland": true,
           "subunitcolor": "white"
          },
          "hoverlabel": {
           "align": "left"
          },
          "hovermode": "closest",
          "mapbox": {
           "style": "light"
          },
          "paper_bgcolor": "white",
          "plot_bgcolor": "#E5ECF6",
          "polar": {
           "angularaxis": {
            "gridcolor": "white",
            "linecolor": "white",
            "ticks": ""
           },
           "bgcolor": "#E5ECF6",
           "radialaxis": {
            "gridcolor": "white",
            "linecolor": "white",
            "ticks": ""
           }
          },
          "scene": {
           "xaxis": {
            "backgroundcolor": "#E5ECF6",
            "gridcolor": "white",
            "gridwidth": 2,
            "linecolor": "white",
            "showbackground": true,
            "ticks": "",
            "zerolinecolor": "white"
           },
           "yaxis": {
            "backgroundcolor": "#E5ECF6",
            "gridcolor": "white",
            "gridwidth": 2,
            "linecolor": "white",
            "showbackground": true,
            "ticks": "",
            "zerolinecolor": "white"
           },
           "zaxis": {
            "backgroundcolor": "#E5ECF6",
            "gridcolor": "white",
            "gridwidth": 2,
            "linecolor": "white",
            "showbackground": true,
            "ticks": "",
            "zerolinecolor": "white"
           }
          },
          "shapedefaults": {
           "line": {
            "color": "#2a3f5f"
           }
          },
          "ternary": {
           "aaxis": {
            "gridcolor": "white",
            "linecolor": "white",
            "ticks": ""
           },
           "baxis": {
            "gridcolor": "white",
            "linecolor": "white",
            "ticks": ""
           },
           "bgcolor": "#E5ECF6",
           "caxis": {
            "gridcolor": "white",
            "linecolor": "white",
            "ticks": ""
           }
          },
          "title": {
           "x": 0.05
          },
          "xaxis": {
           "automargin": true,
           "gridcolor": "white",
           "linecolor": "white",
           "ticks": "",
           "title": {
            "standoff": 15
           },
           "zerolinecolor": "white",
           "zerolinewidth": 2
          },
          "yaxis": {
           "automargin": true,
           "gridcolor": "white",
           "linecolor": "white",
           "ticks": "",
           "title": {
            "standoff": 15
           },
           "zerolinecolor": "white",
           "zerolinewidth": 2
          }
         }
        }
       }
      },
      "text/html": [
       "<div>                            <div id=\"843e7deb-a24c-4705-9646-7f5244f2c874\" class=\"plotly-graph-div\" style=\"height:525px; width:100%;\"></div>            <script type=\"text/javascript\">                require([\"plotly\"], function(Plotly) {                    window.PLOTLYENV=window.PLOTLYENV || {};                                    if (document.getElementById(\"843e7deb-a24c-4705-9646-7f5244f2c874\")) {                    Plotly.newPlot(                        \"843e7deb-a24c-4705-9646-7f5244f2c874\",                        [{\"hovertemplate\":\"species=setosa<br>sepal_length=%{x}<br>sepal_width=%{y}<br>petal_width=%{z}<extra></extra>\",\"legendgroup\":\"setosa\",\"marker\":{\"color\":\"#636efa\",\"symbol\":\"circle\"},\"mode\":\"markers\",\"name\":\"setosa\",\"scene\":\"scene\",\"showlegend\":true,\"x\":[5.1,4.9,4.7,4.6,5.0,5.4,4.6,5.0,4.4,4.9,5.4,4.8,4.8,4.3,5.8,5.7,5.4,5.1,5.7,5.1,5.4,5.1,4.6,5.1,4.8,5.0,5.0,5.2,5.2,4.7,4.8,5.4,5.2,5.5,4.9,5.0,5.5,4.9,4.4,5.1,5.0,4.5,4.4,5.0,5.1,4.8,5.1,4.6,5.3,5.0],\"y\":[3.5,3.0,3.2,3.1,3.6,3.9,3.4,3.4,2.9,3.1,3.7,3.4,3.0,3.0,4.0,4.4,3.9,3.5,3.8,3.8,3.4,3.7,3.6,3.3,3.4,3.0,3.4,3.5,3.4,3.2,3.1,3.4,4.1,4.2,3.1,3.2,3.5,3.1,3.0,3.4,3.5,2.3,3.2,3.5,3.8,3.0,3.8,3.2,3.7,3.3],\"z\":[0.2,0.2,0.2,0.2,0.2,0.4,0.3,0.2,0.2,0.1,0.2,0.2,0.1,0.1,0.2,0.4,0.4,0.3,0.3,0.3,0.2,0.4,0.2,0.5,0.2,0.2,0.4,0.2,0.2,0.2,0.2,0.4,0.1,0.2,0.1,0.2,0.2,0.1,0.2,0.2,0.3,0.3,0.2,0.6,0.4,0.3,0.2,0.2,0.2,0.2],\"type\":\"scatter3d\"},{\"hovertemplate\":\"species=versicolor<br>sepal_length=%{x}<br>sepal_width=%{y}<br>petal_width=%{z}<extra></extra>\",\"legendgroup\":\"versicolor\",\"marker\":{\"color\":\"#EF553B\",\"symbol\":\"circle\"},\"mode\":\"markers\",\"name\":\"versicolor\",\"scene\":\"scene\",\"showlegend\":true,\"x\":[7.0,6.4,6.9,5.5,6.5,5.7,6.3,4.9,6.6,5.2,5.0,5.9,6.0,6.1,5.6,6.7,5.6,5.8,6.2,5.6,5.9,6.1,6.3,6.1,6.4,6.6,6.8,6.7,6.0,5.7,5.5,5.5,5.8,6.0,5.4,6.0,6.7,6.3,5.6,5.5,5.5,6.1,5.8,5.0,5.6,5.7,5.7,6.2,5.1,5.7],\"y\":[3.2,3.2,3.1,2.3,2.8,2.8,3.3,2.4,2.9,2.7,2.0,3.0,2.2,2.9,2.9,3.1,3.0,2.7,2.2,2.5,3.2,2.8,2.5,2.8,2.9,3.0,2.8,3.0,2.9,2.6,2.4,2.4,2.7,2.7,3.0,3.4,3.1,2.3,3.0,2.5,2.6,3.0,2.6,2.3,2.7,3.0,2.9,2.9,2.5,2.8],\"z\":[1.4,1.5,1.5,1.3,1.5,1.3,1.6,1.0,1.3,1.4,1.0,1.5,1.0,1.4,1.3,1.4,1.5,1.0,1.5,1.1,1.8,1.3,1.5,1.2,1.3,1.4,1.4,1.7,1.5,1.0,1.1,1.0,1.2,1.6,1.5,1.6,1.5,1.3,1.3,1.3,1.2,1.4,1.2,1.0,1.3,1.2,1.3,1.3,1.1,1.3],\"type\":\"scatter3d\"},{\"hovertemplate\":\"species=virginica<br>sepal_length=%{x}<br>sepal_width=%{y}<br>petal_width=%{z}<extra></extra>\",\"legendgroup\":\"virginica\",\"marker\":{\"color\":\"#00cc96\",\"symbol\":\"circle\"},\"mode\":\"markers\",\"name\":\"virginica\",\"scene\":\"scene\",\"showlegend\":true,\"x\":[6.3,5.8,7.1,6.3,6.5,7.6,4.9,7.3,6.7,7.2,6.5,6.4,6.8,5.7,5.8,6.4,6.5,7.7,7.7,6.0,6.9,5.6,7.7,6.3,6.7,7.2,6.2,6.1,6.4,7.2,7.4,7.9,6.4,6.3,6.1,7.7,6.3,6.4,6.0,6.9,6.7,6.9,5.8,6.8,6.7,6.7,6.3,6.5,6.2,5.9],\"y\":[3.3,2.7,3.0,2.9,3.0,3.0,2.5,2.9,2.5,3.6,3.2,2.7,3.0,2.5,2.8,3.2,3.0,3.8,2.6,2.2,3.2,2.8,2.8,2.7,3.3,3.2,2.8,3.0,2.8,3.0,2.8,3.8,2.8,2.8,2.6,3.0,3.4,3.1,3.0,3.1,3.1,3.1,2.7,3.2,3.3,3.0,2.5,3.0,3.4,3.0],\"z\":[2.5,1.9,2.1,1.8,2.2,2.1,1.7,1.8,1.8,2.5,2.0,1.9,2.1,2.0,2.4,2.3,1.8,2.2,2.3,1.5,2.3,2.0,2.0,1.8,2.1,1.8,1.8,1.8,2.1,1.6,1.9,2.0,2.2,1.5,1.4,2.3,2.4,1.8,1.8,2.1,2.4,2.3,1.9,2.3,2.5,2.3,1.9,2.0,2.3,1.8],\"type\":\"scatter3d\"}],                        {\"template\":{\"data\":{\"histogram2dcontour\":[{\"type\":\"histogram2dcontour\",\"colorbar\":{\"outlinewidth\":0,\"ticks\":\"\"},\"colorscale\":[[0.0,\"#0d0887\"],[0.1111111111111111,\"#46039f\"],[0.2222222222222222,\"#7201a8\"],[0.3333333333333333,\"#9c179e\"],[0.4444444444444444,\"#bd3786\"],[0.5555555555555556,\"#d8576b\"],[0.6666666666666666,\"#ed7953\"],[0.7777777777777778,\"#fb9f3a\"],[0.8888888888888888,\"#fdca26\"],[1.0,\"#f0f921\"]]}],\"choropleth\":[{\"type\":\"choropleth\",\"colorbar\":{\"outlinewidth\":0,\"ticks\":\"\"}}],\"histogram2d\":[{\"type\":\"histogram2d\",\"colorbar\":{\"outlinewidth\":0,\"ticks\":\"\"},\"colorscale\":[[0.0,\"#0d0887\"],[0.1111111111111111,\"#46039f\"],[0.2222222222222222,\"#7201a8\"],[0.3333333333333333,\"#9c179e\"],[0.4444444444444444,\"#bd3786\"],[0.5555555555555556,\"#d8576b\"],[0.6666666666666666,\"#ed7953\"],[0.7777777777777778,\"#fb9f3a\"],[0.8888888888888888,\"#fdca26\"],[1.0,\"#f0f921\"]]}],\"heatmap\":[{\"type\":\"heatmap\",\"colorbar\":{\"outlinewidth\":0,\"ticks\":\"\"},\"colorscale\":[[0.0,\"#0d0887\"],[0.1111111111111111,\"#46039f\"],[0.2222222222222222,\"#7201a8\"],[0.3333333333333333,\"#9c179e\"],[0.4444444444444444,\"#bd3786\"],[0.5555555555555556,\"#d8576b\"],[0.6666666666666666,\"#ed7953\"],[0.7777777777777778,\"#fb9f3a\"],[0.8888888888888888,\"#fdca26\"],[1.0,\"#f0f921\"]]}],\"heatmapgl\":[{\"type\":\"heatmapgl\",\"colorbar\":{\"outlinewidth\":0,\"ticks\":\"\"},\"colorscale\":[[0.0,\"#0d0887\"],[0.1111111111111111,\"#46039f\"],[0.2222222222222222,\"#7201a8\"],[0.3333333333333333,\"#9c179e\"],[0.4444444444444444,\"#bd3786\"],[0.5555555555555556,\"#d8576b\"],[0.6666666666666666,\"#ed7953\"],[0.7777777777777778,\"#fb9f3a\"],[0.8888888888888888,\"#fdca26\"],[1.0,\"#f0f921\"]]}],\"contourcarpet\":[{\"type\":\"contourcarpet\",\"colorbar\":{\"outlinewidth\":0,\"ticks\":\"\"}}],\"contour\":[{\"type\":\"contour\",\"colorbar\":{\"outlinewidth\":0,\"ticks\":\"\"},\"colorscale\":[[0.0,\"#0d0887\"],[0.1111111111111111,\"#46039f\"],[0.2222222222222222,\"#7201a8\"],[0.3333333333333333,\"#9c179e\"],[0.4444444444444444,\"#bd3786\"],[0.5555555555555556,\"#d8576b\"],[0.6666666666666666,\"#ed7953\"],[0.7777777777777778,\"#fb9f3a\"],[0.8888888888888888,\"#fdca26\"],[1.0,\"#f0f921\"]]}],\"surface\":[{\"type\":\"surface\",\"colorbar\":{\"outlinewidth\":0,\"ticks\":\"\"},\"colorscale\":[[0.0,\"#0d0887\"],[0.1111111111111111,\"#46039f\"],[0.2222222222222222,\"#7201a8\"],[0.3333333333333333,\"#9c179e\"],[0.4444444444444444,\"#bd3786\"],[0.5555555555555556,\"#d8576b\"],[0.6666666666666666,\"#ed7953\"],[0.7777777777777778,\"#fb9f3a\"],[0.8888888888888888,\"#fdca26\"],[1.0,\"#f0f921\"]]}],\"mesh3d\":[{\"type\":\"mesh3d\",\"colorbar\":{\"outlinewidth\":0,\"ticks\":\"\"}}],\"scatter\":[{\"fillpattern\":{\"fillmode\":\"overlay\",\"size\":10,\"solidity\":0.2},\"type\":\"scatter\"}],\"parcoords\":[{\"type\":\"parcoords\",\"line\":{\"colorbar\":{\"outlinewidth\":0,\"ticks\":\"\"}}}],\"scatterpolargl\":[{\"type\":\"scatterpolargl\",\"marker\":{\"colorbar\":{\"outlinewidth\":0,\"ticks\":\"\"}}}],\"bar\":[{\"error_x\":{\"color\":\"#2a3f5f\"},\"error_y\":{\"color\":\"#2a3f5f\"},\"marker\":{\"line\":{\"color\":\"#E5ECF6\",\"width\":0.5},\"pattern\":{\"fillmode\":\"overlay\",\"size\":10,\"solidity\":0.2}},\"type\":\"bar\"}],\"scattergeo\":[{\"type\":\"scattergeo\",\"marker\":{\"colorbar\":{\"outlinewidth\":0,\"ticks\":\"\"}}}],\"scatterpolar\":[{\"type\":\"scatterpolar\",\"marker\":{\"colorbar\":{\"outlinewidth\":0,\"ticks\":\"\"}}}],\"histogram\":[{\"marker\":{\"pattern\":{\"fillmode\":\"overlay\",\"size\":10,\"solidity\":0.2}},\"type\":\"histogram\"}],\"scattergl\":[{\"type\":\"scattergl\",\"marker\":{\"colorbar\":{\"outlinewidth\":0,\"ticks\":\"\"}}}],\"scatter3d\":[{\"type\":\"scatter3d\",\"line\":{\"colorbar\":{\"outlinewidth\":0,\"ticks\":\"\"}},\"marker\":{\"colorbar\":{\"outlinewidth\":0,\"ticks\":\"\"}}}],\"scattermapbox\":[{\"type\":\"scattermapbox\",\"marker\":{\"colorbar\":{\"outlinewidth\":0,\"ticks\":\"\"}}}],\"scatterternary\":[{\"type\":\"scatterternary\",\"marker\":{\"colorbar\":{\"outlinewidth\":0,\"ticks\":\"\"}}}],\"scattercarpet\":[{\"type\":\"scattercarpet\",\"marker\":{\"colorbar\":{\"outlinewidth\":0,\"ticks\":\"\"}}}],\"carpet\":[{\"aaxis\":{\"endlinecolor\":\"#2a3f5f\",\"gridcolor\":\"white\",\"linecolor\":\"white\",\"minorgridcolor\":\"white\",\"startlinecolor\":\"#2a3f5f\"},\"baxis\":{\"endlinecolor\":\"#2a3f5f\",\"gridcolor\":\"white\",\"linecolor\":\"white\",\"minorgridcolor\":\"white\",\"startlinecolor\":\"#2a3f5f\"},\"type\":\"carpet\"}],\"table\":[{\"cells\":{\"fill\":{\"color\":\"#EBF0F8\"},\"line\":{\"color\":\"white\"}},\"header\":{\"fill\":{\"color\":\"#C8D4E3\"},\"line\":{\"color\":\"white\"}},\"type\":\"table\"}],\"barpolar\":[{\"marker\":{\"line\":{\"color\":\"#E5ECF6\",\"width\":0.5},\"pattern\":{\"fillmode\":\"overlay\",\"size\":10,\"solidity\":0.2}},\"type\":\"barpolar\"}],\"pie\":[{\"automargin\":true,\"type\":\"pie\"}]},\"layout\":{\"autotypenumbers\":\"strict\",\"colorway\":[\"#636efa\",\"#EF553B\",\"#00cc96\",\"#ab63fa\",\"#FFA15A\",\"#19d3f3\",\"#FF6692\",\"#B6E880\",\"#FF97FF\",\"#FECB52\"],\"font\":{\"color\":\"#2a3f5f\"},\"hovermode\":\"closest\",\"hoverlabel\":{\"align\":\"left\"},\"paper_bgcolor\":\"white\",\"plot_bgcolor\":\"#E5ECF6\",\"polar\":{\"bgcolor\":\"#E5ECF6\",\"angularaxis\":{\"gridcolor\":\"white\",\"linecolor\":\"white\",\"ticks\":\"\"},\"radialaxis\":{\"gridcolor\":\"white\",\"linecolor\":\"white\",\"ticks\":\"\"}},\"ternary\":{\"bgcolor\":\"#E5ECF6\",\"aaxis\":{\"gridcolor\":\"white\",\"linecolor\":\"white\",\"ticks\":\"\"},\"baxis\":{\"gridcolor\":\"white\",\"linecolor\":\"white\",\"ticks\":\"\"},\"caxis\":{\"gridcolor\":\"white\",\"linecolor\":\"white\",\"ticks\":\"\"}},\"coloraxis\":{\"colorbar\":{\"outlinewidth\":0,\"ticks\":\"\"}},\"colorscale\":{\"sequential\":[[0.0,\"#0d0887\"],[0.1111111111111111,\"#46039f\"],[0.2222222222222222,\"#7201a8\"],[0.3333333333333333,\"#9c179e\"],[0.4444444444444444,\"#bd3786\"],[0.5555555555555556,\"#d8576b\"],[0.6666666666666666,\"#ed7953\"],[0.7777777777777778,\"#fb9f3a\"],[0.8888888888888888,\"#fdca26\"],[1.0,\"#f0f921\"]],\"sequentialminus\":[[0.0,\"#0d0887\"],[0.1111111111111111,\"#46039f\"],[0.2222222222222222,\"#7201a8\"],[0.3333333333333333,\"#9c179e\"],[0.4444444444444444,\"#bd3786\"],[0.5555555555555556,\"#d8576b\"],[0.6666666666666666,\"#ed7953\"],[0.7777777777777778,\"#fb9f3a\"],[0.8888888888888888,\"#fdca26\"],[1.0,\"#f0f921\"]],\"diverging\":[[0,\"#8e0152\"],[0.1,\"#c51b7d\"],[0.2,\"#de77ae\"],[0.3,\"#f1b6da\"],[0.4,\"#fde0ef\"],[0.5,\"#f7f7f7\"],[0.6,\"#e6f5d0\"],[0.7,\"#b8e186\"],[0.8,\"#7fbc41\"],[0.9,\"#4d9221\"],[1,\"#276419\"]]},\"xaxis\":{\"gridcolor\":\"white\",\"linecolor\":\"white\",\"ticks\":\"\",\"title\":{\"standoff\":15},\"zerolinecolor\":\"white\",\"automargin\":true,\"zerolinewidth\":2},\"yaxis\":{\"gridcolor\":\"white\",\"linecolor\":\"white\",\"ticks\":\"\",\"title\":{\"standoff\":15},\"zerolinecolor\":\"white\",\"automargin\":true,\"zerolinewidth\":2},\"scene\":{\"xaxis\":{\"backgroundcolor\":\"#E5ECF6\",\"gridcolor\":\"white\",\"linecolor\":\"white\",\"showbackground\":true,\"ticks\":\"\",\"zerolinecolor\":\"white\",\"gridwidth\":2},\"yaxis\":{\"backgroundcolor\":\"#E5ECF6\",\"gridcolor\":\"white\",\"linecolor\":\"white\",\"showbackground\":true,\"ticks\":\"\",\"zerolinecolor\":\"white\",\"gridwidth\":2},\"zaxis\":{\"backgroundcolor\":\"#E5ECF6\",\"gridcolor\":\"white\",\"linecolor\":\"white\",\"showbackground\":true,\"ticks\":\"\",\"zerolinecolor\":\"white\",\"gridwidth\":2}},\"shapedefaults\":{\"line\":{\"color\":\"#2a3f5f\"}},\"annotationdefaults\":{\"arrowcolor\":\"#2a3f5f\",\"arrowhead\":0,\"arrowwidth\":1},\"geo\":{\"bgcolor\":\"white\",\"landcolor\":\"#E5ECF6\",\"subunitcolor\":\"white\",\"showland\":true,\"showlakes\":true,\"lakecolor\":\"white\"},\"title\":{\"x\":0.05},\"mapbox\":{\"style\":\"light\"}}},\"scene\":{\"domain\":{\"x\":[0.0,1.0],\"y\":[0.0,1.0]},\"xaxis\":{\"title\":{\"text\":\"sepal_length\"}},\"yaxis\":{\"title\":{\"text\":\"sepal_width\"}},\"zaxis\":{\"title\":{\"text\":\"petal_width\"}}},\"legend\":{\"title\":{\"text\":\"species\"},\"tracegroupgap\":0},\"margin\":{\"t\":60}},                        {\"responsive\": true}                    ).then(function(){\n",
       "                            \n",
       "var gd = document.getElementById('843e7deb-a24c-4705-9646-7f5244f2c874');\n",
       "var x = new MutationObserver(function (mutations, observer) {{\n",
       "        var display = window.getComputedStyle(gd).display;\n",
       "        if (!display || display === 'none') {{\n",
       "            console.log([gd, 'removed!']);\n",
       "            Plotly.purge(gd);\n",
       "            observer.disconnect();\n",
       "        }}\n",
       "}});\n",
       "\n",
       "// Listen for the removal of the full notebook cells\n",
       "var notebookContainer = gd.closest('#notebook-container');\n",
       "if (notebookContainer) {{\n",
       "    x.observe(notebookContainer, {childList: true});\n",
       "}}\n",
       "\n",
       "// Listen for the clearing of the current output cell\n",
       "var outputEl = gd.closest('.output');\n",
       "if (outputEl) {{\n",
       "    x.observe(outputEl, {childList: true});\n",
       "}}\n",
       "\n",
       "                        })                };                });            </script>        </div>"
      ]
     },
     "metadata": {},
     "output_type": "display_data"
    }
   ],
   "source": [
    "df = px.data.iris()\n",
    "fig = px.scatter_3d(df, x='sepal_length', y='sepal_width', z='petal_width', color = 'species')\n",
    "fig.show(render = 'browser')"
   ]
  },
  {
   "cell_type": "code",
   "execution_count": 211,
   "id": "e0d9310c",
   "metadata": {},
   "outputs": [],
   "source": [
    "# 영상 데이터 : 필기 숫자"
   ]
  },
  {
   "cell_type": "code",
   "execution_count": 212,
   "id": "93ca6b33",
   "metadata": {},
   "outputs": [],
   "source": [
    "# 필기숫자 데이터\n",
    "digit =  datasets.load_digits()"
   ]
  },
  {
   "cell_type": "code",
   "execution_count": 213,
   "id": "013c92e3",
   "metadata": {},
   "outputs": [],
   "source": [
    "import matplotlib.pyplot as plt"
   ]
  },
  {
   "cell_type": "code",
   "execution_count": 214,
   "id": "d7924bd3",
   "metadata": {},
   "outputs": [
    {
     "data": {
      "image/png": "[encoded data removed]",
      "text/plain": [
       "<Figure size 500x500 with 1 Axes>"
      ]
     },
     "metadata": {},
     "output_type": "display_data"
    }
   ],
   "source": [
    "plt.figure(figsize=(5,5))\n",
    "plt.imshow(digit.images[0],cmap=plt.cm.gray_r,interpolation='nearest')\n",
    "plt.show()"
   ]
  },
  {
   "cell_type": "code",
   "execution_count": 215,
   "id": "90fa9f9b",
   "metadata": {},
   "outputs": [
    {
     "data": {
      "text/plain": [
       "array([ 0.,  0.,  5., 13.,  9.,  1.,  0.,  0.,  0.,  0., 13., 15., 10.,\n",
       "       15.,  5.,  0.,  0.,  3., 15.,  2.,  0., 11.,  8.,  0.,  0.,  4.,\n",
       "       12.,  0.,  0.,  8.,  8.,  0.,  0.,  5.,  8.,  0.,  0.,  9.,  8.,\n",
       "        0.,  0.,  4., 11.,  0.,  1., 12.,  7.,  0.,  0.,  2., 14.,  5.,\n",
       "       10., 12.,  0.,  0.,  0.,  0.,  6., 13., 10.,  0.,  0.,  0.])"
      ]
     },
     "execution_count": 215,
     "metadata": {},
     "output_type": "execute_result"
    }
   ],
   "source": [
    "digit.data[0]"
   ]
  },
  {
   "cell_type": "code",
   "execution_count": 216,
   "id": "f589af2c",
   "metadata": {},
   "outputs": [],
   "source": [
    "# lfw 얼굴 데이터 셋 labeled faces in the wild 유명인의 얼굴영상  50*37  0~255\n",
    "# 일인당 대략 2장\n",
    "# 두장을 주면 같은 사람인지 판단하는 용도로의 셈플\n",
    "lfw = datasets.fetch_lfw_people(min_faces_per_person=70,resize=0.4)"
   ]
  },
  {
   "cell_type": "code",
   "execution_count": 217,
   "id": "024d6e10",
   "metadata": {},
   "outputs": [
    {
     "data": {
      "image/png": "[encoded data removed]",
      "text/plain": [
       "<Figure size 2200x500 with 10 Axes>"
      ]
     },
     "metadata": {},
     "output_type": "display_data"
    }
   ],
   "source": [
    "plt.figure(figsize=(22,5))\n",
    "for i in range(10):\n",
    "    plt.subplot(1,10,i+1)\n",
    "    plt.imshow(lfw.images[i],cmap='bone')\n",
    "    plt.title(lfw.target_names[lfw.target[i]])\n",
    "plt.show()    "
   ]
  },
  {
   "cell_type": "code",
   "execution_count": 218,
   "id": "198e83a0",
   "metadata": {},
   "outputs": [],
   "source": [
    "# 텍스트 데이터  20newsgroups\n",
    "news = datasets.fetch_20newsgroups(subset='train')"
   ]
  },
  {
   "cell_type": "code",
   "execution_count": 219,
   "id": "88040440",
   "metadata": {},
   "outputs": [
    {
     "name": "stdout",
     "output_type": "stream",
     "text": [
      "From: lerxst@wam.umd.edu (where's my thing)\n",
      "Subject: WHAT car is this!?\n",
      "Nntp-Posting-Host: rac3.wam.umd.edu\n",
      "Organization: University of Maryland, College Park\n",
      "Lines: 15\n",
      "\n",
      " I was wondering if anyone out there could enlighten me on this car I saw\n",
      "the other day. It was a 2-door sports car, looked to be from the late 60s/\n",
      "early 70s. It was called a Bricklin. The doors were really small. In addition,\n",
      "the front bumper was separate from the rest of the body. This is \n",
      "all I know. If anyone can tellme a model name, engine specs, years\n",
      "of production, where this car is made, history, or whatever info you\n",
      "have on this funky looking car, please e-mail.\n",
      "\n",
      "Thanks,\n",
      "- IL\n",
      "   ---- brought to you by your neighborhood Lerxst ----\n",
      "\n",
      "\n",
      "\n",
      "\n",
      "\n",
      "rec.autos\n"
     ]
    }
   ],
   "source": [
    "print(news.data[0])\n",
    "print(news.target_names[news.target[0]])"
   ]
  },
  {
   "cell_type": "code",
   "execution_count": 220,
   "id": "24d95291",
   "metadata": {},
   "outputs": [],
   "source": [
    "# 텍스트로 구분되어 있고 샘플의 길이가 다르고, 단어가 나타나는 순서가 중요함 - 시계열데이터에 속함\n",
    "# -> 딥러닝"
   ]
  },
  {
   "cell_type": "markdown",
   "id": "db6a4158",
   "metadata": {},
   "source": [
    "#### 특징 추출하고 표현\n",
    "##### 데이터수집  ->  특징추출 -> 모델링 -> 예측\n",
    "##### 특징의 분별력\n",
    "##### 수치형 특징 : iris 네개의 실수, 거리개념,실수 정수 또는 이진값\n",
    "##### 범주형 특징 : 학점, 수능등급,혈액형, 지역\n",
    "    순서형 : 학점 수능등급, 거리개념, 순서대로 정수를 부여하면 수치형으로 취급\n",
    "    이름형 : 혈액형, 지역 : 보통 원핫코드로 표현\n"
   ]
  },
  {
   "cell_type": "code",
   "execution_count": 221,
   "id": "df83eab3",
   "metadata": {},
   "outputs": [],
   "source": [
    "# 이미지 : 화소 각각을 특징 8*8 64차원 특징 벡터   64텐서  "
   ]
  },
  {
   "cell_type": "code",
   "execution_count": 222,
   "id": "8e1a55af",
   "metadata": {},
   "outputs": [
    {
     "data": {
      "text/html": [
       "<style>#sk-container-id-15 {color: black;background-color: white;}#sk-container-id-15 pre{padding: 0;}#sk-container-id-15 div.sk-toggleable {background-color: white;}#sk-container-id-15 label.sk-toggleable__label {cursor: pointer;display: block;width: 100%;margin-bottom: 0;padding: 0.3em;box-sizing: border-box;text-align: center;}#sk-container-id-15 label.sk-toggleable__label-arrow:before {content: \"▸\";float: left;margin-right: 0.25em;color: #696969;}#sk-container-id-15 label.sk-toggleable__label-arrow:hover:before {color: black;}#sk-container-id-15 div.sk-estimator:hover label.sk-toggleable__label-arrow:before {color: black;}#sk-container-id-15 div.sk-toggleable__content {max-height: 0;max-width: 0;overflow: hidden;text-align: left;background-color: #f0f8ff;}#sk-container-id-15 div.sk-toggleable__content pre {margin: 0.2em;color: black;border-radius: 0.25em;background-color: #f0f8ff;}#sk-container-id-15 input.sk-toggleable__control:checked~div.sk-toggleable__content {max-height: 200px;max-width: 100%;overflow: auto;}#sk-container-id-15 input.sk-toggleable__control:checked~label.sk-toggleable__label-arrow:before {content: \"▾\";}#sk-container-id-15 div.sk-estimator input.sk-toggleable__control:checked~label.sk-toggleable__label {background-color: #d4ebff;}#sk-container-id-15 div.sk-label input.sk-toggleable__control:checked~label.sk-toggleable__label {background-color: #d4ebff;}#sk-container-id-15 input.sk-hidden--visually {border: 0;clip: rect(1px 1px 1px 1px);clip: rect(1px, 1px, 1px, 1px);height: 1px;margin: -1px;overflow: hidden;padding: 0;position: absolute;width: 1px;}#sk-container-id-15 div.sk-estimator {font-family: monospace;background-color: #f0f8ff;border: 1px dotted black;border-radius: 0.25em;box-sizing: border-box;margin-bottom: 0.5em;}#sk-container-id-15 div.sk-estimator:hover {background-color: #d4ebff;}#sk-container-id-15 div.sk-parallel-item::after {content: \"\";width: 100%;border-bottom: 1px solid gray;flex-grow: 1;}#sk-container-id-15 div.sk-label:hover label.sk-toggleable__label {background-color: #d4ebff;}#sk-container-id-15 div.sk-serial::before {content: \"\";position: absolute;border-left: 1px solid gray;box-sizing: border-box;top: 0;bottom: 0;left: 50%;z-index: 0;}#sk-container-id-15 div.sk-serial {display: flex;flex-direction: column;align-items: center;background-color: white;padding-right: 0.2em;padding-left: 0.2em;position: relative;}#sk-container-id-15 div.sk-item {position: relative;z-index: 1;}#sk-container-id-15 div.sk-parallel {display: flex;align-items: stretch;justify-content: center;background-color: white;position: relative;}#sk-container-id-15 div.sk-item::before, #sk-container-id-15 div.sk-parallel-item::before {content: \"\";position: absolute;border-left: 1px solid gray;box-sizing: border-box;top: 0;bottom: 0;left: 50%;z-index: -1;}#sk-container-id-15 div.sk-parallel-item {display: flex;flex-direction: column;z-index: 1;position: relative;background-color: white;}#sk-container-id-15 div.sk-parallel-item:first-child::after {align-self: flex-end;width: 50%;}#sk-container-id-15 div.sk-parallel-item:last-child::after {align-self: flex-start;width: 50%;}#sk-container-id-15 div.sk-parallel-item:only-child::after {width: 0;}#sk-container-id-15 div.sk-dashed-wrapped {border: 1px dashed gray;margin: 0 0.4em 0.5em 0.4em;box-sizing: border-box;padding-bottom: 0.4em;background-color: white;}#sk-container-id-15 div.sk-label label {font-family: monospace;font-weight: bold;display: inline-block;line-height: 1.2em;}#sk-container-id-15 div.sk-label-container {text-align: center;}#sk-container-id-15 div.sk-container {/* jupyter's `normalize.less` sets `[hidden] { display: none; }` but bootstrap.min.css set `[hidden] { display: none !important; }` so we also need the `!important` here to be able to override the default hidden behavior on the sphinx rendered scikit-learn.org. See: https://github.com/scikit-learn/scikit-learn/issues/21755 */display: inline-block !important;position: relative;}#sk-container-id-15 div.sk-text-repr-fallback {display: none;}</style><div id=\"sk-container-id-15\" class=\"sk-top-container\"><div class=\"sk-text-repr-fallback\"><pre>SVC()</pre><b>In a Jupyter environment, please rerun this cell to show the HTML representation or trust the notebook. <br />On GitHub, the HTML representation is unable to render, please try loading this page with nbviewer.org.</b></div><div class=\"sk-container\" hidden><div class=\"sk-item\"><div class=\"sk-estimator sk-toggleable\"><input class=\"sk-toggleable__control sk-hidden--visually\" id=\"sk-estimator-id-19\" type=\"checkbox\" checked><label for=\"sk-estimator-id-19\" class=\"sk-toggleable__label sk-toggleable__label-arrow\">SVC</label><div class=\"sk-toggleable__content\"><pre>SVC()</pre></div></div></div></div></div>"
      ],
      "text/plain": [
       "SVC()"
      ]
     },
     "execution_count": 222,
     "metadata": {},
     "output_type": "execute_result"
    }
   ],
   "source": [
    "# svm의 분류기 모델을 학습\n",
    "s = svm.SVC()\n",
    "s.fit(digit.data,digit.target)  # 모델링"
   ]
  },
  {
   "cell_type": "code",
   "execution_count": 223,
   "id": "842a7e83",
   "metadata": {},
   "outputs": [
    {
     "data": {
      "text/plain": [
       "[1634, 948, 915]"
      ]
     },
     "execution_count": 223,
     "metadata": {},
     "output_type": "execute_result"
    }
   ],
   "source": [
    "# 훈련데이터의 샘플 3개를 추출해서 인식\n",
    "from random import sample\n",
    "sample_idx =  sample(range(len(digit.data)),3)\n",
    "sample_idx"
   ]
  },
  {
   "cell_type": "code",
   "execution_count": 224,
   "id": "5d96517a",
   "metadata": {},
   "outputs": [],
   "source": [
    "# 분류\n",
    "predict = s.predict(digit.data[sample_idx])"
   ]
  },
  {
   "cell_type": "code",
   "execution_count": 225,
   "id": "e7a07cdc",
   "metadata": {},
   "outputs": [
    {
     "data": {
      "text/plain": [
       "(array([1, 7, 0]), array([1, 7, 0]))"
      ]
     },
     "execution_count": 225,
     "metadata": {},
     "output_type": "execute_result"
    }
   ],
   "source": [
    "predict, digit.target[sample_idx]"
   ]
  },
  {
   "cell_type": "code",
   "execution_count": 226,
   "id": "11c3e06b",
   "metadata": {},
   "outputs": [],
   "source": [
    "# 훈련집합을 테스트로 간주하고 인식\n",
    "predict = s.predict(digit.data)"
   ]
  },
  {
   "cell_type": "code",
   "execution_count": 227,
   "id": "a20c47d6",
   "metadata": {},
   "outputs": [],
   "source": [
    "correct = [i for i in range(len(predict)) if predict[i] == digit.target[i]]"
   ]
  },
  {
   "cell_type": "code",
   "execution_count": 228,
   "id": "e02548ba",
   "metadata": {},
   "outputs": [],
   "source": [
    "accuracy = len(correct) / len(predict)"
   ]
  },
  {
   "cell_type": "code",
   "execution_count": 229,
   "id": "a1b34de1",
   "metadata": {},
   "outputs": [
    {
     "name": "stdout",
     "output_type": "stream",
     "text": [
      "정확률 =100% \n"
     ]
    }
   ],
   "source": [
    "print(f\"정확률 ={round(accuracy*100)}% \")"
   ]
  },
  {
   "cell_type": "code",
   "execution_count": 230,
   "id": "2182dcf3",
   "metadata": {},
   "outputs": [],
   "source": [
    "# 새로운 데이터로 성능을 측정하는 작업 -> 일반화 능력 측정\n",
    "# 1. 성능측정 기준\n",
    "# 2. 일반화능력을 측정 - 2-1 테스트집합  2-2 교차검증"
   ]
  },
  {
   "cell_type": "code",
   "execution_count": 231,
   "id": "b58be6bf",
   "metadata": {},
   "outputs": [
    {
     "ename": "IndentationError",
     "evalue": "unexpected indent (3252114760.py, line 2)",
     "output_type": "error",
     "traceback": [
      "\u001b[1;36m  Input \u001b[1;32mIn [231]\u001b[1;36m\u001b[0m\n\u001b[1;33m    그라운드 트루스\u001b[0m\n\u001b[1;37m    ^\u001b[0m\n\u001b[1;31mIndentationError\u001b[0m\u001b[1;31m:\u001b[0m unexpected indent\n"
     ]
    }
   ],
   "source": [
    "# 혼동행렬 - confusion matrix\n",
    "              그라운드 트루스\n",
    "              긍정    부정\n",
    "예측값 긍정    TP      FP \n",
    "\n",
    "       부정    FN     TN\n"
   ]
  },
  {
   "cell_type": "markdown",
   "id": "ea8782e7",
   "metadata": {},
   "source": [
    "#### 정확률  맞힌 샘플수 / 전체 샘플수\n",
    "#### 2진부류에서는 한계.. "
   ]
  },
  {
   "cell_type": "code",
   "execution_count": null,
   "id": "6547ed5c",
   "metadata": {},
   "outputs": [],
   "source": [
    "# 의사가 환자를 진료 (암환자)\n",
    "# 정상인 >>>> 암환자 : 모든 케이스에대해서 정상이라고 판단  정화률이 높은\n",
    "# 200명중에 한명이 암환자... 99% 이상\n",
    "# 이와같은 경우.. 특이도와 민감도를 성능 기준으로 사용\n",
    "# 특이도   = TN / TN+FP   민감도 = TP / TP + FN"
   ]
  },
  {
   "cell_type": "code",
   "execution_count": null,
   "id": "03a3abe6",
   "metadata": {},
   "outputs": [],
   "source": [
    "# 웹에서 정보를 검색, 영상에서 물체 검출을 하는 경우 \n",
    "# 정밀도:  TP / TP + FP    , 재현율 TP / TP+ FN"
   ]
  },
  {
   "cell_type": "markdown",
   "id": "295fb341",
   "metadata": {},
   "source": [
    "#### 2-1 테스트집합"
   ]
  },
  {
   "cell_type": "code",
   "execution_count": null,
   "id": "280a7ebf",
   "metadata": {},
   "outputs": [],
   "source": [
    "# 적절한 비율... 훈련집합, 검증집합, 테스트 집합 -> 여러모델을 비교 성능테스트\n",
    "# 훈련집합, 테스트집합 -> 정해진 모델하나만 사용할때"
   ]
  },
  {
   "cell_type": "code",
   "execution_count": null,
   "id": "f989b430",
   "metadata": {},
   "outputs": [],
   "source": [
    "# base model SVM\n",
    "# mnist\n",
    "# accuracy\n",
    "# 훈련 / 테스트"
   ]
  },
  {
   "cell_type": "code",
   "execution_count": null,
   "id": "5668f508",
   "metadata": {},
   "outputs": [],
   "source": [
    "from sklearn import datasets\n",
    "from sklearn import svm\n",
    "from sklearn.model_selection import train_test_split\n",
    "import numpy as np"
   ]
  },
  {
   "cell_type": "code",
   "execution_count": null,
   "id": "253ec239",
   "metadata": {},
   "outputs": [],
   "source": [
    "data = datasets.load_digits()\n",
    "x_train,x_test,y_train,y_test =  train_test_split(data.data, data.target)"
   ]
  },
  {
   "cell_type": "code",
   "execution_count": null,
   "id": "1fa658c8",
   "metadata": {},
   "outputs": [],
   "source": [
    "# svm 분류기\n",
    "s = svm.SVC()\n",
    "s.fit(x_train,y_train)\n",
    "predict = s.predict(x_test)"
   ]
  },
  {
   "cell_type": "code",
   "execution_count": null,
   "id": "ed2f975d",
   "metadata": {},
   "outputs": [],
   "source": [
    "# 정확률\n",
    "(predict == y_test).mean()"
   ]
  },
  {
   "cell_type": "code",
   "execution_count": null,
   "id": "57242945",
   "metadata": {},
   "outputs": [],
   "source": [
    "acc_idx = [i for i in range(len(predict)) if predict[i] == y_test[i]]\n",
    "len(acc_idx) / len(predict)"
   ]
  },
  {
   "cell_type": "code",
   "execution_count": null,
   "id": "d04f02df",
   "metadata": {},
   "outputs": [],
   "source": [
    "# 혼돈행렬 구하기\n",
    "conf = np.zeros((10,10))\n",
    "for i in range(len(predict)):\n",
    "    conf[predict[i] ][ y_test[i] ] += 1"
   ]
  },
  {
   "cell_type": "code",
   "execution_count": null,
   "id": "15d413a7",
   "metadata": {},
   "outputs": [],
   "source": [
    "conf  "
   ]
  },
  {
   "cell_type": "code",
   "execution_count": null,
   "id": "a708adb3",
   "metadata": {},
   "outputs": [],
   "source": [
    "total = 0\n",
    "for i in range(10):\n",
    "    total += conf[i,i]\n",
    "total / len(predict)    "
   ]
  },
  {
   "cell_type": "code",
   "execution_count": null,
   "id": "2cd75dd3",
   "metadata": {},
   "outputs": [],
   "source": [
    "s.score(x_test,y_test)"
   ]
  },
  {
   "cell_type": "code",
   "execution_count": null,
   "id": "fc001c21",
   "metadata": {},
   "outputs": [],
   "source": [
    "# 교차검증\n",
    "# 우연히 높거나 낮은 정확률을 얻는경우"
   ]
  },
  {
   "cell_type": "code",
   "execution_count": null,
   "id": "ffa70164",
   "metadata": {},
   "outputs": [],
   "source": [
    "from sklearn.model_selection import cross_val_score  # 교차검증을 수행해 주는 함수\n",
    "s = svm.SVC()\n",
    "accuacies =  cross_val_score(s, data.data, data.target, cv=5)\n",
    "accuacies"
   ]
  },
  {
   "cell_type": "code",
   "execution_count": null,
   "id": "04270d8b",
   "metadata": {},
   "outputs": [],
   "source": [
    "accuacies.mean()"
   ]
  },
  {
   "cell_type": "code",
   "execution_count": null,
   "id": "db0a59ce",
   "metadata": {},
   "outputs": [],
   "source": [
    "# ◆N ◆N ◆P ◇P ◆N ◆N ◇P ◆N ◆N ◆N ◇N ◆N\n",
    "# ◆ : 정상제품\n",
    "# ◇ : 불량품\n",
    "\n",
    "#     검사시스템이 예측\n",
    "# p는 불량 n은 정상\n",
    "\n",
    "# 1. 정확률\n",
    "# 2. 정밀도와 재현율\n",
    "# 3. 특이도와 민감도"
   ]
  },
  {
   "cell_type": "code",
   "execution_count": null,
   "id": "bc8be055",
   "metadata": {},
   "outputs": [],
   "source": [
    "                ground thruth\n",
    "             불량      정상\n",
    "\n",
    "predict 불량  2(TN)    1(FN)    \n",
    "        \n",
    "        정상  1(FP)    8(TP)"
   ]
  },
  {
   "cell_type": "code",
   "execution_count": null,
   "id": "27556186",
   "metadata": {},
   "outputs": [],
   "source": [
    "print(f\"정확률 : {10 / 12}\") # 보편적으로...."
   ]
  },
  {
   "cell_type": "code",
   "execution_count": null,
   "id": "e16ed601",
   "metadata": {},
   "outputs": [],
   "source": [
    "# 정밀도:  TP / TP + FP    , 재현율 TP / TP+ FN\n",
    "print(f\"정밀도 :{8/9} 재현율 : {8 / 9}\")  # 이미지처리..등.. 의료 및 데이터편향을제외한 모든 case에 해당 될수 있다"
   ]
  },
  {
   "cell_type": "code",
   "execution_count": null,
   "id": "b0cb3166",
   "metadata": {},
   "outputs": [],
   "source": [
    "# 특이도   = TN / TN+FP   민감도 = TP / TP + FN\n",
    "print(f\"특이도 :{2/3} 민감도 : {8/9}\")  # 의료 및 데이터편향이 어쩔수 있는경우."
   ]
  },
  {
   "cell_type": "code",
   "execution_count": null,
   "id": "11aaf955",
   "metadata": {},
   "outputs": [],
   "source": [
    "# SVM (분류)"
   ]
  },
  {
   "cell_type": "code",
   "execution_count": null,
   "id": "96d99d59",
   "metadata": {},
   "outputs": [],
   "source": [
    "# KNN (분류) : 예측하려는 데이터 k개가 주어지면 데이터중 속성이 비슷한 K개의 이웃을 먼저 찾는다\n",
    "#지도학습\n",
    "# 비지도학습 k means\n",
    "from sklearn.neighbors import KNeighborsClassifier\n",
    "knn =  KNeighborsClassifier(n_neighbors=7)"
   ]
  },
  {
   "cell_type": "code",
   "execution_count": null,
   "id": "9f777109",
   "metadata": {},
   "outputs": [],
   "source": [
    "iris = datasets.load_iris()"
   ]
  },
  {
   "cell_type": "code",
   "execution_count": null,
   "id": "e1809dd1",
   "metadata": {},
   "outputs": [],
   "source": [
    "# 데이터 전처리(결측치, 중복데이터, 통계정보 요약)\n",
    "# 특성을 파악 2개를 선택\n",
    "# 특성들간의 상관관계\n",
    "# 특성벡터와 라벨을 연결해서 dataframe "
   ]
  },
  {
   "cell_type": "code",
   "execution_count": null,
   "id": "b458dc54",
   "metadata": {},
   "outputs": [],
   "source": [
    "import pandas as pd\n",
    "df = pd.DataFrame(iris.data)\n",
    "df.columns = iris.feature_names\n",
    "df['target'] = iris.target\n",
    "df.head()"
   ]
  },
  {
   "cell_type": "code",
   "execution_count": null,
   "id": "6c2da59c",
   "metadata": {},
   "outputs": [],
   "source": [
    "df.corr()"
   ]
  },
  {
   "cell_type": "code",
   "execution_count": null,
   "id": "676601b3",
   "metadata": {},
   "outputs": [],
   "source": [
    "import seaborn as sns\n",
    "sns.heatmap(data=df.corr(), square=True, annot=True, cbar=True)\n",
    "plt.show()"
   ]
  },
  {
   "cell_type": "code",
   "execution_count": null,
   "id": "547783db",
   "metadata": {},
   "outputs": [],
   "source": [
    "sns.pairplot(df, hue='target')"
   ]
  },
  {
   "cell_type": "code",
   "execution_count": null,
   "id": "1ee946ca",
   "metadata": {},
   "outputs": [],
   "source": [
    "# sepal length (cm)  petal width (cm)"
   ]
  },
  {
   "cell_type": "code",
   "execution_count": null,
   "id": "77b9b020",
   "metadata": {},
   "outputs": [],
   "source": [
    "# 피처 특성을 고려해서 데이터 확보\n",
    "x = df.loc[:,['sepal length (cm)','petal width (cm)']]\n",
    "y = df.loc[:,'target']"
   ]
  },
  {
   "cell_type": "code",
   "execution_count": null,
   "id": "e387a5ea",
   "metadata": {},
   "outputs": [],
   "source": [
    "knn = KNeighborsClassifier(n_neighbors=3)\n",
    "s = svm.SVC()"
   ]
  },
  {
   "cell_type": "code",
   "execution_count": null,
   "id": "0ddc5bb8",
   "metadata": {},
   "outputs": [],
   "source": [
    "# 학습용(train), 검증용(val), 테스트용(test)\n",
    "x_train,x_test,y_train,y_test =  train_test_split(x,y,random_state=32,test_size=0.3)"
   ]
  },
  {
   "cell_type": "code",
   "execution_count": null,
   "id": "e851f258",
   "metadata": {},
   "outputs": [],
   "source": [
    "x_tr,x_val,y_tr,y_val =  train_test_split(x_train,y_train,random_state=32,test_size=0.3)\n"
   ]
  },
  {
   "cell_type": "code",
   "execution_count": null,
   "id": "1f2a5e08",
   "metadata": {},
   "outputs": [],
   "source": [
    "knn.fit(x_tr,y_tr)"
   ]
  },
  {
   "cell_type": "code",
   "execution_count": null,
   "id": "d01979d0",
   "metadata": {},
   "outputs": [],
   "source": [
    "s.fit(x_tr,y_tr)"
   ]
  },
  {
   "cell_type": "code",
   "execution_count": null,
   "id": "b7759567",
   "metadata": {},
   "outputs": [],
   "source": [
    "# 예측 knn\n",
    "knn_predict = knn.predict(x_val)"
   ]
  },
  {
   "cell_type": "code",
   "execution_count": null,
   "id": "c1d753c6",
   "metadata": {},
   "outputs": [],
   "source": [
    "# 예측 svm\n",
    "svm_predict = s.predict(x_val)"
   ]
  },
  {
   "cell_type": "code",
   "execution_count": null,
   "id": "f4057d9d",
   "metadata": {},
   "outputs": [],
   "source": [
    "# 모델의 accuracy를 비교\n",
    "knn_accuracy = knn.score(x_val, y_val)\n",
    "svm_accuracy = s.score(x_val,y_val)"
   ]
  },
  {
   "cell_type": "code",
   "execution_count": null,
   "id": "d2584325",
   "metadata": {},
   "outputs": [],
   "source": [
    "knn_accuracy, svm_accuracy"
   ]
  },
  {
   "cell_type": "code",
   "execution_count": null,
   "id": "45fd4aa3",
   "metadata": {},
   "outputs": [],
   "source": [
    "# 로지스틱회귀( 사실상 분류기 분류모델)\n",
    "from sklearn.linear_model import LogisticRegression\n",
    "lr = LogisticRegression()\n",
    "lr.fit(x_tr, y_tr)\n",
    "lr_predict = lr.predict(x_val)\n",
    "lr_score = lr.score(x_val,y_val)\n",
    "lr_score"
   ]
  },
  {
   "cell_type": "code",
   "execution_count": null,
   "id": "4e7c3946",
   "metadata": {},
   "outputs": [],
   "source": [
    "# k-fold 검증  3개의 모델"
   ]
  },
  {
   "cell_type": "code",
   "execution_count": null,
   "id": "2f5b8b3e",
   "metadata": {},
   "outputs": [],
   "source": [
    "knn_cross = cross_val_score(knn,x_train,y_train,cv=5)\n",
    "s_cross = cross_val_score(s,x_train,y_train,cv=5)\n",
    "lr_cross = cross_val_score(lr,x_train,y_train,cv=5)"
   ]
  },
  {
   "cell_type": "code",
   "execution_count": null,
   "id": "0ccb07b2",
   "metadata": {},
   "outputs": [],
   "source": [
    "knn_cross.mean(), s_cross.mean(), lr_cross.mean()"
   ]
  },
  {
   "cell_type": "code",
   "execution_count": null,
   "id": "384c229c",
   "metadata": {},
   "outputs": [],
   "source": [
    "# SVM, KNN, LOR, LR"
   ]
  },
  {
   "cell_type": "code",
   "execution_count": null,
   "id": "9d2706f8",
   "metadata": {},
   "outputs": [],
   "source": [
    "# Tree\n",
    "from sklearn.tree import DecisionTreeClassifier\n",
    "dtc = DecisionTreeClassifier(max_depth=3,random_state=43)\n",
    "dtc.fit(x_tr,y_tr)"
   ]
  },
  {
   "cell_type": "code",
   "execution_count": null,
   "id": "1c1b64d0",
   "metadata": {},
   "outputs": [],
   "source": [
    "dtc_predict = dtc.predict(x_val)"
   ]
  },
  {
   "cell_type": "code",
   "execution_count": null,
   "id": "6dac90b8",
   "metadata": {},
   "outputs": [],
   "source": [
    "dtc_accuracy = dtc.score(x_val,y_val)\n",
    "dtc_accuracy"
   ]
  },
  {
   "cell_type": "code",
   "execution_count": null,
   "id": "c49bd54a",
   "metadata": {},
   "outputs": [],
   "source": [
    "# 앙상블  : tree알고리즘을 여러개 합친\n",
    "# -보팅, 여러개의 모델이 예측한 값을 결합 \n",
    "# -베깅, 전체학습데이터중에서 서로다른데이터를 샘플링하여 학습"
   ]
  },
  {
   "cell_type": "code",
   "execution_count": null,
   "id": "09d0c213",
   "metadata": {},
   "outputs": [],
   "source": [
    "from sklearn.ensemble import VotingClassifier\n",
    "hvc = VotingClassifier(estimators=[ ('knn',knn),('svm',s) ])"
   ]
  },
  {
   "cell_type": "code",
   "execution_count": null,
   "id": "6c65c787",
   "metadata": {},
   "outputs": [],
   "source": [
    "hvc.fit(x_tr,y_tr)"
   ]
  },
  {
   "cell_type": "code",
   "execution_count": null,
   "id": "d37a455b",
   "metadata": {},
   "outputs": [],
   "source": [
    "hvc_accuracy = hvc.score(x_val,y_val)\n",
    "hvc_accuracy"
   ]
  },
  {
   "cell_type": "code",
   "execution_count": null,
   "id": "a9ef3090",
   "metadata": {},
   "outputs": [],
   "source": [
    "hvc_cross = cross_val_score(hvc,x,y,cv=5)\n",
    "hvc_cross.mean()"
   ]
  },
  {
   "cell_type": "code",
   "execution_count": null,
   "id": "277f4577",
   "metadata": {},
   "outputs": [],
   "source": [
    "# 베깅 - 랜덤포레스트\n",
    "from sklearn.ensemble import RandomForestClassifier"
   ]
  },
  {
   "cell_type": "code",
   "execution_count": null,
   "id": "91f987fc",
   "metadata": {},
   "outputs": [],
   "source": [
    "rfc = RandomForestClassifier(max_depth=3)\n",
    "rfc.fit(x_tr,y_tr)"
   ]
  },
  {
   "cell_type": "code",
   "execution_count": null,
   "id": "3dd039e2",
   "metadata": {},
   "outputs": [],
   "source": [
    "rfc_accuracy = rfc.score(x_val,y_val)\n",
    "rfc_accuracy"
   ]
  },
  {
   "cell_type": "code",
   "execution_count": null,
   "id": "5532a691",
   "metadata": {},
   "outputs": [],
   "source": [
    "rfc_cross = cross_val_score(rfc,x,y,cv=5)\n",
    "rfc_cross.mean()"
   ]
  },
  {
   "cell_type": "code",
   "execution_count": null,
   "id": "a6e58588",
   "metadata": {},
   "outputs": [],
   "source": [
    "# 앙상블\n",
    "# 보팅(하드,소프트) Voting - hard, sowft  (여러개의 모델을 지정)\n",
    "# 베깅(서로다른 셈플) RandomForest\n",
    "# 부스팅(순차적인 학습) - 여러개의 분류기  : 오차를 줄여나갈수 있음  - xgboost"
   ]
  },
  {
   "cell_type": "code",
   "execution_count": null,
   "id": "83214bed",
   "metadata": {},
   "outputs": [],
   "source": [
    "pip install xgboost"
   ]
  },
  {
   "cell_type": "code",
   "execution_count": null,
   "id": "4ea5b90b",
   "metadata": {},
   "outputs": [],
   "source": [
    "from xgboost import XGBClassifier"
   ]
  },
  {
   "cell_type": "code",
   "execution_count": null,
   "id": "ce76afef",
   "metadata": {},
   "outputs": [],
   "source": [
    "xgb = XGBClassifier(max_depth  = 3)\n",
    "xgb.fit(x_tr,y_tr)"
   ]
  },
  {
   "cell_type": "code",
   "execution_count": null,
   "id": "29ff4189",
   "metadata": {},
   "outputs": [],
   "source": [
    "xgb_accuracy = xgb.score(x_val,y_val)\n",
    "xgb_accuracy"
   ]
  },
  {
   "cell_type": "code",
   "execution_count": null,
   "id": "369b1c48",
   "metadata": {},
   "outputs": [],
   "source": [
    "xgb_corss =  cross_val_score(xgb,x,y,cv=5)\n",
    "xgb_corss.mean()"
   ]
  },
  {
   "cell_type": "code",
   "execution_count": null,
   "id": "5d6acf86",
   "metadata": {},
   "outputs": [],
   "source": [
    "# 머신러닝...... xgb 모델이 속도도 빠르고 성능이 우수하다고.."
   ]
  },
  {
   "cell_type": "code",
   "execution_count": null,
   "id": "48086751",
   "metadata": {},
   "outputs": [],
   "source": [
    "len(x)"
   ]
  },
  {
   "cell_type": "code",
   "execution_count": null,
   "id": "f7a52890",
   "metadata": {},
   "outputs": [],
   "source": [
    "# 복습:\n",
    "#     분류: - 로지스틱회귀, SVM, \n",
    "#     의사결정트리, \n",
    "#     KNN  ( k mean와 헷갈리면 안됨)\n",
    "#     앙상블 \n",
    "        # 보팅  (하드:다수결, 소프트:평균) - 옵션    \n",
    "        # 베깅  서로다른 셈픔 - 랜덤포레스트\n",
    "        # 부스팅 - 순차적인학습  xgboost\n",
    "#  성능평가  모델이 정해지면  train - test\n",
    "#            여러종류의 모델을 비교 평가  train - val - test\n",
    "#  지표 : 대부분 accuracy,  score 라는 함수는 accuracy\n",
    "#         컨퓨전 매트릭스  :  민감도 특이도 (데이터편차가 심한 의료계...)\n",
    "          # 정밀도 재현율 : 이미지나 사운드와 같이 데이터가 한가지 타입으로.... \n",
    "\n",
    "#  검증 : 우연히 성능이 높고 낮음을 방지하기 위해서  cross_val_score  폴드 개념  \n",
    "#          검증용 모델, 학습,라벨, 폴드갯수를 지정하면 알아서 학습하고 accuracy를 평가해서 알려줌\n",
    "#        -  GridSearchCV와 비슷 (검증용 모델, 파라메터..)   -> 최상의 모델과 해당 파라메터 값을 - 튜닝\n",
    "  \n",
    "        \n"
   ]
  },
  {
   "cell_type": "markdown",
   "id": "fc88b2ca",
   "metadata": {},
   "source": [
    "# 회귀"
   ]
  },
  {
   "cell_type": "code",
   "execution_count": 3,
   "id": "abded25b",
   "metadata": {},
   "outputs": [],
   "source": [
    "# 데이터 : 보스턴 주택 가격\n",
    "import pandas as pd\n",
    "import numpy as np\n",
    "import matplotlib.pyplot as plt\n",
    "import seaborn as sns\n",
    "from sklearn import datasets"
   ]
  },
  {
   "cell_type": "code",
   "execution_count": 5,
   "id": "cf1161c7",
   "metadata": {},
   "outputs": [],
   "source": [
    "# data = datasets.load_boston()\n",
    "data_url = \"http://lib.stat.cmu.edu/datasets/boston\"\n",
    "raw_df = pd.read_csv(data_url, sep=\"\\s+\", skiprows=22, header=None)\n",
    "data = np.hstack([raw_df.values[::2, :], raw_df.values[1::2, :2]])  \n",
    "target = raw_df.values[1::2, 2]"
   ]
  },
  {
   "cell_type": "code",
   "execution_count": 6,
   "id": "20c0af0c",
   "metadata": {},
   "outputs": [],
   "source": [
    "# 전처리....결측치 유무 및 중복데이터만 처리하고 넘어갑시다.."
   ]
  },
  {
   "cell_type": "code",
   "execution_count": 8,
   "id": "910c9737",
   "metadata": {},
   "outputs": [
    {
     "data": {
      "text/html": [
       "<div>\n",
       "<style scoped>\n",
       "    .dataframe tbody tr th:only-of-type {\n",
       "        vertical-align: middle;\n",
       "    }\n",
       "\n",
       "    .dataframe tbody tr th {\n",
       "        vertical-align: top;\n",
       "    }\n",
       "\n",
       "    .dataframe thead th {\n",
       "        text-align: right;\n",
       "    }\n",
       "</style>\n",
       "<table border=\"1\" class=\"dataframe\">\n",
       "  <thead>\n",
       "    <tr style=\"text-align: right;\">\n",
       "      <th></th>\n",
       "      <th>0</th>\n",
       "      <th>1</th>\n",
       "      <th>2</th>\n",
       "      <th>3</th>\n",
       "      <th>4</th>\n",
       "      <th>5</th>\n",
       "      <th>6</th>\n",
       "      <th>7</th>\n",
       "      <th>8</th>\n",
       "      <th>9</th>\n",
       "      <th>10</th>\n",
       "    </tr>\n",
       "  </thead>\n",
       "  <tbody>\n",
       "    <tr>\n",
       "      <th>0</th>\n",
       "      <td>0.00632</td>\n",
       "      <td>18.00</td>\n",
       "      <td>2.31</td>\n",
       "      <td>0.0</td>\n",
       "      <td>0.538</td>\n",
       "      <td>6.575</td>\n",
       "      <td>65.2</td>\n",
       "      <td>4.0900</td>\n",
       "      <td>1.0</td>\n",
       "      <td>296.0</td>\n",
       "      <td>15.3</td>\n",
       "    </tr>\n",
       "    <tr>\n",
       "      <th>1</th>\n",
       "      <td>396.90000</td>\n",
       "      <td>4.98</td>\n",
       "      <td>24.00</td>\n",
       "      <td>NaN</td>\n",
       "      <td>NaN</td>\n",
       "      <td>NaN</td>\n",
       "      <td>NaN</td>\n",
       "      <td>NaN</td>\n",
       "      <td>NaN</td>\n",
       "      <td>NaN</td>\n",
       "      <td>NaN</td>\n",
       "    </tr>\n",
       "    <tr>\n",
       "      <th>2</th>\n",
       "      <td>0.02731</td>\n",
       "      <td>0.00</td>\n",
       "      <td>7.07</td>\n",
       "      <td>0.0</td>\n",
       "      <td>0.469</td>\n",
       "      <td>6.421</td>\n",
       "      <td>78.9</td>\n",
       "      <td>4.9671</td>\n",
       "      <td>2.0</td>\n",
       "      <td>242.0</td>\n",
       "      <td>17.8</td>\n",
       "    </tr>\n",
       "    <tr>\n",
       "      <th>3</th>\n",
       "      <td>396.90000</td>\n",
       "      <td>9.14</td>\n",
       "      <td>21.60</td>\n",
       "      <td>NaN</td>\n",
       "      <td>NaN</td>\n",
       "      <td>NaN</td>\n",
       "      <td>NaN</td>\n",
       "      <td>NaN</td>\n",
       "      <td>NaN</td>\n",
       "      <td>NaN</td>\n",
       "      <td>NaN</td>\n",
       "    </tr>\n",
       "    <tr>\n",
       "      <th>4</th>\n",
       "      <td>0.02729</td>\n",
       "      <td>0.00</td>\n",
       "      <td>7.07</td>\n",
       "      <td>0.0</td>\n",
       "      <td>0.469</td>\n",
       "      <td>7.185</td>\n",
       "      <td>61.1</td>\n",
       "      <td>4.9671</td>\n",
       "      <td>2.0</td>\n",
       "      <td>242.0</td>\n",
       "      <td>17.8</td>\n",
       "    </tr>\n",
       "    <tr>\n",
       "      <th>...</th>\n",
       "      <td>...</td>\n",
       "      <td>...</td>\n",
       "      <td>...</td>\n",
       "      <td>...</td>\n",
       "      <td>...</td>\n",
       "      <td>...</td>\n",
       "      <td>...</td>\n",
       "      <td>...</td>\n",
       "      <td>...</td>\n",
       "      <td>...</td>\n",
       "      <td>...</td>\n",
       "    </tr>\n",
       "    <tr>\n",
       "      <th>1007</th>\n",
       "      <td>396.90000</td>\n",
       "      <td>5.64</td>\n",
       "      <td>23.90</td>\n",
       "      <td>NaN</td>\n",
       "      <td>NaN</td>\n",
       "      <td>NaN</td>\n",
       "      <td>NaN</td>\n",
       "      <td>NaN</td>\n",
       "      <td>NaN</td>\n",
       "      <td>NaN</td>\n",
       "      <td>NaN</td>\n",
       "    </tr>\n",
       "    <tr>\n",
       "      <th>1008</th>\n",
       "      <td>0.10959</td>\n",
       "      <td>0.00</td>\n",
       "      <td>11.93</td>\n",
       "      <td>0.0</td>\n",
       "      <td>0.573</td>\n",
       "      <td>6.794</td>\n",
       "      <td>89.3</td>\n",
       "      <td>2.3889</td>\n",
       "      <td>1.0</td>\n",
       "      <td>273.0</td>\n",
       "      <td>21.0</td>\n",
       "    </tr>\n",
       "    <tr>\n",
       "      <th>1009</th>\n",
       "      <td>393.45000</td>\n",
       "      <td>6.48</td>\n",
       "      <td>22.00</td>\n",
       "      <td>NaN</td>\n",
       "      <td>NaN</td>\n",
       "      <td>NaN</td>\n",
       "      <td>NaN</td>\n",
       "      <td>NaN</td>\n",
       "      <td>NaN</td>\n",
       "      <td>NaN</td>\n",
       "      <td>NaN</td>\n",
       "    </tr>\n",
       "    <tr>\n",
       "      <th>1010</th>\n",
       "      <td>0.04741</td>\n",
       "      <td>0.00</td>\n",
       "      <td>11.93</td>\n",
       "      <td>0.0</td>\n",
       "      <td>0.573</td>\n",
       "      <td>6.030</td>\n",
       "      <td>80.8</td>\n",
       "      <td>2.5050</td>\n",
       "      <td>1.0</td>\n",
       "      <td>273.0</td>\n",
       "      <td>21.0</td>\n",
       "    </tr>\n",
       "    <tr>\n",
       "      <th>1011</th>\n",
       "      <td>396.90000</td>\n",
       "      <td>7.88</td>\n",
       "      <td>11.90</td>\n",
       "      <td>NaN</td>\n",
       "      <td>NaN</td>\n",
       "      <td>NaN</td>\n",
       "      <td>NaN</td>\n",
       "      <td>NaN</td>\n",
       "      <td>NaN</td>\n",
       "      <td>NaN</td>\n",
       "      <td>NaN</td>\n",
       "    </tr>\n",
       "  </tbody>\n",
       "</table>\n",
       "<p>1012 rows × 11 columns</p>\n",
       "</div>"
      ],
      "text/plain": [
       "             0      1      2    3      4      5     6       7    8      9   \\\n",
       "0       0.00632  18.00   2.31  0.0  0.538  6.575  65.2  4.0900  1.0  296.0   \n",
       "1     396.90000   4.98  24.00  NaN    NaN    NaN   NaN     NaN  NaN    NaN   \n",
       "2       0.02731   0.00   7.07  0.0  0.469  6.421  78.9  4.9671  2.0  242.0   \n",
       "3     396.90000   9.14  21.60  NaN    NaN    NaN   NaN     NaN  NaN    NaN   \n",
       "4       0.02729   0.00   7.07  0.0  0.469  7.185  61.1  4.9671  2.0  242.0   \n",
       "...         ...    ...    ...  ...    ...    ...   ...     ...  ...    ...   \n",
       "1007  396.90000   5.64  23.90  NaN    NaN    NaN   NaN     NaN  NaN    NaN   \n",
       "1008    0.10959   0.00  11.93  0.0  0.573  6.794  89.3  2.3889  1.0  273.0   \n",
       "1009  393.45000   6.48  22.00  NaN    NaN    NaN   NaN     NaN  NaN    NaN   \n",
       "1010    0.04741   0.00  11.93  0.0  0.573  6.030  80.8  2.5050  1.0  273.0   \n",
       "1011  396.90000   7.88  11.90  NaN    NaN    NaN   NaN     NaN  NaN    NaN   \n",
       "\n",
       "        10  \n",
       "0     15.3  \n",
       "1      NaN  \n",
       "2     17.8  \n",
       "3      NaN  \n",
       "4     17.8  \n",
       "...    ...  \n",
       "1007   NaN  \n",
       "1008  21.0  \n",
       "1009   NaN  \n",
       "1010  21.0  \n",
       "1011   NaN  \n",
       "\n",
       "[1012 rows x 11 columns]"
      ]
     },
     "execution_count": 8,
     "metadata": {},
     "output_type": "execute_result"
    }
   ],
   "source": [
    "CRIM     per capita crime rate by town\n",
    "ZN       proportion of residential land zoned for lots over 25,000 sq.ft.\n",
    "INDUS    proportion of non-retail business acres per town\n",
    "CHAS     Charles River dummy variable (= 1 if tract bounds river; 0 otherwise)\n",
    "NOX      nitric oxides concentration (parts per 10 million)\n",
    "RM       average number of rooms per dwelling\n",
    "AGE      proportion of owner-occupied units built prior to 1940\n",
    "DIS      weighted distances to five Boston employment centres\n",
    "RAD      index of accessibility to radial highways\n",
    "TAX      full-value property-tax rate per $10,000\n",
    "PTRATIO  pupil-teacher ratio by town\n",
    "B        1000(Bk - 0.63)^2 where Bk is the proportion of blacks by town\n",
    "LSTAT    % lower status of the population\n",
    "MEDV     Median value of owner-occupied homes in $1000's"
   ]
  },
  {
   "cell_type": "code",
   "execution_count": 17,
   "id": "f0002503",
   "metadata": {},
   "outputs": [],
   "source": [
    "df = pd.DataFrame(data)\n",
    "df['target'] = target\n",
    "df.columns = ['CRIM','ZN','INDUS','CHAS','NOX','RM','AGE','DIS','RAD','TAX','PTRATIO','B','LSTAT','MEDV']"
   ]
  },
  {
   "cell_type": "code",
   "execution_count": 18,
   "id": "804ba261",
   "metadata": {},
   "outputs": [
    {
     "data": {
      "text/html": [
       "<div>\n",
       "<style scoped>\n",
       "    .dataframe tbody tr th:only-of-type {\n",
       "        vertical-align: middle;\n",
       "    }\n",
       "\n",
       "    .dataframe tbody tr th {\n",
       "        vertical-align: top;\n",
       "    }\n",
       "\n",
       "    .dataframe thead th {\n",
       "        text-align: right;\n",
       "    }\n",
       "</style>\n",
       "<table border=\"1\" class=\"dataframe\">\n",
       "  <thead>\n",
       "    <tr style=\"text-align: right;\">\n",
       "      <th></th>\n",
       "      <th>CRIM</th>\n",
       "      <th>ZN</th>\n",
       "      <th>INDUS</th>\n",
       "      <th>CHAS</th>\n",
       "      <th>NOX</th>\n",
       "      <th>RM</th>\n",
       "      <th>AGE</th>\n",
       "      <th>DIS</th>\n",
       "      <th>RAD</th>\n",
       "      <th>TAX</th>\n",
       "      <th>PTRATIO</th>\n",
       "      <th>B</th>\n",
       "      <th>LSTAT</th>\n",
       "      <th>MEDV</th>\n",
       "    </tr>\n",
       "  </thead>\n",
       "  <tbody>\n",
       "    <tr>\n",
       "      <th>0</th>\n",
       "      <td>0.00632</td>\n",
       "      <td>18.0</td>\n",
       "      <td>2.31</td>\n",
       "      <td>0.0</td>\n",
       "      <td>0.538</td>\n",
       "      <td>6.575</td>\n",
       "      <td>65.2</td>\n",
       "      <td>4.0900</td>\n",
       "      <td>1.0</td>\n",
       "      <td>296.0</td>\n",
       "      <td>15.3</td>\n",
       "      <td>396.90</td>\n",
       "      <td>4.98</td>\n",
       "      <td>24.0</td>\n",
       "    </tr>\n",
       "    <tr>\n",
       "      <th>1</th>\n",
       "      <td>0.02731</td>\n",
       "      <td>0.0</td>\n",
       "      <td>7.07</td>\n",
       "      <td>0.0</td>\n",
       "      <td>0.469</td>\n",
       "      <td>6.421</td>\n",
       "      <td>78.9</td>\n",
       "      <td>4.9671</td>\n",
       "      <td>2.0</td>\n",
       "      <td>242.0</td>\n",
       "      <td>17.8</td>\n",
       "      <td>396.90</td>\n",
       "      <td>9.14</td>\n",
       "      <td>21.6</td>\n",
       "    </tr>\n",
       "    <tr>\n",
       "      <th>2</th>\n",
       "      <td>0.02729</td>\n",
       "      <td>0.0</td>\n",
       "      <td>7.07</td>\n",
       "      <td>0.0</td>\n",
       "      <td>0.469</td>\n",
       "      <td>7.185</td>\n",
       "      <td>61.1</td>\n",
       "      <td>4.9671</td>\n",
       "      <td>2.0</td>\n",
       "      <td>242.0</td>\n",
       "      <td>17.8</td>\n",
       "      <td>392.83</td>\n",
       "      <td>4.03</td>\n",
       "      <td>34.7</td>\n",
       "    </tr>\n",
       "    <tr>\n",
       "      <th>3</th>\n",
       "      <td>0.03237</td>\n",
       "      <td>0.0</td>\n",
       "      <td>2.18</td>\n",
       "      <td>0.0</td>\n",
       "      <td>0.458</td>\n",
       "      <td>6.998</td>\n",
       "      <td>45.8</td>\n",
       "      <td>6.0622</td>\n",
       "      <td>3.0</td>\n",
       "      <td>222.0</td>\n",
       "      <td>18.7</td>\n",
       "      <td>394.63</td>\n",
       "      <td>2.94</td>\n",
       "      <td>33.4</td>\n",
       "    </tr>\n",
       "    <tr>\n",
       "      <th>4</th>\n",
       "      <td>0.06905</td>\n",
       "      <td>0.0</td>\n",
       "      <td>2.18</td>\n",
       "      <td>0.0</td>\n",
       "      <td>0.458</td>\n",
       "      <td>7.147</td>\n",
       "      <td>54.2</td>\n",
       "      <td>6.0622</td>\n",
       "      <td>3.0</td>\n",
       "      <td>222.0</td>\n",
       "      <td>18.7</td>\n",
       "      <td>396.90</td>\n",
       "      <td>5.33</td>\n",
       "      <td>36.2</td>\n",
       "    </tr>\n",
       "  </tbody>\n",
       "</table>\n",
       "</div>"
      ],
      "text/plain": [
       "      CRIM    ZN  INDUS  CHAS    NOX     RM   AGE     DIS  RAD    TAX  \\\n",
       "0  0.00632  18.0   2.31   0.0  0.538  6.575  65.2  4.0900  1.0  296.0   \n",
       "1  0.02731   0.0   7.07   0.0  0.469  6.421  78.9  4.9671  2.0  242.0   \n",
       "2  0.02729   0.0   7.07   0.0  0.469  7.185  61.1  4.9671  2.0  242.0   \n",
       "3  0.03237   0.0   2.18   0.0  0.458  6.998  45.8  6.0622  3.0  222.0   \n",
       "4  0.06905   0.0   2.18   0.0  0.458  7.147  54.2  6.0622  3.0  222.0   \n",
       "\n",
       "   PTRATIO       B  LSTAT  MEDV  \n",
       "0     15.3  396.90   4.98  24.0  \n",
       "1     17.8  396.90   9.14  21.6  \n",
       "2     17.8  392.83   4.03  34.7  \n",
       "3     18.7  394.63   2.94  33.4  \n",
       "4     18.7  396.90   5.33  36.2  "
      ]
     },
     "execution_count": 18,
     "metadata": {},
     "output_type": "execute_result"
    }
   ],
   "source": [
    "df.head()"
   ]
  },
  {
   "cell_type": "code",
   "execution_count": 19,
   "id": "418bcf6b",
   "metadata": {},
   "outputs": [
    {
     "data": {
      "text/plain": [
       "CRIM       0\n",
       "ZN         0\n",
       "INDUS      0\n",
       "CHAS       0\n",
       "NOX        0\n",
       "RM         0\n",
       "AGE        0\n",
       "DIS        0\n",
       "RAD        0\n",
       "TAX        0\n",
       "PTRATIO    0\n",
       "B          0\n",
       "LSTAT      0\n",
       "MEDV       0\n",
       "dtype: int64"
      ]
     },
     "execution_count": 19,
     "metadata": {},
     "output_type": "execute_result"
    }
   ],
   "source": [
    "# 결측치 유무\n",
    "df.isnull().sum()"
   ]
  },
  {
   "cell_type": "code",
   "execution_count": 21,
   "id": "77c43a84",
   "metadata": {},
   "outputs": [
    {
     "data": {
      "text/plain": [
       "0"
      ]
     },
     "execution_count": 21,
     "metadata": {},
     "output_type": "execute_result"
    }
   ],
   "source": [
    "# 중복데이터\n",
    "df.duplicated().sum()"
   ]
  },
  {
   "cell_type": "code",
   "execution_count": 22,
   "id": "c520398d",
   "metadata": {},
   "outputs": [],
   "source": [
    "# 베이스 모델 : 선형회귀\n",
    "from sklearn.linear_model import LinearRegression"
   ]
  },
  {
   "cell_type": "code",
   "execution_count": 23,
   "id": "f6775ea7",
   "metadata": {},
   "outputs": [],
   "source": [
    "# 데이터 만들기\n",
    "# 표준화\n",
    "# 분할"
   ]
  },
  {
   "cell_type": "code",
   "execution_count": 24,
   "id": "970a2e72",
   "metadata": {},
   "outputs": [],
   "source": [
    "# 특성벡터(독립변수 또는 학습데이터) , 라벨(정답 또는 타겟) 분리\n",
    "x = df.iloc[:,:-1]\n",
    "y = df.iloc[:,-1]"
   ]
  },
  {
   "cell_type": "code",
   "execution_count": 96,
   "id": "8450cbf9",
   "metadata": {},
   "outputs": [
    {
     "data": {
      "text/plain": [
       "(0.7382339763448309, 0.7594585032160832)"
      ]
     },
     "execution_count": 96,
     "metadata": {},
     "output_type": "execute_result"
    }
   ],
   "source": [
    "from sklearn.preprocessing import StandardScaler\n",
    "# 데이터 표준화\n",
    "ss = StandardScaler()\n",
    "x = ss.fit_transform(x)\n",
    "# 분할\n",
    "from sklearn.model_selection import train_test_split\n",
    "x_train,x_test,y_train,y_test =  train_test_split(x,y,random_state=32)\n",
    "# 적용\n",
    "from sklearn.linear_model import LinearRegression\n",
    "lr = LinearRegression()\n",
    "lr.fit(x_train,y_train)\n",
    "# accuracy 값을 확인  (train, test) -- overfit\n",
    "lr.score(x_train,y_train), lr.score(x_test,y_test)"
   ]
  },
  {
   "cell_type": "code",
   "execution_count": 108,
   "id": "5ed9cbea",
   "metadata": {},
   "outputs": [
    {
     "data": {
      "text/plain": [
       "0.7122628401336212"
      ]
     },
     "execution_count": 108,
     "metadata": {},
     "output_type": "execute_result"
    }
   ],
   "source": [
    "# 교차검증 (장점 : 빠르게 확인, 단점 : -값이 존재.. 데이터가 섞이지 않은상태로 )\n",
    "df2 = df.sample(len(df),random_state=32)\n",
    "from sklearn.model_selection import cross_val_score\n",
    "crossed = cross_val_score(lr,df2.iloc[:,:-1],df2.iloc[:,-1],cv=10)\n",
    "crossed.mean()"
   ]
  },
  {
   "cell_type": "code",
   "execution_count": 109,
   "id": "8dfd13af",
   "metadata": {},
   "outputs": [],
   "source": [
    "# 다양한 평가 지표\n",
    "# 잔차...  residuals  : 실제값과 예측값의 차이\n",
    "\n",
    "# MAE   : Mean Absolute Error : 잔차의 절대값들의 평균 \n",
    "# MSE   : Mean Squared Error : 잔차의 제곱값들의 평균\n",
    "# RMSE  : MSE 제곱근"
   ]
  },
  {
   "cell_type": "code",
   "execution_count": 113,
   "id": "ff405e7d",
   "metadata": {},
   "outputs": [],
   "source": [
    "from sklearn.metrics import mean_squared_error"
   ]
  },
  {
   "cell_type": "code",
   "execution_count": 114,
   "id": "874e6d61",
   "metadata": {},
   "outputs": [],
   "source": [
    "y_predict = lr.predict(x_train)"
   ]
  },
  {
   "cell_type": "code",
   "execution_count": 117,
   "id": "26e8c41c",
   "metadata": {},
   "outputs": [
    {
     "data": {
      "text/plain": [
       "(22.672623253972894, 4.761577811395388)"
      ]
     },
     "execution_count": 117,
     "metadata": {},
     "output_type": "execute_result"
    }
   ],
   "source": [
    "lr_mse = mean_squared_error(y_predict,y_train)\n",
    "lr_rmse =  np.sqrt(lr_mse)\n",
    "lr_mse, lr_rmse"
   ]
  },
  {
   "cell_type": "code",
   "execution_count": 123,
   "id": "1d2806ea",
   "metadata": {},
   "outputs": [],
   "source": [
    "# 정확성을 높이기 위해서 단항식->다항식... 예측력을 높일수\n",
    "# 2차 다항식\n",
    "from sklearn.preprocessing import PolynomialFeatures\n",
    "pf = PolynomialFeatures(degree=2)\n",
    "x_train_poly =  pf.fit_transform(x_train)\n",
    "x_test_poly =  pf.fit_transform(x_test)"
   ]
  },
  {
   "cell_type": "code",
   "execution_count": 124,
   "id": "62800e8f",
   "metadata": {},
   "outputs": [
    {
     "data": {
      "text/plain": [
       "((379, 105), (379, 13))"
      ]
     },
     "execution_count": 124,
     "metadata": {},
     "output_type": "execute_result"
    }
   ],
   "source": [
    "x_train_poly.shape,x_train.shape"
   ]
  },
  {
   "cell_type": "code",
   "execution_count": 125,
   "id": "2bb98689",
   "metadata": {},
   "outputs": [
    {
     "data": {
      "text/html": [
       "<style>#sk-container-id-3 {color: black;background-color: white;}#sk-container-id-3 pre{padding: 0;}#sk-container-id-3 div.sk-toggleable {background-color: white;}#sk-container-id-3 label.sk-toggleable__label {cursor: pointer;display: block;width: 100%;margin-bottom: 0;padding: 0.3em;box-sizing: border-box;text-align: center;}#sk-container-id-3 label.sk-toggleable__label-arrow:before {content: \"▸\";float: left;margin-right: 0.25em;color: #696969;}#sk-container-id-3 label.sk-toggleable__label-arrow:hover:before {color: black;}#sk-container-id-3 div.sk-estimator:hover label.sk-toggleable__label-arrow:before {color: black;}#sk-container-id-3 div.sk-toggleable__content {max-height: 0;max-width: 0;overflow: hidden;text-align: left;background-color: #f0f8ff;}#sk-container-id-3 div.sk-toggleable__content pre {margin: 0.2em;color: black;border-radius: 0.25em;background-color: #f0f8ff;}#sk-container-id-3 input.sk-toggleable__control:checked~div.sk-toggleable__content {max-height: 200px;max-width: 100%;overflow: auto;}#sk-container-id-3 input.sk-toggleable__control:checked~label.sk-toggleable__label-arrow:before {content: \"▾\";}#sk-container-id-3 div.sk-estimator input.sk-toggleable__control:checked~label.sk-toggleable__label {background-color: #d4ebff;}#sk-container-id-3 div.sk-label input.sk-toggleable__control:checked~label.sk-toggleable__label {background-color: #d4ebff;}#sk-container-id-3 input.sk-hidden--visually {border: 0;clip: rect(1px 1px 1px 1px);clip: rect(1px, 1px, 1px, 1px);height: 1px;margin: -1px;overflow: hidden;padding: 0;position: absolute;width: 1px;}#sk-container-id-3 div.sk-estimator {font-family: monospace;background-color: #f0f8ff;border: 1px dotted black;border-radius: 0.25em;box-sizing: border-box;margin-bottom: 0.5em;}#sk-container-id-3 div.sk-estimator:hover {background-color: #d4ebff;}#sk-container-id-3 div.sk-parallel-item::after {content: \"\";width: 100%;border-bottom: 1px solid gray;flex-grow: 1;}#sk-container-id-3 div.sk-label:hover label.sk-toggleable__label {background-color: #d4ebff;}#sk-container-id-3 div.sk-serial::before {content: \"\";position: absolute;border-left: 1px solid gray;box-sizing: border-box;top: 0;bottom: 0;left: 50%;z-index: 0;}#sk-container-id-3 div.sk-serial {display: flex;flex-direction: column;align-items: center;background-color: white;padding-right: 0.2em;padding-left: 0.2em;position: relative;}#sk-container-id-3 div.sk-item {position: relative;z-index: 1;}#sk-container-id-3 div.sk-parallel {display: flex;align-items: stretch;justify-content: center;background-color: white;position: relative;}#sk-container-id-3 div.sk-item::before, #sk-container-id-3 div.sk-parallel-item::before {content: \"\";position: absolute;border-left: 1px solid gray;box-sizing: border-box;top: 0;bottom: 0;left: 50%;z-index: -1;}#sk-container-id-3 div.sk-parallel-item {display: flex;flex-direction: column;z-index: 1;position: relative;background-color: white;}#sk-container-id-3 div.sk-parallel-item:first-child::after {align-self: flex-end;width: 50%;}#sk-container-id-3 div.sk-parallel-item:last-child::after {align-self: flex-start;width: 50%;}#sk-container-id-3 div.sk-parallel-item:only-child::after {width: 0;}#sk-container-id-3 div.sk-dashed-wrapped {border: 1px dashed gray;margin: 0 0.4em 0.5em 0.4em;box-sizing: border-box;padding-bottom: 0.4em;background-color: white;}#sk-container-id-3 div.sk-label label {font-family: monospace;font-weight: bold;display: inline-block;line-height: 1.2em;}#sk-container-id-3 div.sk-label-container {text-align: center;}#sk-container-id-3 div.sk-container {/* jupyter's `normalize.less` sets `[hidden] { display: none; }` but bootstrap.min.css set `[hidden] { display: none !important; }` so we also need the `!important` here to be able to override the default hidden behavior on the sphinx rendered scikit-learn.org. See: https://github.com/scikit-learn/scikit-learn/issues/21755 */display: inline-block !important;position: relative;}#sk-container-id-3 div.sk-text-repr-fallback {display: none;}</style><div id=\"sk-container-id-3\" class=\"sk-top-container\"><div class=\"sk-text-repr-fallback\"><pre>LinearRegression()</pre><b>In a Jupyter environment, please rerun this cell to show the HTML representation or trust the notebook. <br />On GitHub, the HTML representation is unable to render, please try loading this page with nbviewer.org.</b></div><div class=\"sk-container\" hidden><div class=\"sk-item\"><div class=\"sk-estimator sk-toggleable\"><input class=\"sk-toggleable__control sk-hidden--visually\" id=\"sk-estimator-id-5\" type=\"checkbox\" checked><label for=\"sk-estimator-id-5\" class=\"sk-toggleable__label sk-toggleable__label-arrow\">LinearRegression</label><div class=\"sk-toggleable__content\"><pre>LinearRegression()</pre></div></div></div></div></div>"
      ],
      "text/plain": [
       "LinearRegression()"
      ]
     },
     "execution_count": 125,
     "metadata": {},
     "output_type": "execute_result"
    }
   ],
   "source": [
    "# 2차로 변경한 데이터셋으로 선형 회귀를 학습\n",
    "lr.fit(x_train_poly,y_train)"
   ]
  },
  {
   "cell_type": "code",
   "execution_count": 127,
   "id": "3ef0a628",
   "metadata": {},
   "outputs": [
    {
     "data": {
      "text/plain": [
       "(0.9345408359322798, 0.8160258455874725)"
      ]
     },
     "execution_count": 127,
     "metadata": {},
     "output_type": "execute_result"
    }
   ],
   "source": [
    "# 평가  \n",
    "lr.score(x_train_poly,y_train), lr.score(x_test_poly,y_test)"
   ]
  },
  {
   "cell_type": "code",
   "execution_count": 128,
   "id": "270542df",
   "metadata": {},
   "outputs": [],
   "source": [
    "# 과적합을 해결하는 방법\n",
    "# 1. 규제를  사용하는 방법\n",
    "# 2. 데이터 증폭"
   ]
  },
  {
   "cell_type": "code",
   "execution_count": 141,
   "id": "39f135e6",
   "metadata": {},
   "outputs": [
    {
     "data": {
      "text/plain": [
       "(379,)"
      ]
     },
     "execution_count": 141,
     "metadata": {},
     "output_type": "execute_result"
    }
   ],
   "source": [
    "x_train[:,-1].shape"
   ]
  },
  {
   "cell_type": "code",
   "execution_count": 142,
   "id": "3bcc7fd4",
   "metadata": {},
   "outputs": [
    {
     "data": {
      "image/png": "[encoded data removed]",
      "text/plain": [
       "<Figure size 1500x500 with 3 Axes>"
      ]
     },
     "metadata": {},
     "output_type": "display_data"
    }
   ],
   "source": [
    "# 다항식 차수에 따른 차이를 시각적으로 비교\n",
    "plt.figure(figsize=(15,5))\n",
    "for n, deg in enumerate([1,2,15]):\n",
    "    ax1 = plt.subplot(1,3,n+1)\n",
    "    pf = PolynomialFeatures(degree=deg)\n",
    "    # 차수를 2차원으로 변경\n",
    "    xtr = np.expand_dims(x_train[:,-1],axis=-1)\n",
    "    xte = x_test[:,-1].reshape(-1,1)\n",
    "    \n",
    "    x_train_p = pf.fit_transform(xtr)\n",
    "    x_test_p = pf.fit_transform(xte)\n",
    "    lr = LinearRegression()\n",
    "    lr.fit(x_train_p,y_train)\n",
    "    y_test_predict = lr.predict(x_test_p)\n",
    "    # 실제값의 분포\n",
    "    plt.scatter(x_test[:,-1],y_test,  label='Target')\n",
    "    # 예측값의 분포\n",
    "    plt.scatter(x_test[:,-1],y_test_predict,  label='Predict')\n",
    "    #제목\n",
    "    plt.title(f\"degree : {deg}\")\n",
    "    plt.legend()\n",
    "plt.show()    "
   ]
  },
  {
   "cell_type": "code",
   "execution_count": null,
   "id": "f88b5a0b",
   "metadata": {},
   "outputs": [],
   "source": [
    "# L1 /L2 규제  Regularization\n",
    "# 가중치(회귀계수) 페널티를 부과 -> 가중치를 낮춤\n",
    "# L2 :  가중치의 제곱합에 페널티를 부과 - Ridge\n",
    "# L1 :  가중치의 절대값의합에 페널티를 부과 - Lasso"
   ]
  },
  {
   "cell_type": "code",
   "execution_count": 161,
   "id": "69ac39d2",
   "metadata": {},
   "outputs": [
    {
     "name": "stdout",
     "output_type": "stream",
     "text": [
      "1.698748236019723\n",
      "57.03500653675642\n",
      "56.48801102385611\n",
      "60.99373207526475\n"
     ]
    }
   ],
   "source": [
    "# 다항식은 15차수\n",
    "# overfit\n",
    "# 평가지표는 MSE\n",
    "pf15 = PolynomialFeatures(degree=3)\n",
    "x_train_15 =  pf15.fit_transform(x_train)\n",
    "x_test_15 =  pf15.fit_transform(x_test)\n",
    "lr = LinearRegression()\n",
    "lr.fit(x_train_15,y_train)\n",
    "y_train_predict_15 = lr.predict(x_train_15)\n",
    "y_test_predict_15 = lr.predict(x_test_15)\n",
    "np.sqrt(mean_squared_error(y_train_predict_15,y_train)), np.sqrt(mean_squared_error(y_test_predict_15,y_test))\n",
    "\n",
    "# 규제 알고리즘을 적용하면 \n",
    "# Ridge\n",
    "\n",
    "# MSE + 가중치 제곱합\n",
    "from sklearn.linear_model import Ridge\n",
    "ridge = Ridge(alpha=2.5)\n",
    "ridge.fit(x_train_15,y_train)\n",
    "print(mean_squared_error(y_train, ridge.predict(x_train_15)))\n",
    "print(mean_squared_error(y_test, ridge.predict(x_test_15)))\n",
    "\n",
    "# L1규제\n",
    "from sklearn.linear_model import Lasso\n",
    "lasso = Lasso(alpha=10)\n",
    "lasso.fit(x_train_15,y_train)\n",
    "print(mean_squared_error(y_train, lasso.predict(x_train_15)))\n",
    "print(mean_squared_error(y_test, lasso.predict(x_test_15)))\n",
    "\n",
    "# 시각화를 통해 최적의 alpha - 시각화"
   ]
  },
  {
   "cell_type": "code",
   "execution_count": 167,
   "id": "b98422ec",
   "metadata": {},
   "outputs": [
    {
     "name": "stdout",
     "output_type": "stream",
     "text": [
      "16.719308296945083\n",
      "22.300282631890862\n"
     ]
    }
   ],
   "source": [
    "# ElasticNet   L1 + L2  alpha : \n",
    "from sklearn.linear_model import ElasticNet\n",
    "elastic = ElasticNet(alpha=2.25, l1_ratio=0.3)\n",
    "elastic.fit(x_train_15,y_train)\n",
    "print(mean_squared_error(y_train, elastic.predict(x_train_15)))\n",
    "print(mean_squared_error(y_test, elastic.predict(x_test_15)))"
   ]
  },
  {
   "cell_type": "code",
   "execution_count": null,
   "id": "a6eaac7b",
   "metadata": {},
   "outputs": [],
   "source": [
    "# 비 선형 회귀\n",
    "# Tree - DT\n",
    "# 랜덤포레스트\n",
    "# XGBoost"
   ]
  },
  {
   "cell_type": "code",
   "execution_count": null,
   "id": "705af453",
   "metadata": {},
   "outputs": [],
   "source": [
    "# 데이터 정제..."
   ]
  },
  {
   "cell_type": "code",
   "execution_count": 168,
   "id": "d511602d",
   "metadata": {},
   "outputs": [],
   "source": [
    "data_url = \"http://lib.stat.cmu.edu/datasets/boston\"\n",
    "raw_df = pd.read_csv(data_url, sep=\"\\s+\", skiprows=22, header=None)\n",
    "data = np.hstack([raw_df.values[::2, :], raw_df.values[1::2, :2]])  \n",
    "target = raw_df.values[1::2, 2]"
   ]
  },
  {
   "cell_type": "code",
   "execution_count": 169,
   "id": "96a6d7c2",
   "metadata": {},
   "outputs": [],
   "source": [
    "# Tree\n",
    "from sklearn.tree import DecisionTreeRegressor\n",
    "#성능 지표 mse"
   ]
  },
  {
   "cell_type": "code",
   "execution_count": 174,
   "id": "21622cab",
   "metadata": {},
   "outputs": [
    {
     "data": {
      "text/plain": [
       "(16.47173639286226, 23.59231990900198)"
      ]
     },
     "execution_count": 174,
     "metadata": {},
     "output_type": "execute_result"
    }
   ],
   "source": [
    "# 표준화\n",
    "ss =  StandardScaler()\n",
    "data = ss.fit_transform(data)\n",
    "# 분할\n",
    "x_train,x_test,y_train,y_test=train_test_split(data,target,random_state=32)\n",
    "# 적용\n",
    "dt = DecisionTreeRegressor(max_depth=3,random_state=32)\n",
    "dt.fit(x_train,y_train)\n",
    "\n",
    "y_train_predict = dt.predict(x_train)\n",
    "y_test_predict = dt.predict(x_test)\n",
    "# mse 값 확인\n",
    "mean_squared_error(y_train,y_train_predict), mean_squared_error(y_test,y_test_predict)"
   ]
  },
  {
   "cell_type": "code",
   "execution_count": 175,
   "id": "334360f5",
   "metadata": {},
   "outputs": [
    {
     "data": {
      "text/plain": [
       "(10.626432004304844, 15.557989071677001)"
      ]
     },
     "execution_count": 175,
     "metadata": {},
     "output_type": "execute_result"
    }
   ],
   "source": [
    "# 랜덤포레스트\n",
    "from sklearn.ensemble import RandomForestRegressor\n",
    "dt = RandomForestRegressor(max_depth=3,random_state=32)\n",
    "dt.fit(x_train,y_train)\n",
    "\n",
    "y_train_predict = dt.predict(x_train)\n",
    "y_test_predict = dt.predict(x_test)\n",
    "# mse 값 확인\n",
    "mean_squared_error(y_train,y_train_predict), mean_squared_error(y_test,y_test_predict)"
   ]
  },
  {
   "cell_type": "code",
   "execution_count": 176,
   "id": "9b6a9494",
   "metadata": {},
   "outputs": [
    {
     "data": {
      "text/plain": [
       "(0.3775646800595844, 10.081693448514516)"
      ]
     },
     "execution_count": 176,
     "metadata": {},
     "output_type": "execute_result"
    }
   ],
   "source": [
    "# XGBoost\n",
    "from xgboost import XGBRegressor\n",
    "dt = XGBRegressor(max_depth=3,random_state=32)\n",
    "dt.fit(x_train,y_train)\n",
    "\n",
    "y_train_predict = dt.predict(x_train)\n",
    "y_test_predict = dt.predict(x_test)\n",
    "# mse 값 확인\n",
    "mean_squared_error(y_train,y_train_predict), mean_squared_error(y_test,y_test_predict)"
   ]
  },
  {
   "cell_type": "code",
   "execution_count": null,
   "id": "3df34f21",
   "metadata": {},
   "outputs": [],
   "source": []
  },
  {
   "cell_type": "code",
   "execution_count": null,
   "id": "06072522",
   "metadata": {},
   "outputs": [],
   "source": [
    "# 추가자료"
   ]
  },
  {
   "cell_type": "code",
   "execution_count": 129,
   "id": "6019bcbc",
   "metadata": {},
   "outputs": [
    {
     "data": {
      "text/html": [
       "<style>#sk-container-id-4 {color: black;background-color: white;}#sk-container-id-4 pre{padding: 0;}#sk-container-id-4 div.sk-toggleable {background-color: white;}#sk-container-id-4 label.sk-toggleable__label {cursor: pointer;display: block;width: 100%;margin-bottom: 0;padding: 0.3em;box-sizing: border-box;text-align: center;}#sk-container-id-4 label.sk-toggleable__label-arrow:before {content: \"▸\";float: left;margin-right: 0.25em;color: #696969;}#sk-container-id-4 label.sk-toggleable__label-arrow:hover:before {color: black;}#sk-container-id-4 div.sk-estimator:hover label.sk-toggleable__label-arrow:before {color: black;}#sk-container-id-4 div.sk-toggleable__content {max-height: 0;max-width: 0;overflow: hidden;text-align: left;background-color: #f0f8ff;}#sk-container-id-4 div.sk-toggleable__content pre {margin: 0.2em;color: black;border-radius: 0.25em;background-color: #f0f8ff;}#sk-container-id-4 input.sk-toggleable__control:checked~div.sk-toggleable__content {max-height: 200px;max-width: 100%;overflow: auto;}#sk-container-id-4 input.sk-toggleable__control:checked~label.sk-toggleable__label-arrow:before {content: \"▾\";}#sk-container-id-4 div.sk-estimator input.sk-toggleable__control:checked~label.sk-toggleable__label {background-color: #d4ebff;}#sk-container-id-4 div.sk-label input.sk-toggleable__control:checked~label.sk-toggleable__label {background-color: #d4ebff;}#sk-container-id-4 input.sk-hidden--visually {border: 0;clip: rect(1px 1px 1px 1px);clip: rect(1px, 1px, 1px, 1px);height: 1px;margin: -1px;overflow: hidden;padding: 0;position: absolute;width: 1px;}#sk-container-id-4 div.sk-estimator {font-family: monospace;background-color: #f0f8ff;border: 1px dotted black;border-radius: 0.25em;box-sizing: border-box;margin-bottom: 0.5em;}#sk-container-id-4 div.sk-estimator:hover {background-color: #d4ebff;}#sk-container-id-4 div.sk-parallel-item::after {content: \"\";width: 100%;border-bottom: 1px solid gray;flex-grow: 1;}#sk-container-id-4 div.sk-label:hover label.sk-toggleable__label {background-color: #d4ebff;}#sk-container-id-4 div.sk-serial::before {content: \"\";position: absolute;border-left: 1px solid gray;box-sizing: border-box;top: 0;bottom: 0;left: 50%;z-index: 0;}#sk-container-id-4 div.sk-serial {display: flex;flex-direction: column;align-items: center;background-color: white;padding-right: 0.2em;padding-left: 0.2em;position: relative;}#sk-container-id-4 div.sk-item {position: relative;z-index: 1;}#sk-container-id-4 div.sk-parallel {display: flex;align-items: stretch;justify-content: center;background-color: white;position: relative;}#sk-container-id-4 div.sk-item::before, #sk-container-id-4 div.sk-parallel-item::before {content: \"\";position: absolute;border-left: 1px solid gray;box-sizing: border-box;top: 0;bottom: 0;left: 50%;z-index: -1;}#sk-container-id-4 div.sk-parallel-item {display: flex;flex-direction: column;z-index: 1;position: relative;background-color: white;}#sk-container-id-4 div.sk-parallel-item:first-child::after {align-self: flex-end;width: 50%;}#sk-container-id-4 div.sk-parallel-item:last-child::after {align-self: flex-start;width: 50%;}#sk-container-id-4 div.sk-parallel-item:only-child::after {width: 0;}#sk-container-id-4 div.sk-dashed-wrapped {border: 1px dashed gray;margin: 0 0.4em 0.5em 0.4em;box-sizing: border-box;padding-bottom: 0.4em;background-color: white;}#sk-container-id-4 div.sk-label label {font-family: monospace;font-weight: bold;display: inline-block;line-height: 1.2em;}#sk-container-id-4 div.sk-label-container {text-align: center;}#sk-container-id-4 div.sk-container {/* jupyter's `normalize.less` sets `[hidden] { display: none; }` but bootstrap.min.css set `[hidden] { display: none !important; }` so we also need the `!important` here to be able to override the default hidden behavior on the sphinx rendered scikit-learn.org. See: https://github.com/scikit-learn/scikit-learn/issues/21755 */display: inline-block !important;position: relative;}#sk-container-id-4 div.sk-text-repr-fallback {display: none;}</style><div id=\"sk-container-id-4\" class=\"sk-top-container\"><div class=\"sk-text-repr-fallback\"><pre>Pipeline(steps=[(&#x27;ss&#x27;, StandardScaler()), (&#x27;lr&#x27;, LinearRegression())])</pre><b>In a Jupyter environment, please rerun this cell to show the HTML representation or trust the notebook. <br />On GitHub, the HTML representation is unable to render, please try loading this page with nbviewer.org.</b></div><div class=\"sk-container\" hidden><div class=\"sk-item sk-dashed-wrapped\"><div class=\"sk-label-container\"><div class=\"sk-label sk-toggleable\"><input class=\"sk-toggleable__control sk-hidden--visually\" id=\"sk-estimator-id-6\" type=\"checkbox\" ><label for=\"sk-estimator-id-6\" class=\"sk-toggleable__label sk-toggleable__label-arrow\">Pipeline</label><div class=\"sk-toggleable__content\"><pre>Pipeline(steps=[(&#x27;ss&#x27;, StandardScaler()), (&#x27;lr&#x27;, LinearRegression())])</pre></div></div></div><div class=\"sk-serial\"><div class=\"sk-item\"><div class=\"sk-estimator sk-toggleable\"><input class=\"sk-toggleable__control sk-hidden--visually\" id=\"sk-estimator-id-7\" type=\"checkbox\" ><label for=\"sk-estimator-id-7\" class=\"sk-toggleable__label sk-toggleable__label-arrow\">StandardScaler</label><div class=\"sk-toggleable__content\"><pre>StandardScaler()</pre></div></div></div><div class=\"sk-item\"><div class=\"sk-estimator sk-toggleable\"><input class=\"sk-toggleable__control sk-hidden--visually\" id=\"sk-estimator-id-8\" type=\"checkbox\" ><label for=\"sk-estimator-id-8\" class=\"sk-toggleable__label sk-toggleable__label-arrow\">LinearRegression</label><div class=\"sk-toggleable__content\"><pre>LinearRegression()</pre></div></div></div></div></div></div></div>"
      ],
      "text/plain": [
       "Pipeline(steps=[('ss', StandardScaler()), ('lr', LinearRegression())])"
      ]
     },
     "execution_count": 129,
     "metadata": {},
     "output_type": "execute_result"
    }
   ],
   "source": [
    "from sklearn.linear_model import LinearRegression\n",
    "from sklearn.model_selection import train_test_split\n",
    "from sklearn.pipeline import Pipeline\n",
    "from sklearn.preprocessing import StandardScaler\n",
    "linear_pipeline =Pipeline([('ss',StandardScaler()),('lr',LinearRegression())])\n",
    "linear_pipeline.fit(x,y)"
   ]
  },
  {
   "cell_type": "code",
   "execution_count": 111,
   "id": "3d5b13fc",
   "metadata": {},
   "outputs": [],
   "source": [
    "# 소스코드가 단순해지고 일괄적용이 가능\n",
    "# 모델 성능평가 ?\n",
    "# 예측?"
   ]
  },
  {
   "cell_type": "code",
   "execution_count": 112,
   "id": "cfbf147f",
   "metadata": {},
   "outputs": [
    {
     "name": "stdout",
     "output_type": "stream",
     "text": [
      "Help on method fit in module sklearn.pipeline:\n",
      "\n",
      "fit(X, y=None, **fit_params) method of sklearn.pipeline.Pipeline instance\n",
      "    Fit the model.\n",
      "    \n",
      "    Fit all the transformers one after the other and transform the\n",
      "    data. Finally, fit the transformed data using the final estimator.\n",
      "    \n",
      "    Parameters\n",
      "    ----------\n",
      "    X : iterable\n",
      "        Training data. Must fulfill input requirements of first step of the\n",
      "        pipeline.\n",
      "    \n",
      "    y : iterable, default=None\n",
      "        Training targets. Must fulfill label requirements for all steps of\n",
      "        the pipeline.\n",
      "    \n",
      "    **fit_params : dict of string -> object\n",
      "        Parameters passed to the ``fit`` method of each step, where\n",
      "        each parameter name is prefixed such that parameter ``p`` for step\n",
      "        ``s`` has key ``s__p``.\n",
      "    \n",
      "    Returns\n",
      "    -------\n",
      "    self : object\n",
      "        Pipeline with fitted steps.\n",
      "\n"
     ]
    }
   ],
   "source": [
    "help(linear_pipeline.fit)"
   ]
  },
  {
   "cell_type": "code",
   "execution_count": null,
   "id": "871c6bab",
   "metadata": {},
   "outputs": [],
   "source": []
  }
 ],
 "metadata": {
  "kernelspec": {
   "display_name": "Python 3 (ipykernel)",
   "language": "python",
   "name": "python3"
  },
  "language_info": {
   "codemirror_mode": {
    "name": "ipython",
    "version": 3
   },
   "file_extension": ".py",
   "mimetype": "text/x-python",
   "name": "python",
   "nbconvert_exporter": "python",
   "pygments_lexer": "ipython3",
   "version": "3.9.12"
  }
 },
 "nbformat": 4,
 "nbformat_minor": 5
}

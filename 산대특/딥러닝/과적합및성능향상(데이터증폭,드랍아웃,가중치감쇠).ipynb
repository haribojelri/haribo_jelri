{
  "nbformat": 4,
  "nbformat_minor": 0,
  "metadata": {
    "colab": {
      "provenance": [],
      "collapsed_sections": []
    },
    "kernelspec": {
      "name": "python3",
      "display_name": "Python 3"
    },
    "language_info": {
      "name": "python"
    },
    "accelerator": "GPU"
  },
  "cells": [
    {
      "cell_type": "code",
      "execution_count": 1,
      "metadata": {
        "id": "gfgbLkc8Xebl"
      },
      "outputs": [],
      "source": [
        "# 드랍아웃의 성능향상을 측정\n",
        "# 교차검증으로 측정"
      ]
    },
    {
      "cell_type": "code",
      "source": [
        "# 데이터 확보\n",
        "import numpy as np\n",
        "import tensorflow as tf\n",
        "(x_train,y_train),(x_test,y_test) = tf.keras.datasets.cifar10.load_data()"
      ],
      "metadata": {
        "colab": {
          "base_uri": "https://localhost:8080/"
        },
        "id": "ct1H7n_8XnBr",
        "outputId": "c769ba45-f356-44c6-e48a-50df03d0dcfa"
      },
      "execution_count": 2,
      "outputs": [
        {
          "output_type": "stream",
          "name": "stdout",
          "text": [
            "Downloading data from https://www.cs.toronto.edu/~kriz/cifar-10-python.tar.gz\n",
            "170498071/170498071 [==============================] - 2s 0us/step\n"
          ]
        }
      ]
    },
    {
      "cell_type": "code",
      "source": [
        "# 표준화\n",
        "x_train = x_train.astype('float32')/ 255.0\n",
        "x_test = x_test.astype('float32')/ 255.0\n",
        "y_train = tf.keras.utils.to_categorical(y_train)\n",
        "y_test = tf.keras.utils.to_categorical(y_test)"
      ],
      "metadata": {
        "id": "J_xv2kHMYgKS"
      },
      "execution_count": 3,
      "outputs": []
    },
    {
      "cell_type": "code",
      "source": [
        "# 하이퍼 매개변수\n",
        "batch_size = 128\n",
        "epochs = 10\n",
        "k = 5"
      ],
      "metadata": {
        "id": "3KwzAPXUZ6H6"
      },
      "execution_count": 4,
      "outputs": []
    },
    {
      "cell_type": "code",
      "source": [
        "from sklearn.model_selection import KFold\n",
        "from tensorflow.keras.layers import *"
      ],
      "metadata": {
        "id": "8x6adSlyaqRR"
      },
      "execution_count": 5,
      "outputs": []
    },
    {
      "cell_type": "code",
      "source": [
        "x_train.shape, y_train.shape, x_test.shape, y_test.shape"
      ],
      "metadata": {
        "colab": {
          "base_uri": "https://localhost:8080/"
        },
        "id": "k-2cSNW7ilBZ",
        "outputId": "6eb52842-092d-4cad-81c3-0200e606c57f"
      },
      "execution_count": 6,
      "outputs": [
        {
          "output_type": "execute_result",
          "data": {
            "text/plain": [
              "((50000, 32, 32, 3), (50000, 10), (10000, 32, 32, 3), (10000, 10))"
            ]
          },
          "metadata": {},
          "execution_count": 6
        }
      ]
    },
    {
      "cell_type": "code",
      "source": [
        "# 드랍아웃 비율에 따라서 교차 검증을 수행\n",
        "def cross_validation(dropout_rate:list):\n",
        "  accuracy = []\n",
        "  for train_index, val_index in KFold(k).split(x_train):\n",
        "    x_tr,x_val = x_train[train_index],x_train[val_index]\n",
        "    y_tr,y_val = y_train[train_index],y_train[val_index]\n",
        "    # 신경망 모델 설계 ccpd ccpd fl fc d fc\n",
        "    cnn = tf.keras.models.Sequential()\n",
        "    cnn.add(Conv2D(32,(3,3),activation='relu',input_shape = (32,32,3)))\n",
        "    cnn.add(Conv2D(32,(3,3),activation='relu'))\n",
        "    cnn.add(MaxPooling2D(pool_size=(2,2)))\n",
        "    cnn.add(Dropout(dropout_rate[0]))\n",
        "\n",
        "    cnn.add(Conv2D(64,(3,3),activation='relu'))\n",
        "    cnn.add(Conv2D(64,(3,3),activation='relu'))\n",
        "    cnn.add(MaxPooling2D(pool_size=(2,2)))\n",
        "    cnn.add(Dropout(dropout_rate[1]))\n",
        "\n",
        "    cnn.add(Flatten())\n",
        "\n",
        "    cnn.add(Dense(512,activation='relu'))\n",
        "    cnn.add(Dropout(dropout_rate[2]))\n",
        "    cnn.add(Dense(10,activation='softmax'))\n",
        "\n",
        "    #신경망 모델 학습하고 평가\n",
        "    cnn.compile(loss = tf.keras.losses.categorical_crossentropy,optimizer='adam', metrics=['accuracy'])\n",
        "    cnn.fit(x_tr,y_tr,batch_size=batch_size,epochs=epochs)\n",
        "    accuracy.append(cnn.evaluate(x_val,y_val)[1])\n",
        "  return accuracy"
      ],
      "metadata": {
        "id": "3mE4zfieaNpZ"
      },
      "execution_count": 7,
      "outputs": []
    },
    {
      "cell_type": "code",
      "source": [
        "acc_without_dropout = cross_validation([0.0,0.0,0.0])\n",
        "acc_with_dropout = cross_validation([0.25,0.25,0.5])"
      ],
      "metadata": {
        "colab": {
          "base_uri": "https://localhost:8080/"
        },
        "id": "M5L6VCU1eMph",
        "outputId": "9a219f6b-2613-4d33-d0dd-4922e6c41822"
      },
      "execution_count": 8,
      "outputs": [
        {
          "output_type": "stream",
          "name": "stdout",
          "text": [
            "Epoch 1/10\n",
            "313/313 [==============================] - 12s 10ms/step - loss: 1.5940 - accuracy: 0.4168\n",
            "Epoch 2/10\n",
            "313/313 [==============================] - 3s 9ms/step - loss: 1.2405 - accuracy: 0.5570\n",
            "Epoch 3/10\n",
            "313/313 [==============================] - 3s 9ms/step - loss: 1.0408 - accuracy: 0.6325\n",
            "Epoch 4/10\n",
            "313/313 [==============================] - 3s 9ms/step - loss: 0.8971 - accuracy: 0.6866\n",
            "Epoch 5/10\n",
            "313/313 [==============================] - 3s 9ms/step - loss: 0.7738 - accuracy: 0.7298\n",
            "Epoch 6/10\n",
            "313/313 [==============================] - 3s 9ms/step - loss: 0.6676 - accuracy: 0.7670\n",
            "Epoch 7/10\n",
            "313/313 [==============================] - 3s 9ms/step - loss: 0.5703 - accuracy: 0.8019\n",
            "Epoch 8/10\n",
            "313/313 [==============================] - 3s 9ms/step - loss: 0.4805 - accuracy: 0.8331\n",
            "Epoch 9/10\n",
            "313/313 [==============================] - 3s 9ms/step - loss: 0.3786 - accuracy: 0.8679\n",
            "Epoch 10/10\n",
            "313/313 [==============================] - 3s 9ms/step - loss: 0.3018 - accuracy: 0.8961\n",
            "313/313 [==============================] - 1s 4ms/step - loss: 0.9768 - accuracy: 0.7251\n",
            "Epoch 1/10\n",
            "313/313 [==============================] - 4s 10ms/step - loss: 1.5486 - accuracy: 0.4369\n",
            "Epoch 2/10\n",
            "313/313 [==============================] - 3s 9ms/step - loss: 1.1717 - accuracy: 0.5840\n",
            "Epoch 3/10\n",
            "313/313 [==============================] - 3s 9ms/step - loss: 0.9761 - accuracy: 0.6569\n",
            "Epoch 4/10\n",
            "313/313 [==============================] - 3s 9ms/step - loss: 0.8242 - accuracy: 0.7133\n",
            "Epoch 5/10\n",
            "313/313 [==============================] - 3s 10ms/step - loss: 0.7021 - accuracy: 0.7548\n",
            "Epoch 6/10\n",
            "313/313 [==============================] - 3s 10ms/step - loss: 0.5923 - accuracy: 0.7941\n",
            "Epoch 7/10\n",
            "313/313 [==============================] - 3s 10ms/step - loss: 0.4970 - accuracy: 0.8270\n",
            "Epoch 8/10\n",
            "313/313 [==============================] - 3s 9ms/step - loss: 0.3905 - accuracy: 0.8637\n",
            "Epoch 9/10\n",
            "313/313 [==============================] - 3s 9ms/step - loss: 0.3001 - accuracy: 0.8952\n",
            "Epoch 10/10\n",
            "313/313 [==============================] - 3s 9ms/step - loss: 0.2181 - accuracy: 0.9238\n",
            "313/313 [==============================] - 1s 3ms/step - loss: 1.1086 - accuracy: 0.7233\n",
            "Epoch 1/10\n",
            "313/313 [==============================] - 3s 10ms/step - loss: 1.5896 - accuracy: 0.4206\n",
            "Epoch 2/10\n",
            "313/313 [==============================] - 3s 9ms/step - loss: 1.2097 - accuracy: 0.5696\n",
            "Epoch 3/10\n",
            "313/313 [==============================] - 3s 9ms/step - loss: 1.0185 - accuracy: 0.6389\n",
            "Epoch 4/10\n",
            "313/313 [==============================] - 3s 9ms/step - loss: 0.8810 - accuracy: 0.6901\n",
            "Epoch 5/10\n",
            "313/313 [==============================] - 3s 9ms/step - loss: 0.7701 - accuracy: 0.7309\n",
            "Epoch 6/10\n",
            "313/313 [==============================] - 3s 9ms/step - loss: 0.6562 - accuracy: 0.7715\n",
            "Epoch 7/10\n",
            "313/313 [==============================] - 3s 9ms/step - loss: 0.5580 - accuracy: 0.8069\n",
            "Epoch 8/10\n",
            "313/313 [==============================] - 3s 9ms/step - loss: 0.4626 - accuracy: 0.8391\n",
            "Epoch 9/10\n",
            "313/313 [==============================] - 3s 9ms/step - loss: 0.3699 - accuracy: 0.8715\n",
            "Epoch 10/10\n",
            "313/313 [==============================] - 3s 9ms/step - loss: 0.2843 - accuracy: 0.9003\n",
            "313/313 [==============================] - 1s 3ms/step - loss: 0.9857 - accuracy: 0.7205\n",
            "Epoch 1/10\n",
            "313/313 [==============================] - 3s 10ms/step - loss: 1.5869 - accuracy: 0.4182\n",
            "Epoch 2/10\n",
            "313/313 [==============================] - 3s 9ms/step - loss: 1.1650 - accuracy: 0.5879\n",
            "Epoch 3/10\n",
            "313/313 [==============================] - 3s 9ms/step - loss: 0.9698 - accuracy: 0.6569\n",
            "Epoch 4/10\n",
            "313/313 [==============================] - 3s 9ms/step - loss: 0.8352 - accuracy: 0.7056\n",
            "Epoch 5/10\n",
            "313/313 [==============================] - 3s 10ms/step - loss: 0.7215 - accuracy: 0.7476\n",
            "Epoch 6/10\n",
            "313/313 [==============================] - 4s 12ms/step - loss: 0.6246 - accuracy: 0.7808\n",
            "Epoch 7/10\n",
            "313/313 [==============================] - 3s 10ms/step - loss: 0.5293 - accuracy: 0.8126\n",
            "Epoch 8/10\n",
            "313/313 [==============================] - 3s 10ms/step - loss: 0.4358 - accuracy: 0.8480\n",
            "Epoch 9/10\n",
            "313/313 [==============================] - 3s 10ms/step - loss: 0.3534 - accuracy: 0.8754\n",
            "Epoch 10/10\n",
            "313/313 [==============================] - 3s 9ms/step - loss: 0.2781 - accuracy: 0.9022\n",
            "313/313 [==============================] - 1s 3ms/step - loss: 0.9594 - accuracy: 0.7294\n",
            "Epoch 1/10\n",
            "313/313 [==============================] - 4s 10ms/step - loss: 1.5532 - accuracy: 0.4348\n",
            "Epoch 2/10\n",
            "313/313 [==============================] - 3s 10ms/step - loss: 1.1439 - accuracy: 0.5928\n",
            "Epoch 3/10\n",
            "313/313 [==============================] - 3s 9ms/step - loss: 0.9611 - accuracy: 0.6615\n",
            "Epoch 4/10\n",
            "313/313 [==============================] - 3s 9ms/step - loss: 0.8292 - accuracy: 0.7090\n",
            "Epoch 5/10\n",
            "313/313 [==============================] - 3s 10ms/step - loss: 0.7172 - accuracy: 0.7487\n",
            "Epoch 6/10\n",
            "313/313 [==============================] - 3s 9ms/step - loss: 0.6027 - accuracy: 0.7899\n",
            "Epoch 7/10\n",
            "313/313 [==============================] - 3s 10ms/step - loss: 0.4976 - accuracy: 0.8268\n",
            "Epoch 8/10\n",
            "313/313 [==============================] - 3s 10ms/step - loss: 0.4054 - accuracy: 0.8562\n",
            "Epoch 9/10\n",
            "313/313 [==============================] - 3s 10ms/step - loss: 0.3021 - accuracy: 0.8953\n",
            "Epoch 10/10\n",
            "313/313 [==============================] - 3s 10ms/step - loss: 0.2158 - accuracy: 0.9258\n",
            "313/313 [==============================] - 1s 3ms/step - loss: 1.0649 - accuracy: 0.7247\n",
            "Epoch 1/10\n",
            "313/313 [==============================] - 4s 10ms/step - loss: 1.7227 - accuracy: 0.3667\n",
            "Epoch 2/10\n",
            "313/313 [==============================] - 3s 10ms/step - loss: 1.3487 - accuracy: 0.5147\n",
            "Epoch 3/10\n",
            "313/313 [==============================] - 3s 10ms/step - loss: 1.1786 - accuracy: 0.5795\n",
            "Epoch 4/10\n",
            "313/313 [==============================] - 3s 10ms/step - loss: 1.0559 - accuracy: 0.6283\n",
            "Epoch 5/10\n",
            "313/313 [==============================] - 3s 10ms/step - loss: 0.9703 - accuracy: 0.6608\n",
            "Epoch 6/10\n",
            "313/313 [==============================] - 3s 10ms/step - loss: 0.9094 - accuracy: 0.6817\n",
            "Epoch 7/10\n",
            "313/313 [==============================] - 3s 10ms/step - loss: 0.8555 - accuracy: 0.6977\n",
            "Epoch 8/10\n",
            "313/313 [==============================] - 3s 10ms/step - loss: 0.8092 - accuracy: 0.7143\n",
            "Epoch 9/10\n",
            "313/313 [==============================] - 3s 10ms/step - loss: 0.7765 - accuracy: 0.7280\n",
            "Epoch 10/10\n",
            "313/313 [==============================] - 3s 10ms/step - loss: 0.7373 - accuracy: 0.7386\n",
            "313/313 [==============================] - 1s 3ms/step - loss: 0.7444 - accuracy: 0.7386\n",
            "Epoch 1/10\n",
            "313/313 [==============================] - 4s 10ms/step - loss: 1.6962 - accuracy: 0.3743\n",
            "Epoch 2/10\n",
            "313/313 [==============================] - 3s 10ms/step - loss: 1.3147 - accuracy: 0.5282\n",
            "Epoch 3/10\n",
            "313/313 [==============================] - 3s 10ms/step - loss: 1.1468 - accuracy: 0.5927\n",
            "Epoch 4/10\n",
            "313/313 [==============================] - 3s 10ms/step - loss: 1.0425 - accuracy: 0.6290\n",
            "Epoch 5/10\n",
            "313/313 [==============================] - 3s 10ms/step - loss: 0.9524 - accuracy: 0.6644\n",
            "Epoch 6/10\n",
            "313/313 [==============================] - 3s 10ms/step - loss: 0.8881 - accuracy: 0.6864\n",
            "Epoch 7/10\n",
            "313/313 [==============================] - 3s 10ms/step - loss: 0.8298 - accuracy: 0.7069\n",
            "Epoch 8/10\n",
            "313/313 [==============================] - 3s 10ms/step - loss: 0.7783 - accuracy: 0.7256\n",
            "Epoch 9/10\n",
            "313/313 [==============================] - 3s 10ms/step - loss: 0.7453 - accuracy: 0.7386\n",
            "Epoch 10/10\n",
            "313/313 [==============================] - 3s 10ms/step - loss: 0.7077 - accuracy: 0.7498\n",
            "313/313 [==============================] - 1s 3ms/step - loss: 0.7150 - accuracy: 0.7531\n",
            "Epoch 1/10\n",
            "313/313 [==============================] - 4s 10ms/step - loss: 1.7263 - accuracy: 0.3602\n",
            "Epoch 2/10\n",
            "313/313 [==============================] - 3s 10ms/step - loss: 1.3547 - accuracy: 0.5091\n",
            "Epoch 3/10\n",
            "313/313 [==============================] - 3s 10ms/step - loss: 1.1843 - accuracy: 0.5781\n",
            "Epoch 4/10\n",
            "313/313 [==============================] - 3s 10ms/step - loss: 1.0655 - accuracy: 0.6226\n",
            "Epoch 5/10\n",
            "313/313 [==============================] - 3s 10ms/step - loss: 0.9744 - accuracy: 0.6574\n",
            "Epoch 6/10\n",
            "313/313 [==============================] - 3s 10ms/step - loss: 0.8977 - accuracy: 0.6848\n",
            "Epoch 7/10\n",
            "313/313 [==============================] - 3s 10ms/step - loss: 0.8425 - accuracy: 0.7051\n",
            "Epoch 8/10\n",
            "313/313 [==============================] - 3s 10ms/step - loss: 0.8005 - accuracy: 0.7182\n",
            "Epoch 9/10\n",
            "313/313 [==============================] - 3s 10ms/step - loss: 0.7653 - accuracy: 0.7315\n",
            "Epoch 10/10\n",
            "313/313 [==============================] - 3s 10ms/step - loss: 0.7263 - accuracy: 0.7436\n",
            "313/313 [==============================] - 1s 4ms/step - loss: 0.6864 - accuracy: 0.7609\n",
            "Epoch 1/10\n",
            "313/313 [==============================] - 4s 10ms/step - loss: 1.7255 - accuracy: 0.3573\n",
            "Epoch 2/10\n",
            "313/313 [==============================] - 3s 10ms/step - loss: 1.3549 - accuracy: 0.5102\n",
            "Epoch 3/10\n",
            "313/313 [==============================] - 3s 10ms/step - loss: 1.1984 - accuracy: 0.5730\n",
            "Epoch 4/10\n",
            "313/313 [==============================] - 3s 10ms/step - loss: 1.0758 - accuracy: 0.6156\n",
            "Epoch 5/10\n",
            "313/313 [==============================] - 3s 10ms/step - loss: 0.9824 - accuracy: 0.6525\n",
            "Epoch 6/10\n",
            "313/313 [==============================] - 3s 10ms/step - loss: 0.9230 - accuracy: 0.6727\n",
            "Epoch 7/10\n",
            "313/313 [==============================] - 3s 10ms/step - loss: 0.8737 - accuracy: 0.6934\n",
            "Epoch 8/10\n",
            "313/313 [==============================] - 3s 10ms/step - loss: 0.8265 - accuracy: 0.7095\n",
            "Epoch 9/10\n",
            "313/313 [==============================] - 3s 10ms/step - loss: 0.7908 - accuracy: 0.7224\n",
            "Epoch 10/10\n",
            "313/313 [==============================] - 3s 10ms/step - loss: 0.7560 - accuracy: 0.7336\n",
            "313/313 [==============================] - 1s 3ms/step - loss: 0.7552 - accuracy: 0.7395\n",
            "Epoch 1/10\n",
            "313/313 [==============================] - 4s 10ms/step - loss: 1.7217 - accuracy: 0.3619\n",
            "Epoch 2/10\n",
            "313/313 [==============================] - 3s 10ms/step - loss: 1.3441 - accuracy: 0.5149\n",
            "Epoch 3/10\n",
            "313/313 [==============================] - 3s 10ms/step - loss: 1.1783 - accuracy: 0.5746\n",
            "Epoch 4/10\n",
            "313/313 [==============================] - 3s 10ms/step - loss: 1.0660 - accuracy: 0.6232\n",
            "Epoch 5/10\n",
            "313/313 [==============================] - 3s 11ms/step - loss: 0.9716 - accuracy: 0.6566\n",
            "Epoch 6/10\n",
            "313/313 [==============================] - 3s 10ms/step - loss: 0.9042 - accuracy: 0.6829\n",
            "Epoch 7/10\n",
            "313/313 [==============================] - 3s 10ms/step - loss: 0.8560 - accuracy: 0.6980\n",
            "Epoch 8/10\n",
            "313/313 [==============================] - 3s 10ms/step - loss: 0.8042 - accuracy: 0.7167\n",
            "Epoch 9/10\n",
            "313/313 [==============================] - 3s 10ms/step - loss: 0.7618 - accuracy: 0.7327\n",
            "Epoch 10/10\n",
            "313/313 [==============================] - 3s 10ms/step - loss: 0.7298 - accuracy: 0.7444\n",
            "313/313 [==============================] - 1s 3ms/step - loss: 0.7366 - accuracy: 0.7433\n"
          ]
        }
      ]
    },
    {
      "cell_type": "code",
      "source": [
        "np.array(acc_without_dropout).mean(), np.array( acc_with_dropout).mean()"
      ],
      "metadata": {
        "colab": {
          "base_uri": "https://localhost:8080/"
        },
        "id": "Puy0LbuOh8FP",
        "outputId": "99fa4ffd-3757-4ee6-9d14-3bbae4a97f27"
      },
      "execution_count": 10,
      "outputs": [
        {
          "output_type": "execute_result",
          "data": {
            "text/plain": [
              "(0.7245999813079834, 0.7470800042152405)"
            ]
          },
          "metadata": {},
          "execution_count": 10
        }
      ]
    },
    {
      "cell_type": "code",
      "source": [
        "# 박스플롯으로 정확률 표시\n",
        "import matplotlib.pyplot as plt\n",
        "plt.boxplot([acc_without_dropout,acc_with_dropout],labels = ['acc_without_dropout','acc_with_dropout'])"
      ],
      "metadata": {
        "colab": {
          "base_uri": "https://localhost:8080/",
          "height": 535
        },
        "id": "LGs5EC73lALn",
        "outputId": "b6dc8842-754d-416d-cf54-5fa9246a9c53"
      },
      "execution_count": 11,
      "outputs": [
        {
          "output_type": "execute_result",
          "data": {
            "text/plain": [
              "{'whiskers': [<matplotlib.lines.Line2D at 0x7fc7ee5a62d0>,\n",
              "  <matplotlib.lines.Line2D at 0x7fc7ee5a6810>,\n",
              "  <matplotlib.lines.Line2D at 0x7fc7ee5b6990>,\n",
              "  <matplotlib.lines.Line2D at 0x7fc7ee5b6e90>],\n",
              " 'caps': [<matplotlib.lines.Line2D at 0x7fc7ee5a6d50>,\n",
              "  <matplotlib.lines.Line2D at 0x7fc7ee5af2d0>,\n",
              "  <matplotlib.lines.Line2D at 0x7fc7ee5be410>,\n",
              "  <matplotlib.lines.Line2D at 0x7fc7ee5be950>],\n",
              " 'boxes': [<matplotlib.lines.Line2D at 0x7fc7ee618c90>,\n",
              "  <matplotlib.lines.Line2D at 0x7fc7ee5b6450>],\n",
              " 'medians': [<matplotlib.lines.Line2D at 0x7fc7ee5af850>,\n",
              "  <matplotlib.lines.Line2D at 0x7fc7ee5bee90>],\n",
              " 'fliers': [<matplotlib.lines.Line2D at 0x7fc7ee5afd90>,\n",
              "  <matplotlib.lines.Line2D at 0x7fc7ee5c4410>],\n",
              " 'means': []}"
            ]
          },
          "metadata": {},
          "execution_count": 11
        },
        {
          "output_type": "display_data",
          "data": {
            "text/plain": [
              "<Figure size 432x288 with 1 Axes>"
            ],
            "image/png": "[encoded data removed]"
          },
          "metadata": {
            "needs_background": "light"
          }
        }
      ]
    },
    {
      "cell_type": "code",
      "source": [
        "# 가중치 감쇠 weight decay : 성능을 유지한 채로 가중치 크기를 낮추는 규제 기법"
      ],
      "metadata": {
        "id": "sSHAePuZlfAX"
      },
      "execution_count": 12,
      "outputs": []
    },
    {
      "cell_type": "code",
      "source": [
        "from tensorflow.keras import regularizers"
      ],
      "metadata": {
        "id": "wdD5Vc5AmIZ3"
      },
      "execution_count": 14,
      "outputs": []
    },
    {
      "cell_type": "code",
      "source": [
        "# 성능평가.. \n",
        "# 검증... 교차검증\n",
        "# 제거 조사 ablation study  - 여러선택사항중에서 하나씩 배고 성능을 측정"
      ],
      "metadata": {
        "id": "YHm5XnkAmLGX"
      },
      "execution_count": 15,
      "outputs": []
    },
    {
      "cell_type": "code",
      "source": [
        "# 재활용 가능한 코드로 만들어서 테스트\n",
        "# 마지막 출력층에.. 적용..\n",
        "cnn.add(Dense(10,activation='softmax', kernel_regularizer = regularizers.l1(0.01)))\n",
        "cnn.add(Dense(10,activation='softmax', kernel_regularizer = regularizers.l2(0.01)))"
      ],
      "metadata": {
        "id": "nZl617DsnxJo"
      },
      "execution_count": null,
      "outputs": []
    }
  ]
}
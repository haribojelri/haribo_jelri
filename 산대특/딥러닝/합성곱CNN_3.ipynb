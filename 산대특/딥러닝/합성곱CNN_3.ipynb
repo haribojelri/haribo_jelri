{
  "nbformat": 4,
  "nbformat_minor": 0,
  "metadata": {
    "colab": {
      "provenance": [],
      "collapsed_sections": []
    },
    "kernelspec": {
      "name": "python3",
      "display_name": "Python 3"
    },
    "language_info": {
      "name": "python"
    },
    "accelerator": "GPU"
  },
  "cells": [
    {
      "cell_type": "code",
      "execution_count": 3,
      "metadata": {
        "colab": {
          "base_uri": "https://localhost:8080/"
        },
        "id": "KLBVtFIOSH1H",
        "outputId": "4fe970cf-384c-4046-9031-49ecfdaa344a"
      },
      "outputs": [
        {
          "output_type": "stream",
          "name": "stdout",
          "text": [
            "Model: \"sequential_1\"\n",
            "_________________________________________________________________\n",
            " Layer (type)                Output Shape              Param #   \n",
            "=================================================================\n",
            " conv2d_2 (Conv2D)           (None, 26, 26, 32)        320       \n",
            "                                                                 \n",
            " conv2d_3 (Conv2D)           (None, 24, 24, 64)        18496     \n",
            "                                                                 \n",
            " max_pooling2d_1 (MaxPooling  (None, 12, 12, 64)       0         \n",
            " 2D)                                                             \n",
            "                                                                 \n",
            " dropout_2 (Dropout)         (None, 12, 12, 64)        0         \n",
            "                                                                 \n",
            " flatten_1 (Flatten)         (None, 9216)              0         \n",
            "                                                                 \n",
            " dense_2 (Dense)             (None, 128)               1179776   \n",
            "                                                                 \n",
            " dropout_3 (Dropout)         (None, 128)               0         \n",
            "                                                                 \n",
            " dense_3 (Dense)             (None, 10)                1290      \n",
            "                                                                 \n",
            "=================================================================\n",
            "Total params: 1,199,882\n",
            "Trainable params: 1,199,882\n",
            "Non-trainable params: 0\n",
            "_________________________________________________________________\n",
            "Epoch 1/15\n",
            "94/94 - 3s - loss: 0.6065 - accuracy: 0.8098 - val_loss: 0.1981 - val_accuracy: 0.9412 - 3s/epoch - 31ms/step\n",
            "Epoch 2/15\n",
            "94/94 - 3s - loss: 0.2072 - accuracy: 0.9399 - val_loss: 0.1220 - val_accuracy: 0.9631 - 3s/epoch - 35ms/step\n",
            "Epoch 3/15\n",
            "94/94 - 2s - loss: 0.1370 - accuracy: 0.9592 - val_loss: 0.0949 - val_accuracy: 0.9720 - 2s/epoch - 22ms/step\n",
            "Epoch 4/15\n",
            "94/94 - 2s - loss: 0.1045 - accuracy: 0.9677 - val_loss: 0.0771 - val_accuracy: 0.9767 - 2s/epoch - 22ms/step\n",
            "Epoch 5/15\n",
            "94/94 - 3s - loss: 0.0808 - accuracy: 0.9773 - val_loss: 0.0782 - val_accuracy: 0.9764 - 3s/epoch - 35ms/step\n",
            "Epoch 6/15\n",
            "94/94 - 2s - loss: 0.0664 - accuracy: 0.9797 - val_loss: 0.0759 - val_accuracy: 0.9781 - 2s/epoch - 21ms/step\n",
            "Epoch 7/15\n",
            "94/94 - 3s - loss: 0.0624 - accuracy: 0.9822 - val_loss: 0.0685 - val_accuracy: 0.9805 - 3s/epoch - 35ms/step\n",
            "Epoch 8/15\n",
            "94/94 - 2s - loss: 0.0529 - accuracy: 0.9833 - val_loss: 0.0757 - val_accuracy: 0.9786 - 2s/epoch - 21ms/step\n",
            "Epoch 9/15\n",
            "94/94 - 2s - loss: 0.0503 - accuracy: 0.9847 - val_loss: 0.0769 - val_accuracy: 0.9793 - 2s/epoch - 21ms/step\n",
            "Epoch 10/15\n",
            "94/94 - 2s - loss: 0.0441 - accuracy: 0.9850 - val_loss: 0.0684 - val_accuracy: 0.9811 - 2s/epoch - 21ms/step\n",
            "Epoch 11/15\n",
            "94/94 - 3s - loss: 0.0395 - accuracy: 0.9866 - val_loss: 0.0690 - val_accuracy: 0.9814 - 3s/epoch - 35ms/step\n",
            "Epoch 12/15\n",
            "94/94 - 3s - loss: 0.0338 - accuracy: 0.9881 - val_loss: 0.0722 - val_accuracy: 0.9816 - 3s/epoch - 34ms/step\n",
            "Epoch 13/15\n",
            "94/94 - 3s - loss: 0.0311 - accuracy: 0.9890 - val_loss: 0.0702 - val_accuracy: 0.9824 - 3s/epoch - 35ms/step\n",
            "Epoch 14/15\n",
            "94/94 - 3s - loss: 0.0286 - accuracy: 0.9907 - val_loss: 0.0679 - val_accuracy: 0.9826 - 3s/epoch - 35ms/step\n",
            "Epoch 15/15\n",
            "94/94 - 3s - loss: 0.0253 - accuracy: 0.9912 - val_loss: 0.0636 - val_accuracy: 0.9835 - 3s/epoch - 35ms/step\n"
          ]
        }
      ],
      "source": [
        "import numpy as np\n",
        "import tensorflow as tf\n",
        "# 데이터 획득\n",
        "(x_train,y_train),(x_test,y_test) =  tf.keras.datasets.mnist.load_data()\n",
        "x_train = x_train.astype(np.float32) / 255.0\n",
        "x_test = x_test.astype(np.float32) / 255.0\n",
        "\n",
        "x_train = np.expand_dims(x_train,axis = -1)\n",
        "x_test = np.expand_dims(x_test,axis = -1)\n",
        "# C - C - P -dropout - FC - droupout - FC \n",
        "C1 = tf.keras.layers.Conv2D(32,(3,3),activation='relu', input_shape=(28,28,1))\n",
        "C2 = tf.keras.layers.Conv2D(64,(3,3),activation='relu')\n",
        "P1 = tf.keras.layers.MaxPool2D(pool_size=(2,2))\n",
        "DR1 = tf.keras.layers.Dropout(0.25)\n",
        "F = tf.keras.layers.Flatten()\n",
        "D1 = tf.keras.layers.Dense(128,activation='relu')\n",
        "DR2 = tf.keras.layers.Dropout(0.5)\n",
        "D2 = tf.keras.layers.Dense(10,activation='softmax')\n",
        "cnn = tf.keras.Sequential([\n",
        "    C1,C2,P1,DR1,F,D1,DR2,D2\n",
        "])\n",
        "cnn.summary()\n",
        "# 신경망 모델 학습\n",
        "cnn.compile(loss=tf.keras.losses.sparse_categorical_crossentropy,\n",
        "           optimizer='Adam',metrics=['accuracy'])\n",
        "history = cnn.fit(x_train,y_train,batch_size=128,epochs=15,validation_split=0.8,verbose=2)"
      ]
    },
    {
      "cell_type": "code",
      "source": [
        "cnn.evaluate(x_test,y_test)"
      ],
      "metadata": {
        "colab": {
          "base_uri": "https://localhost:8080/"
        },
        "id": "bTbit55GSJjv",
        "outputId": "837893c0-24c2-4039-8668-edd1f0618b01"
      },
      "execution_count": 4,
      "outputs": [
        {
          "output_type": "stream",
          "name": "stdout",
          "text": [
            "313/313 [==============================] - 1s 3ms/step - loss: 0.0520 - accuracy: 0.9837\n"
          ]
        },
        {
          "output_type": "execute_result",
          "data": {
            "text/plain": [
              "[0.05202022194862366, 0.9836999773979187]"
            ]
          },
          "metadata": {},
          "execution_count": 4
        }
      ]
    },
    {
      "cell_type": "code",
      "source": [],
      "metadata": {
        "id": "mbtsHBtKTLwA"
      },
      "execution_count": null,
      "outputs": []
    }
  ]
}
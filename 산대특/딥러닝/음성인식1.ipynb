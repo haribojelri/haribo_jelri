{
 "cells": [
  {
   "cell_type": "code",
   "execution_count": 14,
   "id": "823e62be",
   "metadata": {},
   "outputs": [],
   "source": [
    "# tkinter : 사용자 인터페이스를 구성\n",
    "# gtts : 단어발음"
   ]
  },
  {
   "cell_type": "code",
   "execution_count": 15,
   "id": "113fdbcc",
   "metadata": {},
   "outputs": [
    {
     "name": "stdout",
     "output_type": "stream",
     "text": [
      "Requirement already satisfied: gtts in c:\\users\\user\\miniconda3\\envs\\ai\\lib\\site-packages (2.2.4)\n",
      "Requirement already satisfied: requests in c:\\users\\user\\miniconda3\\envs\\ai\\lib\\site-packages (from gtts) (2.28.1)\n",
      "Requirement already satisfied: six in c:\\users\\user\\miniconda3\\envs\\ai\\lib\\site-packages (from gtts) (1.16.0)\n",
      "Requirement already satisfied: click in c:\\users\\user\\miniconda3\\envs\\ai\\lib\\site-packages (from gtts) (8.1.3)\n",
      "Requirement already satisfied: importlib-metadata in c:\\users\\user\\miniconda3\\envs\\ai\\lib\\site-packages (from click->gtts) (5.0.0)\n",
      "Requirement already satisfied: colorama in c:\\users\\user\\miniconda3\\envs\\ai\\lib\\site-packages (from click->gtts) (0.4.5)\n",
      "Requirement already satisfied: urllib3<1.27,>=1.21.1 in c:\\users\\user\\miniconda3\\envs\\ai\\lib\\site-packages (from requests->gtts) (1.26.12)\n",
      "Requirement already satisfied: certifi>=2017.4.17 in c:\\users\\user\\miniconda3\\envs\\ai\\lib\\site-packages (from requests->gtts) (2022.9.24)\n",
      "Requirement already satisfied: charset-normalizer<3,>=2 in c:\\users\\user\\miniconda3\\envs\\ai\\lib\\site-packages (from requests->gtts) (2.1.1)\n",
      "Requirement already satisfied: idna<4,>=2.5 in c:\\users\\user\\miniconda3\\envs\\ai\\lib\\site-packages (from requests->gtts) (3.4)\n",
      "Requirement already satisfied: typing-extensions>=3.6.4 in c:\\users\\user\\miniconda3\\envs\\ai\\lib\\site-packages (from importlib-metadata->click->gtts) (4.3.0)\n",
      "Requirement already satisfied: zipp>=0.5 in c:\\users\\user\\miniconda3\\envs\\ai\\lib\\site-packages (from importlib-metadata->click->gtts) (3.8.1)\n",
      "Requirement already satisfied: playsound in c:\\users\\user\\miniconda3\\envs\\ai\\lib\\site-packages (1.3.0)\n"
     ]
    }
   ],
   "source": [
    "!pip install gtts\n",
    "!pip install playsound"
   ]
  },
  {
   "cell_type": "code",
   "execution_count": 16,
   "id": "62b5bc83",
   "metadata": {},
   "outputs": [],
   "source": [
    "import numpy as np\n",
    "import tensorflow as tf\n",
    "import tkinter as tk\n",
    "from tkinter import filedialog\n",
    "from PIL import Image, ImageTk\n",
    "import winsound\n",
    "from gtts import gTTS\n",
    "import os\n",
    "import playsound\n",
    "from tkinter import Canvas"
   ]
  },
  {
   "cell_type": "code",
   "execution_count": 17,
   "id": "fe528a98",
   "metadata": {},
   "outputs": [],
   "source": [
    "cnn = tf.keras.models.load_model('my_cnn_for_deply.h5')"
   ]
  },
  {
   "cell_type": "code",
   "execution_count": 18,
   "id": "d2b0975b",
   "metadata": {},
   "outputs": [],
   "source": [
    "class_name_en=['airplane','automobile','bird','cat','deer','dog','frog','horse','ship','truck']\n",
    "class_name_fr=['avion','voiture','oiseau','chatte','biche','chienne','grenouille','jument','navire','un camion']"
   ]
  },
  {
   "cell_type": "code",
   "execution_count": 19,
   "id": "63815a29",
   "metadata": {},
   "outputs": [],
   "source": [
    "# 콜백함수 버튼에 대한(버튼클릭이벤트에 대한 콜백함수)\n",
    "# 내가 호출하는 함수가 아니라 지정해 놓으면 시스템이 해당 조건에 맞을때 불러주는 함수"
   ]
  },
  {
   "cell_type": "code",
   "execution_count": 20,
   "id": "4b7a2496",
   "metadata": {},
   "outputs": [],
   "source": [
    "# 사용자가 영상을선택하면 그 영상을 인식하고 저장\n",
    "def process_image():   \n",
    "    global class_id,tk_img\n",
    "    fname = filedialog.askopenfilename()\n",
    "    img = Image.open(fname)\n",
    "    tk_img =  img.resize([128,128])\n",
    "    tk_img = ImageTk.PhotoImage(tk_img)\n",
    "    canvas.create_image((canvas.winfo_width()/2, canvas.winfo_height()/2),image=tk_img,anchor='center' )\n",
    "    \n",
    "    x_test = []\n",
    "    x = np.asarray(img.resize([32,32])) / 255.0\n",
    "    x_test.append(x)\n",
    "    x_test = np.asarray(x_test)\n",
    "    res = cnn.predict(x_test)  # 영상 인식\n",
    "    class_id = np.argmax(res)\n",
    "    label_en['text'] = '영어' +  class_name_en[class_id]\n",
    "    label_fr['text'] = '프랑스어' +  class_name_fr[class_id]\n",
    "    winsound.Beep(frequency=500,duration=250)    "
   ]
  },
  {
   "cell_type": "code",
   "execution_count": 21,
   "id": "f35f517d",
   "metadata": {},
   "outputs": [],
   "source": [
    "# speak eng\n",
    "def tts_english():\n",
    "    tts = gTTS(text = class_name_en[class_id],lang='en')\n",
    "    if os.path.isfile('word.mp3'):os.remove('word.mp3')\n",
    "    tts.save('word.mp3')\n",
    "    playsound.playsound('word.mp3',True)\n",
    "    \n",
    "# speak fr\n",
    "def tts_french():\n",
    "    tts = gTTS(text = class_name_fr[class_id],lang='fr')\n",
    "    if os.path.isfile('word.mp3'):os.remove('word.mp3')\n",
    "    tts.save('word.mp3')\n",
    "    playsound.playsound('word.mp3',True)\n",
    "    \n",
    "# 프로그램 종료\n",
    "def quit_program():\n",
    "    win.destroy()"
   ]
  },
  {
   "cell_type": "code",
   "execution_count": null,
   "id": "1e0045f8",
   "metadata": {},
   "outputs": [
    {
     "name": "stdout",
     "output_type": "stream",
     "text": [
      "1/1 [==============================] - 0s 139ms/step\n",
      "1/1 [==============================] - 0s 23ms/step\n"
     ]
    },
    {
     "name": "stderr",
     "output_type": "stream",
     "text": [
      "\n",
      "    Error 263 for command:\n",
      "        open word.mp3\n",
      "    지정한 장치가 열려 있지 않거나 MCI에서 인식되지 않습니다.\n",
      "\n",
      "    Error 263 for command:\n",
      "        close word.mp3\n",
      "    지정한 장치가 열려 있지 않거나 MCI에서 인식되지 않습니다.\n",
      "Failed to close the file: word.mp3\n",
      "Exception in Tkinter callback\n",
      "Traceback (most recent call last):\n",
      "  File \"C:\\Users\\user\\miniconda3\\envs\\ai\\lib\\tkinter\\__init__.py\", line 1702, in __call__\n",
      "    return self.func(*args)\n",
      "  File \"C:\\Users\\user\\AppData\\Local\\Temp\\ipykernel_3904\\3872142375.py\", line 13, in tts_french\n",
      "    playsound.playsound('word.mp3',True)\n",
      "  File \"C:\\Users\\user\\miniconda3\\envs\\ai\\lib\\site-packages\\playsound.py\", line 72, in _playsoundWin\n",
      "    winCommand(u'open {}'.format(sound))\n",
      "  File \"C:\\Users\\user\\miniconda3\\envs\\ai\\lib\\site-packages\\playsound.py\", line 64, in winCommand\n",
      "    raise PlaysoundException(exceptionMessage)\n",
      "playsound.PlaysoundException: \n",
      "    Error 263 for command:\n",
      "        open word.mp3\n",
      "    지정한 장치가 열려 있지 않거나 MCI에서 인식되지 않습니다.\n"
     ]
    },
    {
     "name": "stdout",
     "output_type": "stream",
     "text": [
      "1/1 [==============================] - 0s 21ms/step\n"
     ]
    },
    {
     "name": "stderr",
     "output_type": "stream",
     "text": [
      "\n",
      "    Error 263 for command:\n",
      "        open word.mp3\n",
      "    지정한 장치가 열려 있지 않거나 MCI에서 인식되지 않습니다.\n",
      "\n",
      "    Error 263 for command:\n",
      "        close word.mp3\n",
      "    지정한 장치가 열려 있지 않거나 MCI에서 인식되지 않습니다.\n",
      "Failed to close the file: word.mp3\n",
      "Exception in Tkinter callback\n",
      "Traceback (most recent call last):\n",
      "  File \"C:\\Users\\user\\miniconda3\\envs\\ai\\lib\\tkinter\\__init__.py\", line 1702, in __call__\n",
      "    return self.func(*args)\n",
      "  File \"C:\\Users\\user\\AppData\\Local\\Temp\\ipykernel_3904\\3872142375.py\", line 13, in tts_french\n",
      "    playsound.playsound('word.mp3',True)\n",
      "  File \"C:\\Users\\user\\miniconda3\\envs\\ai\\lib\\site-packages\\playsound.py\", line 72, in _playsoundWin\n",
      "    winCommand(u'open {}'.format(sound))\n",
      "  File \"C:\\Users\\user\\miniconda3\\envs\\ai\\lib\\site-packages\\playsound.py\", line 64, in winCommand\n",
      "    raise PlaysoundException(exceptionMessage)\n",
      "playsound.PlaysoundException: \n",
      "    Error 263 for command:\n",
      "        open word.mp3\n",
      "    지정한 장치가 열려 있지 않거나 MCI에서 인식되지 않습니다.\n"
     ]
    },
    {
     "name": "stdout",
     "output_type": "stream",
     "text": [
      "1/1 [==============================] - 0s 21ms/step\n"
     ]
    },
    {
     "name": "stderr",
     "output_type": "stream",
     "text": [
      "\n",
      "    Error 263 for command:\n",
      "        open word.mp3\n",
      "    지정한 장치가 열려 있지 않거나 MCI에서 인식되지 않습니다.\n",
      "\n",
      "    Error 263 for command:\n",
      "        close word.mp3\n",
      "    지정한 장치가 열려 있지 않거나 MCI에서 인식되지 않습니다.\n",
      "Failed to close the file: word.mp3\n",
      "Exception in Tkinter callback\n",
      "Traceback (most recent call last):\n",
      "  File \"C:\\Users\\user\\miniconda3\\envs\\ai\\lib\\tkinter\\__init__.py\", line 1702, in __call__\n",
      "    return self.func(*args)\n",
      "  File \"C:\\Users\\user\\AppData\\Local\\Temp\\ipykernel_3904\\3872142375.py\", line 13, in tts_french\n",
      "    playsound.playsound('word.mp3',True)\n",
      "  File \"C:\\Users\\user\\miniconda3\\envs\\ai\\lib\\site-packages\\playsound.py\", line 72, in _playsoundWin\n",
      "    winCommand(u'open {}'.format(sound))\n",
      "  File \"C:\\Users\\user\\miniconda3\\envs\\ai\\lib\\site-packages\\playsound.py\", line 64, in winCommand\n",
      "    raise PlaysoundException(exceptionMessage)\n",
      "playsound.PlaysoundException: \n",
      "    Error 263 for command:\n",
      "        open word.mp3\n",
      "    지정한 장치가 열려 있지 않거나 MCI에서 인식되지 않습니다.\n"
     ]
    },
    {
     "name": "stdout",
     "output_type": "stream",
     "text": [
      "1/1 [==============================] - 0s 26ms/step\n"
     ]
    }
   ],
   "source": [
    "win = tk.Tk()\n",
    "win.title('이미지 판별')\n",
    "win.geometry('512x500')\n",
    "\n",
    "process_button = tk.Button(win, text='영상선택',command = process_image)\n",
    "quit_button = tk.Button(win, text='END',command = quit_program)\n",
    "canvas = tk.Canvas(win, width=256,height=256, bg='cyan')\n",
    "label_en = tk.Label(win,width=16, height=1, bg='yellow',text='영어',anchor='w')\n",
    "label_fr = tk.Label(win,width=16, height=1, bg='yellow',text='프랑스어',anchor='w')\n",
    "\n",
    "tts_en = tk.Button(win,text='듣기',command=tts_english)\n",
    "tts_fr = tk.Button(win,text='듣기',command=tts_french)\n",
    "\n",
    "# 화면에 배치\n",
    "process_button.grid(row=0,column=0)\n",
    "quit_button.grid(row=1,column=0)\n",
    "canvas.grid(row=0,column=1)\n",
    "label_en.grid(row=1,column=1)\n",
    "label_fr.grid(row=2,column=1)\n",
    "tts_en.grid(row=1,column=2)\n",
    "tts_fr.grid(row=2,column=2)\n",
    "win.mainloop()"
   ]
  },
  {
   "cell_type": "code",
   "execution_count": null,
   "id": "3c762b29",
   "metadata": {},
   "outputs": [],
   "source": []
  },
  {
   "cell_type": "code",
   "execution_count": null,
   "id": "e505ccfe",
   "metadata": {},
   "outputs": [],
   "source": []
  }
 ],
 "metadata": {
  "kernelspec": {
   "display_name": "Python 3 (ipykernel)",
   "language": "python",
   "name": "python3"
  },
  "language_info": {
   "codemirror_mode": {
    "name": "ipython",
    "version": 3
   },
   "file_extension": ".py",
   "mimetype": "text/x-python",
   "name": "python",
   "nbconvert_exporter": "python",
   "pygments_lexer": "ipython3",
   "version": "3.7.0"
  }
 },
 "nbformat": 4,
 "nbformat_minor": 5
}

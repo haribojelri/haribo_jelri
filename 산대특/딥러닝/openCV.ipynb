{
 "cells": [
  {
   "cell_type": "code",
   "execution_count": 2,
   "id": "6f8a9d4a",
   "metadata": {},
   "outputs": [],
   "source": [
    "import numpy as np\n",
    "import cv2"
   ]
  },
  {
   "cell_type": "code",
   "execution_count": 3,
   "id": "04423bf3",
   "metadata": {},
   "outputs": [],
   "source": [
    "image = np.zeros((200,400),np.uint8)\n",
    "# image[:] = 200    # 밝은 회식(200) 바탕 영상  생성\n",
    "image.fill(255) # 흰색"
   ]
  },
  {
   "cell_type": "code",
   "execution_count": 4,
   "id": "bdee75f9",
   "metadata": {},
   "outputs": [],
   "source": [
    "title1, title2 = 'position1','position2'      # 윈도우 이름\n",
    "cv2.namedWindow(title1,cv2.WINDOW_AUTOSIZE)   # 윈도우 생성 및 크기조정 옵션 - 크기변경 불가\n",
    "cv2.namedWindow(title2, cv2.WINDOW_NORMAL)    # 크기 변경 가능 \n",
    "cv2.moveWindow(title1,150,150)  # 윈도우 이동 - 위치지정\n",
    "cv2.moveWindow(title2,400,50)  # 윈도우 이동 - 위치지정"
   ]
  },
  {
   "cell_type": "code",
   "execution_count": 5,
   "id": "d8bcf950",
   "metadata": {},
   "outputs": [],
   "source": [
    "cv2.imshow(title1,image)\n",
    "cv2.imshow(title2,image)\n",
    "cv2.waitKey(0)    # 키 이벤트 대기\n",
    "cv2.destroyAllWindows()  # 자원 정리"
   ]
  },
  {
   "cell_type": "code",
   "execution_count": 13,
   "id": "de520a48",
   "metadata": {},
   "outputs": [
    {
     "name": "stdout",
     "output_type": "stream",
     "text": [
      "aaaa\n"
     ]
    }
   ],
   "source": [
    "print(\"aaaa\")"
   ]
  },
  {
   "cell_type": "code",
   "execution_count": null,
   "id": "363498be",
   "metadata": {},
   "outputs": [],
   "source": []
  }
 ],
 "metadata": {
  "kernelspec": {
   "display_name": "Python 3 (ipykernel)",
   "language": "python",
   "name": "python3"
  },
  "language_info": {
   "codemirror_mode": {
    "name": "ipython",
    "version": 3
   },
   "file_extension": ".py",
   "mimetype": "text/x-python",
   "name": "python",
   "nbconvert_exporter": "python",
   "pygments_lexer": "ipython3",
   "version": "3.7.0"
  }
 },
 "nbformat": 4,
 "nbformat_minor": 5
}

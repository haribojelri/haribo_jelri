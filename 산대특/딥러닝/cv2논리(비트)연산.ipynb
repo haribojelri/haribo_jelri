{
 "cells": [
  {
   "cell_type": "code",
   "execution_count": 92,
   "id": "401064bb",
   "metadata": {},
   "outputs": [],
   "source": [
    "import numpy as np\n",
    "import cv2"
   ]
  },
  {
   "cell_type": "code",
   "execution_count": 93,
   "id": "5ed5b46a",
   "metadata": {},
   "outputs": [],
   "source": [
    "#원본영상\n",
    "image = cv2.imread('./001.jpg', cv2.IMREAD_COLOR)\n",
    "#로고영상\n",
    "logo = cv2.imread('./002.jpg', cv2.IMREAD_COLOR)\n",
    "\n",
    "#로고영상 이진화\n",
    "masks =  cv2.threshold(logo,225,225,cv2.THRESH_BINARY)[1]\n",
    "masks = cv2.split(masks)\n",
    "\n",
    "fg_pass_mask =  cv2.bitwise_or(masks[0],masks[1])\n",
    "fg_pass_mask =  cv2.bitwise_or(masks[2],fg_pass_mask) # 전경 통과\n",
    "bg_pass_mask =  cv2.bitwise_not(fg_pass_mask) # 배경 통과\n",
    "\n",
    "(H,W),(h,w) =  image.shape[:2],logo.shape[:2]   # 전체 영상\n",
    "x,y = np.abs((W-w)//2), np.abs((H-h)//2)                        # 시작좌표\n",
    "roi = image[y:y+h, x:x+w]                       # 관심영역"
   ]
  },
  {
   "cell_type": "code",
   "execution_count": 95,
   "id": "a6d1ce37",
   "metadata": {},
   "outputs": [
    {
     "data": {
      "text/plain": [
       "((120, 183), (120, 183, 3))"
      ]
     },
     "execution_count": 95,
     "metadata": {},
     "output_type": "execute_result"
    }
   ],
   "source": [
    "bg_pass_mask = bg_pass_mask[:roi.shape[0],:roi.shape[1]]\n",
    "bg_pass_mask.shape,roi.shape"
   ]
  },
  {
   "cell_type": "code",
   "execution_count": 96,
   "id": "9f53bc90",
   "metadata": {},
   "outputs": [],
   "source": [
    "#행렬 논리곱과 마스킹을 이용한 관심영역 복사\n",
    "forground = cv2.bitwise_and(logo,logo,mask=fg_pass_mask)\n",
    "background = cv2.bitwise_and(roi,roi,mask=bg_pass_mask)"
   ]
  },
  {
   "cell_type": "code",
   "execution_count": 98,
   "id": "4f848864",
   "metadata": {},
   "outputs": [],
   "source": [
    "# background.shape, forground.shape\n",
    "background.shape, forground.shape\n",
    "forground = forground[:background.shape[0]]"
   ]
  },
  {
   "cell_type": "code",
   "execution_count": 99,
   "id": "440cc21c",
   "metadata": {},
   "outputs": [],
   "source": [
    "dst = cv2.add(background,forground)\n",
    "image[y:y+h, x:x+w]   = dst"
   ]
  },
  {
   "cell_type": "code",
   "execution_count": 100,
   "id": "f8856d0d",
   "metadata": {},
   "outputs": [],
   "source": [
    "cv2.imshow('background',background); cv2.imshow('forground',forground)\n",
    "cv2.imshow('dst',dst); cv2.imshow('image',image)\n",
    "cv2.waitKey(0)\n",
    "cv2.destroyAllWindows()"
   ]
  },
  {
   "cell_type": "code",
   "execution_count": 20,
   "id": "ee1b16be",
   "metadata": {},
   "outputs": [
    {
     "data": {
      "text/plain": [
       "(3, 5)"
      ]
     },
     "execution_count": 20,
     "metadata": {},
     "output_type": "execute_result"
    }
   ],
   "source": []
  },
  {
   "cell_type": "code",
   "execution_count": null,
   "id": "24e6d58f",
   "metadata": {},
   "outputs": [],
   "source": []
  }
 ],
 "metadata": {
  "kernelspec": {
   "display_name": "Python 3 (ipykernel)",
   "language": "python",
   "name": "python3"
  },
  "language_info": {
   "codemirror_mode": {
    "name": "ipython",
    "version": 3
   },
   "file_extension": ".py",
   "mimetype": "text/x-python",
   "name": "python",
   "nbconvert_exporter": "python",
   "pygments_lexer": "ipython3",
   "version": "3.7.0"
  }
 },
 "nbformat": 4,
 "nbformat_minor": 5
}

{
 "cells": [
  {
   "cell_type": "code",
   "execution_count": 1,
   "id": "998e276e",
   "metadata": {},
   "outputs": [],
   "source": [
    "import numpy as np, cv2"
   ]
  },
  {
   "cell_type": "code",
   "execution_count": 17,
   "id": "2a7f753b",
   "metadata": {},
   "outputs": [
    {
     "data": {
      "text/plain": [
       "((183, 199, 3), (183, 199, 3))"
      ]
     },
     "execution_count": 17,
     "metadata": {},
     "output_type": "execute_result"
    }
   ],
   "source": [
    "image1 = cv2.imread('003.jpg')\n",
    "image2 = cv2.imread('004.jpg')\n",
    "image1.shape, image2.shape\n",
    " \n",
    "(h,w),(H,W) =     image1.shape[:2], image2.shape[:2]\n",
    "minH = np.min((h,H))\n",
    "minW = np.min((w,W))\n",
    "image1 = image1[:minH,:minW]\n",
    "image2 = image2[:minH,:minW]    \n",
    "image1.shape,  image2.shape"
   ]
  },
  {
   "cell_type": "code",
   "execution_count": 18,
   "id": "57d1d76f",
   "metadata": {},
   "outputs": [],
   "source": [
    "# 곱셈의 비율\n",
    "alpha, beta = 0.6,0.7\n",
    "add_image1 =  cv2.add(image1,image2)\n",
    "add_image2 =  cv2.add(image1*alpha,image2*beta)\n",
    "add_image2 = np.clip(add_image2,0,255).astype('uint8')\n",
    "add_image3 = cv2.addWeighted(image1,alpha,image2,beta,0)  #두 영상 비율에 따라 더하기\n",
    "\n",
    "titles = ['image1','image2','add_image1','add_image2','add_image3']\n",
    "for title in titles:\n",
    "    cv2.imshow(title,eval(title))\n",
    "cv2.waitKey(0)\n",
    "cv2.destroyAllWindows()"
   ]
  },
  {
   "cell_type": "code",
   "execution_count": 4,
   "id": "99ee5824",
   "metadata": {},
   "outputs": [
    {
     "data": {
      "text/plain": [
       "array([[132. , 132. , 132. , ..., 129. , 129. , 129. ],\n",
       "       [132. , 132. , 132. , ..., 129. , 129. , 129. ],\n",
       "       [132. , 132. , 132. , ..., 128.4, 128.4, 128.4],\n",
       "       ...,\n",
       "       [100.8, 101.4, 101.4, ..., 116.4, 115.8, 115.8],\n",
       "       [102. , 101.4, 102. , ..., 114. , 114. , 113.4],\n",
       "       [102.6, 101.4, 102.6, ..., 112.2, 112.2, 112.2]])"
      ]
     },
     "execution_count": 4,
     "metadata": {},
     "output_type": "execute_result"
    }
   ],
   "source": [
    "image1*alpha"
   ]
  },
  {
   "cell_type": "code",
   "execution_count": 5,
   "id": "ff4ba510",
   "metadata": {},
   "outputs": [
    {
     "data": {
      "text/plain": [
       "array([[220, 220, 220, ..., 215, 215, 215],\n",
       "       [220, 220, 220, ..., 215, 215, 215],\n",
       "       [220, 220, 220, ..., 214, 214, 214],\n",
       "       ...,\n",
       "       [168, 169, 169, ..., 194, 193, 193],\n",
       "       [170, 169, 170, ..., 190, 190, 189],\n",
       "       [171, 169, 171, ..., 187, 187, 187]], dtype=uint8)"
      ]
     },
     "execution_count": 5,
     "metadata": {},
     "output_type": "execute_result"
    }
   ],
   "source": [
    "image1"
   ]
  },
  {
   "cell_type": "code",
   "execution_count": 6,
   "id": "6c422e76",
   "metadata": {},
   "outputs": [
    {
     "data": {
      "text/plain": [
       "array([[209. , 217.4, 214.6, ..., 244.5, 245.2, 245.2],\n",
       "       [232.1, 243.3, 249.6, ..., 244.5, 245.2, 245.2],\n",
       "       [212.5, 213.9, 230. , ..., 243.9, 244.6, 244.6],\n",
       "       ...,\n",
       "       [123.2, 130.1, 132.9, ..., 140.2, 138.2, 136.8],\n",
       "       [120.9, 125.9, 130. , ..., 191. , 190.3, 189. ],\n",
       "       [131.3, 126.6, 124.3, ..., 214.4, 215.8, 216.5]])"
      ]
     },
     "execution_count": 6,
     "metadata": {},
     "output_type": "execute_result"
    }
   ],
   "source": [
    "add_image2"
   ]
  },
  {
   "cell_type": "code",
   "execution_count": null,
   "id": "9cf17bd1",
   "metadata": {},
   "outputs": [],
   "source": []
  }
 ],
 "metadata": {
  "kernelspec": {
   "display_name": "Python 3 (ipykernel)",
   "language": "python",
   "name": "python3"
  },
  "language_info": {
   "codemirror_mode": {
    "name": "ipython",
    "version": 3
   },
   "file_extension": ".py",
   "mimetype": "text/x-python",
   "name": "python",
   "nbconvert_exporter": "python",
   "pygments_lexer": "ipython3",
   "version": "3.7.0"
  }
 },
 "nbformat": 4,
 "nbformat_minor": 5
}

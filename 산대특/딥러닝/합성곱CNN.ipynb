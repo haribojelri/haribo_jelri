{
 "cells": [
  {
   "cell_type": "code",
   "execution_count": 1,
   "id": "c09ae8f0",
   "metadata": {},
   "outputs": [],
   "source": [
    "#합성곱  CNN Convolution Netural Network"
   ]
  },
  {
   "cell_type": "code",
   "execution_count": 2,
   "id": "3b19152c",
   "metadata": {},
   "outputs": [],
   "source": [
    "# FC 밀집층"
   ]
  },
  {
   "cell_type": "code",
   "execution_count": 3,
   "id": "347ccf46",
   "metadata": {},
   "outputs": [],
   "source": [
    "# 인공신경망 pptx 참고"
   ]
  },
  {
   "cell_type": "code",
   "execution_count": 4,
   "id": "730c6b1f",
   "metadata": {},
   "outputs": [],
   "source": [
    "import tensorflow  as tf"
   ]
  },
  {
   "cell_type": "code",
   "execution_count": 5,
   "id": "896b1688",
   "metadata": {},
   "outputs": [],
   "source": [
    "# fashion mnist 데이터 불러오기"
   ]
  },
  {
   "cell_type": "code",
   "execution_count": 6,
   "id": "3f3b75b7",
   "metadata": {},
   "outputs": [],
   "source": [
    "(x_train,y_train),(x_test,y_test) =  tf.keras.datasets.fashion_mnist.load_data()"
   ]
  },
  {
   "cell_type": "code",
   "execution_count": 7,
   "id": "991e2c8f",
   "metadata": {},
   "outputs": [],
   "source": [
    "# 스케일링\n",
    "x_train_sacled =  x_train / 255.0\n",
    "x_test_scaled = x_test / 255.0"
   ]
  },
  {
   "cell_type": "code",
   "execution_count": 8,
   "id": "182cbdba",
   "metadata": {},
   "outputs": [
    {
     "data": {
      "text/plain": [
       "(60000, 28, 28)"
      ]
     },
     "execution_count": 8,
     "metadata": {},
     "output_type": "execute_result"
    }
   ],
   "source": [
    "x_train_sacled.shape"
   ]
  },
  {
   "cell_type": "code",
   "execution_count": 9,
   "id": "af19d10b",
   "metadata": {},
   "outputs": [],
   "source": [
    "# 컨볼류션1\n",
    "conv2d_1 = tf.keras.layers.Conv2D(32,kernel_size=3,activation='relu',padding='same',input_shape = (28,28,1))\n",
    "polling_1 = tf.keras.layers.MaxPool2D(2)"
   ]
  },
  {
   "cell_type": "code",
   "execution_count": 10,
   "id": "721087b1",
   "metadata": {},
   "outputs": [],
   "source": [
    "# 컨볼류션2\n",
    "conv2d_2 = tf.keras.layers.Conv2D(64,kernel_size=3,activation='relu',padding='same')\n",
    "polling_2 = tf.keras.layers.MaxPool2D(2)"
   ]
  },
  {
   "cell_type": "code",
   "execution_count": 11,
   "id": "76bc6c8e",
   "metadata": {},
   "outputs": [],
   "source": [
    "# 신경망에 입력하기 위해서 결과물을 1차원형태로 flatten 형태로 펴준다."
   ]
  },
  {
   "cell_type": "code",
   "execution_count": 12,
   "id": "bda5cb6f",
   "metadata": {},
   "outputs": [],
   "source": [
    "# 컨볼류션 신경망을 연결하는 층\n",
    "flatten =  tf.keras.layers.Flatten()"
   ]
  },
  {
   "cell_type": "code",
   "execution_count": 13,
   "id": "21cccafa",
   "metadata": {},
   "outputs": [],
   "source": [
    "# 신경망 구성"
   ]
  },
  {
   "cell_type": "code",
   "execution_count": 14,
   "id": "38095c14",
   "metadata": {},
   "outputs": [],
   "source": [
    "dense1 = tf.keras.layers.Dense(128,activation='relu')\n",
    "dropout1 = tf.keras.layers.Dropout(0.2)\n",
    "dense2 = tf.keras.layers.Dense(10,activation='softmax')\n"
   ]
  },
  {
   "cell_type": "code",
   "execution_count": 15,
   "id": "3e6245f2",
   "metadata": {},
   "outputs": [],
   "source": [
    "model = tf.keras.Sequential([\n",
    "    conv2d_1,polling_1,\n",
    "    conv2d_2,polling_2,\n",
    "    flatten,\n",
    "    dense1,\n",
    "    dropout1,\n",
    "    dense2\n",
    "])"
   ]
  },
  {
   "cell_type": "code",
   "execution_count": 16,
   "id": "91156b5d",
   "metadata": {},
   "outputs": [
    {
     "name": "stdout",
     "output_type": "stream",
     "text": [
      "Model: \"sequential\"\n",
      "_________________________________________________________________\n",
      " Layer (type)                Output Shape              Param #   \n",
      "=================================================================\n",
      " conv2d (Conv2D)             (None, 28, 28, 32)        320       \n",
      "                                                                 \n",
      " max_pooling2d (MaxPooling2D  (None, 14, 14, 32)       0         \n",
      " )                                                               \n",
      "                                                                 \n",
      " conv2d_1 (Conv2D)           (None, 14, 14, 64)        18496     \n",
      "                                                                 \n",
      " max_pooling2d_1 (MaxPooling  (None, 7, 7, 64)         0         \n",
      " 2D)                                                             \n",
      "                                                                 \n",
      " flatten (Flatten)           (None, 3136)              0         \n",
      "                                                                 \n",
      " dense (Dense)               (None, 128)               401536    \n",
      "                                                                 \n",
      " dropout (Dropout)           (None, 128)               0         \n",
      "                                                                 \n",
      " dense_1 (Dense)             (None, 10)                1290      \n",
      "                                                                 \n",
      "=================================================================\n",
      "Total params: 421,642\n",
      "Trainable params: 421,642\n",
      "Non-trainable params: 0\n",
      "_________________________________________________________________\n"
     ]
    }
   ],
   "source": [
    "model.summary()"
   ]
  },
  {
   "cell_type": "code",
   "execution_count": 17,
   "id": "53a77eae",
   "metadata": {},
   "outputs": [
    {
     "data": {
      "image/png": "[encoded data removed]",
      "text/plain": [
       "<IPython.core.display.Image object>"
      ]
     },
     "execution_count": 17,
     "metadata": {},
     "output_type": "execute_result"
    }
   ],
   "source": [
    "tf.keras.utils.plot_model(model)"
   ]
  },
  {
   "cell_type": "code",
   "execution_count": 18,
   "id": "28962e35",
   "metadata": {},
   "outputs": [],
   "source": [
    "# 모델생성 - >컴파일 - > 학습\n",
    "# 컴파일"
   ]
  },
  {
   "cell_type": "code",
   "execution_count": 19,
   "id": "ea298b87",
   "metadata": {},
   "outputs": [],
   "source": [
    "model.compile(optimizer='adam', \n",
    "              loss=tf.keras.losses.sparse_categorical_crossentropy,metrics=['accuracy'] )"
   ]
  },
  {
   "cell_type": "code",
   "execution_count": 20,
   "id": "0ae21991",
   "metadata": {},
   "outputs": [],
   "source": [
    "import numpy as np"
   ]
  },
  {
   "cell_type": "code",
   "execution_count": 21,
   "id": "14d6f55e",
   "metadata": {},
   "outputs": [],
   "source": [
    "mcp = tf.keras.callbacks.ModelCheckpoint('mymodel.h5',save_best_only=True)\n",
    "es = tf.keras.callbacks.EarlyStopping(patience=2)"
   ]
  },
  {
   "cell_type": "code",
   "execution_count": 22,
   "id": "968a489e",
   "metadata": {},
   "outputs": [
    {
     "data": {
      "text/plain": [
       "((60000, 28, 28, 1), (10000, 28, 28, 1))"
      ]
     },
     "execution_count": 22,
     "metadata": {},
     "output_type": "execute_result"
    }
   ],
   "source": [
    "x_train_scaled_4d = np.expand_dims(x_train_sacled,axis=-1)\n",
    "x_test_scaled_4d = np.expand_dims(x_test_scaled,axis=-1)\n",
    "x_train_scaled_4d.shape, x_test_scaled_4d.shape"
   ]
  },
  {
   "cell_type": "code",
   "execution_count": 23,
   "id": "c8674bfe",
   "metadata": {},
   "outputs": [
    {
     "data": {
      "text/plain": [
       "(60000, 28, 28)"
      ]
     },
     "execution_count": 23,
     "metadata": {},
     "output_type": "execute_result"
    }
   ],
   "source": [
    "x_train_sacled.shape"
   ]
  },
  {
   "cell_type": "code",
   "execution_count": 24,
   "id": "ead98141",
   "metadata": {},
   "outputs": [
    {
     "name": "stdout",
     "output_type": "stream",
     "text": [
      "Epoch 1/100\n",
      "375/375 [==============================] - 14s 35ms/step - loss: 0.6556 - accuracy: 0.7618 - val_loss: 0.4597 - val_accuracy: 0.8358\n",
      "Epoch 2/100\n",
      "375/375 [==============================] - 13s 36ms/step - loss: 0.4094 - accuracy: 0.8529 - val_loss: 0.3936 - val_accuracy: 0.8580\n",
      "Epoch 3/100\n",
      "375/375 [==============================] - 13s 35ms/step - loss: 0.3409 - accuracy: 0.8756 - val_loss: 0.3425 - val_accuracy: 0.8763\n",
      "Epoch 4/100\n",
      "375/375 [==============================] - 13s 34ms/step - loss: 0.3014 - accuracy: 0.8929 - val_loss: 0.3202 - val_accuracy: 0.8840\n",
      "Epoch 5/100\n",
      "375/375 [==============================] - 12s 33ms/step - loss: 0.2659 - accuracy: 0.9015 - val_loss: 0.3270 - val_accuracy: 0.8856\n",
      "Epoch 6/100\n",
      "375/375 [==============================] - 12s 33ms/step - loss: 0.2403 - accuracy: 0.9129 - val_loss: 0.3007 - val_accuracy: 0.8942\n",
      "Epoch 7/100\n",
      "375/375 [==============================] - 12s 32ms/step - loss: 0.2156 - accuracy: 0.9185 - val_loss: 0.2988 - val_accuracy: 0.8975\n",
      "Epoch 8/100\n",
      "375/375 [==============================] - 12s 32ms/step - loss: 0.1849 - accuracy: 0.9291 - val_loss: 0.3104 - val_accuracy: 0.8954\n",
      "Epoch 9/100\n",
      "375/375 [==============================] - 12s 33ms/step - loss: 0.1661 - accuracy: 0.9388 - val_loss: 0.3064 - val_accuracy: 0.8985\n"
     ]
    }
   ],
   "source": [
    "history = model.fit(x_train_scaled_4d,y_train,epochs=100,callbacks=[mcp,es],validation_split=0.8)"
   ]
  },
  {
   "cell_type": "code",
   "execution_count": 25,
   "id": "f9996ac1",
   "metadata": {},
   "outputs": [
    {
     "name": "stdout",
     "output_type": "stream",
     "text": [
      "313/313 [==============================] - 1s 4ms/step - loss: 0.3283 - accuracy: 0.8924\n"
     ]
    },
    {
     "data": {
      "text/plain": [
       "[0.3283189833164215, 0.8924000263214111]"
      ]
     },
     "execution_count": 25,
     "metadata": {},
     "output_type": "execute_result"
    }
   ],
   "source": [
    "model.evaluate(x_test_scaled_4d,y_test)"
   ]
  },
  {
   "cell_type": "code",
   "execution_count": 26,
   "id": "7af967dc",
   "metadata": {},
   "outputs": [],
   "source": [
    "import matplotlib.pyplot as plt"
   ]
  },
  {
   "cell_type": "code",
   "execution_count": 27,
   "id": "ed3578f9",
   "metadata": {
    "scrolled": true
   },
   "outputs": [
    {
     "data": {
      "image/png": "[encoded data removed]",
      "text/plain": [
       "<Figure size 640x480 with 1 Axes>"
      ]
     },
     "metadata": {},
     "output_type": "display_data"
    }
   ],
   "source": [
    "# 손실곡선\n",
    "plt.plot(history.history['loss'])\n",
    "plt.plot(history.history['val_loss'])\n",
    "plt.legend(['loss','val_loss'])\n",
    "plt.xlabel('epoch')\n",
    "plt.ylabel('loss')\n",
    "plt.show()"
   ]
  },
  {
   "cell_type": "code",
   "execution_count": 33,
   "id": "e01f61ba",
   "metadata": {},
   "outputs": [
    {
     "data": {
      "text/plain": [
       "(1, 28, 28, 1)"
      ]
     },
     "execution_count": 33,
     "metadata": {},
     "output_type": "execute_result"
    }
   ],
   "source": [
    "np.expand_dims(x_test_scaled_4d[0],axis=0).shape"
   ]
  },
  {
   "cell_type": "code",
   "execution_count": 35,
   "id": "9eac1125",
   "metadata": {},
   "outputs": [
    {
     "name": "stdout",
     "output_type": "stream",
     "text": [
      "1/1 [==============================] - 0s 18ms/step\n"
     ]
    },
    {
     "data": {
      "text/plain": [
       "9"
      ]
     },
     "execution_count": 35,
     "metadata": {},
     "output_type": "execute_result"
    }
   ],
   "source": [
    "np.argmax( model.predict(np.expand_dims(x_test_scaled_4d[0],axis=0)) )"
   ]
  },
  {
   "cell_type": "code",
   "execution_count": 39,
   "id": "3ff47ed1",
   "metadata": {},
   "outputs": [
    {
     "data": {
      "image/png": "[encoded data removed]",
      "text/plain": [
       "<Figure size 640x480 with 1 Axes>"
      ]
     },
     "metadata": {},
     "output_type": "display_data"
    }
   ],
   "source": [
    "#정답이미지\n",
    "plt.imshow(x_train[0], cmap='gray_r')\n",
    "plt.show()"
   ]
  },
  {
   "cell_type": "code",
   "execution_count": 41,
   "id": "ee44b540",
   "metadata": {},
   "outputs": [
    {
     "data": {
      "text/plain": [
       "9"
      ]
     },
     "execution_count": 41,
     "metadata": {},
     "output_type": "execute_result"
    }
   ],
   "source": [
    "y_test[0]"
   ]
  },
  {
   "cell_type": "code",
   "execution_count": null,
   "id": "58ccb0bd",
   "metadata": {},
   "outputs": [],
   "source": []
  },
  {
   "cell_type": "code",
   "execution_count": null,
   "id": "d79b6343",
   "metadata": {},
   "outputs": [],
   "source": []
  },
  {
   "cell_type": "code",
   "execution_count": null,
   "id": "abfac163",
   "metadata": {},
   "outputs": [],
   "source": []
  }
 ],
 "metadata": {
  "kernelspec": {
   "display_name": "Python 3 (ipykernel)",
   "language": "python",
   "name": "python3"
  },
  "language_info": {
   "codemirror_mode": {
    "name": "ipython",
    "version": 3
   },
   "file_extension": ".py",
   "mimetype": "text/x-python",
   "name": "python",
   "nbconvert_exporter": "python",
   "pygments_lexer": "ipython3",
   "version": "3.9.12"
  }
 },
 "nbformat": 4,
 "nbformat_minor": 5
}

{
 "cells": [
  {
   "cell_type": "code",
   "execution_count": 1,
   "id": "a161bcee",
   "metadata": {},
   "outputs": [],
   "source": [
    "import numpy as np\n",
    "import cv2\n",
    "import winsound"
   ]
  },
  {
   "cell_type": "code",
   "execution_count": 6,
   "id": "8ceed9c0",
   "metadata": {},
   "outputs": [],
   "source": [
    "# yolo 모델 읽어오기\n",
    "with open('coco.names.txt', 'r') as f:\n",
    "    classes = [line.strip() for line in f.readlines()]   \n",
    "    colors = np.random.uniform(0,255,size=(len(classes),3))"
   ]
  },
  {
   "cell_type": "code",
   "execution_count": 9,
   "id": "0f53e7de",
   "metadata": {},
   "outputs": [],
   "source": [
    "yolo_model = cv2.dnn.readNet('yolov3.weights','yolov3.cfg')\n",
    "layer_names = yolo_model.getLayerNames()\n",
    "out_layers = [layer_names[i-1] for i in yolo_model.getUnconnectedOutLayers()]"
   ]
  },
  {
   "cell_type": "code",
   "execution_count": 15,
   "id": "f4556c05",
   "metadata": {},
   "outputs": [],
   "source": [
    "def process_video():\n",
    "    video = cv2.VideoCapture(0)\n",
    "    while video.isOpened():\n",
    "        success,img = video.read()\n",
    "        if success:\n",
    "            height,width,channels = img.shape\n",
    "            blob = cv2.dnn.blobFromImage(img,1.0/255,(448,448),(0,0,0),swapRB=True,crop=False)\n",
    "            yolo_model.setInput(blob)\n",
    "            outputs = yolo_model.forward(out_layers)\n",
    "            \n",
    "            # 확률이 0.5를 넘는 바운딩 박스를 생성하고 모음\n",
    "            class_ids,confidences,boxes=[],[],[]\n",
    "            for output in outputs:\n",
    "                for vec85 in output:\n",
    "                    scores=vec85[5:]\n",
    "                    class_id=np.argmax(scores)\n",
    "                    confidence=scores[class_id]\n",
    "                    if confidence>0.5: # 신뢰도가 50% 이상인 경우만 취함\n",
    "                        centerx,centery=int(vec85[0]*width),int(vec85[1]*height)  # [0,1] 표현을 영상 크기로 변환\n",
    "                        w,h=int(vec85[2]*width),int(vec85[3]*height)\n",
    "                        x,y=int(centerx-w/2),int(centery-h/2)\n",
    "                        boxes.append([x,y,w,h])\n",
    "                        confidences.append(float(confidence))\n",
    "                        class_ids.append(class_id)\n",
    "            indexes = cv2.dnn.NMSBoxes(boxes,confidences,0.5,0.4)  #분류된것중에 최대인 것만 남김\n",
    "            \n",
    "            # 살아남은 바운딩 박스를 영상에 표시\n",
    "            for i in range(len(boxes)):\n",
    "                if i in indexes:\n",
    "                    x,y,w,h=boxes[i]\n",
    "                    text=str(classes[class_ids[i]])+'%.3f'%confidences[i]\n",
    "                    cv2.rectangle(img,(x,y),(x+w,y+h),colors[class_ids[i]],2)\n",
    "                    cv2.putText(img,text,(x,y+30),cv2.FONT_HERSHEY_PLAIN,2,colors[class_ids[i]],2)\n",
    "            cv2.imshow('object detecting',img)\n",
    "            \n",
    "            if 0 in class_ids:\n",
    "                print(\"도둑이 들었습니다.\")\n",
    "                winsound.Beep(frequency=2000,duration=500)                \n",
    "            \n",
    "        key = cv2.waitKey(1) & 0XFF\n",
    "        if key == 27 :break\n",
    "    video.release()\n",
    "    cv2.destroyAllWindows()"
   ]
  },
  {
   "cell_type": "code",
   "execution_count": 16,
   "id": "361df565",
   "metadata": {},
   "outputs": [
    {
     "name": "stdout",
     "output_type": "stream",
     "text": [
      "도둑이 들었습니다.\n",
      "도둑이 들었습니다.\n",
      "도둑이 들었습니다.\n",
      "도둑이 들었습니다.\n",
      "도둑이 들었습니다.\n",
      "도둑이 들었습니다.\n",
      "도둑이 들었습니다.\n",
      "도둑이 들었습니다.\n",
      "도둑이 들었습니다.\n",
      "도둑이 들었습니다.\n",
      "도둑이 들었습니다.\n",
      "도둑이 들었습니다.\n",
      "도둑이 들었습니다.\n",
      "도둑이 들었습니다.\n",
      "도둑이 들었습니다.\n",
      "도둑이 들었습니다.\n",
      "도둑이 들었습니다.\n",
      "도둑이 들었습니다.\n",
      "도둑이 들었습니다.\n",
      "도둑이 들었습니다.\n",
      "도둑이 들었습니다.\n",
      "도둑이 들었습니다.\n",
      "도둑이 들었습니다.\n",
      "도둑이 들었습니다.\n",
      "도둑이 들었습니다.\n",
      "도둑이 들었습니다.\n",
      "도둑이 들었습니다.\n"
     ]
    }
   ],
   "source": [
    "process_video()"
   ]
  },
  {
   "cell_type": "code",
   "execution_count": 14,
   "id": "1ea6ac19",
   "metadata": {},
   "outputs": [
    {
     "data": {
      "text/plain": [
       "['person',\n",
       " 'bicycle',\n",
       " 'car',\n",
       " 'motorbike',\n",
       " 'aeroplane',\n",
       " 'bus',\n",
       " 'train',\n",
       " 'truck',\n",
       " 'boat',\n",
       " 'traffic light',\n",
       " 'fire hydrant',\n",
       " 'stop sign',\n",
       " 'parking meter',\n",
       " 'bench',\n",
       " 'bird',\n",
       " 'cat',\n",
       " 'dog',\n",
       " 'horse',\n",
       " 'sheep',\n",
       " 'cow',\n",
       " 'elephant',\n",
       " 'bear',\n",
       " 'zebra',\n",
       " 'giraffe',\n",
       " 'backpack',\n",
       " 'umbrella',\n",
       " 'handbag',\n",
       " 'tie',\n",
       " 'suitcase',\n",
       " 'frisbee',\n",
       " 'skis',\n",
       " 'snowboard',\n",
       " 'sports ball',\n",
       " 'kite',\n",
       " 'baseball bat',\n",
       " 'baseball glove',\n",
       " 'skateboard',\n",
       " 'surfboard',\n",
       " 'tennis racket',\n",
       " 'bottle',\n",
       " 'wine glass',\n",
       " 'cup',\n",
       " 'fork',\n",
       " 'knife',\n",
       " 'spoon',\n",
       " 'bowl',\n",
       " 'banana',\n",
       " 'apple',\n",
       " 'sandwich',\n",
       " 'orange',\n",
       " 'broccoli',\n",
       " 'carrot',\n",
       " 'hot dog',\n",
       " 'pizza',\n",
       " 'donut',\n",
       " 'cake',\n",
       " 'chair',\n",
       " 'sofa',\n",
       " 'pottedplant',\n",
       " 'bed',\n",
       " 'diningtable',\n",
       " 'toilet',\n",
       " 'tvmonitor',\n",
       " 'laptop',\n",
       " 'mouse',\n",
       " 'remote',\n",
       " 'keyboard',\n",
       " 'cell phone',\n",
       " 'microwave',\n",
       " 'oven',\n",
       " 'toaster',\n",
       " 'sink',\n",
       " 'refrigerator',\n",
       " 'book',\n",
       " 'clock',\n",
       " 'vase',\n",
       " 'scissors',\n",
       " 'teddy bear',\n",
       " 'hair drier',\n",
       " 'toothbrush']"
      ]
     },
     "execution_count": 14,
     "metadata": {},
     "output_type": "execute_result"
    }
   ],
   "source": [
    "classes"
   ]
  },
  {
   "cell_type": "code",
   "execution_count": null,
   "id": "35f3d286",
   "metadata": {},
   "outputs": [],
   "source": []
  }
 ],
 "metadata": {
  "kernelspec": {
   "display_name": "Python 3 (ipykernel)",
   "language": "python",
   "name": "python3"
  },
  "language_info": {
   "codemirror_mode": {
    "name": "ipython",
    "version": 3
   },
   "file_extension": ".py",
   "mimetype": "text/x-python",
   "name": "python",
   "nbconvert_exporter": "python",
   "pygments_lexer": "ipython3",
   "version": "3.7.0"
  }
 },
 "nbformat": 4,
 "nbformat_minor": 5
}

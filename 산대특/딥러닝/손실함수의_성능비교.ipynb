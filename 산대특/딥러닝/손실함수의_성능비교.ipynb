{
  "nbformat": 4,
  "nbformat_minor": 0,
  "metadata": {
    "colab": {
      "provenance": [],
      "collapsed_sections": []
    },
    "kernelspec": {
      "name": "python3",
      "display_name": "Python 3"
    },
    "language_info": {
      "name": "python"
    },
    "accelerator": "GPU"
  },
  "cells": [
    {
      "cell_type": "code",
      "execution_count": 1,
      "metadata": {
        "id": "gO4P3SaQ0SCD"
      },
      "outputs": [],
      "source": [
        "# 다른 요소들은 고정하고 손실함수 평균제곱오차 교차 엔트로피\n",
        "# 신경망 만을 이용하여 손실함수 비교"
      ]
    },
    {
      "cell_type": "code",
      "source": [
        "import numpy as np\n",
        "import tensorflow as  tf\n",
        "from tensorflow.keras.datasets import mnist\n",
        "from tensorflow.keras.models import Sequential\n",
        "from tensorflow.keras.layers import Dense\n",
        "from tensorflow.keras.optimizers import Adam"
      ],
      "metadata": {
        "id": "iHMRQe2u0lny"
      },
      "execution_count": 2,
      "outputs": []
    },
    {
      "cell_type": "code",
      "source": [
        "# mnist를 읽어와서 신경망에 입력할 형태로 변환\n",
        "(x_train,y_train),(x_test,y_test) = mnist.load_data()\n",
        "# 표준화\n",
        "x_train = x_train.astype(np.float16) / 255.0\n",
        "x_test = x_test.astype(np.float16) / 255.0\n",
        "# 차수변경\n",
        "x_train = x_train.reshape(x_train.shape[0],-1)\n",
        "x_test = x_test.reshape(x_test.shape[0],-1)\n",
        "# 종속변수 one hot encording\n",
        "y_train = tf.keras.utils.to_categorical(y_train)\n",
        "y_test = tf.keras.utils.to_categorical(y_test)"
      ],
      "metadata": {
        "colab": {
          "base_uri": "https://localhost:8080/"
        },
        "id": "xRpmNXAn19PP",
        "outputId": "35e9cfe4-8cc2-4c3f-f8dc-e9d4399bc748"
      },
      "execution_count": 3,
      "outputs": [
        {
          "output_type": "stream",
          "name": "stdout",
          "text": [
            "Downloading data from https://storage.googleapis.com/tensorflow/tf-keras-datasets/mnist.npz\n",
            "11490434/11490434 [==============================] - 0s 0us/step\n"
          ]
        }
      ]
    },
    {
      "cell_type": "code",
      "source": [
        "# 신경망 구성을 위한 하이퍼매개변수\n",
        "n_input = 784\n",
        "n_hidden1,n_hidden2,n_hidden3,n_hidden4 = 1024,512,512,512\n",
        "n_output = 10"
      ],
      "metadata": {
        "id": "mqPLpCQG2h8o"
      },
      "execution_count": 4,
      "outputs": []
    },
    {
      "cell_type": "code",
      "source": [
        "# 두개의 신경망 모델을 생성\n",
        "# 손실함수 mse / mean_squared_error\n",
        "# 손실함수 categorical_crossentropy  "
      ],
      "metadata": {
        "id": "eZXPdStK3v_A"
      },
      "execution_count": 5,
      "outputs": []
    },
    {
      "cell_type": "code",
      "source": [
        "def build_model(loss = tf.keras.losses.categorical_crossentropy, optimizer = Adam):\n",
        "  model = Sequential()\n",
        "  model.add(Dense(n_hidden1,activation='relu'))\n",
        "  model.add(Dense(n_hidden2,activation='relu'))\n",
        "  model.add(Dense(n_hidden3,activation='relu'))\n",
        "  model.add(Dense(n_hidden4,activation='relu'))\n",
        "  model.add(Dense(n_output,activation='softmax'))  \n",
        "  model.compile(loss = loss,optimizer=optimizer,metrics=['accuracy'])\n",
        "  return model"
      ],
      "metadata": {
        "id": "bqM63gDF4Dom"
      },
      "execution_count": 15,
      "outputs": []
    },
    {
      "cell_type": "code",
      "source": [
        "mse_model = build_model(tf.keras.losses.mean_squared_error)\n",
        "cat_model = build_model(tf.keras.losses.categorical_crossentropy)"
      ],
      "metadata": {
        "id": "e8z8YCJS5HDW"
      },
      "execution_count": 7,
      "outputs": []
    },
    {
      "cell_type": "code",
      "source": [
        "mse_model.summary()"
      ],
      "metadata": {
        "colab": {
          "base_uri": "https://localhost:8080/"
        },
        "id": "sdbTILFzC6bu",
        "outputId": "a1ddf4e1-fee9-4e49-8d21-53b787a63878"
      },
      "execution_count": 12,
      "outputs": [
        {
          "output_type": "stream",
          "name": "stdout",
          "text": [
            "Model: \"sequential\"\n",
            "_________________________________________________________________\n",
            " Layer (type)                Output Shape              Param #   \n",
            "=================================================================\n",
            " dense (Dense)               (None, 1024)              803840    \n",
            "                                                                 \n",
            " dense_1 (Dense)             (None, 512)               524800    \n",
            "                                                                 \n",
            " dense_2 (Dense)             (None, 512)               262656    \n",
            "                                                                 \n",
            " dense_3 (Dense)             (None, 512)               262656    \n",
            "                                                                 \n",
            " dense_4 (Dense)             (None, 10)                5130      \n",
            "                                                                 \n",
            "=================================================================\n",
            "Total params: 1,859,082\n",
            "Trainable params: 1,859,082\n",
            "Non-trainable params: 0\n",
            "_________________________________________________________________\n"
          ]
        }
      ]
    },
    {
      "cell_type": "code",
      "source": [
        "# 학습\n",
        "mse_model_hist = mse_model.fit(x_train,y_train,batch_size=128,epochs=30,validation_data=[x_test,y_test]) \n",
        "cat_model_hist = cat_model.fit(x_train,y_train,batch_size=128,epochs=30,validation_data=[x_test,y_test]) "
      ],
      "metadata": {
        "colab": {
          "base_uri": "https://localhost:8080/"
        },
        "id": "20k0U_GP5VDO",
        "outputId": "76da87d1-1516-4b46-a664-cc8c74509aa1"
      },
      "execution_count": 8,
      "outputs": [
        {
          "output_type": "stream",
          "name": "stdout",
          "text": [
            "Epoch 1/30\n",
            "469/469 [==============================] - 6s 5ms/step - loss: 0.0174 - accuracy: 0.8942 - val_loss: 0.0080 - val_accuracy: 0.9487\n",
            "Epoch 2/30\n",
            "469/469 [==============================] - 2s 4ms/step - loss: 0.0065 - accuracy: 0.9589 - val_loss: 0.0057 - val_accuracy: 0.9641\n",
            "Epoch 3/30\n",
            "469/469 [==============================] - 2s 4ms/step - loss: 0.0046 - accuracy: 0.9715 - val_loss: 0.0047 - val_accuracy: 0.9695\n",
            "Epoch 4/30\n",
            "469/469 [==============================] - 2s 4ms/step - loss: 0.0035 - accuracy: 0.9792 - val_loss: 0.0041 - val_accuracy: 0.9723\n",
            "Epoch 5/30\n",
            "469/469 [==============================] - 2s 4ms/step - loss: 0.0027 - accuracy: 0.9838 - val_loss: 0.0037 - val_accuracy: 0.9759\n",
            "Epoch 6/30\n",
            "469/469 [==============================] - 2s 4ms/step - loss: 0.0021 - accuracy: 0.9877 - val_loss: 0.0037 - val_accuracy: 0.9766\n",
            "Epoch 7/30\n",
            "469/469 [==============================] - 2s 4ms/step - loss: 0.0017 - accuracy: 0.9901 - val_loss: 0.0036 - val_accuracy: 0.9768\n",
            "Epoch 8/30\n",
            "469/469 [==============================] - 2s 4ms/step - loss: 0.0014 - accuracy: 0.9921 - val_loss: 0.0032 - val_accuracy: 0.9790\n",
            "Epoch 9/30\n",
            "469/469 [==============================] - 2s 4ms/step - loss: 0.0012 - accuracy: 0.9934 - val_loss: 0.0034 - val_accuracy: 0.9778\n",
            "Epoch 10/30\n",
            "469/469 [==============================] - 2s 4ms/step - loss: 9.7722e-04 - accuracy: 0.9945 - val_loss: 0.0035 - val_accuracy: 0.9771\n",
            "Epoch 11/30\n",
            "469/469 [==============================] - 2s 4ms/step - loss: 8.9489e-04 - accuracy: 0.9950 - val_loss: 0.0031 - val_accuracy: 0.9796\n",
            "Epoch 12/30\n",
            "469/469 [==============================] - 2s 4ms/step - loss: 8.4728e-04 - accuracy: 0.9953 - val_loss: 0.0033 - val_accuracy: 0.9785\n",
            "Epoch 13/30\n",
            "469/469 [==============================] - 2s 4ms/step - loss: 6.9907e-04 - accuracy: 0.9962 - val_loss: 0.0031 - val_accuracy: 0.9800\n",
            "Epoch 14/30\n",
            "469/469 [==============================] - 2s 4ms/step - loss: 6.8848e-04 - accuracy: 0.9962 - val_loss: 0.0030 - val_accuracy: 0.9812\n",
            "Epoch 15/30\n",
            "469/469 [==============================] - 2s 5ms/step - loss: 5.3579e-04 - accuracy: 0.9970 - val_loss: 0.0033 - val_accuracy: 0.9804\n",
            "Epoch 16/30\n",
            "469/469 [==============================] - 2s 4ms/step - loss: 5.5019e-04 - accuracy: 0.9970 - val_loss: 0.0032 - val_accuracy: 0.9793\n",
            "Epoch 17/30\n",
            "469/469 [==============================] - 2s 4ms/step - loss: 5.4565e-04 - accuracy: 0.9971 - val_loss: 0.0030 - val_accuracy: 0.9813\n",
            "Epoch 18/30\n",
            "469/469 [==============================] - 2s 4ms/step - loss: 4.5085e-04 - accuracy: 0.9975 - val_loss: 0.0029 - val_accuracy: 0.9813\n",
            "Epoch 19/30\n",
            "469/469 [==============================] - 2s 4ms/step - loss: 4.3986e-04 - accuracy: 0.9976 - val_loss: 0.0032 - val_accuracy: 0.9803\n",
            "Epoch 20/30\n",
            "469/469 [==============================] - 2s 4ms/step - loss: 4.8852e-04 - accuracy: 0.9973 - val_loss: 0.0034 - val_accuracy: 0.9790\n",
            "Epoch 21/30\n",
            "469/469 [==============================] - 2s 4ms/step - loss: 5.1317e-04 - accuracy: 0.9970 - val_loss: 0.0031 - val_accuracy: 0.9799\n",
            "Epoch 22/30\n",
            "469/469 [==============================] - 2s 4ms/step - loss: 4.5369e-04 - accuracy: 0.9973 - val_loss: 0.0032 - val_accuracy: 0.9802\n",
            "Epoch 23/30\n",
            "469/469 [==============================] - 2s 4ms/step - loss: 3.9942e-04 - accuracy: 0.9977 - val_loss: 0.0029 - val_accuracy: 0.9817\n",
            "Epoch 24/30\n",
            "469/469 [==============================] - 2s 4ms/step - loss: 3.8764e-04 - accuracy: 0.9978 - val_loss: 0.0030 - val_accuracy: 0.9801\n",
            "Epoch 25/30\n",
            "469/469 [==============================] - 2s 4ms/step - loss: 2.6926e-04 - accuracy: 0.9986 - val_loss: 0.0029 - val_accuracy: 0.9817\n",
            "Epoch 26/30\n",
            "469/469 [==============================] - 2s 4ms/step - loss: 4.0053e-04 - accuracy: 0.9978 - val_loss: 0.0030 - val_accuracy: 0.9813\n",
            "Epoch 27/30\n",
            "469/469 [==============================] - 2s 4ms/step - loss: 4.1614e-04 - accuracy: 0.9976 - val_loss: 0.0034 - val_accuracy: 0.9796\n",
            "Epoch 28/30\n",
            "469/469 [==============================] - 2s 4ms/step - loss: 4.0865e-04 - accuracy: 0.9977 - val_loss: 0.0028 - val_accuracy: 0.9826\n",
            "Epoch 29/30\n",
            "469/469 [==============================] - 2s 4ms/step - loss: 2.4921e-04 - accuracy: 0.9987 - val_loss: 0.0031 - val_accuracy: 0.9806\n",
            "Epoch 30/30\n",
            "469/469 [==============================] - 2s 4ms/step - loss: 3.6975e-04 - accuracy: 0.9978 - val_loss: 0.0030 - val_accuracy: 0.9805\n",
            "Epoch 1/30\n",
            "469/469 [==============================] - 3s 5ms/step - loss: 0.3882 - accuracy: 0.8983 - val_loss: 0.1537 - val_accuracy: 0.9530\n",
            "Epoch 2/30\n",
            "469/469 [==============================] - 2s 4ms/step - loss: 0.1325 - accuracy: 0.9613 - val_loss: 0.1114 - val_accuracy: 0.9652\n",
            "Epoch 3/30\n",
            "469/469 [==============================] - 2s 4ms/step - loss: 0.0880 - accuracy: 0.9744 - val_loss: 0.0954 - val_accuracy: 0.9702\n",
            "Epoch 4/30\n",
            "469/469 [==============================] - 2s 4ms/step - loss: 0.0627 - accuracy: 0.9812 - val_loss: 0.0871 - val_accuracy: 0.9731\n",
            "Epoch 5/30\n",
            "469/469 [==============================] - 2s 4ms/step - loss: 0.0454 - accuracy: 0.9869 - val_loss: 0.0670 - val_accuracy: 0.9791\n",
            "Epoch 6/30\n",
            "469/469 [==============================] - 2s 5ms/step - loss: 0.0326 - accuracy: 0.9906 - val_loss: 0.0722 - val_accuracy: 0.9779\n",
            "Epoch 7/30\n",
            "469/469 [==============================] - 2s 4ms/step - loss: 0.0256 - accuracy: 0.9925 - val_loss: 0.0658 - val_accuracy: 0.9800\n",
            "Epoch 8/30\n",
            "469/469 [==============================] - 2s 4ms/step - loss: 0.0163 - accuracy: 0.9955 - val_loss: 0.0727 - val_accuracy: 0.9780\n",
            "Epoch 9/30\n",
            "469/469 [==============================] - 2s 5ms/step - loss: 0.0135 - accuracy: 0.9963 - val_loss: 0.0702 - val_accuracy: 0.9798\n",
            "Epoch 10/30\n",
            "469/469 [==============================] - 2s 4ms/step - loss: 0.0106 - accuracy: 0.9972 - val_loss: 0.0710 - val_accuracy: 0.9806\n",
            "Epoch 11/30\n",
            "469/469 [==============================] - 2s 4ms/step - loss: 0.0092 - accuracy: 0.9973 - val_loss: 0.0738 - val_accuracy: 0.9807\n",
            "Epoch 12/30\n",
            "469/469 [==============================] - 2s 5ms/step - loss: 0.0053 - accuracy: 0.9986 - val_loss: 0.0845 - val_accuracy: 0.9795\n",
            "Epoch 13/30\n",
            "469/469 [==============================] - 2s 5ms/step - loss: 0.0096 - accuracy: 0.9969 - val_loss: 0.0818 - val_accuracy: 0.9790\n",
            "Epoch 14/30\n",
            "469/469 [==============================] - 2s 4ms/step - loss: 0.0048 - accuracy: 0.9987 - val_loss: 0.0781 - val_accuracy: 0.9817\n",
            "Epoch 15/30\n",
            "469/469 [==============================] - 2s 4ms/step - loss: 0.0037 - accuracy: 0.9989 - val_loss: 0.1086 - val_accuracy: 0.9746\n",
            "Epoch 16/30\n",
            "469/469 [==============================] - 2s 5ms/step - loss: 0.0099 - accuracy: 0.9967 - val_loss: 0.0811 - val_accuracy: 0.9807\n",
            "Epoch 17/30\n",
            "469/469 [==============================] - 2s 4ms/step - loss: 0.0021 - accuracy: 0.9996 - val_loss: 0.0806 - val_accuracy: 0.9815\n",
            "Epoch 18/30\n",
            "469/469 [==============================] - 2s 5ms/step - loss: 0.0047 - accuracy: 0.9986 - val_loss: 0.0811 - val_accuracy: 0.9817\n",
            "Epoch 19/30\n",
            "469/469 [==============================] - 2s 4ms/step - loss: 0.0047 - accuracy: 0.9984 - val_loss: 0.1069 - val_accuracy: 0.9775\n",
            "Epoch 20/30\n",
            "469/469 [==============================] - 2s 5ms/step - loss: 0.0038 - accuracy: 0.9988 - val_loss: 0.0836 - val_accuracy: 0.9808\n",
            "Epoch 21/30\n",
            "469/469 [==============================] - 2s 5ms/step - loss: 0.0016 - accuracy: 0.9996 - val_loss: 0.0801 - val_accuracy: 0.9834\n",
            "Epoch 22/30\n",
            "469/469 [==============================] - 2s 5ms/step - loss: 0.0048 - accuracy: 0.9984 - val_loss: 0.1177 - val_accuracy: 0.9771\n",
            "Epoch 23/30\n",
            "469/469 [==============================] - 2s 4ms/step - loss: 0.0062 - accuracy: 0.9981 - val_loss: 0.0919 - val_accuracy: 0.9809\n",
            "Epoch 24/30\n",
            "469/469 [==============================] - 2s 4ms/step - loss: 0.0017 - accuracy: 0.9995 - val_loss: 0.0961 - val_accuracy: 0.9806\n",
            "Epoch 25/30\n",
            "469/469 [==============================] - 2s 4ms/step - loss: 3.3183e-04 - accuracy: 1.0000 - val_loss: 0.0815 - val_accuracy: 0.9840\n",
            "Epoch 26/30\n",
            "469/469 [==============================] - 2s 4ms/step - loss: 6.9419e-05 - accuracy: 1.0000 - val_loss: 0.0830 - val_accuracy: 0.9842\n",
            "Epoch 27/30\n",
            "469/469 [==============================] - 2s 4ms/step - loss: 4.4876e-05 - accuracy: 1.0000 - val_loss: 0.0844 - val_accuracy: 0.9838\n",
            "Epoch 28/30\n",
            "469/469 [==============================] - 2s 4ms/step - loss: 3.3695e-05 - accuracy: 1.0000 - val_loss: 0.0856 - val_accuracy: 0.9844\n",
            "Epoch 29/30\n",
            "469/469 [==============================] - 2s 4ms/step - loss: 2.6305e-05 - accuracy: 1.0000 - val_loss: 0.0871 - val_accuracy: 0.9843\n",
            "Epoch 30/30\n",
            "469/469 [==============================] - 2s 4ms/step - loss: 2.0832e-05 - accuracy: 1.0000 - val_loss: 0.0889 - val_accuracy: 0.9845\n"
          ]
        }
      ]
    },
    {
      "cell_type": "code",
      "source": [
        "mse_model.evaluate(x_test,y_test), cat_model.evaluate(x_test,y_test)"
      ],
      "metadata": {
        "colab": {
          "base_uri": "https://localhost:8080/"
        },
        "id": "y7UJGXj_6iIY",
        "outputId": "3c953406-2bb6-4371-e489-e543ced567a9"
      },
      "execution_count": 9,
      "outputs": [
        {
          "output_type": "stream",
          "name": "stdout",
          "text": [
            "313/313 [==============================] - 1s 2ms/step - loss: 0.0030 - accuracy: 0.9805\n",
            "313/313 [==============================] - 1s 3ms/step - loss: 0.0889 - accuracy: 0.9845\n"
          ]
        },
        {
          "output_type": "execute_result",
          "data": {
            "text/plain": [
              "([0.0030468336772173643, 0.9804999828338623],\n",
              " [0.08887257426977158, 0.984499990940094])"
            ]
          },
          "metadata": {},
          "execution_count": 9
        }
      ]
    },
    {
      "cell_type": "code",
      "source": [
        "# 0.15% 정도 우수한것으로\n",
        "import matplotlib.pyplot as plt\n",
        "plt.plot(mse_model_hist.history['accuracy'])\n",
        "plt.plot(mse_model_hist.history['val_accuracy'])\n",
        "plt.plot(cat_model_hist.history['accuracy'])\n",
        "plt.plot(cat_model_hist.history['val_accuracy'])\n",
        "plt.legend(['mse_acc','mse_acc_val','cat_acc','act_acc_val'])\n",
        "plt.show()"
      ],
      "metadata": {
        "colab": {
          "base_uri": "https://localhost:8080/",
          "height": 265
        },
        "id": "7pehFSA77WJP",
        "outputId": "07cdc57e-2eb1-4c69-ab5f-f8a75ebb39df"
      },
      "execution_count": 10,
      "outputs": [
        {
          "output_type": "display_data",
          "data": {
            "text/plain": [
              "<Figure size 432x288 with 1 Axes>"
            ],
            "image/png": "[encoded data removed]"
          },
          "metadata": {
            "needs_background": "light"
          }
        }
      ]
    },
    {
      "cell_type": "code",
      "source": [
        "# 손실함수의 최저점을 찾아주는 옵티마이저\n",
        "# 모멘텀 / 학습률을 개선하는 아이디어로 발전\n",
        "# 학습률을 개선하는 옵티마이져\n",
        "# SGD\n",
        "# Adagrad : 이전 그레이디언트를 누적한 정보를 이용하여 학습률을 설정하는 기법\n",
        "# RMSprop : 이전 그레이디어트를 누적할때 오랜된 것의 영향력을 줄이는 정책응 사용\n",
        "# Adam : RMSprop + 모멘텀을 적용하여 RMSprop을 개선"
      ],
      "metadata": {
        "id": "5DVXEtxT8ABt"
      },
      "execution_count": 11,
      "outputs": []
    },
    {
      "cell_type": "code",
      "source": [
        "# SGD Adam Adagrade RMSprop 을 비교"
      ],
      "metadata": {
        "id": "yPKDzsL__HeV"
      },
      "execution_count": 13,
      "outputs": []
    },
    {
      "cell_type": "code",
      "source": [
        "from tensorflow.keras.optimizers import SGD, Adam,Adagrad,RMSprop\n",
        "sgd_model=build_model(optimizer = SGD())\n",
        "adam_model=build_model(optimizer = Adam())\n",
        "adagrade_model=build_model(optimizer = Adagrad())\n",
        "rmsprop_model=build_model(optimizer = RMSprop())"
      ],
      "metadata": {
        "id": "rcnWb9bLDip1"
      },
      "execution_count": 16,
      "outputs": []
    },
    {
      "cell_type": "code",
      "source": [
        "batch_size = 128\n",
        "n_epoch = 10\n",
        "sgd_model_hist = sgd_model.fit(x_train, y_train,batch_size=batch_size,epochs=n_epoch)\n",
        "adam_model_hist = adam_model.fit(x_train, y_train,batch_size=batch_size,epochs=n_epoch)\n",
        "adagrade_model_hist = adagrade_model.fit(x_train, y_train,batch_size=batch_size,epochs=n_epoch)\n",
        "rmsprop_model_hist = rmsprop_model.fit(x_train, y_train,batch_size=batch_size,epochs=n_epoch)"
      ],
      "metadata": {
        "id": "1hVStgCHFdHl"
      },
      "execution_count": null,
      "outputs": []
    },
    {
      "cell_type": "code",
      "source": [
        "# 손실함수처럼 4개를 비교하는 그래프를 작성\n",
        "plt.plot(sgd_model_hist.history['accuracy'])\n",
        "# plt.plot(sgd_model_hist.history['val_accuracy'])\n",
        "plt.plot(adam_model_hist.history['accuracy'])\n",
        "# plt.plot(adam_model_hist.history['val_accuracy'])\n",
        "plt.plot(adagrade_model_hist.history['accuracy'])\n",
        "# plt.plot(adagrade_model_hist.history['val_accuracy'])\n",
        "plt.plot(rmsprop_model_hist.history['accuracy'])\n",
        "# plt.plot(rmsprop_model_hist.history['val_accuracy'])\n",
        "plt.legend(['sgd_model_hist','adam_model_hist','adagrade_model_hist','rmsprop_model_hist'])\n",
        "plt.show()"
      ],
      "metadata": {
        "colab": {
          "base_uri": "https://localhost:8080/",
          "height": 265
        },
        "id": "6-hv6WuwGRjt",
        "outputId": "c6ee5b97-d16d-42ff-f8ea-45b2e6afe44c"
      },
      "execution_count": 19,
      "outputs": [
        {
          "output_type": "display_data",
          "data": {
            "text/plain": [
              "<Figure size 432x288 with 1 Axes>"
            ],
            "image/png": "[encoded data removed]"
          },
          "metadata": {
            "needs_background": "light"
          }
        }
      ]
    },
    {
      "cell_type": "code",
      "source": [],
      "metadata": {
        "id": "h-TQxDcMH8VL"
      },
      "execution_count": null,
      "outputs": []
    }
  ]
}
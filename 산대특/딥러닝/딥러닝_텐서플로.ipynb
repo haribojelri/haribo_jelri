{
 "cells": [
  {
   "cell_type": "code",
   "execution_count": 1,
   "id": "7c9e7da6-bc47-409a-9bb0-2e9489ab5205",
   "metadata": {},
   "outputs": [
    {
     "data": {
      "text/plain": [
       "'2.10.0'"
      ]
     },
     "execution_count": 1,
     "metadata": {},
     "output_type": "execute_result"
    }
   ],
   "source": [
    "import tensorflow as tf\n",
    "tf.__version__"
   ]
  },
  {
   "cell_type": "code",
   "execution_count": 2,
   "id": "cde7c390-7ca8-4a31-9d4c-79af48abd1e0",
   "metadata": {},
   "outputs": [
    {
     "name": "stdout",
     "output_type": "stream",
     "text": [
      "Requirement already satisfied: requests in c:\\users\\user\\miniconda3\\lib\\site-packages (2.28.1)\n",
      "Requirement already satisfied: certifi>=2017.4.17 in c:\\users\\user\\miniconda3\\lib\\site-packages (from requests) (2022.9.14)\n",
      "Requirement already satisfied: idna<4,>=2.5 in c:\\users\\user\\miniconda3\\lib\\site-packages (from requests) (3.3)\n",
      "Requirement already satisfied: charset-normalizer<3,>=2 in c:\\users\\user\\miniconda3\\lib\\site-packages (from requests) (2.0.4)\n",
      "Requirement already satisfied: urllib3<1.27,>=1.21.1 in c:\\users\\user\\miniconda3\\lib\\site-packages (from requests) (1.26.8)\n",
      "Note: you may need to restart the kernel to use updated packages.\n"
     ]
    }
   ],
   "source": [
    "pip install --upgrade requests"
   ]
  },
  {
   "cell_type": "code",
   "execution_count": 3,
   "id": "b94697ab-967a-457b-9971-0ad3a619ec45",
   "metadata": {},
   "outputs": [
    {
     "data": {
      "text/plain": [
       "'2.10.0'"
      ]
     },
     "execution_count": 3,
     "metadata": {},
     "output_type": "execute_result"
    }
   ],
   "source": [
    "tf.__version__"
   ]
  },
  {
   "cell_type": "code",
   "execution_count": 4,
   "id": "e9189f1b-8d42-4c74-aeae-3247cf90b6a5",
   "metadata": {},
   "outputs": [
    {
     "data": {
      "text/plain": [
       "<tf.Tensor: shape=(2, 3), dtype=float32, numpy=\n",
       "array([[0.3877008 , 0.15442336, 0.548645  ],\n",
       "       [0.64156723, 0.95514464, 0.75631654]], dtype=float32)>"
      ]
     },
     "execution_count": 4,
     "metadata": {},
     "output_type": "execute_result"
    }
   ],
   "source": [
    "a = tf.random.uniform([2,3],0,1)\n",
    "a"
   ]
  },
  {
   "cell_type": "code",
   "execution_count": 5,
   "id": "8f92edef-f225-42fa-9168-a349fd8913e3",
   "metadata": {},
   "outputs": [],
   "source": [
    "# 딥러닝 데이터를 테서(tensor) 자료구조로 표현, 신경망의 가중치도 텐서\n",
    "# 다차원배열을 --> 텐서\n",
    "# MNIST 원소하나 28 x 28  2차원 텐서\n",
    "# MNIST -- 60,000  x 28 x 28  3차원 텐서\n",
    "# 동영상 --> 4차원 텐서\n",
    "# 인간의 한계로 인해서 5차원 텐서까지만 사용"
   ]
  },
  {
   "cell_type": "code",
   "execution_count": 6,
   "id": "bfe1bbc2-1a65-4019-9c8e-3b5fb3858552",
   "metadata": {},
   "outputs": [],
   "source": [
    "# 텐서가 제공하는 데이터셋의 텐서 구조를 확인"
   ]
  },
  {
   "cell_type": "code",
   "execution_count": 7,
   "id": "c0821624-35ab-4b12-8359-d789bd23445c",
   "metadata": {},
   "outputs": [],
   "source": [
    "import tensorflow.keras.datasets as ds"
   ]
  },
  {
   "cell_type": "code",
   "execution_count": 8,
   "id": "1e26ff60-d5d0-4d45-8e44-55d8ad657e2e",
   "metadata": {},
   "outputs": [
    {
     "data": {
      "text/plain": [
       "((60000, 28, 28), (60000,))"
      ]
     },
     "execution_count": 8,
     "metadata": {},
     "output_type": "execute_result"
    }
   ],
   "source": [
    "(x_train,y_train),(x_test,y_test) =  ds.mnist.load_data()\n",
    "x_train.shape,y_train.shape"
   ]
  },
  {
   "cell_type": "code",
   "execution_count": 9,
   "id": "d2a15c6f-c23f-4eca-adf3-422deff853d8",
   "metadata": {},
   "outputs": [],
   "source": [
    "# one - hot\n",
    "from sklearn.preprocessing import OneHotEncoder\n",
    "ohe =  OneHotEncoder()\n",
    "y_train_sk = ohe.fit_transform(y_train.reshape(-1,1))\n",
    "y_train_tf =  tf.one_hot(y_train,10,dtype=tf.int8)\n",
    "\n",
    "import pandas as pd\n",
    "y_train_pd =  pd.get_dummies(y_train)"
   ]
  },
  {
   "cell_type": "code",
   "execution_count": 10,
   "id": "81adb1e7-3389-49db-bf9c-76c35ea716f2",
   "metadata": {},
   "outputs": [
    {
     "data": {
      "text/html": [
       "<div>\n",
       "<style scoped>\n",
       "    .dataframe tbody tr th:only-of-type {\n",
       "        vertical-align: middle;\n",
       "    }\n",
       "\n",
       "    .dataframe tbody tr th {\n",
       "        vertical-align: top;\n",
       "    }\n",
       "\n",
       "    .dataframe thead th {\n",
       "        text-align: right;\n",
       "    }\n",
       "</style>\n",
       "<table border=\"1\" class=\"dataframe\">\n",
       "  <thead>\n",
       "    <tr style=\"text-align: right;\">\n",
       "      <th></th>\n",
       "      <th>0</th>\n",
       "      <th>1</th>\n",
       "      <th>2</th>\n",
       "      <th>3</th>\n",
       "      <th>4</th>\n",
       "      <th>5</th>\n",
       "      <th>6</th>\n",
       "      <th>7</th>\n",
       "      <th>8</th>\n",
       "      <th>9</th>\n",
       "    </tr>\n",
       "  </thead>\n",
       "  <tbody>\n",
       "    <tr>\n",
       "      <th>0</th>\n",
       "      <td>0</td>\n",
       "      <td>0</td>\n",
       "      <td>0</td>\n",
       "      <td>0</td>\n",
       "      <td>0</td>\n",
       "      <td>1</td>\n",
       "      <td>0</td>\n",
       "      <td>0</td>\n",
       "      <td>0</td>\n",
       "      <td>0</td>\n",
       "    </tr>\n",
       "    <tr>\n",
       "      <th>1</th>\n",
       "      <td>1</td>\n",
       "      <td>0</td>\n",
       "      <td>0</td>\n",
       "      <td>0</td>\n",
       "      <td>0</td>\n",
       "      <td>0</td>\n",
       "      <td>0</td>\n",
       "      <td>0</td>\n",
       "      <td>0</td>\n",
       "      <td>0</td>\n",
       "    </tr>\n",
       "    <tr>\n",
       "      <th>2</th>\n",
       "      <td>0</td>\n",
       "      <td>0</td>\n",
       "      <td>0</td>\n",
       "      <td>0</td>\n",
       "      <td>1</td>\n",
       "      <td>0</td>\n",
       "      <td>0</td>\n",
       "      <td>0</td>\n",
       "      <td>0</td>\n",
       "      <td>0</td>\n",
       "    </tr>\n",
       "    <tr>\n",
       "      <th>3</th>\n",
       "      <td>0</td>\n",
       "      <td>1</td>\n",
       "      <td>0</td>\n",
       "      <td>0</td>\n",
       "      <td>0</td>\n",
       "      <td>0</td>\n",
       "      <td>0</td>\n",
       "      <td>0</td>\n",
       "      <td>0</td>\n",
       "      <td>0</td>\n",
       "    </tr>\n",
       "    <tr>\n",
       "      <th>4</th>\n",
       "      <td>0</td>\n",
       "      <td>0</td>\n",
       "      <td>0</td>\n",
       "      <td>0</td>\n",
       "      <td>0</td>\n",
       "      <td>0</td>\n",
       "      <td>0</td>\n",
       "      <td>0</td>\n",
       "      <td>0</td>\n",
       "      <td>1</td>\n",
       "    </tr>\n",
       "  </tbody>\n",
       "</table>\n",
       "</div>"
      ],
      "text/plain": [
       "   0  1  2  3  4  5  6  7  8  9\n",
       "0  0  0  0  0  0  1  0  0  0  0\n",
       "1  1  0  0  0  0  0  0  0  0  0\n",
       "2  0  0  0  0  1  0  0  0  0  0\n",
       "3  0  1  0  0  0  0  0  0  0  0\n",
       "4  0  0  0  0  0  0  0  0  0  1"
      ]
     },
     "execution_count": 10,
     "metadata": {},
     "output_type": "execute_result"
    }
   ],
   "source": [
    "# y_train_sk.toarray().astype('int8')  # sklearn\n",
    "# y_train_tf\n",
    "y_train_pd.head()"
   ]
  },
  {
   "cell_type": "code",
   "execution_count": 11,
   "id": "b75482cb-2d13-4390-91f9-04fd8bcf6f68",
   "metadata": {},
   "outputs": [],
   "source": [
    "# OR 데이터  \n",
    "x = [\n",
    "    [0.0,0.0],[0.0,1.0],[1.0,0.0],[1.0,1.0]\n",
    "]\n",
    "y = [\n",
    "    [-1],[1],[1],[1]\n",
    "]"
   ]
  },
  {
   "cell_type": "code",
   "execution_count": 12,
   "id": "5f66d400-371e-4bfe-ba15-0492954d2bc0",
   "metadata": {},
   "outputs": [],
   "source": [
    "import numpy as np\n",
    "# 신경망 기초 그림 4-10 (b)의 구조를 텐서로 구현\n",
    "# 퍼셉트론의 가중치와 바이어를 초기화\n",
    "# 텐서는 넘파이와 완벽하게 호환... 데이터를 구성할때 Variable 대신에 numpy array 사용해도 무관\n",
    "# w = tf.Variable([[1.0],[1.0]])\n",
    "# b = tf.Variable(-0.5)\n",
    "w = np.array([[1.0],[1.0]])\n",
    "b = np.array(-0.5)"
   ]
  },
  {
   "cell_type": "code",
   "execution_count": 13,
   "id": "c7ea940a-7052-4474-943a-a3d288ae2d51",
   "metadata": {},
   "outputs": [
    {
     "data": {
      "text/plain": [
       "<tf.Tensor: shape=(4, 1), dtype=float32, numpy=\n",
       "array([[-1.],\n",
       "       [ 1.],\n",
       "       [ 1.],\n",
       "       [ 1.]], dtype=float32)>"
      ]
     },
     "execution_count": 13,
     "metadata": {},
     "output_type": "execute_result"
    }
   ],
   "source": [
    "# 퍼셉트론 동작\n",
    "s = tf.add(tf.matmul(x,w),b)\n",
    "o = tf.sign(s)\n",
    "o"
   ]
  },
  {
   "cell_type": "code",
   "execution_count": 14,
   "id": "7809421f-9f55-428c-9aea-1a7107cbe8ee",
   "metadata": {},
   "outputs": [],
   "source": [
    "# 퍼셉트론 학습\n",
    "# 데이터는 위에 만든 x y 를 사용\n",
    "# 가중치 초기화\n",
    "w = tf.Variable(tf.random.uniform([2,1],-0.5,0.5))\n",
    "b = tf.Variable(tf.zeros([1]))"
   ]
  },
  {
   "cell_type": "code",
   "execution_count": 15,
   "id": "02038316-aec8-4e27-b039-ef767f2cbca4",
   "metadata": {},
   "outputs": [],
   "source": [
    "# 옵티마이저\n",
    "opt = tf.keras.optimizers.SGD(learning_rate=0.1)"
   ]
  },
  {
   "cell_type": "code",
   "execution_count": 16,
   "id": "d9ad655b-efeb-4ad6-b1ef-0a267df67cf1",
   "metadata": {},
   "outputs": [],
   "source": [
    "# 전방계산식\n",
    "def forward():\n",
    "    s = tf.add(tf.matmul(x,w),b)\n",
    "    o = tf.tanh(s)\n",
    "    return o"
   ]
  },
  {
   "cell_type": "code",
   "execution_count": 17,
   "id": "893f6013-c0de-46fa-a26a-fe172f1339ab",
   "metadata": {},
   "outputs": [],
   "source": [
    "# 손실함수(오차계산)   mse\n",
    "def loss():\n",
    "    o = forward()\n",
    "    return tf.reduce_mean((y-o)**2)  "
   ]
  },
  {
   "cell_type": "code",
   "execution_count": 18,
   "id": "e32193a6-8500-436c-8f25-a5374274fc0c",
   "metadata": {},
   "outputs": [
    {
     "name": "stdout",
     "output_type": "stream",
     "text": [
      "loss at epoch : 0 = 0.6874379515647888\n",
      "loss at epoch : 100 = 0.08925285935401917\n",
      "loss at epoch : 200 = 0.041697632521390915\n",
      "loss at epoch : 300 = 0.026337727904319763\n",
      "loss at epoch : 400 = 0.019014548510313034\n"
     ]
    }
   ],
   "source": [
    "# 500 세대까지 학습(100세대 마다 정보를 출력)\n",
    "for i in range(500):\n",
    "    opt.minimize(loss,var_list=[w,b])\n",
    "    if(i%100 == 0): print(f\"loss at epoch : {i} = {loss().numpy()}\")"
   ]
  },
  {
   "cell_type": "code",
   "execution_count": 19,
   "id": "ef9cdfeb-9864-43cc-992f-978e76dd4aea",
   "metadata": {},
   "outputs": [
    {
     "data": {
      "text/plain": [
       "<tf.Tensor: shape=(4, 1), dtype=float32, numpy=\n",
       "array([[-0.81674933],\n",
       "       [ 0.8866756 ],\n",
       "       [ 0.88657665],\n",
       "       [ 0.99927175]], dtype=float32)>"
      ]
     },
     "execution_count": 19,
     "metadata": {},
     "output_type": "execute_result"
    }
   ],
   "source": [
    "# 학습된 데이터를 OR 데이터로 예측\n",
    "o = forward()\n",
    "o"
   ]
  },
  {
   "cell_type": "code",
   "execution_count": 20,
   "id": "74e2e050-78b9-447e-a715-b4c1d0175250",
   "metadata": {},
   "outputs": [],
   "source": [
    "# 케라스를 이용한 퍼셉트론 학습\n",
    "# 데이터는 or 데이터를 사용\n",
    "# 신경망 구조를 설계\n",
    "# 신경망 학습\n",
    "# 예측\n",
    "\n",
    "from tensorflow.keras.models import  Sequential\n",
    "from tensorflow.keras.layers import Dense\n",
    "from tensorflow.keras.optimizers import SGD"
   ]
  },
  {
   "cell_type": "code",
   "execution_count": 21,
   "id": "1589cc81-c71c-443a-81e6-0929d5f97566",
   "metadata": {},
   "outputs": [
    {
     "data": {
      "text/plain": [
       "([[0.0, 0.0], [0.0, 1.0], [1.0, 0.0], [1.0, 1.0]], [[-1], [1], [1], [1]])"
      ]
     },
     "execution_count": 21,
     "metadata": {},
     "output_type": "execute_result"
    }
   ],
   "source": [
    "# x = [[0.0, 0.0], [0.0, 1.0], [1.0, 0.0], [1.0, 1.0]]\n",
    "# y = [[-1], [1], [1], [1]]\n",
    "x,y"
   ]
  },
  {
   "cell_type": "code",
   "execution_count": 22,
   "id": "e3c3b4cc-c2cd-4a45-81f4-56e0b4619998",
   "metadata": {},
   "outputs": [],
   "source": [
    "# 신경망 구조 설계\n",
    "n_input = 2\n",
    "n_output = 1\n",
    "perceptron = Sequential()\n",
    "perceptron.add(Dense(n_output,activation='tanh',input_shape=(n_input,)\n",
    "                     ,kernel_initializer='random_uniform'))"
   ]
  },
  {
   "cell_type": "code",
   "execution_count": 23,
   "id": "39570053-1206-4bf3-8725-9fb6f2ba953d",
   "metadata": {
    "collapsed": true,
    "jupyter": {
     "outputs_hidden": true
    },
    "tags": []
   },
   "outputs": [
    {
     "name": "stdout",
     "output_type": "stream",
     "text": [
      "Epoch 1/500\n",
      "1/1 - 0s - loss: 0.9790 - mse: 0.9790 - 239ms/epoch - 239ms/step\n",
      "Epoch 2/500\n",
      "1/1 - 0s - loss: 0.7386 - mse: 0.7386 - 6ms/epoch - 6ms/step\n",
      "Epoch 3/500\n",
      "1/1 - 0s - loss: 0.6336 - mse: 0.6336 - 6ms/epoch - 6ms/step\n",
      "Epoch 4/500\n",
      "1/1 - 0s - loss: 0.5817 - mse: 0.5817 - 5ms/epoch - 5ms/step\n",
      "Epoch 5/500\n",
      "1/1 - 0s - loss: 0.5500 - mse: 0.5500 - 7ms/epoch - 7ms/step\n",
      "Epoch 6/500\n",
      "1/1 - 0s - loss: 0.5271 - mse: 0.5271 - 6ms/epoch - 6ms/step\n",
      "Epoch 7/500\n",
      "1/1 - 0s - loss: 0.5086 - mse: 0.5086 - 6ms/epoch - 6ms/step\n",
      "Epoch 8/500\n",
      "1/1 - 0s - loss: 0.4925 - mse: 0.4925 - 6ms/epoch - 6ms/step\n",
      "Epoch 9/500\n",
      "1/1 - 0s - loss: 0.4779 - mse: 0.4779 - 6ms/epoch - 6ms/step\n",
      "Epoch 10/500\n",
      "1/1 - 0s - loss: 0.4642 - mse: 0.4642 - 6ms/epoch - 6ms/step\n",
      "Epoch 11/500\n",
      "1/1 - 0s - loss: 0.4512 - mse: 0.4512 - 6ms/epoch - 6ms/step\n",
      "Epoch 12/500\n",
      "1/1 - 0s - loss: 0.4389 - mse: 0.4389 - 5ms/epoch - 5ms/step\n",
      "Epoch 13/500\n",
      "1/1 - 0s - loss: 0.4270 - mse: 0.4270 - 6ms/epoch - 6ms/step\n",
      "Epoch 14/500\n",
      "1/1 - 0s - loss: 0.4155 - mse: 0.4155 - 6ms/epoch - 6ms/step\n",
      "Epoch 15/500\n",
      "1/1 - 0s - loss: 0.4044 - mse: 0.4044 - 6ms/epoch - 6ms/step\n",
      "Epoch 16/500\n",
      "1/1 - 0s - loss: 0.3938 - mse: 0.3938 - 5ms/epoch - 5ms/step\n",
      "Epoch 17/500\n",
      "1/1 - 0s - loss: 0.3835 - mse: 0.3835 - 6ms/epoch - 6ms/step\n",
      "Epoch 18/500\n",
      "1/1 - 0s - loss: 0.3735 - mse: 0.3735 - 4ms/epoch - 4ms/step\n",
      "Epoch 19/500\n",
      "1/1 - 0s - loss: 0.3640 - mse: 0.3640 - 6ms/epoch - 6ms/step\n",
      "Epoch 20/500\n",
      "1/1 - 0s - loss: 0.3547 - mse: 0.3547 - 6ms/epoch - 6ms/step\n",
      "Epoch 21/500\n",
      "1/1 - 0s - loss: 0.3458 - mse: 0.3458 - 5ms/epoch - 5ms/step\n",
      "Epoch 22/500\n",
      "1/1 - 0s - loss: 0.3372 - mse: 0.3372 - 9ms/epoch - 9ms/step\n",
      "Epoch 23/500\n",
      "1/1 - 0s - loss: 0.3289 - mse: 0.3289 - 5ms/epoch - 5ms/step\n",
      "Epoch 24/500\n",
      "1/1 - 0s - loss: 0.3210 - mse: 0.3210 - 6ms/epoch - 6ms/step\n",
      "Epoch 25/500\n",
      "1/1 - 0s - loss: 0.3133 - mse: 0.3133 - 6ms/epoch - 6ms/step\n",
      "Epoch 26/500\n",
      "1/1 - 0s - loss: 0.3058 - mse: 0.3058 - 5ms/epoch - 5ms/step\n",
      "Epoch 27/500\n",
      "1/1 - 0s - loss: 0.2987 - mse: 0.2987 - 5ms/epoch - 5ms/step\n",
      "Epoch 28/500\n",
      "1/1 - 0s - loss: 0.2918 - mse: 0.2918 - 5ms/epoch - 5ms/step\n",
      "Epoch 29/500\n",
      "1/1 - 0s - loss: 0.2851 - mse: 0.2851 - 5ms/epoch - 5ms/step\n",
      "Epoch 30/500\n",
      "1/1 - 0s - loss: 0.2787 - mse: 0.2787 - 6ms/epoch - 6ms/step\n",
      "Epoch 31/500\n",
      "1/1 - 0s - loss: 0.2725 - mse: 0.2725 - 4ms/epoch - 4ms/step\n",
      "Epoch 32/500\n",
      "1/1 - 0s - loss: 0.2665 - mse: 0.2665 - 6ms/epoch - 6ms/step\n",
      "Epoch 33/500\n",
      "1/1 - 0s - loss: 0.2607 - mse: 0.2607 - 4ms/epoch - 4ms/step\n",
      "Epoch 34/500\n",
      "1/1 - 0s - loss: 0.2551 - mse: 0.2551 - 6ms/epoch - 6ms/step\n",
      "Epoch 35/500\n",
      "1/1 - 0s - loss: 0.2497 - mse: 0.2497 - 6ms/epoch - 6ms/step\n",
      "Epoch 36/500\n",
      "1/1 - 0s - loss: 0.2445 - mse: 0.2445 - 6ms/epoch - 6ms/step\n",
      "Epoch 37/500\n",
      "1/1 - 0s - loss: 0.2395 - mse: 0.2395 - 6ms/epoch - 6ms/step\n",
      "Epoch 38/500\n",
      "1/1 - 0s - loss: 0.2346 - mse: 0.2346 - 6ms/epoch - 6ms/step\n",
      "Epoch 39/500\n",
      "1/1 - 0s - loss: 0.2298 - mse: 0.2298 - 5ms/epoch - 5ms/step\n",
      "Epoch 40/500\n",
      "1/1 - 0s - loss: 0.2253 - mse: 0.2253 - 5ms/epoch - 5ms/step\n",
      "Epoch 41/500\n",
      "1/1 - 0s - loss: 0.2208 - mse: 0.2208 - 5ms/epoch - 5ms/step\n",
      "Epoch 42/500\n",
      "1/1 - 0s - loss: 0.2166 - mse: 0.2166 - 5ms/epoch - 5ms/step\n",
      "Epoch 43/500\n",
      "1/1 - 0s - loss: 0.2124 - mse: 0.2124 - 6ms/epoch - 6ms/step\n",
      "Epoch 44/500\n",
      "1/1 - 0s - loss: 0.2084 - mse: 0.2084 - 5ms/epoch - 5ms/step\n",
      "Epoch 45/500\n",
      "1/1 - 0s - loss: 0.2045 - mse: 0.2045 - 5ms/epoch - 5ms/step\n",
      "Epoch 46/500\n",
      "1/1 - 0s - loss: 0.2007 - mse: 0.2007 - 4ms/epoch - 4ms/step\n",
      "Epoch 47/500\n",
      "1/1 - 0s - loss: 0.1970 - mse: 0.1970 - 6ms/epoch - 6ms/step\n",
      "Epoch 48/500\n",
      "1/1 - 0s - loss: 0.1934 - mse: 0.1934 - 6ms/epoch - 6ms/step\n",
      "Epoch 49/500\n",
      "1/1 - 0s - loss: 0.1900 - mse: 0.1900 - 5ms/epoch - 5ms/step\n",
      "Epoch 50/500\n",
      "1/1 - 0s - loss: 0.1866 - mse: 0.1866 - 25ms/epoch - 25ms/step\n",
      "Epoch 51/500\n",
      "1/1 - 0s - loss: 0.1834 - mse: 0.1834 - 7ms/epoch - 7ms/step\n",
      "Epoch 52/500\n",
      "1/1 - 0s - loss: 0.1802 - mse: 0.1802 - 8ms/epoch - 8ms/step\n",
      "Epoch 53/500\n",
      "1/1 - 0s - loss: 0.1771 - mse: 0.1771 - 5ms/epoch - 5ms/step\n",
      "Epoch 54/500\n",
      "1/1 - 0s - loss: 0.1741 - mse: 0.1741 - 4ms/epoch - 4ms/step\n",
      "Epoch 55/500\n",
      "1/1 - 0s - loss: 0.1712 - mse: 0.1712 - 5ms/epoch - 5ms/step\n",
      "Epoch 56/500\n",
      "1/1 - 0s - loss: 0.1684 - mse: 0.1684 - 5ms/epoch - 5ms/step\n",
      "Epoch 57/500\n",
      "1/1 - 0s - loss: 0.1656 - mse: 0.1656 - 5ms/epoch - 5ms/step\n",
      "Epoch 58/500\n",
      "1/1 - 0s - loss: 0.1630 - mse: 0.1630 - 6ms/epoch - 6ms/step\n",
      "Epoch 59/500\n",
      "1/1 - 0s - loss: 0.1603 - mse: 0.1603 - 6ms/epoch - 6ms/step\n",
      "Epoch 60/500\n",
      "1/1 - 0s - loss: 0.1578 - mse: 0.1578 - 5ms/epoch - 5ms/step\n",
      "Epoch 61/500\n",
      "1/1 - 0s - loss: 0.1553 - mse: 0.1553 - 6ms/epoch - 6ms/step\n",
      "Epoch 62/500\n",
      "1/1 - 0s - loss: 0.1529 - mse: 0.1529 - 5ms/epoch - 5ms/step\n",
      "Epoch 63/500\n",
      "1/1 - 0s - loss: 0.1506 - mse: 0.1506 - 11ms/epoch - 11ms/step\n",
      "Epoch 64/500\n",
      "1/1 - 0s - loss: 0.1483 - mse: 0.1483 - 9ms/epoch - 9ms/step\n",
      "Epoch 65/500\n",
      "1/1 - 0s - loss: 0.1461 - mse: 0.1461 - 5ms/epoch - 5ms/step\n",
      "Epoch 66/500\n",
      "1/1 - 0s - loss: 0.1439 - mse: 0.1439 - 5ms/epoch - 5ms/step\n",
      "Epoch 67/500\n",
      "1/1 - 0s - loss: 0.1418 - mse: 0.1418 - 6ms/epoch - 6ms/step\n",
      "Epoch 68/500\n",
      "1/1 - 0s - loss: 0.1397 - mse: 0.1397 - 5ms/epoch - 5ms/step\n",
      "Epoch 69/500\n",
      "1/1 - 0s - loss: 0.1377 - mse: 0.1377 - 5ms/epoch - 5ms/step\n",
      "Epoch 70/500\n",
      "1/1 - 0s - loss: 0.1358 - mse: 0.1358 - 4ms/epoch - 4ms/step\n",
      "Epoch 71/500\n",
      "1/1 - 0s - loss: 0.1338 - mse: 0.1338 - 5ms/epoch - 5ms/step\n",
      "Epoch 72/500\n",
      "1/1 - 0s - loss: 0.1320 - mse: 0.1320 - 5ms/epoch - 5ms/step\n",
      "Epoch 73/500\n",
      "1/1 - 0s - loss: 0.1301 - mse: 0.1301 - 6ms/epoch - 6ms/step\n",
      "Epoch 74/500\n",
      "1/1 - 0s - loss: 0.1284 - mse: 0.1284 - 5ms/epoch - 5ms/step\n",
      "Epoch 75/500\n",
      "1/1 - 0s - loss: 0.1266 - mse: 0.1266 - 7ms/epoch - 7ms/step\n",
      "Epoch 76/500\n",
      "1/1 - 0s - loss: 0.1249 - mse: 0.1249 - 6ms/epoch - 6ms/step\n",
      "Epoch 77/500\n",
      "1/1 - 0s - loss: 0.1233 - mse: 0.1233 - 6ms/epoch - 6ms/step\n",
      "Epoch 78/500\n",
      "1/1 - 0s - loss: 0.1216 - mse: 0.1216 - 5ms/epoch - 5ms/step\n",
      "Epoch 79/500\n",
      "1/1 - 0s - loss: 0.1200 - mse: 0.1200 - 5ms/epoch - 5ms/step\n",
      "Epoch 80/500\n",
      "1/1 - 0s - loss: 0.1185 - mse: 0.1185 - 6ms/epoch - 6ms/step\n",
      "Epoch 81/500\n",
      "1/1 - 0s - loss: 0.1170 - mse: 0.1170 - 5ms/epoch - 5ms/step\n",
      "Epoch 82/500\n",
      "1/1 - 0s - loss: 0.1155 - mse: 0.1155 - 5ms/epoch - 5ms/step\n",
      "Epoch 83/500\n",
      "1/1 - 0s - loss: 0.1140 - mse: 0.1140 - 5ms/epoch - 5ms/step\n",
      "Epoch 84/500\n",
      "1/1 - 0s - loss: 0.1126 - mse: 0.1126 - 5ms/epoch - 5ms/step\n",
      "Epoch 85/500\n",
      "1/1 - 0s - loss: 0.1112 - mse: 0.1112 - 5ms/epoch - 5ms/step\n",
      "Epoch 86/500\n",
      "1/1 - 0s - loss: 0.1099 - mse: 0.1099 - 5ms/epoch - 5ms/step\n",
      "Epoch 87/500\n",
      "1/1 - 0s - loss: 0.1085 - mse: 0.1085 - 5ms/epoch - 5ms/step\n",
      "Epoch 88/500\n",
      "1/1 - 0s - loss: 0.1072 - mse: 0.1072 - 5ms/epoch - 5ms/step\n",
      "Epoch 89/500\n",
      "1/1 - 0s - loss: 0.1059 - mse: 0.1059 - 4ms/epoch - 4ms/step\n",
      "Epoch 90/500\n",
      "1/1 - 0s - loss: 0.1047 - mse: 0.1047 - 5ms/epoch - 5ms/step\n",
      "Epoch 91/500\n",
      "1/1 - 0s - loss: 0.1035 - mse: 0.1035 - 4ms/epoch - 4ms/step\n",
      "Epoch 92/500\n",
      "1/1 - 0s - loss: 0.1023 - mse: 0.1023 - 5ms/epoch - 5ms/step\n",
      "Epoch 93/500\n",
      "1/1 - 0s - loss: 0.1011 - mse: 0.1011 - 5ms/epoch - 5ms/step\n",
      "Epoch 94/500\n",
      "1/1 - 0s - loss: 0.0999 - mse: 0.0999 - 4ms/epoch - 4ms/step\n",
      "Epoch 95/500\n",
      "1/1 - 0s - loss: 0.0988 - mse: 0.0988 - 5ms/epoch - 5ms/step\n",
      "Epoch 96/500\n",
      "1/1 - 0s - loss: 0.0977 - mse: 0.0977 - 5ms/epoch - 5ms/step\n",
      "Epoch 97/500\n",
      "1/1 - 0s - loss: 0.0966 - mse: 0.0966 - 4ms/epoch - 4ms/step\n",
      "Epoch 98/500\n",
      "1/1 - 0s - loss: 0.0955 - mse: 0.0955 - 6ms/epoch - 6ms/step\n",
      "Epoch 99/500\n",
      "1/1 - 0s - loss: 0.0945 - mse: 0.0945 - 5ms/epoch - 5ms/step\n",
      "Epoch 100/500\n",
      "1/1 - 0s - loss: 0.0935 - mse: 0.0935 - 5ms/epoch - 5ms/step\n",
      "Epoch 101/500\n",
      "1/1 - 0s - loss: 0.0925 - mse: 0.0925 - 5ms/epoch - 5ms/step\n",
      "Epoch 102/500\n",
      "1/1 - 0s - loss: 0.0915 - mse: 0.0915 - 7ms/epoch - 7ms/step\n",
      "Epoch 103/500\n",
      "1/1 - 0s - loss: 0.0905 - mse: 0.0905 - 4ms/epoch - 4ms/step\n",
      "Epoch 104/500\n",
      "1/1 - 0s - loss: 0.0896 - mse: 0.0896 - 5ms/epoch - 5ms/step\n",
      "Epoch 105/500\n",
      "1/1 - 0s - loss: 0.0886 - mse: 0.0886 - 6ms/epoch - 6ms/step\n",
      "Epoch 106/500\n",
      "1/1 - 0s - loss: 0.0877 - mse: 0.0877 - 5ms/epoch - 5ms/step\n",
      "Epoch 107/500\n",
      "1/1 - 0s - loss: 0.0868 - mse: 0.0868 - 5ms/epoch - 5ms/step\n",
      "Epoch 108/500\n",
      "1/1 - 0s - loss: 0.0859 - mse: 0.0859 - 4ms/epoch - 4ms/step\n",
      "Epoch 109/500\n",
      "1/1 - 0s - loss: 0.0851 - mse: 0.0851 - 5ms/epoch - 5ms/step\n",
      "Epoch 110/500\n",
      "1/1 - 0s - loss: 0.0842 - mse: 0.0842 - 4ms/epoch - 4ms/step\n",
      "Epoch 111/500\n",
      "1/1 - 0s - loss: 0.0834 - mse: 0.0834 - 6ms/epoch - 6ms/step\n",
      "Epoch 112/500\n",
      "1/1 - 0s - loss: 0.0825 - mse: 0.0825 - 4ms/epoch - 4ms/step\n",
      "Epoch 113/500\n",
      "1/1 - 0s - loss: 0.0817 - mse: 0.0817 - 6ms/epoch - 6ms/step\n",
      "Epoch 114/500\n",
      "1/1 - 0s - loss: 0.0809 - mse: 0.0809 - 5ms/epoch - 5ms/step\n",
      "Epoch 115/500\n",
      "1/1 - 0s - loss: 0.0802 - mse: 0.0802 - 5ms/epoch - 5ms/step\n",
      "Epoch 116/500\n",
      "1/1 - 0s - loss: 0.0794 - mse: 0.0794 - 5ms/epoch - 5ms/step\n",
      "Epoch 117/500\n",
      "1/1 - 0s - loss: 0.0786 - mse: 0.0786 - 5ms/epoch - 5ms/step\n",
      "Epoch 118/500\n",
      "1/1 - 0s - loss: 0.0779 - mse: 0.0779 - 4ms/epoch - 4ms/step\n",
      "Epoch 119/500\n",
      "1/1 - 0s - loss: 0.0772 - mse: 0.0772 - 6ms/epoch - 6ms/step\n",
      "Epoch 120/500\n",
      "1/1 - 0s - loss: 0.0765 - mse: 0.0765 - 5ms/epoch - 5ms/step\n",
      "Epoch 121/500\n",
      "1/1 - 0s - loss: 0.0758 - mse: 0.0758 - 6ms/epoch - 6ms/step\n",
      "Epoch 122/500\n",
      "1/1 - 0s - loss: 0.0751 - mse: 0.0751 - 6ms/epoch - 6ms/step\n",
      "Epoch 123/500\n",
      "1/1 - 0s - loss: 0.0744 - mse: 0.0744 - 5ms/epoch - 5ms/step\n",
      "Epoch 124/500\n",
      "1/1 - 0s - loss: 0.0737 - mse: 0.0737 - 5ms/epoch - 5ms/step\n",
      "Epoch 125/500\n",
      "1/1 - 0s - loss: 0.0730 - mse: 0.0730 - 5ms/epoch - 5ms/step\n",
      "Epoch 126/500\n",
      "1/1 - 0s - loss: 0.0724 - mse: 0.0724 - 5ms/epoch - 5ms/step\n",
      "Epoch 127/500\n",
      "1/1 - 0s - loss: 0.0718 - mse: 0.0718 - 5ms/epoch - 5ms/step\n",
      "Epoch 128/500\n",
      "1/1 - 0s - loss: 0.0711 - mse: 0.0711 - 5ms/epoch - 5ms/step\n",
      "Epoch 129/500\n",
      "1/1 - 0s - loss: 0.0705 - mse: 0.0705 - 6ms/epoch - 6ms/step\n",
      "Epoch 130/500\n",
      "1/1 - 0s - loss: 0.0699 - mse: 0.0699 - 5ms/epoch - 5ms/step\n",
      "Epoch 131/500\n",
      "1/1 - 0s - loss: 0.0693 - mse: 0.0693 - 5ms/epoch - 5ms/step\n",
      "Epoch 132/500\n",
      "1/1 - 0s - loss: 0.0687 - mse: 0.0687 - 6ms/epoch - 6ms/step\n",
      "Epoch 133/500\n",
      "1/1 - 0s - loss: 0.0681 - mse: 0.0681 - 6ms/epoch - 6ms/step\n",
      "Epoch 134/500\n",
      "1/1 - 0s - loss: 0.0676 - mse: 0.0676 - 6ms/epoch - 6ms/step\n",
      "Epoch 135/500\n",
      "1/1 - 0s - loss: 0.0670 - mse: 0.0670 - 5ms/epoch - 5ms/step\n",
      "Epoch 136/500\n",
      "1/1 - 0s - loss: 0.0664 - mse: 0.0664 - 5ms/epoch - 5ms/step\n",
      "Epoch 137/500\n",
      "1/1 - 0s - loss: 0.0659 - mse: 0.0659 - 5ms/epoch - 5ms/step\n",
      "Epoch 138/500\n",
      "1/1 - 0s - loss: 0.0653 - mse: 0.0653 - 5ms/epoch - 5ms/step\n",
      "Epoch 139/500\n",
      "1/1 - 0s - loss: 0.0648 - mse: 0.0648 - 6ms/epoch - 6ms/step\n",
      "Epoch 140/500\n",
      "1/1 - 0s - loss: 0.0643 - mse: 0.0643 - 5ms/epoch - 5ms/step\n",
      "Epoch 141/500\n",
      "1/1 - 0s - loss: 0.0638 - mse: 0.0638 - 5ms/epoch - 5ms/step\n",
      "Epoch 142/500\n",
      "1/1 - 0s - loss: 0.0633 - mse: 0.0633 - 5ms/epoch - 5ms/step\n",
      "Epoch 143/500\n",
      "1/1 - 0s - loss: 0.0628 - mse: 0.0628 - 6ms/epoch - 6ms/step\n",
      "Epoch 144/500\n",
      "1/1 - 0s - loss: 0.0623 - mse: 0.0623 - 5ms/epoch - 5ms/step\n",
      "Epoch 145/500\n",
      "1/1 - 0s - loss: 0.0618 - mse: 0.0618 - 4ms/epoch - 4ms/step\n",
      "Epoch 146/500\n",
      "1/1 - 0s - loss: 0.0613 - mse: 0.0613 - 5ms/epoch - 5ms/step\n",
      "Epoch 147/500\n",
      "1/1 - 0s - loss: 0.0608 - mse: 0.0608 - 7ms/epoch - 7ms/step\n",
      "Epoch 148/500\n",
      "1/1 - 0s - loss: 0.0604 - mse: 0.0604 - 5ms/epoch - 5ms/step\n",
      "Epoch 149/500\n",
      "1/1 - 0s - loss: 0.0599 - mse: 0.0599 - 5ms/epoch - 5ms/step\n",
      "Epoch 150/500\n",
      "1/1 - 0s - loss: 0.0594 - mse: 0.0594 - 4ms/epoch - 4ms/step\n",
      "Epoch 151/500\n",
      "1/1 - 0s - loss: 0.0590 - mse: 0.0590 - 4ms/epoch - 4ms/step\n",
      "Epoch 152/500\n",
      "1/1 - 0s - loss: 0.0586 - mse: 0.0586 - 4ms/epoch - 4ms/step\n",
      "Epoch 153/500\n",
      "1/1 - 0s - loss: 0.0581 - mse: 0.0581 - 5ms/epoch - 5ms/step\n",
      "Epoch 154/500\n",
      "1/1 - 0s - loss: 0.0577 - mse: 0.0577 - 4ms/epoch - 4ms/step\n",
      "Epoch 155/500\n",
      "1/1 - 0s - loss: 0.0573 - mse: 0.0573 - 5ms/epoch - 5ms/step\n",
      "Epoch 156/500\n",
      "1/1 - 0s - loss: 0.0568 - mse: 0.0568 - 5ms/epoch - 5ms/step\n",
      "Epoch 157/500\n",
      "1/1 - 0s - loss: 0.0564 - mse: 0.0564 - 5ms/epoch - 5ms/step\n",
      "Epoch 158/500\n",
      "1/1 - 0s - loss: 0.0560 - mse: 0.0560 - 6ms/epoch - 6ms/step\n",
      "Epoch 159/500\n",
      "1/1 - 0s - loss: 0.0556 - mse: 0.0556 - 5ms/epoch - 5ms/step\n",
      "Epoch 160/500\n",
      "1/1 - 0s - loss: 0.0552 - mse: 0.0552 - 5ms/epoch - 5ms/step\n",
      "Epoch 161/500\n",
      "1/1 - 0s - loss: 0.0548 - mse: 0.0548 - 4ms/epoch - 4ms/step\n",
      "Epoch 162/500\n",
      "1/1 - 0s - loss: 0.0544 - mse: 0.0544 - 5ms/epoch - 5ms/step\n",
      "Epoch 163/500\n",
      "1/1 - 0s - loss: 0.0541 - mse: 0.0541 - 5ms/epoch - 5ms/step\n",
      "Epoch 164/500\n",
      "1/1 - 0s - loss: 0.0537 - mse: 0.0537 - 5ms/epoch - 5ms/step\n",
      "Epoch 165/500\n",
      "1/1 - 0s - loss: 0.0533 - mse: 0.0533 - 6ms/epoch - 6ms/step\n",
      "Epoch 166/500\n",
      "1/1 - 0s - loss: 0.0529 - mse: 0.0529 - 5ms/epoch - 5ms/step\n",
      "Epoch 167/500\n",
      "1/1 - 0s - loss: 0.0526 - mse: 0.0526 - 6ms/epoch - 6ms/step\n",
      "Epoch 168/500\n",
      "1/1 - 0s - loss: 0.0522 - mse: 0.0522 - 5ms/epoch - 5ms/step\n",
      "Epoch 169/500\n",
      "1/1 - 0s - loss: 0.0519 - mse: 0.0519 - 5ms/epoch - 5ms/step\n",
      "Epoch 170/500\n",
      "1/1 - 0s - loss: 0.0515 - mse: 0.0515 - 5ms/epoch - 5ms/step\n",
      "Epoch 171/500\n",
      "1/1 - 0s - loss: 0.0512 - mse: 0.0512 - 5ms/epoch - 5ms/step\n",
      "Epoch 172/500\n",
      "1/1 - 0s - loss: 0.0508 - mse: 0.0508 - 5ms/epoch - 5ms/step\n",
      "Epoch 173/500\n",
      "1/1 - 0s - loss: 0.0505 - mse: 0.0505 - 5ms/epoch - 5ms/step\n",
      "Epoch 174/500\n",
      "1/1 - 0s - loss: 0.0502 - mse: 0.0502 - 5ms/epoch - 5ms/step\n",
      "Epoch 175/500\n",
      "1/1 - 0s - loss: 0.0498 - mse: 0.0498 - 4ms/epoch - 4ms/step\n",
      "Epoch 176/500\n",
      "1/1 - 0s - loss: 0.0495 - mse: 0.0495 - 5ms/epoch - 5ms/step\n",
      "Epoch 177/500\n",
      "1/1 - 0s - loss: 0.0492 - mse: 0.0492 - 4ms/epoch - 4ms/step\n",
      "Epoch 178/500\n",
      "1/1 - 0s - loss: 0.0489 - mse: 0.0489 - 4ms/epoch - 4ms/step\n",
      "Epoch 179/500\n",
      "1/1 - 0s - loss: 0.0486 - mse: 0.0486 - 5ms/epoch - 5ms/step\n",
      "Epoch 180/500\n",
      "1/1 - 0s - loss: 0.0483 - mse: 0.0483 - 4ms/epoch - 4ms/step\n",
      "Epoch 181/500\n",
      "1/1 - 0s - loss: 0.0479 - mse: 0.0479 - 6ms/epoch - 6ms/step\n",
      "Epoch 182/500\n",
      "1/1 - 0s - loss: 0.0476 - mse: 0.0476 - 5ms/epoch - 5ms/step\n",
      "Epoch 183/500\n",
      "1/1 - 0s - loss: 0.0473 - mse: 0.0473 - 5ms/epoch - 5ms/step\n",
      "Epoch 184/500\n",
      "1/1 - 0s - loss: 0.0470 - mse: 0.0470 - 5ms/epoch - 5ms/step\n",
      "Epoch 185/500\n",
      "1/1 - 0s - loss: 0.0468 - mse: 0.0468 - 5ms/epoch - 5ms/step\n",
      "Epoch 186/500\n",
      "1/1 - 0s - loss: 0.0465 - mse: 0.0465 - 6ms/epoch - 6ms/step\n",
      "Epoch 187/500\n",
      "1/1 - 0s - loss: 0.0462 - mse: 0.0462 - 5ms/epoch - 5ms/step\n",
      "Epoch 188/500\n",
      "1/1 - 0s - loss: 0.0459 - mse: 0.0459 - 5ms/epoch - 5ms/step\n",
      "Epoch 189/500\n",
      "1/1 - 0s - loss: 0.0456 - mse: 0.0456 - 5ms/epoch - 5ms/step\n",
      "Epoch 190/500\n",
      "1/1 - 0s - loss: 0.0453 - mse: 0.0453 - 5ms/epoch - 5ms/step\n",
      "Epoch 191/500\n",
      "1/1 - 0s - loss: 0.0451 - mse: 0.0451 - 5ms/epoch - 5ms/step\n",
      "Epoch 192/500\n",
      "1/1 - 0s - loss: 0.0448 - mse: 0.0448 - 5ms/epoch - 5ms/step\n",
      "Epoch 193/500\n",
      "1/1 - 0s - loss: 0.0445 - mse: 0.0445 - 6ms/epoch - 6ms/step\n",
      "Epoch 194/500\n",
      "1/1 - 0s - loss: 0.0443 - mse: 0.0443 - 4ms/epoch - 4ms/step\n",
      "Epoch 195/500\n",
      "1/1 - 0s - loss: 0.0440 - mse: 0.0440 - 5ms/epoch - 5ms/step\n",
      "Epoch 196/500\n",
      "1/1 - 0s - loss: 0.0437 - mse: 0.0437 - 5ms/epoch - 5ms/step\n",
      "Epoch 197/500\n",
      "1/1 - 0s - loss: 0.0435 - mse: 0.0435 - 5ms/epoch - 5ms/step\n",
      "Epoch 198/500\n",
      "1/1 - 0s - loss: 0.0432 - mse: 0.0432 - 4ms/epoch - 4ms/step\n",
      "Epoch 199/500\n",
      "1/1 - 0s - loss: 0.0430 - mse: 0.0430 - 6ms/epoch - 6ms/step\n",
      "Epoch 200/500\n",
      "1/1 - 0s - loss: 0.0427 - mse: 0.0427 - 5ms/epoch - 5ms/step\n",
      "Epoch 201/500\n",
      "1/1 - 0s - loss: 0.0425 - mse: 0.0425 - 4ms/epoch - 4ms/step\n",
      "Epoch 202/500\n",
      "1/1 - 0s - loss: 0.0423 - mse: 0.0423 - 5ms/epoch - 5ms/step\n",
      "Epoch 203/500\n",
      "1/1 - 0s - loss: 0.0420 - mse: 0.0420 - 7ms/epoch - 7ms/step\n",
      "Epoch 204/500\n",
      "1/1 - 0s - loss: 0.0418 - mse: 0.0418 - 5ms/epoch - 5ms/step\n",
      "Epoch 205/500\n",
      "1/1 - 0s - loss: 0.0415 - mse: 0.0415 - 5ms/epoch - 5ms/step\n",
      "Epoch 206/500\n",
      "1/1 - 0s - loss: 0.0413 - mse: 0.0413 - 6ms/epoch - 6ms/step\n",
      "Epoch 207/500\n",
      "1/1 - 0s - loss: 0.0411 - mse: 0.0411 - 5ms/epoch - 5ms/step\n",
      "Epoch 208/500\n",
      "1/1 - 0s - loss: 0.0409 - mse: 0.0409 - 5ms/epoch - 5ms/step\n",
      "Epoch 209/500\n",
      "1/1 - 0s - loss: 0.0406 - mse: 0.0406 - 5ms/epoch - 5ms/step\n",
      "Epoch 210/500\n",
      "1/1 - 0s - loss: 0.0404 - mse: 0.0404 - 6ms/epoch - 6ms/step\n",
      "Epoch 211/500\n",
      "1/1 - 0s - loss: 0.0402 - mse: 0.0402 - 4ms/epoch - 4ms/step\n",
      "Epoch 212/500\n",
      "1/1 - 0s - loss: 0.0400 - mse: 0.0400 - 5ms/epoch - 5ms/step\n",
      "Epoch 213/500\n",
      "1/1 - 0s - loss: 0.0397 - mse: 0.0397 - 4ms/epoch - 4ms/step\n",
      "Epoch 214/500\n",
      "1/1 - 0s - loss: 0.0395 - mse: 0.0395 - 5ms/epoch - 5ms/step\n",
      "Epoch 215/500\n",
      "1/1 - 0s - loss: 0.0393 - mse: 0.0393 - 5ms/epoch - 5ms/step\n",
      "Epoch 216/500\n",
      "1/1 - 0s - loss: 0.0391 - mse: 0.0391 - 6ms/epoch - 6ms/step\n",
      "Epoch 217/500\n",
      "1/1 - 0s - loss: 0.0389 - mse: 0.0389 - 5ms/epoch - 5ms/step\n",
      "Epoch 218/500\n",
      "1/1 - 0s - loss: 0.0387 - mse: 0.0387 - 6ms/epoch - 6ms/step\n",
      "Epoch 219/500\n",
      "1/1 - 0s - loss: 0.0385 - mse: 0.0385 - 6ms/epoch - 6ms/step\n",
      "Epoch 220/500\n",
      "1/1 - 0s - loss: 0.0383 - mse: 0.0383 - 6ms/epoch - 6ms/step\n",
      "Epoch 221/500\n",
      "1/1 - 0s - loss: 0.0381 - mse: 0.0381 - 5ms/epoch - 5ms/step\n",
      "Epoch 222/500\n",
      "1/1 - 0s - loss: 0.0379 - mse: 0.0379 - 5ms/epoch - 5ms/step\n",
      "Epoch 223/500\n",
      "1/1 - 0s - loss: 0.0377 - mse: 0.0377 - 5ms/epoch - 5ms/step\n",
      "Epoch 224/500\n",
      "1/1 - 0s - loss: 0.0375 - mse: 0.0375 - 4ms/epoch - 4ms/step\n",
      "Epoch 225/500\n",
      "1/1 - 0s - loss: 0.0373 - mse: 0.0373 - 5ms/epoch - 5ms/step\n",
      "Epoch 226/500\n",
      "1/1 - 0s - loss: 0.0371 - mse: 0.0371 - 6ms/epoch - 6ms/step\n",
      "Epoch 227/500\n",
      "1/1 - 0s - loss: 0.0369 - mse: 0.0369 - 5ms/epoch - 5ms/step\n",
      "Epoch 228/500\n",
      "1/1 - 0s - loss: 0.0367 - mse: 0.0367 - 5ms/epoch - 5ms/step\n",
      "Epoch 229/500\n",
      "1/1 - 0s - loss: 0.0366 - mse: 0.0366 - 5ms/epoch - 5ms/step\n",
      "Epoch 230/500\n",
      "1/1 - 0s - loss: 0.0364 - mse: 0.0364 - 6ms/epoch - 6ms/step\n",
      "Epoch 231/500\n",
      "1/1 - 0s - loss: 0.0362 - mse: 0.0362 - 5ms/epoch - 5ms/step\n",
      "Epoch 232/500\n",
      "1/1 - 0s - loss: 0.0360 - mse: 0.0360 - 5ms/epoch - 5ms/step\n",
      "Epoch 233/500\n",
      "1/1 - 0s - loss: 0.0358 - mse: 0.0358 - 5ms/epoch - 5ms/step\n",
      "Epoch 234/500\n",
      "1/1 - 0s - loss: 0.0357 - mse: 0.0357 - 5ms/epoch - 5ms/step\n",
      "Epoch 235/500\n",
      "1/1 - 0s - loss: 0.0355 - mse: 0.0355 - 5ms/epoch - 5ms/step\n",
      "Epoch 236/500\n",
      "1/1 - 0s - loss: 0.0353 - mse: 0.0353 - 5ms/epoch - 5ms/step\n",
      "Epoch 237/500\n",
      "1/1 - 0s - loss: 0.0351 - mse: 0.0351 - 6ms/epoch - 6ms/step\n",
      "Epoch 238/500\n",
      "1/1 - 0s - loss: 0.0350 - mse: 0.0350 - 5ms/epoch - 5ms/step\n",
      "Epoch 239/500\n",
      "1/1 - 0s - loss: 0.0348 - mse: 0.0348 - 5ms/epoch - 5ms/step\n",
      "Epoch 240/500\n",
      "1/1 - 0s - loss: 0.0346 - mse: 0.0346 - 5ms/epoch - 5ms/step\n",
      "Epoch 241/500\n",
      "1/1 - 0s - loss: 0.0345 - mse: 0.0345 - 5ms/epoch - 5ms/step\n",
      "Epoch 242/500\n",
      "1/1 - 0s - loss: 0.0343 - mse: 0.0343 - 5ms/epoch - 5ms/step\n",
      "Epoch 243/500\n",
      "1/1 - 0s - loss: 0.0341 - mse: 0.0341 - 5ms/epoch - 5ms/step\n",
      "Epoch 244/500\n",
      "1/1 - 0s - loss: 0.0340 - mse: 0.0340 - 7ms/epoch - 7ms/step\n",
      "Epoch 245/500\n",
      "1/1 - 0s - loss: 0.0338 - mse: 0.0338 - 5ms/epoch - 5ms/step\n",
      "Epoch 246/500\n",
      "1/1 - 0s - loss: 0.0337 - mse: 0.0337 - 5ms/epoch - 5ms/step\n",
      "Epoch 247/500\n",
      "1/1 - 0s - loss: 0.0335 - mse: 0.0335 - 5ms/epoch - 5ms/step\n",
      "Epoch 248/500\n",
      "1/1 - 0s - loss: 0.0333 - mse: 0.0333 - 4ms/epoch - 4ms/step\n",
      "Epoch 249/500\n",
      "1/1 - 0s - loss: 0.0332 - mse: 0.0332 - 6ms/epoch - 6ms/step\n",
      "Epoch 250/500\n",
      "1/1 - 0s - loss: 0.0330 - mse: 0.0330 - 6ms/epoch - 6ms/step\n",
      "Epoch 251/500\n",
      "1/1 - 0s - loss: 0.0329 - mse: 0.0329 - 5ms/epoch - 5ms/step\n",
      "Epoch 252/500\n",
      "1/1 - 0s - loss: 0.0327 - mse: 0.0327 - 4ms/epoch - 4ms/step\n",
      "Epoch 253/500\n",
      "1/1 - 0s - loss: 0.0326 - mse: 0.0326 - 5ms/epoch - 5ms/step\n",
      "Epoch 254/500\n",
      "1/1 - 0s - loss: 0.0324 - mse: 0.0324 - 5ms/epoch - 5ms/step\n",
      "Epoch 255/500\n",
      "1/1 - 0s - loss: 0.0323 - mse: 0.0323 - 5ms/epoch - 5ms/step\n",
      "Epoch 256/500\n",
      "1/1 - 0s - loss: 0.0321 - mse: 0.0321 - 6ms/epoch - 6ms/step\n",
      "Epoch 257/500\n",
      "1/1 - 0s - loss: 0.0320 - mse: 0.0320 - 6ms/epoch - 6ms/step\n",
      "Epoch 258/500\n",
      "1/1 - 0s - loss: 0.0319 - mse: 0.0319 - 5ms/epoch - 5ms/step\n",
      "Epoch 259/500\n",
      "1/1 - 0s - loss: 0.0317 - mse: 0.0317 - 5ms/epoch - 5ms/step\n",
      "Epoch 260/500\n",
      "1/1 - 0s - loss: 0.0316 - mse: 0.0316 - 4ms/epoch - 4ms/step\n",
      "Epoch 261/500\n",
      "1/1 - 0s - loss: 0.0314 - mse: 0.0314 - 6ms/epoch - 6ms/step\n",
      "Epoch 262/500\n",
      "1/1 - 0s - loss: 0.0313 - mse: 0.0313 - 5ms/epoch - 5ms/step\n",
      "Epoch 263/500\n",
      "1/1 - 0s - loss: 0.0312 - mse: 0.0312 - 5ms/epoch - 5ms/step\n",
      "Epoch 264/500\n",
      "1/1 - 0s - loss: 0.0310 - mse: 0.0310 - 4ms/epoch - 4ms/step\n",
      "Epoch 265/500\n",
      "1/1 - 0s - loss: 0.0309 - mse: 0.0309 - 5ms/epoch - 5ms/step\n",
      "Epoch 266/500\n",
      "1/1 - 0s - loss: 0.0308 - mse: 0.0308 - 6ms/epoch - 6ms/step\n",
      "Epoch 267/500\n",
      "1/1 - 0s - loss: 0.0306 - mse: 0.0306 - 4ms/epoch - 4ms/step\n",
      "Epoch 268/500\n",
      "1/1 - 0s - loss: 0.0305 - mse: 0.0305 - 5ms/epoch - 5ms/step\n",
      "Epoch 269/500\n",
      "1/1 - 0s - loss: 0.0304 - mse: 0.0304 - 5ms/epoch - 5ms/step\n",
      "Epoch 270/500\n",
      "1/1 - 0s - loss: 0.0302 - mse: 0.0302 - 5ms/epoch - 5ms/step\n",
      "Epoch 271/500\n",
      "1/1 - 0s - loss: 0.0301 - mse: 0.0301 - 5ms/epoch - 5ms/step\n",
      "Epoch 272/500\n",
      "1/1 - 0s - loss: 0.0300 - mse: 0.0300 - 6ms/epoch - 6ms/step\n",
      "Epoch 273/500\n",
      "1/1 - 0s - loss: 0.0299 - mse: 0.0299 - 6ms/epoch - 6ms/step\n",
      "Epoch 274/500\n",
      "1/1 - 0s - loss: 0.0297 - mse: 0.0297 - 6ms/epoch - 6ms/step\n",
      "Epoch 275/500\n",
      "1/1 - 0s - loss: 0.0296 - mse: 0.0296 - 5ms/epoch - 5ms/step\n",
      "Epoch 276/500\n",
      "1/1 - 0s - loss: 0.0295 - mse: 0.0295 - 5ms/epoch - 5ms/step\n",
      "Epoch 277/500\n",
      "1/1 - 0s - loss: 0.0294 - mse: 0.0294 - 5ms/epoch - 5ms/step\n",
      "Epoch 278/500\n",
      "1/1 - 0s - loss: 0.0292 - mse: 0.0292 - 6ms/epoch - 6ms/step\n",
      "Epoch 279/500\n",
      "1/1 - 0s - loss: 0.0291 - mse: 0.0291 - 7ms/epoch - 7ms/step\n",
      "Epoch 280/500\n",
      "1/1 - 0s - loss: 0.0290 - mse: 0.0290 - 5ms/epoch - 5ms/step\n",
      "Epoch 281/500\n",
      "1/1 - 0s - loss: 0.0289 - mse: 0.0289 - 5ms/epoch - 5ms/step\n",
      "Epoch 282/500\n",
      "1/1 - 0s - loss: 0.0288 - mse: 0.0288 - 21ms/epoch - 21ms/step\n",
      "Epoch 283/500\n",
      "1/1 - 0s - loss: 0.0286 - mse: 0.0286 - 11ms/epoch - 11ms/step\n",
      "Epoch 284/500\n",
      "1/1 - 0s - loss: 0.0285 - mse: 0.0285 - 4ms/epoch - 4ms/step\n",
      "Epoch 285/500\n",
      "1/1 - 0s - loss: 0.0284 - mse: 0.0284 - 4ms/epoch - 4ms/step\n",
      "Epoch 286/500\n",
      "1/1 - 0s - loss: 0.0283 - mse: 0.0283 - 5ms/epoch - 5ms/step\n",
      "Epoch 287/500\n",
      "1/1 - 0s - loss: 0.0282 - mse: 0.0282 - 5ms/epoch - 5ms/step\n",
      "Epoch 288/500\n",
      "1/1 - 0s - loss: 0.0281 - mse: 0.0281 - 5ms/epoch - 5ms/step\n",
      "Epoch 289/500\n",
      "1/1 - 0s - loss: 0.0280 - mse: 0.0280 - 4ms/epoch - 4ms/step\n",
      "Epoch 290/500\n",
      "1/1 - 0s - loss: 0.0278 - mse: 0.0278 - 4ms/epoch - 4ms/step\n",
      "Epoch 291/500\n",
      "1/1 - 0s - loss: 0.0277 - mse: 0.0277 - 5ms/epoch - 5ms/step\n",
      "Epoch 292/500\n",
      "1/1 - 0s - loss: 0.0276 - mse: 0.0276 - 5ms/epoch - 5ms/step\n",
      "Epoch 293/500\n",
      "1/1 - 0s - loss: 0.0275 - mse: 0.0275 - 4ms/epoch - 4ms/step\n",
      "Epoch 294/500\n",
      "1/1 - 0s - loss: 0.0274 - mse: 0.0274 - 5ms/epoch - 5ms/step\n",
      "Epoch 295/500\n",
      "1/1 - 0s - loss: 0.0273 - mse: 0.0273 - 5ms/epoch - 5ms/step\n",
      "Epoch 296/500\n",
      "1/1 - 0s - loss: 0.0272 - mse: 0.0272 - 5ms/epoch - 5ms/step\n",
      "Epoch 297/500\n",
      "1/1 - 0s - loss: 0.0271 - mse: 0.0271 - 5ms/epoch - 5ms/step\n",
      "Epoch 298/500\n",
      "1/1 - 0s - loss: 0.0270 - mse: 0.0270 - 4ms/epoch - 4ms/step\n",
      "Epoch 299/500\n",
      "1/1 - 0s - loss: 0.0269 - mse: 0.0269 - 4ms/epoch - 4ms/step\n",
      "Epoch 300/500\n",
      "1/1 - 0s - loss: 0.0268 - mse: 0.0268 - 5ms/epoch - 5ms/step\n",
      "Epoch 301/500\n",
      "1/1 - 0s - loss: 0.0267 - mse: 0.0267 - 5ms/epoch - 5ms/step\n",
      "Epoch 302/500\n",
      "1/1 - 0s - loss: 0.0266 - mse: 0.0266 - 4ms/epoch - 4ms/step\n",
      "Epoch 303/500\n",
      "1/1 - 0s - loss: 0.0265 - mse: 0.0265 - 5ms/epoch - 5ms/step\n",
      "Epoch 304/500\n",
      "1/1 - 0s - loss: 0.0264 - mse: 0.0264 - 7ms/epoch - 7ms/step\n",
      "Epoch 305/500\n",
      "1/1 - 0s - loss: 0.0263 - mse: 0.0263 - 4ms/epoch - 4ms/step\n",
      "Epoch 306/500\n",
      "1/1 - 0s - loss: 0.0262 - mse: 0.0262 - 5ms/epoch - 5ms/step\n",
      "Epoch 307/500\n",
      "1/1 - 0s - loss: 0.0261 - mse: 0.0261 - 4ms/epoch - 4ms/step\n",
      "Epoch 308/500\n",
      "1/1 - 0s - loss: 0.0260 - mse: 0.0260 - 5ms/epoch - 5ms/step\n",
      "Epoch 309/500\n",
      "1/1 - 0s - loss: 0.0259 - mse: 0.0259 - 4ms/epoch - 4ms/step\n",
      "Epoch 310/500\n",
      "1/1 - 0s - loss: 0.0258 - mse: 0.0258 - 5ms/epoch - 5ms/step\n",
      "Epoch 311/500\n",
      "1/1 - 0s - loss: 0.0257 - mse: 0.0257 - 6ms/epoch - 6ms/step\n",
      "Epoch 312/500\n",
      "1/1 - 0s - loss: 0.0256 - mse: 0.0256 - 5ms/epoch - 5ms/step\n",
      "Epoch 313/500\n",
      "1/1 - 0s - loss: 0.0255 - mse: 0.0255 - 5ms/epoch - 5ms/step\n",
      "Epoch 314/500\n",
      "1/1 - 0s - loss: 0.0254 - mse: 0.0254 - 5ms/epoch - 5ms/step\n",
      "Epoch 315/500\n",
      "1/1 - 0s - loss: 0.0253 - mse: 0.0253 - 4ms/epoch - 4ms/step\n",
      "Epoch 316/500\n",
      "1/1 - 0s - loss: 0.0252 - mse: 0.0252 - 5ms/epoch - 5ms/step\n",
      "Epoch 317/500\n",
      "1/1 - 0s - loss: 0.0251 - mse: 0.0251 - 6ms/epoch - 6ms/step\n",
      "Epoch 318/500\n",
      "1/1 - 0s - loss: 0.0250 - mse: 0.0250 - 5ms/epoch - 5ms/step\n",
      "Epoch 319/500\n",
      "1/1 - 0s - loss: 0.0250 - mse: 0.0250 - 7ms/epoch - 7ms/step\n",
      "Epoch 320/500\n",
      "1/1 - 0s - loss: 0.0249 - mse: 0.0249 - 4ms/epoch - 4ms/step\n",
      "Epoch 321/500\n",
      "1/1 - 0s - loss: 0.0248 - mse: 0.0248 - 6ms/epoch - 6ms/step\n",
      "Epoch 322/500\n",
      "1/1 - 0s - loss: 0.0247 - mse: 0.0247 - 5ms/epoch - 5ms/step\n",
      "Epoch 323/500\n",
      "1/1 - 0s - loss: 0.0246 - mse: 0.0246 - 5ms/epoch - 5ms/step\n",
      "Epoch 324/500\n",
      "1/1 - 0s - loss: 0.0245 - mse: 0.0245 - 4ms/epoch - 4ms/step\n",
      "Epoch 325/500\n",
      "1/1 - 0s - loss: 0.0244 - mse: 0.0244 - 4ms/epoch - 4ms/step\n",
      "Epoch 326/500\n",
      "1/1 - 0s - loss: 0.0243 - mse: 0.0243 - 5ms/epoch - 5ms/step\n",
      "Epoch 327/500\n",
      "1/1 - 0s - loss: 0.0242 - mse: 0.0242 - 7ms/epoch - 7ms/step\n",
      "Epoch 328/500\n",
      "1/1 - 0s - loss: 0.0242 - mse: 0.0242 - 6ms/epoch - 6ms/step\n",
      "Epoch 329/500\n",
      "1/1 - 0s - loss: 0.0241 - mse: 0.0241 - 6ms/epoch - 6ms/step\n",
      "Epoch 330/500\n",
      "1/1 - 0s - loss: 0.0240 - mse: 0.0240 - 4ms/epoch - 4ms/step\n",
      "Epoch 331/500\n",
      "1/1 - 0s - loss: 0.0239 - mse: 0.0239 - 4ms/epoch - 4ms/step\n",
      "Epoch 332/500\n",
      "1/1 - 0s - loss: 0.0238 - mse: 0.0238 - 5ms/epoch - 5ms/step\n",
      "Epoch 333/500\n",
      "1/1 - 0s - loss: 0.0237 - mse: 0.0237 - 5ms/epoch - 5ms/step\n",
      "Epoch 334/500\n",
      "1/1 - 0s - loss: 0.0237 - mse: 0.0237 - 5ms/epoch - 5ms/step\n",
      "Epoch 335/500\n",
      "1/1 - 0s - loss: 0.0236 - mse: 0.0236 - 5ms/epoch - 5ms/step\n",
      "Epoch 336/500\n",
      "1/1 - 0s - loss: 0.0235 - mse: 0.0235 - 5ms/epoch - 5ms/step\n",
      "Epoch 337/500\n",
      "1/1 - 0s - loss: 0.0234 - mse: 0.0234 - 5ms/epoch - 5ms/step\n",
      "Epoch 338/500\n",
      "1/1 - 0s - loss: 0.0233 - mse: 0.0233 - 6ms/epoch - 6ms/step\n",
      "Epoch 339/500\n",
      "1/1 - 0s - loss: 0.0233 - mse: 0.0233 - 5ms/epoch - 5ms/step\n",
      "Epoch 340/500\n",
      "1/1 - 0s - loss: 0.0232 - mse: 0.0232 - 5ms/epoch - 5ms/step\n",
      "Epoch 341/500\n",
      "1/1 - 0s - loss: 0.0231 - mse: 0.0231 - 6ms/epoch - 6ms/step\n",
      "Epoch 342/500\n",
      "1/1 - 0s - loss: 0.0230 - mse: 0.0230 - 4ms/epoch - 4ms/step\n",
      "Epoch 343/500\n",
      "1/1 - 0s - loss: 0.0230 - mse: 0.0230 - 5ms/epoch - 5ms/step\n",
      "Epoch 344/500\n",
      "1/1 - 0s - loss: 0.0229 - mse: 0.0229 - 6ms/epoch - 6ms/step\n",
      "Epoch 345/500\n",
      "1/1 - 0s - loss: 0.0228 - mse: 0.0228 - 4ms/epoch - 4ms/step\n",
      "Epoch 346/500\n",
      "1/1 - 0s - loss: 0.0227 - mse: 0.0227 - 5ms/epoch - 5ms/step\n",
      "Epoch 347/500\n",
      "1/1 - 0s - loss: 0.0227 - mse: 0.0227 - 5ms/epoch - 5ms/step\n",
      "Epoch 348/500\n",
      "1/1 - 0s - loss: 0.0226 - mse: 0.0226 - 4ms/epoch - 4ms/step\n",
      "Epoch 349/500\n",
      "1/1 - 0s - loss: 0.0225 - mse: 0.0225 - 7ms/epoch - 7ms/step\n",
      "Epoch 350/500\n",
      "1/1 - 0s - loss: 0.0224 - mse: 0.0224 - 4ms/epoch - 4ms/step\n",
      "Epoch 351/500\n",
      "1/1 - 0s - loss: 0.0224 - mse: 0.0224 - 7ms/epoch - 7ms/step\n",
      "Epoch 352/500\n",
      "1/1 - 0s - loss: 0.0223 - mse: 0.0223 - 4ms/epoch - 4ms/step\n",
      "Epoch 353/500\n",
      "1/1 - 0s - loss: 0.0222 - mse: 0.0222 - 4ms/epoch - 4ms/step\n",
      "Epoch 354/500\n",
      "1/1 - 0s - loss: 0.0221 - mse: 0.0221 - 6ms/epoch - 6ms/step\n",
      "Epoch 355/500\n",
      "1/1 - 0s - loss: 0.0221 - mse: 0.0221 - 4ms/epoch - 4ms/step\n",
      "Epoch 356/500\n",
      "1/1 - 0s - loss: 0.0220 - mse: 0.0220 - 6ms/epoch - 6ms/step\n",
      "Epoch 357/500\n",
      "1/1 - 0s - loss: 0.0219 - mse: 0.0219 - 10ms/epoch - 10ms/step\n",
      "Epoch 358/500\n",
      "1/1 - 0s - loss: 0.0219 - mse: 0.0219 - 4ms/epoch - 4ms/step\n",
      "Epoch 359/500\n",
      "1/1 - 0s - loss: 0.0218 - mse: 0.0218 - 4ms/epoch - 4ms/step\n",
      "Epoch 360/500\n",
      "1/1 - 0s - loss: 0.0217 - mse: 0.0217 - 4ms/epoch - 4ms/step\n",
      "Epoch 361/500\n",
      "1/1 - 0s - loss: 0.0216 - mse: 0.0216 - 4ms/epoch - 4ms/step\n",
      "Epoch 362/500\n",
      "1/1 - 0s - loss: 0.0216 - mse: 0.0216 - 4ms/epoch - 4ms/step\n",
      "Epoch 363/500\n",
      "1/1 - 0s - loss: 0.0215 - mse: 0.0215 - 5ms/epoch - 5ms/step\n",
      "Epoch 364/500\n",
      "1/1 - 0s - loss: 0.0214 - mse: 0.0214 - 7ms/epoch - 7ms/step\n",
      "Epoch 365/500\n",
      "1/1 - 0s - loss: 0.0214 - mse: 0.0214 - 6ms/epoch - 6ms/step\n",
      "Epoch 366/500\n",
      "1/1 - 0s - loss: 0.0213 - mse: 0.0213 - 5ms/epoch - 5ms/step\n",
      "Epoch 367/500\n",
      "1/1 - 0s - loss: 0.0212 - mse: 0.0212 - 4ms/epoch - 4ms/step\n",
      "Epoch 368/500\n",
      "1/1 - 0s - loss: 0.0212 - mse: 0.0212 - 5ms/epoch - 5ms/step\n",
      "Epoch 369/500\n",
      "1/1 - 0s - loss: 0.0211 - mse: 0.0211 - 7ms/epoch - 7ms/step\n",
      "Epoch 370/500\n",
      "1/1 - 0s - loss: 0.0210 - mse: 0.0210 - 5ms/epoch - 5ms/step\n",
      "Epoch 371/500\n",
      "1/1 - 0s - loss: 0.0210 - mse: 0.0210 - 5ms/epoch - 5ms/step\n",
      "Epoch 372/500\n",
      "1/1 - 0s - loss: 0.0209 - mse: 0.0209 - 5ms/epoch - 5ms/step\n",
      "Epoch 373/500\n",
      "1/1 - 0s - loss: 0.0209 - mse: 0.0209 - 4ms/epoch - 4ms/step\n",
      "Epoch 374/500\n",
      "1/1 - 0s - loss: 0.0208 - mse: 0.0208 - 5ms/epoch - 5ms/step\n",
      "Epoch 375/500\n",
      "1/1 - 0s - loss: 0.0207 - mse: 0.0207 - 4ms/epoch - 4ms/step\n",
      "Epoch 376/500\n",
      "1/1 - 0s - loss: 0.0207 - mse: 0.0207 - 7ms/epoch - 7ms/step\n",
      "Epoch 377/500\n",
      "1/1 - 0s - loss: 0.0206 - mse: 0.0206 - 4ms/epoch - 4ms/step\n",
      "Epoch 378/500\n",
      "1/1 - 0s - loss: 0.0205 - mse: 0.0205 - 6ms/epoch - 6ms/step\n",
      "Epoch 379/500\n",
      "1/1 - 0s - loss: 0.0205 - mse: 0.0205 - 5ms/epoch - 5ms/step\n",
      "Epoch 380/500\n",
      "1/1 - 0s - loss: 0.0204 - mse: 0.0204 - 5ms/epoch - 5ms/step\n",
      "Epoch 381/500\n",
      "1/1 - 0s - loss: 0.0204 - mse: 0.0204 - 5ms/epoch - 5ms/step\n",
      "Epoch 382/500\n",
      "1/1 - 0s - loss: 0.0203 - mse: 0.0203 - 4ms/epoch - 4ms/step\n",
      "Epoch 383/500\n",
      "1/1 - 0s - loss: 0.0202 - mse: 0.0202 - 5ms/epoch - 5ms/step\n",
      "Epoch 384/500\n",
      "1/1 - 0s - loss: 0.0202 - mse: 0.0202 - 4ms/epoch - 4ms/step\n",
      "Epoch 385/500\n",
      "1/1 - 0s - loss: 0.0201 - mse: 0.0201 - 4ms/epoch - 4ms/step\n",
      "Epoch 386/500\n",
      "1/1 - 0s - loss: 0.0201 - mse: 0.0201 - 5ms/epoch - 5ms/step\n",
      "Epoch 387/500\n",
      "1/1 - 0s - loss: 0.0200 - mse: 0.0200 - 5ms/epoch - 5ms/step\n",
      "Epoch 388/500\n",
      "1/1 - 0s - loss: 0.0199 - mse: 0.0199 - 5ms/epoch - 5ms/step\n",
      "Epoch 389/500\n",
      "1/1 - 0s - loss: 0.0199 - mse: 0.0199 - 5ms/epoch - 5ms/step\n",
      "Epoch 390/500\n",
      "1/1 - 0s - loss: 0.0198 - mse: 0.0198 - 6ms/epoch - 6ms/step\n",
      "Epoch 391/500\n",
      "1/1 - 0s - loss: 0.0198 - mse: 0.0198 - 5ms/epoch - 5ms/step\n",
      "Epoch 392/500\n",
      "1/1 - 0s - loss: 0.0197 - mse: 0.0197 - 5ms/epoch - 5ms/step\n",
      "Epoch 393/500\n",
      "1/1 - 0s - loss: 0.0196 - mse: 0.0196 - 6ms/epoch - 6ms/step\n",
      "Epoch 394/500\n",
      "1/1 - 0s - loss: 0.0196 - mse: 0.0196 - 5ms/epoch - 5ms/step\n",
      "Epoch 395/500\n",
      "1/1 - 0s - loss: 0.0195 - mse: 0.0195 - 4ms/epoch - 4ms/step\n",
      "Epoch 396/500\n",
      "1/1 - 0s - loss: 0.0195 - mse: 0.0195 - 5ms/epoch - 5ms/step\n",
      "Epoch 397/500\n",
      "1/1 - 0s - loss: 0.0194 - mse: 0.0194 - 5ms/epoch - 5ms/step\n",
      "Epoch 398/500\n",
      "1/1 - 0s - loss: 0.0194 - mse: 0.0194 - 5ms/epoch - 5ms/step\n",
      "Epoch 399/500\n",
      "1/1 - 0s - loss: 0.0193 - mse: 0.0193 - 5ms/epoch - 5ms/step\n",
      "Epoch 400/500\n",
      "1/1 - 0s - loss: 0.0193 - mse: 0.0193 - 5ms/epoch - 5ms/step\n",
      "Epoch 401/500\n",
      "1/1 - 0s - loss: 0.0192 - mse: 0.0192 - 4ms/epoch - 4ms/step\n",
      "Epoch 402/500\n",
      "1/1 - 0s - loss: 0.0191 - mse: 0.0191 - 6ms/epoch - 6ms/step\n",
      "Epoch 403/500\n",
      "1/1 - 0s - loss: 0.0191 - mse: 0.0191 - 5ms/epoch - 5ms/step\n",
      "Epoch 404/500\n",
      "1/1 - 0s - loss: 0.0190 - mse: 0.0190 - 4ms/epoch - 4ms/step\n",
      "Epoch 405/500\n",
      "1/1 - 0s - loss: 0.0190 - mse: 0.0190 - 4ms/epoch - 4ms/step\n",
      "Epoch 406/500\n",
      "1/1 - 0s - loss: 0.0189 - mse: 0.0189 - 7ms/epoch - 7ms/step\n",
      "Epoch 407/500\n",
      "1/1 - 0s - loss: 0.0189 - mse: 0.0189 - 5ms/epoch - 5ms/step\n",
      "Epoch 408/500\n",
      "1/1 - 0s - loss: 0.0188 - mse: 0.0188 - 5ms/epoch - 5ms/step\n",
      "Epoch 409/500\n",
      "1/1 - 0s - loss: 0.0188 - mse: 0.0188 - 5ms/epoch - 5ms/step\n",
      "Epoch 410/500\n",
      "1/1 - 0s - loss: 0.0187 - mse: 0.0187 - 5ms/epoch - 5ms/step\n",
      "Epoch 411/500\n",
      "1/1 - 0s - loss: 0.0187 - mse: 0.0187 - 9ms/epoch - 9ms/step\n",
      "Epoch 412/500\n",
      "1/1 - 0s - loss: 0.0186 - mse: 0.0186 - 4ms/epoch - 4ms/step\n",
      "Epoch 413/500\n",
      "1/1 - 0s - loss: 0.0186 - mse: 0.0186 - 10ms/epoch - 10ms/step\n",
      "Epoch 414/500\n",
      "1/1 - 0s - loss: 0.0185 - mse: 0.0185 - 6ms/epoch - 6ms/step\n",
      "Epoch 415/500\n",
      "1/1 - 0s - loss: 0.0185 - mse: 0.0185 - 4ms/epoch - 4ms/step\n",
      "Epoch 416/500\n",
      "1/1 - 0s - loss: 0.0184 - mse: 0.0184 - 4ms/epoch - 4ms/step\n",
      "Epoch 417/500\n",
      "1/1 - 0s - loss: 0.0184 - mse: 0.0184 - 4ms/epoch - 4ms/step\n",
      "Epoch 418/500\n",
      "1/1 - 0s - loss: 0.0183 - mse: 0.0183 - 5ms/epoch - 5ms/step\n",
      "Epoch 419/500\n",
      "1/1 - 0s - loss: 0.0183 - mse: 0.0183 - 6ms/epoch - 6ms/step\n",
      "Epoch 420/500\n",
      "1/1 - 0s - loss: 0.0182 - mse: 0.0182 - 5ms/epoch - 5ms/step\n",
      "Epoch 421/500\n",
      "1/1 - 0s - loss: 0.0182 - mse: 0.0182 - 6ms/epoch - 6ms/step\n",
      "Epoch 422/500\n",
      "1/1 - 0s - loss: 0.0181 - mse: 0.0181 - 5ms/epoch - 5ms/step\n",
      "Epoch 423/500\n",
      "1/1 - 0s - loss: 0.0181 - mse: 0.0181 - 5ms/epoch - 5ms/step\n",
      "Epoch 424/500\n",
      "1/1 - 0s - loss: 0.0180 - mse: 0.0180 - 5ms/epoch - 5ms/step\n",
      "Epoch 425/500\n",
      "1/1 - 0s - loss: 0.0180 - mse: 0.0180 - 5ms/epoch - 5ms/step\n",
      "Epoch 426/500\n",
      "1/1 - 0s - loss: 0.0179 - mse: 0.0179 - 5ms/epoch - 5ms/step\n",
      "Epoch 427/500\n",
      "1/1 - 0s - loss: 0.0179 - mse: 0.0179 - 5ms/epoch - 5ms/step\n",
      "Epoch 428/500\n",
      "1/1 - 0s - loss: 0.0178 - mse: 0.0178 - 5ms/epoch - 5ms/step\n",
      "Epoch 429/500\n",
      "1/1 - 0s - loss: 0.0178 - mse: 0.0178 - 5ms/epoch - 5ms/step\n",
      "Epoch 430/500\n",
      "1/1 - 0s - loss: 0.0177 - mse: 0.0177 - 7ms/epoch - 7ms/step\n",
      "Epoch 431/500\n",
      "1/1 - 0s - loss: 0.0177 - mse: 0.0177 - 5ms/epoch - 5ms/step\n",
      "Epoch 432/500\n",
      "1/1 - 0s - loss: 0.0176 - mse: 0.0176 - 9ms/epoch - 9ms/step\n",
      "Epoch 433/500\n",
      "1/1 - 0s - loss: 0.0176 - mse: 0.0176 - 4ms/epoch - 4ms/step\n",
      "Epoch 434/500\n",
      "1/1 - 0s - loss: 0.0175 - mse: 0.0175 - 5ms/epoch - 5ms/step\n",
      "Epoch 435/500\n",
      "1/1 - 0s - loss: 0.0175 - mse: 0.0175 - 4ms/epoch - 4ms/step\n",
      "Epoch 436/500\n",
      "1/1 - 0s - loss: 0.0174 - mse: 0.0174 - 4ms/epoch - 4ms/step\n",
      "Epoch 437/500\n",
      "1/1 - 0s - loss: 0.0174 - mse: 0.0174 - 5ms/epoch - 5ms/step\n",
      "Epoch 438/500\n",
      "1/1 - 0s - loss: 0.0174 - mse: 0.0174 - 5ms/epoch - 5ms/step\n",
      "Epoch 439/500\n",
      "1/1 - 0s - loss: 0.0173 - mse: 0.0173 - 4ms/epoch - 4ms/step\n",
      "Epoch 440/500\n",
      "1/1 - 0s - loss: 0.0173 - mse: 0.0173 - 5ms/epoch - 5ms/step\n",
      "Epoch 441/500\n",
      "1/1 - 0s - loss: 0.0172 - mse: 0.0172 - 5ms/epoch - 5ms/step\n",
      "Epoch 442/500\n",
      "1/1 - 0s - loss: 0.0172 - mse: 0.0172 - 5ms/epoch - 5ms/step\n",
      "Epoch 443/500\n",
      "1/1 - 0s - loss: 0.0171 - mse: 0.0171 - 6ms/epoch - 6ms/step\n",
      "Epoch 444/500\n",
      "1/1 - 0s - loss: 0.0171 - mse: 0.0171 - 10ms/epoch - 10ms/step\n",
      "Epoch 445/500\n",
      "1/1 - 0s - loss: 0.0170 - mse: 0.0170 - 4ms/epoch - 4ms/step\n",
      "Epoch 446/500\n",
      "1/1 - 0s - loss: 0.0170 - mse: 0.0170 - 5ms/epoch - 5ms/step\n",
      "Epoch 447/500\n",
      "1/1 - 0s - loss: 0.0170 - mse: 0.0170 - 6ms/epoch - 6ms/step\n",
      "Epoch 448/500\n",
      "1/1 - 0s - loss: 0.0169 - mse: 0.0169 - 5ms/epoch - 5ms/step\n",
      "Epoch 449/500\n",
      "1/1 - 0s - loss: 0.0169 - mse: 0.0169 - 6ms/epoch - 6ms/step\n",
      "Epoch 450/500\n",
      "1/1 - 0s - loss: 0.0168 - mse: 0.0168 - 4ms/epoch - 4ms/step\n",
      "Epoch 451/500\n",
      "1/1 - 0s - loss: 0.0168 - mse: 0.0168 - 6ms/epoch - 6ms/step\n",
      "Epoch 452/500\n",
      "1/1 - 0s - loss: 0.0167 - mse: 0.0167 - 4ms/epoch - 4ms/step\n",
      "Epoch 453/500\n",
      "1/1 - 0s - loss: 0.0167 - mse: 0.0167 - 4ms/epoch - 4ms/step\n",
      "Epoch 454/500\n",
      "1/1 - 0s - loss: 0.0167 - mse: 0.0167 - 5ms/epoch - 5ms/step\n",
      "Epoch 455/500\n",
      "1/1 - 0s - loss: 0.0166 - mse: 0.0166 - 4ms/epoch - 4ms/step\n",
      "Epoch 456/500\n",
      "1/1 - 0s - loss: 0.0166 - mse: 0.0166 - 6ms/epoch - 6ms/step\n",
      "Epoch 457/500\n",
      "1/1 - 0s - loss: 0.0165 - mse: 0.0165 - 4ms/epoch - 4ms/step\n",
      "Epoch 458/500\n",
      "1/1 - 0s - loss: 0.0165 - mse: 0.0165 - 5ms/epoch - 5ms/step\n",
      "Epoch 459/500\n",
      "1/1 - 0s - loss: 0.0165 - mse: 0.0165 - 4ms/epoch - 4ms/step\n",
      "Epoch 460/500\n",
      "1/1 - 0s - loss: 0.0164 - mse: 0.0164 - 5ms/epoch - 5ms/step\n",
      "Epoch 461/500\n",
      "1/1 - 0s - loss: 0.0164 - mse: 0.0164 - 6ms/epoch - 6ms/step\n",
      "Epoch 462/500\n",
      "1/1 - 0s - loss: 0.0163 - mse: 0.0163 - 5ms/epoch - 5ms/step\n",
      "Epoch 463/500\n",
      "1/1 - 0s - loss: 0.0163 - mse: 0.0163 - 5ms/epoch - 5ms/step\n",
      "Epoch 464/500\n",
      "1/1 - 0s - loss: 0.0163 - mse: 0.0163 - 4ms/epoch - 4ms/step\n",
      "Epoch 465/500\n",
      "1/1 - 0s - loss: 0.0162 - mse: 0.0162 - 4ms/epoch - 4ms/step\n",
      "Epoch 466/500\n",
      "1/1 - 0s - loss: 0.0162 - mse: 0.0162 - 5ms/epoch - 5ms/step\n",
      "Epoch 467/500\n",
      "1/1 - 0s - loss: 0.0161 - mse: 0.0161 - 6ms/epoch - 6ms/step\n",
      "Epoch 468/500\n",
      "1/1 - 0s - loss: 0.0161 - mse: 0.0161 - 6ms/epoch - 6ms/step\n",
      "Epoch 469/500\n",
      "1/1 - 0s - loss: 0.0161 - mse: 0.0161 - 4ms/epoch - 4ms/step\n",
      "Epoch 470/500\n",
      "1/1 - 0s - loss: 0.0160 - mse: 0.0160 - 6ms/epoch - 6ms/step\n",
      "Epoch 471/500\n",
      "1/1 - 0s - loss: 0.0160 - mse: 0.0160 - 5ms/epoch - 5ms/step\n",
      "Epoch 472/500\n",
      "1/1 - 0s - loss: 0.0159 - mse: 0.0159 - 5ms/epoch - 5ms/step\n",
      "Epoch 473/500\n",
      "1/1 - 0s - loss: 0.0159 - mse: 0.0159 - 5ms/epoch - 5ms/step\n",
      "Epoch 474/500\n",
      "1/1 - 0s - loss: 0.0159 - mse: 0.0159 - 5ms/epoch - 5ms/step\n",
      "Epoch 475/500\n",
      "1/1 - 0s - loss: 0.0158 - mse: 0.0158 - 6ms/epoch - 6ms/step\n",
      "Epoch 476/500\n",
      "1/1 - 0s - loss: 0.0158 - mse: 0.0158 - 5ms/epoch - 5ms/step\n",
      "Epoch 477/500\n",
      "1/1 - 0s - loss: 0.0158 - mse: 0.0158 - 5ms/epoch - 5ms/step\n",
      "Epoch 478/500\n",
      "1/1 - 0s - loss: 0.0157 - mse: 0.0157 - 4ms/epoch - 4ms/step\n",
      "Epoch 479/500\n",
      "1/1 - 0s - loss: 0.0157 - mse: 0.0157 - 4ms/epoch - 4ms/step\n",
      "Epoch 480/500\n",
      "1/1 - 0s - loss: 0.0156 - mse: 0.0156 - 6ms/epoch - 6ms/step\n",
      "Epoch 481/500\n",
      "1/1 - 0s - loss: 0.0156 - mse: 0.0156 - 4ms/epoch - 4ms/step\n",
      "Epoch 482/500\n",
      "1/1 - 0s - loss: 0.0156 - mse: 0.0156 - 5ms/epoch - 5ms/step\n",
      "Epoch 483/500\n",
      "1/1 - 0s - loss: 0.0155 - mse: 0.0155 - 5ms/epoch - 5ms/step\n",
      "Epoch 484/500\n",
      "1/1 - 0s - loss: 0.0155 - mse: 0.0155 - 5ms/epoch - 5ms/step\n",
      "Epoch 485/500\n",
      "1/1 - 0s - loss: 0.0155 - mse: 0.0155 - 5ms/epoch - 5ms/step\n",
      "Epoch 486/500\n",
      "1/1 - 0s - loss: 0.0154 - mse: 0.0154 - 6ms/epoch - 6ms/step\n",
      "Epoch 487/500\n",
      "1/1 - 0s - loss: 0.0154 - mse: 0.0154 - 4ms/epoch - 4ms/step\n",
      "Epoch 488/500\n",
      "1/1 - 0s - loss: 0.0154 - mse: 0.0154 - 10ms/epoch - 10ms/step\n",
      "Epoch 489/500\n",
      "1/1 - 0s - loss: 0.0153 - mse: 0.0153 - 5ms/epoch - 5ms/step\n",
      "Epoch 490/500\n",
      "1/1 - 0s - loss: 0.0153 - mse: 0.0153 - 4ms/epoch - 4ms/step\n",
      "Epoch 491/500\n",
      "1/1 - 0s - loss: 0.0152 - mse: 0.0152 - 5ms/epoch - 5ms/step\n",
      "Epoch 492/500\n",
      "1/1 - 0s - loss: 0.0152 - mse: 0.0152 - 5ms/epoch - 5ms/step\n",
      "Epoch 493/500\n",
      "1/1 - 0s - loss: 0.0152 - mse: 0.0152 - 6ms/epoch - 6ms/step\n",
      "Epoch 494/500\n",
      "1/1 - 0s - loss: 0.0151 - mse: 0.0151 - 4ms/epoch - 4ms/step\n",
      "Epoch 495/500\n",
      "1/1 - 0s - loss: 0.0151 - mse: 0.0151 - 5ms/epoch - 5ms/step\n",
      "Epoch 496/500\n",
      "1/1 - 0s - loss: 0.0151 - mse: 0.0151 - 4ms/epoch - 4ms/step\n",
      "Epoch 497/500\n",
      "1/1 - 0s - loss: 0.0150 - mse: 0.0150 - 5ms/epoch - 5ms/step\n",
      "Epoch 498/500\n",
      "1/1 - 0s - loss: 0.0150 - mse: 0.0150 - 6ms/epoch - 6ms/step\n",
      "Epoch 499/500\n",
      "1/1 - 0s - loss: 0.0150 - mse: 0.0150 - 4ms/epoch - 4ms/step\n",
      "Epoch 500/500\n",
      "1/1 - 0s - loss: 0.0149 - mse: 0.0149 - 6ms/epoch - 6ms/step\n"
     ]
    },
    {
     "data": {
      "text/plain": [
       "<keras.callbacks.History at 0x1b7ce410190>"
      ]
     },
     "execution_count": 23,
     "metadata": {},
     "output_type": "execute_result"
    }
   ],
   "source": [
    "# 신경망 학습  compile, fit\n",
    "perceptron.compile(loss='mse', optimizer = SGD(learning_rate=0.1), metrics=['mse'])\n",
    "perceptron.fit(x,y,epochs=500,verbose=2)"
   ]
  },
  {
   "cell_type": "code",
   "execution_count": 24,
   "id": "6db36f4b-f6c8-4af0-a20d-72edc51c1194",
   "metadata": {},
   "outputs": [
    {
     "name": "stdout",
     "output_type": "stream",
     "text": [
      "1/1 [==============================] - 0s 79ms/step\n"
     ]
    },
    {
     "data": {
      "text/plain": [
       "array([[-0.81625974],\n",
       "       [ 0.88633335],\n",
       "       [ 0.88632816],\n",
       "       [ 0.9992657 ]], dtype=float32)"
      ]
     },
     "execution_count": 24,
     "metadata": {},
     "output_type": "execute_result"
    }
   ],
   "source": [
    "predict =  perceptron.predict(x)\n",
    "predict"
   ]
  },
  {
   "cell_type": "code",
   "execution_count": 25,
   "id": "0b424038-ab19-446c-af6c-b7cb6689ef9e",
   "metadata": {},
   "outputs": [
    {
     "data": {
      "text/plain": [
       "<tf.Tensor: shape=(4, 1), dtype=float32, numpy=\n",
       "array([[-0.81674933],\n",
       "       [ 0.8866756 ],\n",
       "       [ 0.88657665],\n",
       "       [ 0.99927175]], dtype=float32)>"
      ]
     },
     "execution_count": 25,
     "metadata": {},
     "output_type": "execute_result"
    }
   ],
   "source": [
    "# 텐서를 이용한 학습\n",
    "o"
   ]
  },
  {
   "cell_type": "code",
   "execution_count": 26,
   "id": "e3ee2b72-ee05-4b80-a2a7-7e70315f6f3f",
   "metadata": {},
   "outputs": [],
   "source": [
    "# 다층 퍼셉트론(신경망 Dens가 2개이상) 으로 MNIST 인식\n",
    "# 단일 퍼셉트론(신경망 Dense 한개)"
   ]
  },
  {
   "cell_type": "code",
   "execution_count": 27,
   "id": "ad65b72a-fc89-4d53-aa8a-6af088193bf2",
   "metadata": {},
   "outputs": [],
   "source": [
    "# 신경망 설계, 학습, 예측.\n",
    "import numpy as np\n",
    "import tensorflow as tf\n",
    "from tensorflow.keras.datasets import mnist\n",
    "from tensorflow.keras.models import Sequential\n",
    "from tensorflow.keras.layers import Dense\n",
    "from tensorflow.keras.optimizers import Adam"
   ]
  },
  {
   "cell_type": "code",
   "execution_count": 28,
   "id": "f0633249-c27c-4220-a9e5-180b8f206b41",
   "metadata": {},
   "outputs": [],
   "source": [
    "# mnist에서 읽어와서 신경망 입력할 형태로 변환\n",
    "(x_train,y_train),(x_test,y_test) = mnist.load_data()\n",
    "# 텐서모양을 2차원 텐서\n",
    "x_train.shape  # (60000, 28, 28)\n",
    "x_train = x_train.reshape(-1,28*28)\n",
    "x_test = x_test.reshape(-1,28*28)\n",
    "# 표준화 - narray 변경\n",
    "x_train = x_train.astype(np.float32) / 255.0\n",
    "x_test = x_test.astype(np.float32) / 255.0\n",
    "y_train = tf.keras.utils.to_categorical(y_train,10)\n",
    "y_test = tf.keras.utils.to_categorical(y_test,10)\n",
    "# loss 함수의 선택여부에 따라서 ont-hot -- categor......\n",
    "# 변경하지 않음 spare........."
   ]
  },
  {
   "cell_type": "code",
   "execution_count": 29,
   "id": "1bb4d062-826a-47f6-9ee4-f62c3e901276",
   "metadata": {},
   "outputs": [],
   "source": [
    "# 신경망 구조 설계  밀집층 2개 구조\n",
    "# 파이퍼 파라메터...\n",
    "n_input = 28*28\n",
    "n_hidden = 1024\n",
    "n_output = 10\n",
    "\n",
    "# multi-layer perceptron\n",
    "mlp = Sequential()\n",
    "mlp.add(Dense(n_hidden, activation='tanh', input_shape = (n_input,)\n",
    "              ,kernel_initializer='random_uniform', bias_initializer='zeros'))\n",
    "mlp.add(Dense(n_output,activation='tanh'\n",
    "              ,kernel_initializer='random_uniform', bias_initializer='zeros'))\n",
    "mlp.compile(loss='mean_squared_error' , optimizer = Adam(learning_rate=0.001),metrics=['accuracy'])"
   ]
  },
  {
   "cell_type": "code",
   "execution_count": 30,
   "id": "2065784a-bfcd-40c2-b0f2-00673526a908",
   "metadata": {
    "tags": []
   },
   "outputs": [
    {
     "name": "stdout",
     "output_type": "stream",
     "text": [
      "Epoch 1/30\n",
      "469/469 - 3s - loss: 0.0423 - accuracy: 0.8466 - val_loss: 0.0268 - val_accuracy: 0.9156 - 3s/epoch - 6ms/step\n",
      "Epoch 2/30\n",
      "469/469 - 3s - loss: 0.0223 - accuracy: 0.9294 - val_loss: 0.0179 - val_accuracy: 0.9431 - 3s/epoch - 5ms/step\n",
      "Epoch 3/30\n",
      "469/469 - 2s - loss: 0.0164 - accuracy: 0.9480 - val_loss: 0.0160 - val_accuracy: 0.9527 - 2s/epoch - 5ms/step\n",
      "Epoch 4/30\n",
      "469/469 - 2s - loss: 0.0136 - accuracy: 0.9573 - val_loss: 0.0128 - val_accuracy: 0.9588 - 2s/epoch - 5ms/step\n",
      "Epoch 5/30\n",
      "469/469 - 2s - loss: 0.0119 - accuracy: 0.9642 - val_loss: 0.0115 - val_accuracy: 0.9634 - 2s/epoch - 5ms/step\n",
      "Epoch 6/30\n",
      "469/469 - 3s - loss: 0.0107 - accuracy: 0.9681 - val_loss: 0.0109 - val_accuracy: 0.9661 - 3s/epoch - 6ms/step\n",
      "Epoch 7/30\n",
      "469/469 - 3s - loss: 0.0100 - accuracy: 0.9714 - val_loss: 0.0105 - val_accuracy: 0.9673 - 3s/epoch - 6ms/step\n",
      "Epoch 8/30\n",
      "469/469 - 3s - loss: 0.0093 - accuracy: 0.9742 - val_loss: 0.0097 - val_accuracy: 0.9689 - 3s/epoch - 6ms/step\n",
      "Epoch 9/30\n",
      "469/469 - 2s - loss: 0.0088 - accuracy: 0.9763 - val_loss: 0.0093 - val_accuracy: 0.9691 - 2s/epoch - 5ms/step\n",
      "Epoch 10/30\n",
      "469/469 - 3s - loss: 0.0082 - accuracy: 0.9786 - val_loss: 0.0086 - val_accuracy: 0.9708 - 3s/epoch - 5ms/step\n",
      "Epoch 11/30\n",
      "469/469 - 2s - loss: 0.0078 - accuracy: 0.9801 - val_loss: 0.0086 - val_accuracy: 0.9715 - 2s/epoch - 5ms/step\n",
      "Epoch 12/30\n",
      "469/469 - 2s - loss: 0.0075 - accuracy: 0.9809 - val_loss: 0.0085 - val_accuracy: 0.9735 - 2s/epoch - 5ms/step\n",
      "Epoch 13/30\n",
      "469/469 - 2s - loss: 0.0073 - accuracy: 0.9826 - val_loss: 0.0084 - val_accuracy: 0.9747 - 2s/epoch - 5ms/step\n",
      "Epoch 14/30\n",
      "469/469 - 2s - loss: 0.0070 - accuracy: 0.9836 - val_loss: 0.0085 - val_accuracy: 0.9742 - 2s/epoch - 5ms/step\n",
      "Epoch 15/30\n",
      "469/469 - 2s - loss: 0.0067 - accuracy: 0.9846 - val_loss: 0.0086 - val_accuracy: 0.9746 - 2s/epoch - 5ms/step\n",
      "Epoch 16/30\n",
      "469/469 - 2s - loss: 0.0065 - accuracy: 0.9855 - val_loss: 0.0079 - val_accuracy: 0.9747 - 2s/epoch - 5ms/step\n",
      "Epoch 17/30\n",
      "469/469 - 2s - loss: 0.0063 - accuracy: 0.9863 - val_loss: 0.0079 - val_accuracy: 0.9750 - 2s/epoch - 5ms/step\n",
      "Epoch 18/30\n",
      "469/469 - 2s - loss: 0.0061 - accuracy: 0.9870 - val_loss: 0.0079 - val_accuracy: 0.9751 - 2s/epoch - 5ms/step\n",
      "Epoch 19/30\n",
      "469/469 - 2s - loss: 0.0059 - accuracy: 0.9877 - val_loss: 0.0080 - val_accuracy: 0.9753 - 2s/epoch - 5ms/step\n",
      "Epoch 20/30\n",
      "469/469 - 2s - loss: 0.0058 - accuracy: 0.9884 - val_loss: 0.0077 - val_accuracy: 0.9752 - 2s/epoch - 5ms/step\n",
      "Epoch 21/30\n",
      "469/469 - 2s - loss: 0.0056 - accuracy: 0.9889 - val_loss: 0.0079 - val_accuracy: 0.9767 - 2s/epoch - 5ms/step\n",
      "Epoch 22/30\n",
      "469/469 - 2s - loss: 0.0055 - accuracy: 0.9895 - val_loss: 0.0075 - val_accuracy: 0.9754 - 2s/epoch - 5ms/step\n",
      "Epoch 23/30\n",
      "469/469 - 2s - loss: 0.0053 - accuracy: 0.9901 - val_loss: 0.0077 - val_accuracy: 0.9768 - 2s/epoch - 5ms/step\n",
      "Epoch 24/30\n",
      "469/469 - 2s - loss: 0.0052 - accuracy: 0.9907 - val_loss: 0.0074 - val_accuracy: 0.9764 - 2s/epoch - 5ms/step\n",
      "Epoch 25/30\n",
      "469/469 - 3s - loss: 0.0051 - accuracy: 0.9911 - val_loss: 0.0075 - val_accuracy: 0.9753 - 3s/epoch - 6ms/step\n",
      "Epoch 26/30\n",
      "469/469 - 2s - loss: 0.0050 - accuracy: 0.9911 - val_loss: 0.0080 - val_accuracy: 0.9758 - 2s/epoch - 5ms/step\n",
      "Epoch 27/30\n",
      "469/469 - 2s - loss: 0.0049 - accuracy: 0.9918 - val_loss: 0.0072 - val_accuracy: 0.9777 - 2s/epoch - 5ms/step\n",
      "Epoch 28/30\n",
      "469/469 - 2s - loss: 0.0048 - accuracy: 0.9922 - val_loss: 0.0071 - val_accuracy: 0.9771 - 2s/epoch - 5ms/step\n",
      "Epoch 29/30\n",
      "469/469 - 2s - loss: 0.0047 - accuracy: 0.9926 - val_loss: 0.0075 - val_accuracy: 0.9767 - 2s/epoch - 5ms/step\n",
      "Epoch 30/30\n",
      "469/469 - 2s - loss: 0.0046 - accuracy: 0.9928 - val_loss: 0.0076 - val_accuracy: 0.9771 - 2s/epoch - 5ms/step\n"
     ]
    }
   ],
   "source": [
    "hist = mlp.fit(x_train,y_train, batch_size=128,epochs=30,validation_data=(x_test,y_test),\n",
    "        verbose=2)"
   ]
  },
  {
   "cell_type": "code",
   "execution_count": 31,
   "id": "43ccbc23-57d8-43a3-84e8-09285515d5c1",
   "metadata": {},
   "outputs": [],
   "source": [
    "# 학습곡선 시각화 - epoch를 늘리면 추가 개선사항이 있는지와 과적합여부 및 최적의 epoch수를 찾기\n",
    "import matplotlib.pyplot as plt"
   ]
  },
  {
   "cell_type": "code",
   "execution_count": 32,
   "id": "4128727a-398e-46b9-84bd-470aee326c77",
   "metadata": {},
   "outputs": [
    {
     "data": {
      "image/png": "[encoded data removed]",
      "text/plain": [
       "<Figure size 1500x500 with 2 Axes>"
      ]
     },
     "metadata": {},
     "output_type": "display_data"
    }
   ],
   "source": [
    "# 정확률\n",
    "plt.figure(figsize=(15,5))\n",
    "ax1 = plt.subplot(1,2,1)\n",
    "ax2 = plt.subplot(1,2,2)\n",
    "ax1.plot(hist.history['accuracy'],label = 'Accuray')\n",
    "ax1.plot(hist.history['val_accuracy'], label = 'val_accuracy')\n",
    "ax1.legend()\n",
    "# 손실률\n",
    "ax2.plot(hist.history['loss'],label = 'loss')\n",
    "ax2.plot(hist.history['val_loss'], label = 'val_loss')\n",
    "ax2.legend()\n",
    "plt.show()"
   ]
  },
  {
   "cell_type": "code",
   "execution_count": 33,
   "id": "2b909e66-5a5b-4aa3-8367-22983c8a9325",
   "metadata": {},
   "outputs": [
    {
     "name": "stdout",
     "output_type": "stream",
     "text": [
      "1875/1875 [==============================] - 5s 3ms/step - loss: 0.0046 - accuracy: 0.9938\n",
      "313/313 [==============================] - 1s 2ms/step - loss: 0.0076 - accuracy: 0.9771\n"
     ]
    },
    {
     "data": {
      "text/plain": [
       "([0.004588596988469362, 0.9937999844551086],\n",
       " [0.007571679074317217, 0.9771000146865845])"
      ]
     },
     "execution_count": 33,
     "metadata": {},
     "output_type": "execute_result"
    }
   ],
   "source": [
    "mlp.evaluate(x_train,y_train) , mlp.evaluate(x_test,y_test)"
   ]
  },
  {
   "cell_type": "code",
   "execution_count": 34,
   "id": "ab64e292-377d-4185-b492-1df5d51b003c",
   "metadata": {},
   "outputs": [],
   "source": [
    "# fashion mnist로 확장을 해서 신경망 구성하고 학습하고 학습곡선\n",
    "# 텐서 확인하고 작업"
   ]
  },
  {
   "cell_type": "code",
   "execution_count": 35,
   "id": "c8a11e7b-49fd-453a-9db8-c72c54150095",
   "metadata": {},
   "outputs": [
    {
     "data": {
      "text/plain": [
       "((60000, 28, 28), (60000,))"
      ]
     },
     "execution_count": 35,
     "metadata": {},
     "output_type": "execute_result"
    }
   ],
   "source": [
    "# fashion mnist\n",
    "from tensorflow.keras.datasets import fashion_mnist\n",
    "(x_train,y_train),(x_test,y_test) = fashion_mnist.load_data()\n",
    "x_train.shape,y_train.shape"
   ]
  },
  {
   "cell_type": "code",
   "execution_count": 36,
   "id": "2b83e118-b096-4b6c-b4b2-e56e8aa8ae1e",
   "metadata": {},
   "outputs": [],
   "source": [
    "x_train = x_train.astype('float32')/255.0\n",
    "x_test = x_test.astype('float32')/255.0\n",
    "# 텐서모양을 2차원텐서로 변경\n",
    "x_train = x_train.reshape(-1,28*28)\n",
    "x_test = x_test.reshape(-1,28*28)\n",
    "y_train = tf.keras.utils.to_categorical(y_train,10)\n",
    "y_test = tf.keras.utils.to_categorical(y_test,10)"
   ]
  },
  {
   "cell_type": "code",
   "execution_count": 38,
   "id": "ab6b0827-b489-4c39-bda4-fb4e5820b75a",
   "metadata": {},
   "outputs": [
    {
     "name": "stdout",
     "output_type": "stream",
     "text": [
      "Epoch 1/30\n",
      "469/469 - 3s - loss: 0.1121 - accuracy: 0.3103 - val_loss: 0.0333 - val_accuracy: 0.8220 - 3s/epoch - 6ms/step\n",
      "Epoch 2/30\n",
      "469/469 - 2s - loss: 0.0303 - accuracy: 0.8453 - val_loss: 0.0287 - val_accuracy: 0.8395 - 2s/epoch - 5ms/step\n",
      "Epoch 3/30\n",
      "469/469 - 3s - loss: 0.0271 - accuracy: 0.8580 - val_loss: 0.0274 - val_accuracy: 0.8529 - 3s/epoch - 5ms/step\n",
      "Epoch 4/30\n",
      "469/469 - 2s - loss: 0.0251 - accuracy: 0.8682 - val_loss: 0.0269 - val_accuracy: 0.8518 - 2s/epoch - 5ms/step\n",
      "Epoch 5/30\n",
      "469/469 - 3s - loss: 0.0236 - accuracy: 0.8755 - val_loss: 0.0251 - val_accuracy: 0.8613 - 3s/epoch - 5ms/step\n",
      "Epoch 6/30\n",
      "469/469 - 3s - loss: 0.0224 - accuracy: 0.8819 - val_loss: 0.0242 - val_accuracy: 0.8649 - 3s/epoch - 5ms/step\n",
      "Epoch 7/30\n",
      "469/469 - 2s - loss: 0.0215 - accuracy: 0.8863 - val_loss: 0.0234 - val_accuracy: 0.8698 - 2s/epoch - 5ms/step\n",
      "Epoch 8/30\n",
      "469/469 - 3s - loss: 0.0207 - accuracy: 0.8910 - val_loss: 0.0226 - val_accuracy: 0.8735 - 3s/epoch - 7ms/step\n",
      "Epoch 9/30\n",
      "469/469 - 3s - loss: 0.0200 - accuracy: 0.8949 - val_loss: 0.0221 - val_accuracy: 0.8726 - 3s/epoch - 6ms/step\n",
      "Epoch 10/30\n",
      "469/469 - 3s - loss: 0.0195 - accuracy: 0.8970 - val_loss: 0.0222 - val_accuracy: 0.8774 - 3s/epoch - 5ms/step\n",
      "Epoch 11/30\n",
      "469/469 - 3s - loss: 0.0190 - accuracy: 0.9002 - val_loss: 0.0211 - val_accuracy: 0.8814 - 3s/epoch - 5ms/step\n",
      "Epoch 12/30\n",
      "469/469 - 2s - loss: 0.0185 - accuracy: 0.9039 - val_loss: 0.0225 - val_accuracy: 0.8805 - 2s/epoch - 5ms/step\n",
      "Epoch 13/30\n",
      "469/469 - 3s - loss: 0.0181 - accuracy: 0.9054 - val_loss: 0.0208 - val_accuracy: 0.8829 - 3s/epoch - 5ms/step\n",
      "Epoch 14/30\n",
      "469/469 - 3s - loss: 0.0176 - accuracy: 0.9099 - val_loss: 0.0209 - val_accuracy: 0.8842 - 3s/epoch - 6ms/step\n",
      "Epoch 15/30\n",
      "469/469 - 3s - loss: 0.0174 - accuracy: 0.9117 - val_loss: 0.0203 - val_accuracy: 0.8856 - 3s/epoch - 6ms/step\n",
      "Epoch 16/30\n",
      "469/469 - 3s - loss: 0.0168 - accuracy: 0.9147 - val_loss: 0.0207 - val_accuracy: 0.8858 - 3s/epoch - 6ms/step\n",
      "Epoch 17/30\n",
      "469/469 - 3s - loss: 0.0166 - accuracy: 0.9154 - val_loss: 0.0195 - val_accuracy: 0.8871 - 3s/epoch - 5ms/step\n",
      "Epoch 18/30\n",
      "469/469 - 2s - loss: 0.0162 - accuracy: 0.9182 - val_loss: 0.0199 - val_accuracy: 0.8863 - 2s/epoch - 5ms/step\n",
      "Epoch 19/30\n",
      "469/469 - 2s - loss: 0.0161 - accuracy: 0.9208 - val_loss: 0.0197 - val_accuracy: 0.8887 - 2s/epoch - 5ms/step\n",
      "Epoch 20/30\n",
      "469/469 - 2s - loss: 0.0154 - accuracy: 0.9243 - val_loss: 0.0196 - val_accuracy: 0.8904 - 2s/epoch - 5ms/step\n",
      "Epoch 21/30\n",
      "469/469 - 2s - loss: 0.0153 - accuracy: 0.9260 - val_loss: 0.0200 - val_accuracy: 0.8873 - 2s/epoch - 5ms/step\n",
      "Epoch 22/30\n",
      "469/469 - 2s - loss: 0.0149 - accuracy: 0.9269 - val_loss: 0.0196 - val_accuracy: 0.8855 - 2s/epoch - 5ms/step\n",
      "Epoch 23/30\n",
      "469/469 - 3s - loss: 0.0151 - accuracy: 0.9286 - val_loss: 0.0216 - val_accuracy: 0.8894 - 3s/epoch - 6ms/step\n",
      "Epoch 24/30\n",
      "469/469 - 3s - loss: 0.0145 - accuracy: 0.9317 - val_loss: 0.0214 - val_accuracy: 0.8878 - 3s/epoch - 6ms/step\n",
      "Epoch 25/30\n",
      "469/469 - 3s - loss: 0.0143 - accuracy: 0.9327 - val_loss: 0.0187 - val_accuracy: 0.8931 - 3s/epoch - 6ms/step\n",
      "Epoch 26/30\n",
      "469/469 - 3s - loss: 0.0141 - accuracy: 0.9348 - val_loss: 0.0192 - val_accuracy: 0.8928 - 3s/epoch - 6ms/step\n",
      "Epoch 27/30\n",
      "469/469 - 3s - loss: 0.0139 - accuracy: 0.9358 - val_loss: 0.0196 - val_accuracy: 0.8928 - 3s/epoch - 6ms/step\n",
      "Epoch 28/30\n",
      "469/469 - 3s - loss: 0.0135 - accuracy: 0.9385 - val_loss: 0.0190 - val_accuracy: 0.8940 - 3s/epoch - 7ms/step\n",
      "Epoch 29/30\n",
      "469/469 - 3s - loss: 0.0134 - accuracy: 0.9406 - val_loss: 0.0210 - val_accuracy: 0.8900 - 3s/epoch - 7ms/step\n",
      "Epoch 30/30\n",
      "469/469 - 3s - loss: 0.0131 - accuracy: 0.9410 - val_loss: 0.0184 - val_accuracy: 0.8968 - 3s/epoch - 6ms/step\n"
     ]
    }
   ],
   "source": [
    "# 신경망 구조 설계  밀집층 2개 구조\n",
    "# 파이퍼 파라메터...\n",
    "n_input = 28*28\n",
    "n_hidden = 1024\n",
    "n_output = 10\n",
    "\n",
    "# multi-layer perceptron\n",
    "mlp = Sequential()\n",
    "mlp.add(Dense(n_hidden, activation='tanh', input_shape = (n_input,)\n",
    "              ,kernel_initializer='random_uniform', bias_initializer='zeros'))\n",
    "mlp.add(Dense(n_output,activation='tanh'\n",
    "              ,kernel_initializer='random_uniform', bias_initializer='zeros'))\n",
    "mlp.compile(loss='mean_squared_error' , optimizer = Adam(learning_rate=0.001),metrics=['accuracy'])\n",
    "\n",
    "hist = mlp.fit(x_train,y_train, batch_size=128,epochs=30,validation_data=(x_test,y_test),\n",
    "        verbose=2)"
   ]
  },
  {
   "cell_type": "code",
   "execution_count": 39,
   "id": "0178f0d0-1b0c-402e-bc5c-aaf9e492f320",
   "metadata": {},
   "outputs": [
    {
     "data": {
      "image/png": "[encoded data removed]",
      "text/plain": [
       "<Figure size 1500x500 with 2 Axes>"
      ]
     },
     "metadata": {},
     "output_type": "display_data"
    }
   ],
   "source": [
    "# 학습곡선 시각화 - epoch를 늘리면 추가 개선사항이 있는지와 과적합여부 및 최적의 epoch수를 찾기\n",
    "import matplotlib.pyplot as plt\n",
    "# 정확률\n",
    "plt.figure(figsize=(15,5))\n",
    "ax1 = plt.subplot(1,2,1)\n",
    "ax2 = plt.subplot(1,2,2)\n",
    "ax1.plot(hist.history['accuracy'],label = 'Accuray')\n",
    "ax1.plot(hist.history['val_accuracy'], label = 'val_accuracy')\n",
    "ax1.legend()\n",
    "# 손실률\n",
    "ax2.plot(hist.history['loss'],label = 'loss')\n",
    "ax2.plot(hist.history['val_loss'], label = 'val_loss')\n",
    "ax2.legend()\n",
    "plt.show()"
   ]
  },
  {
   "cell_type": "code",
   "execution_count": null,
   "id": "e5185182-cc6e-4c9e-a464-e2a9cc09698c",
   "metadata": {},
   "outputs": [],
   "source": [
    "# L층   은닉층 L-1개  양 끝단을 입력과 출력\n",
    "# L=5  \n",
    "# 이미지 특징 : 화소수  28*28 784  c = 10\n",
    "# 모든 은닉층의 뉴런의 개수가 500개라면\n",
    "# 입력층과 은닉층 한개를 (784+1)x500 --> 가중치\n",
    "# 은닉층과 출력층을 연결하는 가중치 (500+1) x 10\n",
    "# 1,149,010  총 가중치\n",
    "# 계산은 GPU, 과적합은 규제 알고리즘을 적용\n",
    "# 전방계산 -> 오차계산 -> 가중치를 업데이트(전방계산의 반대 방향):오류역전파"
   ]
  },
  {
   "cell_type": "code",
   "execution_count": 40,
   "id": "32392af3-3ce6-4a8f-838c-31a632f0e40a",
   "metadata": {},
   "outputs": [],
   "source": [
    "# 층이 5개인 신경망을 구성-- 위에서 만든 mlp를 이용해서 dense 늘려서구현"
   ]
  },
  {
   "attachments": {
    "a0ac0dd3-1e20-4148-8744-a57463921e95.JPG": {
     "image/jpeg": "[encoded data removed]"
    }
   },
   "cell_type": "markdown",
   "id": "b1636fd2-815b-4ca1-9d43-5a39fa2a99ed",
   "metadata": {},
   "source": [
    "![5.01.JPG](attachment:a0ac0dd3-1e20-4148-8744-a57463921e95.JPG)"
   ]
  },
  {
   "attachments": {
    "766f714d-aa31-4dc4-b895-cb0559e88fde.JPG": {
     "image/jpeg": "[encoded data removed]"
    }
   },
   "cell_type": "markdown",
   "id": "09595cc6-6ed3-40f6-9cca-d0eda512b918",
   "metadata": {},
   "source": [
    "![5.02.JPG](attachment:766f714d-aa31-4dc4-b895-cb0559e88fde.JPG)"
   ]
  },
  {
   "cell_type": "code",
   "execution_count": null,
   "id": "462d52f2-1e36-45d7-8ca4-02a16e97750d",
   "metadata": {},
   "outputs": [],
   "source": [
    "# 입력층으로 들어오는 특징 벡터를 신경망이 사용하는 내부 표현으로 바꿘 쓴것임  n0 는 입력층의 노드수 d와 같음"
   ]
  },
  {
   "attachments": {
    "bd48937b-6e5f-43c5-b86d-f33bbd16b0d3.JPG": {
     "image/jpeg": "[encoded data removed]"
    }
   },
   "cell_type": "markdown",
   "id": "6047ee8f-a580-4e5e-b34b-8f6cb7cd8f4c",
   "metadata": {},
   "source": [
    "![5.03.JPG](attachment:bd48937b-6e5f-43c5-b86d-f33bbd16b0d3.JPG)"
   ]
  },
  {
   "cell_type": "code",
   "execution_count": null,
   "id": "9e89e297-eac2-4c79-844d-bef20e93bfe8",
   "metadata": {},
   "outputs": [],
   "source": [
    "# l번째 은닉층의 j번째 노드연산 (노드 하나의 연산)\n",
    "# T는 활성함수"
   ]
  },
  {
   "attachments": {
    "474244f4-a035-4d3a-955b-0a2563f3ae86.JPG": {
     "image/jpeg": "[encoded data removed]"
    }
   },
   "cell_type": "markdown",
   "id": "9a714704-c422-4454-8597-2418db3aab6c",
   "metadata": {},
   "source": [
    "![5.04.JPG](attachment:474244f4-a035-4d3a-955b-0a2563f3ae86.JPG)"
   ]
  },
  {
   "cell_type": "code",
   "execution_count": null,
   "id": "dd43ea72-cb87-4de7-a2d2-087fbe7d1f07",
   "metadata": {},
   "outputs": [],
   "source": [
    "# 위의 노드 하나의 연산을 행렬연산으로 사용하면 하나의 식으로 같은 측에 있는 모든 노드의 연산을 표현할수 있음\n",
    "# i번째 층이 수행하는 연산"
   ]
  },
  {
   "attachments": {
    "060c06dc-9b40-4640-a5cd-a25a94827901.JPG": {
     "image/jpeg": "[encoded data removed]"
    }
   },
   "cell_type": "markdown",
   "id": "3d38d15b-10e6-42ef-908b-ee679737f87b",
   "metadata": {},
   "source": [
    "![5.05.JPG](attachment:060c06dc-9b40-4640-a5cd-a25a94827901.JPG)"
   ]
  },
  {
   "cell_type": "code",
   "execution_count": null,
   "id": "7f1c3e1c-067f-465c-a275-0524353d6c1f",
   "metadata": {},
   "outputs": [],
   "source": [
    "# 이전에 본 퍼셉트론 식을 깊은 다층 퍼셉트론으로 확장  T는 활성 함수\n",
    "# L 층(은닉층) 주로  tanh, 로지스틱 시그모읻, softmax함수를 사용\n",
    "# 소프트맥스는 노드의 출력을 모두 더하면 1이되는 특징을 가지고 있어....--> 활률로 갖주하가 쉽다\n",
    "# 딥러닝은 주로 softmax를 사용(분류)"
   ]
  },
  {
   "attachments": {
    "dc40b3c9-a397-49a0-ae3c-0769c0a646f5.JPG": {
     "image/jpeg": "[encoded data removed]"
    }
   },
   "cell_type": "markdown",
   "id": "98dd2cfd-0dc6-4807-bb14-9e9221192394",
   "metadata": {},
   "source": [
    "![5.06.JPG](attachment:dc40b3c9-a397-49a0-ae3c-0769c0a646f5.JPG)"
   ]
  },
  {
   "cell_type": "code",
   "execution_count": null,
   "id": "30529d43-25a7-4b2e-b186-33991bb8c94c",
   "metadata": {},
   "outputs": [],
   "source": [
    "# 다층퍼셉트론의 알고리즘을 조금확장, mlp 손실함수 4.19를 확장하면  깊은 다층 퍼셉트론의 손실함수를 얻을수 있음"
   ]
  },
  {
   "attachments": {
    "806750bb-2d7d-43c6-a4e9-801657558351.JPG": {
     "image/jpeg": "[encoded data removed]"
    }
   },
   "cell_type": "markdown",
   "id": "e8ff9d56-58de-461d-a3d0-868758c6e607",
   "metadata": {},
   "source": [
    "![5.07.JPG](attachment:806750bb-2d7d-43c6-a4e9-801657558351.JPG)"
   ]
  },
  {
   "cell_type": "code",
   "execution_count": null,
   "id": "b92eae6e-4ebb-404b-a1ef-89f0801f36a0",
   "metadata": {},
   "outputs": [],
   "source": [
    "# 가중치 갱신 4.20을 확장한 식\n",
    "# 특징벡터를 입력층에 입력-->전방계산 ->오차(예측값과 - 실제값) 오차에따라서 Ul UL-1  UL-2.....u1순으로 가중치를갱신"
   ]
  },
  {
   "attachments": {
    "0251ce46-c081-452a-ac05-d28279876867.JPG": {
     "image/jpeg": "[encoded data removed]"
    }
   },
   "cell_type": "markdown",
   "id": "cc2e13ff-3aab-44b6-82e3-fa02a442ed6a",
   "metadata": {},
   "source": [
    "![5.08.JPG](attachment:0251ce46-c081-452a-ac05-d28279876867.JPG)"
   ]
  },
  {
   "attachments": {
    "170baac3-f0ff-4ebd-97fa-05dcc99facdf.JPG": {
     "image/jpeg": "[encoded data removed]"
    }
   },
   "cell_type": "markdown",
   "id": "b1c46292-f3de-44bf-9155-5579b11f6f9a",
   "metadata": {},
   "source": [
    "![5.09.JPG](attachment:170baac3-f0ff-4ebd-97fa-05dcc99facdf.JPG)"
   ]
  },
  {
   "cell_type": "markdown",
   "id": "8268c5cd-9769-4cf3-843f-393baf497ebe",
   "metadata": {},
   "source": []
  },
  {
   "cell_type": "code",
   "execution_count": 41,
   "id": "a029ffc2-b65d-4196-bee0-77cc3aefdcbe",
   "metadata": {},
   "outputs": [],
   "source": [
    "# L=5"
   ]
  },
  {
   "cell_type": "code",
   "execution_count": 42,
   "id": "949b08a8-232c-41c9-b5bf-de29523bd66d",
   "metadata": {},
   "outputs": [],
   "source": [
    "# fashion mnist\n",
    "from tensorflow.keras.datasets import fashion_mnist\n",
    "(x_train,y_train),(x_test,y_test) = fashion_mnist.load_data()\n",
    "x_train.shape,y_train.shape\n",
    "\n",
    "x_train = x_train.astype('float32')/255.0\n",
    "x_test = x_test.astype('float32')/255.0\n",
    "# 텐서모양을 2차원텐서로 변경\n",
    "x_train = x_train.reshape(-1,28*28)\n",
    "x_test = x_test.reshape(-1,28*28)\n",
    "y_train = tf.keras.utils.to_categorical(y_train,10)\n",
    "y_test = tf.keras.utils.to_categorical(y_test,10)"
   ]
  },
  {
   "cell_type": "code",
   "execution_count": 45,
   "id": "3172971c-e0f8-4331-9d9e-76a586be0151",
   "metadata": {},
   "outputs": [],
   "source": [
    "# 신경망 구조\n",
    "n_input = 784\n",
    "n_hidden1 = 1024\n",
    "n_hidden2 = 512\n",
    "n_hidden3 = 512\n",
    "n_hidden4 = 512\n",
    "n_output = 10"
   ]
  },
  {
   "cell_type": "code",
   "execution_count": 46,
   "id": "9587f03c-41d4-45ce-9453-001c21262b96",
   "metadata": {
    "collapsed": true,
    "jupyter": {
     "outputs_hidden": true
    },
    "tags": []
   },
   "outputs": [
    {
     "name": "stdout",
     "output_type": "stream",
     "text": [
      "Epoch 1/30\n",
      "469/469 - 5s - loss: 0.0346 - accuracy: 0.8126 - val_loss: 0.0256 - val_accuracy: 0.8431 - 5s/epoch - 11ms/step\n",
      "Epoch 2/30\n"
     ]
    },
    {
     "ename": "ResourceExhaustedError",
     "evalue": "Graph execution error:\n\nDetected at node 'sequential_5/dense_9/MatMul' defined at (most recent call last):\n    File \"C:\\Users\\user\\miniconda3\\lib\\runpy.py\", line 197, in _run_module_as_main\n      return _run_code(code, main_globals, None,\n    File \"C:\\Users\\user\\miniconda3\\lib\\runpy.py\", line 87, in _run_code\n      exec(code, run_globals)\n    File \"C:\\Users\\user\\miniconda3\\lib\\site-packages\\ipykernel_launcher.py\", line 17, in <module>\n      app.launch_new_instance()\n    File \"C:\\Users\\user\\miniconda3\\lib\\site-packages\\traitlets\\config\\application.py\", line 976, in launch_instance\n      app.start()\n    File \"C:\\Users\\user\\miniconda3\\lib\\site-packages\\ipykernel\\kernelapp.py\", line 712, in start\n      self.io_loop.start()\n    File \"C:\\Users\\user\\miniconda3\\lib\\site-packages\\tornado\\platform\\asyncio.py\", line 215, in start\n      self.asyncio_loop.run_forever()\n    File \"C:\\Users\\user\\miniconda3\\lib\\asyncio\\base_events.py\", line 601, in run_forever\n      self._run_once()\n    File \"C:\\Users\\user\\miniconda3\\lib\\asyncio\\base_events.py\", line 1905, in _run_once\n      handle._run()\n    File \"C:\\Users\\user\\miniconda3\\lib\\asyncio\\events.py\", line 80, in _run\n      self._context.run(self._callback, *self._args)\n    File \"C:\\Users\\user\\miniconda3\\lib\\site-packages\\ipykernel\\kernelbase.py\", line 510, in dispatch_queue\n      await self.process_one()\n    File \"C:\\Users\\user\\miniconda3\\lib\\site-packages\\ipykernel\\kernelbase.py\", line 499, in process_one\n      await dispatch(*args)\n    File \"C:\\Users\\user\\miniconda3\\lib\\site-packages\\ipykernel\\kernelbase.py\", line 406, in dispatch_shell\n      await result\n    File \"C:\\Users\\user\\miniconda3\\lib\\site-packages\\ipykernel\\kernelbase.py\", line 730, in execute_request\n      reply_content = await reply_content\n    File \"C:\\Users\\user\\miniconda3\\lib\\site-packages\\ipykernel\\ipkernel.py\", line 383, in do_execute\n      res = shell.run_cell(\n    File \"C:\\Users\\user\\miniconda3\\lib\\site-packages\\ipykernel\\zmqshell.py\", line 528, in run_cell\n      return super().run_cell(*args, **kwargs)\n    File \"C:\\Users\\user\\miniconda3\\lib\\site-packages\\IPython\\core\\interactiveshell.py\", line 2881, in run_cell\n      result = self._run_cell(\n    File \"C:\\Users\\user\\miniconda3\\lib\\site-packages\\IPython\\core\\interactiveshell.py\", line 2936, in _run_cell\n      return runner(coro)\n    File \"C:\\Users\\user\\miniconda3\\lib\\site-packages\\IPython\\core\\async_helpers.py\", line 129, in _pseudo_sync_runner\n      coro.send(None)\n    File \"C:\\Users\\user\\miniconda3\\lib\\site-packages\\IPython\\core\\interactiveshell.py\", line 3135, in run_cell_async\n      has_raised = await self.run_ast_nodes(code_ast.body, cell_name,\n    File \"C:\\Users\\user\\miniconda3\\lib\\site-packages\\IPython\\core\\interactiveshell.py\", line 3338, in run_ast_nodes\n      if await self.run_code(code, result, async_=asy):\n    File \"C:\\Users\\user\\miniconda3\\lib\\site-packages\\IPython\\core\\interactiveshell.py\", line 3398, in run_code\n      exec(code_obj, self.user_global_ns, self.user_ns)\n    File \"C:\\Users\\user\\AppData\\Local\\Temp\\ipykernel_21184\\1202426558.py\", line 16, in <cell line: 16>\n      hist = mlp.fit(x_train,y_train, batch_size=128,epochs=30,validation_data=(x_test,y_test),\n    File \"C:\\Users\\user\\miniconda3\\lib\\site-packages\\keras\\utils\\traceback_utils.py\", line 65, in error_handler\n      return fn(*args, **kwargs)\n    File \"C:\\Users\\user\\miniconda3\\lib\\site-packages\\keras\\engine\\training.py\", line 1564, in fit\n      tmp_logs = self.train_function(iterator)\n    File \"C:\\Users\\user\\miniconda3\\lib\\site-packages\\keras\\engine\\training.py\", line 1160, in train_function\n      return step_function(self, iterator)\n    File \"C:\\Users\\user\\miniconda3\\lib\\site-packages\\keras\\engine\\training.py\", line 1146, in step_function\n      outputs = model.distribute_strategy.run(run_step, args=(data,))\n    File \"C:\\Users\\user\\miniconda3\\lib\\site-packages\\keras\\engine\\training.py\", line 1135, in run_step\n      outputs = model.train_step(data)\n    File \"C:\\Users\\user\\miniconda3\\lib\\site-packages\\keras\\engine\\training.py\", line 993, in train_step\n      y_pred = self(x, training=True)\n    File \"C:\\Users\\user\\miniconda3\\lib\\site-packages\\keras\\utils\\traceback_utils.py\", line 65, in error_handler\n      return fn(*args, **kwargs)\n    File \"C:\\Users\\user\\miniconda3\\lib\\site-packages\\keras\\engine\\training.py\", line 557, in __call__\n      return super().__call__(*args, **kwargs)\n    File \"C:\\Users\\user\\miniconda3\\lib\\site-packages\\keras\\utils\\traceback_utils.py\", line 65, in error_handler\n      return fn(*args, **kwargs)\n    File \"C:\\Users\\user\\miniconda3\\lib\\site-packages\\keras\\engine\\base_layer.py\", line 1097, in __call__\n      outputs = call_fn(inputs, *args, **kwargs)\n    File \"C:\\Users\\user\\miniconda3\\lib\\site-packages\\keras\\utils\\traceback_utils.py\", line 96, in error_handler\n      return fn(*args, **kwargs)\n    File \"C:\\Users\\user\\miniconda3\\lib\\site-packages\\keras\\engine\\sequential.py\", line 410, in call\n      return super().call(inputs, training=training, mask=mask)\n    File \"C:\\Users\\user\\miniconda3\\lib\\site-packages\\keras\\engine\\functional.py\", line 510, in call\n      return self._run_internal_graph(inputs, training=training, mask=mask)\n    File \"C:\\Users\\user\\miniconda3\\lib\\site-packages\\keras\\engine\\functional.py\", line 667, in _run_internal_graph\n      outputs = node.layer(*args, **kwargs)\n    File \"C:\\Users\\user\\miniconda3\\lib\\site-packages\\keras\\utils\\traceback_utils.py\", line 65, in error_handler\n      return fn(*args, **kwargs)\n    File \"C:\\Users\\user\\miniconda3\\lib\\site-packages\\keras\\engine\\base_layer.py\", line 1097, in __call__\n      outputs = call_fn(inputs, *args, **kwargs)\n    File \"C:\\Users\\user\\miniconda3\\lib\\site-packages\\keras\\utils\\traceback_utils.py\", line 96, in error_handler\n      return fn(*args, **kwargs)\n    File \"C:\\Users\\user\\miniconda3\\lib\\site-packages\\keras\\layers\\core\\dense.py\", line 241, in call\n      outputs = tf.matmul(a=inputs, b=self.kernel)\nNode: 'sequential_5/dense_9/MatMul'\nOOM when allocating tensor with shape[128,512] and type float on /job:localhost/replica:0/task:0/device:GPU:0 by allocator GPU_0_bfc\n\t [[{{node sequential_5/dense_9/MatMul}}]]\nHint: If you want to see a list of allocated tensors when OOM happens, add report_tensor_allocations_upon_oom to RunOptions for current allocation info. This isn't available when running in Eager mode.\n [Op:__inference_train_function_169342]",
     "output_type": "error",
     "traceback": [
      "\u001b[1;31m---------------------------------------------------------------------------\u001b[0m",
      "\u001b[1;31mResourceExhaustedError\u001b[0m                    Traceback (most recent call last)",
      "Input \u001b[1;32mIn [46]\u001b[0m, in \u001b[0;36m<cell line: 16>\u001b[1;34m()\u001b[0m\n\u001b[0;32m     12\u001b[0m mlp\u001b[38;5;241m.\u001b[39madd(Dense(n_output,activation\u001b[38;5;241m=\u001b[39m\u001b[38;5;124m'\u001b[39m\u001b[38;5;124mtanh\u001b[39m\u001b[38;5;124m'\u001b[39m\n\u001b[0;32m     13\u001b[0m               ,kernel_initializer\u001b[38;5;241m=\u001b[39m\u001b[38;5;124m'\u001b[39m\u001b[38;5;124mrandom_uniform\u001b[39m\u001b[38;5;124m'\u001b[39m, bias_initializer\u001b[38;5;241m=\u001b[39m\u001b[38;5;124m'\u001b[39m\u001b[38;5;124mzeros\u001b[39m\u001b[38;5;124m'\u001b[39m))\n\u001b[0;32m     14\u001b[0m mlp\u001b[38;5;241m.\u001b[39mcompile(loss\u001b[38;5;241m=\u001b[39m\u001b[38;5;124m'\u001b[39m\u001b[38;5;124mmean_squared_error\u001b[39m\u001b[38;5;124m'\u001b[39m , optimizer \u001b[38;5;241m=\u001b[39m Adam(learning_rate\u001b[38;5;241m=\u001b[39m\u001b[38;5;241m0.001\u001b[39m),metrics\u001b[38;5;241m=\u001b[39m[\u001b[38;5;124m'\u001b[39m\u001b[38;5;124maccuracy\u001b[39m\u001b[38;5;124m'\u001b[39m])\n\u001b[1;32m---> 16\u001b[0m hist \u001b[38;5;241m=\u001b[39m \u001b[43mmlp\u001b[49m\u001b[38;5;241;43m.\u001b[39;49m\u001b[43mfit\u001b[49m\u001b[43m(\u001b[49m\u001b[43mx_train\u001b[49m\u001b[43m,\u001b[49m\u001b[43my_train\u001b[49m\u001b[43m,\u001b[49m\u001b[43m \u001b[49m\u001b[43mbatch_size\u001b[49m\u001b[38;5;241;43m=\u001b[39;49m\u001b[38;5;241;43m128\u001b[39;49m\u001b[43m,\u001b[49m\u001b[43mepochs\u001b[49m\u001b[38;5;241;43m=\u001b[39;49m\u001b[38;5;241;43m30\u001b[39;49m\u001b[43m,\u001b[49m\u001b[43mvalidation_data\u001b[49m\u001b[38;5;241;43m=\u001b[39;49m\u001b[43m(\u001b[49m\u001b[43mx_test\u001b[49m\u001b[43m,\u001b[49m\u001b[43my_test\u001b[49m\u001b[43m)\u001b[49m\u001b[43m,\u001b[49m\n\u001b[0;32m     17\u001b[0m \u001b[43m        \u001b[49m\u001b[43mverbose\u001b[49m\u001b[38;5;241;43m=\u001b[39;49m\u001b[38;5;241;43m2\u001b[39;49m\u001b[43m)\u001b[49m\n",
      "File \u001b[1;32m~\\miniconda3\\lib\\site-packages\\keras\\utils\\traceback_utils.py:70\u001b[0m, in \u001b[0;36mfilter_traceback.<locals>.error_handler\u001b[1;34m(*args, **kwargs)\u001b[0m\n\u001b[0;32m     67\u001b[0m     filtered_tb \u001b[38;5;241m=\u001b[39m _process_traceback_frames(e\u001b[38;5;241m.\u001b[39m__traceback__)\n\u001b[0;32m     68\u001b[0m     \u001b[38;5;66;03m# To get the full stack trace, call:\u001b[39;00m\n\u001b[0;32m     69\u001b[0m     \u001b[38;5;66;03m# `tf.debugging.disable_traceback_filtering()`\u001b[39;00m\n\u001b[1;32m---> 70\u001b[0m     \u001b[38;5;28;01mraise\u001b[39;00m e\u001b[38;5;241m.\u001b[39mwith_traceback(filtered_tb) \u001b[38;5;28;01mfrom\u001b[39;00m \u001b[38;5;28mNone\u001b[39m\n\u001b[0;32m     71\u001b[0m \u001b[38;5;28;01mfinally\u001b[39;00m:\n\u001b[0;32m     72\u001b[0m     \u001b[38;5;28;01mdel\u001b[39;00m filtered_tb\n",
      "File \u001b[1;32m~\\miniconda3\\lib\\site-packages\\tensorflow\\python\\eager\\execute.py:54\u001b[0m, in \u001b[0;36mquick_execute\u001b[1;34m(op_name, num_outputs, inputs, attrs, ctx, name)\u001b[0m\n\u001b[0;32m     52\u001b[0m \u001b[38;5;28;01mtry\u001b[39;00m:\n\u001b[0;32m     53\u001b[0m   ctx\u001b[38;5;241m.\u001b[39mensure_initialized()\n\u001b[1;32m---> 54\u001b[0m   tensors \u001b[38;5;241m=\u001b[39m pywrap_tfe\u001b[38;5;241m.\u001b[39mTFE_Py_Execute(ctx\u001b[38;5;241m.\u001b[39m_handle, device_name, op_name,\n\u001b[0;32m     55\u001b[0m                                       inputs, attrs, num_outputs)\n\u001b[0;32m     56\u001b[0m \u001b[38;5;28;01mexcept\u001b[39;00m core\u001b[38;5;241m.\u001b[39m_NotOkStatusException \u001b[38;5;28;01mas\u001b[39;00m e:\n\u001b[0;32m     57\u001b[0m   \u001b[38;5;28;01mif\u001b[39;00m name \u001b[38;5;129;01mis\u001b[39;00m \u001b[38;5;129;01mnot\u001b[39;00m \u001b[38;5;28;01mNone\u001b[39;00m:\n",
      "\u001b[1;31mResourceExhaustedError\u001b[0m: Graph execution error:\n\nDetected at node 'sequential_5/dense_9/MatMul' defined at (most recent call last):\n    File \"C:\\Users\\user\\miniconda3\\lib\\runpy.py\", line 197, in _run_module_as_main\n      return _run_code(code, main_globals, None,\n    File \"C:\\Users\\user\\miniconda3\\lib\\runpy.py\", line 87, in _run_code\n      exec(code, run_globals)\n    File \"C:\\Users\\user\\miniconda3\\lib\\site-packages\\ipykernel_launcher.py\", line 17, in <module>\n      app.launch_new_instance()\n    File \"C:\\Users\\user\\miniconda3\\lib\\site-packages\\traitlets\\config\\application.py\", line 976, in launch_instance\n      app.start()\n    File \"C:\\Users\\user\\miniconda3\\lib\\site-packages\\ipykernel\\kernelapp.py\", line 712, in start\n      self.io_loop.start()\n    File \"C:\\Users\\user\\miniconda3\\lib\\site-packages\\tornado\\platform\\asyncio.py\", line 215, in start\n      self.asyncio_loop.run_forever()\n    File \"C:\\Users\\user\\miniconda3\\lib\\asyncio\\base_events.py\", line 601, in run_forever\n      self._run_once()\n    File \"C:\\Users\\user\\miniconda3\\lib\\asyncio\\base_events.py\", line 1905, in _run_once\n      handle._run()\n    File \"C:\\Users\\user\\miniconda3\\lib\\asyncio\\events.py\", line 80, in _run\n      self._context.run(self._callback, *self._args)\n    File \"C:\\Users\\user\\miniconda3\\lib\\site-packages\\ipykernel\\kernelbase.py\", line 510, in dispatch_queue\n      await self.process_one()\n    File \"C:\\Users\\user\\miniconda3\\lib\\site-packages\\ipykernel\\kernelbase.py\", line 499, in process_one\n      await dispatch(*args)\n    File \"C:\\Users\\user\\miniconda3\\lib\\site-packages\\ipykernel\\kernelbase.py\", line 406, in dispatch_shell\n      await result\n    File \"C:\\Users\\user\\miniconda3\\lib\\site-packages\\ipykernel\\kernelbase.py\", line 730, in execute_request\n      reply_content = await reply_content\n    File \"C:\\Users\\user\\miniconda3\\lib\\site-packages\\ipykernel\\ipkernel.py\", line 383, in do_execute\n      res = shell.run_cell(\n    File \"C:\\Users\\user\\miniconda3\\lib\\site-packages\\ipykernel\\zmqshell.py\", line 528, in run_cell\n      return super().run_cell(*args, **kwargs)\n    File \"C:\\Users\\user\\miniconda3\\lib\\site-packages\\IPython\\core\\interactiveshell.py\", line 2881, in run_cell\n      result = self._run_cell(\n    File \"C:\\Users\\user\\miniconda3\\lib\\site-packages\\IPython\\core\\interactiveshell.py\", line 2936, in _run_cell\n      return runner(coro)\n    File \"C:\\Users\\user\\miniconda3\\lib\\site-packages\\IPython\\core\\async_helpers.py\", line 129, in _pseudo_sync_runner\n      coro.send(None)\n    File \"C:\\Users\\user\\miniconda3\\lib\\site-packages\\IPython\\core\\interactiveshell.py\", line 3135, in run_cell_async\n      has_raised = await self.run_ast_nodes(code_ast.body, cell_name,\n    File \"C:\\Users\\user\\miniconda3\\lib\\site-packages\\IPython\\core\\interactiveshell.py\", line 3338, in run_ast_nodes\n      if await self.run_code(code, result, async_=asy):\n    File \"C:\\Users\\user\\miniconda3\\lib\\site-packages\\IPython\\core\\interactiveshell.py\", line 3398, in run_code\n      exec(code_obj, self.user_global_ns, self.user_ns)\n    File \"C:\\Users\\user\\AppData\\Local\\Temp\\ipykernel_21184\\1202426558.py\", line 16, in <cell line: 16>\n      hist = mlp.fit(x_train,y_train, batch_size=128,epochs=30,validation_data=(x_test,y_test),\n    File \"C:\\Users\\user\\miniconda3\\lib\\site-packages\\keras\\utils\\traceback_utils.py\", line 65, in error_handler\n      return fn(*args, **kwargs)\n    File \"C:\\Users\\user\\miniconda3\\lib\\site-packages\\keras\\engine\\training.py\", line 1564, in fit\n      tmp_logs = self.train_function(iterator)\n    File \"C:\\Users\\user\\miniconda3\\lib\\site-packages\\keras\\engine\\training.py\", line 1160, in train_function\n      return step_function(self, iterator)\n    File \"C:\\Users\\user\\miniconda3\\lib\\site-packages\\keras\\engine\\training.py\", line 1146, in step_function\n      outputs = model.distribute_strategy.run(run_step, args=(data,))\n    File \"C:\\Users\\user\\miniconda3\\lib\\site-packages\\keras\\engine\\training.py\", line 1135, in run_step\n      outputs = model.train_step(data)\n    File \"C:\\Users\\user\\miniconda3\\lib\\site-packages\\keras\\engine\\training.py\", line 993, in train_step\n      y_pred = self(x, training=True)\n    File \"C:\\Users\\user\\miniconda3\\lib\\site-packages\\keras\\utils\\traceback_utils.py\", line 65, in error_handler\n      return fn(*args, **kwargs)\n    File \"C:\\Users\\user\\miniconda3\\lib\\site-packages\\keras\\engine\\training.py\", line 557, in __call__\n      return super().__call__(*args, **kwargs)\n    File \"C:\\Users\\user\\miniconda3\\lib\\site-packages\\keras\\utils\\traceback_utils.py\", line 65, in error_handler\n      return fn(*args, **kwargs)\n    File \"C:\\Users\\user\\miniconda3\\lib\\site-packages\\keras\\engine\\base_layer.py\", line 1097, in __call__\n      outputs = call_fn(inputs, *args, **kwargs)\n    File \"C:\\Users\\user\\miniconda3\\lib\\site-packages\\keras\\utils\\traceback_utils.py\", line 96, in error_handler\n      return fn(*args, **kwargs)\n    File \"C:\\Users\\user\\miniconda3\\lib\\site-packages\\keras\\engine\\sequential.py\", line 410, in call\n      return super().call(inputs, training=training, mask=mask)\n    File \"C:\\Users\\user\\miniconda3\\lib\\site-packages\\keras\\engine\\functional.py\", line 510, in call\n      return self._run_internal_graph(inputs, training=training, mask=mask)\n    File \"C:\\Users\\user\\miniconda3\\lib\\site-packages\\keras\\engine\\functional.py\", line 667, in _run_internal_graph\n      outputs = node.layer(*args, **kwargs)\n    File \"C:\\Users\\user\\miniconda3\\lib\\site-packages\\keras\\utils\\traceback_utils.py\", line 65, in error_handler\n      return fn(*args, **kwargs)\n    File \"C:\\Users\\user\\miniconda3\\lib\\site-packages\\keras\\engine\\base_layer.py\", line 1097, in __call__\n      outputs = call_fn(inputs, *args, **kwargs)\n    File \"C:\\Users\\user\\miniconda3\\lib\\site-packages\\keras\\utils\\traceback_utils.py\", line 96, in error_handler\n      return fn(*args, **kwargs)\n    File \"C:\\Users\\user\\miniconda3\\lib\\site-packages\\keras\\layers\\core\\dense.py\", line 241, in call\n      outputs = tf.matmul(a=inputs, b=self.kernel)\nNode: 'sequential_5/dense_9/MatMul'\nOOM when allocating tensor with shape[128,512] and type float on /job:localhost/replica:0/task:0/device:GPU:0 by allocator GPU_0_bfc\n\t [[{{node sequential_5/dense_9/MatMul}}]]\nHint: If you want to see a list of allocated tensors when OOM happens, add report_tensor_allocations_upon_oom to RunOptions for current allocation info. This isn't available when running in Eager mode.\n [Op:__inference_train_function_169342]"
     ]
    }
   ],
   "source": [
    "# 신경망 구조 설계\n",
    "# deep multi-layer perceptron\n",
    "mlp = Sequential()\n",
    "mlp.add(Dense(n_hidden1, activation='tanh', input_shape = (n_input,)\n",
    "              ,kernel_initializer='random_uniform', bias_initializer='zeros'))\n",
    "mlp.add(Dense(n_hidden2,activation='tanh'\n",
    "              ,kernel_initializer='random_uniform', bias_initializer='zeros'))\n",
    "mlp.add(Dense(n_hidden3,activation='tanh'\n",
    "              ,kernel_initializer='random_uniform', bias_initializer='zeros'))\n",
    "mlp.add(Dense(n_hidden4,activation='tanh'\n",
    "              ,kernel_initializer='random_uniform', bias_initializer='zeros'))\n",
    "mlp.add(Dense(n_output,activation='tanh'\n",
    "              ,kernel_initializer='random_uniform', bias_initializer='zeros'))\n",
    "mlp.compile(loss='mean_squared_error' , optimizer = Adam(learning_rate=0.001),metrics=['accuracy'])\n",
    "\n",
    "hist = mlp.fit(x_train,y_train, batch_size=128,epochs=30,validation_data=(x_test,y_test),\n",
    "        verbose=2)"
   ]
  },
  {
   "cell_type": "code",
   "execution_count": null,
   "id": "11296f13-65be-4a91-af0c-db92667377f3",
   "metadata": {},
   "outputs": [],
   "source": [
    "# 학습곡선 시각화 - epoch를 늘리면 추가 개선사항이 있는지와 과적합여부 및 최적의 epoch수를 찾기\n",
    "import matplotlib.pyplot as plt\n",
    "# 정확률\n",
    "plt.figure(figsize=(15,5))\n",
    "ax1 = plt.subplot(1,2,1)\n",
    "ax2 = plt.subplot(1,2,2)\n",
    "ax1.plot(hist.history['accuracy'],label = 'Accuray')\n",
    "ax1.plot(hist.history['val_accuracy'], label = 'val_accuracy')\n",
    "ax1.legend()\n",
    "# 손실률\n",
    "ax2.plot(hist.history['loss'],label = 'loss')\n",
    "ax2.plot(hist.history['val_loss'], label = 'val_loss')\n",
    "ax2.legend()\n",
    "plt.show()"
   ]
  },
  {
   "cell_type": "code",
   "execution_count": 47,
   "id": "6796ad77-2109-4dbf-a89a-bc0d9d476c3f",
   "metadata": {},
   "outputs": [],
   "source": [
    "# 동일조건에서는 깊은 다층 퍼셉트론이 우수한 성능을 보인다."
   ]
  },
  {
   "cell_type": "code",
   "execution_count": 48,
   "id": "93269eec-1647-4198-9767-3972322e2a74",
   "metadata": {},
   "outputs": [],
   "source": [
    "# glorot_uniform --> Glorot2010 논문 -> 텐서플로계열에서 이걸 알고리즘으로 구현해서 제공"
   ]
  },
  {
   "cell_type": "code",
   "execution_count": 49,
   "id": "26a11138-ae8c-423a-8502-aff3bdeff131",
   "metadata": {},
   "outputs": [],
   "source": [
    "# glorot_uniform 방식이 random_uniform으로 생성한 가중치 초기화 값보다 성능이 우수..... 앞으로는 생략해서 사용"
   ]
  },
  {
   "cell_type": "code",
   "execution_count": 50,
   "id": "fd2469cb-107f-4187-9d32-874998c3cc60",
   "metadata": {},
   "outputs": [],
   "source": [
    "# 그레이디언트 소멸 문제\n",
    "# 깊이가 10이고 모든 층의 그레이디언트가 0.01라고 하면 층을 지날때마다 0.01 x 0.01 x 0.01 x 0.01 == 0.0000000 ...1 \n",
    "# 층이 깊어질수록 가중치 갱신이 일어나지 않거나.. 학습이 매우느려져서.. 학습을 계속해도 .....\n",
    "# 해결..  병렬로 gpu를 사용 코렙.. 병렬.. TPU를 제공"
   ]
  },
  {
   "cell_type": "code",
   "execution_count": 51,
   "id": "50c93b54-abf8-4a46-bce2-e2f182594eb3",
   "metadata": {},
   "outputs": [],
   "source": [
    "# 식 5.3 에서 s에 활성함수 T를 적용할때.. T 가 시그모이드면 s의 값이 클때 그레이디언트는 아주 작다.\n",
    "# 대략 s가 5보다 크면.. 0에 가깝고 \n",
    "# tanh 시그모이드 s = 8이면 그레이디언트는 0.0000000 ~~\n",
    "# 그레이디언트 소멸문제를 해결... ReLu 함수  s가 양수일때 1이고 음수일때는 0  -> 소멸가능성이 낮고.. -> 활성화 함수에서 Relu를 사용"
   ]
  },
  {
   "attachments": {
    "2cc7a3e8-128c-4039-96be-d9131b7ff38f.JPG": {
     "image/jpeg": "[encoded data removed]"
    }
   },
   "cell_type": "markdown",
   "id": "3fff012a-7b1c-4caf-8c5c-510e5ba8c93f",
   "metadata": {},
   "source": [
    "![5.10.JPG](attachment:2cc7a3e8-128c-4039-96be-d9131b7ff38f.JPG)"
   ]
  },
  {
   "cell_type": "code",
   "execution_count": null,
   "id": "1d6cfecf-4441-4e7a-b010-5f8705535f57",
   "metadata": {},
   "outputs": [],
   "source": []
  }
 ],
 "metadata": {
  "kernelspec": {
   "display_name": "Python 3 (ipykernel)",
   "language": "python",
   "name": "python3"
  },
  "language_info": {
   "codemirror_mode": {
    "name": "ipython",
    "version": 3
   },
   "file_extension": ".py",
   "mimetype": "text/x-python",
   "name": "python",
   "nbconvert_exporter": "python",
   "pygments_lexer": "ipython3",
   "version": "3.9.12"
  }
 },
 "nbformat": 4,
 "nbformat_minor": 5
}

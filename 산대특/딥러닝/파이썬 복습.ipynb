{
 "cells": [
  {
   "cell_type": "code",
   "execution_count": 107,
   "id": "055a98b0",
   "metadata": {},
   "outputs": [
    {
     "data": {
      "text/plain": [
       "[2, 3, 4]"
      ]
     },
     "execution_count": 107,
     "metadata": {},
     "output_type": "execute_result"
    }
   ],
   "source": [
    "# 람다\n",
    "add_one_lambda = []\n",
    "add_func = lambda x: add_one_lambda.append(x+1)\n",
    "for x  in [1,2,3]:\n",
    "    add_func(x)\n",
    "add_one_lambda    "
   ]
  },
  {
   "cell_type": "code",
   "execution_count": 108,
   "id": "12464f34",
   "metadata": {},
   "outputs": [
    {
     "data": {
      "text/plain": [
       "5"
      ]
     },
     "execution_count": 108,
     "metadata": {},
     "output_type": "execute_result"
    }
   ],
   "source": [
    "# 두개의 값을 입력받아서 뎃셈을 하는 람다 함수를 정의\n",
    "add_fun = lambda x,y : x+y\n",
    "add_fun(2,3)"
   ]
  },
  {
   "cell_type": "code",
   "execution_count": 109,
   "id": "f9936efc",
   "metadata": {},
   "outputs": [],
   "source": [
    "def add_fun2(x,y):\n",
    "    return x+y"
   ]
  },
  {
   "cell_type": "code",
   "execution_count": 110,
   "id": "5afb86d0",
   "metadata": {},
   "outputs": [],
   "source": [
    "# enumerate 함수\n",
    "from random import sample"
   ]
  },
  {
   "cell_type": "code",
   "execution_count": 111,
   "id": "efce097d",
   "metadata": {},
   "outputs": [],
   "source": [
    "samplelist = sample(range(100),10)"
   ]
  },
  {
   "cell_type": "code",
   "execution_count": 112,
   "id": "9d9f2b06",
   "metadata": {},
   "outputs": [],
   "source": [
    "# 인덱스: 00   값 : 00\n",
    "# 인덱스: 00   값 : 00\n",
    "# 인덱스: 00   값 : 00\n",
    "# 인덱스: 00   값 : 00"
   ]
  },
  {
   "cell_type": "code",
   "execution_count": 113,
   "id": "f71bf0ba",
   "metadata": {},
   "outputs": [
    {
     "name": "stdout",
     "output_type": "stream",
     "text": [
      "45 0\n",
      "4 1\n",
      "78 2\n",
      "30 3\n",
      "96 4\n",
      "60 5\n",
      "80 6\n",
      "98 7\n",
      "93 8\n",
      "8 9\n"
     ]
    }
   ],
   "source": [
    "count = 0\n",
    "for i in samplelist:\n",
    "    print(i,count)\n",
    "    count += 1  "
   ]
  },
  {
   "cell_type": "code",
   "execution_count": 114,
   "id": "52f2c28b",
   "metadata": {},
   "outputs": [
    {
     "name": "stdout",
     "output_type": "stream",
     "text": [
      "인덱스:0  값:45\n",
      "인덱스:1  값:4\n",
      "인덱스:2  값:78\n",
      "인덱스:3  값:30\n",
      "인덱스:4  값:96\n",
      "인덱스:5  값:60\n",
      "인덱스:6  값:80\n",
      "인덱스:7  값:98\n",
      "인덱스:8  값:93\n",
      "인덱스:9  값:8\n"
     ]
    }
   ],
   "source": [
    "for idx,value in enumerate(samplelist):\n",
    "    print(f\"인덱스:{idx}  값:{value}\")"
   ]
  },
  {
   "cell_type": "code",
   "execution_count": 115,
   "id": "9358ab39",
   "metadata": {},
   "outputs": [],
   "source": [
    "# range 함수를 이용해서 객체를 만들고\n",
    "# list 함수를 이용해서 출력"
   ]
  },
  {
   "cell_type": "code",
   "execution_count": 116,
   "id": "8eab553e",
   "metadata": {},
   "outputs": [
    {
     "data": {
      "text/plain": [
       "135"
      ]
     },
     "execution_count": 116,
     "metadata": {},
     "output_type": "execute_result"
    }
   ],
   "source": [
    "# eval\n",
    "# 문자열을 입력받아서 파이썬 코드로 변환\n",
    "a = 10\n",
    "b = '125'\n",
    "a + eval(b)"
   ]
  },
  {
   "cell_type": "code",
   "execution_count": 117,
   "id": "6e8ed2a8",
   "metadata": {},
   "outputs": [
    {
     "name": "stdout",
     "output_type": "stream",
     "text": [
      "랜덤한 숫자:[82, 43, 70, 39, 40, 27, 55, 78, 74, 89]\n"
     ]
    }
   ],
   "source": [
    "samplelist = sample(range(100),10)\n",
    "print(f\"랜덤한 숫자:{samplelist}\")"
   ]
  },
  {
   "cell_type": "code",
   "execution_count": 118,
   "id": "d8442ebf",
   "metadata": {},
   "outputs": [
    {
     "data": {
      "text/plain": [
       "'print(f\"랜덤한 숫자:{samplelist}\")'"
      ]
     },
     "execution_count": 118,
     "metadata": {},
     "output_type": "execute_result"
    }
   ],
   "source": [
    "'print(f\"랜덤한 숫자:{samplelist}\")'"
   ]
  },
  {
   "cell_type": "code",
   "execution_count": 119,
   "id": "7b328202",
   "metadata": {},
   "outputs": [
    {
     "name": "stdout",
     "output_type": "stream",
     "text": [
      "랜덤한 숫자:[82, 43, 70, 39, 40, 27, 55, 78, 74, 89]\n"
     ]
    }
   ],
   "source": [
    "eval('print(f\"랜덤한 숫자:{samplelist}\")')"
   ]
  },
  {
   "cell_type": "code",
   "execution_count": 120,
   "id": "8f053e27",
   "metadata": {},
   "outputs": [
    {
     "data": {
      "text/plain": [
       "[41, 21, 35, 19, 20, 13, 27, 39, 37, 44]"
      ]
     },
     "execution_count": 120,
     "metadata": {},
     "output_type": "execute_result"
    }
   ],
   "source": [
    "list(map(lambda x: x+1, samplelist))  ## 각원소에 1씩 더한 결과를\n",
    "list(map(lambda x: x//2, samplelist))  #  각원소를 2로 나눈 몫을 결과로 "
   ]
  },
  {
   "cell_type": "code",
   "execution_count": 121,
   "id": "65e40b2e",
   "metadata": {},
   "outputs": [
    {
     "data": {
      "text/plain": [
       "[82, 70, 40, 78, 74]"
      ]
     },
     "execution_count": 121,
     "metadata": {},
     "output_type": "execute_result"
    }
   ],
   "source": [
    "# filter 함수\n",
    "# map 반복가능한 여러 원소를 자료형과 각원소를 입력받을수 있는 함수를 매개변수로 입력\n",
    "# samplelist 짝수만 추려\n",
    "def findEven(x):\n",
    "    return x%2 == 0\n",
    "list(filter(findEven,samplelist))"
   ]
  },
  {
   "cell_type": "code",
   "execution_count": 122,
   "id": "6d2e026c",
   "metadata": {},
   "outputs": [
    {
     "data": {
      "text/plain": [
       "[82, 70, 40, 78, 74]"
      ]
     },
     "execution_count": 122,
     "metadata": {},
     "output_type": "execute_result"
    }
   ],
   "source": [
    "# 위의 식을 람다로 변경\n",
    "list(filter(lambda x: x%2==0,samplelist))"
   ]
  },
  {
   "cell_type": "code",
   "execution_count": 123,
   "id": "422ab82b",
   "metadata": {},
   "outputs": [],
   "source": [
    "# reversed"
   ]
  },
  {
   "cell_type": "code",
   "execution_count": 124,
   "id": "ee2d8ac4",
   "metadata": {},
   "outputs": [
    {
     "data": {
      "text/plain": [
       "[89, 74, 78, 55, 27, 40, 39, 70, 43, 82]"
      ]
     },
     "execution_count": 124,
     "metadata": {},
     "output_type": "execute_result"
    }
   ],
   "source": [
    "list(reversed( samplelist))"
   ]
  },
  {
   "cell_type": "code",
   "execution_count": 125,
   "id": "a3ebbb52",
   "metadata": {},
   "outputs": [],
   "source": [
    "# sorted 함수\n",
    "# 오름차순?\n",
    "# 반대로...\n"
   ]
  },
  {
   "cell_type": "code",
   "execution_count": 126,
   "id": "b4fa89b4",
   "metadata": {},
   "outputs": [
    {
     "data": {
      "text/plain": [
       "[89, 82, 78, 74, 70, 55, 43, 40, 39, 27]"
      ]
     },
     "execution_count": 126,
     "metadata": {},
     "output_type": "execute_result"
    }
   ],
   "source": [
    "list(reversed(sorted(samplelist)))"
   ]
  },
  {
   "cell_type": "code",
   "execution_count": 127,
   "id": "42215f5e",
   "metadata": {},
   "outputs": [
    {
     "data": {
      "text/plain": [
       "[89, 82, 78, 74, 70, 55, 43, 40, 39, 27]"
      ]
     },
     "execution_count": 127,
     "metadata": {},
     "output_type": "execute_result"
    }
   ],
   "source": [
    "sorted(samplelist,reverse=True)"
   ]
  },
  {
   "cell_type": "code",
   "execution_count": 128,
   "id": "e77f3a6b",
   "metadata": {},
   "outputs": [
    {
     "name": "stdout",
     "output_type": "stream",
     "text": [
      "Help on built-in function sorted in module builtins:\n",
      "\n",
      "sorted(iterable, /, *, key=None, reverse=False)\n",
      "    Return a new list containing all items from the iterable in ascending order.\n",
      "    \n",
      "    A custom key function can be supplied to customize the sort order, and the\n",
      "    reverse flag can be set to request the result in descending order.\n",
      "\n"
     ]
    }
   ],
   "source": [
    "help(sorted)"
   ]
  },
  {
   "cell_type": "code",
   "execution_count": 129,
   "id": "1703fa78",
   "metadata": {},
   "outputs": [],
   "source": [
    "# 클래스\n",
    "class Calculator:    \n",
    "    def __init__(self,num1,num2):  # 생성자  객체가 생성될때 자동으로 호출\n",
    "        self.num1 = num1    # 초기화\n",
    "        self.num2 = num2    # 초기화\n",
    "        self.result = 0     # 초기화\n",
    "    def add(self):\n",
    "        self.result = self.num1 + self.num2\n",
    "        return self.result \n",
    "    def subtract(self):\n",
    "        self.result = self.num1 - self.num2\n",
    "        return self.result \n",
    "    def multiply(self):\n",
    "        self.result = self.num1 * self.num2\n",
    "        return self.result \n",
    "    def divide(self): # 적절하게 예외처리  0으로 나눌수 없음        \n",
    "        self.result = self.num1 / self.num2\n",
    "        return self.result     "
   ]
  },
  {
   "cell_type": "code",
   "execution_count": 130,
   "id": "ea881537",
   "metadata": {},
   "outputs": [],
   "source": [
    "# 객체생성\n",
    "a = Calculator(10,20)"
   ]
  },
  {
   "cell_type": "code",
   "execution_count": 131,
   "id": "aec7bfb8",
   "metadata": {},
   "outputs": [],
   "source": [
    "# a.add()"
   ]
  },
  {
   "cell_type": "code",
   "execution_count": 132,
   "id": "70e94634",
   "metadata": {},
   "outputs": [
    {
     "data": {
      "text/plain": [
       "0"
      ]
     },
     "execution_count": 132,
     "metadata": {},
     "output_type": "execute_result"
    }
   ],
   "source": [
    "a.result"
   ]
  },
  {
   "cell_type": "code",
   "execution_count": 133,
   "id": "cbc1a370",
   "metadata": {},
   "outputs": [],
   "source": [
    "# 엑셀 -- csv -> df"
   ]
  },
  {
   "cell_type": "code",
   "execution_count": 134,
   "id": "b9689dc7",
   "metadata": {},
   "outputs": [
    {
     "data": {
      "text/plain": [
       "'1.4.4'"
      ]
     },
     "execution_count": 134,
     "metadata": {},
     "output_type": "execute_result"
    }
   ],
   "source": [
    "import pandas as pd\n",
    "pd.__version__"
   ]
  },
  {
   "cell_type": "code",
   "execution_count": 135,
   "id": "b687c5a1",
   "metadata": {},
   "outputs": [
    {
     "data": {
      "text/plain": [
       "list"
      ]
     },
     "execution_count": 135,
     "metadata": {},
     "output_type": "execute_result"
    }
   ],
   "source": [
    "# 시리즈들의 집합\n",
    "data1 = ['a','b','c']\n",
    "type(data1)"
   ]
  },
  {
   "cell_type": "code",
   "execution_count": 136,
   "id": "a5f163d4",
   "metadata": {},
   "outputs": [
    {
     "data": {
      "text/plain": [
       "pandas.core.series.Series"
      ]
     },
     "execution_count": 136,
     "metadata": {},
     "output_type": "execute_result"
    }
   ],
   "source": [
    "# 시리즈로 변환\n",
    "sr1= pd.Series(data1)\n",
    "type(sr1)"
   ]
  },
  {
   "cell_type": "code",
   "execution_count": 137,
   "id": "191a04bf",
   "metadata": {},
   "outputs": [
    {
     "data": {
      "text/plain": [
       "0    a\n",
       "1    b\n",
       "2    c\n",
       "dtype: object"
      ]
     },
     "execution_count": 137,
     "metadata": {},
     "output_type": "execute_result"
    }
   ],
   "source": [
    "sr1 # 인덱스로 구성... 숫자  dtype object는 문자열"
   ]
  },
  {
   "cell_type": "code",
   "execution_count": 138,
   "id": "98a9c06d",
   "metadata": {},
   "outputs": [
    {
     "data": {
      "text/plain": [
       "'a'"
      ]
     },
     "execution_count": 138,
     "metadata": {},
     "output_type": "execute_result"
    }
   ],
   "source": [
    "# 원소를 추출... loc 인덱서  location 위치  원소 그래로\n",
    "sr1.loc[0]"
   ]
  },
  {
   "cell_type": "code",
   "execution_count": 139,
   "id": "dcad4fd7",
   "metadata": {},
   "outputs": [],
   "source": [
    "sr1.index = ['aaa','bbb','ccc']"
   ]
  },
  {
   "cell_type": "code",
   "execution_count": 140,
   "id": "b101a2b5",
   "metadata": {},
   "outputs": [
    {
     "data": {
      "text/plain": [
       "aaa    a\n",
       "bbb    b\n",
       "ccc    c\n",
       "dtype: object"
      ]
     },
     "execution_count": 140,
     "metadata": {},
     "output_type": "execute_result"
    }
   ],
   "source": [
    "sr1"
   ]
  },
  {
   "cell_type": "code",
   "execution_count": 141,
   "id": "8240e642",
   "metadata": {},
   "outputs": [
    {
     "data": {
      "text/plain": [
       "aaa    a\n",
       "bbb    b\n",
       "ccc    c\n",
       "dtype: object"
      ]
     },
     "execution_count": 141,
     "metadata": {},
     "output_type": "execute_result"
    }
   ],
   "source": [
    "sr1.loc['aaa':]"
   ]
  },
  {
   "cell_type": "code",
   "execution_count": 142,
   "id": "86ee415c",
   "metadata": {},
   "outputs": [
    {
     "data": {
      "text/plain": [
       "aaa    a\n",
       "bbb    b\n",
       "ccc    c\n",
       "dtype: object"
      ]
     },
     "execution_count": 142,
     "metadata": {},
     "output_type": "execute_result"
    }
   ],
   "source": [
    "sr1.iloc[0:]"
   ]
  },
  {
   "cell_type": "code",
   "execution_count": 143,
   "id": "3a676311",
   "metadata": {},
   "outputs": [
    {
     "data": {
      "text/html": [
       "<div>\n",
       "<style scoped>\n",
       "    .dataframe tbody tr th:only-of-type {\n",
       "        vertical-align: middle;\n",
       "    }\n",
       "\n",
       "    .dataframe tbody tr th {\n",
       "        vertical-align: top;\n",
       "    }\n",
       "\n",
       "    .dataframe thead th {\n",
       "        text-align: right;\n",
       "    }\n",
       "</style>\n",
       "<table border=\"1\" class=\"dataframe\">\n",
       "  <thead>\n",
       "    <tr style=\"text-align: right;\">\n",
       "      <th></th>\n",
       "      <th>c0</th>\n",
       "      <th>c2</th>\n",
       "    </tr>\n",
       "  </thead>\n",
       "  <tbody>\n",
       "    <tr>\n",
       "      <th>0</th>\n",
       "      <td>a</td>\n",
       "      <td>10</td>\n",
       "    </tr>\n",
       "    <tr>\n",
       "      <th>1</th>\n",
       "      <td>b</td>\n",
       "      <td>20</td>\n",
       "    </tr>\n",
       "    <tr>\n",
       "      <th>2</th>\n",
       "      <td>c</td>\n",
       "      <td>30</td>\n",
       "    </tr>\n",
       "  </tbody>\n",
       "</table>\n",
       "</div>"
      ],
      "text/plain": [
       "  c0  c2\n",
       "0  a  10\n",
       "1  b  20\n",
       "2  c  30"
      ]
     },
     "execution_count": 143,
     "metadata": {},
     "output_type": "execute_result"
    }
   ],
   "source": [
    "# 판다스 : 시리즈들의 집합\n",
    "sr2 = pd.Series([10,20,30])\n",
    "sr1 = pd.Series(['a','b','c'])\n",
    "dic_data = {'c0':sr1, 'c2':sr2}\n",
    "df =pd.DataFrame(dic_data)\n",
    "df"
   ]
  },
  {
   "cell_type": "code",
   "execution_count": 148,
   "id": "87f89e39",
   "metadata": {},
   "outputs": [
    {
     "data": {
      "text/html": [
       "<div>\n",
       "<style scoped>\n",
       "    .dataframe tbody tr th:only-of-type {\n",
       "        vertical-align: middle;\n",
       "    }\n",
       "\n",
       "    .dataframe tbody tr th {\n",
       "        vertical-align: top;\n",
       "    }\n",
       "\n",
       "    .dataframe thead th {\n",
       "        text-align: right;\n",
       "    }\n",
       "</style>\n",
       "<table border=\"1\" class=\"dataframe\">\n",
       "  <thead>\n",
       "    <tr style=\"text-align: right;\">\n",
       "      <th></th>\n",
       "      <th>string</th>\n",
       "      <th>number</th>\n",
       "    </tr>\n",
       "  </thead>\n",
       "  <tbody>\n",
       "    <tr>\n",
       "      <th>0</th>\n",
       "      <td>a</td>\n",
       "      <td>10</td>\n",
       "    </tr>\n",
       "    <tr>\n",
       "      <th>1</th>\n",
       "      <td>b</td>\n",
       "      <td>20</td>\n",
       "    </tr>\n",
       "    <tr>\n",
       "      <th>2</th>\n",
       "      <td>c</td>\n",
       "      <td>30</td>\n",
       "    </tr>\n",
       "  </tbody>\n",
       "</table>\n",
       "</div>"
      ],
      "text/plain": [
       "  string  number\n",
       "0      a      10\n",
       "1      b      20\n",
       "2      c      30"
      ]
     },
     "execution_count": 148,
     "metadata": {},
     "output_type": "execute_result"
    }
   ],
   "source": [
    "# 컬럼명을 추출\n",
    "df.columns\n",
    "# 컬럼명을 string, number 변경\n",
    "df.columns = ['string','number']\n",
    "df"
   ]
  },
  {
   "cell_type": "code",
   "execution_count": 145,
   "id": "fae2dc0f",
   "metadata": {},
   "outputs": [],
   "source": [
    "a = [1,5,4,8,1,2,3,1,7,9,1,2,3,1,10]\n",
    "b = [1,2,3,1]"
   ]
  },
  {
   "cell_type": "code",
   "execution_count": 146,
   "id": "17021f1b",
   "metadata": {},
   "outputs": [],
   "source": [
    "count = 0\n",
    "def findH(listData,count):        \n",
    "    for i in range(len(listData)-3):\n",
    "        if listData[i]==1 and listData[i+1] == 2 and  listData[i+2] ==3 and  listData[i+3] ==1:\n",
    "            result =  listData[:i] + listData[i+3+1:]\n",
    "#             print(result)\n",
    "            count += 1\n",
    "            return findH(result,count)            \n",
    "    return listData,count"
   ]
  },
  {
   "cell_type": "code",
   "execution_count": 147,
   "id": "aa2fe3b0",
   "metadata": {},
   "outputs": [
    {
     "data": {
      "text/plain": [
       "([2], 2)"
      ]
     },
     "execution_count": 147,
     "metadata": {},
     "output_type": "execute_result"
    }
   ],
   "source": [
    "a = [2, 1, 1, 2, 3, 1, 2, 3, 1]\n",
    "findH(a,0)"
   ]
  },
  {
   "cell_type": "code",
   "execution_count": 151,
   "id": "f13ced08",
   "metadata": {},
   "outputs": [
    {
     "data": {
      "text/plain": [
       "[0, 1, 2]"
      ]
     },
     "execution_count": 151,
     "metadata": {},
     "output_type": "execute_result"
    }
   ],
   "source": [
    "list(df.index)"
   ]
  },
  {
   "cell_type": "code",
   "execution_count": null,
   "id": "a6c62020",
   "metadata": {},
   "outputs": [],
   "source": [
    "# 인덱스를 변경... r0 r1 r2"
   ]
  },
  {
   "cell_type": "code",
   "execution_count": null,
   "id": "55a4093b",
   "metadata": {},
   "outputs": [],
   "source": [
    "# loc   - 20 \n",
    "# iloc   30"
   ]
  },
  {
   "cell_type": "code",
   "execution_count": 153,
   "id": "0cbd0432",
   "metadata": {},
   "outputs": [],
   "source": [
    "df.index = ['r0','r1','r2']"
   ]
  },
  {
   "cell_type": "code",
   "execution_count": 154,
   "id": "b2b637ba",
   "metadata": {},
   "outputs": [
    {
     "data": {
      "text/html": [
       "<div>\n",
       "<style scoped>\n",
       "    .dataframe tbody tr th:only-of-type {\n",
       "        vertical-align: middle;\n",
       "    }\n",
       "\n",
       "    .dataframe tbody tr th {\n",
       "        vertical-align: top;\n",
       "    }\n",
       "\n",
       "    .dataframe thead th {\n",
       "        text-align: right;\n",
       "    }\n",
       "</style>\n",
       "<table border=\"1\" class=\"dataframe\">\n",
       "  <thead>\n",
       "    <tr style=\"text-align: right;\">\n",
       "      <th></th>\n",
       "      <th>string</th>\n",
       "      <th>number</th>\n",
       "    </tr>\n",
       "  </thead>\n",
       "  <tbody>\n",
       "    <tr>\n",
       "      <th>r0</th>\n",
       "      <td>a</td>\n",
       "      <td>10</td>\n",
       "    </tr>\n",
       "    <tr>\n",
       "      <th>r1</th>\n",
       "      <td>b</td>\n",
       "      <td>20</td>\n",
       "    </tr>\n",
       "    <tr>\n",
       "      <th>r2</th>\n",
       "      <td>c</td>\n",
       "      <td>30</td>\n",
       "    </tr>\n",
       "  </tbody>\n",
       "</table>\n",
       "</div>"
      ],
      "text/plain": [
       "   string  number\n",
       "r0      a      10\n",
       "r1      b      20\n",
       "r2      c      30"
      ]
     },
     "execution_count": 154,
     "metadata": {},
     "output_type": "execute_result"
    }
   ],
   "source": [
    "df"
   ]
  },
  {
   "cell_type": "code",
   "execution_count": 155,
   "id": "dfbb395c",
   "metadata": {},
   "outputs": [
    {
     "data": {
      "text/plain": [
       "20"
      ]
     },
     "execution_count": 155,
     "metadata": {},
     "output_type": "execute_result"
    }
   ],
   "source": [
    "df.loc['r1','number']"
   ]
  },
  {
   "cell_type": "code",
   "execution_count": 156,
   "id": "865a3d35",
   "metadata": {},
   "outputs": [
    {
     "data": {
      "text/plain": [
       "20"
      ]
     },
     "execution_count": 156,
     "metadata": {},
     "output_type": "execute_result"
    }
   ],
   "source": [
    "df.iloc[1,1]"
   ]
  },
  {
   "cell_type": "code",
   "execution_count": null,
   "id": "d5365fab",
   "metadata": {},
   "outputs": [],
   "source": []
  },
  {
   "cell_type": "code",
   "execution_count": null,
   "id": "30586a5c",
   "metadata": {},
   "outputs": [],
   "source": []
  },
  {
   "cell_type": "code",
   "execution_count": null,
   "id": "f4c1f9ff",
   "metadata": {},
   "outputs": [],
   "source": []
  },
  {
   "cell_type": "code",
   "execution_count": null,
   "id": "1e2b0a2a",
   "metadata": {},
   "outputs": [],
   "source": []
  },
  {
   "cell_type": "code",
   "execution_count": null,
   "id": "5180fea4",
   "metadata": {},
   "outputs": [],
   "source": []
  },
  {
   "cell_type": "code",
   "execution_count": null,
   "id": "2ccf6728",
   "metadata": {},
   "outputs": [],
   "source": []
  },
  {
   "cell_type": "code",
   "execution_count": null,
   "id": "960e4d8e",
   "metadata": {},
   "outputs": [],
   "source": []
  },
  {
   "cell_type": "code",
   "execution_count": null,
   "id": "f94be780",
   "metadata": {},
   "outputs": [],
   "source": []
  }
 ],
 "metadata": {
  "kernelspec": {
   "display_name": "Python 3 (ipykernel)",
   "language": "python",
   "name": "python3"
  },
  "language_info": {
   "codemirror_mode": {
    "name": "ipython",
    "version": 3
   },
   "file_extension": ".py",
   "mimetype": "text/x-python",
   "name": "python",
   "nbconvert_exporter": "python",
   "pygments_lexer": "ipython3",
   "version": "3.9.12"
  }
 },
 "nbformat": 4,
 "nbformat_minor": 5
}

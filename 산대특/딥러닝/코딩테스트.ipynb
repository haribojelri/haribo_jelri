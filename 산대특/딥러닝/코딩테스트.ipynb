{
 "cells": [
  {
   "cell_type": "code",
   "execution_count": 1,
   "id": "ea2be6b2-72d7-4cb6-a45b-7358665f1381",
   "metadata": {},
   "outputs": [],
   "source": [
    "# participant\tcompletion\treturn\n",
    "# [\"leo\", \"kiki\", \"eden\"]\t[\"eden\", \"kiki\"]\t\"leo\"\n",
    "# [\"marina\", \"josipa\", \"nikola\", \"vinko\", \"filipa\"]\t[\"josipa\", \"filipa\", \"marina\", \"nikola\"]\t\"vinko\"\n",
    "# [\"mislav\", \"stanko\", \"mislav\", \"ana\"]\t[\"stanko\", \"ana\", \"mislav\"]\t\"mislav\""
   ]
  },
  {
   "cell_type": "code",
   "execution_count": 5,
   "id": "5af84abd-6551-4805-a89e-2cc432672903",
   "metadata": {},
   "outputs": [],
   "source": [
    "participant = [\"mislav\", \"stanko\", \"mislav\", \"ana\"]\n",
    "completion = [\"stanko\", \"ana\", \"mislav\"]"
   ]
  },
  {
   "cell_type": "code",
   "execution_count": 6,
   "id": "457197af-1969-4bd3-8ca1-f4a218118519",
   "metadata": {},
   "outputs": [],
   "source": [
    "dica = {}\n",
    "for data in participant:\n",
    "    if data in dica:\n",
    "        dica[data] += 1\n",
    "    else:\n",
    "        dica[data] = 1\n",
    "for data in completion:\n",
    "    if dica[data] == 1:\n",
    "        del dica[data]\n",
    "    else:\n",
    "        dica[data] -= 1\n",
    "list(dica.keys())[0]       "
   ]
  },
  {
   "cell_type": "code",
   "execution_count": 13,
   "id": "4b06860a-0f61-4263-a363-56a9be335f9e",
   "metadata": {},
   "outputs": [],
   "source": [
    "def solution(participant, completion):\n",
    "    answer = ''\n",
    "    dica = {}\n",
    "    for data in participant:\n",
    "        if data in dica:\n",
    "            dica[data] += 1\n",
    "        else:\n",
    "            dica[data] = 1\n",
    "    for data in completion:\n",
    "        if dica[data] == 1:\n",
    "            del dica[data]\n",
    "        else:\n",
    "            dica[data] -= 1\n",
    "    answer = list(dica.keys())[0]  \n",
    "    return answer"
   ]
  },
  {
   "cell_type": "code",
   "execution_count": 21,
   "id": "02473291-5d42-49b9-b0d9-22c5fa3524dd",
   "metadata": {},
   "outputs": [],
   "source": [
    "participant = [\"mislav\", \"stanko\", \"mislav\", \"ana\",'aaaaa']\n",
    "completion = [\"stanko\", \"ana\", \"mislav\"]\n",
    "\n",
    "setA = set(participant)\n",
    "setB = set(completion)"
   ]
  },
  {
   "cell_type": "code",
   "execution_count": 22,
   "id": "aba153fc-bc0b-4ec9-9b62-0326b3347ecb",
   "metadata": {},
   "outputs": [
    {
     "data": {
      "text/plain": [
       "['aaaaa']"
      ]
     },
     "execution_count": 22,
     "metadata": {},
     "output_type": "execute_result"
    }
   ],
   "source": [
    "list(setA - setB)"
   ]
  },
  {
   "cell_type": "code",
   "execution_count": 1,
   "id": "4af80bf2-45b6-4b46-862e-491cf615a85c",
   "metadata": {},
   "outputs": [],
   "source": [
    "# 약수구하기\n",
    "# from 이정규\n",
    "def solution1(left, right):\n",
    "    answer = 0\n",
    "    def y(num):\n",
    "        count = 0\n",
    "        for i in range(1, num+1):\n",
    "            if num%i == 0:\n",
    "                count += 1\n",
    "        return count\n",
    "    for i in range(left, right+1):\n",
    "        if y(i)%2 == 0:\n",
    "            answer += i\n",
    "        else:\n",
    "            answer -= i\n",
    "    return answer\n",
    "\n",
    "#from 송지석\n",
    "def solution2(left, right):\n",
    "    answer = 0\n",
    "    if left==1:\n",
    "        answer =-1\n",
    "        left +=1\n",
    "    for i in range(left,right+1):\n",
    "        temp = 1\n",
    "        copy = i\n",
    "        for j in range(2,i//2+1):\n",
    "            count = 0\n",
    "            while (i%j==0):\n",
    "                i /=j\n",
    "                count+=1\n",
    "            temp *=(count+1)\n",
    "            if i==1:\n",
    "                break\n",
    "        if temp==1 or temp%2==0:\n",
    "            answer +=copy\n",
    "        else:\n",
    "            answer -=copy\n",
    "    return answer\n",
    "\n",
    "def solution3(left, right):\n",
    "    answer = 0\n",
    "    for num in range(left, right+1):\n",
    "        count = len([i for i in range(1,num+1) if num%i == 0])\n",
    "        if count % 2 == 0:\n",
    "            answer += num\n",
    "        else:\n",
    "            answer -= num\n",
    "    return answer\n",
    "\n",
    "#from 박거량\n",
    "def solution4(left,right):\n",
    "    answer = 0\n",
    "    a = []  # 주어진 수들의 범위중에 약수의 개수가 홀수가 되는 집합\n",
    "    for i in range(1,right):\n",
    "        if i**2 > right:\n",
    "            break\n",
    "        a.append(i**2)\n",
    "        \n",
    "    for i in range(left,right+1):\n",
    "        if i in a:\n",
    "            answer -= i\n",
    "        else:\n",
    "            answer += i\n",
    "    return answer"
   ]
  },
  {
   "cell_type": "code",
   "execution_count": 2,
   "id": "1b1b2ee5-d1b7-4f4a-91ff-75de4f046d96",
   "metadata": {},
   "outputs": [
    {
     "name": "stdout",
     "output_type": "stream",
     "text": [
      " 걸린시간 0.6119515895843506초\n"
     ]
    }
   ],
   "source": [
    "import time\n",
    "start = time.time()\n",
    "left = 1 \n",
    "right = 5000\n",
    "solution1(left,right)\n",
    "end = time.time()\n",
    "print(f\" 걸린시간 {end-start}초\")"
   ]
  },
  {
   "cell_type": "code",
   "execution_count": 3,
   "id": "b349e1e9-54a9-448e-8bde-38aad446a6bc",
   "metadata": {},
   "outputs": [
    {
     "name": "stdout",
     "output_type": "stream",
     "text": [
      " 걸린시간 0.27628660202026367초\n"
     ]
    }
   ],
   "source": [
    "start = time.time()\n",
    "left = 1 \n",
    "right = 5000\n",
    "solution2(left,right)\n",
    "end = time.time()\n",
    "print(f\" 걸린시간 {end-start}초\")"
   ]
  },
  {
   "cell_type": "code",
   "execution_count": 4,
   "id": "7e02519a-d163-4aca-a34b-5662c6a58e05",
   "metadata": {},
   "outputs": [
    {
     "name": "stdout",
     "output_type": "stream",
     "text": [
      " 걸린시간 0.6383876800537109초\n"
     ]
    }
   ],
   "source": [
    "start = time.time()\n",
    "left = 1 \n",
    "right = 5000\n",
    "solution3(left,right)\n",
    "end = time.time()\n",
    "print(f\" 걸린시간 {end-start}초\")"
   ]
  },
  {
   "cell_type": "code",
   "execution_count": 5,
   "id": "e9861488-a29d-4182-9e48-bd12f3328a83",
   "metadata": {},
   "outputs": [
    {
     "name": "stdout",
     "output_type": "stream",
     "text": [
      " 걸린시간 0.005593538284301758초\n"
     ]
    }
   ],
   "source": [
    "start = time.time()\n",
    "left = 1 \n",
    "right = 5000\n",
    "solution4(left,right)\n",
    "end = time.time()\n",
    "print(f\" 걸린시간 {end-start}초\")"
   ]
  },
  {
   "cell_type": "code",
   "execution_count": 1,
   "id": "4d64cd12-b82b-4148-8595-32b18274cf8b",
   "metadata": {},
   "outputs": [],
   "source": [
    "from itertools import *"
   ]
  },
  {
   "cell_type": "code",
   "execution_count": 2,
   "id": "22a7b640-d736-4450-93da-0ae852cd3840",
   "metadata": {},
   "outputs": [],
   "source": [
    "a = [3, 30, 34, 5, 9]"
   ]
  },
  {
   "cell_type": "code",
   "execution_count": 3,
   "id": "2b226ef5-5dbd-46fb-b11d-94b33ed423f1",
   "metadata": {},
   "outputs": [],
   "source": [
    " printList = list(permutations(a, 5))"
   ]
  },
  {
   "cell_type": "code",
   "execution_count": 12,
   "id": "8005038a-1c3d-4d75-8e42-7db7a29d4549",
   "metadata": {},
   "outputs": [],
   "source": [
    "printList = list(permutations(a, 5))\n",
    "result = []\n",
    "for i in printList:\n",
    "    inner = \"\"\n",
    "    for j in i:\n",
    "        inner += (str(j))\n",
    "    result.append(inner)\n",
    "max(map(int,result))    "
   ]
  },
  {
   "cell_type": "code",
   "execution_count": 15,
   "id": "15486fa7-c413-4b47-9afb-67702e701a30",
   "metadata": {},
   "outputs": [
    {
     "data": {
      "text/plain": [
       "9534330"
      ]
     },
     "execution_count": 15,
     "metadata": {},
     "output_type": "execute_result"
    }
   ],
   "source": [
    "max(map(int,result))"
   ]
  },
  {
   "cell_type": "code",
   "execution_count": 8,
   "id": "247db7e7-570e-4a44-8506-cde0b36bb8f9",
   "metadata": {},
   "outputs": [
    {
     "name": "stdout",
     "output_type": "stream",
     "text": [
      "3\n",
      "3\n",
      "3\n",
      "5\n",
      "9\n"
     ]
    }
   ],
   "source": [
    "temp = [3, 30, 34, 5, 9]\n",
    "# 첫번째 자리수가 가장 큰 수\n",
    "# 첫번째 자리수가 같으면 두번째 자리수 비교\n",
    "# for i in temp:\n",
    "#     print(i // 10** (int(len(str(i)))-1) )\n",
    "# 1 ~ 9\n",
    "nums= {}\n",
    "\n"
   ]
  },
  {
   "cell_type": "code",
   "execution_count": 9,
   "id": "d1ebbb22-d9fa-4207-9081-64b2b81e7160",
   "metadata": {},
   "outputs": [],
   "source": [
    "from itertools import *\n",
    "def solution(numbers):\n",
    "    answer = ''    \n",
    "    printList = list(permutations(numbers, len(numbers)))\n",
    "    result = []\n",
    "    for i in printList:\n",
    "        inner = \"\"\n",
    "        for j in i:\n",
    "            inner += (str(j))\n",
    "        result.append(inner)\n",
    "    answer = str(max(map(int,result)) )\n",
    "    \n",
    "    return answer"
   ]
  },
  {
   "cell_type": "code",
   "execution_count": 123,
   "id": "cd9853a1-30e3-4f7e-a7c1-e0a56431c2b1",
   "metadata": {
    "collapsed": true,
    "jupyter": {
     "outputs_hidden": true
    },
    "tags": []
   },
   "outputs": [
    {
     "data": {
      "text/plain": [
       "[(3, 39, 344, 5, 9),\n",
       " (3, 39, 344, 9, 5),\n",
       " (3, 39, 5, 344, 9),\n",
       " (3, 39, 5, 9, 344),\n",
       " (3, 39, 9, 344, 5),\n",
       " (3, 39, 9, 5, 344),\n",
       " (3, 344, 39, 5, 9),\n",
       " (3, 344, 39, 9, 5),\n",
       " (3, 344, 5, 39, 9),\n",
       " (3, 344, 5, 9, 39),\n",
       " (3, 344, 9, 39, 5),\n",
       " (3, 344, 9, 5, 39),\n",
       " (3, 5, 39, 344, 9),\n",
       " (3, 5, 39, 9, 344),\n",
       " (3, 5, 344, 39, 9),\n",
       " (3, 5, 344, 9, 39),\n",
       " (3, 5, 9, 39, 344),\n",
       " (3, 5, 9, 344, 39),\n",
       " (3, 9, 39, 344, 5),\n",
       " (3, 9, 39, 5, 344),\n",
       " (3, 9, 344, 39, 5),\n",
       " (3, 9, 344, 5, 39),\n",
       " (3, 9, 5, 39, 344),\n",
       " (3, 9, 5, 344, 39),\n",
       " (39, 3, 344, 5, 9),\n",
       " (39, 3, 344, 9, 5),\n",
       " (39, 3, 5, 344, 9),\n",
       " (39, 3, 5, 9, 344),\n",
       " (39, 3, 9, 344, 5),\n",
       " (39, 3, 9, 5, 344),\n",
       " (39, 344, 3, 5, 9),\n",
       " (39, 344, 3, 9, 5),\n",
       " (39, 344, 5, 3, 9),\n",
       " (39, 344, 5, 9, 3),\n",
       " (39, 344, 9, 3, 5),\n",
       " (39, 344, 9, 5, 3),\n",
       " (39, 5, 3, 344, 9),\n",
       " (39, 5, 3, 9, 344),\n",
       " (39, 5, 344, 3, 9),\n",
       " (39, 5, 344, 9, 3),\n",
       " (39, 5, 9, 3, 344),\n",
       " (39, 5, 9, 344, 3),\n",
       " (39, 9, 3, 344, 5),\n",
       " (39, 9, 3, 5, 344),\n",
       " (39, 9, 344, 3, 5),\n",
       " (39, 9, 344, 5, 3),\n",
       " (39, 9, 5, 3, 344),\n",
       " (39, 9, 5, 344, 3),\n",
       " (344, 3, 39, 5, 9),\n",
       " (344, 3, 39, 9, 5),\n",
       " (344, 3, 5, 39, 9),\n",
       " (344, 3, 5, 9, 39),\n",
       " (344, 3, 9, 39, 5),\n",
       " (344, 3, 9, 5, 39),\n",
       " (344, 39, 3, 5, 9),\n",
       " (344, 39, 3, 9, 5),\n",
       " (344, 39, 5, 3, 9),\n",
       " (344, 39, 5, 9, 3),\n",
       " (344, 39, 9, 3, 5),\n",
       " (344, 39, 9, 5, 3),\n",
       " (344, 5, 3, 39, 9),\n",
       " (344, 5, 3, 9, 39),\n",
       " (344, 5, 39, 3, 9),\n",
       " (344, 5, 39, 9, 3),\n",
       " (344, 5, 9, 3, 39),\n",
       " (344, 5, 9, 39, 3),\n",
       " (344, 9, 3, 39, 5),\n",
       " (344, 9, 3, 5, 39),\n",
       " (344, 9, 39, 3, 5),\n",
       " (344, 9, 39, 5, 3),\n",
       " (344, 9, 5, 3, 39),\n",
       " (344, 9, 5, 39, 3),\n",
       " (5, 3, 39, 344, 9),\n",
       " (5, 3, 39, 9, 344),\n",
       " (5, 3, 344, 39, 9),\n",
       " (5, 3, 344, 9, 39),\n",
       " (5, 3, 9, 39, 344),\n",
       " (5, 3, 9, 344, 39),\n",
       " (5, 39, 3, 344, 9),\n",
       " (5, 39, 3, 9, 344),\n",
       " (5, 39, 344, 3, 9),\n",
       " (5, 39, 344, 9, 3),\n",
       " (5, 39, 9, 3, 344),\n",
       " (5, 39, 9, 344, 3),\n",
       " (5, 344, 3, 39, 9),\n",
       " (5, 344, 3, 9, 39),\n",
       " (5, 344, 39, 3, 9),\n",
       " (5, 344, 39, 9, 3),\n",
       " (5, 344, 9, 3, 39),\n",
       " (5, 344, 9, 39, 3),\n",
       " (5, 9, 3, 39, 344),\n",
       " (5, 9, 3, 344, 39),\n",
       " (5, 9, 39, 3, 344),\n",
       " (5, 9, 39, 344, 3),\n",
       " (5, 9, 344, 3, 39),\n",
       " (5, 9, 344, 39, 3),\n",
       " (9, 3, 39, 344, 5),\n",
       " (9, 3, 39, 5, 344),\n",
       " (9, 3, 344, 39, 5),\n",
       " (9, 3, 344, 5, 39),\n",
       " (9, 3, 5, 39, 344),\n",
       " (9, 3, 5, 344, 39),\n",
       " (9, 39, 3, 344, 5),\n",
       " (9, 39, 3, 5, 344),\n",
       " (9, 39, 344, 3, 5),\n",
       " (9, 39, 344, 5, 3),\n",
       " (9, 39, 5, 3, 344),\n",
       " (9, 39, 5, 344, 3),\n",
       " (9, 344, 3, 39, 5),\n",
       " (9, 344, 3, 5, 39),\n",
       " (9, 344, 39, 3, 5),\n",
       " (9, 344, 39, 5, 3),\n",
       " (9, 344, 5, 3, 39),\n",
       " (9, 344, 5, 39, 3),\n",
       " (9, 5, 3, 39, 344),\n",
       " (9, 5, 3, 344, 39),\n",
       " (9, 5, 39, 3, 344),\n",
       " (9, 5, 39, 344, 3),\n",
       " (9, 5, 344, 3, 39),\n",
       " (9, 5, 344, 39, 3)]"
      ]
     },
     "execution_count": 123,
     "metadata": {},
     "output_type": "execute_result"
    }
   ],
   "source": [
    "numbers = [3, 39, 344, 5, 9]\n",
    "list(permutations(numbers, len(numbers)))"
   ]
  },
  {
   "cell_type": "code",
   "execution_count": 48,
   "id": "871676f6-b36d-45ef-a4d1-7940cc180419",
   "metadata": {},
   "outputs": [],
   "source": [
    "# 첫번째 자리수가 큰수를 배치\n",
    "# 첫번째 자리수가 같으면 각 자리수를더해서 큰수를 배치\n",
    "temp = [3, 39, 344, 5, 9]"
   ]
  },
  {
   "cell_type": "code",
   "execution_count": null,
   "id": "cf4da70f-835f-48b9-91bd-92ba5d1e60a5",
   "metadata": {},
   "outputs": [],
   "source": []
  },
  {
   "cell_type": "code",
   "execution_count": 69,
   "id": "798988d7-775d-433a-8ebb-0103fe518723",
   "metadata": {},
   "outputs": [],
   "source": [
    "# 첫번째 자리를 구한다.\n",
    "for j in range(len(temp)-1):    \n",
    "    for i in range(j+1,len(temp)):                    \n",
    "        # print ( temp[i],temp[i] // 10** (int(len(str(temp[i])))-1) )\n",
    "        compa = temp[j] // 10** (int(len(str(temp[j])))-1)\n",
    "        compb = temp[i] // 10** (int(len(str(temp[i])))-1)\n",
    "        if compa == compb:  # 첫번째 자리가 같으면  각 자리수를더해서 큰수가 앞으로\n",
    "            if sum([int(t) for t in str(temp[j])]) < sum([int(t) for t in str(temp[i])]):\n",
    "                temp[j], temp[i] = temp[i], temp[j]                    \n",
    "        elif compa < compb:\n",
    "            temp[j], temp[i] = temp[i], temp[j]\n",
    "\"\".join([str(i) for i in temp])\n",
    "    "
   ]
  },
  {
   "cell_type": "code",
   "execution_count": 72,
   "id": "d5fa8638-e74e-4398-a93f-72e6f5aeecba",
   "metadata": {},
   "outputs": [
    {
     "data": {
      "text/plain": [
       "'95393443'"
      ]
     },
     "execution_count": 72,
     "metadata": {},
     "output_type": "execute_result"
    }
   ],
   "source": [
    "\"\".join([str(i) for i in temp])"
   ]
  },
  {
   "cell_type": "code",
   "execution_count": 35,
   "id": "25a0e79e-7610-4d99-b979-6f4d2235940f",
   "metadata": {},
   "outputs": [
    {
     "data": {
      "text/plain": [
       "2"
      ]
     },
     "execution_count": 35,
     "metadata": {},
     "output_type": "execute_result"
    }
   ],
   "source": [
    "len(str(39))"
   ]
  },
  {
   "cell_type": "code",
   "execution_count": 68,
   "id": "4ef07dfd-357b-4663-abb9-81ccc6d45f66",
   "metadata": {},
   "outputs": [
    {
     "data": {
      "text/plain": [
       "11"
      ]
     },
     "execution_count": 68,
     "metadata": {},
     "output_type": "execute_result"
    }
   ],
   "source": [
    "sum([int(i) for i in str(344)])"
   ]
  },
  {
   "cell_type": "code",
   "execution_count": 121,
   "id": "c0e32717-714a-46bc-86ea-3b9faae9e19d",
   "metadata": {},
   "outputs": [],
   "source": [
    "\n",
    "def solution(numbers):    \n",
    "    answer = ''       \n",
    "    temp = numbers\n",
    "    for j in range(len(temp)-1):    \n",
    "        for i in range(j+1,len(temp)):                    \n",
    "            # print ( temp[i],temp[i] // 10** (int(len(str(temp[i])))-1) )\n",
    "            compa = temp[j] // 10** (int(len(str(temp[j])))-1)\n",
    "            compb = temp[i] // 10** (int(len(str(temp[i])))-1)\n",
    "            if compa == compb:  # 첫번째 자리가 같으면  각 자리수를더해서 큰수가 앞으로\n",
    "                # 그런데. 자리수가 틀리면서 마지막 자리가 0이면 맨 뒤로\n",
    "                if str(len(str(temp[j]))) != str(len(str(temp[i]))):\n",
    "                    if temp[i] % 10 == 0:\n",
    "                        continue                \n",
    "                elif sum([int(t) for t in str(temp[j])]) < sum([int(t) for t in str(temp[i])]):\n",
    "                    temp[j], temp[i] = temp[i], temp[j]                                       \n",
    "            elif compa < compb:\n",
    "                temp[j], temp[i] = temp[i], temp[j]                    \n",
    "    answer = \"\".join([str(i) for i in temp])\n",
    "    return answer    "
   ]
  },
  {
   "cell_type": "code",
   "execution_count": 122,
   "id": "9ae7dd33-a872-4d90-abf9-1dede2405b86",
   "metadata": {},
   "outputs": [
    {
     "data": {
      "text/plain": [
       "'6210'"
      ]
     },
     "execution_count": 122,
     "metadata": {},
     "output_type": "execute_result"
    }
   ],
   "source": [
    "solution([6, 10, 2])"
   ]
  },
  {
   "cell_type": "code",
   "execution_count": 75,
   "id": "07b236ed-6408-4444-9412-3ef29d19995a",
   "metadata": {},
   "outputs": [
    {
     "data": {
      "text/plain": [
       "3"
      ]
     },
     "execution_count": 93,
     "metadata": {},
     "output_type": "execute_result"
    }
   ],
   "source": [
    "30//10"
   ]
  },
  {
   "cell_type": "code",
   "execution_count": 83,
   "id": "1060a2df-458c-4b53-b671-9f5514a3a9c9",
   "metadata": {},
   "outputs": [
    {
     "data": {
      "text/plain": [
       "5"
      ]
     },
     "execution_count": 83,
     "metadata": {},
     "output_type": "execute_result"
    }
   ],
   "source": [
    "12345 % 10"
   ]
  },
  {
   "cell_type": "code",
   "execution_count": 148,
   "id": "5ca2afed-c34d-47d0-991f-a85280ea26fe",
   "metadata": {},
   "outputs": [],
   "source": [
    "# from 이정규\n",
    "def solution(numbers):\n",
    "    answer = ''\n",
    "    k = [str(i) for i in numbers]\n",
    "    k = sorted(k, key = lambda x: x*3, reverse=True)\n",
    "    answer = str(int(''.join(k)))\n",
    "    return answer"
   ]
  },
  {
   "cell_type": "code",
   "execution_count": 141,
   "id": "0761cb46-6cab-4a52-99be-49368c3f5295",
   "metadata": {},
   "outputs": [],
   "source": [
    "numbers = [3, 30, 34, 5, 9]"
   ]
  },
  {
   "cell_type": "code",
   "execution_count": 142,
   "id": "595d9720-be50-4483-ab86-79fcdc95255d",
   "metadata": {},
   "outputs": [
    {
     "data": {
      "text/plain": [
       "['3', '30', '34', '5', '9']"
      ]
     },
     "execution_count": 142,
     "metadata": {},
     "output_type": "execute_result"
    }
   ],
   "source": [
    "k = [str(i) for i in numbers]\n",
    "k"
   ]
  },
  {
   "cell_type": "code",
   "execution_count": 143,
   "id": "24a1cf73-5d40-4adf-9ecc-0fe3b96a2321",
   "metadata": {},
   "outputs": [],
   "source": [
    "# k = sorted(k, key = lambda x: x*3, reverse=True)\n"
   ]
  },
  {
   "cell_type": "code",
   "execution_count": 146,
   "id": "4fca740d-40dc-4665-8514-82ee3fe37579",
   "metadata": {},
   "outputs": [
    {
     "data": {
      "text/plain": [
       "['333', '303030', '343434', '555', '999']"
      ]
     },
     "execution_count": 146,
     "metadata": {},
     "output_type": "execute_result"
    }
   ],
   "source": [
    "a = list(map(lambda x : x*3, k))\n",
    "a"
   ]
  },
  {
   "cell_type": "code",
   "execution_count": 147,
   "id": "4214de3c-6b60-4053-9d5f-5e51b981b382",
   "metadata": {},
   "outputs": [
    {
     "data": {
      "text/plain": [
       "['999', '555', '343434', '333', '303030']"
      ]
     },
     "execution_count": 147,
     "metadata": {},
     "output_type": "execute_result"
    }
   ],
   "source": [
    "# 문자열 정렬\n",
    "# 첫째자리부터 정렬... 둘째자리...\n",
    "a.sort(reverse=True)\n",
    "a"
   ]
  },
  {
   "cell_type": "code",
   "execution_count": 149,
   "id": "b08b5349-a92e-4976-8892-969e312f53d7",
   "metadata": {},
   "outputs": [
    {
     "data": {
      "text/plain": [
       "[3, 30, 34, 5, 9]"
      ]
     },
     "execution_count": 149,
     "metadata": {},
     "output_type": "execute_result"
    }
   ],
   "source": [
    "numbers"
   ]
  },
  {
   "cell_type": "code",
   "execution_count": 150,
   "id": "4e546c5a-5adb-4c1b-bb89-8b9003bfdf64",
   "metadata": {},
   "outputs": [],
   "source": [
    "# from 한건희\n",
    "def solution(numbers):\n",
    "    numbers = list(map(str, numbers))\n",
    "    len_l = max([len(x) for x in numbers])\n",
    "    numbers.sort(key=lambda x: x*len_l, reverse=True)\n",
    "    return str(int(''.join(numbers)))"
   ]
  },
  {
   "cell_type": "code",
   "execution_count": null,
   "id": "159e7646-aa8d-4623-ac77-a7d45a80dce5",
   "metadata": {},
   "outputs": [],
   "source": []
  }
 ],
 "metadata": {
  "kernelspec": {
   "display_name": "Python 3 (ipykernel)",
   "language": "python",
   "name": "python3"
  },
  "language_info": {
   "codemirror_mode": {
    "name": "ipython",
    "version": 3
   },
   "file_extension": ".py",
   "mimetype": "text/x-python",
   "name": "python",
   "nbconvert_exporter": "python",
   "pygments_lexer": "ipython3",
   "version": "3.9.12"
  }
 },
 "nbformat": 4,
 "nbformat_minor": 5
}

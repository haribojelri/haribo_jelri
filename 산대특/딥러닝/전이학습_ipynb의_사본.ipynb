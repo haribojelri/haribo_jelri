{
  "nbformat": 4,
  "nbformat_minor": 0,
  "metadata": {
    "colab": {
      "provenance": [],
      "collapsed_sections": []
    },
    "kernelspec": {
      "name": "python3",
      "display_name": "Python 3"
    },
    "language_info": {
      "name": "python"
    }
  },
  "cells": [
    {
      "cell_type": "code",
      "execution_count": null,
      "metadata": {
        "id": "hv2oDYsYaczj"
      },
      "outputs": [],
      "source": [
        "# 새의 품종을 인식-- \n",
        "# 데이터 셋 : cub200-2011(200 새 영상 11788장)"
      ]
    },
    {
      "cell_type": "code",
      "source": [
        "# ImageNet으로 학습된 ResNet50을 cub 데이터셋으로 전이학습\n",
        "import numpy as np\n",
        "import tensorflow as tf\n",
        "from tensorflow.keras.models import Sequential\n",
        "from tensorflow.keras.layers import Flatten,Dense\n",
        "from tensorflow.keras.optimizers import Adam\n",
        "from tensorflow.keras.applications.resnet50 import ResNet50,preprocess_input\n",
        "from tensorflow.keras.preprocessing import image\n",
        "import os\n",
        "import glob\n",
        "import zipfile"
      ],
      "metadata": {
        "id": "Kza9YrDrbepw"
      },
      "execution_count": 3,
      "outputs": []
    },
    {
      "cell_type": "code",
      "source": [
        "train_foler = '/content/drive/MyDrive/산대특 공유폴더/CUB200/train'\n",
        "test_foler = '/content/drive/MyDrive/산대특 공유폴더/CUB200/test'"
      ],
      "metadata": {
        "id": "VsZRf7-Xc-D3"
      },
      "execution_count": 4,
      "outputs": []
    },
    {
      "cell_type": "code",
      "source": [
        "zippath = '/content/drive/MyDrive/산대특 공유폴더/CUB200.zip'"
      ],
      "metadata": {
        "id": "6Qe-WXSmdNDP"
      },
      "execution_count": 7,
      "outputs": []
    },
    {
      "cell_type": "code",
      "source": [
        "# 압축해제\n",
        "zipfile.ZipFile(zippath).extractall('/content/drive/MyDrive/산대특 공유폴더/CUB200')"
      ],
      "metadata": {
        "id": "BRt5wNKFf1Jt"
      },
      "execution_count": 10,
      "outputs": []
    },
    {
      "cell_type": "code",
      "source": [
        "# 데이터의 양을 줄여서 속도 증가\n",
        "class_reduce = 0.1\n",
        "no_class = int(len(os.listdir(train_foler))*class_reduce)"
      ],
      "metadata": {
        "id": "M5_vQ0EUgf3v"
      },
      "execution_count": 12,
      "outputs": []
    },
    {
      "cell_type": "code",
      "source": [
        "no_class"
      ],
      "metadata": {
        "colab": {
          "base_uri": "https://localhost:8080/"
        },
        "id": "K-H7FLpCibNW",
        "outputId": "74424546-39f6-49eb-d08c-31362510abc5"
      },
      "execution_count": 13,
      "outputs": [
        {
          "output_type": "execute_result",
          "data": {
            "text/plain": [
              "20"
            ]
          },
          "metadata": {},
          "execution_count": 13
        }
      ]
    },
    {
      "cell_type": "code",
      "source": [
        "glob.glob(train_foler+\"/*.*\")[:20]"
      ],
      "metadata": {
        "colab": {
          "base_uri": "https://localhost:8080/"
        },
        "id": "Bsd8MtBJjoKQ",
        "outputId": "0573b818-7e8c-4bb5-99ac-7f7a3c72d84d"
      },
      "execution_count": 20,
      "outputs": [
        {
          "output_type": "execute_result",
          "data": {
            "text/plain": [
              "['/content/drive/MyDrive/산대특 공유폴더/CUB200/train/001.Black_footed_Albatross',\n",
              " '/content/drive/MyDrive/산대특 공유폴더/CUB200/train/002.Laysan_Albatross',\n",
              " '/content/drive/MyDrive/산대특 공유폴더/CUB200/train/003.Sooty_Albatross',\n",
              " '/content/drive/MyDrive/산대특 공유폴더/CUB200/train/004.Groove_billed_Ani',\n",
              " '/content/drive/MyDrive/산대특 공유폴더/CUB200/train/005.Crested_Auklet',\n",
              " '/content/drive/MyDrive/산대특 공유폴더/CUB200/train/006.Least_Auklet',\n",
              " '/content/drive/MyDrive/산대특 공유폴더/CUB200/train/007.Parakeet_Auklet',\n",
              " '/content/drive/MyDrive/산대특 공유폴더/CUB200/train/008.Rhinoceros_Auklet',\n",
              " '/content/drive/MyDrive/산대특 공유폴더/CUB200/train/009.Brewer_Blackbird',\n",
              " '/content/drive/MyDrive/산대특 공유폴더/CUB200/train/010.Red_winged_Blackbird',\n",
              " '/content/drive/MyDrive/산대특 공유폴더/CUB200/train/011.Rusty_Blackbird',\n",
              " '/content/drive/MyDrive/산대특 공유폴더/CUB200/train/012.Yellow_headed_Blackbird',\n",
              " '/content/drive/MyDrive/산대특 공유폴더/CUB200/train/013.Bobolink',\n",
              " '/content/drive/MyDrive/산대특 공유폴더/CUB200/train/014.Indigo_Bunting',\n",
              " '/content/drive/MyDrive/산대특 공유폴더/CUB200/train/015.Lazuli_Bunting',\n",
              " '/content/drive/MyDrive/산대특 공유폴더/CUB200/train/016.Painted_Bunting',\n",
              " '/content/drive/MyDrive/산대특 공유폴더/CUB200/train/017.Cardinal',\n",
              " '/content/drive/MyDrive/산대특 공유폴더/CUB200/train/018.Spotted_Catbird',\n",
              " '/content/drive/MyDrive/산대특 공유폴더/CUB200/train/019.Gray_Catbird',\n",
              " '/content/drive/MyDrive/산대특 공유폴더/CUB200/train/020.Yellow_breasted_Chat']"
            ]
          },
          "metadata": {},
          "execution_count": 20
        }
      ]
    },
    {
      "cell_type": "code",
      "source": [
        "# 훈련데이터 읽기\n",
        "x_train,y_train = [],[]\n",
        "for i, class_name in  enumerate(glob.glob(train_foler+\"/*.*\")):\n",
        "  if i< no_class:\n",
        "    for fname in glob.glob(class_name+\"/*.jpg\"):\n",
        "      img = image.load_img(fname,target_size=(244,244))\n",
        "      x = image.img_to_array(img)\n",
        "      x = preprocess_input(x)\n",
        "      x_train.append(x)\n",
        "      y_train.append(i)"
      ],
      "metadata": {
        "id": "5ysNyUqJijKH"
      },
      "execution_count": 60,
      "outputs": []
    },
    {
      "cell_type": "code",
      "source": [
        "# 테스트데이터 읽기\n",
        "x_test,y_test = [],[]\n",
        "for i, class_name in  enumerate(glob.glob(test_foler+\"/*.*\")):\n",
        "  if i< no_class:\n",
        "    for fname in glob.glob(class_name+\"/*.jpg\"):\n",
        "      img = image.load_img(fname,target_size=(244,244))\n",
        "      x = image.img_to_array(img)\n",
        "      x = preprocess_input(x)\n",
        "      x_test.append(x)\n",
        "      y_test.append(i)"
      ],
      "metadata": {
        "id": "7h96rshpi2Xl"
      },
      "execution_count": 61,
      "outputs": []
    },
    {
      "cell_type": "code",
      "source": [
        "len(x_train), len(y_train), len(x_test), len(y_test)"
      ],
      "metadata": {
        "colab": {
          "base_uri": "https://localhost:8080/"
        },
        "id": "OtjZC9C6lIb0",
        "outputId": "6b5bfd83-dbf1-4015-f9a0-46f79a63ac4b"
      },
      "execution_count": 62,
      "outputs": [
        {
          "output_type": "execute_result",
          "data": {
            "text/plain": [
              "(600, 600, 515, 515)"
            ]
          },
          "metadata": {},
          "execution_count": 62
        }
      ]
    },
    {
      "cell_type": "code",
      "source": [
        "list1 = [2,4,6,8,9,10,12]\n",
        "for data in list1:  \n",
        "  try:\n",
        "    assert data % 2 == 0\n",
        "    print(data)\n",
        "  except Exception as e:    \n",
        "    print(e) "
      ],
      "metadata": {
        "id": "9CddCv6xltNV"
      },
      "execution_count": null,
      "outputs": []
    },
    {
      "cell_type": "code",
      "source": [
        "x_train = np.asarray(x_train)\n",
        "y_train = np.asarray(y_train)\n",
        "x_test = np.asarray(x_test)\n",
        "y_test = np.asarray(y_test)"
      ],
      "metadata": {
        "id": "p9bNED_cqfiS"
      },
      "execution_count": 63,
      "outputs": []
    },
    {
      "cell_type": "code",
      "source": [
        "x_train.shape"
      ],
      "metadata": {
        "colab": {
          "base_uri": "https://localhost:8080/"
        },
        "id": "tDH6Nua2sUoP",
        "outputId": "5da05d3f-8b71-4ef3-871a-756d9add7272"
      },
      "execution_count": 65,
      "outputs": [
        {
          "output_type": "execute_result",
          "data": {
            "text/plain": [
              "(600, 244, 244, 3)"
            ]
          },
          "metadata": {},
          "execution_count": 65
        }
      ]
    },
    {
      "cell_type": "code",
      "source": [
        "base_model = ResNet50(weights='imagenet', include_top=False,input_shape=(244,244,3))"
      ],
      "metadata": {
        "colab": {
          "base_uri": "https://localhost:8080/"
        },
        "id": "YeeDZwserjIj",
        "outputId": "fce61bb9-5252-449b-a51c-75973ed2a77a"
      },
      "execution_count": 66,
      "outputs": [
        {
          "output_type": "stream",
          "name": "stdout",
          "text": [
            "Downloading data from https://storage.googleapis.com/tensorflow/keras-applications/resnet/resnet50_weights_tf_dim_ordering_tf_kernels_notop.h5\n",
            "94765736/94765736 [==============================] - 1s 0us/step\n"
          ]
        }
      ]
    },
    {
      "cell_type": "code",
      "source": [
        "base_model.summary()"
      ],
      "metadata": {
        "id": "4Kg7TZj_s3un"
      },
      "execution_count": null,
      "outputs": []
    },
    {
      "cell_type": "code",
      "source": [
        "cnn = Sequential()\n",
        "cnn.add(base_model)\n",
        "cnn.add(Flatten())\n",
        "cnn.add(Dense(1024,activation = 'relu'))\n",
        "cnn.add(Dense(no_class,activation='softmax'))"
      ],
      "metadata": {
        "id": "uplSJPwJtB2S"
      },
      "execution_count": 69,
      "outputs": []
    },
    {
      "cell_type": "code",
      "source": [
        "cnn.summary()"
      ],
      "metadata": {
        "id": "Dw676tc6uK2z"
      },
      "execution_count": null,
      "outputs": []
    },
    {
      "cell_type": "code",
      "source": [
        "# 컴파일"
      ],
      "metadata": {
        "id": "KjE89kJrua_0"
      },
      "execution_count": null,
      "outputs": []
    },
    {
      "cell_type": "code",
      "source": [
        "# 학습"
      ],
      "metadata": {
        "id": "_mIUoF9Eudhd"
      },
      "execution_count": null,
      "outputs": []
    },
    {
      "cell_type": "code",
      "source": [
        "# accuracy"
      ],
      "metadata": {
        "id": "8-pNPUvauen0"
      },
      "execution_count": null,
      "outputs": []
    }
  ]
}
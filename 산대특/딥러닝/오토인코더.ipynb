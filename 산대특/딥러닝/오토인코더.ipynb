{
  "nbformat": 4,
  "nbformat_minor": 0,
  "metadata": {
    "colab": {
      "provenance": [],
      "collapsed_sections": []
    },
    "kernelspec": {
      "name": "python3",
      "display_name": "Python 3"
    },
    "language_info": {
      "name": "python"
    },
    "accelerator": "GPU"
  },
  "cells": [
    {
      "cell_type": "code",
      "execution_count": 25,
      "metadata": {
        "id": "LQrssX8j-M3e"
      },
      "outputs": [],
      "source": [
        "# 원본이미지를 벡터 차원으로 축소해서 은닉레이어에서 주요 특징을 추출(인코더)\n",
        "# 인코더에서 추출한 핵심정보를 학습해서 최대한 원본 이미지와 비슷하게 복원(디코더)\n",
        "\n",
        "# 원본을 정답으로 생각, 주요 특징만을 가지고 최대한 가까운 이미지를 찾는행위고.. 이러한 은닉레이어를 사용하면\n",
        "# 원본 이미지가 가지고 있는 정보를 충분히 설명"
      ]
    },
    {
      "cell_type": "code",
      "source": [
        "# 데이터는 fashion mnist로 사용\n",
        "# 라이브러리 설정"
      ],
      "metadata": {
        "id": "_4_8hguy_5Rz"
      },
      "execution_count": 26,
      "outputs": []
    },
    {
      "cell_type": "code",
      "source": [
        "import pandas as pd\n",
        "import numpy as np\n",
        "import tensorflow as tf\n",
        "import matplotlib.pyplot as plt\n",
        "import random\n",
        "\n",
        "from tensorflow.keras.models import Sequential\n",
        "from tensorflow.keras.layers import Flatten, Dense, Dropout,Conv2D, MaxPooling2D, Reshape\n",
        "from tensorflow.keras.datasets import fashion_mnist"
      ],
      "metadata": {
        "id": "OxfDQLHMAZ4G"
      },
      "execution_count": 105,
      "outputs": []
    },
    {
      "cell_type": "code",
      "source": [
        "# 랜덤시드를 고정\n",
        "SEED = 12\n",
        "random.seed(SEED)\n",
        "np.random.seed(SEED)\n",
        "tf.random.set_seed(SEED)"
      ],
      "metadata": {
        "id": "Cc824L-CAu6N"
      },
      "execution_count": 106,
      "outputs": []
    },
    {
      "cell_type": "code",
      "source": [
        "(x_train,y_train),(x_test,y_test) = fashion_mnist.load_data()\n",
        "x_train = x_train.astype('float32') / 255.0\n",
        "x_test = x_test.astype('float32') / 255.0\n",
        "# 차원추가  2차원 3차원\n",
        "x_train = np.expand_dims(x_train, axis=-1)\n",
        "x_test = np.expand_dims(x_test, axis=-1)"
      ],
      "metadata": {
        "id": "gLXkdC_YBAI2"
      },
      "execution_count": 107,
      "outputs": []
    },
    {
      "cell_type": "code",
      "source": [
        "x_train.shape[1:]"
      ],
      "metadata": {
        "colab": {
          "base_uri": "https://localhost:8080/"
        },
        "id": "s4TcQGqaCeIY",
        "outputId": "0ba4ac91-64c7-42fa-d092-b1bfd9b66f93"
      },
      "execution_count": 100,
      "outputs": [
        {
          "output_type": "execute_result",
          "data": {
            "text/plain": [
              "(28, 28, 1)"
            ]
          },
          "metadata": {},
          "execution_count": 100
        }
      ]
    },
    {
      "cell_type": "code",
      "source": [
        "from tensorflow.python import metrics\n",
        "# 오토 인코더 모델 정의 \n",
        "def Autoencoder():\n",
        "\n",
        "    model = Sequential()\n",
        "\n",
        "    # Encoder 부분\n",
        "    model.add(Conv2D(filters=16, kernel_size=(3, 3), \n",
        "                     activation='relu', input_shape=[28, 28, 1]))\n",
        "    model.add(MaxPooling2D(pool_size=(2, 2)))\n",
        "    model.add(Flatten())\n",
        "    model.add(Dense(64, activation='relu')) \n",
        "\n",
        "    # Decoder 부분\n",
        "    model.add(Dense(units=28*28, activation='sigmoid'))   \n",
        "    model.add(Reshape((28, 28)))     \n",
        "\n",
        "    # Compile \n",
        "    model.compile(optimizer='adam', \n",
        "                  loss='mean_squared_error',metrics=['acc'])\n",
        "\n",
        "    return model  \n",
        "\n",
        "ae_model = Autoencoder()\n",
        "ae_model.summary()"
      ],
      "metadata": {
        "colab": {
          "base_uri": "https://localhost:8080/"
        },
        "id": "_4y4uLt3BkvH",
        "outputId": "134dba30-77d3-4cd7-c4d1-8e1e1dc10dcf"
      },
      "execution_count": 117,
      "outputs": [
        {
          "output_type": "stream",
          "name": "stdout",
          "text": [
            "Model: \"sequential_17\"\n",
            "_________________________________________________________________\n",
            " Layer (type)                Output Shape              Param #   \n",
            "=================================================================\n",
            " conv2d_17 (Conv2D)          (None, 26, 26, 16)        160       \n",
            "                                                                 \n",
            " max_pooling2d_17 (MaxPoolin  (None, 13, 13, 16)       0         \n",
            " g2D)                                                            \n",
            "                                                                 \n",
            " flatten_17 (Flatten)        (None, 2704)              0         \n",
            "                                                                 \n",
            " dense_34 (Dense)            (None, 64)                173120    \n",
            "                                                                 \n",
            " dense_35 (Dense)            (None, 784)               50960     \n",
            "                                                                 \n",
            " reshape_11 (Reshape)        (None, 28, 28)            0         \n",
            "                                                                 \n",
            "=================================================================\n",
            "Total params: 224,240\n",
            "Trainable params: 224,240\n",
            "Non-trainable params: 0\n",
            "_________________________________________________________________\n"
          ]
        }
      ]
    },
    {
      "cell_type": "code",
      "source": [
        "history = ae_model.fit(x_train,x_train, batch_size=64, epochs=20,\n",
        "                        validation_data=(x_test, x_test),\n",
        "                        verbose=0)\n",
        "\n",
        "ae_images = ae_model.predict(x_test)\n",
        "ae_images.shape"
      ],
      "metadata": {
        "colab": {
          "base_uri": "https://localhost:8080/"
        },
        "id": "I00ieAptFTwO",
        "outputId": "11c2467a-2554-48af-9fd0-c48011fb9480"
      },
      "execution_count": 118,
      "outputs": [
        {
          "output_type": "stream",
          "name": "stdout",
          "text": [
            "313/313 [==============================] - 1s 2ms/step\n"
          ]
        },
        {
          "output_type": "execute_result",
          "data": {
            "text/plain": [
              "(10000, 28, 28)"
            ]
          },
          "metadata": {},
          "execution_count": 118
        }
      ]
    },
    {
      "cell_type": "code",
      "source": [
        "fig,ax = plt.subplots(1,2,figsize=(10,10))\n",
        "ax[0].imshow(np.squeeze(x_test[0]),cmap='gray_r')\n",
        "ax[1].imshow(ae_images[0],cmap='gray_r')"
      ],
      "metadata": {
        "colab": {
          "base_uri": "https://localhost:8080/",
          "height": 320
        },
        "id": "QNLDKRPiNKNL",
        "outputId": "f93a87e0-a64b-49d0-f1f1-ea074d843076"
      },
      "execution_count": 119,
      "outputs": [
        {
          "output_type": "execute_result",
          "data": {
            "text/plain": [
              "<matplotlib.image.AxesImage at 0x7fb3a891ce90>"
            ]
          },
          "metadata": {},
          "execution_count": 119
        },
        {
          "output_type": "display_data",
          "data": {
            "text/plain": [
              "<Figure size 720x720 with 2 Axes>"
            ],
            "image/png": "[encoded data removed]"
          },
          "metadata": {
            "needs_background": "light"
          }
        }
      ]
    },
    {
      "cell_type": "code",
      "source": [
        "# mnist 영상을 오토 인코딩 해 보기\n",
        "from tensorflow.keras.datasets import mnist"
      ],
      "metadata": {
        "id": "2yMxldpeYGAI"
      },
      "execution_count": 126,
      "outputs": []
    },
    {
      "cell_type": "code",
      "source": [
        "(x_train,y_train),(x_test,y_test) = mnist.load_data()\n",
        "# 표준화\n",
        "x_train = x_train.astype('float32') / 255.0\n",
        "x_test = x_test.astype('float32') / 255.0\n",
        "#차수변경(증가)\n",
        "x_train = np.expand_dims(x_train,axis=-1)\n",
        "x_test = np.expand_dims(x_test,axis=-1)\n"
      ],
      "metadata": {
        "id": "tSOI5hCtY8lp"
      },
      "execution_count": 129,
      "outputs": []
    },
    {
      "cell_type": "code",
      "source": [
        "model = Autoencoder()"
      ],
      "metadata": {
        "id": "lxw5buCJZUkw"
      },
      "execution_count": 130,
      "outputs": []
    },
    {
      "cell_type": "code",
      "source": [
        "earlyStop = tf.keras.callbacks.EarlyStopping(monitor='val_loss',patience=3)\n",
        "hist = model.fit(x_train,x_train,batch_size=32,epochs=10,validation_data=(x_test,x_test),callbacks=[earlyStop]  )"
      ],
      "metadata": {
        "colab": {
          "base_uri": "https://localhost:8080/"
        },
        "id": "8dCrhmcWZwhI",
        "outputId": "487da2d0-4303-4f94-bea3-cbaec3022e69"
      },
      "execution_count": 131,
      "outputs": [
        {
          "output_type": "stream",
          "name": "stdout",
          "text": [
            "Epoch 1/10\n",
            "1875/1875 [==============================] - 6s 3ms/step - loss: 0.0181 - val_loss: 0.0123\n",
            "Epoch 2/10\n",
            "1875/1875 [==============================] - 6s 3ms/step - loss: 0.0119 - val_loss: 0.0115\n",
            "Epoch 3/10\n",
            "1875/1875 [==============================] - 6s 3ms/step - loss: 0.0114 - val_loss: 0.0112\n",
            "Epoch 4/10\n",
            "1875/1875 [==============================] - 6s 3ms/step - loss: 0.0112 - val_loss: 0.0110\n",
            "Epoch 5/10\n",
            "1875/1875 [==============================] - 6s 3ms/step - loss: 0.0111 - val_loss: 0.0108\n",
            "Epoch 6/10\n",
            "1875/1875 [==============================] - 6s 3ms/step - loss: 0.0110 - val_loss: 0.0108\n",
            "Epoch 7/10\n",
            "1875/1875 [==============================] - 6s 3ms/step - loss: 0.0109 - val_loss: 0.0107\n",
            "Epoch 8/10\n",
            "1875/1875 [==============================] - 6s 3ms/step - loss: 0.0109 - val_loss: 0.0107\n",
            "Epoch 9/10\n",
            "1875/1875 [==============================] - 7s 4ms/step - loss: 0.0108 - val_loss: 0.0106\n",
            "Epoch 10/10\n",
            "1875/1875 [==============================] - 6s 3ms/step - loss: 0.0108 - val_loss: 0.0106\n"
          ]
        }
      ]
    },
    {
      "cell_type": "code",
      "source": [
        "predict = model.predict(x_test)"
      ],
      "metadata": {
        "colab": {
          "base_uri": "https://localhost:8080/"
        },
        "id": "uCeP-RWzafIB",
        "outputId": "e8252c5b-847b-4067-d151-0fa6fcdd07a4"
      },
      "execution_count": 132,
      "outputs": [
        {
          "output_type": "stream",
          "name": "stdout",
          "text": [
            "313/313 [==============================] - 1s 2ms/step\n"
          ]
        }
      ]
    },
    {
      "cell_type": "code",
      "source": [
        "fig,ax = plt.subplots(1,2,figsize=(10,10))\n",
        "ax[0].imshow(np.squeeze(x_test[0]),cmap='gray_r')\n",
        "ax[1].imshow(predict[0],cmap='gray_r')"
      ],
      "metadata": {
        "colab": {
          "base_uri": "https://localhost:8080/",
          "height": 320
        },
        "id": "HUS3KS8_bIcJ",
        "outputId": "b802fd6f-6459-4db4-9ff0-e4689acdb83d"
      },
      "execution_count": 134,
      "outputs": [
        {
          "output_type": "execute_result",
          "data": {
            "text/plain": [
              "<matplotlib.image.AxesImage at 0x7fb44c0e2f10>"
            ]
          },
          "metadata": {},
          "execution_count": 134
        },
        {
          "output_type": "display_data",
          "data": {
            "text/plain": [
              "<Figure size 720x720 with 2 Axes>"
            ],
            "image/png": "[encoded data removed]"
          },
          "metadata": {
            "needs_background": "light"
          }
        }
      ]
    },
    {
      "cell_type": "code",
      "source": [
        "print(x_test.shape)\n",
        "noise = np.random.normal(loc=0.0,scale=0.15,size = x_test.shape)"
      ],
      "metadata": {
        "colab": {
          "base_uri": "https://localhost:8080/"
        },
        "id": "PH9yYk4xbTcw",
        "outputId": "8af6a9f1-00c0-4b9f-a47d-c2dce39ab265"
      },
      "execution_count": 157,
      "outputs": [
        {
          "output_type": "stream",
          "name": "stdout",
          "text": [
            "(10000, 28, 28, 1)\n"
          ]
        }
      ]
    },
    {
      "cell_type": "code",
      "source": [
        "x_test_noise =  x_test + noise"
      ],
      "metadata": {
        "id": "yyuXSpM9bvUA"
      },
      "execution_count": 158,
      "outputs": []
    },
    {
      "cell_type": "code",
      "source": [
        "x_test_noise = np.squeeze( x_test_noise)\n",
        "print(x_test_noise.shape)\n",
        "fig,ax = plt.subplots(1,2,figsize=(10,10))\n",
        "ax[0].imshow(np.squeeze(x_test[0]),cmap='gray_r')\n",
        "ax[1].imshow(x_test_noise[0],cmap='gray_r')"
      ],
      "metadata": {
        "colab": {
          "base_uri": "https://localhost:8080/",
          "height": 338
        },
        "id": "bCKRLg6LcPSw",
        "outputId": "40741a7a-c163-490f-b754-40efbd63ee86"
      },
      "execution_count": 159,
      "outputs": [
        {
          "output_type": "stream",
          "name": "stdout",
          "text": [
            "(10000, 28, 28)\n"
          ]
        },
        {
          "output_type": "execute_result",
          "data": {
            "text/plain": [
              "<matplotlib.image.AxesImage at 0x7fb3ac77d7d0>"
            ]
          },
          "metadata": {},
          "execution_count": 159
        },
        {
          "output_type": "display_data",
          "data": {
            "text/plain": [
              "<Figure size 720x720 with 2 Axes>"
            ],
            "image/png": "[encoded data removed]"
          },
          "metadata": {
            "needs_background": "light"
          }
        }
      ]
    },
    {
      "cell_type": "code",
      "source": [
        "predict_noise =  model.predict(np.expand_dims( x_test_noise, axis=-1))\n",
        "plt.imshow(predict_noise[0],cmap='gray_r')"
      ],
      "metadata": {
        "colab": {
          "base_uri": "https://localhost:8080/",
          "height": 301
        },
        "id": "mSZtkLlrcXbw",
        "outputId": "ab09b82e-44dc-4fe8-b9fc-381a9a0e1a14"
      },
      "execution_count": 160,
      "outputs": [
        {
          "output_type": "stream",
          "name": "stdout",
          "text": [
            "313/313 [==============================] - 1s 2ms/step\n"
          ]
        },
        {
          "output_type": "execute_result",
          "data": {
            "text/plain": [
              "<matplotlib.image.AxesImage at 0x7fb3ac72fe10>"
            ]
          },
          "metadata": {},
          "execution_count": 160
        },
        {
          "output_type": "display_data",
          "data": {
            "text/plain": [
              "<Figure size 432x288 with 1 Axes>"
            ],
            "image/png": "[encoded data removed]"
          },
          "metadata": {
            "needs_background": "light"
          }
        }
      ]
    },
    {
      "cell_type": "code",
      "source": [
        "from tensorflow.keras.datasets import cifar10"
      ],
      "metadata": {
        "id": "ik3tgWv6c4lo"
      },
      "execution_count": 161,
      "outputs": []
    },
    {
      "cell_type": "code",
      "source": [
        "(x_train,y_train),(x_test,y_test) = cifar10.load_data()\n",
        "# 표준화\n",
        "x_train = x_train.astype('float32') / 255.0\n",
        "x_test = x_test.astype('float32') / 255.0"
      ],
      "metadata": {
        "colab": {
          "base_uri": "https://localhost:8080/"
        },
        "id": "xdGmoxeVgY46",
        "outputId": "f3de0549-0a33-40a7-b212-19df8519ae93"
      },
      "execution_count": 162,
      "outputs": [
        {
          "output_type": "stream",
          "name": "stdout",
          "text": [
            "Downloading data from https://www.cs.toronto.edu/~kriz/cifar-10-python.tar.gz\n",
            "170498071/170498071 [==============================] - 6s 0us/step\n"
          ]
        }
      ]
    },
    {
      "cell_type": "code",
      "source": [
        "x_train.shape"
      ],
      "metadata": {
        "colab": {
          "base_uri": "https://localhost:8080/"
        },
        "id": "5U5PPFwRgsCE",
        "outputId": "bc6da121-1b03-4496-b137-52eb7851fad2"
      },
      "execution_count": 163,
      "outputs": [
        {
          "output_type": "execute_result",
          "data": {
            "text/plain": [
              "(50000, 32, 32, 3)"
            ]
          },
          "metadata": {},
          "execution_count": 163
        }
      ]
    },
    {
      "cell_type": "code",
      "source": [
        "# 오토 인코더 모델 정의 \n",
        "def Autoencoder():\n",
        "\n",
        "    model = Sequential()\n",
        "\n",
        "    # Encoder 부분\n",
        "    model.add(Conv2D(filters=16, kernel_size=(3, 3), \n",
        "                     activation='relu', input_shape=[32, 32, 3]))\n",
        "    model.add(MaxPooling2D(pool_size=(2, 2)))\n",
        "    model.add(Flatten())\n",
        "    model.add(Dense(64, activation='relu')) \n",
        "\n",
        "    # Decoder 부분\n",
        "    model.add(Dense(units=32*32*3, activation='sigmoid'))   \n",
        "    model.add(Reshape((32,32,3)))     \n",
        "\n",
        "    # Compile \n",
        "    model.compile(optimizer='adam', \n",
        "                  loss='mean_squared_error',metrics=['acc'])\n",
        "\n",
        "    return model  \n",
        "\n",
        "model = Autoencoder()\n",
        "model.summary()"
      ],
      "metadata": {
        "colab": {
          "base_uri": "https://localhost:8080/"
        },
        "id": "MpUh8-P6giHn",
        "outputId": "e90a21e8-e3e7-4d23-f62f-294346a7d311"
      },
      "execution_count": 164,
      "outputs": [
        {
          "output_type": "stream",
          "name": "stdout",
          "text": [
            "Model: \"sequential_19\"\n",
            "_________________________________________________________________\n",
            " Layer (type)                Output Shape              Param #   \n",
            "=================================================================\n",
            " conv2d_19 (Conv2D)          (None, 30, 30, 16)        448       \n",
            "                                                                 \n",
            " max_pooling2d_19 (MaxPoolin  (None, 15, 15, 16)       0         \n",
            " g2D)                                                            \n",
            "                                                                 \n",
            " flatten_19 (Flatten)        (None, 3600)              0         \n",
            "                                                                 \n",
            " dense_38 (Dense)            (None, 64)                230464    \n",
            "                                                                 \n",
            " dense_39 (Dense)            (None, 3072)              199680    \n",
            "                                                                 \n",
            " reshape_13 (Reshape)        (None, 32, 32, 3)         0         \n",
            "                                                                 \n",
            "=================================================================\n",
            "Total params: 430,592\n",
            "Trainable params: 430,592\n",
            "Non-trainable params: 0\n",
            "_________________________________________________________________\n"
          ]
        }
      ]
    },
    {
      "cell_type": "code",
      "source": [
        "earlyStop = tf.keras.callbacks.EarlyStopping(monitor='val_loss',patience=3)\n",
        "hist = model.fit(x_train,x_train,batch_size=64,epochs=100,validation_data=(x_test,x_test),callbacks=[earlyStop]  )"
      ],
      "metadata": {
        "colab": {
          "base_uri": "https://localhost:8080/"
        },
        "id": "C3jS0rFVg2Zy",
        "outputId": "7c7d1db8-b252-4a85-889b-2a3ec79322cb"
      },
      "execution_count": 166,
      "outputs": [
        {
          "output_type": "stream",
          "name": "stdout",
          "text": [
            "Epoch 1/100\n",
            "782/782 [==============================] - 4s 5ms/step - loss: 0.0136 - acc: 0.7110 - val_loss: 0.0137 - val_acc: 0.7089\n",
            "Epoch 2/100\n",
            "782/782 [==============================] - 4s 5ms/step - loss: 0.0136 - acc: 0.7114 - val_loss: 0.0138 - val_acc: 0.7137\n",
            "Epoch 3/100\n",
            "782/782 [==============================] - 4s 5ms/step - loss: 0.0136 - acc: 0.7116 - val_loss: 0.0136 - val_acc: 0.7168\n",
            "Epoch 4/100\n",
            "782/782 [==============================] - 4s 5ms/step - loss: 0.0136 - acc: 0.7121 - val_loss: 0.0137 - val_acc: 0.7129\n",
            "Epoch 5/100\n",
            "782/782 [==============================] - 4s 5ms/step - loss: 0.0136 - acc: 0.7123 - val_loss: 0.0136 - val_acc: 0.7192\n",
            "Epoch 6/100\n",
            "782/782 [==============================] - 4s 5ms/step - loss: 0.0136 - acc: 0.7126 - val_loss: 0.0136 - val_acc: 0.7203\n",
            "Epoch 7/100\n",
            "782/782 [==============================] - 4s 5ms/step - loss: 0.0135 - acc: 0.7127 - val_loss: 0.0136 - val_acc: 0.7149\n",
            "Epoch 8/100\n",
            "782/782 [==============================] - 4s 5ms/step - loss: 0.0135 - acc: 0.7127 - val_loss: 0.0135 - val_acc: 0.7171\n",
            "Epoch 9/100\n",
            "782/782 [==============================] - 4s 5ms/step - loss: 0.0135 - acc: 0.7129 - val_loss: 0.0136 - val_acc: 0.7194\n",
            "Epoch 10/100\n",
            "782/782 [==============================] - 4s 5ms/step - loss: 0.0135 - acc: 0.7131 - val_loss: 0.0134 - val_acc: 0.7051\n",
            "Epoch 11/100\n",
            "782/782 [==============================] - 4s 5ms/step - loss: 0.0132 - acc: 0.7133 - val_loss: 0.0132 - val_acc: 0.7006\n",
            "Epoch 12/100\n",
            "782/782 [==============================] - 4s 5ms/step - loss: 0.0130 - acc: 0.7130 - val_loss: 0.0130 - val_acc: 0.7209\n",
            "Epoch 13/100\n",
            "782/782 [==============================] - 4s 5ms/step - loss: 0.0130 - acc: 0.7133 - val_loss: 0.0130 - val_acc: 0.7122\n",
            "Epoch 14/100\n",
            "782/782 [==============================] - 4s 5ms/step - loss: 0.0129 - acc: 0.7135 - val_loss: 0.0130 - val_acc: 0.7032\n",
            "Epoch 15/100\n",
            "782/782 [==============================] - 4s 5ms/step - loss: 0.0129 - acc: 0.7133 - val_loss: 0.0129 - val_acc: 0.7111\n",
            "Epoch 16/100\n",
            "782/782 [==============================] - 4s 5ms/step - loss: 0.0129 - acc: 0.7134 - val_loss: 0.0129 - val_acc: 0.7173\n",
            "Epoch 17/100\n",
            "782/782 [==============================] - 4s 5ms/step - loss: 0.0129 - acc: 0.7142 - val_loss: 0.0129 - val_acc: 0.7144\n",
            "Epoch 18/100\n",
            "782/782 [==============================] - 4s 5ms/step - loss: 0.0128 - acc: 0.7142 - val_loss: 0.0132 - val_acc: 0.7210\n",
            "Epoch 19/100\n",
            "782/782 [==============================] - 4s 5ms/step - loss: 0.0128 - acc: 0.7144 - val_loss: 0.0128 - val_acc: 0.7205\n",
            "Epoch 20/100\n",
            "782/782 [==============================] - 4s 5ms/step - loss: 0.0128 - acc: 0.7145 - val_loss: 0.0129 - val_acc: 0.7158\n",
            "Epoch 21/100\n",
            "782/782 [==============================] - 4s 5ms/step - loss: 0.0128 - acc: 0.7147 - val_loss: 0.0129 - val_acc: 0.7190\n",
            "Epoch 22/100\n",
            "782/782 [==============================] - 4s 5ms/step - loss: 0.0128 - acc: 0.7145 - val_loss: 0.0129 - val_acc: 0.7166\n"
          ]
        }
      ]
    },
    {
      "cell_type": "code",
      "source": [
        "predict = model.predict(x_test)"
      ],
      "metadata": {
        "colab": {
          "base_uri": "https://localhost:8080/"
        },
        "id": "WThx25aAhREP",
        "outputId": "884be509-ccb5-4322-cca1-384c7b247b8a"
      },
      "execution_count": 167,
      "outputs": [
        {
          "output_type": "stream",
          "name": "stdout",
          "text": [
            "313/313 [==============================] - 1s 2ms/step\n"
          ]
        }
      ]
    },
    {
      "cell_type": "code",
      "source": [
        "fig,ax = plt.subplots(1,2,figsize=(10,10))\n",
        "ax[0].imshow(x_test[0],cmap='gray_r')\n",
        "ax[1].imshow(predict[0],cmap='gray_r')"
      ],
      "metadata": {
        "colab": {
          "base_uri": "https://localhost:8080/",
          "height": 320
        },
        "id": "fzDiiC3qikKu",
        "outputId": "ed1ec62c-652e-46eb-cbb9-15d3d5f02936"
      },
      "execution_count": 168,
      "outputs": [
        {
          "output_type": "execute_result",
          "data": {
            "text/plain": [
              "<matplotlib.image.AxesImage at 0x7fb3a9ca4fd0>"
            ]
          },
          "metadata": {},
          "execution_count": 168
        },
        {
          "output_type": "display_data",
          "data": {
            "text/plain": [
              "<Figure size 720x720 with 2 Axes>"
            ],
            "image/png": "[encoded data removed]"
          },
          "metadata": {
            "needs_background": "light"
          }
        }
      ]
    }
  ]
}
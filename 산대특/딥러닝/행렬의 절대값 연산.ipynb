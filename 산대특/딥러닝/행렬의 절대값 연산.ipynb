{
 "cells": [
  {
   "cell_type": "code",
   "execution_count": 45,
   "id": "67f04403",
   "metadata": {},
   "outputs": [],
   "source": [
    "import numpy as np, cv2"
   ]
  },
  {
   "cell_type": "code",
   "execution_count": 46,
   "id": "5f9d25cc",
   "metadata": {},
   "outputs": [],
   "source": [
    "image1 = cv2.imread('./abs_test1.jpg')#, cv2.IMREAD_GRAYSCALE)  # 명암도 영상 읽기\n",
    "image2 = cv2.imread('./abs_test2.jpg')#, cv2.IMREAD_GRAYSCALE)  # 명암도 영상 읽기"
   ]
  },
  {
   "cell_type": "code",
   "execution_count": 47,
   "id": "9ee37a61",
   "metadata": {},
   "outputs": [],
   "source": [
    "image1.shape, image2.shape\n",
    "dif_img1 = cv2.subtract(image1,image2)\n",
    "dif_img2 = cv2.subtract(np.int16(image1), np.int16(image2))\n",
    "abs_dif1 = np.absolute(dif_img2).astype('uint8')\n",
    "abs_dif2 = cv2.absdiff(image1,image2)"
   ]
  },
  {
   "cell_type": "code",
   "execution_count": 48,
   "id": "b523446d",
   "metadata": {
    "scrolled": true
   },
   "outputs": [
    {
     "name": "stdout",
     "output_type": "stream",
     "text": [
      "[[[0 0 0]\n",
      "  [0 0 0]\n",
      "  [0 0 0]\n",
      "  [0 0 0]\n",
      "  [0 0 0]\n",
      "  [0 0 0]\n",
      "  [0 0 0]]\n",
      "\n",
      " [[0 0 0]\n",
      "  [0 0 0]\n",
      "  [0 0 0]\n",
      "  [0 0 0]\n",
      "  [0 0 0]\n",
      "  [0 0 0]\n",
      "  [0 0 0]]\n",
      "\n",
      " [[0 0 0]\n",
      "  [0 0 0]\n",
      "  [0 0 0]\n",
      "  [0 0 0]\n",
      "  [0 0 0]\n",
      "  [0 0 0]\n",
      "  [0 0 0]]]\n",
      "[[[ 12288  17152  22784]\n",
      "  [  9728  14592  20480]\n",
      "  [ 10496  15360  20992]\n",
      "  [ 10240  15104  20736]\n",
      "  [  8192  12800  18688]\n",
      "  [ 14592  19200  24576]\n",
      "  [ 25600  30720 -30464]]\n",
      "\n",
      " [[ 10240  15104  20736]\n",
      "  [  9472  14336  20224]\n",
      "  [ 11008  15872  21504]\n",
      "  [  9984  14848  20480]\n",
      "  [  8960  13568  19456]\n",
      "  [ 13056  17664  23040]\n",
      "  [ 28416 -32000 -27648]]\n",
      "\n",
      " [[ 10496  14080  21248]\n",
      "  [ 10752  14336  21504]\n",
      "  [ 11520  15104  22272]\n",
      "  [ 12288  15872  23040]\n",
      "  [ 13568  18176  26112]\n",
      "  [  8192  13056  20480]\n",
      "  [ 19456  24576  30976]]]\n",
      "[[[0 0 0]\n",
      "  [0 0 0]\n",
      "  [0 0 0]\n",
      "  [0 0 0]\n",
      "  [0 0 0]\n",
      "  [0 0 0]\n",
      "  [0 0 0]]\n",
      "\n",
      " [[0 0 0]\n",
      "  [0 0 0]\n",
      "  [0 0 0]\n",
      "  [0 0 0]\n",
      "  [0 0 0]\n",
      "  [0 0 0]\n",
      "  [0 0 0]]\n",
      "\n",
      " [[0 0 0]\n",
      "  [0 0 0]\n",
      "  [0 0 0]\n",
      "  [0 0 0]\n",
      "  [0 0 0]\n",
      "  [0 0 0]\n",
      "  [0 0 0]]]\n",
      "[[[208 189 167]\n",
      "  [218 199 176]\n",
      "  [215 196 174]\n",
      "  [216 197 175]\n",
      "  [224 206 183]\n",
      "  [199 181 160]\n",
      "  [156 136 119]]\n",
      "\n",
      " [[216 197 175]\n",
      "  [219 200 177]\n",
      "  [213 194 172]\n",
      "  [217 198 176]\n",
      "  [221 203 180]\n",
      "  [205 187 166]\n",
      "  [145 125 108]]\n",
      "\n",
      " [[215 201 173]\n",
      "  [214 200 172]\n",
      "  [211 197 169]\n",
      "  [208 194 166]\n",
      "  [203 185 154]\n",
      "  [224 205 176]\n",
      "  [180 160 135]]]\n"
     ]
    }
   ],
   "source": [
    "# 관심영역 roi\n",
    "x,y,w,h = 100,150,7,3\n",
    "print(dif_img1[y:y+h, x:x+w])\n",
    "print(dif_img2[y:y+h, x:x+w])\n",
    "print(abs_dif1[y:y+h, x:x+w])\n",
    "print(abs_dif2[y:y+h, x:x+w])"
   ]
  },
  {
   "cell_type": "code",
   "execution_count": 49,
   "id": "4d54af56",
   "metadata": {
    "scrolled": true
   },
   "outputs": [],
   "source": [
    "images = [image1,image2,dif_img1,dif_img2,abs_dif1,abs_dif2]\n",
    "for idx, image in enumerate(images):\n",
    "    cv2.imshow(str(idx+1),image)\n",
    "cv2.waitKey(0)    \n",
    "cv2.destroyAllWindows()"
   ]
  },
  {
   "cell_type": "code",
   "execution_count": null,
   "id": "10dbe854",
   "metadata": {},
   "outputs": [],
   "source": []
  }
 ],
 "metadata": {
  "kernelspec": {
   "display_name": "Python 3 (ipykernel)",
   "language": "python",
   "name": "python3"
  },
  "language_info": {
   "codemirror_mode": {
    "name": "ipython",
    "version": 3
   },
   "file_extension": ".py",
   "mimetype": "text/x-python",
   "name": "python",
   "nbconvert_exporter": "python",
   "pygments_lexer": "ipython3",
   "version": "3.7.0"
  }
 },
 "nbformat": 4,
 "nbformat_minor": 5
}

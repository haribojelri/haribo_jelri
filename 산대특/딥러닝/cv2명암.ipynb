{
 "cells": [
  {
   "cell_type": "code",
   "execution_count": 19,
   "id": "bf8488a3",
   "metadata": {},
   "outputs": [],
   "source": [
    "import numpy as np, cv2"
   ]
  },
  {
   "cell_type": "code",
   "execution_count": 20,
   "id": "9a8fee59",
   "metadata": {},
   "outputs": [],
   "source": [
    "image = cv2.imread('add1.jpg',cv2.IMREAD_GRAYSCALE)"
   ]
  },
  {
   "cell_type": "code",
   "execution_count": 21,
   "id": "18276963",
   "metadata": {},
   "outputs": [],
   "source": [
    "noimage =  np.zeros(image.shape[:2], image.dtype)\n",
    "# 평균화소\n",
    "avg = cv2.mean(image)[0]/2.0"
   ]
  },
  {
   "cell_type": "code",
   "execution_count": 22,
   "id": "88b2d8c2",
   "metadata": {},
   "outputs": [
    {
     "data": {
      "text/plain": [
       "(300, 300)"
      ]
     },
     "execution_count": 22,
     "metadata": {},
     "output_type": "execute_result"
    }
   ],
   "source": [
    "image.shape"
   ]
  },
  {
   "cell_type": "code",
   "execution_count": 23,
   "id": "bc30ffde",
   "metadata": {},
   "outputs": [
    {
     "data": {
      "text/plain": [
       "(138.04705555555557, 0.0, 0.0, 0.0)"
      ]
     },
     "execution_count": 23,
     "metadata": {},
     "output_type": "execute_result"
    }
   ],
   "source": [
    "cv2.mean(image)"
   ]
  },
  {
   "cell_type": "code",
   "execution_count": 24,
   "id": "d3ac8e5f",
   "metadata": {},
   "outputs": [
    {
     "data": {
      "text/plain": [
       "69.02352777777779"
      ]
     },
     "execution_count": 24,
     "metadata": {},
     "output_type": "execute_result"
    }
   ],
   "source": [
    "avg"
   ]
  },
  {
   "cell_type": "code",
   "execution_count": 26,
   "id": "3bdeb93f",
   "metadata": {},
   "outputs": [],
   "source": [
    "dst1 = cv2.scaleAdd(image, 0.5,noimage) # 명암대비 감소\n",
    "dst2 = cv2.scaleAdd(image, 2.0,noimage) # 명암대비 감소\n",
    "dst3 = cv2.addWeighted(image, 0.5,noimage,0,avg) # 명암대비 감소\n",
    "dst4 = cv2.addWeighted(image, 2.0,noimage,0,-avg) # 명암대비 감소"
   ]
  },
  {
   "cell_type": "code",
   "execution_count": 27,
   "id": "aa0145b8",
   "metadata": {},
   "outputs": [],
   "source": [
    "titles = ['image','dst1','dst2','dst3','dst4']\n",
    "for title in titles:\n",
    "    cv2.imshow(title,eval(title))\n",
    "cv2.waitKey(0)    \n",
    "cv2.destroyAllWindows()"
   ]
  },
  {
   "cell_type": "code",
   "execution_count": null,
   "id": "8420d0b8",
   "metadata": {},
   "outputs": [],
   "source": []
  }
 ],
 "metadata": {
  "kernelspec": {
   "display_name": "Python 3 (ipykernel)",
   "language": "python",
   "name": "python3"
  },
  "language_info": {
   "codemirror_mode": {
    "name": "ipython",
    "version": 3
   },
   "file_extension": ".py",
   "mimetype": "text/x-python",
   "name": "python",
   "nbconvert_exporter": "python",
   "pygments_lexer": "ipython3",
   "version": "3.7.0"
  }
 },
 "nbformat": 4,
 "nbformat_minor": 5
}

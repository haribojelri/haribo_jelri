{
 "cells": [
  {
   "cell_type": "code",
   "execution_count": 26,
   "id": "f83fd62a",
   "metadata": {},
   "outputs": [],
   "source": [
    "import numpy as np\n",
    "import cv2"
   ]
  },
  {
   "cell_type": "code",
   "execution_count": 27,
   "id": "67ec182e",
   "metadata": {},
   "outputs": [],
   "source": [
    "b,g,r = (255,0,0),(0,255,0),(0,0,255)\n",
    "image = np.zeros((400,600,3),np.uint8)\n",
    "# image[:] = (255,255,255)\n",
    "image.fill(255)"
   ]
  },
  {
   "cell_type": "code",
   "execution_count": 28,
   "id": "3110c287",
   "metadata": {},
   "outputs": [],
   "source": [
    "# 좌표\n",
    "pt1,pt2 = (50,50), (250,150)\n",
    "pt3, pt4 = (400,150), (500,50)\n",
    "roi = (50,200,200,100)  # 사각형 영역"
   ]
  },
  {
   "cell_type": "code",
   "execution_count": 30,
   "id": "3099e12b",
   "metadata": {},
   "outputs": [],
   "source": [
    "# 직선\n",
    "cv2.line(image,pt1,pt2,r)\n",
    "cv2.line(image,pt3,pt4,g, 3, cv2.LINE_AA) # 계단감소효과\n",
    "\n",
    "#사각형\n",
    "cv2.rectangle(image,pt1,pt2, b, cv2.LINE_4)\n",
    "cv2.rectangle(image,roi,r)\n",
    "cv2.rectangle(image,(400,200,100,100), g,cv2.FILLED)\n",
    "\n",
    "cv2.imshow(\"draw\", image)\n",
    "cv2.waitKey(0)\n",
    "cv2.destroyAllWindows()"
   ]
  },
  {
   "cell_type": "code",
   "execution_count": null,
   "id": "dfee8970",
   "metadata": {},
   "outputs": [],
   "source": []
  }
 ],
 "metadata": {
  "kernelspec": {
   "display_name": "Python 3 (ipykernel)",
   "language": "python",
   "name": "python3"
  },
  "language_info": {
   "codemirror_mode": {
    "name": "ipython",
    "version": 3
   },
   "file_extension": ".py",
   "mimetype": "text/x-python",
   "name": "python",
   "nbconvert_exporter": "python",
   "pygments_lexer": "ipython3",
   "version": "3.7.0"
  }
 },
 "nbformat": 4,
 "nbformat_minor": 5
}

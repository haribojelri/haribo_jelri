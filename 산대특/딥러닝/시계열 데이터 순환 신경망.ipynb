{
 "cells": [
  {
   "cell_type": "code",
   "execution_count": 1,
   "id": "cdb65a52",
   "metadata": {},
   "outputs": [],
   "source": [
    "import numpy as np\n",
    "import pandas as pd\n",
    "import matplotlib.pyplot as plt"
   ]
  },
  {
   "cell_type": "code",
   "execution_count": 2,
   "id": "e3a9a1b7",
   "metadata": {},
   "outputs": [
    {
     "name": "stdout",
     "output_type": "stream",
     "text": [
      "WARNING:tensorflow:Layer lstm will not use cuDNN kernels since it doesn't meet the criteria. It will use a generic GPU kernel as fallback when running on GPU.\n",
      "Epoch 1/200\n",
      "250/250 [==============================] - 4s 12ms/step - loss: 1002.2413 - mae: 1002.2413 - val_loss: 746.0520 - val_mae: 746.0520\n",
      "Epoch 2/200\n",
      "250/250 [==============================] - 3s 12ms/step - loss: 509.7299 - mae: 509.7299 - val_loss: 512.3283 - val_mae: 512.3283\n",
      "Epoch 3/200\n",
      "250/250 [==============================] - 3s 12ms/step - loss: 515.3365 - mae: 515.3365 - val_loss: 308.9021 - val_mae: 308.9021\n",
      "Epoch 4/200\n",
      "250/250 [==============================] - 3s 12ms/step - loss: 488.6675 - mae: 488.6675 - val_loss: 643.3533 - val_mae: 643.3533\n",
      "Epoch 5/200\n",
      "250/250 [==============================] - 3s 12ms/step - loss: 499.0508 - mae: 499.0508 - val_loss: 303.7998 - val_mae: 303.7998\n",
      "Epoch 6/200\n",
      "250/250 [==============================] - 3s 12ms/step - loss: 505.4706 - mae: 505.4706 - val_loss: 300.5934 - val_mae: 300.5934\n",
      "Epoch 7/200\n",
      "250/250 [==============================] - 3s 12ms/step - loss: 484.3509 - mae: 484.3509 - val_loss: 296.4471 - val_mae: 296.4471\n",
      "Epoch 8/200\n",
      "250/250 [==============================] - 3s 12ms/step - loss: 482.2919 - mae: 482.2919 - val_loss: 403.1364 - val_mae: 403.1364\n",
      "Epoch 9/200\n",
      "250/250 [==============================] - 3s 12ms/step - loss: 479.7435 - mae: 479.7435 - val_loss: 347.8059 - val_mae: 347.8059\n",
      "Epoch 10/200\n",
      "250/250 [==============================] - 3s 12ms/step - loss: 481.5773 - mae: 481.5773 - val_loss: 328.2347 - val_mae: 328.2347\n",
      "Epoch 11/200\n",
      "250/250 [==============================] - 3s 13ms/step - loss: 451.2410 - mae: 451.2410 - val_loss: 362.7633 - val_mae: 362.7633\n",
      "Epoch 12/200\n",
      "250/250 [==============================] - 3s 13ms/step - loss: 440.1661 - mae: 440.1661 - val_loss: 324.6656 - val_mae: 324.6656\n",
      "Epoch 13/200\n",
      "250/250 [==============================] - 3s 13ms/step - loss: 458.4000 - mae: 458.4000 - val_loss: 401.7814 - val_mae: 401.7814\n",
      "Epoch 14/200\n",
      "250/250 [==============================] - 3s 13ms/step - loss: 421.2739 - mae: 421.2739 - val_loss: 266.9614 - val_mae: 266.9614\n",
      "Epoch 15/200\n",
      "250/250 [==============================] - 3s 13ms/step - loss: 418.9781 - mae: 418.9781 - val_loss: 359.7959 - val_mae: 359.7959\n",
      "Epoch 16/200\n",
      "250/250 [==============================] - 3s 12ms/step - loss: 444.8549 - mae: 444.8549 - val_loss: 394.6863 - val_mae: 394.6863\n",
      "Epoch 17/200\n",
      "250/250 [==============================] - 3s 12ms/step - loss: 400.2940 - mae: 400.2940 - val_loss: 280.8562 - val_mae: 280.8562\n",
      "Epoch 18/200\n",
      "250/250 [==============================] - 3s 12ms/step - loss: 414.8666 - mae: 414.8666 - val_loss: 320.1804 - val_mae: 320.1804\n",
      "Epoch 19/200\n",
      "250/250 [==============================] - 3s 11ms/step - loss: 400.8247 - mae: 400.8247 - val_loss: 287.5075 - val_mae: 287.5075\n",
      "Epoch 20/200\n",
      "250/250 [==============================] - 3s 11ms/step - loss: 413.3869 - mae: 413.3869 - val_loss: 239.0549 - val_mae: 239.0549\n",
      "Epoch 21/200\n",
      "250/250 [==============================] - 3s 13ms/step - loss: 395.2975 - mae: 395.2975 - val_loss: 223.4780 - val_mae: 223.4780\n",
      "Epoch 22/200\n",
      "250/250 [==============================] - 3s 12ms/step - loss: 361.6641 - mae: 361.6641 - val_loss: 220.3132 - val_mae: 220.3132\n",
      "Epoch 23/200\n",
      "250/250 [==============================] - 3s 12ms/step - loss: 398.1124 - mae: 398.1124 - val_loss: 394.5355 - val_mae: 394.5355\n",
      "Epoch 24/200\n",
      "250/250 [==============================] - 3s 12ms/step - loss: 359.2759 - mae: 359.2759 - val_loss: 455.1995 - val_mae: 455.1995\n",
      "Epoch 25/200\n",
      "250/250 [==============================] - 3s 11ms/step - loss: 407.1544 - mae: 407.1544 - val_loss: 218.7283 - val_mae: 218.7283\n",
      "Epoch 26/200\n",
      "250/250 [==============================] - 3s 12ms/step - loss: 389.5169 - mae: 389.5169 - val_loss: 287.6545 - val_mae: 287.6545\n",
      "Epoch 27/200\n",
      "250/250 [==============================] - 3s 12ms/step - loss: 331.7441 - mae: 331.7441 - val_loss: 370.8505 - val_mae: 370.8505\n",
      "Epoch 28/200\n",
      "250/250 [==============================] - 3s 12ms/step - loss: 352.6648 - mae: 352.6648 - val_loss: 208.3445 - val_mae: 208.3445\n",
      "Epoch 29/200\n",
      "250/250 [==============================] - 3s 12ms/step - loss: 323.9826 - mae: 323.9826 - val_loss: 229.1996 - val_mae: 229.1996\n",
      "Epoch 30/200\n",
      "250/250 [==============================] - 3s 13ms/step - loss: 315.8407 - mae: 315.8407 - val_loss: 197.2356 - val_mae: 197.2356\n",
      "Epoch 31/200\n",
      "250/250 [==============================] - 3s 12ms/step - loss: 354.4349 - mae: 354.4349 - val_loss: 381.9306 - val_mae: 381.9306\n",
      "Epoch 32/200\n",
      "250/250 [==============================] - 3s 12ms/step - loss: 343.4785 - mae: 343.4785 - val_loss: 287.9113 - val_mae: 287.9113\n",
      "Epoch 33/200\n",
      "250/250 [==============================] - 3s 12ms/step - loss: 311.2916 - mae: 311.2916 - val_loss: 299.7536 - val_mae: 299.7536\n",
      "Epoch 34/200\n",
      "250/250 [==============================] - 3s 13ms/step - loss: 323.5952 - mae: 323.5952 - val_loss: 189.2100 - val_mae: 189.2100\n",
      "Epoch 35/200\n",
      "250/250 [==============================] - 3s 12ms/step - loss: 306.7322 - mae: 306.7322 - val_loss: 255.5522 - val_mae: 255.5522\n",
      "Epoch 36/200\n",
      "250/250 [==============================] - 3s 12ms/step - loss: 308.3701 - mae: 308.3701 - val_loss: 189.2106 - val_mae: 189.2106\n",
      "Epoch 37/200\n",
      "250/250 [==============================] - 3s 12ms/step - loss: 297.3766 - mae: 297.3766 - val_loss: 185.3802 - val_mae: 185.3802\n",
      "Epoch 38/200\n",
      "250/250 [==============================] - 3s 12ms/step - loss: 319.0787 - mae: 319.0787 - val_loss: 300.7733 - val_mae: 300.7733\n",
      "Epoch 39/200\n",
      "250/250 [==============================] - 3s 12ms/step - loss: 318.2167 - mae: 318.2167 - val_loss: 192.5613 - val_mae: 192.5613\n",
      "Epoch 40/200\n",
      "250/250 [==============================] - 3s 12ms/step - loss: 324.7421 - mae: 324.7421 - val_loss: 328.4213 - val_mae: 328.4213\n",
      "Epoch 41/200\n",
      "250/250 [==============================] - 3s 12ms/step - loss: 347.2664 - mae: 347.2664 - val_loss: 187.5760 - val_mae: 187.5760\n",
      "Epoch 42/200\n",
      "250/250 [==============================] - 3s 13ms/step - loss: 297.8139 - mae: 297.8139 - val_loss: 182.1038 - val_mae: 182.1038\n",
      "Epoch 43/200\n",
      "250/250 [==============================] - 3s 13ms/step - loss: 319.0875 - mae: 319.0875 - val_loss: 181.7956 - val_mae: 181.7956\n",
      "Epoch 44/200\n",
      "250/250 [==============================] - 3s 13ms/step - loss: 328.0754 - mae: 328.0754 - val_loss: 207.9329 - val_mae: 207.9329\n",
      "Epoch 45/200\n",
      "250/250 [==============================] - 3s 13ms/step - loss: 313.4801 - mae: 313.4801 - val_loss: 323.4219 - val_mae: 323.4219\n",
      "Epoch 46/200\n",
      "250/250 [==============================] - 3s 13ms/step - loss: 292.8708 - mae: 292.8708 - val_loss: 324.4965 - val_mae: 324.4965\n",
      "Epoch 47/200\n",
      "250/250 [==============================] - 3s 12ms/step - loss: 281.5583 - mae: 281.5583 - val_loss: 214.1065 - val_mae: 214.1065\n",
      "Epoch 48/200\n",
      "250/250 [==============================] - 3s 12ms/step - loss: 278.4345 - mae: 278.4345 - val_loss: 187.9454 - val_mae: 187.9454\n",
      "Epoch 49/200\n",
      "250/250 [==============================] - 3s 12ms/step - loss: 304.9462 - mae: 304.9462 - val_loss: 195.3951 - val_mae: 195.3951\n",
      "Epoch 50/200\n",
      "250/250 [==============================] - 3s 12ms/step - loss: 307.7502 - mae: 307.7502 - val_loss: 175.5669 - val_mae: 175.5669\n",
      "Epoch 51/200\n",
      "250/250 [==============================] - 3s 13ms/step - loss: 276.1750 - mae: 276.1750 - val_loss: 184.2447 - val_mae: 184.2447\n",
      "Epoch 52/200\n",
      "250/250 [==============================] - 3s 13ms/step - loss: 283.7065 - mae: 283.7065 - val_loss: 189.0694 - val_mae: 189.0694\n",
      "Epoch 53/200\n",
      "250/250 [==============================] - 3s 13ms/step - loss: 284.5254 - mae: 284.5254 - val_loss: 319.1936 - val_mae: 319.1936\n",
      "Epoch 54/200\n",
      "250/250 [==============================] - 3s 11ms/step - loss: 290.7979 - mae: 290.7979 - val_loss: 193.9763 - val_mae: 193.9763\n",
      "Epoch 55/200\n",
      "250/250 [==============================] - 3s 12ms/step - loss: 275.2119 - mae: 275.2119 - val_loss: 240.4242 - val_mae: 240.4242\n",
      "Epoch 56/200\n",
      "250/250 [==============================] - 3s 12ms/step - loss: 272.8361 - mae: 272.8361 - val_loss: 173.5565 - val_mae: 173.5565\n",
      "Epoch 57/200\n"
     ]
    },
    {
     "name": "stdout",
     "output_type": "stream",
     "text": [
      "250/250 [==============================] - 3s 12ms/step - loss: 264.5424 - mae: 264.5424 - val_loss: 317.7352 - val_mae: 317.7352\n",
      "Epoch 58/200\n",
      "250/250 [==============================] - 3s 13ms/step - loss: 277.9135 - mae: 277.9135 - val_loss: 170.5474 - val_mae: 170.5474\n",
      "Epoch 59/200\n",
      "250/250 [==============================] - 3s 12ms/step - loss: 284.4441 - mae: 284.4441 - val_loss: 170.1581 - val_mae: 170.1581\n",
      "Epoch 60/200\n",
      "250/250 [==============================] - 3s 12ms/step - loss: 281.3185 - mae: 281.3185 - val_loss: 275.0291 - val_mae: 275.0291\n",
      "Epoch 61/200\n",
      "250/250 [==============================] - 3s 12ms/step - loss: 285.2419 - mae: 285.2419 - val_loss: 171.4120 - val_mae: 171.4120\n",
      "Epoch 62/200\n",
      "250/250 [==============================] - 3s 12ms/step - loss: 273.2350 - mae: 273.2350 - val_loss: 170.2379 - val_mae: 170.2379\n",
      "Epoch 63/200\n",
      "250/250 [==============================] - 3s 12ms/step - loss: 269.3061 - mae: 269.3061 - val_loss: 167.4574 - val_mae: 167.4574\n",
      "Epoch 64/200\n",
      "250/250 [==============================] - 3s 13ms/step - loss: 264.8353 - mae: 264.8353 - val_loss: 352.8126 - val_mae: 352.8126\n",
      "Epoch 65/200\n",
      "250/250 [==============================] - 3s 12ms/step - loss: 295.8589 - mae: 295.8589 - val_loss: 167.4571 - val_mae: 167.4571\n",
      "Epoch 66/200\n",
      "250/250 [==============================] - 3s 12ms/step - loss: 265.9334 - mae: 265.9334 - val_loss: 249.6051 - val_mae: 249.6051\n",
      "Epoch 67/200\n",
      "250/250 [==============================] - 3s 12ms/step - loss: 275.3107 - mae: 275.3107 - val_loss: 270.3940 - val_mae: 270.3940\n",
      "Epoch 68/200\n",
      "250/250 [==============================] - 3s 12ms/step - loss: 266.6143 - mae: 266.6143 - val_loss: 291.9283 - val_mae: 291.9283\n",
      "Epoch 69/200\n",
      "250/250 [==============================] - 3s 12ms/step - loss: 277.1942 - mae: 277.1942 - val_loss: 168.4989 - val_mae: 168.4989\n",
      "Epoch 70/200\n",
      "250/250 [==============================] - 3s 12ms/step - loss: 302.5314 - mae: 302.5314 - val_loss: 264.7912 - val_mae: 264.7912\n",
      "Epoch 71/200\n",
      "250/250 [==============================] - 3s 12ms/step - loss: 268.4318 - mae: 268.4318 - val_loss: 196.5063 - val_mae: 196.5063\n",
      "Epoch 72/200\n",
      "250/250 [==============================] - 3s 12ms/step - loss: 275.3344 - mae: 275.3344 - val_loss: 235.0514 - val_mae: 235.0514\n",
      "Epoch 73/200\n",
      "250/250 [==============================] - 3s 12ms/step - loss: 282.5738 - mae: 282.5738 - val_loss: 286.3120 - val_mae: 286.3120\n",
      "Epoch 74/200\n",
      "250/250 [==============================] - 3s 12ms/step - loss: 272.3750 - mae: 272.3750 - val_loss: 222.6580 - val_mae: 222.6580\n",
      "Epoch 75/200\n",
      "250/250 [==============================] - 3s 11ms/step - loss: 269.3484 - mae: 269.3484 - val_loss: 273.1149 - val_mae: 273.1149\n",
      "Epoch 76/200\n",
      "250/250 [==============================] - 3s 12ms/step - loss: 279.6021 - mae: 279.6021 - val_loss: 166.2747 - val_mae: 166.2747\n",
      "Epoch 77/200\n",
      "250/250 [==============================] - 3s 11ms/step - loss: 269.0422 - mae: 269.0422 - val_loss: 175.4251 - val_mae: 175.4251\n",
      "Epoch 78/200\n",
      "250/250 [==============================] - 3s 12ms/step - loss: 281.9774 - mae: 281.9774 - val_loss: 310.1756 - val_mae: 310.1756\n",
      "Epoch 79/200\n",
      "250/250 [==============================] - 3s 12ms/step - loss: 262.5704 - mae: 262.5704 - val_loss: 168.5966 - val_mae: 168.5966\n",
      "Epoch 80/200\n",
      "250/250 [==============================] - 3s 13ms/step - loss: 288.2910 - mae: 288.2910 - val_loss: 203.2117 - val_mae: 203.2117\n",
      "Epoch 81/200\n",
      "250/250 [==============================] - 3s 13ms/step - loss: 278.8056 - mae: 278.8056 - val_loss: 166.8727 - val_mae: 166.8727\n",
      "Epoch 82/200\n",
      "250/250 [==============================] - 3s 13ms/step - loss: 260.6251 - mae: 260.6251 - val_loss: 249.6462 - val_mae: 249.6462\n",
      "Epoch 83/200\n",
      "250/250 [==============================] - 3s 12ms/step - loss: 276.1125 - mae: 276.1125 - val_loss: 168.8819 - val_mae: 168.8819\n",
      "Epoch 84/200\n",
      "250/250 [==============================] - 3s 12ms/step - loss: 272.0625 - mae: 272.0625 - val_loss: 242.0059 - val_mae: 242.0059\n",
      "Epoch 85/200\n",
      "250/250 [==============================] - 3s 12ms/step - loss: 276.6896 - mae: 276.6896 - val_loss: 172.3084 - val_mae: 172.3084\n",
      "Epoch 86/200\n",
      "250/250 [==============================] - 3s 12ms/step - loss: 265.8000 - mae: 265.8000 - val_loss: 249.4935 - val_mae: 249.4935\n",
      "Epoch 87/200\n",
      "250/250 [==============================] - 3s 12ms/step - loss: 257.2809 - mae: 257.2809 - val_loss: 198.5054 - val_mae: 198.5054\n",
      "Epoch 88/200\n",
      "250/250 [==============================] - 3s 11ms/step - loss: 263.0874 - mae: 263.0874 - val_loss: 190.6655 - val_mae: 190.6655\n",
      "Epoch 89/200\n",
      "250/250 [==============================] - 3s 11ms/step - loss: 264.2843 - mae: 264.2843 - val_loss: 208.9039 - val_mae: 208.9039\n",
      "Epoch 90/200\n",
      "250/250 [==============================] - 3s 12ms/step - loss: 271.7530 - mae: 271.7530 - val_loss: 263.0837 - val_mae: 263.0837\n",
      "Epoch 91/200\n",
      "250/250 [==============================] - 3s 12ms/step - loss: 276.3410 - mae: 276.3410 - val_loss: 181.2897 - val_mae: 181.2897\n",
      "Epoch 92/200\n",
      "250/250 [==============================] - 3s 12ms/step - loss: 262.2607 - mae: 262.2607 - val_loss: 166.9977 - val_mae: 166.9977\n",
      "Epoch 93/200\n",
      "250/250 [==============================] - 3s 13ms/step - loss: 271.4030 - mae: 271.4030 - val_loss: 248.9986 - val_mae: 248.9986\n",
      "Epoch 94/200\n",
      "250/250 [==============================] - 3s 13ms/step - loss: 273.3383 - mae: 273.3383 - val_loss: 167.7071 - val_mae: 167.7071\n",
      "Epoch 95/200\n",
      "250/250 [==============================] - 3s 13ms/step - loss: 273.1584 - mae: 273.1584 - val_loss: 167.7683 - val_mae: 167.7683\n",
      "Epoch 96/200\n",
      "250/250 [==============================] - 3s 12ms/step - loss: 271.6018 - mae: 271.6018 - val_loss: 468.9904 - val_mae: 468.9904\n",
      "Epoch 97/200\n",
      "250/250 [==============================] - 3s 12ms/step - loss: 281.9927 - mae: 281.9927 - val_loss: 179.5884 - val_mae: 179.5884\n",
      "Epoch 98/200\n",
      "250/250 [==============================] - 3s 12ms/step - loss: 268.6190 - mae: 268.6190 - val_loss: 209.1704 - val_mae: 209.1704\n",
      "Epoch 99/200\n",
      "250/250 [==============================] - 3s 12ms/step - loss: 265.3213 - mae: 265.3213 - val_loss: 164.9903 - val_mae: 164.9903\n",
      "Epoch 100/200\n",
      "250/250 [==============================] - 3s 11ms/step - loss: 260.4432 - mae: 260.4432 - val_loss: 166.8989 - val_mae: 166.8989\n",
      "Epoch 101/200\n",
      "250/250 [==============================] - 3s 12ms/step - loss: 261.1236 - mae: 261.1236 - val_loss: 169.4581 - val_mae: 169.4581\n",
      "Epoch 102/200\n",
      "250/250 [==============================] - 3s 12ms/step - loss: 276.8920 - mae: 276.8920 - val_loss: 257.4588 - val_mae: 257.4588\n",
      "Epoch 103/200\n",
      "250/250 [==============================] - 3s 12ms/step - loss: 282.7040 - mae: 282.7040 - val_loss: 227.7766 - val_mae: 227.7766\n",
      "Epoch 104/200\n",
      "250/250 [==============================] - 3s 12ms/step - loss: 253.8143 - mae: 253.8143 - val_loss: 284.0437 - val_mae: 284.0437\n",
      "Epoch 105/200\n",
      "250/250 [==============================] - 3s 12ms/step - loss: 287.8868 - mae: 287.8868 - val_loss: 170.1873 - val_mae: 170.1873\n",
      "Epoch 106/200\n",
      "250/250 [==============================] - 3s 12ms/step - loss: 275.0870 - mae: 275.0870 - val_loss: 179.2151 - val_mae: 179.2151\n",
      "Epoch 107/200\n",
      "250/250 [==============================] - 3s 12ms/step - loss: 262.0220 - mae: 262.0220 - val_loss: 302.3199 - val_mae: 302.3199\n",
      "Epoch 108/200\n",
      "250/250 [==============================] - 3s 12ms/step - loss: 266.5239 - mae: 266.5239 - val_loss: 171.7347 - val_mae: 171.7347\n",
      "Epoch 109/200\n",
      "250/250 [==============================] - 3s 12ms/step - loss: 277.1493 - mae: 277.1493 - val_loss: 173.5065 - val_mae: 173.5065\n",
      "Epoch 110/200\n",
      "250/250 [==============================] - 3s 13ms/step - loss: 257.0579 - mae: 257.0579 - val_loss: 173.6061 - val_mae: 173.6061\n",
      "Epoch 111/200\n",
      "250/250 [==============================] - 3s 13ms/step - loss: 262.8649 - mae: 262.8649 - val_loss: 176.5411 - val_mae: 176.5411\n",
      "Epoch 112/200\n",
      "250/250 [==============================] - 3s 13ms/step - loss: 271.3661 - mae: 271.3661 - val_loss: 170.7712 - val_mae: 170.7712\n",
      "Epoch 113/200\n",
      "250/250 [==============================] - 3s 13ms/step - loss: 263.1212 - mae: 263.1212 - val_loss: 175.3719 - val_mae: 175.3719\n",
      "Epoch 114/200\n"
     ]
    },
    {
     "name": "stdout",
     "output_type": "stream",
     "text": [
      "250/250 [==============================] - 3s 13ms/step - loss: 261.5298 - mae: 261.5298 - val_loss: 169.9223 - val_mae: 169.9223\n",
      "Epoch 115/200\n",
      "250/250 [==============================] - 3s 12ms/step - loss: 265.0569 - mae: 265.0569 - val_loss: 173.9259 - val_mae: 173.9259\n",
      "Epoch 116/200\n",
      "250/250 [==============================] - 3s 12ms/step - loss: 269.5224 - mae: 269.5224 - val_loss: 165.9851 - val_mae: 165.9851\n",
      "Epoch 117/200\n",
      "250/250 [==============================] - 3s 12ms/step - loss: 280.5814 - mae: 280.5814 - val_loss: 181.7179 - val_mae: 181.7179\n",
      "Epoch 118/200\n",
      "250/250 [==============================] - 3s 12ms/step - loss: 268.1469 - mae: 268.1469 - val_loss: 191.6475 - val_mae: 191.6475\n",
      "Epoch 119/200\n",
      "250/250 [==============================] - 3s 13ms/step - loss: 281.2728 - mae: 281.2728 - val_loss: 211.3690 - val_mae: 211.3690\n",
      "Epoch 120/200\n",
      "250/250 [==============================] - 3s 13ms/step - loss: 279.6349 - mae: 279.6349 - val_loss: 253.9300 - val_mae: 253.9300\n",
      "Epoch 121/200\n",
      "250/250 [==============================] - 3s 13ms/step - loss: 269.6255 - mae: 269.6255 - val_loss: 188.9483 - val_mae: 188.9483\n",
      "Epoch 122/200\n",
      "250/250 [==============================] - 3s 12ms/step - loss: 273.8317 - mae: 273.8317 - val_loss: 164.9871 - val_mae: 164.9871\n",
      "Epoch 123/200\n",
      "250/250 [==============================] - 3s 13ms/step - loss: 272.8719 - mae: 272.8719 - val_loss: 257.5477 - val_mae: 257.5477\n",
      "Epoch 124/200\n",
      "250/250 [==============================] - 3s 13ms/step - loss: 265.0116 - mae: 265.0116 - val_loss: 175.8168 - val_mae: 175.8168\n",
      "Epoch 125/200\n",
      "250/250 [==============================] - 3s 12ms/step - loss: 270.5165 - mae: 270.5165 - val_loss: 246.9179 - val_mae: 246.9179\n",
      "Epoch 126/200\n",
      "250/250 [==============================] - 3s 12ms/step - loss: 263.2632 - mae: 263.2632 - val_loss: 165.2502 - val_mae: 165.2502\n",
      "Epoch 127/200\n",
      "250/250 [==============================] - 3s 12ms/step - loss: 260.6048 - mae: 260.6048 - val_loss: 189.5892 - val_mae: 189.5892\n",
      "Epoch 128/200\n",
      "250/250 [==============================] - 3s 11ms/step - loss: 263.3010 - mae: 263.3010 - val_loss: 438.0418 - val_mae: 438.0418\n",
      "Epoch 129/200\n",
      "250/250 [==============================] - 3s 12ms/step - loss: 271.9235 - mae: 271.9235 - val_loss: 248.9080 - val_mae: 248.9080\n",
      "Epoch 130/200\n",
      "250/250 [==============================] - 3s 12ms/step - loss: 267.6365 - mae: 267.6365 - val_loss: 290.7281 - val_mae: 290.7281\n",
      "Epoch 131/200\n",
      "250/250 [==============================] - 3s 12ms/step - loss: 262.9176 - mae: 262.9176 - val_loss: 226.7717 - val_mae: 226.7717\n",
      "Epoch 132/200\n",
      "250/250 [==============================] - 3s 11ms/step - loss: 272.2520 - mae: 272.2520 - val_loss: 210.5550 - val_mae: 210.5550\n",
      "Epoch 133/200\n",
      "250/250 [==============================] - 3s 12ms/step - loss: 254.1199 - mae: 254.1199 - val_loss: 169.0996 - val_mae: 169.0996\n",
      "Epoch 134/200\n",
      "250/250 [==============================] - 3s 12ms/step - loss: 257.4321 - mae: 257.4321 - val_loss: 222.6734 - val_mae: 222.6734\n",
      "Epoch 135/200\n",
      "250/250 [==============================] - 3s 12ms/step - loss: 269.9267 - mae: 269.9267 - val_loss: 170.4457 - val_mae: 170.4457\n",
      "Epoch 136/200\n",
      "250/250 [==============================] - 3s 12ms/step - loss: 264.2268 - mae: 264.2268 - val_loss: 215.8305 - val_mae: 215.8305\n",
      "Epoch 137/200\n",
      "250/250 [==============================] - 3s 11ms/step - loss: 256.6875 - mae: 256.6875 - val_loss: 170.0629 - val_mae: 170.0629\n",
      "Epoch 138/200\n",
      "250/250 [==============================] - 3s 12ms/step - loss: 265.1377 - mae: 265.1377 - val_loss: 168.1447 - val_mae: 168.1447\n",
      "Epoch 139/200\n",
      "250/250 [==============================] - 3s 12ms/step - loss: 268.1252 - mae: 268.1252 - val_loss: 172.5853 - val_mae: 172.5853\n",
      "Epoch 140/200\n",
      "250/250 [==============================] - 3s 12ms/step - loss: 267.9735 - mae: 267.9735 - val_loss: 165.4679 - val_mae: 165.4679\n",
      "Epoch 141/200\n",
      "250/250 [==============================] - 3s 12ms/step - loss: 262.1530 - mae: 262.1530 - val_loss: 188.0020 - val_mae: 188.0020\n",
      "Epoch 142/200\n",
      "250/250 [==============================] - 3s 11ms/step - loss: 258.2722 - mae: 258.2722 - val_loss: 166.1092 - val_mae: 166.1092\n",
      "Epoch 143/200\n",
      "250/250 [==============================] - 3s 12ms/step - loss: 269.2841 - mae: 269.2841 - val_loss: 229.2596 - val_mae: 229.2596\n",
      "Epoch 144/200\n",
      "250/250 [==============================] - 3s 12ms/step - loss: 268.9496 - mae: 268.9496 - val_loss: 260.3311 - val_mae: 260.3311\n",
      "Epoch 145/200\n",
      "250/250 [==============================] - 3s 12ms/step - loss: 260.5566 - mae: 260.5566 - val_loss: 205.0166 - val_mae: 205.0166\n",
      "Epoch 146/200\n",
      "250/250 [==============================] - 3s 12ms/step - loss: 252.7816 - mae: 252.7816 - val_loss: 185.1055 - val_mae: 185.1055\n",
      "Epoch 147/200\n",
      "250/250 [==============================] - 3s 12ms/step - loss: 263.6858 - mae: 263.6858 - val_loss: 164.8241 - val_mae: 164.8241\n",
      "Epoch 148/200\n",
      "250/250 [==============================] - 3s 12ms/step - loss: 268.1949 - mae: 268.1949 - val_loss: 177.5473 - val_mae: 177.5473\n",
      "Epoch 149/200\n",
      "250/250 [==============================] - 3s 13ms/step - loss: 253.5743 - mae: 253.5743 - val_loss: 216.1223 - val_mae: 216.1223\n",
      "Epoch 150/200\n",
      "250/250 [==============================] - 3s 12ms/step - loss: 257.6711 - mae: 257.6711 - val_loss: 187.6602 - val_mae: 187.6602\n",
      "Epoch 151/200\n",
      "250/250 [==============================] - 3s 12ms/step - loss: 272.5321 - mae: 272.5321 - val_loss: 165.7944 - val_mae: 165.7944\n",
      "Epoch 152/200\n",
      "250/250 [==============================] - 3s 12ms/step - loss: 264.0172 - mae: 264.0172 - val_loss: 168.0614 - val_mae: 168.0614\n",
      "Epoch 153/200\n",
      "250/250 [==============================] - 3s 12ms/step - loss: 276.5715 - mae: 276.5715 - val_loss: 173.9599 - val_mae: 173.9599\n",
      "Epoch 154/200\n",
      "250/250 [==============================] - 3s 11ms/step - loss: 255.4676 - mae: 255.4676 - val_loss: 168.0948 - val_mae: 168.0948\n",
      "Epoch 155/200\n",
      "250/250 [==============================] - 3s 12ms/step - loss: 270.0822 - mae: 270.0822 - val_loss: 317.3453 - val_mae: 317.3453\n",
      "Epoch 156/200\n",
      "250/250 [==============================] - 3s 12ms/step - loss: 257.7622 - mae: 257.7622 - val_loss: 166.8530 - val_mae: 166.8530\n",
      "Epoch 157/200\n",
      "250/250 [==============================] - 3s 12ms/step - loss: 255.0499 - mae: 255.0499 - val_loss: 233.5604 - val_mae: 233.5604\n",
      "Epoch 158/200\n",
      "250/250 [==============================] - 3s 11ms/step - loss: 278.6740 - mae: 278.6740 - val_loss: 202.0647 - val_mae: 202.0647\n",
      "Epoch 159/200\n",
      "250/250 [==============================] - 3s 12ms/step - loss: 264.7883 - mae: 264.7883 - val_loss: 175.8286 - val_mae: 175.8286\n",
      "Epoch 160/200\n",
      "250/250 [==============================] - 3s 13ms/step - loss: 254.1059 - mae: 254.1059 - val_loss: 168.4014 - val_mae: 168.4014\n",
      "Epoch 161/200\n",
      "250/250 [==============================] - 3s 13ms/step - loss: 268.3830 - mae: 268.3830 - val_loss: 190.2035 - val_mae: 190.2035\n",
      "Epoch 162/200\n",
      "250/250 [==============================] - 3s 13ms/step - loss: 259.5283 - mae: 259.5283 - val_loss: 170.5287 - val_mae: 170.5287\n",
      "Epoch 163/200\n",
      "250/250 [==============================] - 3s 12ms/step - loss: 267.7539 - mae: 267.7539 - val_loss: 184.8200 - val_mae: 184.8200\n",
      "Epoch 164/200\n",
      "250/250 [==============================] - 3s 13ms/step - loss: 259.9940 - mae: 259.9940 - val_loss: 169.3496 - val_mae: 169.3496\n",
      "Epoch 165/200\n",
      "250/250 [==============================] - 3s 13ms/step - loss: 250.3905 - mae: 250.3905 - val_loss: 167.5208 - val_mae: 167.5208\n",
      "Epoch 166/200\n",
      "250/250 [==============================] - 3s 12ms/step - loss: 257.3264 - mae: 257.3264 - val_loss: 165.3967 - val_mae: 165.3967\n",
      "Epoch 167/200\n",
      "250/250 [==============================] - 3s 12ms/step - loss: 256.4073 - mae: 256.4073 - val_loss: 187.7889 - val_mae: 187.7889\n",
      "Epoch 168/200\n",
      "250/250 [==============================] - 3s 12ms/step - loss: 275.2077 - mae: 275.2077 - val_loss: 168.2966 - val_mae: 168.2966\n",
      "Epoch 169/200\n",
      "250/250 [==============================] - 3s 12ms/step - loss: 283.9667 - mae: 283.9667 - val_loss: 184.0583 - val_mae: 184.0583\n",
      "Epoch 170/200\n",
      "250/250 [==============================] - 3s 12ms/step - loss: 267.7608 - mae: 267.7608 - val_loss: 169.7620 - val_mae: 169.7620\n"
     ]
    },
    {
     "name": "stdout",
     "output_type": "stream",
     "text": [
      "Epoch 171/200\n",
      "250/250 [==============================] - 3s 12ms/step - loss: 259.1668 - mae: 259.1668 - val_loss: 181.7844 - val_mae: 181.7844\n",
      "Epoch 172/200\n",
      "250/250 [==============================] - 3s 12ms/step - loss: 250.4550 - mae: 250.4550 - val_loss: 236.7780 - val_mae: 236.7780\n",
      "Epoch 173/200\n",
      "250/250 [==============================] - 3s 12ms/step - loss: 252.1219 - mae: 252.1219 - val_loss: 226.5309 - val_mae: 226.5309\n",
      "Epoch 174/200\n",
      "250/250 [==============================] - 3s 12ms/step - loss: 265.3781 - mae: 265.3781 - val_loss: 210.0214 - val_mae: 210.0214\n",
      "Epoch 175/200\n",
      "250/250 [==============================] - 3s 11ms/step - loss: 247.7745 - mae: 247.7745 - val_loss: 251.2182 - val_mae: 251.2182\n",
      "Epoch 176/200\n",
      "250/250 [==============================] - 3s 12ms/step - loss: 267.3278 - mae: 267.3278 - val_loss: 168.1162 - val_mae: 168.1162\n",
      "Epoch 177/200\n",
      "250/250 [==============================] - 3s 12ms/step - loss: 250.2982 - mae: 250.2982 - val_loss: 250.5950 - val_mae: 250.5950\n",
      "Epoch 178/200\n",
      "250/250 [==============================] - 3s 11ms/step - loss: 264.9919 - mae: 264.9919 - val_loss: 180.8881 - val_mae: 180.8881\n",
      "Epoch 179/200\n",
      "250/250 [==============================] - 3s 11ms/step - loss: 259.7848 - mae: 259.7848 - val_loss: 189.8601 - val_mae: 189.8601\n",
      "Epoch 180/200\n",
      "250/250 [==============================] - 3s 11ms/step - loss: 263.7339 - mae: 263.7339 - val_loss: 178.7665 - val_mae: 178.7665\n",
      "Epoch 181/200\n",
      "250/250 [==============================] - 3s 12ms/step - loss: 254.2267 - mae: 254.2267 - val_loss: 169.5336 - val_mae: 169.5336\n",
      "Epoch 182/200\n",
      "250/250 [==============================] - 3s 12ms/step - loss: 255.5302 - mae: 255.5302 - val_loss: 209.8086 - val_mae: 209.8086\n",
      "Epoch 183/200\n",
      "250/250 [==============================] - 3s 12ms/step - loss: 252.9651 - mae: 252.9651 - val_loss: 177.5629 - val_mae: 177.5629\n",
      "Epoch 184/200\n",
      "250/250 [==============================] - 3s 12ms/step - loss: 257.3542 - mae: 257.3542 - val_loss: 179.3466 - val_mae: 179.3466\n",
      "Epoch 185/200\n",
      "250/250 [==============================] - 3s 11ms/step - loss: 259.2276 - mae: 259.2276 - val_loss: 168.6724 - val_mae: 168.6724\n",
      "Epoch 186/200\n",
      "250/250 [==============================] - 3s 12ms/step - loss: 257.9855 - mae: 257.9855 - val_loss: 175.6568 - val_mae: 175.6568\n",
      "Epoch 187/200\n",
      "250/250 [==============================] - 3s 12ms/step - loss: 259.5305 - mae: 259.5305 - val_loss: 165.5962 - val_mae: 165.5962\n",
      "Epoch 188/200\n",
      "250/250 [==============================] - 3s 11ms/step - loss: 257.0543 - mae: 257.0543 - val_loss: 169.2875 - val_mae: 169.2875\n",
      "Epoch 189/200\n",
      "250/250 [==============================] - 3s 12ms/step - loss: 264.0369 - mae: 264.0369 - val_loss: 166.6805 - val_mae: 166.6805\n",
      "Epoch 190/200\n",
      "250/250 [==============================] - 3s 12ms/step - loss: 250.8719 - mae: 250.8719 - val_loss: 211.9707 - val_mae: 211.9707\n",
      "Epoch 191/200\n",
      "250/250 [==============================] - 3s 12ms/step - loss: 259.8200 - mae: 259.8200 - val_loss: 165.9231 - val_mae: 165.9231\n",
      "Epoch 192/200\n",
      "250/250 [==============================] - 3s 12ms/step - loss: 265.7935 - mae: 265.7935 - val_loss: 177.7309 - val_mae: 177.7309\n",
      "Epoch 193/200\n",
      "250/250 [==============================] - 3s 12ms/step - loss: 257.8167 - mae: 257.8167 - val_loss: 167.4767 - val_mae: 167.4767\n",
      "Epoch 194/200\n",
      "250/250 [==============================] - 3s 12ms/step - loss: 253.8507 - mae: 253.8507 - val_loss: 168.9974 - val_mae: 168.9974\n",
      "Epoch 195/200\n",
      "250/250 [==============================] - 3s 12ms/step - loss: 255.8545 - mae: 255.8545 - val_loss: 218.0086 - val_mae: 218.0086\n",
      "Epoch 196/200\n",
      "250/250 [==============================] - 3s 11ms/step - loss: 252.3683 - mae: 252.3683 - val_loss: 167.0055 - val_mae: 167.0055\n",
      "Epoch 197/200\n",
      "250/250 [==============================] - 3s 11ms/step - loss: 260.2392 - mae: 260.2392 - val_loss: 181.9089 - val_mae: 181.9089\n",
      "Epoch 198/200\n",
      "250/250 [==============================] - 3s 11ms/step - loss: 253.6126 - mae: 253.6126 - val_loss: 169.2049 - val_mae: 169.2049\n",
      "Epoch 199/200\n",
      "250/250 [==============================] - 3s 11ms/step - loss: 260.7137 - mae: 260.7137 - val_loss: 173.3636 - val_mae: 173.3636\n",
      "Epoch 200/200\n",
      "250/250 [==============================] - 3s 12ms/step - loss: 267.8606 - mae: 267.8606 - val_loss: 177.5697 - val_mae: 177.5697\n"
     ]
    }
   ],
   "source": [
    "f=open(\"bitcoin.csv\",\"r\")\n",
    "coindesk_data=pd.read_csv(f,header=0)\n",
    "seq=coindesk_data[['Closing Price (USD)']].to_numpy() # 종가만 취함\n",
    "\n",
    "# 시계열 데이터를 윈도우 단위로 자르는 함수\n",
    "def seq2dataset(seq,window):\n",
    "    X=[]; Y=[]\n",
    "    for i in range(len(seq)-window):\n",
    "        x=seq[i:(i+window)]\n",
    "        y=(seq[i+window])\n",
    "        X.append(x); Y.append(y)\n",
    "    return np.array(X), np.array(Y)\n",
    "\n",
    "w=7 # 윈도우 크기\n",
    "\n",
    "X,Y=seq2dataset(seq,w)\n",
    "\n",
    "from tensorflow.keras.models import Sequential\n",
    "from tensorflow.keras.layers import Dense, LSTM, Dropout\n",
    "\n",
    "# 훈련 집합과 테스트 집합으로 분할\n",
    "split=int(len(X)*0.7)\n",
    "x_train=X[0:split]; y_train=Y[0:split]\n",
    "x_test=X[split:]; y_test=Y[split:]\n",
    "\n",
    "# LSTM 모델 설계와 학습\n",
    "model=Sequential()\n",
    "model.add(LSTM(units=128,activation='relu',input_shape=x_train[0].shape))\n",
    "model.add(Dense(1))\n",
    "model.compile(loss='mae',optimizer='adam',metrics=['mae'])\n",
    "hist=model.fit(x_train,y_train,epochs=200,batch_size=1,validation_data=(x_test,y_test),verbose=1)"
   ]
  },
  {
   "cell_type": "code",
   "execution_count": 3,
   "id": "60dbc944",
   "metadata": {},
   "outputs": [
    {
     "name": "stdout",
     "output_type": "stream",
     "text": [
      "4/4 [==============================] - 0s 11ms/step - loss: 177.5697 - mae: 177.5697\n"
     ]
    }
   ],
   "source": [
    "# LSTM 모델 평가\n",
    "ev = model.evaluate(x_test,y_test)"
   ]
  },
  {
   "cell_type": "code",
   "execution_count": 4,
   "id": "b8e87d19",
   "metadata": {},
   "outputs": [
    {
     "name": "stdout",
     "output_type": "stream",
     "text": [
      "4/4 [==============================] - 0s 7ms/step\n"
     ]
    }
   ],
   "source": [
    "pred = model.predict(x_test)"
   ]
  },
  {
   "cell_type": "code",
   "execution_count": 5,
   "id": "4c9ad54d",
   "metadata": {},
   "outputs": [
    {
     "data": {
      "text/plain": [
       "[<matplotlib.lines.Line2D at 0x2a79109ae80>]"
      ]
     },
     "execution_count": 5,
     "metadata": {},
     "output_type": "execute_result"
    },
    {
     "data": {
      "image/png": "[encoded data removed]",
      "text/plain": [
       "<Figure size 640x480 with 1 Axes>"
      ]
     },
     "metadata": {},
     "output_type": "display_data"
    }
   ],
   "source": [
    "plt.plot(pred)\n",
    "plt.plot(y_test)"
   ]
  },
  {
   "cell_type": "code",
   "execution_count": 6,
   "id": "1314867e",
   "metadata": {},
   "outputs": [],
   "source": [
    "# 일부구간 확대"
   ]
  },
  {
   "cell_type": "code",
   "execution_count": 7,
   "id": "8d77eabf",
   "metadata": {},
   "outputs": [
    {
     "data": {
      "text/plain": [
       "[<matplotlib.lines.Line2D at 0x2a79802e430>]"
      ]
     },
     "execution_count": 7,
     "metadata": {},
     "output_type": "execute_result"
    },
    {
     "data": {
      "image/png": "[encoded data removed]",
      "text/plain": [
       "<Figure size 640x480 with 1 Axes>"
      ]
     },
     "metadata": {},
     "output_type": "display_data"
    }
   ],
   "source": [
    "x_range = range(50,64)\n",
    "plt.plot(x_range,y_test[x_range])\n",
    "plt.plot(x_range,pred[x_range])"
   ]
  },
  {
   "cell_type": "code",
   "execution_count": 8,
   "id": "12d0d029",
   "metadata": {},
   "outputs": [
    {
     "data": {
      "text/html": [
       "<div>\n",
       "<style scoped>\n",
       "    .dataframe tbody tr th:only-of-type {\n",
       "        vertical-align: middle;\n",
       "    }\n",
       "\n",
       "    .dataframe tbody tr th {\n",
       "        vertical-align: top;\n",
       "    }\n",
       "\n",
       "    .dataframe thead th {\n",
       "        text-align: right;\n",
       "    }\n",
       "</style>\n",
       "<table border=\"1\" class=\"dataframe\">\n",
       "  <thead>\n",
       "    <tr style=\"text-align: right;\">\n",
       "      <th></th>\n",
       "      <th>Currency</th>\n",
       "      <th>Date</th>\n",
       "      <th>Closing Price (USD)</th>\n",
       "      <th>24h Open (USD)</th>\n",
       "      <th>24h High (USD)</th>\n",
       "      <th>24h Low (USD)</th>\n",
       "    </tr>\n",
       "  </thead>\n",
       "  <tbody>\n",
       "    <tr>\n",
       "      <th>0</th>\n",
       "      <td>BTC</td>\n",
       "      <td>2019-02-28</td>\n",
       "      <td>3772.936335</td>\n",
       "      <td>3796.637284</td>\n",
       "      <td>3824.165879</td>\n",
       "      <td>3666.524016</td>\n",
       "    </tr>\n",
       "    <tr>\n",
       "      <th>1</th>\n",
       "      <td>BTC</td>\n",
       "      <td>2019-03-01</td>\n",
       "      <td>3799.678543</td>\n",
       "      <td>3773.441461</td>\n",
       "      <td>3879.231185</td>\n",
       "      <td>3753.800022</td>\n",
       "    </tr>\n",
       "    <tr>\n",
       "      <th>2</th>\n",
       "      <td>BTC</td>\n",
       "      <td>2019-03-02</td>\n",
       "      <td>3811.611979</td>\n",
       "      <td>3799.367026</td>\n",
       "      <td>3840.044823</td>\n",
       "      <td>3788.918498</td>\n",
       "    </tr>\n",
       "    <tr>\n",
       "      <th>3</th>\n",
       "      <td>BTC</td>\n",
       "      <td>2019-03-03</td>\n",
       "      <td>3804.419170</td>\n",
       "      <td>3806.691513</td>\n",
       "      <td>3819.194356</td>\n",
       "      <td>3759.409216</td>\n",
       "    </tr>\n",
       "    <tr>\n",
       "      <th>4</th>\n",
       "      <td>BTC</td>\n",
       "      <td>2019-03-04</td>\n",
       "      <td>3782.664101</td>\n",
       "      <td>3807.845756</td>\n",
       "      <td>3818.695481</td>\n",
       "      <td>3766.242048</td>\n",
       "    </tr>\n",
       "  </tbody>\n",
       "</table>\n",
       "</div>"
      ],
      "text/plain": [
       "  Currency        Date  Closing Price (USD)  24h Open (USD)  24h High (USD)  \\\n",
       "0      BTC  2019-02-28          3772.936335     3796.637284     3824.165879   \n",
       "1      BTC  2019-03-01          3799.678543     3773.441461     3879.231185   \n",
       "2      BTC  2019-03-02          3811.611979     3799.367026     3840.044823   \n",
       "3      BTC  2019-03-03          3804.419170     3806.691513     3819.194356   \n",
       "4      BTC  2019-03-04          3782.664101     3807.845756     3818.695481   \n",
       "\n",
       "   24h Low (USD)  \n",
       "0    3666.524016  \n",
       "1    3753.800022  \n",
       "2    3788.918498  \n",
       "3    3759.409216  \n",
       "4    3766.242048  "
      ]
     },
     "execution_count": 8,
     "metadata": {},
     "output_type": "execute_result"
    }
   ],
   "source": [
    "# 다중 채널\n",
    "coindesk_data.head()"
   ]
  },
  {
   "cell_type": "code",
   "execution_count": 9,
   "id": "8f9a8405",
   "metadata": {},
   "outputs": [],
   "source": [
    "df = coindesk_data.copy()"
   ]
  },
  {
   "cell_type": "code",
   "execution_count": 10,
   "id": "1fd57f06",
   "metadata": {},
   "outputs": [],
   "source": [
    "multidf = df.iloc[:,2:].copy()"
   ]
  },
  {
   "cell_type": "code",
   "execution_count": 11,
   "id": "8875ceed",
   "metadata": {},
   "outputs": [
    {
     "data": {
      "text/html": [
       "<div>\n",
       "<style scoped>\n",
       "    .dataframe tbody tr th:only-of-type {\n",
       "        vertical-align: middle;\n",
       "    }\n",
       "\n",
       "    .dataframe tbody tr th {\n",
       "        vertical-align: top;\n",
       "    }\n",
       "\n",
       "    .dataframe thead th {\n",
       "        text-align: right;\n",
       "    }\n",
       "</style>\n",
       "<table border=\"1\" class=\"dataframe\">\n",
       "  <thead>\n",
       "    <tr style=\"text-align: right;\">\n",
       "      <th></th>\n",
       "      <th>Closing Price (USD)</th>\n",
       "      <th>24h Open (USD)</th>\n",
       "      <th>24h High (USD)</th>\n",
       "      <th>24h Low (USD)</th>\n",
       "    </tr>\n",
       "  </thead>\n",
       "  <tbody>\n",
       "    <tr>\n",
       "      <th>0</th>\n",
       "      <td>3772.936335</td>\n",
       "      <td>3796.637284</td>\n",
       "      <td>3824.165879</td>\n",
       "      <td>3666.524016</td>\n",
       "    </tr>\n",
       "    <tr>\n",
       "      <th>1</th>\n",
       "      <td>3799.678543</td>\n",
       "      <td>3773.441461</td>\n",
       "      <td>3879.231185</td>\n",
       "      <td>3753.800022</td>\n",
       "    </tr>\n",
       "    <tr>\n",
       "      <th>2</th>\n",
       "      <td>3811.611979</td>\n",
       "      <td>3799.367026</td>\n",
       "      <td>3840.044823</td>\n",
       "      <td>3788.918498</td>\n",
       "    </tr>\n",
       "    <tr>\n",
       "      <th>3</th>\n",
       "      <td>3804.419170</td>\n",
       "      <td>3806.691513</td>\n",
       "      <td>3819.194356</td>\n",
       "      <td>3759.409216</td>\n",
       "    </tr>\n",
       "    <tr>\n",
       "      <th>4</th>\n",
       "      <td>3782.664101</td>\n",
       "      <td>3807.845756</td>\n",
       "      <td>3818.695481</td>\n",
       "      <td>3766.242048</td>\n",
       "    </tr>\n",
       "  </tbody>\n",
       "</table>\n",
       "</div>"
      ],
      "text/plain": [
       "   Closing Price (USD)  24h Open (USD)  24h High (USD)  24h Low (USD)\n",
       "0          3772.936335     3796.637284     3824.165879    3666.524016\n",
       "1          3799.678543     3773.441461     3879.231185    3753.800022\n",
       "2          3811.611979     3799.367026     3840.044823    3788.918498\n",
       "3          3804.419170     3806.691513     3819.194356    3759.409216\n",
       "4          3782.664101     3807.845756     3818.695481    3766.242048"
      ]
     },
     "execution_count": 11,
     "metadata": {},
     "output_type": "execute_result"
    }
   ],
   "source": [
    "multidf.head()"
   ]
  },
  {
   "cell_type": "code",
   "execution_count": 12,
   "id": "ec793bfe",
   "metadata": {},
   "outputs": [],
   "source": [
    "multi_array =  multidf.to_numpy()"
   ]
  },
  {
   "cell_type": "code",
   "execution_count": 13,
   "id": "f6223148",
   "metadata": {},
   "outputs": [
    {
     "data": {
      "text/plain": [
       "(365, 4)"
      ]
     },
     "execution_count": 13,
     "metadata": {},
     "output_type": "execute_result"
    }
   ],
   "source": [
    "multidf.shape"
   ]
  },
  {
   "cell_type": "code",
   "execution_count": 14,
   "id": "46350e18",
   "metadata": {},
   "outputs": [],
   "source": [
    "x,y =  seq2dataset(multi_array,7)"
   ]
  },
  {
   "cell_type": "code",
   "execution_count": 21,
   "id": "92ccd980",
   "metadata": {},
   "outputs": [
    {
     "name": "stdout",
     "output_type": "stream",
     "text": [
      "(358, 7, 4) (358, 4)\n"
     ]
    },
    {
     "data": {
      "text/plain": [
       "((7, 4), (4,))"
      ]
     },
     "execution_count": 21,
     "metadata": {},
     "output_type": "execute_result"
    }
   ],
   "source": [
    "print(x.shape, y.shape)\n",
    "x[0].shape, y[0].shape"
   ]
  },
  {
   "cell_type": "code",
   "execution_count": 28,
   "id": "c2fe2aad",
   "metadata": {},
   "outputs": [],
   "source": [
    "split = int(len(x)*0.7)\n",
    "x_train = x[:split]; x_test = x[split:]\n",
    "y_train = y[:split]; y_test = y[split:]\n",
    "# x_train = np.expand_dims(x_train, axis=-1); x_test = np.expand_dims(x_test, axis=-1)"
   ]
  },
  {
   "cell_type": "code",
   "execution_count": 27,
   "id": "7b557e38",
   "metadata": {},
   "outputs": [
    {
     "data": {
      "text/plain": [
       "array([[3772.93633533, 3796.63728431, 3824.16587937, 3666.52401643],\n",
       "       [3799.67854295, 3773.44146075, 3879.23118467, 3753.80002246],\n",
       "       [3811.61197937, 3799.36702601, 3840.04482307, 3788.91849833],\n",
       "       ...,\n",
       "       [9392.86962872, 9640.46856211, 9679.59508978, 9251.11583368],\n",
       "       [8787.97836316, 9392.86857947, 9393.86413691, 8626.93574633],\n",
       "       [8784.99535244, 8790.3368532 , 8977.58556492, 8530.49637938]])"
      ]
     },
     "execution_count": 27,
     "metadata": {},
     "output_type": "execute_result"
    }
   ],
   "source": [
    "multi_array"
   ]
  },
  {
   "cell_type": "code",
   "execution_count": 33,
   "id": "509157ea",
   "metadata": {},
   "outputs": [
    {
     "name": "stdout",
     "output_type": "stream",
     "text": [
      "WARNING:tensorflow:Layer lstm_4 will not use cuDNN kernels since it doesn't meet the criteria. It will use a generic GPU kernel as fallback when running on GPU.\n",
      "Epoch 1/50\n",
      "7/7 [==============================] - 2s 66ms/step - loss: 93783720.0000 - mae: 9004.2422 - val_loss: 55552288.0000 - val_mae: 7026.8657\n",
      "Epoch 2/50\n",
      "7/7 [==============================] - 0s 39ms/step - loss: 62923056.0000 - mae: 7247.9058 - val_loss: 53230160.0000 - val_mae: 6908.5337\n",
      "Epoch 3/50\n",
      "7/7 [==============================] - 0s 30ms/step - loss: 53929756.0000 - mae: 6739.7358 - val_loss: 41883960.0000 - val_mae: 6135.2847\n",
      "Epoch 4/50\n",
      "7/7 [==============================] - 0s 32ms/step - loss: 35660364.0000 - mae: 5359.5601 - val_loss: 18415036.0000 - val_mae: 4077.6577\n",
      "Epoch 5/50\n",
      "7/7 [==============================] - 0s 35ms/step - loss: 16490205.0000 - mae: 3438.4824 - val_loss: 4446158.0000 - val_mae: 1719.6165\n",
      "Epoch 6/50\n",
      "7/7 [==============================] - 0s 30ms/step - loss: 10004789.0000 - mae: 2420.1497 - val_loss: 9692216.0000 - val_mae: 2783.7744\n",
      "Epoch 7/50\n",
      "7/7 [==============================] - 0s 33ms/step - loss: 5624787.5000 - mae: 1835.1063 - val_loss: 2449935.0000 - val_mae: 1280.1787\n",
      "Epoch 8/50\n",
      "7/7 [==============================] - 0s 31ms/step - loss: 2951351.2500 - mae: 1253.3486 - val_loss: 1053556.1250 - val_mae: 797.3741\n",
      "Epoch 9/50\n",
      "7/7 [==============================] - 0s 31ms/step - loss: 1099260.2500 - mae: 761.7242 - val_loss: 488359.4062 - val_mae: 573.7272\n",
      "Epoch 10/50\n",
      "7/7 [==============================] - 0s 41ms/step - loss: 961953.1875 - mae: 737.4613 - val_loss: 602561.0625 - val_mae: 594.8797\n",
      "Epoch 11/50\n",
      "7/7 [==============================] - 0s 30ms/step - loss: 951910.8125 - mae: 694.7275 - val_loss: 909971.4375 - val_mae: 730.1204\n",
      "Epoch 12/50\n",
      "7/7 [==============================] - 0s 48ms/step - loss: 812887.4375 - mae: 622.2607 - val_loss: 261024.1875 - val_mae: 403.3836\n",
      "Epoch 13/50\n",
      "7/7 [==============================] - 0s 47ms/step - loss: 567410.9375 - mae: 541.7614 - val_loss: 233026.2812 - val_mae: 382.1850\n",
      "Epoch 14/50\n",
      "7/7 [==============================] - 0s 38ms/step - loss: 603239.1250 - mae: 546.0667 - val_loss: 221140.1406 - val_mae: 370.5089\n",
      "Epoch 15/50\n",
      "7/7 [==============================] - 0s 39ms/step - loss: 585865.7500 - mae: 556.7301 - val_loss: 329949.2812 - val_mae: 465.6058\n",
      "Epoch 16/50\n",
      "7/7 [==============================] - 0s 32ms/step - loss: 618470.8125 - mae: 587.9958 - val_loss: 355360.4375 - val_mae: 491.1719\n",
      "Epoch 17/50\n",
      "7/7 [==============================] - 0s 32ms/step - loss: 593080.1250 - mae: 579.7935 - val_loss: 268826.9688 - val_mae: 408.1164\n",
      "Epoch 18/50\n",
      "7/7 [==============================] - 0s 33ms/step - loss: 556383.6250 - mae: 529.0012 - val_loss: 214513.7812 - val_mae: 370.0825\n",
      "Epoch 19/50\n",
      "7/7 [==============================] - 0s 41ms/step - loss: 562760.3125 - mae: 527.2934 - val_loss: 205942.1875 - val_mae: 363.1413\n",
      "Epoch 20/50\n",
      "7/7 [==============================] - 0s 63ms/step - loss: 510751.3750 - mae: 504.3558 - val_loss: 195438.3281 - val_mae: 352.4382\n",
      "Epoch 21/50\n",
      "7/7 [==============================] - 0s 46ms/step - loss: 503097.7812 - mae: 506.8825 - val_loss: 188659.5625 - val_mae: 345.0498\n",
      "Epoch 22/50\n",
      "7/7 [==============================] - 0s 46ms/step - loss: 487520.8750 - mae: 494.2465 - val_loss: 180976.1094 - val_mae: 337.7810\n",
      "Epoch 23/50\n",
      "7/7 [==============================] - 0s 47ms/step - loss: 498074.5000 - mae: 492.8019 - val_loss: 191091.9844 - val_mae: 349.2889\n",
      "Epoch 24/50\n",
      "7/7 [==============================] - 0s 47ms/step - loss: 493177.8125 - mae: 499.9030 - val_loss: 211613.1250 - val_mae: 364.9432\n",
      "Epoch 25/50\n",
      "7/7 [==============================] - 0s 61ms/step - loss: 486556.6875 - mae: 496.1988 - val_loss: 192756.0938 - val_mae: 349.2216\n",
      "Epoch 26/50\n",
      "7/7 [==============================] - 1s 55ms/step - loss: 485046.0938 - mae: 487.6773 - val_loss: 192346.8594 - val_mae: 349.0808\n",
      "Epoch 27/50\n",
      "7/7 [==============================] - 0s 50ms/step - loss: 481000.3750 - mae: 488.1893 - val_loss: 194755.2969 - val_mae: 350.6043\n",
      "Epoch 28/50\n",
      "7/7 [==============================] - 0s 56ms/step - loss: 481092.8125 - mae: 493.5347 - val_loss: 198131.7344 - val_mae: 353.2502\n",
      "Epoch 29/50\n",
      "7/7 [==============================] - 0s 51ms/step - loss: 463197.9688 - mae: 480.2564 - val_loss: 187252.2812 - val_mae: 345.4392\n",
      "Epoch 30/50\n",
      "7/7 [==============================] - 0s 49ms/step - loss: 474934.2812 - mae: 486.7730 - val_loss: 192066.2031 - val_mae: 348.2282\n",
      "Epoch 31/50\n",
      "7/7 [==============================] - 0s 33ms/step - loss: 475924.3750 - mae: 486.1140 - val_loss: 192771.9219 - val_mae: 348.7303\n",
      "Epoch 32/50\n",
      "7/7 [==============================] - 0s 59ms/step - loss: 476228.4062 - mae: 488.7543 - val_loss: 189802.9219 - val_mae: 346.8442\n",
      "Epoch 33/50\n",
      "7/7 [==============================] - 0s 55ms/step - loss: 482927.3125 - mae: 501.3000 - val_loss: 205791.1094 - val_mae: 361.2992\n",
      "Epoch 34/50\n",
      "7/7 [==============================] - 0s 62ms/step - loss: 473337.1875 - mae: 494.6708 - val_loss: 194314.5312 - val_mae: 353.3293\n",
      "Epoch 35/50\n",
      "7/7 [==============================] - 0s 38ms/step - loss: 424138.0938 - mae: 452.8510 - val_loss: 177313.1094 - val_mae: 339.6715\n",
      "Epoch 36/50\n",
      "7/7 [==============================] - 0s 31ms/step - loss: 464768.9062 - mae: 482.9435 - val_loss: 191690.2969 - val_mae: 347.8793\n",
      "Epoch 37/50\n",
      "7/7 [==============================] - 0s 33ms/step - loss: 468196.3125 - mae: 481.4735 - val_loss: 188696.7031 - val_mae: 346.4528\n",
      "Epoch 38/50\n",
      "7/7 [==============================] - 0s 32ms/step - loss: 464470.0625 - mae: 480.6839 - val_loss: 189005.7344 - val_mae: 345.4178\n",
      "Epoch 39/50\n",
      "7/7 [==============================] - 0s 39ms/step - loss: 459407.1250 - mae: 479.6418 - val_loss: 181757.2969 - val_mae: 339.3113\n",
      "Epoch 40/50\n",
      "7/7 [==============================] - 0s 44ms/step - loss: 461566.5938 - mae: 477.5155 - val_loss: 185966.9688 - val_mae: 343.3794\n",
      "Epoch 41/50\n",
      "7/7 [==============================] - 0s 41ms/step - loss: 469969.3125 - mae: 486.1341 - val_loss: 190714.5156 - val_mae: 346.4279\n",
      "Epoch 42/50\n",
      "7/7 [==============================] - 0s 46ms/step - loss: 466532.6875 - mae: 483.3395 - val_loss: 186137.8125 - val_mae: 342.6668\n",
      "Epoch 43/50\n",
      "7/7 [==============================] - 0s 48ms/step - loss: 464772.1250 - mae: 479.3764 - val_loss: 186218.5625 - val_mae: 342.5833\n",
      "Epoch 44/50\n",
      "7/7 [==============================] - 0s 45ms/step - loss: 460275.6562 - mae: 479.9601 - val_loss: 186200.0000 - val_mae: 341.9452\n",
      "Epoch 45/50\n",
      "7/7 [==============================] - 0s 44ms/step - loss: 456130.2500 - mae: 475.0893 - val_loss: 182728.9062 - val_mae: 339.2638\n",
      "Epoch 46/50\n",
      "7/7 [==============================] - 0s 43ms/step - loss: 453999.8750 - mae: 472.2491 - val_loss: 180882.8906 - val_mae: 338.2034\n",
      "Epoch 47/50\n",
      "7/7 [==============================] - 0s 42ms/step - loss: 454583.1562 - mae: 473.2206 - val_loss: 183211.8281 - val_mae: 339.8471\n",
      "Epoch 48/50\n",
      "7/7 [==============================] - 0s 32ms/step - loss: 454803.7188 - mae: 477.4189 - val_loss: 185395.2969 - val_mae: 341.1033\n",
      "Epoch 49/50\n",
      "7/7 [==============================] - 0s 47ms/step - loss: 457634.7188 - mae: 474.1443 - val_loss: 178238.5312 - val_mae: 335.8197\n",
      "Epoch 50/50\n",
      "7/7 [==============================] - 0s 47ms/step - loss: 448103.5000 - mae: 469.0038 - val_loss: 182826.6250 - val_mae: 338.9843\n"
     ]
    }
   ],
   "source": [
    "# LSTM 모델 설계\n",
    "model = Sequential()\n",
    "model.add(LSTM(128,activation='relu',input_shape = x[0].shape))\n",
    "model.add(Dense(4))\n",
    "model.compile(loss='mse',optimizer='adam',metrics=('mae'))\n",
    "hist = model.fit(x_train,y_train,epochs=50,batch_size=36,validation_data=(x_test,y_test))\n"
   ]
  },
  {
   "cell_type": "code",
   "execution_count": 34,
   "id": "b00153b4",
   "metadata": {},
   "outputs": [
    {
     "name": "stdout",
     "output_type": "stream",
     "text": [
      "4/4 [==============================] - 0s 11ms/step - loss: 182826.6406 - mae: 338.9843\n"
     ]
    },
    {
     "data": {
      "text/plain": [
       "[182826.640625, 338.98431396484375]"
      ]
     },
     "execution_count": 34,
     "metadata": {},
     "output_type": "execute_result"
    }
   ],
   "source": [
    "model.evaluate(x_test,y_test)"
   ]
  },
  {
   "cell_type": "code",
   "execution_count": 35,
   "id": "3c03e53e",
   "metadata": {},
   "outputs": [
    {
     "data": {
      "text/plain": [
       "[<matplotlib.lines.Line2D at 0x2a7cfc79760>]"
      ]
     },
     "execution_count": 35,
     "metadata": {},
     "output_type": "execute_result"
    },
    {
     "data": {
      "image/png": "[encoded data removed]",
      "text/plain": [
       "<Figure size 640x480 with 1 Axes>"
      ]
     },
     "metadata": {},
     "output_type": "display_data"
    }
   ],
   "source": [
    "plt.plot(hist.history['mae'])\n",
    "plt.plot(hist.history['val_mae'])"
   ]
  },
  {
   "cell_type": "code",
   "execution_count": 36,
   "id": "5356b70a",
   "metadata": {},
   "outputs": [],
   "source": [
    "import tensorflow as tf"
   ]
  },
  {
   "cell_type": "code",
   "execution_count": 38,
   "id": "7f0216de",
   "metadata": {},
   "outputs": [
    {
     "name": "stdout",
     "output_type": "stream",
     "text": [
      "WARNING:tensorflow:Layer lstm_11 will not use cuDNN kernels since it doesn't meet the criteria. It will use a generic GPU kernel as fallback when running on GPU.\n"
     ]
    }
   ],
   "source": [
    "for_you = tf.keras.models.load_model('for_you.h5')"
   ]
  },
  {
   "cell_type": "code",
   "execution_count": 39,
   "id": "f75ac137",
   "metadata": {},
   "outputs": [
    {
     "name": "stdout",
     "output_type": "stream",
     "text": [
      "4/4 [==============================] - 0s 12ms/step - loss: 43013.8438 - mae: 137.7577\n"
     ]
    },
    {
     "data": {
      "text/plain": [
       "[43013.84375, 137.7576904296875]"
      ]
     },
     "execution_count": 39,
     "metadata": {},
     "output_type": "execute_result"
    }
   ],
   "source": [
    "#[182826.640625, 338.98431396484375]\n",
    "for_you.evaluate(x_test,y_test)"
   ]
  },
  {
   "cell_type": "code",
   "execution_count": null,
   "id": "e0192a4c",
   "metadata": {},
   "outputs": [],
   "source": []
  }
 ],
 "metadata": {
  "kernelspec": {
   "display_name": "Python 3 (ipykernel)",
   "language": "python",
   "name": "python3"
  },
  "language_info": {
   "codemirror_mode": {
    "name": "ipython",
    "version": 3
   },
   "file_extension": ".py",
   "mimetype": "text/x-python",
   "name": "python",
   "nbconvert_exporter": "python",
   "pygments_lexer": "ipython3",
   "version": "3.9.12"
  }
 },
 "nbformat": 4,
 "nbformat_minor": 5
}

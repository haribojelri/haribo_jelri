{
  "nbformat": 4,
  "nbformat_minor": 0,
  "metadata": {
    "colab": {
      "provenance": [],
      "collapsed_sections": []
    },
    "kernelspec": {
      "name": "python3",
      "display_name": "Python 3"
    },
    "language_info": {
      "name": "python"
    },
    "accelerator": "GPU"
  },
  "cells": [
    {
      "cell_type": "code",
      "execution_count": 1,
      "metadata": {
        "id": "A5tycUAyI4sb"
      },
      "outputs": [],
      "source": [
        "# 자율주행, 딥드림, 영상에 주석, x_ray을 보고 병분부위 찾는, 비파괴검사를 대처..\n",
        "# CNN - RNN - FastRNN - VOLO5 "
      ]
    },
    {
      "cell_type": "code",
      "source": [
        "# 컴퓨터 비전 -> 인공지능 중요 연구분야 중에 하나"
      ],
      "metadata": {
        "id": "rP6HBPNFJXQ3"
      },
      "execution_count": 2,
      "outputs": []
    },
    {
      "cell_type": "code",
      "source": [
        "# 자연영상 CIFAR-10\n",
        "# airplane, automobile,bird,cat,deer,dog,frog,horse,ship,truck  10\n",
        "# 영상 32 32 맵  32,32,3  - reshape가 필요 없다"
      ],
      "metadata": {
        "id": "wANwfMdeK9Ir"
      },
      "execution_count": 3,
      "outputs": []
    },
    {
      "cell_type": "code",
      "source": [
        "import numpy as np\n",
        "import tensorflow as tf\n",
        "from tensorflow.keras.datasets import cifar10\n",
        "from tensorflow.keras.models import Sequential \n",
        "from tensorflow.keras.layers import Dense,Dropout,Flatten,Conv2D,MaxPool2D   \n",
        "from tensorflow.keras.optimizers import Adam\n",
        "from tensorflow.keras.losses import categorical_crossentropy\n",
        "from tensorflow.keras.utils import to_categorical # one hot encoding"
      ],
      "metadata": {
        "id": "K4XvKNBRLVBr"
      },
      "execution_count": 1,
      "outputs": []
    },
    {
      "cell_type": "code",
      "source": [
        "# 데이터셋을 읽어서 신경망에 입력형태로 변환 : 데이터로드 ,표준화, onehotencoding\n",
        "(x_train,y_train),(x_test,y_test) =   cifar10.load_data()\n",
        "x_train = x_train.astype(np.float32) / 255.0\n",
        "x_test = x_test.astype(np.float32) / 255.0\n",
        "y_train,y_test = to_categorical(y_train), to_categorical(y_test)"
      ],
      "metadata": {
        "colab": {
          "base_uri": "https://localhost:8080/"
        },
        "id": "PVTDDTeXL8XS",
        "outputId": "b262ddae-4256-445a-a9c0-8f6314a11331"
      },
      "execution_count": 2,
      "outputs": [
        {
          "output_type": "stream",
          "name": "stdout",
          "text": [
            "Downloading data from https://www.cs.toronto.edu/~kriz/cifar-10-python.tar.gz\n",
            "170498071/170498071 [==============================] - 3s 0us/step\n"
          ]
        }
      ]
    },
    {
      "cell_type": "code",
      "source": [
        "x_train.shape[1:]"
      ],
      "metadata": {
        "colab": {
          "base_uri": "https://localhost:8080/"
        },
        "id": "HCDJy8MyRG5q",
        "outputId": "a3eb23f2-3cda-4736-90e8-a59c1ef373d4"
      },
      "execution_count": 7,
      "outputs": [
        {
          "output_type": "execute_result",
          "data": {
            "text/plain": [
              "(32, 32, 3)"
            ]
          },
          "metadata": {},
          "execution_count": 7
        }
      ]
    },
    {
      "cell_type": "code",
      "source": [
        "# 신경망 모델 설계\n",
        "# CCPD CCPD FL FC DO FC"
      ],
      "metadata": {
        "id": "Czkkk_jEQjGy"
      },
      "execution_count": 3,
      "outputs": []
    },
    {
      "cell_type": "code",
      "source": [
        "cnn = Sequential()\n",
        "cnn.add(Conv2D(32,(3,3), activation = 'relu',input_shape=x_train.shape[1:] ) )\n",
        "cnn.add(Conv2D(32,(3,3), activation = 'relu' ) )\n",
        "cnn.add(MaxPool2D(pool_size=(2,2)))\n",
        "cnn.add(Dropout(0.25))\n",
        "\n",
        "cnn.add(Conv2D(64,(3,3), activation = 'relu' ))\n",
        "cnn.add(Conv2D(64,(3,3), activation = 'relu' ) )\n",
        "cnn.add(MaxPool2D(pool_size=(2,2)))\n",
        "cnn.add(Dropout(0.25))\n",
        "\n",
        "cnn.add(Flatten())\n",
        "\n",
        "cnn.add(Dense(512,activation='relu'))\n",
        "cnn.add(Dropout(0.5))\n",
        "cnn.add(Dense(10,activation='softmax'))"
      ],
      "metadata": {
        "id": "-bhGQrBTQ10R"
      },
      "execution_count": 8,
      "outputs": []
    },
    {
      "cell_type": "code",
      "source": [
        "# 신경망 학습\n",
        "cnn.compile(loss=categorical_crossentropy,optimizer=Adam(),metrics=['accuracy'])\n",
        "hist = cnn.fit(x_train,y_train,batch_size=128,epochs=30,validation_data=[x_test,y_test])"
      ],
      "metadata": {
        "colab": {
          "base_uri": "https://localhost:8080/"
        },
        "id": "eBsNVHT5SQGR",
        "outputId": "af4a8715-1f93-4fd2-a309-23a91fa4cde0"
      },
      "execution_count": 9,
      "outputs": [
        {
          "output_type": "stream",
          "name": "stdout",
          "text": [
            "Epoch 1/30\n",
            "391/391 [==============================] - 14s 12ms/step - loss: 1.6503 - accuracy: 0.3895 - val_loss: 1.2937 - val_accuracy: 0.5355\n",
            "Epoch 2/30\n",
            "391/391 [==============================] - 4s 11ms/step - loss: 1.2643 - accuracy: 0.5481 - val_loss: 1.1137 - val_accuracy: 0.5978\n",
            "Epoch 3/30\n",
            "391/391 [==============================] - 4s 11ms/step - loss: 1.0994 - accuracy: 0.6079 - val_loss: 1.0046 - val_accuracy: 0.6486\n",
            "Epoch 4/30\n",
            "391/391 [==============================] - 4s 11ms/step - loss: 0.9825 - accuracy: 0.6524 - val_loss: 0.8573 - val_accuracy: 0.6960\n",
            "Epoch 5/30\n",
            "391/391 [==============================] - 4s 11ms/step - loss: 0.9043 - accuracy: 0.6812 - val_loss: 0.8167 - val_accuracy: 0.7145\n",
            "Epoch 6/30\n",
            "391/391 [==============================] - 4s 11ms/step - loss: 0.8318 - accuracy: 0.7090 - val_loss: 0.7809 - val_accuracy: 0.7313\n",
            "Epoch 7/30\n",
            "391/391 [==============================] - 4s 11ms/step - loss: 0.7846 - accuracy: 0.7225 - val_loss: 0.7229 - val_accuracy: 0.7468\n",
            "Epoch 8/30\n",
            "391/391 [==============================] - 4s 11ms/step - loss: 0.7420 - accuracy: 0.7366 - val_loss: 0.7169 - val_accuracy: 0.7533\n",
            "Epoch 9/30\n",
            "391/391 [==============================] - 4s 11ms/step - loss: 0.7045 - accuracy: 0.7542 - val_loss: 0.7114 - val_accuracy: 0.7543\n",
            "Epoch 10/30\n",
            "391/391 [==============================] - 4s 11ms/step - loss: 0.6796 - accuracy: 0.7592 - val_loss: 0.6627 - val_accuracy: 0.7709\n",
            "Epoch 11/30\n",
            "391/391 [==============================] - 4s 11ms/step - loss: 0.6535 - accuracy: 0.7704 - val_loss: 0.7138 - val_accuracy: 0.7533\n",
            "Epoch 12/30\n",
            "391/391 [==============================] - 4s 11ms/step - loss: 0.6278 - accuracy: 0.7774 - val_loss: 0.6632 - val_accuracy: 0.7713\n",
            "Epoch 13/30\n",
            "391/391 [==============================] - 4s 11ms/step - loss: 0.6095 - accuracy: 0.7840 - val_loss: 0.6553 - val_accuracy: 0.7774\n",
            "Epoch 14/30\n",
            "391/391 [==============================] - 4s 11ms/step - loss: 0.5796 - accuracy: 0.7955 - val_loss: 0.6469 - val_accuracy: 0.7781\n",
            "Epoch 15/30\n",
            "391/391 [==============================] - 4s 11ms/step - loss: 0.5600 - accuracy: 0.8011 - val_loss: 0.6324 - val_accuracy: 0.7848\n",
            "Epoch 16/30\n",
            "391/391 [==============================] - 4s 11ms/step - loss: 0.5478 - accuracy: 0.8035 - val_loss: 0.6244 - val_accuracy: 0.7820\n",
            "Epoch 17/30\n",
            "391/391 [==============================] - 4s 11ms/step - loss: 0.5300 - accuracy: 0.8126 - val_loss: 0.6342 - val_accuracy: 0.7808\n",
            "Epoch 18/30\n",
            "391/391 [==============================] - 4s 11ms/step - loss: 0.5201 - accuracy: 0.8135 - val_loss: 0.6268 - val_accuracy: 0.7869\n",
            "Epoch 19/30\n",
            "391/391 [==============================] - 4s 11ms/step - loss: 0.4987 - accuracy: 0.8239 - val_loss: 0.6159 - val_accuracy: 0.7897\n",
            "Epoch 20/30\n",
            "391/391 [==============================] - 4s 11ms/step - loss: 0.4873 - accuracy: 0.8272 - val_loss: 0.6543 - val_accuracy: 0.7834\n",
            "Epoch 21/30\n",
            "391/391 [==============================] - 4s 11ms/step - loss: 0.4786 - accuracy: 0.8288 - val_loss: 0.6354 - val_accuracy: 0.7883\n",
            "Epoch 22/30\n",
            "391/391 [==============================] - 4s 11ms/step - loss: 0.4624 - accuracy: 0.8344 - val_loss: 0.6195 - val_accuracy: 0.7949\n",
            "Epoch 23/30\n",
            "391/391 [==============================] - 4s 11ms/step - loss: 0.4501 - accuracy: 0.8388 - val_loss: 0.6040 - val_accuracy: 0.7936\n",
            "Epoch 24/30\n",
            "391/391 [==============================] - 4s 11ms/step - loss: 0.4396 - accuracy: 0.8439 - val_loss: 0.6193 - val_accuracy: 0.7976\n",
            "Epoch 25/30\n",
            "391/391 [==============================] - 4s 11ms/step - loss: 0.4324 - accuracy: 0.8470 - val_loss: 0.6480 - val_accuracy: 0.7860\n",
            "Epoch 26/30\n",
            "391/391 [==============================] - 4s 11ms/step - loss: 0.4311 - accuracy: 0.8468 - val_loss: 0.6156 - val_accuracy: 0.7961\n",
            "Epoch 27/30\n",
            "391/391 [==============================] - 4s 11ms/step - loss: 0.4184 - accuracy: 0.8513 - val_loss: 0.6406 - val_accuracy: 0.7898\n",
            "Epoch 28/30\n",
            "391/391 [==============================] - 4s 11ms/step - loss: 0.4183 - accuracy: 0.8503 - val_loss: 0.6338 - val_accuracy: 0.7966\n",
            "Epoch 29/30\n",
            "391/391 [==============================] - 4s 11ms/step - loss: 0.4030 - accuracy: 0.8569 - val_loss: 0.6177 - val_accuracy: 0.7965\n",
            "Epoch 30/30\n",
            "391/391 [==============================] - 4s 11ms/step - loss: 0.4048 - accuracy: 0.8555 - val_loss: 0.6266 - val_accuracy: 0.7961\n"
          ]
        }
      ]
    },
    {
      "cell_type": "code",
      "source": [
        "cnn.evaluate(x_test,y_test)"
      ],
      "metadata": {
        "colab": {
          "base_uri": "https://localhost:8080/"
        },
        "id": "wSeoOF_USx7p",
        "outputId": "4d630e02-b8d0-4c78-b404-1c0f6127bca1"
      },
      "execution_count": 10,
      "outputs": [
        {
          "output_type": "stream",
          "name": "stdout",
          "text": [
            "313/313 [==============================] - 1s 3ms/step - loss: 0.6266 - accuracy: 0.7961\n"
          ]
        },
        {
          "output_type": "execute_result",
          "data": {
            "text/plain": [
              "[0.6265957951545715, 0.7961000204086304]"
            ]
          },
          "metadata": {},
          "execution_count": 10
        }
      ]
    },
    {
      "cell_type": "code",
      "source": [
        "import matplotlib.pyplot as plt\n",
        "plt.plot(hist.history['accuracy'])\n",
        "plt.plot(hist.history['val_accuracy'])"
      ],
      "metadata": {
        "colab": {
          "base_uri": "https://localhost:8080/",
          "height": 283
        },
        "id": "Gds1gwLKUNVx",
        "outputId": "235def6a-8ee8-45ea-979a-ded40ff1e20c"
      },
      "execution_count": 13,
      "outputs": [
        {
          "output_type": "execute_result",
          "data": {
            "text/plain": [
              "[<matplotlib.lines.Line2D at 0x7fb67c49be10>]"
            ]
          },
          "metadata": {},
          "execution_count": 13
        },
        {
          "output_type": "display_data",
          "data": {
            "text/plain": [
              "<Figure size 432x288 with 1 Axes>"
            ],
            "image/png": "[encoded data removed]"
          },
          "metadata": {
            "needs_background": "light"
          }
        }
      ]
    },
    {
      "cell_type": "code",
      "source": [
        "cnn.save(\"my_cnn.h5\")"
      ],
      "metadata": {
        "id": "MBTpv5WSUWpg"
      },
      "execution_count": 14,
      "outputs": []
    },
    {
      "cell_type": "code",
      "source": [],
      "metadata": {
        "id": "uAvg6hVBUneI"
      },
      "execution_count": null,
      "outputs": []
    }
  ]
}
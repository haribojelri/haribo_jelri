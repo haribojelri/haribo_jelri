{
  "nbformat": 4,
  "nbformat_minor": 0,
  "metadata": {
    "colab": {
      "provenance": []
    },
    "kernelspec": {
      "name": "python3",
      "display_name": "Python 3"
    },
    "language_info": {
      "name": "python"
    }
  },
  "cells": [
    {
      "cell_type": "code",
      "execution_count": null,
      "metadata": {
        "id": "1HCfSaMfNIe8"
      },
      "outputs": [],
      "source": [
        "# 로지스틱 회귀 : 선형회귀 + 활성함수 == 확률 \n",
        "# 이진분류  BCE 손실함수"
      ]
    },
    {
      "cell_type": "code",
      "source": [
        "import numpy as np\n",
        "import pandas as pd"
      ],
      "metadata": {
        "id": "R_woSYGAOMNE"
      },
      "execution_count": 1,
      "outputs": []
    },
    {
      "cell_type": "code",
      "source": [
        "from copy import deepcopy\n",
        "from sklearn.preprocessing import StandardScaler\n",
        "from sklearn.datasets import load_breast_cancer"
      ],
      "metadata": {
        "id": "_huHsYoLPCDk"
      },
      "execution_count": 2,
      "outputs": []
    },
    {
      "cell_type": "code",
      "source": [
        "cencer = load_breast_cancer()\n",
        "df =pd.DataFrame(cencer.data, columns=cencer.feature_names)\n",
        "df['class'] = cencer.target"
      ],
      "metadata": {
        "id": "0jNqT59MPZRr"
      },
      "execution_count": 4,
      "outputs": []
    },
    {
      "cell_type": "code",
      "source": [
        "import torch\n",
        "import torch.nn as nn\n",
        "import torch.nn.functional as F\n",
        "import torch.optim as optim"
      ],
      "metadata": {
        "id": "8HOUsw89PnQT"
      },
      "execution_count": 6,
      "outputs": []
    },
    {
      "cell_type": "code",
      "source": [
        "data = torch.FloatTensor(df.values)\n",
        "x = data[:,:-1]\n",
        "y = data[:,-1:]\n",
        "x.shape, y.shape"
      ],
      "metadata": {
        "colab": {
          "base_uri": "https://localhost:8080/"
        },
        "id": "19O3BtYZP3Hc",
        "outputId": "78cd94f2-0a4a-4bb0-fbaa-06943f4020be"
      },
      "execution_count": 7,
      "outputs": [
        {
          "output_type": "execute_result",
          "data": {
            "text/plain": [
              "(torch.Size([569, 30]), torch.Size([569, 1]))"
            ]
          },
          "metadata": {},
          "execution_count": 7
        }
      ]
    },
    {
      "cell_type": "code",
      "source": [
        "# 학습,검증,테스트  6 2 2\n",
        "int(data.size(0)*.6), int(data.size(0)*.2)"
      ],
      "metadata": {
        "colab": {
          "base_uri": "https://localhost:8080/"
        },
        "id": "pP5YmfHUQKI7",
        "outputId": "39b441bf-3698-4288-f136-2c050d9c64b4"
      },
      "execution_count": 8,
      "outputs": [
        {
          "output_type": "execute_result",
          "data": {
            "text/plain": [
              "(341, 113)"
            ]
          },
          "metadata": {},
          "execution_count": 8
        }
      ]
    },
    {
      "cell_type": "code",
      "source": [
        "# shuffle\n",
        "from tables import index\n",
        "# from random import sample\n",
        "# sample(range(data.size(0)),data.size(0) )\n",
        "indices = torch.randperm(data.size(0))\n",
        "x_data =  torch.index_select(x,dim = 0,index = indices )\n",
        "y_data =  torch.index_select(y,dim = 0,index = indices )"
      ],
      "metadata": {
        "id": "e-4H5_gPQkRz"
      },
      "execution_count": 15,
      "outputs": []
    },
    {
      "cell_type": "code",
      "source": [
        "# 정규화\n",
        "x_scaled = StandardScaler().fit_transform(x_data)\n",
        "\n",
        "x_scaled = [\n",
        "  x_data[:341],\n",
        "  x_data[341:341+113], \n",
        "  x_data[341+113:] \n",
        "]\n",
        "\n",
        "y_scaled = [\n",
        "  y_data[:341],\n",
        "  y_data[341:341+113], \n",
        "  y_data[341+113:] \n",
        "]"
      ],
      "metadata": {
        "id": "lbMh8VRARRkc"
      },
      "execution_count": 25,
      "outputs": []
    },
    {
      "cell_type": "code",
      "source": [
        "# linear - lekaryrelu  ..... linear - sigmoid\n",
        "#  optimizer\n",
        "#  loss\n",
        "# 하이퍼 파라메터 설정 - for 훈련(배치개념)"
      ],
      "metadata": {
        "id": "onm3bxBOTBgt"
      },
      "execution_count": 26,
      "outputs": []
    },
    {
      "cell_type": "code",
      "source": [
        "model = nn.Sequential(    \n",
        "      nn.Linear(30,25),\n",
        "      nn.LeakyReLU(),\n",
        "      nn.Linear(25,20),\n",
        "      nn.LeakyReLU(),\n",
        "      nn.Linear(20,15),\n",
        "      nn.LeakyReLU(),\n",
        "      nn.Linear(15,5),\n",
        "      nn.LeakyReLU(),\n",
        "      nn.Linear(5,1),\n",
        "      nn.Sigmoid()    \n",
        ")\n",
        "optimizer = optim.Adam(model.parameters())"
      ],
      "metadata": {
        "id": "NhfElEcQUpjc"
      },
      "execution_count": 28,
      "outputs": []
    },
    {
      "cell_type": "code",
      "source": [
        "n_epochs = 10000\n",
        "batch_size = 32\n",
        "interval = 100\n",
        "ealy_stop = 100"
      ],
      "metadata": {
        "id": "3NTQls5CViBO"
      },
      "execution_count": 29,
      "outputs": []
    },
    {
      "cell_type": "code",
      "source": [
        "lowest_loss = np.inf\n",
        "best_model = None\n",
        "lowest_epoch = np.inf"
      ],
      "metadata": {
        "id": "R9tzzKzGV0Xl"
      },
      "execution_count": 31,
      "outputs": []
    },
    {
      "cell_type": "code",
      "source": [
        "x_scaled[0].size(0)"
      ],
      "metadata": {
        "colab": {
          "base_uri": "https://localhost:8080/"
        },
        "id": "rhLZn_-AWlUQ",
        "outputId": "860d9da9-64a5-4cb8-deec-26217c18cfd4"
      },
      "execution_count": 32,
      "outputs": [
        {
          "output_type": "execute_result",
          "data": {
            "text/plain": [
              "torch.Size([341, 30])"
            ]
          },
          "metadata": {},
          "execution_count": 32
        }
      ]
    },
    {
      "cell_type": "code",
      "source": [
        "train_hist, valid_hist = [],[]\n",
        "for epoch in range(n_epochs):\n",
        "  indices = torch.randperm(x_scaled[0].size(0))  # 341\n",
        "  x_ = torch.index_select(x_scaled[0], dim = 0 )\n",
        "  y_ = torch.index_select(y_scaled[0], dim = 0 )\n",
        "\n",
        "  x_ = x_.split(batch_size,dim = 0)\n",
        "  y_ = y_.split(batch_size,dim = 0)\n",
        "\n",
        "  train_loss, valid_loss = 0,0\n",
        "  y_hat = []\n",
        "\n",
        "  for x_i, y_i in zip(x_,y_):\n",
        "    y_hat_i = model(x_i)\n",
        "    loss = F.binary_cross_entropy(y_hat_i,y_i) # 순서가 있음 \n",
        "\n",
        "    optimizer.zero_grad()\n",
        "\n",
        "    loss.backward()\n",
        "    optimizer.step()\n",
        "    train_loss += float(loss)  # memory leak 방지를 위해서 \n",
        "  train_loss = train_loss / len(x_)\n",
        "\n",
        "  \n",
        "\n"
      ],
      "metadata": {
        "id": "yQzze0odV2ht"
      },
      "execution_count": null,
      "outputs": []
    }
  ]
}
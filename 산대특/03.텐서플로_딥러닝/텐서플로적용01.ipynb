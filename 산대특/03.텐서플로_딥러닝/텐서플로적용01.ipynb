{
 "cells": [
  {
   "cell_type": "code",
   "execution_count": null,
   "id": "9d3d7caa-d45a-47a6-8ace-66d08efb2d38",
   "metadata": {},
   "outputs": [],
   "source": []
  },
  {
   "cell_type": "code",
   "execution_count": 1,
   "id": "5f61f961-3847-4476-af01-ae6e37eb1b07",
   "metadata": {},
   "outputs": [],
   "source": [
    "# 신경망 2층짜리\n",
    "from tensorflow import keras\n",
    "from tensorflow.keras import layers"
   ]
  },
  {
   "cell_type": "code",
   "execution_count": 2,
   "id": "cacc6f00-63b7-443a-a0c2-9f348d22211c",
   "metadata": {},
   "outputs": [],
   "source": [
    "# 원시데이터 사용\n",
    "from tensorflow.keras.datasets import mnist\n",
    "(x_train,y_train),(x_test,y_test)  = mnist.load_data()\n",
    "x_train = x_train.reshape(-1,28*28)\n",
    "x_test = x_test.reshape(-1,28*28)\n",
    "x_train.shape\n",
    "model = keras.Sequential(\n",
    "    [\n",
    "        layers.Dense(512, activation='relu'),\n",
    "        layers.Dense(10,activation='softmax')\n",
    "    ]\n",
    ")\n",
    "# 컴파일\n",
    "model.compile(optimizer='adam',loss=keras.losses.sparse_categorical_crossentropy,metrics=['accuracy'])\n",
    "# model.fit( x_train  ,y_train, epochs=1, validation_data=(x_test,y_test) )"
   ]
  },
  {
   "cell_type": "code",
   "execution_count": 3,
   "id": "40062644-ea57-4856-8ae7-46e7ad6a1f79",
   "metadata": {},
   "outputs": [],
   "source": [
    "# 데이터를 정규화\n",
    "# 원시데이터 사용\n",
    "from tensorflow.keras.datasets import mnist\n",
    "(x_train,y_train),(x_test,y_test)  = mnist.load_data()\n",
    "x_train = x_train.reshape(-1,28*28)\n",
    "x_test = x_test.reshape(-1,28*28)\n",
    "\n",
    "x_train = x_train.astype('float32') / 255\n",
    "x_test = x_test.astype('float32') / 255\n",
    "\n",
    "x_train.shape\n",
    "model = keras.Sequential(\n",
    "    [\n",
    "        layers.Dense(512, activation='relu'),\n",
    "        layers.Dense(10,activation='softmax')\n",
    "    ]\n",
    ")\n",
    "# 컴파일\n",
    "model.compile(optimizer='adam',loss=keras.losses.sparse_categorical_crossentropy,metrics=['accuracy'])\n",
    "# model.fit( x_train  ,y_train, epochs=1, validation_data=(x_test,y_test) )"
   ]
  },
  {
   "cell_type": "code",
   "execution_count": 4,
   "id": "49a21ce0-a6d4-428e-8bf9-a11a50697961",
   "metadata": {},
   "outputs": [],
   "source": [
    "# 모델 예측\n",
    "\n",
    "# 모델 평가\n"
   ]
  },
  {
   "cell_type": "code",
   "execution_count": 5,
   "id": "d0d3942b-37e2-45f2-88bd-2fb252b58b39",
   "metadata": {},
   "outputs": [
    {
     "data": {
      "text/plain": [
       "(array(12), 0)"
      ]
     },
     "execution_count": 5,
     "metadata": {},
     "output_type": "execute_result"
    }
   ],
   "source": [
    "# 스칼라(랭크-0 텐서)\n",
    "import numpy as np\n",
    "x = np.array(12)\n",
    "x, x.ndim\n"
   ]
  },
  {
   "cell_type": "code",
   "execution_count": 6,
   "id": "cfd76dfd-36ae-40e9-820f-e706d9377249",
   "metadata": {},
   "outputs": [
    {
     "data": {
      "text/plain": [
       "(array([12]), 1)"
      ]
     },
     "execution_count": 6,
     "metadata": {},
     "output_type": "execute_result"
    }
   ],
   "source": [
    "# 벡터(랭크-1 텐서)\n",
    "x = np.array([12])\n",
    "x, x.ndim"
   ]
  },
  {
   "cell_type": "code",
   "execution_count": 7,
   "id": "f7657539-6279-43fd-9852-8d3f97fd7e76",
   "metadata": {},
   "outputs": [
    {
     "data": {
      "text/plain": [
       "(array([[12]]), 2)"
      ]
     },
     "execution_count": 7,
     "metadata": {},
     "output_type": "execute_result"
    }
   ],
   "source": [
    "# 행렬(랭크-2 텐서)\n",
    "x = np.array([[12]])\n",
    "x, x.ndim"
   ]
  },
  {
   "cell_type": "code",
   "execution_count": 8,
   "id": "57d22f5b-9d94-45bf-af57-d8d73e021160",
   "metadata": {},
   "outputs": [
    {
     "data": {
      "text/plain": [
       "(array([[[12]]]), 3)"
      ]
     },
     "execution_count": 8,
     "metadata": {},
     "output_type": "execute_result"
    }
   ],
   "source": [
    "# 랭크 -3 및 over\n",
    "x = np.array([[[12]]])\n",
    "x, x.ndim"
   ]
  },
  {
   "cell_type": "code",
   "execution_count": 9,
   "id": "ced36e16-74b1-407c-a301-82f59c5fbd2e",
   "metadata": {},
   "outputs": [
    {
     "data": {
      "text/plain": [
       "3"
      ]
     },
     "execution_count": 9,
     "metadata": {},
     "output_type": "execute_result"
    }
   ],
   "source": [
    "(x_train,y_train),(x_test,y_test)  = mnist.load_data()\n",
    "x_train.ndim"
   ]
  },
  {
   "cell_type": "code",
   "execution_count": 10,
   "id": "8bc2bbf2-b32d-4b1a-816b-986c7895f148",
   "metadata": {},
   "outputs": [
    {
     "data": {
      "text/plain": [
       "(90, 28, 28)"
      ]
     },
     "execution_count": 10,
     "metadata": {},
     "output_type": "execute_result"
    }
   ],
   "source": [
    "x_train[10:100].shape"
   ]
  },
  {
   "cell_type": "code",
   "execution_count": 11,
   "id": "b3b6aae6-0a51-464e-b530-21fa35e62765",
   "metadata": {},
   "outputs": [
    {
     "data": {
      "text/plain": [
       "(90, 28, 28)"
      ]
     },
     "execution_count": 11,
     "metadata": {},
     "output_type": "execute_result"
    }
   ],
   "source": [
    "x_train[10:100,:,:].shape"
   ]
  },
  {
   "cell_type": "code",
   "execution_count": 12,
   "id": "fc9031da-56e4-4bed-862d-960e8c80260a",
   "metadata": {},
   "outputs": [
    {
     "data": {
      "text/plain": [
       "(90, 20, 20)"
      ]
     },
     "execution_count": 12,
     "metadata": {},
     "output_type": "execute_result"
    }
   ],
   "source": [
    "x_train[10:100,:20,:20].shape"
   ]
  },
  {
   "cell_type": "code",
   "execution_count": 13,
   "id": "97f62683-1388-4ba6-b008-023300418960",
   "metadata": {},
   "outputs": [],
   "source": [
    "batch = x_train[:128]\n",
    "batch = x_train[128:128+128]"
   ]
  },
  {
   "cell_type": "code",
   "execution_count": 14,
   "id": "24f3e2fa-4825-4bd1-95d4-c0313d600b4c",
   "metadata": {},
   "outputs": [],
   "source": [
    "x = np.random.randn(20,100)\n",
    "y = np.random.randn(20,100)"
   ]
  },
  {
   "cell_type": "code",
   "execution_count": 15,
   "id": "bf86110a-7bb7-42ba-8fcc-7177345da330",
   "metadata": {},
   "outputs": [],
   "source": [
    "# np.maximum(x,0)\n",
    "def native_relu(x):\n",
    "    assert len(x.shape) == 2\n",
    "    for i in range(x.shape[0]):\n",
    "        for j in range(x.shape[1]):\n",
    "            x[i,j] = max(x[i,j],0)\n",
    "    return x"
   ]
  },
  {
   "cell_type": "code",
   "execution_count": 16,
   "id": "5e3cbe77-ee22-43ae-88b9-aac9b455e574",
   "metadata": {},
   "outputs": [
    {
     "data": {
      "text/plain": [
       "array([[0.01718302, 0.        , 0.        , ..., 0.        , 0.66269332,\n",
       "        0.24017385],\n",
       "       [0.        , 0.87785409, 0.        , ..., 0.        , 0.        ,\n",
       "        1.12314513],\n",
       "       [0.82997862, 0.        , 0.        , ..., 0.32736159, 0.        ,\n",
       "        1.25947017],\n",
       "       ...,\n",
       "       [0.99607025, 0.88681071, 0.40293322, ..., 0.        , 0.94855066,\n",
       "        0.        ],\n",
       "       [0.42211791, 0.        , 0.17607395, ..., 0.49440191, 0.21661307,\n",
       "        1.15843805],\n",
       "       [0.        , 0.54966289, 1.78162468, ..., 0.        , 0.19618036,\n",
       "        1.51671273]])"
      ]
     },
     "execution_count": 16,
     "metadata": {},
     "output_type": "execute_result"
    }
   ],
   "source": [
    "native_relu(x)"
   ]
  },
  {
   "cell_type": "code",
   "execution_count": 17,
   "id": "264eb569-e1e0-4372-ba57-0bc2a9d763aa",
   "metadata": {},
   "outputs": [],
   "source": [
    "# 텐서의 add 연산  넘파이의 add 연산\n",
    "def native_add(x,y):\n",
    "    assert len(x.shape) == 2\n",
    "    assert x.shape == y.shape\n",
    "    for i in range(x.shape[0]):\n",
    "        for j in range(x.shape[1]):\n",
    "            x[i,j] += y[i,j]\n",
    "    return x"
   ]
  },
  {
   "cell_type": "code",
   "execution_count": 18,
   "id": "2b7ed0e9-3074-4b9a-b7e1-f2a537936620",
   "metadata": {},
   "outputs": [
    {
     "data": {
      "text/plain": [
       "array([[ 1.56026059, -0.53436789, -0.03059656, ...,  0.20996294,\n",
       "         0.84495868, -1.36562322],\n",
       "       [ 0.06628283,  1.33805169,  0.31232847, ...,  0.61091939,\n",
       "        -0.29476174,  1.34826559],\n",
       "       [ 1.58719618, -1.88013027,  0.4732785 , ...,  0.89053692,\n",
       "         0.61633528,  0.14959928],\n",
       "       ...,\n",
       "       [ 1.53903326,  0.69757476,  1.53354658, ..., -0.53311754,\n",
       "         1.06419105,  0.91836028],\n",
       "       [ 2.33381763, -2.50901818, -0.10535542, ...,  3.35610051,\n",
       "        -0.91554392,  0.9213467 ],\n",
       "       [ 1.6106614 ,  0.12641029,  2.42742324, ..., -2.0708805 ,\n",
       "         0.02304044,  2.53669749]])"
      ]
     },
     "execution_count": 18,
     "metadata": {},
     "output_type": "execute_result"
    }
   ],
   "source": [
    "native_add(x,y)"
   ]
  },
  {
   "cell_type": "code",
   "execution_count": 19,
   "id": "0d65b284-3fdc-443d-a3e2-7f976890e5bc",
   "metadata": {},
   "outputs": [
    {
     "data": {
      "text/plain": [
       "0.006982088088989258"
      ]
     },
     "execution_count": 19,
     "metadata": {},
     "output_type": "execute_result"
    }
   ],
   "source": [
    "import time\n",
    "start = time.time()\n",
    "for _ in range(1000):\n",
    "    z = x + y\n",
    "    z = np.maximum(z,0)\n",
    "time.time() - start    "
   ]
  },
  {
   "cell_type": "code",
   "execution_count": 20,
   "id": "b7ff8c6e-5209-497e-b33c-72b2c2540ed4",
   "metadata": {},
   "outputs": [
    {
     "data": {
      "text/plain": [
       "1.5901000499725342"
      ]
     },
     "execution_count": 20,
     "metadata": {},
     "output_type": "execute_result"
    }
   ],
   "source": [
    "import time\n",
    "start = time.time()\n",
    "for _ in range(1000):\n",
    "    z = native_add(x,y)\n",
    "    z = native_relu(z)\n",
    "time.time() - start    "
   ]
  },
  {
   "cell_type": "code",
   "execution_count": 21,
   "id": "77cc804b-43b8-47b1-98cb-76fb10c5c10e",
   "metadata": {},
   "outputs": [
    {
     "data": {
      "text/plain": [
       "(10,)"
      ]
     },
     "execution_count": 21,
     "metadata": {},
     "output_type": "execute_result"
    }
   ],
   "source": [
    "import numpy as np\n",
    "x = np.random.random((32,10))\n",
    "y =  np.random.random((10,))\n",
    "y.shape"
   ]
  },
  {
   "cell_type": "code",
   "execution_count": 22,
   "id": "168480d8-9727-413e-9670-e1e9897b25f8",
   "metadata": {},
   "outputs": [
    {
     "data": {
      "text/plain": [
       "((1, 10), (10, 1))"
      ]
     },
     "execution_count": 22,
     "metadata": {},
     "output_type": "execute_result"
    }
   ],
   "source": [
    "np.expand_dims(y, axis=0).shape, np.expand_dims(y, axis=1).shape\n"
   ]
  },
  {
   "cell_type": "code",
   "execution_count": 23,
   "id": "91893e14-0420-47a4-9eb6-f651fb06e889",
   "metadata": {},
   "outputs": [],
   "source": [
    "y = np.expand_dims(y, axis=0)"
   ]
  },
  {
   "cell_type": "code",
   "execution_count": 24,
   "id": "babc7de6-ca32-46bf-85c1-0b6b479c35d7",
   "metadata": {
    "tags": []
   },
   "outputs": [
    {
     "data": {
      "text/plain": [
       "array([[0.12972858, 0.97023698, 0.29970896, 0.83772203, 0.48936407,\n",
       "        0.33555506, 0.92830793, 0.87860763, 0.4179273 , 0.77210003],\n",
       "       [0.12972858, 0.97023698, 0.29970896, 0.83772203, 0.48936407,\n",
       "        0.33555506, 0.92830793, 0.87860763, 0.4179273 , 0.77210003],\n",
       "       [0.12972858, 0.97023698, 0.29970896, 0.83772203, 0.48936407,\n",
       "        0.33555506, 0.92830793, 0.87860763, 0.4179273 , 0.77210003],\n",
       "       [0.12972858, 0.97023698, 0.29970896, 0.83772203, 0.48936407,\n",
       "        0.33555506, 0.92830793, 0.87860763, 0.4179273 , 0.77210003],\n",
       "       [0.12972858, 0.97023698, 0.29970896, 0.83772203, 0.48936407,\n",
       "        0.33555506, 0.92830793, 0.87860763, 0.4179273 , 0.77210003],\n",
       "       [0.12972858, 0.97023698, 0.29970896, 0.83772203, 0.48936407,\n",
       "        0.33555506, 0.92830793, 0.87860763, 0.4179273 , 0.77210003],\n",
       "       [0.12972858, 0.97023698, 0.29970896, 0.83772203, 0.48936407,\n",
       "        0.33555506, 0.92830793, 0.87860763, 0.4179273 , 0.77210003],\n",
       "       [0.12972858, 0.97023698, 0.29970896, 0.83772203, 0.48936407,\n",
       "        0.33555506, 0.92830793, 0.87860763, 0.4179273 , 0.77210003],\n",
       "       [0.12972858, 0.97023698, 0.29970896, 0.83772203, 0.48936407,\n",
       "        0.33555506, 0.92830793, 0.87860763, 0.4179273 , 0.77210003],\n",
       "       [0.12972858, 0.97023698, 0.29970896, 0.83772203, 0.48936407,\n",
       "        0.33555506, 0.92830793, 0.87860763, 0.4179273 , 0.77210003],\n",
       "       [0.12972858, 0.97023698, 0.29970896, 0.83772203, 0.48936407,\n",
       "        0.33555506, 0.92830793, 0.87860763, 0.4179273 , 0.77210003],\n",
       "       [0.12972858, 0.97023698, 0.29970896, 0.83772203, 0.48936407,\n",
       "        0.33555506, 0.92830793, 0.87860763, 0.4179273 , 0.77210003],\n",
       "       [0.12972858, 0.97023698, 0.29970896, 0.83772203, 0.48936407,\n",
       "        0.33555506, 0.92830793, 0.87860763, 0.4179273 , 0.77210003],\n",
       "       [0.12972858, 0.97023698, 0.29970896, 0.83772203, 0.48936407,\n",
       "        0.33555506, 0.92830793, 0.87860763, 0.4179273 , 0.77210003],\n",
       "       [0.12972858, 0.97023698, 0.29970896, 0.83772203, 0.48936407,\n",
       "        0.33555506, 0.92830793, 0.87860763, 0.4179273 , 0.77210003],\n",
       "       [0.12972858, 0.97023698, 0.29970896, 0.83772203, 0.48936407,\n",
       "        0.33555506, 0.92830793, 0.87860763, 0.4179273 , 0.77210003],\n",
       "       [0.12972858, 0.97023698, 0.29970896, 0.83772203, 0.48936407,\n",
       "        0.33555506, 0.92830793, 0.87860763, 0.4179273 , 0.77210003],\n",
       "       [0.12972858, 0.97023698, 0.29970896, 0.83772203, 0.48936407,\n",
       "        0.33555506, 0.92830793, 0.87860763, 0.4179273 , 0.77210003],\n",
       "       [0.12972858, 0.97023698, 0.29970896, 0.83772203, 0.48936407,\n",
       "        0.33555506, 0.92830793, 0.87860763, 0.4179273 , 0.77210003],\n",
       "       [0.12972858, 0.97023698, 0.29970896, 0.83772203, 0.48936407,\n",
       "        0.33555506, 0.92830793, 0.87860763, 0.4179273 , 0.77210003],\n",
       "       [0.12972858, 0.97023698, 0.29970896, 0.83772203, 0.48936407,\n",
       "        0.33555506, 0.92830793, 0.87860763, 0.4179273 , 0.77210003],\n",
       "       [0.12972858, 0.97023698, 0.29970896, 0.83772203, 0.48936407,\n",
       "        0.33555506, 0.92830793, 0.87860763, 0.4179273 , 0.77210003],\n",
       "       [0.12972858, 0.97023698, 0.29970896, 0.83772203, 0.48936407,\n",
       "        0.33555506, 0.92830793, 0.87860763, 0.4179273 , 0.77210003],\n",
       "       [0.12972858, 0.97023698, 0.29970896, 0.83772203, 0.48936407,\n",
       "        0.33555506, 0.92830793, 0.87860763, 0.4179273 , 0.77210003],\n",
       "       [0.12972858, 0.97023698, 0.29970896, 0.83772203, 0.48936407,\n",
       "        0.33555506, 0.92830793, 0.87860763, 0.4179273 , 0.77210003],\n",
       "       [0.12972858, 0.97023698, 0.29970896, 0.83772203, 0.48936407,\n",
       "        0.33555506, 0.92830793, 0.87860763, 0.4179273 , 0.77210003],\n",
       "       [0.12972858, 0.97023698, 0.29970896, 0.83772203, 0.48936407,\n",
       "        0.33555506, 0.92830793, 0.87860763, 0.4179273 , 0.77210003],\n",
       "       [0.12972858, 0.97023698, 0.29970896, 0.83772203, 0.48936407,\n",
       "        0.33555506, 0.92830793, 0.87860763, 0.4179273 , 0.77210003],\n",
       "       [0.12972858, 0.97023698, 0.29970896, 0.83772203, 0.48936407,\n",
       "        0.33555506, 0.92830793, 0.87860763, 0.4179273 , 0.77210003],\n",
       "       [0.12972858, 0.97023698, 0.29970896, 0.83772203, 0.48936407,\n",
       "        0.33555506, 0.92830793, 0.87860763, 0.4179273 , 0.77210003],\n",
       "       [0.12972858, 0.97023698, 0.29970896, 0.83772203, 0.48936407,\n",
       "        0.33555506, 0.92830793, 0.87860763, 0.4179273 , 0.77210003],\n",
       "       [0.12972858, 0.97023698, 0.29970896, 0.83772203, 0.48936407,\n",
       "        0.33555506, 0.92830793, 0.87860763, 0.4179273 , 0.77210003]])"
      ]
     },
     "execution_count": 24,
     "metadata": {},
     "output_type": "execute_result"
    }
   ],
   "source": [
    "np.concatenate([y]*32, axis=0)"
   ]
  },
  {
   "cell_type": "code",
   "execution_count": 25,
   "id": "a502e6b2-2c7c-4266-93e4-d29d0bb6040c",
   "metadata": {},
   "outputs": [
    {
     "data": {
      "text/plain": [
       "(array([0.5163083 , 0.18749233, 0.74266738, 0.6591433 , 0.05756919]),\n",
       " array([0.93263895, 0.89655453, 0.00178882, 0.88046492, 0.08077703]),\n",
       " (5,),\n",
       " (5,))"
      ]
     },
     "execution_count": 25,
     "metadata": {},
     "output_type": "execute_result"
    }
   ],
   "source": [
    "x = np.random.random((5))\n",
    "y = np.random.random((5))\n",
    "x,y,x.shape, y.shape"
   ]
  },
  {
   "cell_type": "code",
   "execution_count": 26,
   "id": "62c9f658-e568-4af0-a2f5-2f2f57dae9b5",
   "metadata": {},
   "outputs": [
    {
     "data": {
      "text/plain": [
       "1.2359576384314517"
      ]
     },
     "execution_count": 26,
     "metadata": {},
     "output_type": "execute_result"
    }
   ],
   "source": [
    "z = np.dot(x,y)\n",
    "z"
   ]
  },
  {
   "cell_type": "code",
   "execution_count": 27,
   "id": "fa013555-7ca1-4183-89b5-87b1472092da",
   "metadata": {},
   "outputs": [],
   "source": [
    "def native_vector_dot(x,y):\n",
    "    assert len(x.shape) == 1\n",
    "    assert len(y.shape) == 1\n",
    "    assert y.shape[0] == x.shape[0]\n",
    "    z = 0\n",
    "    for i in range(x.shape[0]):    \n",
    "        z += x[i] * y[i]\n",
    "    return z"
   ]
  },
  {
   "cell_type": "code",
   "execution_count": 28,
   "id": "4ec80158-8266-4a9c-9ac8-1ffd80353ce9",
   "metadata": {},
   "outputs": [
    {
     "data": {
      "text/plain": [
       "(array([[0.30917402, 0.78863087],\n",
       "        [0.28533182, 0.03278106]]),\n",
       " array([0.93816602, 0.46607669]),\n",
       " (2, 2),\n",
       " (2,))"
      ]
     },
     "execution_count": 28,
     "metadata": {},
     "output_type": "execute_result"
    }
   ],
   "source": [
    "x = np.random.random((2,2))\n",
    "y = np.random.random((2))\n",
    "x,y,x.shape, y.shape"
   ]
  },
  {
   "cell_type": "code",
   "execution_count": 29,
   "id": "85687f64-db9d-45fa-8527-40f79ff5e675",
   "metadata": {},
   "outputs": [
    {
     "data": {
      "text/plain": [
       "array([0.65761903, 0.28296711])"
      ]
     },
     "execution_count": 29,
     "metadata": {},
     "output_type": "execute_result"
    }
   ],
   "source": [
    "np.dot(x,y)"
   ]
  },
  {
   "cell_type": "code",
   "execution_count": 30,
   "id": "d82eb4bc-5171-49c0-bd79-3b5ca1bca24c",
   "metadata": {},
   "outputs": [],
   "source": [
    "def native_matrix_vector_dot(x,y):\n",
    "    assert len(x.shape) == 2\n",
    "    assert len(y.shape) == 1\n",
    "    assert x.shape[1] == y.shape[0]\n",
    "    z = np.zeros(x.shape[0])\n",
    "    for i in range(x.shape[0]):\n",
    "        for j in range(x.shape[1]):\n",
    "            z[i] += x[i,j] * y[j]\n",
    "    return z"
   ]
  },
  {
   "cell_type": "code",
   "execution_count": 31,
   "id": "a644e446-8089-4a55-a8a6-a8a4f125f512",
   "metadata": {},
   "outputs": [],
   "source": [
    "def native_matrix_vector_dot(x,y):    \n",
    "    z = np.zeros(x.shape[0])\n",
    "    for i in range(x.shape[0]):        \n",
    "        z[i]  = native_vector_dot(x[i, :], y)\n",
    "    return z"
   ]
  },
  {
   "cell_type": "code",
   "execution_count": 32,
   "id": "0fd01b7e-5e66-44c3-afa9-0e061b692dca",
   "metadata": {},
   "outputs": [],
   "source": [
    "# native_vector_dot 을 이용해서 작성\n",
    "def native_matrix_dot(x,y):\n",
    "    assert len(x.shape) == 2\n",
    "    assert len(y.shape) == 2\n",
    "    assert x.shape[1] == y.shape[0]\n",
    "    "
   ]
  },
  {
   "cell_type": "code",
   "execution_count": 33,
   "id": "4a5350b2-b17f-4940-a5d1-a34ae3ee7c15",
   "metadata": {},
   "outputs": [
    {
     "name": "stdout",
     "output_type": "stream",
     "text": [
      "(32, 20)\n"
     ]
    },
    {
     "data": {
      "text/plain": [
       "(20, 32)"
      ]
     },
     "execution_count": 33,
     "metadata": {},
     "output_type": "execute_result"
    }
   ],
   "source": [
    "x = np.zeros((32,20))\n",
    "print(x.shape)\n",
    "xt = np.transpose(x)\n",
    "xt.shape\n"
   ]
  },
  {
   "cell_type": "code",
   "execution_count": 34,
   "id": "ab3eb1b2-6af7-4be6-bb49-bb8ac614922a",
   "metadata": {},
   "outputs": [
    {
     "data": {
      "text/plain": [
       "((3, 2, 1),\n",
       " array([[[1],\n",
       "         [2]],\n",
       " \n",
       "        [[3],\n",
       "         [4]],\n",
       " \n",
       "        [[5],\n",
       "         [6]]]))"
      ]
     },
     "execution_count": 34,
     "metadata": {},
     "output_type": "execute_result"
    }
   ],
   "source": [
    "x = np.array([[1,2],[3,4],[5,6]])\n",
    "x = np.expand_dims(x, axis=-1)\n",
    "x.shape , x"
   ]
  },
  {
   "cell_type": "code",
   "execution_count": 35,
   "id": "854dbb93-0fa5-41dd-9200-68979c09ccd9",
   "metadata": {},
   "outputs": [
    {
     "data": {
      "text/plain": [
       "(array([[[1, 3, 5],\n",
       "         [2, 4, 6]]]),\n",
       " (1, 2, 3))"
      ]
     },
     "execution_count": 35,
     "metadata": {},
     "output_type": "execute_result"
    }
   ],
   "source": [
    "x.T, x.T.shape"
   ]
  },
  {
   "cell_type": "code",
   "execution_count": 36,
   "id": "605ddedc-dc72-40c4-8250-727118c7359e",
   "metadata": {},
   "outputs": [
    {
     "data": {
      "text/plain": [
       "(array([[[1, 3, 5]],\n",
       " \n",
       "        [[2, 4, 6]]]),\n",
       " (2, 1, 3))"
      ]
     },
     "execution_count": 36,
     "metadata": {},
     "output_type": "execute_result"
    }
   ],
   "source": [
    "x.transpose(1,2,0), x.transpose(1,2,0).shape"
   ]
  },
  {
   "cell_type": "code",
   "execution_count": 37,
   "id": "ba7dfa0a-45d8-46e5-9823-5162e1603241",
   "metadata": {},
   "outputs": [],
   "source": [
    "# 자동미분\n",
    "import tensorflow as tf\n",
    "x = tf.Variable(0.)\n",
    "with tf.GradientTape() as tape:\n",
    "    y = 2*x + 3\n",
    "grad_y = tape.gradient(y,x)    "
   ]
  },
  {
   "cell_type": "code",
   "execution_count": 38,
   "id": "4ff3a147-ca12-4127-8267-f27839212963",
   "metadata": {},
   "outputs": [],
   "source": [
    "w = tf.Variable(tf.random.uniform((2,2)))\n",
    "b = tf.Variable(tf.zeros((2,)))\n",
    "x = tf.random.uniform((2,2))\n",
    "with tf.GradientTape() as tape:\n",
    "    y = tf.matmul(x,w) +b\n",
    "\n",
    "grade_y = tape.gradient(y, [w,b])\n",
    "                "
   ]
  },
  {
   "cell_type": "code",
   "execution_count": 39,
   "id": "63d14024-c4f2-49d8-b0f2-d44f44f9fe77",
   "metadata": {},
   "outputs": [
    {
     "data": {
      "text/plain": [
       "[<tf.Tensor: shape=(2, 2), dtype=float32, numpy=\n",
       " array([[1.4641707 , 1.4641707 ],\n",
       "        [0.67615736, 0.67615736]], dtype=float32)>,\n",
       " <tf.Tensor: shape=(2,), dtype=float32, numpy=array([2., 2.], dtype=float32)>]"
      ]
     },
     "execution_count": 39,
     "metadata": {},
     "output_type": "execute_result"
    }
   ],
   "source": [
    "grade_y"
   ]
  },
  {
   "cell_type": "code",
   "execution_count": 40,
   "id": "8a1d448e-de43-4a0e-bdbf-da8f1bc16b52",
   "metadata": {},
   "outputs": [],
   "source": [
    "class NativeDense:\n",
    "    def __init__(self, input_size, output_size, activation):\n",
    "        self.activation = activation\n",
    "        w_shape = (input_size, output_size)\n",
    "        w_init_value = tf.random.uniform(w_shape,  minval=0, maxval=1e-1)\n",
    "        self.W = tf.Variable(w_init_value)\n",
    "        \n",
    "        b_shape = (output_size,)\n",
    "        b_init_value = tf.zeros(b_shape)\n",
    "        self.b = tf.Variable(b_init_value)\n",
    "    def __call__(self, inputs):        \n",
    "        return self.activation(tf.matmul(inputs,self.W) + self.b)\n",
    "    @property\n",
    "    def weights(self):\n",
    "        return [self.W, self.b]"
   ]
  },
  {
   "cell_type": "code",
   "execution_count": 41,
   "id": "9321c983-aa08-4eed-8800-18c24e6a4878",
   "metadata": {},
   "outputs": [],
   "source": [
    "class Dumy:\n",
    "    def __init__(self):\n",
    "        print(\"객체가 생성되었습니다.\")\n",
    "    def __call__(self, data):\n",
    "        return f\"전달된 데이터는 {data}\"\n",
    "    @property\n",
    "    def abc(self):\n",
    "        return 1000\n",
    "    "
   ]
  },
  {
   "cell_type": "code",
   "execution_count": 42,
   "id": "d0f4d452-ba6e-40c9-a863-3263dba4a112",
   "metadata": {},
   "outputs": [
    {
     "name": "stdout",
     "output_type": "stream",
     "text": [
      "객체가 생성되었습니다.\n"
     ]
    }
   ],
   "source": [
    "d = Dumy()"
   ]
  },
  {
   "cell_type": "code",
   "execution_count": 43,
   "id": "df314384-abd6-4354-ad80-3b9ae1a8290c",
   "metadata": {},
   "outputs": [
    {
     "data": {
      "text/plain": [
       "('전달된 데이터는 우헤헤', 1000)"
      ]
     },
     "execution_count": 43,
     "metadata": {},
     "output_type": "execute_result"
    }
   ],
   "source": [
    "d(\"우헤헤\"), d.abc"
   ]
  },
  {
   "cell_type": "code",
   "execution_count": 44,
   "id": "bd725408-0d9d-4ed8-96aa-638045c5ead8",
   "metadata": {},
   "outputs": [],
   "source": [
    "class NativeSequential:\n",
    "    def __init__(self,layers):\n",
    "        self.layers = layers\n",
    "    def __call__(self, inputs):\n",
    "        x = inputs\n",
    "        for layer in self.layers:\n",
    "            x = layer(x)\n",
    "        return x   \n",
    "    @property\n",
    "    def weights(self):\n",
    "        weights = []\n",
    "        for layer in self.layers:\n",
    "            weights += layer.weights\n",
    "        return weights"
   ]
  },
  {
   "cell_type": "code",
   "execution_count": 45,
   "id": "ee02f881-ec45-43dc-b3d0-af1a3de42cf7",
   "metadata": {},
   "outputs": [],
   "source": [
    "model = NativeSequential(\n",
    "    [\n",
    "        NativeDense(input_size=28*28,output_size=128,activation=tf.nn.relu),\n",
    "        NativeDense(input_size=128,output_size=10,activation=tf.nn.softmax),\n",
    "    ]\n",
    ")\n",
    "assert len(model.weights) == 4"
   ]
  },
  {
   "cell_type": "code",
   "execution_count": 46,
   "id": "7c9548cc-0ec4-412a-96da-40d1cc4c5266",
   "metadata": {},
   "outputs": [],
   "source": [
    "# 배치 제너레이터\n",
    "import math\n",
    "class BatchGenerator:\n",
    "    def __init__(self, images, labels, batch_size = 128):\n",
    "        assert len(images) == len(labels)\n",
    "        self.index = 0\n",
    "        self.images = images\n",
    "        self.labels = labels\n",
    "        self.batch_size = batch_size\n",
    "        self.num_batchs = math.ceil(len(images) / batch_size)\n",
    "    def next(self):\n",
    "        images = self.images[self.index: self.index + self.batch_size]\n",
    "        labels = self.labels[self.index: self.index + self.batch_size]\n",
    "        self.index += self.batch_size\n",
    "        return images, labels"
   ]
  },
  {
   "cell_type": "code",
   "execution_count": 47,
   "id": "1ea7d467-e74e-41b8-9183-7ba7f578de7e",
   "metadata": {},
   "outputs": [],
   "source": [
    "learning_rate = 1e-2\n",
    "# def update_weights(gradients, weights):\n",
    "#     for g,w in zip(gradients, weights):\n",
    "#         w.assign_sub(g*learning_rate)"
   ]
  },
  {
   "cell_type": "code",
   "execution_count": 48,
   "id": "876f30f2-7e16-47ed-a257-4be8cdb658b3",
   "metadata": {},
   "outputs": [],
   "source": [
    "from tensorflow.keras import optimizers\n",
    "optimizer = optimizers.SGD(learning_rate=learning_rate)\n",
    "def update_weights(gradient, weights):\n",
    "    optimizer.apply_gradients(zip(gradient, weights))"
   ]
  },
  {
   "cell_type": "code",
   "execution_count": 49,
   "id": "3e2e94db-ae84-4c75-ab8b-faca9ac6465e",
   "metadata": {},
   "outputs": [],
   "source": [
    "# 훈련스텝\n",
    "def one_training_step(model, images_batch, labels_batch):\n",
    "    with tf.GradientTape() as tape:\n",
    "        predictions = model(images_batch)        \n",
    "        loss = tf.keras.losses.sparse_categorical_crossentropy(labels_batch,predictions)\n",
    "        average_loss =  tf.reduce_mean(loss)\n",
    "    gradients = tape.gradient(average_loss, model.weights)\n",
    "    # 업데이트\n",
    "    update_weights(gradients,model.weights)\n",
    "    return average_loss"
   ]
  },
  {
   "cell_type": "code",
   "execution_count": 50,
   "id": "803e5a0d-e842-4cd8-aa70-10a99c2e678d",
   "metadata": {},
   "outputs": [
    {
     "data": {
      "text/plain": [
       "(<function __main__.AA()>, 10)"
      ]
     },
     "execution_count": 50,
     "metadata": {},
     "output_type": "execute_result"
    }
   ],
   "source": [
    "# 객제지향 프로그램에서 변수\n",
    "def AA():\n",
    "    pass\n",
    "BB = 10\n",
    "AA, BB"
   ]
  },
  {
   "cell_type": "code",
   "execution_count": 51,
   "id": "1e78d1b3-4ed0-4f03-85f6-8b420f659071",
   "metadata": {},
   "outputs": [],
   "source": [
    "# 전체 훈련 loop 설계\n",
    "from tqdm import tqdm\n",
    "def fit(model, images, labels, epochs, batch_size = 32):\n",
    "    for epoch in tqdm(range(epochs)):\n",
    "        print(f\"epoch : {epoch}\") \n",
    "        batch_generator = BatchGenerator(images, labels)\n",
    "        for batch in range(batch_generator.num_batchs):\n",
    "            images_batch, labels_batch =  batch_generator.next()\n",
    "            loss = one_training_step(model, images_batch, labels_batch)\n",
    "            if batch % 100 ==0:\n",
    "                print(f\"{batch} loss : {loss:.2f}\")\n",
    "        "
   ]
  },
  {
   "cell_type": "code",
   "execution_count": 52,
   "id": "f025e477-c471-4428-b66f-ddbd090af66a",
   "metadata": {},
   "outputs": [],
   "source": [
    "from tensorflow.keras.datasets import mnist\n",
    "(x_train,y_train),(x_test,y_test) = mnist.load_data()\n",
    "x_train = x_train.reshape(-1,28*28)\n",
    "x_test = x_test.reshape(-1,28*28)\n",
    "\n",
    "x_train = x_train.astype('float32') / 255.\n",
    "x_test = x_test.astype('float32') / 255.\n"
   ]
  },
  {
   "cell_type": "code",
   "execution_count": 53,
   "id": "ab737f27-4a8e-47de-bc95-4010e40c40af",
   "metadata": {},
   "outputs": [
    {
     "data": {
      "text/plain": [
       "(60000, 784)"
      ]
     },
     "execution_count": 53,
     "metadata": {},
     "output_type": "execute_result"
    }
   ],
   "source": [
    "x_train.shape"
   ]
  },
  {
   "cell_type": "code",
   "execution_count": 54,
   "id": "8b34516c-f9d1-4c81-8108-7082d8ba03eb",
   "metadata": {
    "tags": []
   },
   "outputs": [
    {
     "name": "stderr",
     "output_type": "stream",
     "text": [
      "  0%|                                                                                                                    | 0/10 [00:00<?, ?it/s]"
     ]
    },
    {
     "name": "stdout",
     "output_type": "stream",
     "text": [
      "epoch : 0\n",
      "0 loss : 3.92\n",
      "100 loss : 4.46\n",
      "200 loss : 4.59\n",
      "300 loss : 3.55\n",
      "400 loss : 2.19\n"
     ]
    },
    {
     "name": "stderr",
     "output_type": "stream",
     "text": [
      " 10%|██████████▊                                                                                                 | 1/10 [00:03<00:27,  3.02s/it]"
     ]
    },
    {
     "name": "stdout",
     "output_type": "stream",
     "text": [
      "epoch : 1\n",
      "0 loss : 2.53\n",
      "100 loss : 1.51\n",
      "200 loss : 1.15\n",
      "300 loss : 0.63\n",
      "400 loss : 0.70\n"
     ]
    },
    {
     "name": "stderr",
     "output_type": "stream",
     "text": [
      " 20%|█████████████████████▌                                                                                      | 2/10 [00:05<00:22,  2.82s/it]"
     ]
    },
    {
     "name": "stdout",
     "output_type": "stream",
     "text": [
      "epoch : 2\n",
      "0 loss : 0.59\n",
      "100 loss : 0.56\n",
      "200 loss : 0.52\n",
      "300 loss : 0.47\n",
      "400 loss : 0.55\n"
     ]
    },
    {
     "name": "stderr",
     "output_type": "stream",
     "text": [
      " 30%|████████████████████████████████▍                                                                           | 3/10 [00:07<00:17,  2.49s/it]"
     ]
    },
    {
     "name": "stdout",
     "output_type": "stream",
     "text": [
      "epoch : 3\n",
      "0 loss : 0.46\n",
      "100 loss : 0.42\n",
      "200 loss : 0.35\n",
      "300 loss : 0.41\n",
      "400 loss : 0.50\n"
     ]
    },
    {
     "name": "stderr",
     "output_type": "stream",
     "text": [
      " 40%|███████████████████████████████████████████▏                                                                | 4/10 [00:10<00:14,  2.45s/it]"
     ]
    },
    {
     "name": "stdout",
     "output_type": "stream",
     "text": [
      "epoch : 4\n",
      "0 loss : 0.40\n",
      "100 loss : 0.36\n",
      "200 loss : 0.30\n",
      "300 loss : 0.38\n",
      "400 loss : 0.48\n"
     ]
    },
    {
     "name": "stderr",
     "output_type": "stream",
     "text": [
      " 50%|██████████████████████████████████████████████████████                                                      | 5/10 [00:12<00:11,  2.37s/it]"
     ]
    },
    {
     "name": "stdout",
     "output_type": "stream",
     "text": [
      "epoch : 5\n",
      "0 loss : 0.36\n",
      "100 loss : 0.32\n",
      "200 loss : 0.28\n",
      "300 loss : 0.36\n",
      "400 loss : 0.46\n"
     ]
    },
    {
     "name": "stderr",
     "output_type": "stream",
     "text": [
      " 60%|████████████████████████████████████████████████████████████████▊                                           | 6/10 [00:14<00:09,  2.27s/it]"
     ]
    },
    {
     "name": "stdout",
     "output_type": "stream",
     "text": [
      "epoch : 6\n",
      "0 loss : 0.33\n",
      "100 loss : 0.30\n",
      "200 loss : 0.26\n",
      "300 loss : 0.34\n",
      "400 loss : 0.45\n"
     ]
    },
    {
     "name": "stderr",
     "output_type": "stream",
     "text": [
      " 70%|███████████████████████████████████████████████████████████████████████████▌                                | 7/10 [00:16<00:06,  2.28s/it]"
     ]
    },
    {
     "name": "stdout",
     "output_type": "stream",
     "text": [
      "epoch : 7\n",
      "0 loss : 0.31\n",
      "100 loss : 0.28\n",
      "200 loss : 0.25\n",
      "300 loss : 0.33\n",
      "400 loss : 0.44\n"
     ]
    },
    {
     "name": "stderr",
     "output_type": "stream",
     "text": [
      " 80%|██████████████████████████████████████████████████████████████████████████████████████▍                     | 8/10 [00:19<00:04,  2.35s/it]"
     ]
    },
    {
     "name": "stdout",
     "output_type": "stream",
     "text": [
      "epoch : 8\n",
      "0 loss : 0.29\n",
      "100 loss : 0.27\n",
      "200 loss : 0.24\n",
      "300 loss : 0.32\n",
      "400 loss : 0.44\n"
     ]
    },
    {
     "name": "stderr",
     "output_type": "stream",
     "text": [
      " 90%|█████████████████████████████████████████████████████████████████████████████████████████████████▏          | 9/10 [00:21<00:02,  2.29s/it]"
     ]
    },
    {
     "name": "stdout",
     "output_type": "stream",
     "text": [
      "epoch : 9\n",
      "0 loss : 0.27\n",
      "100 loss : 0.25\n",
      "200 loss : 0.23\n",
      "300 loss : 0.32\n",
      "400 loss : 0.43\n"
     ]
    },
    {
     "name": "stderr",
     "output_type": "stream",
     "text": [
      "100%|███████████████████████████████████████████████████████████████████████████████████████████████████████████| 10/10 [00:23<00:00,  2.37s/it]\n"
     ]
    }
   ],
   "source": [
    "fit(model,x_train,y_train,epochs=10,batch_size=100)"
   ]
  },
  {
   "cell_type": "code",
   "execution_count": 57,
   "id": "57e5378c-71bc-47f3-8144-887634e1098d",
   "metadata": {},
   "outputs": [],
   "source": [
    "# 모델 평가\n",
    "predictions = model(x_test)"
   ]
  },
  {
   "cell_type": "code",
   "execution_count": 62,
   "id": "7f8fd97d-d254-43ca-8ad6-13aad25ff4b9",
   "metadata": {},
   "outputs": [
    {
     "data": {
      "text/plain": [
       "0.9021"
      ]
     },
     "execution_count": 62,
     "metadata": {},
     "output_type": "execute_result"
    }
   ],
   "source": [
    "(predictions.numpy().argmax(1) == y_test).mean()"
   ]
  },
  {
   "cell_type": "code",
   "execution_count": null,
   "id": "70ad94f1-ef82-483e-8aaa-4a2fd5b94b6a",
   "metadata": {},
   "outputs": [],
   "source": [
    "# 훈련과정을. 시각화"
   ]
  }
 ],
 "metadata": {
  "kernelspec": {
   "display_name": "Python 3 (ipykernel)",
   "language": "python",
   "name": "python3"
  },
  "language_info": {
   "codemirror_mode": {
    "name": "ipython",
    "version": 3
   },
   "file_extension": ".py",
   "mimetype": "text/x-python",
   "name": "python",
   "nbconvert_exporter": "python",
   "pygments_lexer": "ipython3",
   "version": "3.9.15"
  }
 },
 "nbformat": 4,
 "nbformat_minor": 5
}

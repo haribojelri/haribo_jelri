{
  "nbformat": 4,
  "nbformat_minor": 0,
  "metadata": {
    "colab": {
      "provenance": []
    },
    "kernelspec": {
      "name": "python3",
      "display_name": "Python 3"
    },
    "language_info": {
      "name": "python"
    },
    "accelerator": "GPU",
    "gpuClass": "standard"
  },
  "cells": [
    {
      "cell_type": "code",
      "execution_count": 1,
      "metadata": {
        "id": "ZMlhbaiVFpU1"
      },
      "outputs": [],
      "source": [
        "# 사전훈련된 모델 사용  VGG16"
      ]
    },
    {
      "cell_type": "code",
      "source": [
        "from tensorflow import keras"
      ],
      "metadata": {
        "id": "wKSjy9gFHyZ2"
      },
      "execution_count": 1,
      "outputs": []
    },
    {
      "cell_type": "code",
      "source": [
        "# 특성 추출기\n",
        "base_conv = keras.applications.vgg16.VGG16(\n",
        "    include_top = False\n",
        "    ,weights='imagenet'\n",
        "    ,input_shape = (180,180,3)\n",
        ")"
      ],
      "metadata": {
        "id": "kYnBe9jFIIDz"
      },
      "execution_count": 7,
      "outputs": []
    },
    {
      "cell_type": "code",
      "source": [
        "help(keras.applications.vgg16.VGG16)"
      ],
      "metadata": {
        "id": "b-IYHN79IX7j"
      },
      "execution_count": null,
      "outputs": []
    },
    {
      "cell_type": "code",
      "source": [
        "base_conv.summary()"
      ],
      "metadata": {
        "colab": {
          "base_uri": "https://localhost:8080/"
        },
        "id": "kWk7Wv0XIZiq",
        "outputId": "cab69116-9d5f-4997-d44c-04c7a06819f0"
      },
      "execution_count": 8,
      "outputs": [
        {
          "output_type": "stream",
          "name": "stdout",
          "text": [
            "Model: \"vgg16\"\n",
            "_________________________________________________________________\n",
            " Layer (type)                Output Shape              Param #   \n",
            "=================================================================\n",
            " input_3 (InputLayer)        [(None, 180, 180, 3)]     0         \n",
            "                                                                 \n",
            " block1_conv1 (Conv2D)       (None, 180, 180, 64)      1792      \n",
            "                                                                 \n",
            " block1_conv2 (Conv2D)       (None, 180, 180, 64)      36928     \n",
            "                                                                 \n",
            " block1_pool (MaxPooling2D)  (None, 90, 90, 64)        0         \n",
            "                                                                 \n",
            " block2_conv1 (Conv2D)       (None, 90, 90, 128)       73856     \n",
            "                                                                 \n",
            " block2_conv2 (Conv2D)       (None, 90, 90, 128)       147584    \n",
            "                                                                 \n",
            " block2_pool (MaxPooling2D)  (None, 45, 45, 128)       0         \n",
            "                                                                 \n",
            " block3_conv1 (Conv2D)       (None, 45, 45, 256)       295168    \n",
            "                                                                 \n",
            " block3_conv2 (Conv2D)       (None, 45, 45, 256)       590080    \n",
            "                                                                 \n",
            " block3_conv3 (Conv2D)       (None, 45, 45, 256)       590080    \n",
            "                                                                 \n",
            " block3_pool (MaxPooling2D)  (None, 22, 22, 256)       0         \n",
            "                                                                 \n",
            " block4_conv1 (Conv2D)       (None, 22, 22, 512)       1180160   \n",
            "                                                                 \n",
            " block4_conv2 (Conv2D)       (None, 22, 22, 512)       2359808   \n",
            "                                                                 \n",
            " block4_conv3 (Conv2D)       (None, 22, 22, 512)       2359808   \n",
            "                                                                 \n",
            " block4_pool (MaxPooling2D)  (None, 11, 11, 512)       0         \n",
            "                                                                 \n",
            " block5_conv1 (Conv2D)       (None, 11, 11, 512)       2359808   \n",
            "                                                                 \n",
            " block5_conv2 (Conv2D)       (None, 11, 11, 512)       2359808   \n",
            "                                                                 \n",
            " block5_conv3 (Conv2D)       (None, 11, 11, 512)       2359808   \n",
            "                                                                 \n",
            " block5_pool (MaxPooling2D)  (None, 5, 5, 512)         0         \n",
            "                                                                 \n",
            "=================================================================\n",
            "Total params: 14,714,688\n",
            "Trainable params: 14,714,688\n",
            "Non-trainable params: 0\n",
            "_________________________________________________________________\n"
          ]
        }
      ]
    },
    {
      "cell_type": "code",
      "source": [
        "import numpy as np"
      ],
      "metadata": {
        "id": "Q3RyMXQAKad1"
      },
      "execution_count": 9,
      "outputs": []
    },
    {
      "cell_type": "code",
      "source": [
        "# 데이터셋은 \"텐서플로4_비전시스템\" 노트북에있는 데이터셋을 이용한다.\n",
        "from tensorflow.keras.utils import image_dataset_from_directory\n",
        "\n",
        "train_dataset = image_dataset_from_directory(\n",
        "    \"/content/drive/MyDrive/train\",\n",
        "    image_size=(180, 180),\n",
        "    batch_size=32)\n",
        "validation_dataset = image_dataset_from_directory(\n",
        "    \"/content/drive/MyDrive/validation\",\n",
        "    image_size=(180, 180),\n",
        "    batch_size=32)\n",
        "test_dataset = image_dataset_from_directory(\n",
        "    \"/content/drive/MyDrive/test\",\n",
        "    image_size=(180, 180),\n",
        "    batch_size=32)"
      ],
      "metadata": {
        "colab": {
          "base_uri": "https://localhost:8080/"
        },
        "id": "woqTrr2EK2bF",
        "outputId": "aa28641e-e27f-47a6-d9cf-68cad29bd8d5"
      },
      "execution_count": 11,
      "outputs": [
        {
          "output_type": "stream",
          "name": "stdout",
          "text": [
            "Found 1000 files belonging to 2 classes.\n",
            "Found 500 files belonging to 2 classes.\n",
            "Found 1000 files belonging to 2 classes.\n"
          ]
        }
      ]
    },
    {
      "cell_type": "code",
      "source": [
        "# 레이블 추출\n",
        "from tqdm import tqdm\n",
        "def getFeatureAndLabels(dataset):\n",
        "  all_feature = []\n",
        "  all_labels = []\n",
        "  for images, labels in tqdm(dataset):\n",
        "    preprocessed_images = keras.applications.vgg16.preprocess_input(images)\n",
        "    features =  base_conv(preprocessed_images)\n",
        "    all_feature.append(features)\n",
        "    all_labels.append(labels)\n",
        "  return np.concatenate(all_feature), np.concatenate(all_labels)"
      ],
      "metadata": {
        "id": "mLF4pskXI4Xq"
      },
      "execution_count": 13,
      "outputs": []
    },
    {
      "cell_type": "code",
      "source": [
        "train_feature,train_label = getFeatureAndLabels(train_dataset) \n",
        "validation_feature, validation_label = getFeatureAndLabels(validation_dataset)\n",
        "test_feature, test_label = getFeatureAndLabels(test_dataset)"
      ],
      "metadata": {
        "colab": {
          "base_uri": "https://localhost:8080/"
        },
        "id": "uW2K6EQzKj2D",
        "outputId": "06e06d7a-267a-4eda-f18b-640bdc1f8107"
      },
      "execution_count": 14,
      "outputs": [
        {
          "output_type": "stream",
          "name": "stderr",
          "text": [
            "100%|██████████| 32/32 [02:12<00:00,  4.14s/it]\n",
            "100%|██████████| 16/16 [03:21<00:00, 12.62s/it]\n",
            "100%|██████████| 32/32 [06:13<00:00, 11.67s/it]\n"
          ]
        }
      ]
    },
    {
      "cell_type": "code",
      "source": [
        "train_feature.shape, validation_feature.shape"
      ],
      "metadata": {
        "colab": {
          "base_uri": "https://localhost:8080/"
        },
        "id": "QkAUbOLPOciU",
        "outputId": "ebd2bf0c-7069-4f63-c431-68f38f5c1c76"
      },
      "execution_count": 22,
      "outputs": [
        {
          "output_type": "execute_result",
          "data": {
            "text/plain": [
              "((1000, 5, 5, 512), (500, 5, 5, 512))"
            ]
          },
          "metadata": {},
          "execution_count": 22
        }
      ]
    },
    {
      "cell_type": "code",
      "source": [
        "train_feature.shape[1:]"
      ],
      "metadata": {
        "colab": {
          "base_uri": "https://localhost:8080/"
        },
        "id": "r-1XFQP2SNR_",
        "outputId": "c045edd6-088e-44d3-94f8-a4be97ca0170"
      },
      "execution_count": 23,
      "outputs": [
        {
          "output_type": "execute_result",
          "data": {
            "text/plain": [
              "(5, 5, 512)"
            ]
          },
          "metadata": {},
          "execution_count": 23
        }
      ]
    },
    {
      "cell_type": "code",
      "source": [
        "\n",
        "# 밀집층 설계\n",
        "inputs = keras.Input(shape = ( 5, 5, 512 ))\n",
        "# inputs = keras.Input(shape = train_feature.shape[1:])\n",
        "x = keras.layers.Flatten()(inputs)\n",
        "x = keras.layers.Dense(256,activation='relu')(x)\n",
        "x = keras.layers.Dropout(0.5)(x)\n",
        "outputs = keras.layers.Dense(1,activation='sigmoid')(x)\n",
        "model = keras.Model(inputs = inputs, outputs = outputs)"
      ],
      "metadata": {
        "id": "nacc48WlLymE"
      },
      "execution_count": 28,
      "outputs": []
    },
    {
      "cell_type": "code",
      "source": [
        "model.compile(loss = 'binary_crossentropy', optimizer='adam', metrics=['accuracy'])\n",
        "callbacks = ([\n",
        "    keras.callbacks.ModelCheckpoint('vgg16.keras', save_best_only=True )\n",
        "]    \n",
        ")\n",
        "history = model.fit(train_feature,train_label,epochs=20,validation_data=(validation_feature,validation_label ), callbacks = callbacks )"
      ],
      "metadata": {
        "colab": {
          "base_uri": "https://localhost:8080/"
        },
        "id": "pxpzxtYaQxos",
        "outputId": "547c8fe2-30cb-4a02-f5cd-c9ddf14699b5"
      },
      "execution_count": 29,
      "outputs": [
        {
          "output_type": "stream",
          "name": "stdout",
          "text": [
            "Epoch 1/20\n",
            "32/32 [==============================] - 1s 13ms/step - loss: 4.5326 - accuracy: 0.9020 - val_loss: 1.5107 - val_accuracy: 0.9580\n",
            "Epoch 2/20\n",
            "32/32 [==============================] - 0s 10ms/step - loss: 1.1644 - accuracy: 0.9740 - val_loss: 1.4768 - val_accuracy: 0.9620\n",
            "Epoch 3/20\n",
            "32/32 [==============================] - 0s 6ms/step - loss: 0.5115 - accuracy: 0.9860 - val_loss: 1.5943 - val_accuracy: 0.9560\n",
            "Epoch 4/20\n",
            "32/32 [==============================] - 0s 6ms/step - loss: 0.4367 - accuracy: 0.9860 - val_loss: 1.8467 - val_accuracy: 0.9540\n",
            "Epoch 5/20\n",
            "32/32 [==============================] - 0s 9ms/step - loss: 0.1317 - accuracy: 0.9910 - val_loss: 1.2773 - val_accuracy: 0.9620\n",
            "Epoch 6/20\n",
            "32/32 [==============================] - 0s 5ms/step - loss: 0.0274 - accuracy: 0.9980 - val_loss: 1.4186 - val_accuracy: 0.9700\n",
            "Epoch 7/20\n",
            "32/32 [==============================] - 0s 6ms/step - loss: 0.0244 - accuracy: 0.9970 - val_loss: 1.4403 - val_accuracy: 0.9720\n",
            "Epoch 8/20\n",
            "32/32 [==============================] - 0s 6ms/step - loss: 0.2059 - accuracy: 0.9930 - val_loss: 1.2878 - val_accuracy: 0.9760\n",
            "Epoch 9/20\n",
            "32/32 [==============================] - 0s 6ms/step - loss: 0.0720 - accuracy: 0.9950 - val_loss: 1.6746 - val_accuracy: 0.9720\n",
            "Epoch 10/20\n",
            "32/32 [==============================] - 0s 7ms/step - loss: 0.2317 - accuracy: 0.9920 - val_loss: 1.7861 - val_accuracy: 0.9660\n",
            "Epoch 11/20\n",
            "32/32 [==============================] - 0s 6ms/step - loss: 0.0555 - accuracy: 0.9940 - val_loss: 1.5904 - val_accuracy: 0.9620\n",
            "Epoch 12/20\n",
            "32/32 [==============================] - 0s 5ms/step - loss: 0.1652 - accuracy: 0.9930 - val_loss: 1.5650 - val_accuracy: 0.9620\n",
            "Epoch 13/20\n",
            "32/32 [==============================] - 0s 6ms/step - loss: 9.1531e-10 - accuracy: 1.0000 - val_loss: 1.5388 - val_accuracy: 0.9640\n",
            "Epoch 14/20\n",
            "32/32 [==============================] - 0s 6ms/step - loss: 0.0104 - accuracy: 0.9990 - val_loss: 1.8792 - val_accuracy: 0.9580\n",
            "Epoch 15/20\n",
            "32/32 [==============================] - 0s 5ms/step - loss: 0.0404 - accuracy: 0.9960 - val_loss: 1.6479 - val_accuracy: 0.9700\n",
            "Epoch 16/20\n",
            "32/32 [==============================] - 0s 6ms/step - loss: 1.6121e-04 - accuracy: 1.0000 - val_loss: 1.5880 - val_accuracy: 0.9680\n",
            "Epoch 17/20\n",
            "32/32 [==============================] - 0s 6ms/step - loss: 1.6120e-08 - accuracy: 1.0000 - val_loss: 1.5348 - val_accuracy: 0.9680\n",
            "Epoch 18/20\n",
            "32/32 [==============================] - 0s 6ms/step - loss: 0.0688 - accuracy: 0.9970 - val_loss: 1.6015 - val_accuracy: 0.9620\n",
            "Epoch 19/20\n",
            "32/32 [==============================] - 0s 6ms/step - loss: 0.0427 - accuracy: 0.9970 - val_loss: 1.4904 - val_accuracy: 0.9600\n",
            "Epoch 20/20\n",
            "32/32 [==============================] - 0s 5ms/step - loss: 0.0107 - accuracy: 0.9990 - val_loss: 1.7996 - val_accuracy: 0.9680\n"
          ]
        }
      ]
    },
    {
      "cell_type": "code",
      "source": [
        "import matplotlib.pyplot as plt\n",
        "accuracy = history.history['accuracy']\n",
        "val_accuracy = history.history['val_accuracy']\n",
        "loss = history.history['loss']\n",
        "val_loss = history.history['val_loss']\n",
        "epochs = range(1, len(accuracy)+1)\n",
        "\n",
        "plt.plot(epochs, accuracy, 'bo', label = 'training accuracy')\n",
        "plt.plot(epochs, val_accuracy, 'b', label = 'validtaion accuracy')\n",
        "plt.legend()\n",
        "\n",
        "plt.figure()\n",
        "\n",
        "plt.plot(epochs, loss, 'bo', label = 'training loss')\n",
        "plt.plot(epochs, val_loss, 'b', label = 'validtaion loss')\n",
        "plt.legend()"
      ],
      "metadata": {
        "colab": {
          "base_uri": "https://localhost:8080/",
          "height": 532
        },
        "id": "fVEUj74PRoru",
        "outputId": "6eb071dc-c163-4ac1-cb19-738934cc9d67"
      },
      "execution_count": 30,
      "outputs": [
        {
          "output_type": "execute_result",
          "data": {
            "text/plain": [
              "<matplotlib.legend.Legend at 0x7fd3b0382c40>"
            ]
          },
          "metadata": {},
          "execution_count": 30
        },
        {
          "output_type": "display_data",
          "data": {
            "text/plain": [
              "<Figure size 432x288 with 1 Axes>"
            ],
            "image/png": "[encoded data removed]"
          },
          "metadata": {
            "needs_background": "light"
          }
        },
        {
          "output_type": "display_data",
          "data": {
            "text/plain": [
              "<Figure size 432x288 with 1 Axes>"
            ],
            "image/png": "[encoded data removed]"
          },
          "metadata": {
            "needs_background": "light"
          }
        }
      ]
    },
    {
      "cell_type": "code",
      "source": [
        "test_model = keras.models.load_model('vgg16.keras')"
      ],
      "metadata": {
        "id": "qTpRZP1dV4tt"
      },
      "execution_count": 31,
      "outputs": []
    },
    {
      "cell_type": "code",
      "source": [
        "test_model.evaluate(test_feature,test_label)"
      ],
      "metadata": {
        "colab": {
          "base_uri": "https://localhost:8080/"
        },
        "id": "FkyoF2oTWTYV",
        "outputId": "15ec7f9a-e9dd-440d-f900-968f8f9607cb"
      },
      "execution_count": 32,
      "outputs": [
        {
          "output_type": "stream",
          "name": "stdout",
          "text": [
            "32/32 [==============================] - 0s 3ms/step - loss: 1.1682 - accuracy: 0.9630\n"
          ]
        },
        {
          "output_type": "execute_result",
          "data": {
            "text/plain": [
              "[1.168202519416809, 0.9629999995231628]"
            ]
          },
          "metadata": {},
          "execution_count": 32
        }
      ]
    },
    {
      "cell_type": "code",
      "source": [
        "# 가중치를 동결하고 사용\n",
        "base_conv_freeze = keras.applications.VGG16(\n",
        "    include_top = False\n",
        "    ,weights='imagenet'\n",
        "    ,input_shape = (180,180,3)\n",
        ")\n",
        "base_conv_freeze.trainable = False"
      ],
      "metadata": {
        "id": "OCQ7YZ8dWZIW"
      },
      "execution_count": 38,
      "outputs": []
    },
    {
      "cell_type": "code",
      "source": [
        "# 동결하기 전의 가중치 리스트, 훈련가능한 가중치 개수\n",
        "base_conv_freeze.trainable = True\n",
        "len(base_conv_freeze.trainable_weights)"
      ],
      "metadata": {
        "colab": {
          "base_uri": "https://localhost:8080/"
        },
        "id": "r_8OUseiXDzF",
        "outputId": "bf145385-bef9-4644-f4e3-0ecd35fb3daf"
      },
      "execution_count": 36,
      "outputs": [
        {
          "output_type": "execute_result",
          "data": {
            "text/plain": [
              "26"
            ]
          },
          "metadata": {},
          "execution_count": 36
        }
      ]
    },
    {
      "cell_type": "code",
      "source": [
        "# 동결한 후 가중치 리스트, 훈련가능한 가중치 개수\n",
        "base_conv_freeze.trainable = False\n",
        "len(base_conv_freeze.trainable_weights)"
      ],
      "metadata": {
        "colab": {
          "base_uri": "https://localhost:8080/"
        },
        "id": "UgBcgEREXPw9",
        "outputId": "38d8cac0-e76a-46bb-f495-55c851bb62cc"
      },
      "execution_count": 37,
      "outputs": [
        {
          "output_type": "execute_result",
          "data": {
            "text/plain": [
              "0"
            ]
          },
          "metadata": {},
          "execution_count": 37
        }
      ]
    },
    {
      "cell_type": "code",
      "source": [
        "# 데이터 제너러이터를 이용\n",
        "data_generator = keras.Sequential(\n",
        "    [\n",
        "      keras.layers.RandomFlip('horizontal'),\n",
        "      keras.layers.RandomRotation(0.1),\n",
        "      keras.layers.RandomZoom(0.2)\n",
        "    ]    \n",
        ")\n",
        "inputs = keras.layers.Input(shape = (180,180,3))\n",
        "x = data_generator(inputs)\n",
        "x = keras.applications.vgg16.preprocess_input(x)\n",
        "x = base_conv_freeze(x)\n",
        "x = keras.layers.Flatten()(x)\n",
        "x = keras.layers.Dense(256,activation = 'relu')(x)\n",
        "x = keras.layers.Dropout(0.5)(x)\n",
        "outputs = keras.layers.Dense(1,activation = 'sigmoid')(x)\n",
        "model = keras.Model(inputs,outputs)\n",
        "model.compile(loss = 'binary_crossentropy', optimizer='adam', metrics=['accuracy'])\n",
        "callbacks = ([\n",
        "    keras.callbacks.ModelCheckpoint('vgg16_weight_freeze.keras', save_best_only=True )\n",
        "]    \n",
        ")\n",
        "history = model.fit(train_dataset,epochs=20,validation_data=(validation_dataset ), callbacks = callbacks )\n"
      ],
      "metadata": {
        "colab": {
          "base_uri": "https://localhost:8080/"
        },
        "id": "c1nddP2kXqOO",
        "outputId": "75cd845e-9861-4010-e89e-78ad74ef3888"
      },
      "execution_count": 39,
      "outputs": [
        {
          "output_type": "stream",
          "name": "stdout",
          "text": [
            "Epoch 1/20\n",
            "32/32 [==============================] - 9s 245ms/step - loss: 3.9004 - accuracy: 0.8620 - val_loss: 1.7673 - val_accuracy: 0.9580\n",
            "Epoch 2/20\n",
            "32/32 [==============================] - 8s 229ms/step - loss: 1.3291 - accuracy: 0.9430 - val_loss: 0.8934 - val_accuracy: 0.9700\n",
            "Epoch 3/20\n",
            "32/32 [==============================] - 8s 229ms/step - loss: 1.1541 - accuracy: 0.9450 - val_loss: 0.5375 - val_accuracy: 0.9700\n",
            "Epoch 4/20\n",
            "32/32 [==============================] - 8s 228ms/step - loss: 0.3198 - accuracy: 0.9620 - val_loss: 0.4273 - val_accuracy: 0.9680\n",
            "Epoch 5/20\n",
            "32/32 [==============================] - 8s 232ms/step - loss: 0.1916 - accuracy: 0.9740 - val_loss: 0.3866 - val_accuracy: 0.9760\n",
            "Epoch 6/20\n",
            "32/32 [==============================] - 7s 221ms/step - loss: 0.2542 - accuracy: 0.9730 - val_loss: 0.4418 - val_accuracy: 0.9600\n",
            "Epoch 7/20\n",
            "32/32 [==============================] - 8s 229ms/step - loss: 0.1684 - accuracy: 0.9770 - val_loss: 0.3813 - val_accuracy: 0.9740\n",
            "Epoch 8/20\n",
            "32/32 [==============================] - 8s 232ms/step - loss: 0.2170 - accuracy: 0.9740 - val_loss: 0.3672 - val_accuracy: 0.9780\n",
            "Epoch 9/20\n",
            "32/32 [==============================] - 8s 225ms/step - loss: 0.1907 - accuracy: 0.9710 - val_loss: 0.3994 - val_accuracy: 0.9740\n",
            "Epoch 10/20\n",
            "32/32 [==============================] - 8s 229ms/step - loss: 0.0778 - accuracy: 0.9790 - val_loss: 0.4160 - val_accuracy: 0.9660\n",
            "Epoch 11/20\n",
            "32/32 [==============================] - 8s 228ms/step - loss: 0.1608 - accuracy: 0.9850 - val_loss: 0.4396 - val_accuracy: 0.9700\n",
            "Epoch 12/20\n",
            "32/32 [==============================] - 8s 226ms/step - loss: 0.1687 - accuracy: 0.9720 - val_loss: 0.5393 - val_accuracy: 0.9560\n",
            "Epoch 13/20\n",
            "32/32 [==============================] - 8s 225ms/step - loss: 0.0994 - accuracy: 0.9820 - val_loss: 0.6345 - val_accuracy: 0.9560\n",
            "Epoch 14/20\n",
            "32/32 [==============================] - 8s 223ms/step - loss: 0.1142 - accuracy: 0.9820 - val_loss: 0.3954 - val_accuracy: 0.9700\n",
            "Epoch 15/20\n",
            "32/32 [==============================] - 7s 222ms/step - loss: 0.1418 - accuracy: 0.9800 - val_loss: 0.5373 - val_accuracy: 0.9740\n",
            "Epoch 16/20\n",
            "32/32 [==============================] - 7s 219ms/step - loss: 0.1333 - accuracy: 0.9800 - val_loss: 0.4298 - val_accuracy: 0.9620\n",
            "Epoch 17/20\n",
            "32/32 [==============================] - 7s 219ms/step - loss: 0.1532 - accuracy: 0.9800 - val_loss: 0.4394 - val_accuracy: 0.9720\n",
            "Epoch 18/20\n",
            "32/32 [==============================] - 7s 218ms/step - loss: 0.2072 - accuracy: 0.9780 - val_loss: 0.3992 - val_accuracy: 0.9560\n",
            "Epoch 19/20\n",
            "32/32 [==============================] - 7s 221ms/step - loss: 0.1694 - accuracy: 0.9850 - val_loss: 0.4051 - val_accuracy: 0.9720\n",
            "Epoch 20/20\n",
            "32/32 [==============================] - 7s 221ms/step - loss: 0.1272 - accuracy: 0.9840 - val_loss: 0.4662 - val_accuracy: 0.9640\n"
          ]
        }
      ]
    },
    {
      "cell_type": "code",
      "source": [
        "import matplotlib.pyplot as plt\n",
        "accuracy = history.history['accuracy']\n",
        "val_accuracy = history.history['val_accuracy']\n",
        "loss = history.history['loss']\n",
        "val_loss = history.history['val_loss']\n",
        "epochs = range(1, len(accuracy)+1)\n",
        "\n",
        "plt.plot(epochs, accuracy, 'bo', label = 'training accuracy')\n",
        "plt.plot(epochs, val_accuracy, 'b', label = 'validtaion accuracy')\n",
        "plt.legend()\n",
        "\n",
        "plt.figure()\n",
        "\n",
        "plt.plot(epochs, loss, 'bo', label = 'training loss')\n",
        "plt.plot(epochs, val_loss, 'b', label = 'validtaion loss')\n",
        "plt.legend()"
      ],
      "metadata": {
        "colab": {
          "base_uri": "https://localhost:8080/",
          "height": 532
        },
        "id": "IGTNDd10aC0d",
        "outputId": "f55862b4-6a58-4a87-e389-e1e7a3e5c6e0"
      },
      "execution_count": 40,
      "outputs": [
        {
          "output_type": "execute_result",
          "data": {
            "text/plain": [
              "<matplotlib.legend.Legend at 0x7fd1e39972b0>"
            ]
          },
          "metadata": {},
          "execution_count": 40
        },
        {
          "output_type": "display_data",
          "data": {
            "text/plain": [
              "<Figure size 432x288 with 1 Axes>"
            ],
            "image/png": "[encoded data removed]"
          },
          "metadata": {
            "needs_background": "light"
          }
        },
        {
          "output_type": "display_data",
          "data": {
            "text/plain": [
              "<Figure size 432x288 with 1 Axes>"
            ],
            "image/png": "[encoded data removed]"
          },
          "metadata": {
            "needs_background": "light"
          }
        }
      ]
    },
    {
      "cell_type": "code",
      "source": [
        "test_model = keras.models.load_model('vgg16_weight_freeze.keras')\n",
        "test_model.evaluate(test_dataset)"
      ],
      "metadata": {
        "colab": {
          "base_uri": "https://localhost:8080/"
        },
        "id": "1i_o2x2sazMO",
        "outputId": "1c3d604f-c5ea-43ae-e0e2-7320c641f0ff"
      },
      "execution_count": 41,
      "outputs": [
        {
          "output_type": "stream",
          "name": "stdout",
          "text": [
            "32/32 [==============================] - 5s 121ms/step - loss: 0.4448 - accuracy: 0.9740\n"
          ]
        },
        {
          "output_type": "execute_result",
          "data": {
            "text/plain": [
              "[0.4447932839393616, 0.9739999771118164]"
            ]
          },
          "metadata": {},
          "execution_count": 41
        }
      ]
    },
    {
      "cell_type": "code",
      "source": [
        "base_conv_freeze.summary()"
      ],
      "metadata": {
        "colab": {
          "base_uri": "https://localhost:8080/"
        },
        "id": "WksjMzERbCyu",
        "outputId": "b9d79a28-c25d-45f9-e9c4-d2717c87cb05"
      },
      "execution_count": 42,
      "outputs": [
        {
          "output_type": "stream",
          "name": "stdout",
          "text": [
            "Model: \"vgg16\"\n",
            "_________________________________________________________________\n",
            " Layer (type)                Output Shape              Param #   \n",
            "=================================================================\n",
            " input_10 (InputLayer)       [(None, 180, 180, 3)]     0         \n",
            "                                                                 \n",
            " block1_conv1 (Conv2D)       (None, 180, 180, 64)      1792      \n",
            "                                                                 \n",
            " block1_conv2 (Conv2D)       (None, 180, 180, 64)      36928     \n",
            "                                                                 \n",
            " block1_pool (MaxPooling2D)  (None, 90, 90, 64)        0         \n",
            "                                                                 \n",
            " block2_conv1 (Conv2D)       (None, 90, 90, 128)       73856     \n",
            "                                                                 \n",
            " block2_conv2 (Conv2D)       (None, 90, 90, 128)       147584    \n",
            "                                                                 \n",
            " block2_pool (MaxPooling2D)  (None, 45, 45, 128)       0         \n",
            "                                                                 \n",
            " block3_conv1 (Conv2D)       (None, 45, 45, 256)       295168    \n",
            "                                                                 \n",
            " block3_conv2 (Conv2D)       (None, 45, 45, 256)       590080    \n",
            "                                                                 \n",
            " block3_conv3 (Conv2D)       (None, 45, 45, 256)       590080    \n",
            "                                                                 \n",
            " block3_pool (MaxPooling2D)  (None, 22, 22, 256)       0         \n",
            "                                                                 \n",
            " block4_conv1 (Conv2D)       (None, 22, 22, 512)       1180160   \n",
            "                                                                 \n",
            " block4_conv2 (Conv2D)       (None, 22, 22, 512)       2359808   \n",
            "                                                                 \n",
            " block4_conv3 (Conv2D)       (None, 22, 22, 512)       2359808   \n",
            "                                                                 \n",
            " block4_pool (MaxPooling2D)  (None, 11, 11, 512)       0         \n",
            "                                                                 \n",
            " block5_conv1 (Conv2D)       (None, 11, 11, 512)       2359808   \n",
            "                                                                 \n",
            " block5_conv2 (Conv2D)       (None, 11, 11, 512)       2359808   \n",
            "                                                                 \n",
            " block5_conv3 (Conv2D)       (None, 11, 11, 512)       2359808   \n",
            "                                                                 \n",
            " block5_pool (MaxPooling2D)  (None, 5, 5, 512)         0         \n",
            "                                                                 \n",
            "=================================================================\n",
            "Total params: 14,714,688\n",
            "Trainable params: 0\n",
            "Non-trainable params: 14,714,688\n",
            "_________________________________________________________________\n"
          ]
        }
      ]
    },
    {
      "cell_type": "code",
      "source": [
        "base_conv_freeze.layers"
      ],
      "metadata": {
        "colab": {
          "base_uri": "https://localhost:8080/"
        },
        "id": "2GX2OT1jbS6u",
        "outputId": "1f36bc6b-b302-4970-f265-ee1e1326a9c6"
      },
      "execution_count": 45,
      "outputs": [
        {
          "output_type": "execute_result",
          "data": {
            "text/plain": [
              "[<keras.engine.input_layer.InputLayer at 0x7fd1e3da06d0>,\n",
              " <keras.layers.convolutional.conv2d.Conv2D at 0x7fd1e3da0ac0>,\n",
              " <keras.layers.convolutional.conv2d.Conv2D at 0x7fd1e3d81dc0>,\n",
              " <keras.layers.pooling.max_pooling2d.MaxPooling2D at 0x7fd1e3da08b0>,\n",
              " <keras.layers.convolutional.conv2d.Conv2D at 0x7fd3b0405220>,\n",
              " <keras.layers.convolutional.conv2d.Conv2D at 0x7fd3b04072b0>,\n",
              " <keras.layers.pooling.max_pooling2d.MaxPooling2D at 0x7fd1e3da0a90>,\n",
              " <keras.layers.convolutional.conv2d.Conv2D at 0x7fd1e3d81130>,\n",
              " <keras.layers.convolutional.conv2d.Conv2D at 0x7fd3b0407670>,\n",
              " <keras.layers.convolutional.conv2d.Conv2D at 0x7fd1e3d81460>,\n",
              " <keras.layers.pooling.max_pooling2d.MaxPooling2D at 0x7fd1e3d8ab20>,\n",
              " <keras.layers.convolutional.conv2d.Conv2D at 0x7fd1e3d81340>,\n",
              " <keras.layers.convolutional.conv2d.Conv2D at 0x7fd1e3d014c0>,\n",
              " <keras.layers.convolutional.conv2d.Conv2D at 0x7fd1e3d01940>,\n",
              " <keras.layers.pooling.max_pooling2d.MaxPooling2D at 0x7fd1e3d653d0>,\n",
              " <keras.layers.convolutional.conv2d.Conv2D at 0x7fd1e3d01550>,\n",
              " <keras.layers.convolutional.conv2d.Conv2D at 0x7fd1e3d8a0a0>,\n",
              " <keras.layers.convolutional.conv2d.Conv2D at 0x7fd1e3d8a9a0>,\n",
              " <keras.layers.pooling.max_pooling2d.MaxPooling2D at 0x7fd1e3d8adf0>]"
            ]
          },
          "metadata": {},
          "execution_count": 45
        }
      ]
    },
    {
      "cell_type": "code",
      "source": [
        "# 마지막 4개층 까지 동결(마지막 4개만 활성화)\n",
        "base_conv_freeze.trainable = True\n",
        "for layer in base_conv_freeze.layers[:-4]:\n",
        "  layer.trainable = False"
      ],
      "metadata": {
        "id": "v0e9zdUubgRe"
      },
      "execution_count": 47,
      "outputs": []
    },
    {
      "cell_type": "code",
      "source": [
        "model.compile(loss = 'binary_crossentropy', optimizer=keras.optimizers.Adam(learning_rate = 1e-5), metrics=['accuracy'])\n",
        "callbacks = ([\n",
        "    keras.callbacks.ModelCheckpoint('vgg16_weight_freeze_fineTurning.keras', save_best_only=True )\n",
        "]    \n",
        ")\n",
        "history = model.fit(train_dataset,epochs=30,validation_data=(validation_dataset ), callbacks = callbacks )"
      ],
      "metadata": {
        "colab": {
          "base_uri": "https://localhost:8080/"
        },
        "id": "bwY8khSjb6jl",
        "outputId": "b11576ae-3fad-45f2-f360-a04a2e74391c"
      },
      "execution_count": 48,
      "outputs": [
        {
          "output_type": "stream",
          "name": "stdout",
          "text": [
            "Epoch 1/30\n",
            "32/32 [==============================] - 11s 246ms/step - loss: 0.1176 - accuracy: 0.9830 - val_loss: 0.6940 - val_accuracy: 0.9540\n",
            "Epoch 2/30\n",
            "32/32 [==============================] - 8s 241ms/step - loss: 0.1032 - accuracy: 0.9840 - val_loss: 0.2973 - val_accuracy: 0.9700\n",
            "Epoch 3/30\n",
            "32/32 [==============================] - 8s 241ms/step - loss: 0.0658 - accuracy: 0.9850 - val_loss: 0.2877 - val_accuracy: 0.9700\n",
            "Epoch 4/30\n",
            "32/32 [==============================] - 8s 241ms/step - loss: 0.0114 - accuracy: 0.9940 - val_loss: 0.2702 - val_accuracy: 0.9740\n",
            "Epoch 5/30\n",
            "32/32 [==============================] - 8s 229ms/step - loss: 0.0295 - accuracy: 0.9910 - val_loss: 0.2834 - val_accuracy: 0.9780\n",
            "Epoch 6/30\n",
            "32/32 [==============================] - 8s 243ms/step - loss: 0.0364 - accuracy: 0.9930 - val_loss: 0.2516 - val_accuracy: 0.9740\n",
            "Epoch 7/30\n",
            "32/32 [==============================] - 8s 233ms/step - loss: 0.0285 - accuracy: 0.9890 - val_loss: 0.2534 - val_accuracy: 0.9720\n",
            "Epoch 8/30\n",
            "32/32 [==============================] - 8s 249ms/step - loss: 0.0261 - accuracy: 0.9930 - val_loss: 0.2443 - val_accuracy: 0.9760\n",
            "Epoch 9/30\n",
            "32/32 [==============================] - 8s 249ms/step - loss: 0.0255 - accuracy: 0.9940 - val_loss: 0.2072 - val_accuracy: 0.9780\n",
            "Epoch 10/30\n",
            "32/32 [==============================] - 8s 239ms/step - loss: 0.0135 - accuracy: 0.9970 - val_loss: 0.5111 - val_accuracy: 0.9580\n",
            "Epoch 11/30\n",
            "32/32 [==============================] - 9s 259ms/step - loss: 0.0424 - accuracy: 0.9890 - val_loss: 0.1735 - val_accuracy: 0.9800\n",
            "Epoch 12/30\n",
            "32/32 [==============================] - 8s 247ms/step - loss: 0.0321 - accuracy: 0.9940 - val_loss: 0.1788 - val_accuracy: 0.9740\n",
            "Epoch 13/30\n",
            "32/32 [==============================] - 8s 248ms/step - loss: 0.0065 - accuracy: 0.9990 - val_loss: 0.1919 - val_accuracy: 0.9720\n",
            "Epoch 14/30\n",
            "32/32 [==============================] - 9s 254ms/step - loss: 0.0248 - accuracy: 0.9960 - val_loss: 0.1551 - val_accuracy: 0.9760\n",
            "Epoch 15/30\n",
            "32/32 [==============================] - 8s 240ms/step - loss: 0.0032 - accuracy: 0.9990 - val_loss: 0.1632 - val_accuracy: 0.9760\n",
            "Epoch 16/30\n",
            "32/32 [==============================] - 8s 241ms/step - loss: 0.0196 - accuracy: 0.9940 - val_loss: 0.1648 - val_accuracy: 0.9740\n",
            "Epoch 17/30\n",
            "32/32 [==============================] - 8s 241ms/step - loss: 0.0238 - accuracy: 0.9950 - val_loss: 0.2373 - val_accuracy: 0.9680\n",
            "Epoch 18/30\n",
            "32/32 [==============================] - 8s 242ms/step - loss: 0.0234 - accuracy: 0.9940 - val_loss: 0.1675 - val_accuracy: 0.9820\n",
            "Epoch 19/30\n",
            "32/32 [==============================] - 8s 242ms/step - loss: 0.0249 - accuracy: 0.9960 - val_loss: 0.1957 - val_accuracy: 0.9720\n",
            "Epoch 20/30\n",
            "32/32 [==============================] - 8s 239ms/step - loss: 0.0384 - accuracy: 0.9950 - val_loss: 0.1706 - val_accuracy: 0.9700\n",
            "Epoch 21/30\n",
            "32/32 [==============================] - 8s 241ms/step - loss: 0.0127 - accuracy: 0.9970 - val_loss: 0.1785 - val_accuracy: 0.9720\n",
            "Epoch 22/30\n",
            "32/32 [==============================] - 8s 239ms/step - loss: 0.0100 - accuracy: 0.9970 - val_loss: 0.1579 - val_accuracy: 0.9740\n",
            "Epoch 23/30\n",
            "32/32 [==============================] - 11s 339ms/step - loss: 0.0129 - accuracy: 0.9960 - val_loss: 0.1464 - val_accuracy: 0.9780\n",
            "Epoch 24/30\n",
            "32/32 [==============================] - 9s 254ms/step - loss: 0.0128 - accuracy: 0.9960 - val_loss: 0.1423 - val_accuracy: 0.9800\n",
            "Epoch 25/30\n",
            "32/32 [==============================] - 8s 249ms/step - loss: 0.0076 - accuracy: 0.9950 - val_loss: 0.1667 - val_accuracy: 0.9780\n",
            "Epoch 26/30\n",
            "32/32 [==============================] - 8s 251ms/step - loss: 0.0116 - accuracy: 0.9980 - val_loss: 0.1596 - val_accuracy: 0.9800\n",
            "Epoch 27/30\n",
            "32/32 [==============================] - 9s 257ms/step - loss: 0.0088 - accuracy: 0.9940 - val_loss: 0.1219 - val_accuracy: 0.9820\n",
            "Epoch 28/30\n",
            "32/32 [==============================] - 8s 240ms/step - loss: 0.0157 - accuracy: 0.9960 - val_loss: 0.2588 - val_accuracy: 0.9660\n",
            "Epoch 29/30\n",
            "32/32 [==============================] - 8s 251ms/step - loss: 0.0102 - accuracy: 0.9970 - val_loss: 0.1209 - val_accuracy: 0.9820\n",
            "Epoch 30/30\n",
            "32/32 [==============================] - 8s 238ms/step - loss: 0.0037 - accuracy: 0.9980 - val_loss: 0.1465 - val_accuracy: 0.9800\n"
          ]
        }
      ]
    },
    {
      "cell_type": "code",
      "source": [
        "import matplotlib.pyplot as plt\n",
        "accuracy = history.history['accuracy']\n",
        "val_accuracy = history.history['val_accuracy']\n",
        "loss = history.history['loss']\n",
        "val_loss = history.history['val_loss']\n",
        "epochs = range(1, len(accuracy)+1)\n",
        "\n",
        "plt.plot(epochs, accuracy, 'bo', label = 'training accuracy')\n",
        "plt.plot(epochs, val_accuracy, 'b', label = 'validtaion accuracy')\n",
        "plt.legend()\n",
        "\n",
        "plt.figure()\n",
        "\n",
        "plt.plot(epochs, loss, 'bo', label = 'training loss')\n",
        "plt.plot(epochs, val_loss, 'b', label = 'validtaion loss')\n",
        "plt.legend()"
      ],
      "metadata": {
        "colab": {
          "base_uri": "https://localhost:8080/",
          "height": 532
        },
        "id": "kegb9NFedvrU",
        "outputId": "cb3d876f-bd67-465e-fe15-c32719677480"
      },
      "execution_count": 49,
      "outputs": [
        {
          "output_type": "execute_result",
          "data": {
            "text/plain": [
              "<matplotlib.legend.Legend at 0x7fd3c7657b80>"
            ]
          },
          "metadata": {},
          "execution_count": 49
        },
        {
          "output_type": "display_data",
          "data": {
            "text/plain": [
              "<Figure size 432x288 with 1 Axes>"
            ],
            "image/png": "[encoded data removed]"
          },
          "metadata": {
            "needs_background": "light"
          }
        },
        {
          "output_type": "display_data",
          "data": {
            "text/plain": [
              "<Figure size 432x288 with 1 Axes>"
            ],
            "image/png": "[encoded data removed]"
          },
          "metadata": {
            "needs_background": "light"
          }
        }
      ]
    },
    {
      "cell_type": "code",
      "source": [
        "\n",
        "test_model = keras.models.load_model('vgg16_weight_freeze_fineTurning.keras')\n",
        "test_model.evaluate(test_dataset)"
      ],
      "metadata": {
        "colab": {
          "base_uri": "https://localhost:8080/"
        },
        "id": "KKzMx18xcgDP",
        "outputId": "ca925cbf-85fc-484b-fe7d-8d6b8073f013"
      },
      "execution_count": 50,
      "outputs": [
        {
          "output_type": "stream",
          "name": "stdout",
          "text": [
            "32/32 [==============================] - 4s 115ms/step - loss: 0.2389 - accuracy: 0.9740\n"
          ]
        },
        {
          "output_type": "execute_result",
          "data": {
            "text/plain": [
              "[0.23892545700073242, 0.9739999771118164]"
            ]
          },
          "metadata": {},
          "execution_count": 50
        }
      ]
    },
    {
      "cell_type": "code",
      "source": [],
      "metadata": {
        "id": "QsnHMb3vd6f-"
      },
      "execution_count": null,
      "outputs": []
    }
  ]
}
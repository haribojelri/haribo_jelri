{
 "cells": [
  {
   "cell_type": "code",
   "execution_count": 1,
   "id": "a57f9ce4-4bee-43df-a017-4d5ecd2e6669",
   "metadata": {},
   "outputs": [],
   "source": [
    "# 함수형 api를 사용해서 mnist에 잡음추가해서 분류"
   ]
  },
  {
   "cell_type": "code",
   "execution_count": 174,
   "id": "389ae3de-7120-438f-8e00-f3f1ffaf0c43",
   "metadata": {},
   "outputs": [],
   "source": [
    "from tensorflow.keras.datasets import mnist\n",
    "import numpy as np\n",
    "(x_train,y_train),(x_test,y_test) =  mnist.load_data()\n",
    "x_train= x_train.reshape(-1, 28*28)\n",
    "x_train = x_train / 255.\n",
    "\n",
    "x_test= x_test.reshape(-1, 28*28)\n",
    "x_test = x_test / 255.\n",
    "\n",
    "#백색잡음 픽셀\n",
    "x_train_with_noise = np.concatenate(\n",
    "    [x_train,np.random.random((len(x_train),28*28))], axis = 1\n",
    ")\n",
    "\n",
    "# 0 픽셀\n",
    "x_train_with_zero = np.concatenate(\n",
    "    [x_train,np.zeros((len(x_train),28*28))], axis = 1\n",
    ")\n"
   ]
  },
  {
   "cell_type": "code",
   "execution_count": 12,
   "id": "377e724d-8385-4eaf-8e14-6aaac64ca953",
   "metadata": {},
   "outputs": [
    {
     "data": {
      "text/plain": [
       "((60000, 784), (60000, 1568), (60000, 1568))"
      ]
     },
     "execution_count": 12,
     "metadata": {},
     "output_type": "execute_result"
    }
   ],
   "source": [
    "x_train.shape, x_train_with_noise.shape,x_train_with_zero.shape"
   ]
  },
  {
   "cell_type": "code",
   "execution_count": 14,
   "id": "22fc8ed1-7f6e-4682-9a50-c15ac3854fbf",
   "metadata": {},
   "outputs": [],
   "source": [
    "# 모델을 구성\n",
    "from tensorflow import keras\n",
    "from tensorflow.keras import layers"
   ]
  },
  {
   "cell_type": "code",
   "execution_count": 15,
   "id": "7081622f-fe61-4108-936f-bdcf9d36a941",
   "metadata": {},
   "outputs": [],
   "source": [
    "def get_model():\n",
    "    model = keras.Sequential(\n",
    "        [\n",
    "            layers.Dense(512,activation='relu'),\n",
    "            layers.Dense(10,activation = 'softmax')\n",
    "        ]\n",
    "    )\n",
    "    model.compile(optimizer = 'rmsprop', loss = 'sparse_categorical_crossentropy',metrics=['accuracy'])\n",
    "    return model"
   ]
  },
  {
   "cell_type": "code",
   "execution_count": 17,
   "id": "3f7051dc-bcaf-432f-8189-5997887d713a",
   "metadata": {},
   "outputs": [
    {
     "name": "stdout",
     "output_type": "stream",
     "text": [
      "Epoch 1/10\n",
      "375/375 [==============================] - 19s 13ms/step - loss: 0.6070 - accuracy: 0.8161 - val_loss: 0.4009 - val_accuracy: 0.8609\n",
      "Epoch 2/10\n",
      "375/375 [==============================] - 3s 9ms/step - loss: 0.2482 - accuracy: 0.9237 - val_loss: 0.1853 - val_accuracy: 0.9443\n",
      "Epoch 3/10\n",
      "375/375 [==============================] - 3s 9ms/step - loss: 0.1617 - accuracy: 0.9503 - val_loss: 0.1477 - val_accuracy: 0.9548\n",
      "Epoch 4/10\n",
      "375/375 [==============================] - 3s 9ms/step - loss: 0.1159 - accuracy: 0.9642 - val_loss: 0.1399 - val_accuracy: 0.9590\n",
      "Epoch 5/10\n",
      "375/375 [==============================] - 3s 9ms/step - loss: 0.0837 - accuracy: 0.9739 - val_loss: 0.1517 - val_accuracy: 0.9548\n",
      "Epoch 6/10\n",
      "375/375 [==============================] - 3s 9ms/step - loss: 0.0631 - accuracy: 0.9796 - val_loss: 0.1232 - val_accuracy: 0.9666\n",
      "Epoch 7/10\n",
      "375/375 [==============================] - 3s 9ms/step - loss: 0.0468 - accuracy: 0.9849 - val_loss: 0.1243 - val_accuracy: 0.9643\n",
      "Epoch 8/10\n",
      "375/375 [==============================] - 3s 9ms/step - loss: 0.0363 - accuracy: 0.9887 - val_loss: 0.1390 - val_accuracy: 0.9632\n",
      "Epoch 9/10\n",
      "375/375 [==============================] - 3s 9ms/step - loss: 0.0272 - accuracy: 0.9908 - val_loss: 0.1293 - val_accuracy: 0.9678\n",
      "Epoch 10/10\n",
      "375/375 [==============================] - 3s 9ms/step - loss: 0.0214 - accuracy: 0.9933 - val_loss: 0.1281 - val_accuracy: 0.9719\n",
      "Epoch 1/10\n",
      "375/375 [==============================] - 4s 10ms/step - loss: 0.2889 - accuracy: 0.9164 - val_loss: 0.1462 - val_accuracy: 0.9563\n",
      "Epoch 2/10\n",
      "375/375 [==============================] - 3s 9ms/step - loss: 0.1183 - accuracy: 0.9651 - val_loss: 0.1040 - val_accuracy: 0.9703\n",
      "Epoch 3/10\n",
      "375/375 [==============================] - 3s 9ms/step - loss: 0.0767 - accuracy: 0.9767 - val_loss: 0.0914 - val_accuracy: 0.9720\n",
      "Epoch 4/10\n",
      "375/375 [==============================] - 3s 9ms/step - loss: 0.0555 - accuracy: 0.9834 - val_loss: 0.0843 - val_accuracy: 0.9751\n",
      "Epoch 5/10\n",
      "375/375 [==============================] - 3s 9ms/step - loss: 0.0416 - accuracy: 0.9873 - val_loss: 0.0769 - val_accuracy: 0.9783\n",
      "Epoch 6/10\n",
      "375/375 [==============================] - 3s 9ms/step - loss: 0.0318 - accuracy: 0.9910 - val_loss: 0.0773 - val_accuracy: 0.9781\n",
      "Epoch 7/10\n",
      "375/375 [==============================] - 3s 9ms/step - loss: 0.0236 - accuracy: 0.9930 - val_loss: 0.0767 - val_accuracy: 0.9791\n",
      "Epoch 8/10\n",
      "375/375 [==============================] - 3s 9ms/step - loss: 0.0179 - accuracy: 0.9947 - val_loss: 0.0837 - val_accuracy: 0.9782\n",
      "Epoch 9/10\n",
      "375/375 [==============================] - 3s 9ms/step - loss: 0.0134 - accuracy: 0.9961 - val_loss: 0.0869 - val_accuracy: 0.9800\n",
      "Epoch 10/10\n",
      "375/375 [==============================] - 3s 9ms/step - loss: 0.0102 - accuracy: 0.9972 - val_loss: 0.0848 - val_accuracy: 0.9800\n"
     ]
    }
   ],
   "source": [
    "model = get_model()\n",
    "history_noise = model.fit(\n",
    "    x_train_with_noise,y_train,epochs=10,batch_size = 128,validation_split=0.2\n",
    ")\n",
    "model = get_model()\n",
    "history_zeros = model.fit(\n",
    "    x_train_with_zero,y_train,epochs=10,batch_size = 128,validation_split=0.2\n",
    ")"
   ]
  },
  {
   "cell_type": "code",
   "execution_count": 18,
   "id": "5289841f-b54a-4617-94ae-54a0239dd930",
   "metadata": {},
   "outputs": [
    {
     "data": {
      "image/png": "[encoded data removed]",
      "text/plain": [
       "<Figure size 640x480 with 1 Axes>"
      ]
     },
     "metadata": {},
     "output_type": "display_data"
    }
   ],
   "source": [
    "import matplotlib.pyplot as plt\n",
    "val_acc_nosie = history_noise.history['val_accuracy']\n",
    "val_acc_zero = history_zeros.history['val_accuracy']\n",
    "epochs = range(1,11)\n",
    "plt.plot(epochs,val_acc_nosie, 'b-',label='noise validation')\n",
    "plt.plot(epochs,val_acc_zero, 'b--',label='zero validation')\n",
    "plt.legend()\n",
    "plt.show()"
   ]
  },
  {
   "cell_type": "code",
   "execution_count": 20,
   "id": "773ae02f-7bb9-4767-9c8d-69bd57797a9b",
   "metadata": {},
   "outputs": [
    {
     "data": {
      "text/plain": [
       "(array([[0.67683529, 0.17409722, 0.83618944, ..., 0.26004253, 0.37414919,\n",
       "         0.69139421],\n",
       "        [0.7587431 , 0.00546683, 0.73652165, ..., 0.23129201, 0.55697204,\n",
       "         0.41758191],\n",
       "        [0.51186153, 0.70084   , 0.46828255, ..., 0.66746298, 0.50323052,\n",
       "         0.49798855],\n",
       "        ...,\n",
       "        [0.93865429, 0.20067669, 0.69438351, ..., 0.95873058, 0.00291432,\n",
       "         0.11372188],\n",
       "        [0.38773572, 0.79491581, 0.57919592, ..., 0.4299661 , 0.12036812,\n",
       "         0.0803848 ],\n",
       "        [0.81580642, 0.03064016, 0.25623517, ..., 0.33828885, 0.10147642,\n",
       "         0.27980892]]),\n",
       " array([[0., 0., 0., ..., 0., 0., 0.],\n",
       "        [0., 0., 0., ..., 0., 0., 0.],\n",
       "        [0., 0., 0., ..., 0., 0., 0.],\n",
       "        ...,\n",
       "        [0., 0., 0., ..., 0., 0., 0.],\n",
       "        [0., 0., 0., ..., 0., 0., 0.],\n",
       "        [0., 0., 0., ..., 0., 0., 0.]]))"
      ]
     },
     "execution_count": 20,
     "metadata": {},
     "output_type": "execute_result"
    }
   ],
   "source": [
    "np.random.random((len(x_train),28*28)),x_train"
   ]
  },
  {
   "cell_type": "code",
   "execution_count": 21,
   "id": "bf9136b7-f872-4ca8-9794-39bc26d6fdc8",
   "metadata": {},
   "outputs": [],
   "source": [
    "# 데이터의 일반화\n",
    "# 랜덤하게 섞은 데이터로 mnist를 훈련\n",
    "# 성능 향상 : 적절한 학습률, 모델의 용량 늘리기(층을 깊게 쌓기)\n",
    "# 규제 적용\n"
   ]
  },
  {
   "cell_type": "code",
   "execution_count": 24,
   "id": "286534ba-8d10-4153-b580-5f6431142406",
   "metadata": {},
   "outputs": [
    {
     "name": "stdout",
     "output_type": "stream",
     "text": [
      "Epoch 1/10\n",
      "375/375 [==============================] - 4s 7ms/step - loss: 1297.5889 - acc: 0.4427 - val_loss: 1.9760 - val_acc: 0.3423\n",
      "Epoch 2/10\n",
      "375/375 [==============================] - 2s 6ms/step - loss: 5.6449 - acc: 0.2850 - val_loss: 2.1960 - val_acc: 0.2810\n",
      "Epoch 3/10\n",
      "375/375 [==============================] - 2s 6ms/step - loss: 2.6602 - acc: 0.2529 - val_loss: 2.1022 - val_acc: 0.2428\n",
      "Epoch 4/10\n",
      "375/375 [==============================] - 2s 7ms/step - loss: 2.5281 - acc: 0.2571 - val_loss: 2.3341 - val_acc: 0.3076\n",
      "Epoch 5/10\n",
      "375/375 [==============================] - 2s 7ms/step - loss: 2.7297 - acc: 0.2544 - val_loss: 1.9944 - val_acc: 0.2503\n",
      "Epoch 6/10\n",
      "375/375 [==============================] - 2s 6ms/step - loss: 2.4823 - acc: 0.2768 - val_loss: 2.0728 - val_acc: 0.2636\n",
      "Epoch 7/10\n",
      "375/375 [==============================] - 3s 7ms/step - loss: 2.4799 - acc: 0.2568 - val_loss: 3.0721 - val_acc: 0.2572\n",
      "Epoch 8/10\n",
      "375/375 [==============================] - 3s 7ms/step - loss: 2.5006 - acc: 0.2640 - val_loss: 2.2194 - val_acc: 0.2490\n",
      "Epoch 9/10\n",
      "375/375 [==============================] - 2s 6ms/step - loss: 2.2889 - acc: 0.2766 - val_loss: 2.2015 - val_acc: 0.3153\n",
      "Epoch 10/10\n",
      "375/375 [==============================] - 2s 6ms/step - loss: 2.6380 - acc: 0.2875 - val_loss: 2.1235 - val_acc: 0.2879\n"
     ]
    },
    {
     "data": {
      "text/plain": [
       "<tensorflow.python.keras.callbacks.History at 0x1cdb0601e80>"
      ]
     },
     "execution_count": 24,
     "metadata": {},
     "output_type": "execute_result"
    }
   ],
   "source": [
    "#1. 랜덤하게 섞인 데이터\n",
    "#2. 학습률을 적절하게 설정하기\n",
    "(x_train,y_train),_ =  mnist.load_data()\n",
    "x_train = x_train.reshape(-1,28*28)\n",
    "x_train = x_train.astype(\"float32\") / 255.\n",
    "model = keras.Sequential(\n",
    "    [\n",
    "        layers.Dense(512,activation='relu')\n",
    "        ,layers.Dense(10,activation='softmax')\n",
    "    ]\n",
    ")\n",
    "model.compile(optimizer=keras.optimizers.RMSprop(1.),\n",
    "              loss = keras.losses.sparse_categorical_crossentropy,\n",
    "              metrics=['acc']\n",
    "             )\n",
    "model.fit(x_train, y_train,epochs=10,batch_size=128,validation_split=0.2)"
   ]
  },
  {
   "cell_type": "code",
   "execution_count": 31,
   "id": "8b808ef7-628a-4db6-8d71-47cecb903beb",
   "metadata": {},
   "outputs": [],
   "source": [
    "# 적절한 학습률\n",
    "(x_train,y_train),_ =  mnist.load_data()\n",
    "x_train = x_train.reshape(-1,28*28)\n",
    "x_train = x_train.astype(\"float32\") / 255."
   ]
  },
  {
   "cell_type": "code",
   "execution_count": 32,
   "id": "30698e0d-866c-4f51-b227-ce9c396363fc",
   "metadata": {},
   "outputs": [
    {
     "name": "stdout",
     "output_type": "stream",
     "text": [
      "Epoch 1/10\n",
      "375/375 [==============================] - 4s 7ms/step - loss: 0.2865 - acc: 0.9168 - val_loss: 0.1489 - val_acc: 0.9567\n",
      "Epoch 2/10\n",
      "375/375 [==============================] - 2s 6ms/step - loss: 0.1186 - acc: 0.9643 - val_loss: 0.1113 - val_acc: 0.9687\n",
      "Epoch 3/10\n",
      "375/375 [==============================] - 2s 6ms/step - loss: 0.0780 - acc: 0.9764 - val_loss: 0.0940 - val_acc: 0.9708\n",
      "Epoch 4/10\n",
      "375/375 [==============================] - 2s 6ms/step - loss: 0.0560 - acc: 0.9831 - val_loss: 0.0901 - val_acc: 0.9728\n",
      "Epoch 5/10\n",
      "375/375 [==============================] - 2s 6ms/step - loss: 0.0417 - acc: 0.9876 - val_loss: 0.0831 - val_acc: 0.9769\n",
      "Epoch 6/10\n",
      "375/375 [==============================] - 2s 6ms/step - loss: 0.0311 - acc: 0.9909 - val_loss: 0.0900 - val_acc: 0.9761\n",
      "Epoch 7/10\n",
      "375/375 [==============================] - 2s 7ms/step - loss: 0.0244 - acc: 0.9929 - val_loss: 0.0817 - val_acc: 0.9787\n",
      "Epoch 8/10\n",
      "375/375 [==============================] - 2s 7ms/step - loss: 0.0180 - acc: 0.9946 - val_loss: 0.0807 - val_acc: 0.9798\n",
      "Epoch 9/10\n",
      "375/375 [==============================] - 2s 6ms/step - loss: 0.0137 - acc: 0.9961 - val_loss: 0.0859 - val_acc: 0.9782\n",
      "Epoch 10/10\n",
      "375/375 [==============================] - 2s 6ms/step - loss: 0.0109 - acc: 0.9967 - val_loss: 0.0873 - val_acc: 0.9788\n"
     ]
    },
    {
     "data": {
      "text/plain": [
       "<tensorflow.python.keras.callbacks.History at 0x1cd57fac940>"
      ]
     },
     "execution_count": 32,
     "metadata": {},
     "output_type": "execute_result"
    }
   ],
   "source": [
    "model = keras.Sequential(\n",
    "    [\n",
    "        layers.Dense(512,activation='relu')\n",
    "        ,layers.Dense(10,activation='softmax')\n",
    "    ]\n",
    ")\n",
    "model.compile(optimizer=keras.optimizers.RMSprop(),\n",
    "              loss = keras.losses.sparse_categorical_crossentropy,\n",
    "              metrics=['acc']\n",
    "             )\n",
    "model.fit(x_train, y_train,epochs=10,batch_size=128,validation_split=0.2)"
   ]
  },
  {
   "cell_type": "code",
   "execution_count": 33,
   "id": "81551c76-3541-4864-b482-98ae8699f061",
   "metadata": {},
   "outputs": [
    {
     "name": "stdout",
     "output_type": "stream",
     "text": [
      "Epoch 1/10\n",
      "375/375 [==============================] - 3s 8ms/step - loss: 0.2696 - acc: 0.9183 - val_loss: 0.1239 - val_acc: 0.9614\n",
      "Epoch 2/10\n",
      "375/375 [==============================] - 3s 7ms/step - loss: 0.1014 - acc: 0.9690 - val_loss: 0.0861 - val_acc: 0.9728\n",
      "Epoch 3/10\n",
      "375/375 [==============================] - 3s 7ms/step - loss: 0.0637 - acc: 0.9806 - val_loss: 0.0825 - val_acc: 0.9762\n",
      "Epoch 4/10\n",
      "375/375 [==============================] - 3s 7ms/step - loss: 0.0455 - acc: 0.9862 - val_loss: 0.0829 - val_acc: 0.9762\n",
      "Epoch 5/10\n",
      "375/375 [==============================] - 3s 8ms/step - loss: 0.0325 - acc: 0.9900 - val_loss: 0.0828 - val_acc: 0.9782\n",
      "Epoch 6/10\n",
      "375/375 [==============================] - 3s 7ms/step - loss: 0.0250 - acc: 0.9925 - val_loss: 0.0889 - val_acc: 0.9781\n",
      "Epoch 7/10\n",
      "375/375 [==============================] - 3s 8ms/step - loss: 0.0184 - acc: 0.9941 - val_loss: 0.0985 - val_acc: 0.9778\n",
      "Epoch 8/10\n",
      "375/375 [==============================] - 3s 8ms/step - loss: 0.0149 - acc: 0.9949 - val_loss: 0.1106 - val_acc: 0.9768\n",
      "Epoch 9/10\n",
      "375/375 [==============================] - 3s 7ms/step - loss: 0.0117 - acc: 0.9960 - val_loss: 0.1014 - val_acc: 0.9793\n",
      "Epoch 10/10\n",
      "375/375 [==============================] - 3s 8ms/step - loss: 0.0084 - acc: 0.9972 - val_loss: 0.1177 - val_acc: 0.9775\n"
     ]
    },
    {
     "data": {
      "text/plain": [
       "<tensorflow.python.keras.callbacks.History at 0x1cd82bc8dc0>"
      ]
     },
     "execution_count": 33,
     "metadata": {},
     "output_type": "execute_result"
    }
   ],
   "source": [
    "# 용량 늘리기\n",
    "(x_train,y_train),_ =  mnist.load_data()\n",
    "x_train = x_train.reshape(-1,28*28)\n",
    "x_train = x_train.astype(\"float32\") / 255.\n",
    "model = keras.Sequential(\n",
    "    [\n",
    "        layers.Dense(512,activation='relu')\n",
    "        ,layers.Dense(96,activation='relu')\n",
    "        ,layers.Dense(10,activation='softmax')\n",
    "    ]\n",
    ")\n",
    "model.compile(optimizer=keras.optimizers.RMSprop(),\n",
    "              loss = keras.losses.sparse_categorical_crossentropy,\n",
    "              metrics=['acc']\n",
    "             )\n",
    "model.fit(x_train, y_train,epochs=10,batch_size=128,validation_split=0.2)"
   ]
  },
  {
   "cell_type": "code",
   "execution_count": 35,
   "id": "5eb50de2-eb20-4469-a4c2-abe368ab3ad2",
   "metadata": {},
   "outputs": [],
   "source": [
    "from tensorflow.keras.datasets import imdb\n",
    "(x_train,y_train),_  = imdb.load_data(num_words=10000)"
   ]
  },
  {
   "cell_type": "code",
   "execution_count": 45,
   "id": "e2f27424-b44f-4c00-bf6b-b923e0f732b8",
   "metadata": {},
   "outputs": [
    {
     "name": "stdout",
     "output_type": "stream",
     "text": [
      "[1, 14, 22, 16, 43, 530, 973, 1622, 1385, 65, 458, 4468, 66, 3941, 4, 173, 36, 256, 5, 25, 100, 43, 838, 112, 50, 670, 2, 9, 35, 480, 284, 5, 150, 4, 172, 112, 167, 2, 336, 385, 39, 4, 172, 4536, 1111, 17, 546, 38, 13, 447, 4, 192, 50, 16, 6, 147, 2025, 19, 14, 22, 4, 1920, 4613, 469, 4, 22, 71, 87, 12, 16, 43, 530, 38, 76, 15, 13, 1247, 4, 22, 17, 515, 17, 12, 16, 626, 18, 2, 5, 62, 386, 12, 8, 316, 8, 106, 5, 4, 2223, 5244, 16, 480, 66, 3785, 33, 4, 130, 12, 16, 38, 619, 5, 25, 124, 51, 36, 135, 48, 25, 1415, 33, 6, 22, 12, 215, 28, 77, 52, 5, 14, 407, 16, 82, 2, 8, 4, 107, 117, 5952, 15, 256, 4, 2, 7, 3766, 5, 723, 36, 71, 43, 530, 476, 26, 400, 317, 46, 7, 4, 2, 1029, 13, 104, 88, 4, 381, 15, 297, 98, 32, 2071, 56, 26, 141, 6, 194, 7486, 18, 4, 226, 22, 21, 134, 476, 26, 480, 5, 144, 30, 5535, 18, 51, 36, 28, 224, 92, 25, 104, 4, 226, 65, 16, 38, 1334, 88, 12, 16, 283, 5, 16, 4472, 113, 103, 32, 15, 16, 5345, 19, 178, 32]\n"
     ]
    }
   ],
   "source": [
    "for i in x_train:\n",
    "    print(i)\n",
    "    break"
   ]
  },
  {
   "cell_type": "code",
   "execution_count": 47,
   "id": "67a74207-8a10-4347-8504-9ac485822432",
   "metadata": {},
   "outputs": [
    {
     "data": {
      "text/plain": [
       "(25000, 10000)"
      ]
     },
     "execution_count": 47,
     "metadata": {},
     "output_type": "execute_result"
    }
   ],
   "source": [
    "from tensorflow.keras.datasets import imdb\n",
    "(train_data, train_labels), _ = imdb.load_data(num_words=10000)\n",
    "\n",
    "def vectorize_sequences(sequences, dimension=10000):\n",
    "    results = np.zeros((len(sequences), dimension))\n",
    "    for i, sequence in enumerate(sequences):\n",
    "        results[i, sequence] = 1.\n",
    "    return results\n",
    "train_data = vectorize_sequences(train_data)                  "
   ]
  },
  {
   "cell_type": "code",
   "execution_count": 49,
   "id": "b3eefd59-9719-4fb5-b42e-a75c078fea8d",
   "metadata": {},
   "outputs": [
    {
     "name": "stdout",
     "output_type": "stream",
     "text": [
      "Epoch 1/10\n",
      "157/157 [==============================] - 9s 17ms/step - loss: 0.3573 - acc: 0.8536 - val_loss: 0.2871 - val_acc: 0.8862\n",
      "Epoch 2/10\n",
      "157/157 [==============================] - 2s 12ms/step - loss: 0.2042 - acc: 0.9234 - val_loss: 0.2904 - val_acc: 0.8856\n",
      "Epoch 3/10\n",
      "157/157 [==============================] - 2s 11ms/step - loss: 0.1595 - acc: 0.9403 - val_loss: 0.3783 - val_acc: 0.8732\n",
      "Epoch 4/10\n",
      "157/157 [==============================] - 2s 12ms/step - loss: 0.1306 - acc: 0.9510 - val_loss: 0.3647 - val_acc: 0.8764\n",
      "Epoch 5/10\n",
      "157/157 [==============================] - 2s 13ms/step - loss: 0.1079 - acc: 0.9618 - val_loss: 0.4137 - val_acc: 0.8780\n",
      "Epoch 6/10\n",
      "157/157 [==============================] - 2s 13ms/step - loss: 0.0894 - acc: 0.9674 - val_loss: 0.4130 - val_acc: 0.8790\n",
      "Epoch 7/10\n",
      "157/157 [==============================] - 2s 12ms/step - loss: 0.0738 - acc: 0.9744 - val_loss: 0.5008 - val_acc: 0.8748\n",
      "Epoch 8/10\n",
      "157/157 [==============================] - 2s 12ms/step - loss: 0.0580 - acc: 0.9797 - val_loss: 0.5156 - val_acc: 0.8686\n",
      "Epoch 9/10\n",
      "157/157 [==============================] - 2s 12ms/step - loss: 0.0459 - acc: 0.9837 - val_loss: 0.5787 - val_acc: 0.8706\n",
      "Epoch 10/10\n",
      "157/157 [==============================] - 2s 12ms/step - loss: 0.0356 - acc: 0.9894 - val_loss: 0.6606 - val_acc: 0.8678\n"
     ]
    },
    {
     "data": {
      "text/plain": [
       "<tensorflow.python.keras.callbacks.History at 0x1cdb95acf40>"
      ]
     },
     "execution_count": 49,
     "metadata": {},
     "output_type": "execute_result"
    }
   ],
   "source": [
    "model = keras.Sequential(\n",
    "    [\n",
    "        layers.Dense(16,activation='relu')\n",
    "        ,layers.Dense(16,activation='relu')\n",
    "        ,layers.Dense(1,activation='sigmoid')\n",
    "    ]\n",
    ")\n",
    "model.compile(optimizer=keras.optimizers.RMSprop(),\n",
    "              loss = keras.losses.binary_crossentropy,\n",
    "              metrics=['acc']\n",
    "             )\n",
    "model.fit(train_data, y_train,epochs=10,batch_size=128,validation_split=0.2)"
   ]
  },
  {
   "cell_type": "code",
   "execution_count": 50,
   "id": "522821ce-c4b4-42b2-8911-9415c940ed90",
   "metadata": {},
   "outputs": [
    {
     "name": "stdout",
     "output_type": "stream",
     "text": [
      "Epoch 1/10\n",
      "157/157 [==============================] - 47s 19ms/step - loss: 0.5626 - acc: 0.7467 - val_loss: 0.4954 - val_acc: 0.8014\n",
      "Epoch 2/10\n",
      "157/157 [==============================] - 2s 12ms/step - loss: 0.4206 - acc: 0.8906 - val_loss: 0.4150 - val_acc: 0.8794\n",
      "Epoch 3/10\n",
      "157/157 [==============================] - 2s 11ms/step - loss: 0.3406 - acc: 0.9217 - val_loss: 0.3811 - val_acc: 0.8820\n",
      "Epoch 4/10\n",
      "157/157 [==============================] - 2s 11ms/step - loss: 0.2763 - acc: 0.9359 - val_loss: 0.3706 - val_acc: 0.8782\n",
      "Epoch 5/10\n",
      "157/157 [==============================] - 2s 12ms/step - loss: 0.2242 - acc: 0.9444 - val_loss: 0.4263 - val_acc: 0.8706\n",
      "Epoch 6/10\n",
      "157/157 [==============================] - 2s 11ms/step - loss: 0.1816 - acc: 0.9541 - val_loss: 0.4179 - val_acc: 0.8738\n",
      "Epoch 7/10\n",
      "157/157 [==============================] - 2s 11ms/step - loss: 0.1477 - acc: 0.9605 - val_loss: 0.4081 - val_acc: 0.8742\n",
      "Epoch 8/10\n",
      "157/157 [==============================] - 2s 11ms/step - loss: 0.1234 - acc: 0.9654 - val_loss: 0.4102 - val_acc: 0.8738\n",
      "Epoch 9/10\n",
      "157/157 [==============================] - 2s 11ms/step - loss: 0.1051 - acc: 0.9707 - val_loss: 0.4996 - val_acc: 0.8704\n",
      "Epoch 10/10\n",
      "157/157 [==============================] - 2s 11ms/step - loss: 0.0904 - acc: 0.9761 - val_loss: 0.5245 - val_acc: 0.8706\n"
     ]
    },
    {
     "data": {
      "text/plain": [
       "<tensorflow.python.keras.callbacks.History at 0x1cdb9d93d00>"
      ]
     },
     "execution_count": 50,
     "metadata": {},
     "output_type": "execute_result"
    }
   ],
   "source": [
    "# 출력이 작은 네트웍\n",
    "model = keras.Sequential(\n",
    "    [\n",
    "        layers.Dense(4,activation='relu')\n",
    "        ,layers.Dense(4,activation='relu')\n",
    "        ,layers.Dense(1,activation='sigmoid')\n",
    "    ]\n",
    ")\n",
    "model.compile(optimizer=keras.optimizers.RMSprop(),\n",
    "              loss = keras.losses.binary_crossentropy,\n",
    "              metrics=['acc']\n",
    "             )\n",
    "model.fit(train_data, y_train,epochs=10,batch_size=128,validation_split=0.2)"
   ]
  },
  {
   "cell_type": "code",
   "execution_count": 52,
   "id": "cc05493a-c30c-43c0-a1ee-f5cce8005118",
   "metadata": {},
   "outputs": [
    {
     "name": "stdout",
     "output_type": "stream",
     "text": [
      "Epoch 1/20\n",
      "157/157 [==============================] - 13s 47ms/step - loss: 0.3697 - acc: 0.8393 - val_loss: 0.2997 - val_acc: 0.8766\n",
      "Epoch 2/20\n",
      "157/157 [==============================] - 6s 40ms/step - loss: 0.1715 - acc: 0.9360 - val_loss: 0.3081 - val_acc: 0.8910\n",
      "Epoch 3/20\n",
      "157/157 [==============================] - 6s 40ms/step - loss: 0.0736 - acc: 0.9785 - val_loss: 0.6178 - val_acc: 0.8750\n",
      "Epoch 4/20\n",
      "157/157 [==============================] - 6s 40ms/step - loss: 0.0402 - acc: 0.9918 - val_loss: 1.1436 - val_acc: 0.8302\n",
      "Epoch 5/20\n",
      "157/157 [==============================] - 6s 40ms/step - loss: 0.0114 - acc: 0.9976 - val_loss: 1.0608 - val_acc: 0.8826\n",
      "Epoch 6/20\n",
      "157/157 [==============================] - 6s 40ms/step - loss: 0.0141 - acc: 0.9979 - val_loss: 1.3983 - val_acc: 0.8834\n",
      "Epoch 7/20\n",
      "157/157 [==============================] - 7s 42ms/step - loss: 0.0173 - acc: 0.9973 - val_loss: 1.1541 - val_acc: 0.8798\n",
      "Epoch 8/20\n",
      "157/157 [==============================] - 6s 40ms/step - loss: 0.0076 - acc: 0.9985 - val_loss: 1.4042 - val_acc: 0.8740\n",
      "Epoch 9/20\n",
      "157/157 [==============================] - 7s 42ms/step - loss: 0.0083 - acc: 0.9991 - val_loss: 1.8570 - val_acc: 0.8760\n",
      "Epoch 10/20\n",
      "157/157 [==============================] - 7s 43ms/step - loss: 0.0107 - acc: 0.9983 - val_loss: 1.4311 - val_acc: 0.8738\n",
      "Epoch 11/20\n",
      "157/157 [==============================] - 6s 41ms/step - loss: 0.0029 - acc: 0.9998 - val_loss: 1.7970 - val_acc: 0.8762\n",
      "Epoch 12/20\n",
      "157/157 [==============================] - 6s 41ms/step - loss: 0.0039 - acc: 0.9995 - val_loss: 2.2560 - val_acc: 0.8780\n",
      "Epoch 13/20\n",
      "157/157 [==============================] - 6s 41ms/step - loss: 1.9826e-07 - acc: 1.0000 - val_loss: 2.3787 - val_acc: 0.8774\n",
      "Epoch 14/20\n",
      "157/157 [==============================] - 7s 42ms/step - loss: 2.6164e-08 - acc: 1.0000 - val_loss: 2.6408 - val_acc: 0.8768\n",
      "Epoch 15/20\n",
      "157/157 [==============================] - 7s 42ms/step - loss: 4.7557e-09 - acc: 1.0000 - val_loss: 2.7295 - val_acc: 0.8764\n",
      "Epoch 16/20\n",
      "157/157 [==============================] - 6s 41ms/step - loss: 2.7577e-09 - acc: 1.0000 - val_loss: 2.7794 - val_acc: 0.8768\n",
      "Epoch 17/20\n",
      "157/157 [==============================] - 6s 41ms/step - loss: 1.9711e-09 - acc: 1.0000 - val_loss: 2.8147 - val_acc: 0.8768\n",
      "Epoch 18/20\n",
      "157/157 [==============================] - 6s 41ms/step - loss: 1.5589e-09 - acc: 1.0000 - val_loss: 2.8399 - val_acc: 0.8764\n",
      "Epoch 19/20\n",
      "157/157 [==============================] - 6s 41ms/step - loss: 1.3001e-09 - acc: 1.0000 - val_loss: 2.8652 - val_acc: 0.8758\n",
      "Epoch 20/20\n",
      "157/157 [==============================] - 6s 41ms/step - loss: 1.1191e-09 - acc: 1.0000 - val_loss: 2.8852 - val_acc: 0.8754\n"
     ]
    },
    {
     "data": {
      "text/plain": [
       "<tensorflow.python.keras.callbacks.History at 0x1cdc579b0d0>"
      ]
     },
     "execution_count": 52,
     "metadata": {},
     "output_type": "execute_result"
    }
   ],
   "source": [
    "# 출력을 굉장치 크게 작은 네트웍\n",
    "model = keras.Sequential(\n",
    "    [\n",
    "        layers.Dense(512,activation='relu')\n",
    "        ,layers.Dense(512,activation='relu')\n",
    "        ,layers.Dense(1,activation='sigmoid')\n",
    "    ]\n",
    ")\n",
    "model.compile(optimizer=keras.optimizers.RMSprop(),\n",
    "              loss = keras.losses.binary_crossentropy,\n",
    "              metrics=['acc']\n",
    "             )\n",
    "model.fit(train_data, y_train,epochs=20,batch_size=128,validation_split=0.2)"
   ]
  },
  {
   "cell_type": "code",
   "execution_count": 7,
   "id": "3d314c69-2a1b-451d-9c9c-8af6d15dd530",
   "metadata": {},
   "outputs": [
    {
     "name": "stdout",
     "output_type": "stream",
     "text": [
      "Epoch 1/20\n",
      "157/157 [==============================] - 17s 54ms/step - loss: 0.7700 - acc: 0.8278 - val_loss: 0.4114 - val_acc: 0.8780\n",
      "Epoch 2/20\n",
      "157/157 [==============================] - 8s 51ms/step - loss: 0.3882 - acc: 0.8862 - val_loss: 0.4010 - val_acc: 0.8750\n",
      "Epoch 3/20\n",
      "157/157 [==============================] - 8s 50ms/step - loss: 0.3334 - acc: 0.9020 - val_loss: 0.3652 - val_acc: 0.8870\n",
      "Epoch 4/20\n",
      "157/157 [==============================] - 8s 49ms/step - loss: 0.2939 - acc: 0.9147 - val_loss: 0.3557 - val_acc: 0.8858\n",
      "Epoch 5/20\n",
      "157/157 [==============================] - 8s 49ms/step - loss: 0.2726 - acc: 0.9199 - val_loss: 0.3621 - val_acc: 0.8834\n",
      "Epoch 6/20\n",
      "157/157 [==============================] - 8s 49ms/step - loss: 0.2453 - acc: 0.9305 - val_loss: 0.3742 - val_acc: 0.8798\n",
      "Epoch 7/20\n",
      "157/157 [==============================] - 8s 49ms/step - loss: 0.2254 - acc: 0.9415 - val_loss: 0.3727 - val_acc: 0.8804\n",
      "Epoch 8/20\n",
      "157/157 [==============================] - 8s 49ms/step - loss: 0.2103 - acc: 0.9470 - val_loss: 0.3979 - val_acc: 0.8746\n",
      "Epoch 9/20\n",
      "157/157 [==============================] - 8s 50ms/step - loss: 0.1930 - acc: 0.9507 - val_loss: 0.4125 - val_acc: 0.8748\n",
      "Epoch 10/20\n",
      "157/157 [==============================] - 8s 49ms/step - loss: 0.1808 - acc: 0.9571 - val_loss: 0.4750 - val_acc: 0.8570\n",
      "Epoch 11/20\n",
      "157/157 [==============================] - 8s 49ms/step - loss: 0.1663 - acc: 0.9646 - val_loss: 0.4393 - val_acc: 0.8704\n",
      "Epoch 12/20\n",
      "157/157 [==============================] - 8s 49ms/step - loss: 0.1619 - acc: 0.9663 - val_loss: 0.4755 - val_acc: 0.8662\n",
      "Epoch 13/20\n",
      "157/157 [==============================] - 8s 50ms/step - loss: 0.1562 - acc: 0.9692 - val_loss: 0.4787 - val_acc: 0.8638\n",
      "Epoch 14/20\n",
      "157/157 [==============================] - 8s 49ms/step - loss: 0.1496 - acc: 0.9710 - val_loss: 0.4734 - val_acc: 0.8710\n",
      "Epoch 15/20\n",
      "157/157 [==============================] - 8s 49ms/step - loss: 0.1426 - acc: 0.9732 - val_loss: 0.5038 - val_acc: 0.8712\n",
      "Epoch 16/20\n",
      "157/157 [==============================] - 8s 50ms/step - loss: 0.1391 - acc: 0.9746 - val_loss: 0.5830 - val_acc: 0.8488\n",
      "Epoch 17/20\n",
      "157/157 [==============================] - 8s 52ms/step - loss: 0.1394 - acc: 0.9757 - val_loss: 0.4768 - val_acc: 0.8738\n",
      "Epoch 18/20\n",
      "157/157 [==============================] - 9s 55ms/step - loss: 0.1327 - acc: 0.9778 - val_loss: 0.4925 - val_acc: 0.8732\n",
      "Epoch 19/20\n",
      "157/157 [==============================] - 9s 54ms/step - loss: 0.1297 - acc: 0.9787 - val_loss: 0.5509 - val_acc: 0.8618\n",
      "Epoch 20/20\n",
      "157/157 [==============================] - 9s 55ms/step - loss: 0.1278 - acc: 0.9785 - val_loss: 0.5536 - val_acc: 0.8544\n"
     ]
    },
    {
     "data": {
      "text/plain": [
       "<tensorflow.python.keras.callbacks.History at 0x2088537c820>"
      ]
     },
     "execution_count": 7,
     "metadata": {},
     "output_type": "execute_result"
    }
   ],
   "source": [
    "# L2 가중치 적용\n",
    "import numpy as np\n",
    "from tensorflow import keras\n",
    "from tensorflow.keras import layers\n",
    "from tensorflow.keras.datasets import imdb\n",
    "\n",
    "from tensorflow.keras.datasets import imdb\n",
    "(x_train, y_train), _ = imdb.load_data(num_words=10000)\n",
    "\n",
    "def vectorize_sequences(sequences, dimension=10000):\n",
    "    results = np.zeros((len(sequences), dimension))\n",
    "    for i, sequence in enumerate(sequences):\n",
    "        results[i, sequence] = 1.\n",
    "    return results\n",
    "x_train = vectorize_sequences(x_train)         \n",
    "\n",
    "\n",
    "\n",
    "\n",
    "from tensorflow.keras import regularizers\n",
    "model = keras.Sequential(\n",
    "    [\n",
    "        layers.Dense(512,activation='relu',kernel_regularizer= regularizers.l2(0.002))\n",
    "        ,layers.Dense(512,activation='relu',kernel_regularizer= regularizers.l2(0.002))\n",
    "        ,layers.Dense(1,activation='sigmoid')\n",
    "    ]\n",
    ")\n",
    "model.compile(optimizer=keras.optimizers.RMSprop(),\n",
    "              loss = keras.losses.binary_crossentropy,\n",
    "              metrics=['acc']\n",
    "             )\n",
    "model.fit(x_train, y_train,epochs=20,batch_size=128,validation_split=0.2)"
   ]
  },
  {
   "cell_type": "code",
   "execution_count": 8,
   "id": "fc8e3ef5-1a06-44ea-82cd-a4b1205e4406",
   "metadata": {},
   "outputs": [
    {
     "data": {
      "text/plain": [
       "<tensorflow.python.keras.regularizers.L1L2 at 0x208f81888b0>"
      ]
     },
     "execution_count": 8,
     "metadata": {},
     "output_type": "execute_result"
    }
   ],
   "source": [
    "regularizers.l1(0.001)\n",
    "regularizers.l1_l2(l1=0.001, l2=0.002)"
   ]
  },
  {
   "cell_type": "code",
   "execution_count": 9,
   "id": "725d3982-815d-47d1-a9e4-e4ec0ec66a83",
   "metadata": {},
   "outputs": [
    {
     "name": "stdout",
     "output_type": "stream",
     "text": [
      "Epoch 1/20\n",
      "157/157 [==============================] - 93s 570ms/step - loss: 0.8734 - acc: 0.8191 - val_loss: 0.4550 - val_acc: 0.8834\n",
      "Epoch 2/20\n",
      "157/157 [==============================] - 9s 60ms/step - loss: 0.4486 - acc: 0.8757 - val_loss: 0.4595 - val_acc: 0.8574\n",
      "Epoch 3/20\n",
      "157/157 [==============================] - 8s 50ms/step - loss: 0.4008 - acc: 0.8885 - val_loss: 0.5477 - val_acc: 0.8268\n",
      "Epoch 4/20\n",
      "157/157 [==============================] - 8s 50ms/step - loss: 0.3827 - acc: 0.8928 - val_loss: 0.4129 - val_acc: 0.8748\n",
      "Epoch 5/20\n",
      "157/157 [==============================] - 8s 49ms/step - loss: 0.3676 - acc: 0.8965 - val_loss: 0.3983 - val_acc: 0.8824\n",
      "Epoch 6/20\n",
      "157/157 [==============================] - 8s 51ms/step - loss: 0.3545 - acc: 0.9012 - val_loss: 0.4207 - val_acc: 0.8706\n",
      "Epoch 7/20\n",
      "157/157 [==============================] - 8s 52ms/step - loss: 0.3454 - acc: 0.9063 - val_loss: 0.4624 - val_acc: 0.8572\n",
      "Epoch 8/20\n",
      "157/157 [==============================] - 9s 56ms/step - loss: 0.3408 - acc: 0.9062 - val_loss: 0.3990 - val_acc: 0.8816\n",
      "Epoch 9/20\n",
      "157/157 [==============================] - 9s 56ms/step - loss: 0.3300 - acc: 0.9129 - val_loss: 0.3970 - val_acc: 0.8822\n",
      "Epoch 10/20\n",
      "157/157 [==============================] - 8s 53ms/step - loss: 0.3265 - acc: 0.9136 - val_loss: 0.4192 - val_acc: 0.8756\n",
      "Epoch 11/20\n",
      "157/157 [==============================] - 9s 56ms/step - loss: 0.3222 - acc: 0.9147 - val_loss: 0.4240 - val_acc: 0.8748\n",
      "Epoch 12/20\n",
      "157/157 [==============================] - 8s 53ms/step - loss: 0.3150 - acc: 0.9197 - val_loss: 0.4006 - val_acc: 0.8828\n",
      "Epoch 13/20\n",
      "157/157 [==============================] - 8s 51ms/step - loss: 0.3068 - acc: 0.9236 - val_loss: 0.4428 - val_acc: 0.8628\n",
      "Epoch 14/20\n",
      "157/157 [==============================] - 8s 52ms/step - loss: 0.3027 - acc: 0.9248 - val_loss: 0.4088 - val_acc: 0.8752\n",
      "Epoch 15/20\n",
      "157/157 [==============================] - 9s 58ms/step - loss: 0.2965 - acc: 0.9292 - val_loss: 0.4144 - val_acc: 0.8788\n",
      "Epoch 16/20\n",
      "157/157 [==============================] - 10s 63ms/step - loss: 0.2933 - acc: 0.9288 - val_loss: 0.4149 - val_acc: 0.8810\n",
      "Epoch 17/20\n",
      "157/157 [==============================] - 9s 57ms/step - loss: 0.2902 - acc: 0.9298 - val_loss: 0.4237 - val_acc: 0.8772\n",
      "Epoch 18/20\n",
      "157/157 [==============================] - 9s 59ms/step - loss: 0.2881 - acc: 0.9301 - val_loss: 0.4362 - val_acc: 0.8724\n",
      "Epoch 19/20\n",
      "157/157 [==============================] - 9s 56ms/step - loss: 0.2902 - acc: 0.9291 - val_loss: 0.5437 - val_acc: 0.8398\n",
      "Epoch 20/20\n",
      "157/157 [==============================] - 9s 60ms/step - loss: 0.2871 - acc: 0.9320 - val_loss: 0.4179 - val_acc: 0.8796\n"
     ]
    },
    {
     "data": {
      "text/plain": [
       "<tensorflow.python.keras.callbacks.History at 0x208f92ed0a0>"
      ]
     },
     "execution_count": 9,
     "metadata": {},
     "output_type": "execute_result"
    }
   ],
   "source": [
    "# dropout\n",
    "model = keras.Sequential(\n",
    "    [\n",
    "        layers.Dense(512,activation='relu',kernel_regularizer= regularizers.l2(0.002))\n",
    "        ,layers.Dropout(0.5)\n",
    "        ,layers.Dense(512,activation='relu',kernel_regularizer= regularizers.l2(0.002))\n",
    "        ,layers.Dropout(0.5)\n",
    "        ,layers.Dense(1,activation='sigmoid')\n",
    "    ]\n",
    ")\n",
    "model.compile(optimizer=keras.optimizers.RMSprop(),\n",
    "              loss = keras.losses.binary_crossentropy,\n",
    "              metrics=['acc']\n",
    "             )\n",
    "model.fit(x_train, y_train,epochs=20,batch_size=128,validation_split=0.2)"
   ]
  },
  {
   "cell_type": "code",
   "execution_count": 11,
   "id": "720bc9a5-180e-4d61-8e85-ff9177474b95",
   "metadata": {},
   "outputs": [],
   "source": [
    "# 케라스 모델을 만드는 여러가지 방법\n",
    "from tensorflow import keras\n",
    "from tensorflow.keras import layers"
   ]
  },
  {
   "cell_type": "code",
   "execution_count": 12,
   "id": "a582e036-e388-4e5d-865d-53514076ed3d",
   "metadata": {},
   "outputs": [],
   "source": [
    "model = keras.Sequential([\n",
    "    layers.Dense(64,activation='relu'),\n",
    "    layers.Dense(10,activation='softmax')\n",
    "])"
   ]
  },
  {
   "cell_type": "code",
   "execution_count": 37,
   "id": "c9b3e251-8d35-46ce-9b83-c0a6608ad1cd",
   "metadata": {},
   "outputs": [],
   "source": [
    "# 점진적으로 만들기\n",
    "model = keras.Sequential(name='teste')\n",
    "model.add(layers.Dense(64,activation='relu', name = 'layer1'))\n",
    "model.add(layers.Dense(10,activation='softmax',name = 'layer2'))"
   ]
  },
  {
   "cell_type": "code",
   "execution_count": 38,
   "id": "ffe417ee-9bd1-48f3-8b1f-a61e5264824b",
   "metadata": {},
   "outputs": [],
   "source": [
    "#가중치를만들기 위해 모델을 호출\n",
    "model.build(input_shape=(None,3))"
   ]
  },
  {
   "cell_type": "code",
   "execution_count": 39,
   "id": "1f23ad0b-a5a8-422f-9f2e-a65dd16c0615",
   "metadata": {},
   "outputs": [
    {
     "name": "stdout",
     "output_type": "stream",
     "text": [
      "Model: \"teste\"\n",
      "_________________________________________________________________\n",
      "Layer (type)                 Output Shape              Param #   \n",
      "=================================================================\n",
      "layer1 (Dense)               (None, 64)                256       \n",
      "_________________________________________________________________\n",
      "layer2 (Dense)               (None, 10)                650       \n",
      "=================================================================\n",
      "Total params: 906\n",
      "Trainable params: 906\n",
      "Non-trainable params: 0\n",
      "_________________________________________________________________\n"
     ]
    }
   ],
   "source": [
    "model.summary()"
   ]
  },
  {
   "cell_type": "code",
   "execution_count": 40,
   "id": "4745e8ad-68ad-4619-83ad-394de71d3685",
   "metadata": {},
   "outputs": [
    {
     "name": "stdout",
     "output_type": "stream",
     "text": [
      "WARNING:tensorflow:Please add `keras.layers.InputLayer` instead of `keras.Input` to Sequential model. `keras.Input` is intended to be used by Functional model.\n",
      "Model: \"sequential_9\"\n",
      "_________________________________________________________________\n",
      "Layer (type)                 Output Shape              Param #   \n",
      "=================================================================\n",
      "dense_25 (Dense)             (None, 64)                256       \n",
      "=================================================================\n",
      "Total params: 256\n",
      "Trainable params: 256\n",
      "Non-trainable params: 0\n",
      "_________________________________________________________________\n"
     ]
    }
   ],
   "source": [
    "# 데이터 입력 크기 미리 정하기\n",
    "model = keras.Sequential()\n",
    "model.add(keras.Input(shape = (3,)))\n",
    "model.add(layers.Dense(64,activation='relu'))\n",
    "model.summary()\n",
    "          "
   ]
  },
  {
   "cell_type": "code",
   "execution_count": 41,
   "id": "4a40f0d2-a159-4310-b28b-d3a0bdc526ae",
   "metadata": {},
   "outputs": [
    {
     "name": "stdout",
     "output_type": "stream",
     "text": [
      "Model: \"sequential_9\"\n",
      "_________________________________________________________________\n",
      "Layer (type)                 Output Shape              Param #   \n",
      "=================================================================\n",
      "dense_25 (Dense)             (None, 64)                256       \n",
      "_________________________________________________________________\n",
      "dense_26 (Dense)             (None, 10)                650       \n",
      "=================================================================\n",
      "Total params: 906\n",
      "Trainable params: 906\n",
      "Non-trainable params: 0\n",
      "_________________________________________________________________\n"
     ]
    }
   ],
   "source": [
    "model.add(layers.Dense(10,activation='softmax'))\n",
    "model.summary()"
   ]
  },
  {
   "cell_type": "code",
   "execution_count": 43,
   "id": "0f789fb8-1418-4d3e-8a98-7cd6dbdd5e12",
   "metadata": {},
   "outputs": [
    {
     "name": "stdout",
     "output_type": "stream",
     "text": [
      "Model: \"model_1\"\n",
      "_________________________________________________________________\n",
      "Layer (type)                 Output Shape              Param #   \n",
      "=================================================================\n",
      "input_3 (InputLayer)         [(None, 3)]               0         \n",
      "_________________________________________________________________\n",
      "dense_29 (Dense)             (None, 64)                256       \n",
      "_________________________________________________________________\n",
      "dense_30 (Dense)             (None, 10)                650       \n",
      "=================================================================\n",
      "Total params: 906\n",
      "Trainable params: 906\n",
      "Non-trainable params: 0\n",
      "_________________________________________________________________\n"
     ]
    }
   ],
   "source": [
    "# 함수형 API\n",
    "inputs = keras.Input(shape=(3,))\n",
    "features = layers.Dense(64,activation='relu')(inputs)\n",
    "outputs = layers.Dense(10,activation='relu')(features)\n",
    "model = keras.Model(inputs = inputs, outputs = outputs)\n",
    "model.summary()"
   ]
  },
  {
   "cell_type": "code",
   "execution_count": 46,
   "id": "9e366e7c-3971-4708-ae84-0db2230713c6",
   "metadata": {},
   "outputs": [
    {
     "name": "stdout",
     "output_type": "stream",
     "text": [
      "Model: \"model_3\"\n",
      "_________________________________________________________________\n",
      "Layer (type)                 Output Shape              Param #   \n",
      "=================================================================\n",
      "input_5 (InputLayer)         [(None, 3)]               0         \n",
      "_________________________________________________________________\n",
      "dense_33 (Dense)             (None, 64)                256       \n",
      "_________________________________________________________________\n",
      "dense_34 (Dense)             (None, 10)                650       \n",
      "=================================================================\n",
      "Total params: 906\n",
      "Trainable params: 906\n",
      "Non-trainable params: 0\n",
      "_________________________________________________________________\n"
     ]
    }
   ],
   "source": [
    "# 함수형 API\n",
    "inputs = keras.Input(shape=(3,))\n",
    "x = layers.Dense(64,activation='relu')(inputs)\n",
    "x = layers.Dense(10,activation='relu')(x)\n",
    "model = keras.Model(inputs = inputs, outputs = x)\n",
    "model.summary()"
   ]
  },
  {
   "cell_type": "code",
   "execution_count": 48,
   "id": "2b688759-69e6-4a05-b498-a5e8e3cd628e",
   "metadata": {},
   "outputs": [
    {
     "name": "stdout",
     "output_type": "stream",
     "text": [
      "Model: \"model_5\"\n",
      "__________________________________________________________________________________________________\n",
      "Layer (type)                    Output Shape         Param #     Connected to                     \n",
      "==================================================================================================\n",
      "title (InputLayer)              [(None, 10000)]      0                                            \n",
      "__________________________________________________________________________________________________\n",
      "text_body (InputLayer)          [(None, 10000)]      0                                            \n",
      "__________________________________________________________________________________________________\n",
      "tags (InputLayer)               [(None, 100)]        0                                            \n",
      "__________________________________________________________________________________________________\n",
      "concatenate_1 (Concatenate)     (None, 20100)        0           title[0][0]                      \n",
      "                                                                 text_body[0][0]                  \n",
      "                                                                 tags[0][0]                       \n",
      "__________________________________________________________________________________________________\n",
      "dense_36 (Dense)                (None, 64)           1286464     concatenate_1[0][0]              \n",
      "__________________________________________________________________________________________________\n",
      "priority (Dense)                (None, 1)            65          dense_36[0][0]                   \n",
      "__________________________________________________________________________________________________\n",
      "department (Dense)              (None, 4)            260         dense_36[0][0]                   \n",
      "==================================================================================================\n",
      "Total params: 1,286,789\n",
      "Trainable params: 1,286,789\n",
      "Non-trainable params: 0\n",
      "__________________________________________________________________________________________________\n"
     ]
    }
   ],
   "source": [
    "# 다중 입력, 다중 출력\n",
    "vocabulary_size = 10000\n",
    "num_tags = 100\n",
    "num_dpartments = 4\n",
    "title = keras.Input(shape=(vocabulary_size,),name='title')\n",
    "text_body = keras.Input(shape=(vocabulary_size,),name='text_body')\n",
    "tags = keras.Input(shape=(num_tags,),name='tags')\n",
    "\n",
    "features = layers.Concatenate()([title,text_body,tags])\n",
    "features = layers.Dense(64,activation='relu')(features)\n",
    "\n",
    "priority = layers.Dense(1, activation='sigmoid',name='priority')(features)\n",
    "department = layers.Dense(num_dpartments, activation='softmax',name='department')(features)\n",
    "\n",
    "model = keras.Model(inputs = [title,text_body,tags],outputs = [priority,department])\n",
    "model.summary()\n"
   ]
  },
  {
   "cell_type": "code",
   "execution_count": 49,
   "id": "64f07301-d885-420b-8407-d734c2125750",
   "metadata": {},
   "outputs": [],
   "source": [
    "# 훈련\n",
    "num_samples = 1280\n",
    "title_data = np.random.randint(0,2,size = (num_samples, vocabulary_size))\n",
    "text_body_data =np.random.randint(0,2,size = (num_samples,vocabulary_size  ))\n",
    "tag_data = np.random.randint(0,2,size = (num_samples, num_tags ))\n",
    "\n",
    "priority_data = np.random.random(size=(num_samples,1))\n",
    "department_data = np.random.randint(0,2,size=(num_samples, num_dpartments))"
   ]
  },
  {
   "cell_type": "code",
   "execution_count": 50,
   "id": "15ba75d4-bcfc-4542-8276-8be0c4890d0f",
   "metadata": {},
   "outputs": [
    {
     "name": "stdout",
     "output_type": "stream",
     "text": [
      "40/40 [==============================] - 2s 15ms/step - loss: 34.7541 - priority_loss: 0.3390 - department_loss: 34.4151 - priority_mean_absolute_error: 0.5071 - department_accuracy: 0.2156\n"
     ]
    },
    {
     "data": {
      "text/plain": [
       "<tensorflow.python.keras.callbacks.History at 0x208d0864640>"
      ]
     },
     "execution_count": 50,
     "metadata": {},
     "output_type": "execute_result"
    }
   ],
   "source": [
    "model.compile(optimizer='rmsprop', loss = ['mean_squared_error','categorical_crossentropy'], \n",
    "              metrics=[['mean_absolute_error'],['accuracy']])\n",
    "model.fit( [title_data,text_body_data,tag_data], [priority_data,department_data], epochs=1)              "
   ]
  },
  {
   "cell_type": "code",
   "execution_count": 51,
   "id": "408ead86-25fd-425f-9b75-17748232f8f5",
   "metadata": {},
   "outputs": [
    {
     "name": "stdout",
     "output_type": "stream",
     "text": [
      "40/40 [==============================] - 1s 6ms/step - loss: 38.0712 - priority_loss: 0.3461 - department_loss: 37.7251 - priority_mean_absolute_error: 0.5133 - department_accuracy: 0.5680\n"
     ]
    },
    {
     "data": {
      "text/plain": [
       "[38.07124328613281,\n",
       " 0.3460938334465027,\n",
       " 37.72514724731445,\n",
       " 0.5133138298988342,\n",
       " 0.5679687261581421]"
      ]
     },
     "execution_count": 51,
     "metadata": {},
     "output_type": "execute_result"
    }
   ],
   "source": [
    "model.evaluate([title_data,text_body_data,tag_data], [priority_data,department_data])"
   ]
  },
  {
   "cell_type": "code",
   "execution_count": 52,
   "id": "e84900b4-9874-489c-b715-53a7e7d56764",
   "metadata": {},
   "outputs": [],
   "source": [
    "priority_predict, department_predict =  model.predict([title_data,text_body_data,tag_data])"
   ]
  },
  {
   "cell_type": "code",
   "execution_count": 53,
   "id": "e3eb9511-6a9d-4aed-ae1a-cbf9f2b9ae47",
   "metadata": {},
   "outputs": [
    {
     "name": "stdout",
     "output_type": "stream",
     "text": [
      "40/40 [==============================] - 1s 14ms/step - loss: 44.2323 - priority_loss: 0.3461 - department_loss: 43.8862 - priority_mean_absolute_error: 0.5133 - department_accuracy: 0.2430\n",
      "40/40 [==============================] - 1s 8ms/step - loss: 31.9914 - priority_loss: 0.3461 - department_loss: 31.6453 - priority_mean_absolute_error: 0.5133 - department_accuracy: 0.1172\n"
     ]
    }
   ],
   "source": [
    "model.compile(optimizer='rmsprop', loss = {'priority':'mean_squared_error','department':'categorical_crossentropy'}, \n",
    "              metrics={'priority':['mean_absolute_error'],'department':['accuracy']}\n",
    "             )\n",
    "model.fit( {'title':title_data,'text_body':text_body_data,'tags':tag_data}, {'priority':priority_data,'department':department_data}, epochs=1)     \n",
    "model.evaluate({'title':title_data,'text_body':text_body_data,'tags':tag_data}, {'priority':priority_data,'department':department_data})\n",
    "priority_predict, department_predict =  model.predict({'title':title_data,'text_body':text_body_data,'tags':tag_data})"
   ]
  },
  {
   "cell_type": "code",
   "execution_count": 55,
   "id": "17dc9b8a-b91a-48cd-94f1-12f93ca5d69f",
   "metadata": {},
   "outputs": [
    {
     "name": "stdout",
     "output_type": "stream",
     "text": [
      "Collecting pydot\n",
      "  Using cached pydot-1.4.2-py2.py3-none-any.whl (21 kB)\n",
      "Requirement already satisfied: pyparsing>=2.1.4 in d:\\miniconda3\\envs\\ai\\lib\\site-packages (from pydot) (3.0.9)\n",
      "Installing collected packages: pydot\n",
      "Successfully installed pydot-1.4.2\n"
     ]
    }
   ],
   "source": [
    "!pip install pydot"
   ]
  },
  {
   "cell_type": "code",
   "execution_count": 57,
   "id": "dc3382d8-e838-49e5-afdc-836019b48327",
   "metadata": {},
   "outputs": [
    {
     "name": "stdout",
     "output_type": "stream",
     "text": [
      "Collecting graphviz\n",
      "  Using cached graphviz-0.20.1-py3-none-any.whl (47 kB)\n",
      "Installing collected packages: graphviz\n",
      "Successfully installed graphviz-0.20.1\n"
     ]
    }
   ],
   "source": [
    "!pip install graphviz "
   ]
  },
  {
   "cell_type": "code",
   "execution_count": 58,
   "id": "ab07cc9b-f66b-4db4-bf03-289ddf158aa9",
   "metadata": {},
   "outputs": [
    {
     "name": "stdout",
     "output_type": "stream",
     "text": [
      "('You must install pydot (`pip install pydot`) and install graphviz (see instructions at https://graphviz.gitlab.io/download/) ', 'for plot_model/model_to_dot to work.')\n"
     ]
    }
   ],
   "source": [
    "keras.utils.plot_model(model,'test.png')"
   ]
  },
  {
   "attachments": {
    "329b7c04-ac8f-4d2e-a719-a59e1c0b28f6.png": {
     "image/png": "[encoded data removed]"
    }
   },
   "cell_type": "markdown",
   "id": "09c6d58e-6dff-4ce2-ae1d-34cfd643d6cf",
   "metadata": {},
   "source": [
    "![image.png](attachment:329b7c04-ac8f-4d2e-a719-a59e1c0b28f6.png)"
   ]
  },
  {
   "cell_type": "code",
   "execution_count": 61,
   "id": "f833779e-a74e-4c1b-ab72-0d6da9634f03",
   "metadata": {},
   "outputs": [],
   "source": [
    "# 서브클래싱 모델로 구성하기\n",
    "class CustomerModel(keras.Model):\n",
    "    def __init__(self, num_departments):\n",
    "        super().__init__()\n",
    "        # super(CustomerModel, self).__init__()\n",
    "        self.concat_layer = layers.Concatenate()\n",
    "        self.mixing_layer = layers.Dense(64, activation='relu')\n",
    "        self.prioroty_scorer = layers.Dense(1,activation='sigmoid')\n",
    "        self.department_classifier = layers.Dense(num_departments, activation='softmax')\n",
    "    def call(self, inputs): # inputs type is dictionary\n",
    "        title = inputs['title']\n",
    "        text_body = inputs['text_body']\n",
    "        tags = inputs['tags']\n",
    "        \n",
    "        features = self.concat_layer([title,text_body,tags])\n",
    "        features = self.mixing_layer(features)\n",
    "        priority =  self.prioroty_scorer(features)\n",
    "        department =  self.department_classifier(features)\n",
    "        return priority, department        "
   ]
  },
  {
   "cell_type": "code",
   "execution_count": 62,
   "id": "c26fad03-7b07-40ab-aac7-4347a1ae09cd",
   "metadata": {},
   "outputs": [],
   "source": [
    "model = CustomerModel(num_departments = 4)\n",
    "priority, department = model({\n",
    "    'title':title_data,\n",
    "    'text_body':text_body_data,\n",
    "    'tags': tag_data\n",
    "})"
   ]
  },
  {
   "cell_type": "code",
   "execution_count": 64,
   "id": "142e46ab-74d7-4ed8-b74e-44527908a664",
   "metadata": {},
   "outputs": [
    {
     "name": "stdout",
     "output_type": "stream",
     "text": [
      "Model: \"customer_model\"\n",
      "_________________________________________________________________\n",
      "Layer (type)                 Output Shape              Param #   \n",
      "=================================================================\n",
      "concatenate_3 (Concatenate)  multiple                  0         \n",
      "_________________________________________________________________\n",
      "dense_37 (Dense)             multiple                  1286464   \n",
      "_________________________________________________________________\n",
      "dense_38 (Dense)             multiple                  65        \n",
      "_________________________________________________________________\n",
      "dense_39 (Dense)             multiple                  260       \n",
      "=================================================================\n",
      "Total params: 1,286,789\n",
      "Trainable params: 1,286,789\n",
      "Non-trainable params: 0\n",
      "_________________________________________________________________\n"
     ]
    }
   ],
   "source": [
    "model.summary()"
   ]
  },
  {
   "cell_type": "code",
   "execution_count": 67,
   "id": "36a45d47-a3ba-4066-a5e3-83c22468ddb8",
   "metadata": {},
   "outputs": [
    {
     "name": "stdout",
     "output_type": "stream",
     "text": [
      "40/40 [==============================] - 1s 20ms/step - loss: 38.4538 - output_1_loss: 0.3195 - output_2_loss: 38.1344 - output_1_mean_absolute_error: 0.4867 - output_2_accuracy: 0.2922\n",
      "40/40 [==============================] - 1s 9ms/step - loss: 37.6546 - output_1_loss: 0.3195 - output_2_loss: 37.3351 - output_1_mean_absolute_error: 0.4867 - output_2_accuracy: 0.0703\n"
     ]
    }
   ],
   "source": [
    "model.compile(optimizer='rmsprop', loss = ['mean_squared_error','categorical_crossentropy'], \n",
    "              metrics=[['mean_absolute_error'],['accuracy']]\n",
    "             )\n",
    "model.fit( \n",
    "            {\n",
    "                'title':title_data\n",
    "                 ,'text_body':text_body_data\n",
    "                 ,'tags':tag_data\n",
    "            }, \n",
    "            [priority_data,department_data]\n",
    "    , epochs=1)     \n",
    "\n",
    "model.evaluate({'title':title_data,'text_body':text_body_data,'tags':tag_data}, [priority_data,department_data])\n",
    "priority_predict, department_predict =  model.predict({'title':title_data,'text_body':text_body_data,'tags':tag_data})"
   ]
  },
  {
   "cell_type": "code",
   "execution_count": 68,
   "id": "bad83601-9abb-4db8-81f4-5c445f210364",
   "metadata": {},
   "outputs": [],
   "source": [
    "# 서브클래싱 모델을 포함해서 함수형 모델\n",
    "class Classifier(keras.Model):\n",
    "    def __init__(self, num_classes=2):\n",
    "        super().__init__()\n",
    "        if num_classes == 2:\n",
    "            num_units = 1\n",
    "            activation = 'sigmoid'\n",
    "        else:\n",
    "            num_units = num_classes\n",
    "            activation = 'softmax'\n",
    "        self.dense = layers.Dense(num_units, activation=activation)\n",
    "    def call(self, inputs):\n",
    "        return self.dense(inputs)    "
   ]
  },
  {
   "cell_type": "code",
   "execution_count": 69,
   "id": "baa70bb6-9871-451a-a80b-25dfe4c65c44",
   "metadata": {},
   "outputs": [],
   "source": [
    "inputs = keras.Input(shape=(3,))\n",
    "features = layers.Dense(64,activation='relu')(inputs)\n",
    "outputs = Classifier(num_classes=10)(features)\n",
    "model = keras.Model(inputs=inputs, outputs=outputs)"
   ]
  },
  {
   "cell_type": "code",
   "execution_count": 77,
   "id": "d0de44ab-392b-4528-9875-0cc21d570f6e",
   "metadata": {},
   "outputs": [
    {
     "name": "stdout",
     "output_type": "stream",
     "text": [
      "Model: \"model_10\"\n",
      "_________________________________________________________________\n",
      "Layer (type)                 Output Shape              Param #   \n",
      "=================================================================\n",
      "inputs1 (InputLayer)         [(None, 64)]              0         \n",
      "_________________________________________________________________\n",
      "dense1 (Dense)               (None, 1)                 65        \n",
      "=================================================================\n",
      "Total params: 65\n",
      "Trainable params: 65\n",
      "Non-trainable params: 0\n",
      "_________________________________________________________________\n"
     ]
    }
   ],
   "source": [
    "# 함수형 모델 API 을 포함하는 서브클래스 모델\n",
    "inputs = keras.Input(shape=(64,),name='inputs1')\n",
    "outputs = layers.Dense(1,activation='sigmoid',name='dense1')(inputs)\n",
    "binary_classifier = keras.Model(inputs=inputs, outputs=outputs)\n",
    "binary_classifier.summary()\n",
    "        "
   ]
  },
  {
   "cell_type": "code",
   "execution_count": 78,
   "id": "d65c695b-25bf-475a-99cc-03b146b2f529",
   "metadata": {},
   "outputs": [],
   "source": [
    "class CustModel(keras.Model):\n",
    "    def __init__(self, num_class = 2):\n",
    "        super().__init__()\n",
    "        self.dense = layers.Dense(64,activation='relu', name='dense2')\n",
    "        self.classifier = binary_classifier\n",
    "    def call(self, inputs):\n",
    "        features = self.dense(inputs)\n",
    "        return self.classifier(features)\n",
    "model = CustModel()  "
   ]
  },
  {
   "cell_type": "code",
   "execution_count": 79,
   "id": "fd52da89-a2d6-4ee7-a358-0037726d9141",
   "metadata": {},
   "outputs": [
    {
     "name": "stdout",
     "output_type": "stream",
     "text": [
      "Model: \"cust_model_2\"\n",
      "_________________________________________________________________\n",
      "Layer (type)                 Output Shape              Param #   \n",
      "=================================================================\n",
      "dense2 (Dense)               multiple                  256       \n",
      "_________________________________________________________________\n",
      "model_10 (Functional)        (None, 1)                 65        \n",
      "=================================================================\n",
      "Total params: 321\n",
      "Trainable params: 321\n",
      "Non-trainable params: 0\n",
      "_________________________________________________________________\n"
     ]
    }
   ],
   "source": [
    "model.build(input_shape=(None,3))\n",
    "model.summary()"
   ]
  },
  {
   "cell_type": "code",
   "execution_count": 80,
   "id": "a0fd2271-91ed-4854-831e-fb3d66408158",
   "metadata": {},
   "outputs": [],
   "source": [
    "# 신경망의 기본 아키텍처에 사용되는 도구들\n",
    "# 기본 워크플로우 compile() , fit(), evaluate(), predict()"
   ]
  },
  {
   "cell_type": "code",
   "execution_count": 9,
   "id": "8dd57106-0fd4-4b77-8b70-f92600b7991c",
   "metadata": {},
   "outputs": [],
   "source": [
    "from tensorflow.keras.datasets import mnist\n",
    "from tensorflow.keras import layers\n",
    "def get_mnist_model():\n",
    "    # 함수형 API로 모델을  dense:512 dropout:0.5 dense:10 \n",
    "    inputs = keras.Input(shape=(28*28,)) \n",
    "    features = layers.Dense(512,activation='relu')(inputs)\n",
    "    features = layers.Dropout(0.5)(features)\n",
    "    outputs = layers.Dense(10,activation='softmax')(features)\n",
    "    model = keras.Model(inputs=inputs,outputs=outputs)\n",
    "    return model"
   ]
  },
  {
   "cell_type": "code",
   "execution_count": 85,
   "id": "a4f5d5bc-5794-4f27-a602-0931d287e454",
   "metadata": {},
   "outputs": [],
   "source": [
    "# 데이터.. train, test\n",
    "(x_train,y_train),(x_test,y_test) = mnist.load_data()\n",
    "x_train = x_train.astype('float32') / 255.\n",
    "x_test = x_test.astype('float32') / 255.\n",
    "x_train = x_train.reshape(-1,28*28)\n",
    "x_test = x_test.reshape(-1,28*28)"
   ]
  },
  {
   "cell_type": "code",
   "execution_count": 86,
   "id": "a382e462-9171-4267-93b1-b09d8740de73",
   "metadata": {},
   "outputs": [
    {
     "name": "stdout",
     "output_type": "stream",
     "text": [
      "Epoch 1/3\n",
      "1500/1500 [==============================] - 10s 6ms/step - loss: 0.2957 - acc: 0.9112 - val_loss: 0.1476 - val_acc: 0.9557\n",
      "Epoch 2/3\n",
      "1500/1500 [==============================] - 7s 4ms/step - loss: 0.1504 - acc: 0.9549 - val_loss: 0.1021 - val_acc: 0.9682\n",
      "Epoch 3/3\n",
      "1500/1500 [==============================] - 7s 4ms/step - loss: 0.1148 - acc: 0.9646 - val_loss: 0.0858 - val_acc: 0.9733\n",
      "313/313 [==============================] - 1s 4ms/step - loss: 0.0827 - acc: 0.9747\n",
      "[0.08265644311904907, 0.9746999740600586]\n"
     ]
    },
    {
     "data": {
      "text/plain": [
       "array([[6.8339551e-07, 5.1671485e-08, 4.2504412e-06, ..., 9.9993002e-01,\n",
       "        4.5224354e-08, 1.6716634e-06],\n",
       "       [1.4598739e-06, 1.3285715e-03, 9.9851722e-01, ..., 4.2965159e-10,\n",
       "        1.2568103e-05, 1.4839463e-11],\n",
       "       [1.0384670e-06, 9.9843365e-01, 1.5117475e-04, ..., 1.1334918e-03,\n",
       "        9.8121687e-05, 1.8544836e-06],\n",
       "       ...,\n",
       "       [4.3809560e-11, 4.1967372e-08, 1.7190480e-09, ..., 5.4075695e-06,\n",
       "        5.3907165e-06, 3.8209415e-05],\n",
       "       [4.2386006e-09, 1.7247677e-08, 5.9313461e-12, ..., 4.2825232e-09,\n",
       "        3.3221970e-04, 9.6902086e-10],\n",
       "       [8.3705700e-08, 2.6345293e-12, 1.9224909e-07, ..., 5.1347051e-13,\n",
       "        1.4807511e-09, 4.0092495e-11]], dtype=float32)"
      ]
     },
     "execution_count": 86,
     "metadata": {},
     "output_type": "execute_result"
    }
   ],
   "source": [
    "# 모델, \n",
    "model = get_mnist_model()\n",
    "# 기본 워크플로우 적용\n",
    "model.compile(optimizer='adam',loss = keras.losses.sparse_categorical_crossentropy,metrics=['acc'])\n",
    "model.fit(x_train,y_train,epochs=3,validation_split=0.2)\n",
    "print(model.evaluate(x_test,y_test))\n",
    "model.predict(x_test)"
   ]
  },
  {
   "cell_type": "code",
   "execution_count": 87,
   "id": "1854877d-1c93-4733-bc8f-70a088437af2",
   "metadata": {},
   "outputs": [
    {
     "data": {
      "text/plain": [
       "array([7, 2, 1, ..., 4, 5, 6], dtype=int64)"
      ]
     },
     "execution_count": 87,
     "metadata": {},
     "output_type": "execute_result"
    }
   ],
   "source": [
    "model.predict(x_test).argmax(axis=1)"
   ]
  },
  {
   "cell_type": "code",
   "execution_count": 93,
   "id": "c569cab3-efd3-41c3-a0ab-6fbce618d7ac",
   "metadata": {},
   "outputs": [],
   "source": [
    "# 상용자 정의 지표를 만들어서 평가해 보기\n",
    "import tensorflow as tf\n",
    "class RootMeanSquaredError(keras.metrics.Metric):\n",
    "    def __init__(self,name='rmse',**kwargs):\n",
    "        super().__init__(name = name,**kwargs )\n",
    "        self.mse_sum =  self.add_weight(name = 'mse_sum', initializer='zeros')\n",
    "        self.total_samples = self.add_weight(name = 'total_samples', initializer='zeros', dtype='int32')\n",
    "    def update_state(self, y_true, y_pred, sample_weight = None):\n",
    "        y_true = tf.one_hot(y_true,depth = tf.shape(y_pred)[1])\n",
    "        mse = tf.reduce_sum((y_true-y_pred)**2)\n",
    "        self.mse_sum.assign_add(mse)\n",
    "        num_samples = tf.shape(y_pred)[0]\n",
    "        self.total_samples.assign_add(num_samples)\n",
    "    def result(self):\n",
    "        return tf.sqrt(self.mse_sum / float(self.total_samples))  # 타입다르면 에러\n",
    "    def reset_state(self):\n",
    "        self.mse_sum.assign(0.)\n",
    "        self.total_samples.assign(0)\n",
    "        "
   ]
  },
  {
   "cell_type": "code",
   "execution_count": 94,
   "id": "73a0f3c5-6519-453f-8a2c-1de67412ba26",
   "metadata": {
    "tags": []
   },
   "outputs": [
    {
     "name": "stdout",
     "output_type": "stream",
     "text": [
      "Epoch 1/3\n",
      "1500/1500 [==============================] - 9s 6ms/step - loss: 0.2995 - acc: 0.9101 - rmse: 7.1227 - val_loss: 0.1291 - val_acc: 0.9632 - val_rmse: 7.3359\n",
      "Epoch 2/3\n",
      "1500/1500 [==============================] - 7s 5ms/step - loss: 0.1475 - acc: 0.9550 - rmse: 7.3049 - val_loss: 0.1026 - val_acc: 0.9676 - val_rmse: 7.3840\n",
      "Epoch 3/3\n",
      "1500/1500 [==============================] - 7s 5ms/step - loss: 0.1155 - acc: 0.9643 - rmse: 7.3464 - val_loss: 0.0859 - val_acc: 0.9743 - val_rmse: 7.4034\n",
      "313/313 [==============================] - 1s 3ms/step - loss: 0.0810 - acc: 0.9749 - rmse: 7.4015\n"
     ]
    },
    {
     "data": {
      "text/plain": [
       "[0.08101657778024673, 0.9749000072479248, 7.401517391204834]"
      ]
     },
     "execution_count": 94,
     "metadata": {},
     "output_type": "execute_result"
    }
   ],
   "source": [
    "model = get_mnist_model()\n",
    "# 기본 워크플로우 적용\n",
    "model.compile(optimizer='adam',loss = keras.losses.sparse_categorical_crossentropy,metrics=['acc', RootMeanSquaredError()])\n",
    "model.fit(x_train,y_train,epochs=3,validation_split=0.2)\n",
    "model.evaluate(x_test,y_test)\n",
    "# model.predict(x_test)"
   ]
  },
  {
   "cell_type": "code",
   "execution_count": 102,
   "id": "90b887d3-b69a-40ac-82c4-f0052884d5ca",
   "metadata": {},
   "outputs": [
    {
     "name": "stdout",
     "output_type": "stream",
     "text": [
      "Epoch 1/20\n",
      "1500/1500 [==============================] - 7s 5ms/step - loss: 0.2951 - accuracy: 0.9120 - val_loss: 0.1332 - val_accuracy: 0.9614\n",
      "Epoch 2/20\n",
      "1500/1500 [==============================] - 6s 4ms/step - loss: 0.1512 - accuracy: 0.9549 - val_loss: 0.1055 - val_accuracy: 0.9682\n",
      "Epoch 3/20\n",
      "1500/1500 [==============================] - 6s 4ms/step - loss: 0.1170 - accuracy: 0.9642 - val_loss: 0.0964 - val_accuracy: 0.9717\n",
      "Epoch 4/20\n",
      "1500/1500 [==============================] - 8s 5ms/step - loss: 0.0987 - accuracy: 0.9686 - val_loss: 0.0860 - val_accuracy: 0.9746\n",
      "Epoch 5/20\n",
      "1500/1500 [==============================] - 7s 5ms/step - loss: 0.0870 - accuracy: 0.9722 - val_loss: 0.0801 - val_accuracy: 0.9776\n",
      "Epoch 6/20\n",
      "1500/1500 [==============================] - 8s 5ms/step - loss: 0.0762 - accuracy: 0.9759 - val_loss: 0.0770 - val_accuracy: 0.9781\n",
      "Epoch 7/20\n",
      "1500/1500 [==============================] - 10s 7ms/step - loss: 0.0696 - accuracy: 0.9776 - val_loss: 0.0781 - val_accuracy: 0.9781\n",
      "Epoch 8/20\n",
      "1500/1500 [==============================] - 8s 5ms/step - loss: 0.0618 - accuracy: 0.9791 - val_loss: 0.0775 - val_accuracy: 0.9783\n",
      "Epoch 9/20\n",
      "1500/1500 [==============================] - 5s 4ms/step - loss: 0.0592 - accuracy: 0.9809 - val_loss: 0.0765 - val_accuracy: 0.9793\n",
      "Epoch 10/20\n",
      "1500/1500 [==============================] - 10s 7ms/step - loss: 0.0544 - accuracy: 0.9828 - val_loss: 0.0833 - val_accuracy: 0.9785\n",
      "Epoch 11/20\n",
      "1500/1500 [==============================] - 8s 5ms/step - loss: 0.0528 - accuracy: 0.9827 - val_loss: 0.0763 - val_accuracy: 0.9803\n",
      "Epoch 12/20\n",
      "1500/1500 [==============================] - 8s 5ms/step - loss: 0.0487 - accuracy: 0.9838 - val_loss: 0.0793 - val_accuracy: 0.9812\n",
      "Epoch 13/20\n",
      "1500/1500 [==============================] - 7s 5ms/step - loss: 0.0464 - accuracy: 0.9848 - val_loss: 0.0842 - val_accuracy: 0.9784\n",
      "Epoch 14/20\n",
      "1500/1500 [==============================] - 8s 5ms/step - loss: 0.0459 - accuracy: 0.9849 - val_loss: 0.0773 - val_accuracy: 0.9806\n"
     ]
    },
    {
     "data": {
      "text/plain": [
       "<tensorflow.python.keras.callbacks.History at 0x208ecb91d30>"
      ]
     },
     "execution_count": 102,
     "metadata": {},
     "output_type": "execute_result"
    }
   ],
   "source": [
    "# 콜벡함수.... EarylyStopping, \n",
    "# ModelCheckPoint\n",
    "callback_list = [\n",
    "    keras.callbacks.EarlyStopping(\n",
    "        monitor='val_accuracy',patience=2, mode='max'\n",
    "    ),\n",
    "    keras.callbacks.ModelCheckpoint(\n",
    "        filepath='checkpoint.keras',\n",
    "        save_best_only=True,\n",
    "        monitor = 'val_accuracy',\n",
    "        mode='max'\n",
    "    )    \n",
    "]\n",
    "model = get_mnist_model()\n",
    "model.compile(optimizer='adam',loss = keras.losses.sparse_categorical_crossentropy,metrics=['accuracy'])\n",
    "model.fit(x_train,y_train,epochs=20,validation_split=0.2, callbacks=callback_list)"
   ]
  },
  {
   "cell_type": "code",
   "execution_count": 103,
   "id": "23d34560-7a90-4175-9896-d1dfe0880122",
   "metadata": {},
   "outputs": [],
   "source": [
    "best_model = tf.keras.models.load_model('checkpoint.keras')"
   ]
  },
  {
   "cell_type": "code",
   "execution_count": 104,
   "id": "6fa9fe0e-03cd-44eb-a7b6-397b5ce4b49b",
   "metadata": {},
   "outputs": [
    {
     "name": "stdout",
     "output_type": "stream",
     "text": [
      "313/313 [==============================] - 1s 2ms/step - loss: 0.0723 - accuracy: 0.9817\n"
     ]
    },
    {
     "data": {
      "text/plain": [
       "[0.0722610130906105, 0.9817000031471252]"
      ]
     },
     "execution_count": 104,
     "metadata": {},
     "output_type": "execute_result"
    }
   ],
   "source": [
    "model.evaluate(x_test,y_test)"
   ]
  },
  {
   "cell_type": "code",
   "execution_count": 105,
   "id": "e0bd0ef2-8879-48b1-838f-6b1529b89f50",
   "metadata": {},
   "outputs": [
    {
     "name": "stdout",
     "output_type": "stream",
     "text": [
      "313/313 [==============================] - 1s 4ms/step - loss: 0.0686 - accuracy: 0.9825\n"
     ]
    },
    {
     "data": {
      "text/plain": [
       "[0.06855016201734543, 0.9825000166893005]"
      ]
     },
     "execution_count": 105,
     "metadata": {},
     "output_type": "execute_result"
    }
   ],
   "source": [
    "best_model.evaluate(x_test,y_test)"
   ]
  },
  {
   "cell_type": "code",
   "execution_count": 1,
   "id": "a0d40e8f-89e3-4454-afd7-baf750574232",
   "metadata": {},
   "outputs": [],
   "source": [
    "# 사용자 정의 콜백 만들기\n",
    "# Callback 클래스를 상속받아서 생성"
   ]
  },
  {
   "cell_type": "code",
   "execution_count": 4,
   "id": "02c8341e-cf78-4b10-be86-6cfae56515bc",
   "metadata": {},
   "outputs": [],
   "source": [
    "import matplotlib.pyplot as plt\n",
    "import tensorflow.kerasras as keras"
   ]
  },
  {
   "cell_type": "code",
   "execution_count": 5,
   "id": "2641c183-169f-4450-92f3-252238309f1d",
   "metadata": {},
   "outputs": [],
   "source": [
    "class LossHistory(keras.callbacks.Callback):\n",
    "    def on_train_begin(self, logs):\n",
    "        self.per_batch_losses = []\n",
    "    def on_batch_end(self, batch, logs):\n",
    "        self.per_batch_losses.append(logs.get('loss'))\n",
    "    def on_epoch_end(self, epoch,logs):\n",
    "        plt.clf()\n",
    "        plt.plot(range(len(self.per_batch_losses)), self.per_batch_losses, label = 'Training loss for each batch')\n",
    "        plt.xlabel(f\"Batch (epoch {epoch})\")\n",
    "        plt.ylabel(\"Loss\")\n",
    "        plt.legend()\n",
    "        plt.savefig(f\"plot_epoch_{epoch}\")\n",
    "        self.per_batch_losses = []                 "
   ]
  },
  {
   "cell_type": "code",
   "execution_count": 13,
   "id": "6abb400c-51c5-45a9-9ec6-9af43ea20286",
   "metadata": {},
   "outputs": [
    {
     "name": "stdout",
     "output_type": "stream",
     "text": [
      "Epoch 1/10\n",
      "   6/1500 [..............................] - ETA: 15s - loss: 2.1455 - acc: 0.2552    WARNING:tensorflow:Callback method `on_train_batch_end` is slow compared to the batch time (batch time: 0.0022s vs `on_train_batch_end` time: 0.0074s). Check your callbacks.\n",
      "1500/1500 [==============================] - 15s 5ms/step - loss: 0.2963 - acc: 0.9121 - val_loss: 0.1321 - val_acc: 0.9616\n",
      "Epoch 2/10\n",
      "1500/1500 [==============================] - 7s 5ms/step - loss: 0.1484 - acc: 0.9550 - val_loss: 0.1031 - val_acc: 0.9705\n",
      "Epoch 3/10\n",
      "1500/1500 [==============================] - 6s 4ms/step - loss: 0.1141 - acc: 0.9649 - val_loss: 0.0849 - val_acc: 0.9734\n",
      "Epoch 4/10\n",
      "1500/1500 [==============================] - 7s 4ms/step - loss: 0.0945 - acc: 0.9701 - val_loss: 0.0851 - val_acc: 0.9748\n",
      "Epoch 5/10\n",
      "1500/1500 [==============================] - 6s 4ms/step - loss: 0.0840 - acc: 0.9739 - val_loss: 0.0839 - val_acc: 0.9768\n",
      "Epoch 6/10\n",
      "1500/1500 [==============================] - 7s 5ms/step - loss: 0.0771 - acc: 0.9756 - val_loss: 0.0832 - val_acc: 0.9769\n",
      "Epoch 7/10\n",
      "1500/1500 [==============================] - 7s 5ms/step - loss: 0.0675 - acc: 0.9786 - val_loss: 0.0783 - val_acc: 0.9773\n",
      "Epoch 8/10\n",
      "1500/1500 [==============================] - 6s 4ms/step - loss: 0.0615 - acc: 0.9803 - val_loss: 0.0793 - val_acc: 0.9779\n",
      "Epoch 9/10\n",
      "1500/1500 [==============================] - 7s 5ms/step - loss: 0.0588 - acc: 0.9811 - val_loss: 0.0737 - val_acc: 0.9802\n",
      "Epoch 10/10\n",
      "1500/1500 [==============================] - 9s 6ms/step - loss: 0.0536 - acc: 0.9833 - val_loss: 0.0797 - val_acc: 0.9786\n"
     ]
    },
    {
     "data": {
      "text/plain": [
       "<tensorflow.python.keras.callbacks.History at 0x1ae742d9e80>"
      ]
     },
     "execution_count": 13,
     "metadata": {},
     "output_type": "execute_result"
    },
    {
     "data": {
      "image/png": "[encoded data removed]",
      "text/plain": [
       "<Figure size 640x480 with 1 Axes>"
      ]
     },
     "metadata": {},
     "output_type": "display_data"
    }
   ],
   "source": [
    "model = get_mnist_model()\n",
    "model.compile(optimizer='adam', loss=\"sparse_categorical_crossentropy\", metrics=['acc'])\n",
    "model.fit(x_train,y_train,epochs=10, callbacks=[LossHistory()], validation_split=0.2)\n"
   ]
  },
  {
   "cell_type": "code",
   "execution_count": 14,
   "id": "b0fa6123-91fe-4782-9938-e8f7f53c709d",
   "metadata": {},
   "outputs": [
    {
     "name": "stdout",
     "output_type": "stream",
     "text": [
      "Epoch 1/10\n",
      "1500/1500 [==============================] - 7s 4ms/step - loss: 0.2973 - acc: 0.9109 - val_loss: 0.1437 - val_acc: 0.9572\n",
      "Epoch 2/10\n",
      "1500/1500 [==============================] - 7s 5ms/step - loss: 0.1505 - acc: 0.9548 - val_loss: 0.1070 - val_acc: 0.9692\n",
      "Epoch 3/10\n",
      "1500/1500 [==============================] - 7s 5ms/step - loss: 0.1148 - acc: 0.9646 - val_loss: 0.0905 - val_acc: 0.9724\n",
      "Epoch 4/10\n",
      "1500/1500 [==============================] - 12s 8ms/step - loss: 0.0966 - acc: 0.9683 - val_loss: 0.0846 - val_acc: 0.9743\n",
      "Epoch 5/10\n",
      "1500/1500 [==============================] - 11s 7ms/step - loss: 0.0842 - acc: 0.9731 - val_loss: 0.0863 - val_acc: 0.9749\n",
      "Epoch 6/10\n",
      "1500/1500 [==============================] - 9s 6ms/step - loss: 0.0751 - acc: 0.9756 - val_loss: 0.0792 - val_acc: 0.9764\n",
      "Epoch 7/10\n",
      "1500/1500 [==============================] - 9s 6ms/step - loss: 0.0684 - acc: 0.9777 - val_loss: 0.0788 - val_acc: 0.9773\n",
      "Epoch 8/10\n",
      "1500/1500 [==============================] - 7s 5ms/step - loss: 0.0637 - acc: 0.9791 - val_loss: 0.0786 - val_acc: 0.9779\n",
      "Epoch 9/10\n",
      "1500/1500 [==============================] - 6s 4ms/step - loss: 0.0577 - acc: 0.9817 - val_loss: 0.0760 - val_acc: 0.9803\n",
      "Epoch 10/10\n",
      "1500/1500 [==============================] - 6s 4ms/step - loss: 0.0540 - acc: 0.9829 - val_loss: 0.0753 - val_acc: 0.9785\n"
     ]
    },
    {
     "data": {
      "text/plain": [
       "<tensorflow.python.keras.callbacks.History at 0x1aee93d5820>"
      ]
     },
     "execution_count": 14,
     "metadata": {},
     "output_type": "execute_result"
    }
   ],
   "source": [
    "# 텐서보드를 사용한 시각화\n",
    "model = get_mnist_model()\n",
    "model.compile(optimizer='adam', loss=\"sparse_categorical_crossentropy\", metrics=['acc'])\n",
    "tensorboard = keras.callbacks.TensorBoard(\n",
    "    log_dir = './tb_logs'\n",
    ")\n",
    "model.fit(x_train,y_train,epochs=10, callbacks=[tensorboard], validation_split=0.2)"
   ]
  },
  {
   "cell_type": "code",
   "execution_count": 15,
   "id": "aa24995c-6c8d-412e-a8c0-ccb44a345a18",
   "metadata": {},
   "outputs": [
    {
     "data": {
      "text/html": [
       "\n",
       "      <iframe id=\"tensorboard-frame-4d9e52f26ee7449\" width=\"100%\" height=\"800\" frameborder=\"0\">\n",
       "      </iframe>\n",
       "      <script>\n",
       "        (function() {\n",
       "          const frame = document.getElementById(\"tensorboard-frame-4d9e52f26ee7449\");\n",
       "          const url = new URL(\"/\", window.location);\n",
       "          const port = 6006;\n",
       "          if (port) {\n",
       "            url.port = port;\n",
       "          }\n",
       "          frame.src = url;\n",
       "        })();\n",
       "      </script>\n",
       "    "
      ],
      "text/plain": [
       "<IPython.core.display.HTML object>"
      ]
     },
     "metadata": {},
     "output_type": "display_data"
    }
   ],
   "source": [
    "%load_ext tensorboard\n",
    "%tensorboard --logdir ./tb_logs"
   ]
  },
  {
   "cell_type": "code",
   "execution_count": 16,
   "id": "3b001b52-8105-406d-ab25-cf120d5e011b",
   "metadata": {},
   "outputs": [],
   "source": [
    "# 측정지표 확인하기"
   ]
  },
  {
   "cell_type": "code",
   "execution_count": 101,
   "id": "c327e07a-7c42-48b7-b24c-1d944106f36e",
   "metadata": {},
   "outputs": [
    {
     "name": "stdout",
     "output_type": "stream",
     "text": [
      "0.67\n"
     ]
    },
    {
     "data": {
      "text/plain": [
       "'sparse_categorical_accuracy'"
      ]
     },
     "execution_count": 101,
     "metadata": {},
     "output_type": "execute_result"
    }
   ],
   "source": [
    "# 저수준 API 로 사용해 보기  훈련\n",
    "metrics = keras.metrics.SparseCategoricalAccuracy()\n",
    "target = [0,1,3]\n",
    "predictions = [\n",
    "    [1,0,0],[0,1,0],[0,0,1]\n",
    "]\n",
    "metrics.update_state(target,predictions)\n",
    "print(f\"{metrics.result():.2f}\")\n",
    "metrics.name"
   ]
  },
  {
   "cell_type": "code",
   "execution_count": 102,
   "id": "0e4e81dd-dc86-4426-b0a6-711fd5d35cc6",
   "metadata": {},
   "outputs": [
    {
     "name": "stdout",
     "output_type": "stream",
     "text": [
      "2.00\n"
     ]
    }
   ],
   "source": [
    "# 평가용 저수준 API\n",
    "values = [0,1,2,3,4]\n",
    "mean_trace =  keras.metrics.Mean()\n",
    "for val in values:\n",
    "    mean_trace.update_state(val)    \n",
    "print(f\"{mean_trace.result():.2f}\") "
   ]
  },
  {
   "cell_type": "code",
   "execution_count": 103,
   "id": "8975cbf1-ab4a-4924-b812-5a043d8b6161",
   "metadata": {},
   "outputs": [],
   "source": [
    "# 훈련 스텝함수"
   ]
  },
  {
   "cell_type": "code",
   "execution_count": 104,
   "id": "6c243336-def0-47b7-821d-7ff11fc7f6e3",
   "metadata": {},
   "outputs": [],
   "source": [
    "model = get_mnist_model()\n",
    "loss_fn =  keras.losses.SparseCategoricalCrossentropy()\n",
    "optimizer = keras.optimizers.Adam()\n",
    "metrics = [keras.metrics.SparseCategoricalAccuracy()]\n",
    "loss_tracking_metric = keras.metrics.Mean()"
   ]
  },
  {
   "cell_type": "code",
   "execution_count": 105,
   "id": "486a4f1e-f198-4187-bcb8-62a96449e720",
   "metadata": {},
   "outputs": [],
   "source": [
    "# 단계별 훈련 지표 \n",
    "import tensorflow as tf\n",
    "def train_step(inputs, targets):\n",
    "    with tf.GradientTape() as tape:\n",
    "        predictions =  model(inputs,training=True)\n",
    "        loss = loss_fn(targets,predictions)\n",
    "    gradients =  tape.gradient(loss, model.trainable_weights)\n",
    "    optimizer.apply_gradients(zip(gradients,model.trainable_weights))\n",
    "    \n",
    "    logs = {}\n",
    "    for metric in metrics:\n",
    "        metric.update_state(targets,predictions)\n",
    "        logs[metric.name] = metric.result()\n",
    "    \n",
    "    loss_tracking_metric.update_state(loss)\n",
    "    logs['loss'] = loss_tracking_metric.result()\n",
    "    return logs    "
   ]
  },
  {
   "cell_type": "code",
   "execution_count": 106,
   "id": "4c1f70ac-0464-422d-98e0-633da5d3ee60",
   "metadata": {},
   "outputs": [],
   "source": [
    "# reset\n",
    "def reset_metric():\n",
    "    for metric in metrics:\n",
    "        metric.reset_state()\n",
    "    loss_tracking_metric.reset_state()"
   ]
  },
  {
   "cell_type": "code",
   "execution_count": 107,
   "id": "0771eaff-44f9-480a-9ed2-9c5ca720fb26",
   "metadata": {},
   "outputs": [],
   "source": [
    "# step 별로 훈련하기"
   ]
  },
  {
   "cell_type": "code",
   "execution_count": 108,
   "id": "3e4c0402-53b2-4ed0-9ae2-19b7efefee9b",
   "metadata": {},
   "outputs": [
    {
     "data": {
      "text/plain": [
       "((60000, 784), (60000,))"
      ]
     },
     "execution_count": 108,
     "metadata": {},
     "output_type": "execute_result"
    }
   ],
   "source": [
    "x_train.shape,y_train.shape"
   ]
  },
  {
   "cell_type": "code",
   "execution_count": 109,
   "id": "064dbe73-bf52-4943-be3e-a2c32cf39792",
   "metadata": {},
   "outputs": [],
   "source": [
    "train_dataset =  tf.data.Dataset.from_tensor_slices( (x_train,y_train) )"
   ]
  },
  {
   "cell_type": "code",
   "execution_count": 110,
   "id": "52d447d9-a421-404d-b198-f128ae2f0c7f",
   "metadata": {},
   "outputs": [],
   "source": [
    "train_dataset = train_dataset.batch(32)"
   ]
  },
  {
   "cell_type": "code",
   "execution_count": 111,
   "id": "dca29167-ea00-469f-9728-60316913d0fa",
   "metadata": {},
   "outputs": [
    {
     "data": {
      "text/plain": [
       "<BatchDataset shapes: ((None, 784), (None,)), types: (tf.float64, tf.uint8)>"
      ]
     },
     "execution_count": 111,
     "metadata": {},
     "output_type": "execute_result"
    }
   ],
   "source": [
    "train_dataset"
   ]
  },
  {
   "cell_type": "code",
   "execution_count": 112,
   "id": "e78a81d5-d87e-42f2-9c0a-f798839d6540",
   "metadata": {},
   "outputs": [
    {
     "name": "stdout",
     "output_type": "stream",
     "text": [
      "1875\n"
     ]
    }
   ],
   "source": [
    "count = 0\n",
    "for xb,yb in  train_dataset:\n",
    "    count += 1\n",
    "    # print(xb.shape, yb.shape)\n",
    "print(count)    \n",
    "    "
   ]
  },
  {
   "cell_type": "code",
   "execution_count": 114,
   "id": "21b3acb6-d938-4a74-9935-1ac36946c513",
   "metadata": {},
   "outputs": [
    {
     "name": "stdout",
     "output_type": "stream",
     "text": [
      "Help on function call in module tensorflow.python.keras.engine.training:\n",
      "\n",
      "call(self, inputs, training=None, mask=None)\n",
      "    Calls the model on new inputs.\n",
      "    \n",
      "    In this case `call` just reapplies\n",
      "    all ops in the graph to the new inputs\n",
      "    (e.g. build a new computational graph from the provided inputs).\n",
      "    \n",
      "    Note: This method should not be called directly. It is only meant to be\n",
      "    overridden when subclassing `tf.keras.Model`.\n",
      "    To call a model on an input, always use the `__call__` method,\n",
      "    i.e. `model(inputs)`, which relies on the underlying `call` method.\n",
      "    \n",
      "    Args:\n",
      "        inputs: A tensor or list of tensors.\n",
      "        training: Boolean or boolean scalar tensor, indicating whether to run\n",
      "          the `Network` in training mode or inference mode.\n",
      "        mask: A mask or list of masks. A mask can be\n",
      "            either a tensor or None (no mask).\n",
      "    \n",
      "    Returns:\n",
      "        A tensor if there is a single output, or\n",
      "        a list of tensors if there are more than one outputs.\n",
      "\n"
     ]
    }
   ],
   "source": [
    "help(tf.keras.Model.call)"
   ]
  },
  {
   "cell_type": "code",
   "execution_count": null,
   "id": "99c41b55-c74a-4ab2-80dc-ca897903c767",
   "metadata": {},
   "outputs": [],
   "source": [
    "\n",
    "epochs = 3\n",
    "for epoch in range(epochs):\n",
    "    reset_metric()\n",
    "    for x_train_batch,y_train_batch in train_dataset:\n",
    "        # print(x_train_batch.shape, y_train_batch.shape)\n",
    "        logs = train_step(x_train_batch,y_train_batch)\n",
    "    print(f\"{epoch} 번째 결과 \")\n",
    "    for key, value in  logs.items():\n",
    "        print(f\"{key} : {value:.4f}\")"
   ]
  },
  {
   "cell_type": "code",
   "execution_count": 115,
   "id": "b04593ad-1f1e-41af-9afa-1fbbb3481f01",
   "metadata": {},
   "outputs": [],
   "source": [
    "# 단계별 평가 지표 "
   ]
  },
  {
   "cell_type": "code",
   "execution_count": 122,
   "id": "d0cc453b-585b-482c-983a-de2074b8b827",
   "metadata": {},
   "outputs": [],
   "source": [
    "def test_step(inputs, targets):\n",
    "    predictions = model(inputs, training=False)\n",
    "    loss = loss_fn(targets, predictions)\n",
    "    # 기울기를 계산하고 optimizer통해 오류 역전파알고리즘으로 적용하는 과정 불 필요\n",
    "    logs = {}\n",
    "    for metric in metrics:\n",
    "        metric.update_state(targets,predictions)\n",
    "        logs['val_'+metric.name] = metric.result()\n",
    "    \n",
    "    loss_tracking_metric.update_state(loss)\n",
    "    logs['val_loss'] = loss_tracking_metric.result()\n",
    "    return logs "
   ]
  },
  {
   "cell_type": "code",
   "execution_count": 129,
   "id": "5634d8fb-27ea-4225-b87e-522b6bddb954",
   "metadata": {},
   "outputs": [
    {
     "name": "stdout",
     "output_type": "stream",
     "text": [
      "평가 결과 \n",
      "val_sparse_categorical_accuracy : 0.9796\n",
      "val_loss : 0.0693\n"
     ]
    }
   ],
   "source": [
    "test_dataset =  tf.data.Dataset.from_tensor_slices( (x_test,y_test) )\n",
    "test_dataset = test_dataset.batch(32)\n",
    "reset_metric()\n",
    "for x_test_batch,y_test_batch in test_dataset:    \n",
    "    logs = test_step(x_test_batch,y_test_batch)\n",
    "print(f\"평가 결과 \")\n",
    "for key, value in  logs.items():\n",
    "    print(f\"{key} : {value:.4f}\")\n",
    "    "
   ]
  },
  {
   "cell_type": "code",
   "execution_count": 133,
   "id": "db4c6f37-d5c4-4c3c-b0c8-6a742aca060a",
   "metadata": {},
   "outputs": [
    {
     "name": "stdout",
     "output_type": "stream",
     "text": [
      "평가 결과 \n",
      "val_sparse_categorical_accuracy : 0.9783\n",
      "val_loss : 0.0725\n"
     ]
    }
   ],
   "source": [
    "import tensorflow as tf\n",
    "# 훈련스텝 성능 향상\n",
    "# @tf.function --> 단지 이것만 함수위에 정의하면 텐서플로우내에서 로직을 분할해서 최적화 를 자동으로 실행\n",
    "@tf.function\n",
    "def test_step(inputs, targets):\n",
    "    predictions = model(inputs, training=False)\n",
    "    loss = loss_fn(targets, predictions)\n",
    "    # 기울기를 계산하고 optimizer통해 오류 역전파알고리즘으로 적용하는 과정 불 필요\n",
    "    logs = {}\n",
    "    for metric in metrics:\n",
    "        metric.update_state(targets,predictions)\n",
    "        logs['val_'+metric.name] = metric.result()\n",
    "    \n",
    "    loss_tracking_metric.update_state(loss)\n",
    "    logs['val_loss'] = loss_tracking_metric.result()\n",
    "    return logs \n",
    "\n",
    "test_dataset =  tf.data.Dataset.from_tensor_slices( (x_test,y_test) )\n",
    "test_dataset = test_dataset.batch(32)\n",
    "reset_metric()\n",
    "for x_test_batch,y_test_batch in test_dataset:    \n",
    "    logs = test_step(x_test_batch,y_test_batch)\n",
    "print(f\"평가 결과 \")\n",
    "for key, value in  logs.items():\n",
    "    print(f\"{key} : {value:.4f}\")"
   ]
  },
  {
   "cell_type": "code",
   "execution_count": 134,
   "id": "dffe62c9-bdf4-4645-9398-6190615908bd",
   "metadata": {},
   "outputs": [],
   "source": [
    "# fit을 이용한 훈련 루프 설계하기"
   ]
  },
  {
   "cell_type": "code",
   "execution_count": 182,
   "id": "7a44a86a-7a2d-4aca-8fd2-68e8390ea75e",
   "metadata": {},
   "outputs": [],
   "source": [
    "# keras.losses.SparseCategoricalCrossentropy() 클래스\n",
    "# keras.losses.sparse_categorical_crossentropy  함수자체\n",
    "\n",
    "loss_fn = keras.losses.SparseCategoricalCrossentropy()  # 객체\n",
    "loss_tracker = keras.metrics.Mean(name='loss')\n",
    "class CustomModel(keras.Model):    \n",
    "    def train_step(self,data):  # data는 dataset형태.. (data, lavel)        \n",
    "        inputs, targets = data        \n",
    "        with tf.GradientTape() as tape:\n",
    "            predictions = self(inputs, training = True)\n",
    "            loss = loss_fn(targets,predictions)        \n",
    "        gradients = tape.gradient(loss, self.trainable_weights)        \n",
    "        self.optimizer.apply_gradients(zip(gradients,model.trainable_weights))        \n",
    "        \n",
    "        loss_tracker.update_state(loss)        \n",
    "        return {\"loss\" : loss_tracker.result()}\n",
    "    @property\n",
    "    def metrics(self):\n",
    "        return [loss_tracker]"
   ]
  },
  {
   "cell_type": "code",
   "execution_count": 183,
   "id": "5bd76ffc-fed0-47f9-b441-43f0632fc3f4",
   "metadata": {
    "tags": []
   },
   "outputs": [
    {
     "name": "stdout",
     "output_type": "stream",
     "text": [
      "Epoch 1/3\n",
      "1875/1875 [==============================] - 7s 3ms/step - loss: 0.2683\n",
      "Epoch 2/3\n",
      "1875/1875 [==============================] - 8s 4ms/step - loss: 0.1374\n",
      "Epoch 3/3\n",
      "1875/1875 [==============================] - 9s 5ms/step - loss: 0.1056\n"
     ]
    },
    {
     "data": {
      "text/plain": [
       "<tensorflow.python.keras.callbacks.History at 0x1ae75f89c40>"
      ]
     },
     "execution_count": 183,
     "metadata": {},
     "output_type": "execute_result"
    }
   ],
   "source": [
    "inputs = keras.Input(shape=(28*28))\n",
    "features =  keras.layers.Dense(512,activation='relu')(inputs)\n",
    "features = keras.layers.Dropout(0.5)(features)\n",
    "outputs =  keras.layers.Dense(10,activation='softmax')(features)\n",
    "\n",
    "model = CustomModel(inputs,outputs)\n",
    "\n",
    "model.compile(optimizer=\"adam\")\n",
    "model.fit(x_train,y_train,epochs=3)"
   ]
  },
  {
   "cell_type": "code",
   "execution_count": 191,
   "id": "18dce2f5-ecae-4ba1-b537-1e5d191d43ca",
   "metadata": {},
   "outputs": [],
   "source": [
    "# metric 계열의 loss 하고 accuracy를 전달해서 \n",
    "# self.metrics로 출력\n",
    "\n",
    "class CustomModel(keras.Model):\n",
    "    def train_step(self, data):\n",
    "        inputs, targets = data\n",
    "        with tf.GradientTape() as tape:\n",
    "            predictions = self(inputs, training=True)\n",
    "            loss = self.compiled_loss(targets, predictions)\n",
    "        gradients = tape.gradient(loss, self.trainable_weights)\n",
    "        self.optimizer.apply_gradients(zip(gradients, self.trainable_weights))\n",
    "        self.compiled_metrics.update_state(targets, predictions)\n",
    "        return {m.name: m.result() for m in self.metrics}"
   ]
  },
  {
   "cell_type": "code",
   "execution_count": null,
   "id": "853bade0-b896-4eee-823e-7d4625735548",
   "metadata": {},
   "outputs": [
    {
     "name": "stdout",
     "output_type": "stream",
     "text": [
      "Epoch 1/3\n",
      "1635/1875 [=========================>....] - ETA: 1s - loss: 0.2891 - sparse_categorical_accuracy: 0.9155"
     ]
    }
   ],
   "source": [
    "inputs = keras.Input(shape=(28 * 28,))\n",
    "features = layers.Dense(512, activation=\"relu\")(inputs)\n",
    "features = layers.Dropout(0.5)(features)\n",
    "outputs = layers.Dense(10, activation=\"softmax\")(features)\n",
    "model = CustomModel(inputs, outputs)\n",
    "\n",
    "model.compile(optimizer=keras.optimizers.RMSprop(),\n",
    "              loss=keras.losses.SparseCategoricalCrossentropy(),\n",
    "              metrics=[keras.metrics.SparseCategoricalAccuracy()])\n",
    "model.fit(x_train, y_train, epochs=3)\n"
   ]
  },
  {
   "cell_type": "code",
   "execution_count": null,
   "id": "e69a2609-2a23-48fc-931e-907ce6e0ff7b",
   "metadata": {},
   "outputs": [],
   "source": []
  }
 ],
 "metadata": {
  "kernelspec": {
   "display_name": "Python 3 (ipykernel)",
   "language": "python",
   "name": "python3"
  },
  "language_info": {
   "codemirror_mode": {
    "name": "ipython",
    "version": 3
   },
   "file_extension": ".py",
   "mimetype": "text/x-python",
   "name": "python",
   "nbconvert_exporter": "python",
   "pygments_lexer": "ipython3",
   "version": "3.9.15"
  }
 },
 "nbformat": 4,
 "nbformat_minor": 5
}

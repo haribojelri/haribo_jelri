{
 "cells": [
  {
   "cell_type": "code",
   "execution_count": 1,
   "id": "36a3b483",
   "metadata": {},
   "outputs": [],
   "source": [
    "from common import *"
   ]
  },
  {
   "cell_type": "code",
   "execution_count": 2,
   "id": "6fc1b509",
   "metadata": {},
   "outputs": [],
   "source": [
    "# 2층 신경망 구현"
   ]
  },
  {
   "cell_type": "code",
   "execution_count": 3,
   "id": "a00a604f-f0b3-4d35-9128-65ce0e75c108",
   "metadata": {},
   "outputs": [],
   "source": [
    "import numpy as np\n",
    "class TwoLayer:\n",
    "    def __init__(self, input_size, hidden_size,output_size,weight_init_std = 0.01):\n",
    "        # 가중치 초기화\n",
    "        self.params ={}  # 신경망의 매개변수 보관\n",
    "        self.params['w1'] = weight_init_std * np.random.randn(input_size,hidden_size)\n",
    "        self.params['b1'] = np.zeros(hidden_size)\n",
    "        self.params['w2'] = weight_init_std * np.random.randn(hidden_size,output_size)\n",
    "        self.params['b2'] = np.zeros(output_size)\n",
    "    def predict(self,x):  # 예측 즉 추론\n",
    "        w1,w2 = self.params['w1'],self.params['w2']\n",
    "        b1,b2 = self.params['b1'], self.params['b2']\n",
    "        a1 = np.dot(x,w1)+b1\n",
    "        z1 = sigmoid(a1)\n",
    "        a2 = np.dot(z1,w2)+b2\n",
    "        y = softmax(a2)\n",
    "        return y\n",
    "    # 손실함수\n",
    "    def loss(self, x, t):\n",
    "        y = self.predict(x)\n",
    "        return cross_entropy_error(y,t)  # 원핫인코딩\n",
    "    # 정확률\n",
    "    def accuracy(self, x, t):\n",
    "        y = self.predict(x)\n",
    "        y = np.argmax(y, axis=1)\n",
    "        t = np.argmax(t, axis=1)\n",
    "        accuracy = np.sum(y==t) / x.shape[0]\n",
    "        return accuracy\n",
    "    # 기울기\n",
    "    def numeric_gradient(self, x, t):\n",
    "        loss_w = lambda w : self.loss(x,t)\n",
    "        grads = {}\n",
    "        grads['w1'] = numeric_gradient(loss_w,self.params['w1'])\n",
    "        grads['b1'] = numeric_gradient(loss_w,self.params['b1'])\n",
    "        grads['w2'] = numeric_gradient(loss_w,self.params['w2'])\n",
    "        grads['b2'] = numeric_gradient(loss_w,self.params['b2'])\n",
    "        return grads"
   ]
  },
  {
   "cell_type": "code",
   "execution_count": 4,
   "id": "8fdd8ff7-6f9b-4413-ab00-05ba84f1d3b0",
   "metadata": {},
   "outputs": [],
   "source": [
    "# 미니배치 학습 구현  \n",
    "# 데이터 준비\n",
    "from tensorflow.keras.datasets import mnist\n",
    "from tensorflow.keras.utils import to_categorical\n",
    "(x_train,y_train),(x_test,y_test) =  mnist.load_data()\n",
    "x_train = (x_train / 255.).reshape(-1,28*28)\n",
    "x_test = (x_test / 255.).reshape(-1,28*28)\n",
    "y_train = to_categorical(y_train,10)\n",
    "y_test = to_categorical(y_test,10)\n",
    "# 전처리 x y(onehot)"
   ]
  },
  {
   "cell_type": "code",
   "execution_count": 28,
   "id": "cf4692a0-ff2c-446c-bcec-1142bd55f139",
   "metadata": {},
   "outputs": [],
   "source": [
    "# 하이퍼 파라메터\n",
    "epoch = 100\n",
    "train_size = x_train.shape[0]\n",
    "batch_size = 100\n",
    "learning_late = 0.1"
   ]
  },
  {
   "cell_type": "code",
   "execution_count": 31,
   "id": "a88d1a52-6714-4da9-8ba4-e642b17fe75e",
   "metadata": {},
   "outputs": [
    {
     "data": {
      "text/plain": [
       "(10000, 784)"
      ]
     },
     "execution_count": 31,
     "metadata": {},
     "output_type": "execute_result"
    }
   ],
   "source": [
    "x_train[:10000]"
   ]
  },
  {
   "cell_type": "code",
   "execution_count": 29,
   "id": "dcc53f91-09af-4e6b-9bd3-ffc5d3e2f25d",
   "metadata": {
    "tags": []
   },
   "outputs": [
    {
     "name": "stderr",
     "output_type": "stream",
     "text": [
      "  2%|█▋                                                                                | 2/100 [00:43<35:47, 21.92s/it]\n"
     ]
    },
    {
     "ename": "KeyboardInterrupt",
     "evalue": "",
     "output_type": "error",
     "traceback": [
      "\u001b[1;31m---------------------------------------------------------------------------\u001b[0m",
      "\u001b[1;31mKeyboardInterrupt\u001b[0m                         Traceback (most recent call last)",
      "Cell \u001b[1;32mIn [29], line 11\u001b[0m\n\u001b[0;32m      8\u001b[0m y_batch \u001b[38;5;241m=\u001b[39m y_train[batch_idx]\n\u001b[0;32m     10\u001b[0m \u001b[38;5;66;03m# 기울기 계산 : 미분을 대신해서 수치적으로 계산 --> 텐서에서 자동미분으로 대체예정\u001b[39;00m\n\u001b[1;32m---> 11\u001b[0m grad \u001b[38;5;241m=\u001b[39m \u001b[43mnetwork\u001b[49m\u001b[38;5;241;43m.\u001b[39;49m\u001b[43mnumeric_gradient\u001b[49m\u001b[43m(\u001b[49m\u001b[43mx_batch\u001b[49m\u001b[43m,\u001b[49m\u001b[43my_batch\u001b[49m\u001b[43m)\u001b[49m\n\u001b[0;32m     13\u001b[0m \u001b[38;5;66;03m# 매개변수 갱신\u001b[39;00m\n\u001b[0;32m     14\u001b[0m \u001b[38;5;28;01mfor\u001b[39;00m key \u001b[38;5;129;01min\u001b[39;00m (\u001b[38;5;124m'\u001b[39m\u001b[38;5;124mw1\u001b[39m\u001b[38;5;124m'\u001b[39m,\u001b[38;5;124m'\u001b[39m\u001b[38;5;124mb1\u001b[39m\u001b[38;5;124m'\u001b[39m,\u001b[38;5;124m'\u001b[39m\u001b[38;5;124mw2\u001b[39m\u001b[38;5;124m'\u001b[39m,\u001b[38;5;124m'\u001b[39m\u001b[38;5;124mb2\u001b[39m\u001b[38;5;124m'\u001b[39m):\n",
      "Cell \u001b[1;32mIn [3], line 33\u001b[0m, in \u001b[0;36mTwoLayer.numeric_gradient\u001b[1;34m(self, x, t)\u001b[0m\n\u001b[0;32m     31\u001b[0m loss_w \u001b[38;5;241m=\u001b[39m \u001b[38;5;28;01mlambda\u001b[39;00m w : \u001b[38;5;28mself\u001b[39m\u001b[38;5;241m.\u001b[39mloss(x,t)\n\u001b[0;32m     32\u001b[0m grads \u001b[38;5;241m=\u001b[39m {}\n\u001b[1;32m---> 33\u001b[0m grads[\u001b[38;5;124m'\u001b[39m\u001b[38;5;124mw1\u001b[39m\u001b[38;5;124m'\u001b[39m] \u001b[38;5;241m=\u001b[39m \u001b[43mnumeric_gradient\u001b[49m\u001b[43m(\u001b[49m\u001b[43mloss_w\u001b[49m\u001b[43m,\u001b[49m\u001b[38;5;28;43mself\u001b[39;49m\u001b[38;5;241;43m.\u001b[39;49m\u001b[43mparams\u001b[49m\u001b[43m[\u001b[49m\u001b[38;5;124;43m'\u001b[39;49m\u001b[38;5;124;43mw1\u001b[39;49m\u001b[38;5;124;43m'\u001b[39;49m\u001b[43m]\u001b[49m\u001b[43m)\u001b[49m\n\u001b[0;32m     34\u001b[0m grads[\u001b[38;5;124m'\u001b[39m\u001b[38;5;124mb1\u001b[39m\u001b[38;5;124m'\u001b[39m] \u001b[38;5;241m=\u001b[39m numeric_gradient(loss_w,\u001b[38;5;28mself\u001b[39m\u001b[38;5;241m.\u001b[39mparams[\u001b[38;5;124m'\u001b[39m\u001b[38;5;124mb1\u001b[39m\u001b[38;5;124m'\u001b[39m])\n\u001b[0;32m     35\u001b[0m grads[\u001b[38;5;124m'\u001b[39m\u001b[38;5;124mw2\u001b[39m\u001b[38;5;124m'\u001b[39m] \u001b[38;5;241m=\u001b[39m numeric_gradient(loss_w,\u001b[38;5;28mself\u001b[39m\u001b[38;5;241m.\u001b[39mparams[\u001b[38;5;124m'\u001b[39m\u001b[38;5;124mw2\u001b[39m\u001b[38;5;124m'\u001b[39m])\n",
      "File \u001b[1;32mE:\\7.ai\\common.py:79\u001b[0m, in \u001b[0;36mnumeric_gradient\u001b[1;34m(f, x)\u001b[0m\n\u001b[0;32m     76\u001b[0m fxh1 \u001b[38;5;241m=\u001b[39m f(x) \u001b[38;5;66;03m# f(x+h)\u001b[39;00m\n\u001b[0;32m     78\u001b[0m x[idx] \u001b[38;5;241m=\u001b[39m tmp_val \u001b[38;5;241m-\u001b[39m h \n\u001b[1;32m---> 79\u001b[0m fxh2 \u001b[38;5;241m=\u001b[39m \u001b[43mf\u001b[49m\u001b[43m(\u001b[49m\u001b[43mx\u001b[49m\u001b[43m)\u001b[49m \u001b[38;5;66;03m# f(x-h)\u001b[39;00m\n\u001b[0;32m     80\u001b[0m grad[idx] \u001b[38;5;241m=\u001b[39m (fxh1 \u001b[38;5;241m-\u001b[39m fxh2) \u001b[38;5;241m/\u001b[39m (\u001b[38;5;241m2\u001b[39m\u001b[38;5;241m*\u001b[39mh)\n\u001b[0;32m     82\u001b[0m x[idx] \u001b[38;5;241m=\u001b[39m tmp_val \u001b[38;5;66;03m# 값 복원\u001b[39;00m\n",
      "Cell \u001b[1;32mIn [3], line 31\u001b[0m, in \u001b[0;36mTwoLayer.numeric_gradient.<locals>.<lambda>\u001b[1;34m(w)\u001b[0m\n\u001b[0;32m     30\u001b[0m \u001b[38;5;28;01mdef\u001b[39;00m \u001b[38;5;21mnumeric_gradient\u001b[39m(\u001b[38;5;28mself\u001b[39m, x, t):\n\u001b[1;32m---> 31\u001b[0m     loss_w \u001b[38;5;241m=\u001b[39m \u001b[38;5;28;01mlambda\u001b[39;00m w : \u001b[38;5;28;43mself\u001b[39;49m\u001b[38;5;241;43m.\u001b[39;49m\u001b[43mloss\u001b[49m\u001b[43m(\u001b[49m\u001b[43mx\u001b[49m\u001b[43m,\u001b[49m\u001b[43mt\u001b[49m\u001b[43m)\u001b[49m\n\u001b[0;32m     32\u001b[0m     grads \u001b[38;5;241m=\u001b[39m {}\n\u001b[0;32m     33\u001b[0m     grads[\u001b[38;5;124m'\u001b[39m\u001b[38;5;124mw1\u001b[39m\u001b[38;5;124m'\u001b[39m] \u001b[38;5;241m=\u001b[39m numeric_gradient(loss_w,\u001b[38;5;28mself\u001b[39m\u001b[38;5;241m.\u001b[39mparams[\u001b[38;5;124m'\u001b[39m\u001b[38;5;124mw1\u001b[39m\u001b[38;5;124m'\u001b[39m])\n",
      "Cell \u001b[1;32mIn [3], line 20\u001b[0m, in \u001b[0;36mTwoLayer.loss\u001b[1;34m(self, x, t)\u001b[0m\n\u001b[0;32m     19\u001b[0m \u001b[38;5;28;01mdef\u001b[39;00m \u001b[38;5;21mloss\u001b[39m(\u001b[38;5;28mself\u001b[39m, x, t):\n\u001b[1;32m---> 20\u001b[0m     y \u001b[38;5;241m=\u001b[39m \u001b[38;5;28;43mself\u001b[39;49m\u001b[38;5;241;43m.\u001b[39;49m\u001b[43mpredict\u001b[49m\u001b[43m(\u001b[49m\u001b[43mx\u001b[49m\u001b[43m)\u001b[49m\n\u001b[0;32m     21\u001b[0m     \u001b[38;5;28;01mreturn\u001b[39;00m cross_entropy_error(y,t)\n",
      "Cell \u001b[1;32mIn [3], line 13\u001b[0m, in \u001b[0;36mTwoLayer.predict\u001b[1;34m(self, x)\u001b[0m\n\u001b[0;32m     11\u001b[0m w1,w2 \u001b[38;5;241m=\u001b[39m \u001b[38;5;28mself\u001b[39m\u001b[38;5;241m.\u001b[39mparams[\u001b[38;5;124m'\u001b[39m\u001b[38;5;124mw1\u001b[39m\u001b[38;5;124m'\u001b[39m],\u001b[38;5;28mself\u001b[39m\u001b[38;5;241m.\u001b[39mparams[\u001b[38;5;124m'\u001b[39m\u001b[38;5;124mw2\u001b[39m\u001b[38;5;124m'\u001b[39m]\n\u001b[0;32m     12\u001b[0m b1,b2 \u001b[38;5;241m=\u001b[39m \u001b[38;5;28mself\u001b[39m\u001b[38;5;241m.\u001b[39mparams[\u001b[38;5;124m'\u001b[39m\u001b[38;5;124mb1\u001b[39m\u001b[38;5;124m'\u001b[39m], \u001b[38;5;28mself\u001b[39m\u001b[38;5;241m.\u001b[39mparams[\u001b[38;5;124m'\u001b[39m\u001b[38;5;124mb2\u001b[39m\u001b[38;5;124m'\u001b[39m]\n\u001b[1;32m---> 13\u001b[0m a1 \u001b[38;5;241m=\u001b[39m \u001b[43mnp\u001b[49m\u001b[38;5;241;43m.\u001b[39;49m\u001b[43mdot\u001b[49m\u001b[43m(\u001b[49m\u001b[43mx\u001b[49m\u001b[43m,\u001b[49m\u001b[43mw1\u001b[49m\u001b[43m)\u001b[49m\u001b[38;5;241m+\u001b[39mb1\n\u001b[0;32m     14\u001b[0m z1 \u001b[38;5;241m=\u001b[39m sigmoid(a1)\n\u001b[0;32m     15\u001b[0m a2 \u001b[38;5;241m=\u001b[39m np\u001b[38;5;241m.\u001b[39mdot(z1,w2)\u001b[38;5;241m+\u001b[39mb2\n",
      "File \u001b[1;32m<__array_function__ internals>:180\u001b[0m, in \u001b[0;36mdot\u001b[1;34m(*args, **kwargs)\u001b[0m\n",
      "\u001b[1;31mKeyboardInterrupt\u001b[0m: "
     ]
    }
   ],
   "source": [
    "from tqdm import tqdm\n",
    "network = TwoLayer(input_size=28*28,hidden_size=50,output_size=10)\n",
    "train_loss = []\n",
    "for i in tqdm(range(epoch)):\n",
    "    batch_idx =  np.random.choice(train_size, batch_size)\n",
    "    # 미니배치 데이터 \n",
    "    x_batch = x_train[batch_idx]\n",
    "    y_batch = y_train[batch_idx]\n",
    "    \n",
    "    # 기울기 계산 : 미분을 대신해서 수치적으로 계산 --> 텐서에서 자동미분으로 대체예정\n",
    "    grad = network.numeric_gradient(x_batch,y_batch)\n",
    "    \n",
    "    # 매개변수 갱신\n",
    "    for key in ('w1','b1','w2','b2'):\n",
    "        network.params[key] -= learning_late*grad[key] \n",
    "    \n",
    "    # 학습경과 기록\n",
    "    loss = network.loss(x_batch, y_batch)\n",
    "    train_loss.append(loss)    \n",
    "    "
   ]
  },
  {
   "cell_type": "code",
   "execution_count": 27,
   "id": "efd63972-d2ad-401d-bbe2-039c1ced13b0",
   "metadata": {},
   "outputs": [
    {
     "data": {
      "text/plain": [
       "[6.8933523276194695, 6.884335244244823, 6.903741467791974]"
      ]
     },
     "execution_count": 27,
     "metadata": {},
     "output_type": "execute_result"
    }
   ],
   "source": [
    "train_loss"
   ]
  },
  {
   "cell_type": "code",
   "execution_count": null,
   "id": "91155a30-e315-4df2-ab98-1196380b6149",
   "metadata": {},
   "outputs": [],
   "source": []
  },
  {
   "cell_type": "code",
   "execution_count": null,
   "id": "b533e3b2-2c27-40e2-9c9c-bccc819d73f5",
   "metadata": {},
   "outputs": [],
   "source": []
  },
  {
   "cell_type": "code",
   "execution_count": null,
   "id": "8b14bef5-20fb-4a57-8d9f-8627ecc564ed",
   "metadata": {},
   "outputs": [],
   "source": []
  },
  {
   "cell_type": "code",
   "execution_count": 21,
   "id": "f3547398-418a-4b00-aca5-fd188a7cc0d2",
   "metadata": {},
   "outputs": [
    {
     "data": {
      "text/plain": [
       "(1, 1, 2, 5)"
      ]
     },
     "execution_count": 21,
     "metadata": {},
     "output_type": "execute_result"
    }
   ],
   "source": [
    "A = np.array([[[[1,2,3,4,5],[11,12,13,14,15]]]])\n",
    "A.shape"
   ]
  },
  {
   "cell_type": "code",
   "execution_count": 23,
   "id": "a9d8bdd1-e752-4805-9ec9-8880150bc904",
   "metadata": {},
   "outputs": [
    {
     "name": "stdout",
     "output_type": "stream",
     "text": [
      "1 (0, 0, 0, 0)\n",
      "2 (0, 0, 0, 1)\n",
      "3 (0, 0, 0, 2)\n",
      "4 (0, 0, 0, 3)\n",
      "5 (0, 0, 0, 4)\n",
      "11 (0, 0, 1, 0)\n",
      "12 (0, 0, 1, 1)\n",
      "13 (0, 0, 1, 2)\n",
      "14 (0, 0, 1, 3)\n",
      "15 (0, 0, 1, 4)\n"
     ]
    }
   ],
   "source": [
    "# help(np.nditer)\n",
    "it = np.nditer(A, flags=['multi_index'], op_flags  = ['readwrite'])\n",
    "while not it.finished:\n",
    "    idx = it.multi_index\n",
    "    print(A[idx], idx)\n",
    "    it.iternext()"
   ]
  },
  {
   "cell_type": "code",
   "execution_count": 17,
   "id": "12e2ea40-0985-41a4-bae7-942706bb3893",
   "metadata": {},
   "outputs": [
    {
     "ename": "SyntaxError",
     "evalue": "invalid syntax (3280709985.py, line 2)",
     "output_type": "error",
     "traceback": [
      "\u001b[1;36m  Cell \u001b[1;32mIn [17], line 2\u001b[1;36m\u001b[0m\n\u001b[1;33m    [temp+=i for i in A]\u001b[0m\n\u001b[1;37m         ^\u001b[0m\n\u001b[1;31mSyntaxError\u001b[0m\u001b[1;31m:\u001b[0m invalid syntax\n"
     ]
    }
   ],
   "source": [
    "\n",
    "    \n",
    "    "
   ]
  },
  {
   "cell_type": "code",
   "execution_count": null,
   "id": "8c13695c-285d-4398-9052-c7fa14edc8dc",
   "metadata": {},
   "outputs": [],
   "source": []
  }
 ],
 "metadata": {
  "kernelspec": {
   "display_name": "Python 3 (ipykernel)",
   "language": "python",
   "name": "python3"
  },
  "language_info": {
   "codemirror_mode": {
    "name": "ipython",
    "version": 3
   },
   "file_extension": ".py",
   "mimetype": "text/x-python",
   "name": "python",
   "nbconvert_exporter": "python",
   "pygments_lexer": "ipython3",
   "version": "3.9.15"
  }
 },
 "nbformat": 4,
 "nbformat_minor": 5
}

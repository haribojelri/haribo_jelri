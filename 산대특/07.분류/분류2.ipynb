{
 "cells": [
  {
   "cell_type": "code",
   "execution_count": 1,
   "id": "b4e26474",
   "metadata": {},
   "outputs": [],
   "source": [
    "# 결정트리 \n",
    "from sklearn.tree import DecisionTreeClassifier"
   ]
  },
  {
   "cell_type": "code",
   "execution_count": 2,
   "id": "4eab918a",
   "metadata": {},
   "outputs": [],
   "source": [
    "# 스마트폰의 센서데이터\n",
    "# 모델링 - 움직임의 대한 분류  - 새로운 움직임을 예측\n",
    "# 데이터 - UCI Machine learning Repository...\n",
    "# 모델 : 결정트리\n",
    "# 분석 : 성능평가 지표-accuracy\n",
    "#        하이퍼매개변수 변경에 따른 정확도 - 어떻게?\n",
    "#        중요피처 분석        "
   ]
  },
  {
   "cell_type": "code",
   "execution_count": 3,
   "id": "e7768402",
   "metadata": {},
   "outputs": [],
   "source": [
    "# 개구리 펭귄 가치 나무늘보 다람쥐\n",
    "# 날개가 있냐? 날수있냐, 털이있냐, 빨리 움직이냐"
   ]
  },
  {
   "cell_type": "code",
   "execution_count": 4,
   "id": "d651fa1c",
   "metadata": {},
   "outputs": [],
   "source": [
    "# 데이터 다운로드\n",
    "# https://archive.ics.uci.edu/ml/machine-learning-databases/00240/"
   ]
  },
  {
   "cell_type": "code",
   "execution_count": 5,
   "id": "35d04ab4",
   "metadata": {},
   "outputs": [],
   "source": [
    "import numpy as np\n",
    "import pandas as pd\n",
    "import matplotlib.pyplot as plt\n",
    "import seaborn as sns"
   ]
  },
  {
   "cell_type": "code",
   "execution_count": 6,
   "id": "1db13a79",
   "metadata": {},
   "outputs": [
    {
     "data": {
      "text/plain": [
       "'1.4.4'"
      ]
     },
     "execution_count": 6,
     "metadata": {},
     "output_type": "execute_result"
    }
   ],
   "source": [
    "pd.__version__"
   ]
  },
  {
   "cell_type": "code",
   "execution_count": 7,
   "id": "78740cce",
   "metadata": {},
   "outputs": [],
   "source": [
    "featureNameDf = pd.read_csv(\"UCI_HAR_Dataset/features.txt\",sep='\\s+'  # sep=' '\n",
    "            ,header=None,names=['index','feature_name'])"
   ]
  },
  {
   "cell_type": "code",
   "execution_count": 8,
   "id": "4f4275cc",
   "metadata": {},
   "outputs": [],
   "source": [
    "x_train = pd.read_csv('UCI_HAR_Dataset/train/X_train.txt',sep='\\s+'  # sep=' '\n",
    "            ,header=None)\n",
    "x_train.columns = featureNameDf['feature_name']"
   ]
  },
  {
   "cell_type": "code",
   "execution_count": 9,
   "id": "b448fb5e",
   "metadata": {},
   "outputs": [],
   "source": [
    "x_test = pd.read_csv('UCI_HAR_Dataset/test/X_test.txt',sep='\\s+'  # sep=' '\n",
    "            ,header=None)\n",
    "x_test.columns = featureNameDf['feature_name']"
   ]
  },
  {
   "cell_type": "code",
   "execution_count": 10,
   "id": "3b931e5d",
   "metadata": {},
   "outputs": [],
   "source": [
    "y_train = pd.read_csv('UCI_HAR_Dataset/train/y_train.txt',sep='\\s+'  # sep=' '\n",
    "            ,header=None)\n",
    "y_train.columns = ['action']"
   ]
  },
  {
   "cell_type": "code",
   "execution_count": 11,
   "id": "441ebcbc",
   "metadata": {},
   "outputs": [],
   "source": [
    "y_test = pd.read_csv('UCI_HAR_Dataset/test/y_test.txt',sep='\\s+'  # sep=' '\n",
    "            ,header=None)\n",
    "y_test.columns = ['action']"
   ]
  },
  {
   "cell_type": "code",
   "execution_count": 12,
   "id": "6de167a3",
   "metadata": {},
   "outputs": [
    {
     "data": {
      "text/plain": [
       "((7352, 561), (7352, 1), (2947, 561), (2947, 1))"
      ]
     },
     "execution_count": 12,
     "metadata": {},
     "output_type": "execute_result"
    }
   ],
   "source": [
    "x_train.shape, y_train.shape, x_test.shape, y_test.shape"
   ]
  },
  {
   "cell_type": "code",
   "execution_count": 13,
   "id": "ac6710b9",
   "metadata": {},
   "outputs": [],
   "source": [
    "label_name_df =  pd.read_csv('UCI_HAR_Dataset/activity_labels.txt',sep='\\s+'\n",
    "            ,header=None,names=['index','label'])"
   ]
  },
  {
   "cell_type": "code",
   "execution_count": 14,
   "id": "77fb3de6",
   "metadata": {},
   "outputs": [],
   "source": [
    "label_name_df.drop(columns='index',inplace=True)"
   ]
  },
  {
   "cell_type": "code",
   "execution_count": 15,
   "id": "f7858af5",
   "metadata": {},
   "outputs": [],
   "source": [
    "label_name = label_name_df.iloc[:,0].values.tolist()"
   ]
  },
  {
   "cell_type": "code",
   "execution_count": 16,
   "id": "1847cc9a",
   "metadata": {},
   "outputs": [],
   "source": [
    "# 모델 구축\n",
    "# ~~~~Classifier , LogisticRegression 분류\n",
    "# ~~~~ Regressor 회귀\n",
    "from sklearn.tree import DecisionTreeClassifier\n",
    "dtc =  DecisionTreeClassifier()"
   ]
  },
  {
   "cell_type": "code",
   "execution_count": 17,
   "id": "c0e1f17c",
   "metadata": {},
   "outputs": [
    {
     "data": {
      "text/html": [
       "<style>#sk-container-id-1 {color: black;background-color: white;}#sk-container-id-1 pre{padding: 0;}#sk-container-id-1 div.sk-toggleable {background-color: white;}#sk-container-id-1 label.sk-toggleable__label {cursor: pointer;display: block;width: 100%;margin-bottom: 0;padding: 0.3em;box-sizing: border-box;text-align: center;}#sk-container-id-1 label.sk-toggleable__label-arrow:before {content: \"▸\";float: left;margin-right: 0.25em;color: #696969;}#sk-container-id-1 label.sk-toggleable__label-arrow:hover:before {color: black;}#sk-container-id-1 div.sk-estimator:hover label.sk-toggleable__label-arrow:before {color: black;}#sk-container-id-1 div.sk-toggleable__content {max-height: 0;max-width: 0;overflow: hidden;text-align: left;background-color: #f0f8ff;}#sk-container-id-1 div.sk-toggleable__content pre {margin: 0.2em;color: black;border-radius: 0.25em;background-color: #f0f8ff;}#sk-container-id-1 input.sk-toggleable__control:checked~div.sk-toggleable__content {max-height: 200px;max-width: 100%;overflow: auto;}#sk-container-id-1 input.sk-toggleable__control:checked~label.sk-toggleable__label-arrow:before {content: \"▾\";}#sk-container-id-1 div.sk-estimator input.sk-toggleable__control:checked~label.sk-toggleable__label {background-color: #d4ebff;}#sk-container-id-1 div.sk-label input.sk-toggleable__control:checked~label.sk-toggleable__label {background-color: #d4ebff;}#sk-container-id-1 input.sk-hidden--visually {border: 0;clip: rect(1px 1px 1px 1px);clip: rect(1px, 1px, 1px, 1px);height: 1px;margin: -1px;overflow: hidden;padding: 0;position: absolute;width: 1px;}#sk-container-id-1 div.sk-estimator {font-family: monospace;background-color: #f0f8ff;border: 1px dotted black;border-radius: 0.25em;box-sizing: border-box;margin-bottom: 0.5em;}#sk-container-id-1 div.sk-estimator:hover {background-color: #d4ebff;}#sk-container-id-1 div.sk-parallel-item::after {content: \"\";width: 100%;border-bottom: 1px solid gray;flex-grow: 1;}#sk-container-id-1 div.sk-label:hover label.sk-toggleable__label {background-color: #d4ebff;}#sk-container-id-1 div.sk-serial::before {content: \"\";position: absolute;border-left: 1px solid gray;box-sizing: border-box;top: 0;bottom: 0;left: 50%;z-index: 0;}#sk-container-id-1 div.sk-serial {display: flex;flex-direction: column;align-items: center;background-color: white;padding-right: 0.2em;padding-left: 0.2em;position: relative;}#sk-container-id-1 div.sk-item {position: relative;z-index: 1;}#sk-container-id-1 div.sk-parallel {display: flex;align-items: stretch;justify-content: center;background-color: white;position: relative;}#sk-container-id-1 div.sk-item::before, #sk-container-id-1 div.sk-parallel-item::before {content: \"\";position: absolute;border-left: 1px solid gray;box-sizing: border-box;top: 0;bottom: 0;left: 50%;z-index: -1;}#sk-container-id-1 div.sk-parallel-item {display: flex;flex-direction: column;z-index: 1;position: relative;background-color: white;}#sk-container-id-1 div.sk-parallel-item:first-child::after {align-self: flex-end;width: 50%;}#sk-container-id-1 div.sk-parallel-item:last-child::after {align-self: flex-start;width: 50%;}#sk-container-id-1 div.sk-parallel-item:only-child::after {width: 0;}#sk-container-id-1 div.sk-dashed-wrapped {border: 1px dashed gray;margin: 0 0.4em 0.5em 0.4em;box-sizing: border-box;padding-bottom: 0.4em;background-color: white;}#sk-container-id-1 div.sk-label label {font-family: monospace;font-weight: bold;display: inline-block;line-height: 1.2em;}#sk-container-id-1 div.sk-label-container {text-align: center;}#sk-container-id-1 div.sk-container {/* jupyter's `normalize.less` sets `[hidden] { display: none; }` but bootstrap.min.css set `[hidden] { display: none !important; }` so we also need the `!important` here to be able to override the default hidden behavior on the sphinx rendered scikit-learn.org. See: https://github.com/scikit-learn/scikit-learn/issues/21755 */display: inline-block !important;position: relative;}#sk-container-id-1 div.sk-text-repr-fallback {display: none;}</style><div id=\"sk-container-id-1\" class=\"sk-top-container\"><div class=\"sk-text-repr-fallback\"><pre>DecisionTreeClassifier()</pre><b>In a Jupyter environment, please rerun this cell to show the HTML representation or trust the notebook. <br />On GitHub, the HTML representation is unable to render, please try loading this page with nbviewer.org.</b></div><div class=\"sk-container\" hidden><div class=\"sk-item\"><div class=\"sk-estimator sk-toggleable\"><input class=\"sk-toggleable__control sk-hidden--visually\" id=\"sk-estimator-id-1\" type=\"checkbox\" checked><label for=\"sk-estimator-id-1\" class=\"sk-toggleable__label sk-toggleable__label-arrow\">DecisionTreeClassifier</label><div class=\"sk-toggleable__content\"><pre>DecisionTreeClassifier()</pre></div></div></div></div></div>"
      ],
      "text/plain": [
       "DecisionTreeClassifier()"
      ]
     },
     "execution_count": 17,
     "metadata": {},
     "output_type": "execute_result"
    }
   ],
   "source": [
    "# 훈련\n",
    "dtc.fit(x_train,y_train)"
   ]
  },
  {
   "cell_type": "code",
   "execution_count": 18,
   "id": "3d76f3b0",
   "metadata": {},
   "outputs": [],
   "source": [
    "# 결정트리의 분류 분석: 평가데이터로 예측수행\n",
    "y_predict = dtc.predict(x_test)"
   ]
  },
  {
   "cell_type": "code",
   "execution_count": 19,
   "id": "5c3e4587",
   "metadata": {},
   "outputs": [
    {
     "data": {
      "text/plain": [
       "0.8554462164913471"
      ]
     },
     "execution_count": 19,
     "metadata": {},
     "output_type": "execute_result"
    }
   ],
   "source": [
    "dtc.score(x_test,y_test)"
   ]
  },
  {
   "cell_type": "code",
   "execution_count": 20,
   "id": "08db991f",
   "metadata": {},
   "outputs": [
    {
     "data": {
      "text/plain": [
       "0.8554462164913471"
      ]
     },
     "execution_count": 20,
     "metadata": {},
     "output_type": "execute_result"
    }
   ],
   "source": [
    "from sklearn.metrics import accuracy_score\n",
    "accuracy_score(y_predict,y_test)"
   ]
  },
  {
   "cell_type": "code",
   "execution_count": 21,
   "id": "54259bb6",
   "metadata": {},
   "outputs": [
    {
     "data": {
      "text/plain": [
       "{'ccp_alpha': 0.0,\n",
       " 'class_weight': None,\n",
       " 'criterion': 'gini',\n",
       " 'max_depth': None,\n",
       " 'max_features': None,\n",
       " 'max_leaf_nodes': None,\n",
       " 'min_impurity_decrease': 0.0,\n",
       " 'min_samples_leaf': 1,\n",
       " 'min_samples_split': 2,\n",
       " 'min_weight_fraction_leaf': 0.0,\n",
       " 'random_state': None,\n",
       " 'splitter': 'best'}"
      ]
     },
     "execution_count": 21,
     "metadata": {},
     "output_type": "execute_result"
    }
   ],
   "source": [
    "# 하이퍼 매개변수  dtc\n",
    "dtc.get_params()"
   ]
  },
  {
   "cell_type": "code",
   "execution_count": 22,
   "id": "86f6e206",
   "metadata": {},
   "outputs": [],
   "source": [
    "# 지니계수\n",
    "# 소득불균형 정도를 나타내는 지수 머신러닝에서는 데이터의 순도\n",
    "# 값이 높을수록 순도가 낮은 데이터 집합\n",
    "# 0이면 완전 순수한 데이터 집합"
   ]
  },
  {
   "cell_type": "code",
   "execution_count": 23,
   "id": "56c4fa75",
   "metadata": {},
   "outputs": [],
   "source": [
    "\n",
    "# 엔트로피 : 데이터집합의 혼잡도를 의미\n",
    "# 집합에 다른 데이터 : 균일도가 떨어진다 - >혼잡도가 높다.. 엔트로가 높아짐\n",
    "# 집합에 같은 데이터 : 균일도가 높아짐 - >혼잡도가 떨어진다.. 엔트로가 낮아짐\n",
    "# 정보이득지수  : 혼잡도가 줄어들어서 얻게 되는 이득  1-엔트로피\n",
    "# 결정트리 : 정보이득지수가 높은 피처를 분할 기준으로 사용"
   ]
  },
  {
   "cell_type": "code",
   "execution_count": 24,
   "id": "3fd6e682",
   "metadata": {},
   "outputs": [],
   "source": [
    "# 머신러닝은 하이퍼매개변수를 적절히 수정하면 정확도를 높일수 있다."
   ]
  },
  {
   "cell_type": "code",
   "execution_count": 25,
   "id": "72858678",
   "metadata": {},
   "outputs": [],
   "source": [
    "# 하이퍼라마메터 튜닝..\n",
    "from sklearn.model_selection import GridSearchCV"
   ]
  },
  {
   "cell_type": "code",
   "execution_count": 26,
   "id": "acc58deb",
   "metadata": {},
   "outputs": [],
   "source": [
    "params = {\n",
    "    'max_depth' : range(6,15,2)\n",
    "}"
   ]
  },
  {
   "cell_type": "code",
   "execution_count": 27,
   "id": "984d18de",
   "metadata": {},
   "outputs": [],
   "source": [
    "grid_cv = GridSearchCV(dtc,param_grid=params,cv=3\n",
    "                       , scoring='accuracy',return_train_score=True)"
   ]
  },
  {
   "cell_type": "code",
   "execution_count": 28,
   "id": "b5283c39",
   "metadata": {},
   "outputs": [
    {
     "data": {
      "text/html": [
       "<style>#sk-container-id-2 {color: black;background-color: white;}#sk-container-id-2 pre{padding: 0;}#sk-container-id-2 div.sk-toggleable {background-color: white;}#sk-container-id-2 label.sk-toggleable__label {cursor: pointer;display: block;width: 100%;margin-bottom: 0;padding: 0.3em;box-sizing: border-box;text-align: center;}#sk-container-id-2 label.sk-toggleable__label-arrow:before {content: \"▸\";float: left;margin-right: 0.25em;color: #696969;}#sk-container-id-2 label.sk-toggleable__label-arrow:hover:before {color: black;}#sk-container-id-2 div.sk-estimator:hover label.sk-toggleable__label-arrow:before {color: black;}#sk-container-id-2 div.sk-toggleable__content {max-height: 0;max-width: 0;overflow: hidden;text-align: left;background-color: #f0f8ff;}#sk-container-id-2 div.sk-toggleable__content pre {margin: 0.2em;color: black;border-radius: 0.25em;background-color: #f0f8ff;}#sk-container-id-2 input.sk-toggleable__control:checked~div.sk-toggleable__content {max-height: 200px;max-width: 100%;overflow: auto;}#sk-container-id-2 input.sk-toggleable__control:checked~label.sk-toggleable__label-arrow:before {content: \"▾\";}#sk-container-id-2 div.sk-estimator input.sk-toggleable__control:checked~label.sk-toggleable__label {background-color: #d4ebff;}#sk-container-id-2 div.sk-label input.sk-toggleable__control:checked~label.sk-toggleable__label {background-color: #d4ebff;}#sk-container-id-2 input.sk-hidden--visually {border: 0;clip: rect(1px 1px 1px 1px);clip: rect(1px, 1px, 1px, 1px);height: 1px;margin: -1px;overflow: hidden;padding: 0;position: absolute;width: 1px;}#sk-container-id-2 div.sk-estimator {font-family: monospace;background-color: #f0f8ff;border: 1px dotted black;border-radius: 0.25em;box-sizing: border-box;margin-bottom: 0.5em;}#sk-container-id-2 div.sk-estimator:hover {background-color: #d4ebff;}#sk-container-id-2 div.sk-parallel-item::after {content: \"\";width: 100%;border-bottom: 1px solid gray;flex-grow: 1;}#sk-container-id-2 div.sk-label:hover label.sk-toggleable__label {background-color: #d4ebff;}#sk-container-id-2 div.sk-serial::before {content: \"\";position: absolute;border-left: 1px solid gray;box-sizing: border-box;top: 0;bottom: 0;left: 50%;z-index: 0;}#sk-container-id-2 div.sk-serial {display: flex;flex-direction: column;align-items: center;background-color: white;padding-right: 0.2em;padding-left: 0.2em;position: relative;}#sk-container-id-2 div.sk-item {position: relative;z-index: 1;}#sk-container-id-2 div.sk-parallel {display: flex;align-items: stretch;justify-content: center;background-color: white;position: relative;}#sk-container-id-2 div.sk-item::before, #sk-container-id-2 div.sk-parallel-item::before {content: \"\";position: absolute;border-left: 1px solid gray;box-sizing: border-box;top: 0;bottom: 0;left: 50%;z-index: -1;}#sk-container-id-2 div.sk-parallel-item {display: flex;flex-direction: column;z-index: 1;position: relative;background-color: white;}#sk-container-id-2 div.sk-parallel-item:first-child::after {align-self: flex-end;width: 50%;}#sk-container-id-2 div.sk-parallel-item:last-child::after {align-self: flex-start;width: 50%;}#sk-container-id-2 div.sk-parallel-item:only-child::after {width: 0;}#sk-container-id-2 div.sk-dashed-wrapped {border: 1px dashed gray;margin: 0 0.4em 0.5em 0.4em;box-sizing: border-box;padding-bottom: 0.4em;background-color: white;}#sk-container-id-2 div.sk-label label {font-family: monospace;font-weight: bold;display: inline-block;line-height: 1.2em;}#sk-container-id-2 div.sk-label-container {text-align: center;}#sk-container-id-2 div.sk-container {/* jupyter's `normalize.less` sets `[hidden] { display: none; }` but bootstrap.min.css set `[hidden] { display: none !important; }` so we also need the `!important` here to be able to override the default hidden behavior on the sphinx rendered scikit-learn.org. See: https://github.com/scikit-learn/scikit-learn/issues/21755 */display: inline-block !important;position: relative;}#sk-container-id-2 div.sk-text-repr-fallback {display: none;}</style><div id=\"sk-container-id-2\" class=\"sk-top-container\"><div class=\"sk-text-repr-fallback\"><pre>GridSearchCV(cv=3, estimator=DecisionTreeClassifier(),\n",
       "             param_grid={&#x27;max_depth&#x27;: range(6, 15, 2)}, return_train_score=True,\n",
       "             scoring=&#x27;accuracy&#x27;)</pre><b>In a Jupyter environment, please rerun this cell to show the HTML representation or trust the notebook. <br />On GitHub, the HTML representation is unable to render, please try loading this page with nbviewer.org.</b></div><div class=\"sk-container\" hidden><div class=\"sk-item sk-dashed-wrapped\"><div class=\"sk-label-container\"><div class=\"sk-label sk-toggleable\"><input class=\"sk-toggleable__control sk-hidden--visually\" id=\"sk-estimator-id-2\" type=\"checkbox\" ><label for=\"sk-estimator-id-2\" class=\"sk-toggleable__label sk-toggleable__label-arrow\">GridSearchCV</label><div class=\"sk-toggleable__content\"><pre>GridSearchCV(cv=3, estimator=DecisionTreeClassifier(),\n",
       "             param_grid={&#x27;max_depth&#x27;: range(6, 15, 2)}, return_train_score=True,\n",
       "             scoring=&#x27;accuracy&#x27;)</pre></div></div></div><div class=\"sk-parallel\"><div class=\"sk-parallel-item\"><div class=\"sk-item\"><div class=\"sk-label-container\"><div class=\"sk-label sk-toggleable\"><input class=\"sk-toggleable__control sk-hidden--visually\" id=\"sk-estimator-id-3\" type=\"checkbox\" ><label for=\"sk-estimator-id-3\" class=\"sk-toggleable__label sk-toggleable__label-arrow\">estimator: DecisionTreeClassifier</label><div class=\"sk-toggleable__content\"><pre>DecisionTreeClassifier()</pre></div></div></div><div class=\"sk-serial\"><div class=\"sk-item\"><div class=\"sk-estimator sk-toggleable\"><input class=\"sk-toggleable__control sk-hidden--visually\" id=\"sk-estimator-id-4\" type=\"checkbox\" ><label for=\"sk-estimator-id-4\" class=\"sk-toggleable__label sk-toggleable__label-arrow\">DecisionTreeClassifier</label><div class=\"sk-toggleable__content\"><pre>DecisionTreeClassifier()</pre></div></div></div></div></div></div></div></div></div></div>"
      ],
      "text/plain": [
       "GridSearchCV(cv=3, estimator=DecisionTreeClassifier(),\n",
       "             param_grid={'max_depth': range(6, 15, 2)}, return_train_score=True,\n",
       "             scoring='accuracy')"
      ]
     },
     "execution_count": 28,
     "metadata": {},
     "output_type": "execute_result"
    }
   ],
   "source": [
    "grid_cv.fit(x_train,y_train)"
   ]
  },
  {
   "cell_type": "code",
   "execution_count": 29,
   "id": "6c0896bc",
   "metadata": {},
   "outputs": [
    {
     "data": {
      "text/html": [
       "<div>\n",
       "<style scoped>\n",
       "    .dataframe tbody tr th:only-of-type {\n",
       "        vertical-align: middle;\n",
       "    }\n",
       "\n",
       "    .dataframe tbody tr th {\n",
       "        vertical-align: top;\n",
       "    }\n",
       "\n",
       "    .dataframe thead th {\n",
       "        text-align: right;\n",
       "    }\n",
       "</style>\n",
       "<table border=\"1\" class=\"dataframe\">\n",
       "  <thead>\n",
       "    <tr style=\"text-align: right;\">\n",
       "      <th></th>\n",
       "      <th>mean_fit_time</th>\n",
       "      <th>std_fit_time</th>\n",
       "      <th>mean_score_time</th>\n",
       "      <th>std_score_time</th>\n",
       "      <th>param_max_depth</th>\n",
       "      <th>params</th>\n",
       "      <th>split0_test_score</th>\n",
       "      <th>split1_test_score</th>\n",
       "      <th>split2_test_score</th>\n",
       "      <th>mean_test_score</th>\n",
       "      <th>std_test_score</th>\n",
       "      <th>rank_test_score</th>\n",
       "      <th>split0_train_score</th>\n",
       "      <th>split1_train_score</th>\n",
       "      <th>split2_train_score</th>\n",
       "      <th>mean_train_score</th>\n",
       "      <th>std_train_score</th>\n",
       "    </tr>\n",
       "  </thead>\n",
       "  <tbody>\n",
       "    <tr>\n",
       "      <th>0</th>\n",
       "      <td>1.276084</td>\n",
       "      <td>0.020512</td>\n",
       "      <td>0.007315</td>\n",
       "      <td>0.000470</td>\n",
       "      <td>6</td>\n",
       "      <td>{'max_depth': 6}</td>\n",
       "      <td>0.840881</td>\n",
       "      <td>0.863321</td>\n",
       "      <td>0.833469</td>\n",
       "      <td>0.845891</td>\n",
       "      <td>0.012691</td>\n",
       "      <td>1</td>\n",
       "      <td>0.962865</td>\n",
       "      <td>0.953887</td>\n",
       "      <td>0.943900</td>\n",
       "      <td>0.953551</td>\n",
       "      <td>0.007746</td>\n",
       "    </tr>\n",
       "    <tr>\n",
       "      <th>1</th>\n",
       "      <td>1.578000</td>\n",
       "      <td>0.080993</td>\n",
       "      <td>0.006990</td>\n",
       "      <td>0.000012</td>\n",
       "      <td>8</td>\n",
       "      <td>{'max_depth': 8}</td>\n",
       "      <td>0.835169</td>\n",
       "      <td>0.833537</td>\n",
       "      <td>0.835918</td>\n",
       "      <td>0.834875</td>\n",
       "      <td>0.000994</td>\n",
       "      <td>2</td>\n",
       "      <td>0.989798</td>\n",
       "      <td>0.989798</td>\n",
       "      <td>0.980824</td>\n",
       "      <td>0.986807</td>\n",
       "      <td>0.004230</td>\n",
       "    </tr>\n",
       "    <tr>\n",
       "      <th>2</th>\n",
       "      <td>1.904131</td>\n",
       "      <td>0.075286</td>\n",
       "      <td>0.007650</td>\n",
       "      <td>0.000473</td>\n",
       "      <td>10</td>\n",
       "      <td>{'max_depth': 10}</td>\n",
       "      <td>0.826193</td>\n",
       "      <td>0.833129</td>\n",
       "      <td>0.807347</td>\n",
       "      <td>0.822223</td>\n",
       "      <td>0.010894</td>\n",
       "      <td>4</td>\n",
       "      <td>0.995919</td>\n",
       "      <td>0.996735</td>\n",
       "      <td>0.992452</td>\n",
       "      <td>0.995036</td>\n",
       "      <td>0.001857</td>\n",
       "    </tr>\n",
       "    <tr>\n",
       "      <th>3</th>\n",
       "      <td>2.117334</td>\n",
       "      <td>0.097117</td>\n",
       "      <td>0.006979</td>\n",
       "      <td>0.000025</td>\n",
       "      <td>12</td>\n",
       "      <td>{'max_depth': 12}</td>\n",
       "      <td>0.829865</td>\n",
       "      <td>0.837209</td>\n",
       "      <td>0.810612</td>\n",
       "      <td>0.825896</td>\n",
       "      <td>0.011215</td>\n",
       "      <td>3</td>\n",
       "      <td>0.997756</td>\n",
       "      <td>0.998572</td>\n",
       "      <td>0.996736</td>\n",
       "      <td>0.997688</td>\n",
       "      <td>0.000751</td>\n",
       "    </tr>\n",
       "    <tr>\n",
       "      <th>4</th>\n",
       "      <td>2.168206</td>\n",
       "      <td>0.074087</td>\n",
       "      <td>0.007323</td>\n",
       "      <td>0.000483</td>\n",
       "      <td>14</td>\n",
       "      <td>{'max_depth': 14}</td>\n",
       "      <td>0.820889</td>\n",
       "      <td>0.829457</td>\n",
       "      <td>0.815510</td>\n",
       "      <td>0.821952</td>\n",
       "      <td>0.005743</td>\n",
       "      <td>5</td>\n",
       "      <td>0.998572</td>\n",
       "      <td>1.000000</td>\n",
       "      <td>0.998164</td>\n",
       "      <td>0.998912</td>\n",
       "      <td>0.000787</td>\n",
       "    </tr>\n",
       "  </tbody>\n",
       "</table>\n",
       "</div>"
      ],
      "text/plain": [
       "   mean_fit_time  std_fit_time  mean_score_time  std_score_time  \\\n",
       "0       1.276084      0.020512         0.007315        0.000470   \n",
       "1       1.578000      0.080993         0.006990        0.000012   \n",
       "2       1.904131      0.075286         0.007650        0.000473   \n",
       "3       2.117334      0.097117         0.006979        0.000025   \n",
       "4       2.168206      0.074087         0.007323        0.000483   \n",
       "\n",
       "  param_max_depth             params  split0_test_score  split1_test_score  \\\n",
       "0               6   {'max_depth': 6}           0.840881           0.863321   \n",
       "1               8   {'max_depth': 8}           0.835169           0.833537   \n",
       "2              10  {'max_depth': 10}           0.826193           0.833129   \n",
       "3              12  {'max_depth': 12}           0.829865           0.837209   \n",
       "4              14  {'max_depth': 14}           0.820889           0.829457   \n",
       "\n",
       "   split2_test_score  mean_test_score  std_test_score  rank_test_score  \\\n",
       "0           0.833469         0.845891        0.012691                1   \n",
       "1           0.835918         0.834875        0.000994                2   \n",
       "2           0.807347         0.822223        0.010894                4   \n",
       "3           0.810612         0.825896        0.011215                3   \n",
       "4           0.815510         0.821952        0.005743                5   \n",
       "\n",
       "   split0_train_score  split1_train_score  split2_train_score  \\\n",
       "0            0.962865            0.953887            0.943900   \n",
       "1            0.989798            0.989798            0.980824   \n",
       "2            0.995919            0.996735            0.992452   \n",
       "3            0.997756            0.998572            0.996736   \n",
       "4            0.998572            1.000000            0.998164   \n",
       "\n",
       "   mean_train_score  std_train_score  \n",
       "0          0.953551         0.007746  \n",
       "1          0.986807         0.004230  \n",
       "2          0.995036         0.001857  \n",
       "3          0.997688         0.000751  \n",
       "4          0.998912         0.000787  "
      ]
     },
     "execution_count": 29,
     "metadata": {},
     "output_type": "execute_result"
    }
   ],
   "source": [
    " pd.DataFrame( grid_cv.cv_results_)"
   ]
  },
  {
   "cell_type": "code",
   "execution_count": 30,
   "id": "7b29d215",
   "metadata": {},
   "outputs": [
    {
     "data": {
      "text/plain": [
       "(0.8458905847120569, {'max_depth': 6})"
      ]
     },
     "execution_count": 30,
     "metadata": {},
     "output_type": "execute_result"
    }
   ],
   "source": [
    "grid_cv.best_score_, grid_cv.best_params_"
   ]
  },
  {
   "cell_type": "code",
   "execution_count": 31,
   "id": "0625653f",
   "metadata": {},
   "outputs": [],
   "source": [
    "best_dtc =  grid_cv.best_estimator_"
   ]
  },
  {
   "cell_type": "code",
   "execution_count": 32,
   "id": "ca011d03",
   "metadata": {},
   "outputs": [],
   "source": [
    "# gridSearchCV - 최적의 파라메터를찾아주는 알고리즘\n",
    "# 우리가 프로그램.... 경우의 수를 다 대입하면서 각각의 모델을 돌리고 최고의 성능을 내는\n",
    "# 모델을 선택"
   ]
  },
  {
   "cell_type": "code",
   "execution_count": 33,
   "id": "17e4d538",
   "metadata": {},
   "outputs": [],
   "source": [
    "# max_depth =  [1,2,3]\n",
    "\n",
    "# def findParam(param,x_train,y_train)    \n",
    "#     result = []\n",
    "#     modellist = []\n",
    "#     for num in param:\n",
    "#         temp = DecisionTreeClassifier(max_depth=num)\n",
    "#         temp.fit(x_train,y_train)\n",
    "#         result.append(temp.score(x_train,y_train))\n",
    "#         modellist.append(temp)\n",
    "#     np.argmax(result)    "
   ]
  },
  {
   "cell_type": "code",
   "execution_count": 34,
   "id": "04d28833",
   "metadata": {},
   "outputs": [
    {
     "data": {
      "text/html": [
       "<div>\n",
       "<style scoped>\n",
       "    .dataframe tbody tr th:only-of-type {\n",
       "        vertical-align: middle;\n",
       "    }\n",
       "\n",
       "    .dataframe tbody tr th {\n",
       "        vertical-align: top;\n",
       "    }\n",
       "\n",
       "    .dataframe thead th {\n",
       "        text-align: right;\n",
       "    }\n",
       "</style>\n",
       "<table border=\"1\" class=\"dataframe\">\n",
       "  <thead>\n",
       "    <tr style=\"text-align: right;\">\n",
       "      <th></th>\n",
       "      <th>0</th>\n",
       "    </tr>\n",
       "  </thead>\n",
       "  <tbody>\n",
       "    <tr>\n",
       "      <th>tGravityAcc-min()-X</th>\n",
       "      <td>0.265996</td>\n",
       "    </tr>\n",
       "    <tr>\n",
       "      <th>fBodyAcc-mad()-X</th>\n",
       "      <td>0.225948</td>\n",
       "    </tr>\n",
       "    <tr>\n",
       "      <th>angle(Y,gravityMean)</th>\n",
       "      <td>0.147739</td>\n",
       "    </tr>\n",
       "    <tr>\n",
       "      <th>fBodyAccMag-energy()</th>\n",
       "      <td>0.122738</td>\n",
       "    </tr>\n",
       "    <tr>\n",
       "      <th>tGravityAcc-arCoeff()-Z,2</th>\n",
       "      <td>0.107932</td>\n",
       "    </tr>\n",
       "    <tr>\n",
       "      <th>fBodyGyro-maxInds-X</th>\n",
       "      <td>0.025478</td>\n",
       "    </tr>\n",
       "    <tr>\n",
       "      <th>tBodyGyro-correlation()-Y,Z</th>\n",
       "      <td>0.017552</td>\n",
       "    </tr>\n",
       "    <tr>\n",
       "      <th>tGravityAcc-energy()-Y</th>\n",
       "      <td>0.017467</td>\n",
       "    </tr>\n",
       "    <tr>\n",
       "      <th>tBodyAccMag-arCoeff()1</th>\n",
       "      <td>0.013405</td>\n",
       "    </tr>\n",
       "    <tr>\n",
       "      <th>fBodyAcc-max()-Y</th>\n",
       "      <td>0.009379</td>\n",
       "    </tr>\n",
       "  </tbody>\n",
       "</table>\n",
       "</div>"
      ],
      "text/plain": [
       "                                    0\n",
       "tGravityAcc-min()-X          0.265996\n",
       "fBodyAcc-mad()-X             0.225948\n",
       "angle(Y,gravityMean)         0.147739\n",
       "fBodyAccMag-energy()         0.122738\n",
       "tGravityAcc-arCoeff()-Z,2    0.107932\n",
       "fBodyGyro-maxInds-X          0.025478\n",
       "tBodyGyro-correlation()-Y,Z  0.017552\n",
       "tGravityAcc-energy()-Y       0.017467\n",
       "tBodyAccMag-arCoeff()1       0.013405\n",
       "fBodyAcc-max()-Y             0.009379"
      ]
     },
     "execution_count": 34,
     "metadata": {},
     "output_type": "execute_result"
    }
   ],
   "source": [
    "# 중요피처\n",
    "best_dtc.feature_importances_\n",
    "best_dtc.feature_names_in_\n",
    "feature_df = pd.DataFrame(data=best_dtc.feature_importances_\n",
    "                          ,index=best_dtc.feature_names_in_)\n",
    "feature_df = feature_df.sort_values(by =0, ascending=False)\n",
    "feature_df_top10 = feature_df.iloc[:10]\n",
    "feature_df_top10\n"
   ]
  },
  {
   "cell_type": "code",
   "execution_count": 35,
   "id": "3a53d9b1",
   "metadata": {},
   "outputs": [
    {
     "data": {
      "text/plain": [
       "'1.1.2'"
      ]
     },
     "execution_count": 35,
     "metadata": {},
     "output_type": "execute_result"
    }
   ],
   "source": [
    "import sklearn as sk\n",
    "sk.__version__"
   ]
  },
  {
   "cell_type": "code",
   "execution_count": 36,
   "id": "e4a8cb8c",
   "metadata": {},
   "outputs": [
    {
     "data": {
      "image/png": "[encoded data removed]",
      "text/plain": [
       "<Figure size 640x480 with 1 Axes>"
      ]
     },
     "metadata": {},
     "output_type": "display_data"
    }
   ],
   "source": [
    "sns.barplot(data=feature_df_top10, x=0, y=feature_df_top10.index)\n",
    "plt.title('feature important')\n",
    "plt.show()"
   ]
  },
  {
   "cell_type": "code",
   "execution_count": 37,
   "id": "e9ff9052",
   "metadata": {},
   "outputs": [],
   "source": [
    "# 결정트리 시각화\n",
    "# https://graphviz.org/download/"
   ]
  },
  {
   "cell_type": "code",
   "execution_count": 38,
   "id": "8488a211",
   "metadata": {},
   "outputs": [
    {
     "name": "stdout",
     "output_type": "stream",
     "text": [
      "Requirement already satisfied: graphviz in c:\\users\\user\\miniconda3\\lib\\site-packages (0.20.1)\n"
     ]
    }
   ],
   "source": [
    "!pip install graphviz"
   ]
  },
  {
   "cell_type": "code",
   "execution_count": 39,
   "id": "0fabea18",
   "metadata": {},
   "outputs": [],
   "source": [
    "from sklearn.tree import export_graphviz"
   ]
  },
  {
   "cell_type": "code",
   "execution_count": 40,
   "id": "c055ddca",
   "metadata": {},
   "outputs": [
    {
     "name": "stdout",
     "output_type": "stream",
     "text": [
      "Requirement already satisfied: graphviz in c:\\users\\user\\miniconda3\\lib\\site-packages (0.20.1)\n"
     ]
    }
   ],
   "source": [
    "# !conda install python-graphviz  # 터미널에서 실행하고\n",
    "!pip install graphviz"
   ]
  },
  {
   "cell_type": "code",
   "execution_count": 41,
   "id": "45832961",
   "metadata": {},
   "outputs": [],
   "source": [
    "fname = x_train.columns.values.tolist()\n",
    "export_graphviz(best_dtc,out_file='tree.dot',class_names=label_name,feature_names=fname\n",
    "                ,impurity=True, filled=True)"
   ]
  },
  {
   "cell_type": "code",
   "execution_count": 46,
   "id": "0c73ff3d",
   "metadata": {},
   "outputs": [],
   "source": [
    "import graphviz\n",
    "with open('tree.dot') as f:\n",
    "    dot_graph = f.read()\n",
    "dot = graphviz.Source(dot_graph)"
   ]
  },
  {
   "cell_type": "code",
   "execution_count": 47,
   "id": "a9f11e9f",
   "metadata": {},
   "outputs": [
    {
     "data": {
      "text/plain": [
       "'tree.png.pdf'"
      ]
     },
     "execution_count": 47,
     "metadata": {},
     "output_type": "execute_result"
    }
   ],
   "source": [
    "# 시각화 파일로 저장\n",
    "dot.render(filename='tree.png')"
   ]
  },
  {
   "cell_type": "code",
   "execution_count": 48,
   "id": "ea9093ed",
   "metadata": {},
   "outputs": [
    {
     "data": {
      "text/plain": [
       "['WALKING',\n",
       " 'WALKING_UPSTAIRS',\n",
       " 'WALKING_DOWNSTAIRS',\n",
       " 'SITTING',\n",
       " 'STANDING',\n",
       " 'LAYING']"
      ]
     },
     "execution_count": 48,
     "metadata": {},
     "output_type": "execute_result"
    }
   ],
   "source": [
    "label_name"
   ]
  },
  {
   "cell_type": "code",
   "execution_count": null,
   "id": "b71f0eb1",
   "metadata": {},
   "outputs": [],
   "source": []
  }
 ],
 "metadata": {
  "kernelspec": {
   "display_name": "Python 3 (ipykernel)",
   "language": "python",
   "name": "python3"
  },
  "language_info": {
   "codemirror_mode": {
    "name": "ipython",
    "version": 3
   },
   "file_extension": ".py",
   "mimetype": "text/x-python",
   "name": "python",
   "nbconvert_exporter": "python",
   "pygments_lexer": "ipython3",
   "version": "3.9.12"
  }
 },
 "nbformat": 4,
 "nbformat_minor": 5
}

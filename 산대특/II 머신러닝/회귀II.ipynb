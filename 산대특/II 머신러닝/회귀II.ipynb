{
 "cells": [
  {
   "cell_type": "code",
   "execution_count": 1,
   "id": "de9100e9",
   "metadata": {},
   "outputs": [],
   "source": [
    "import numpy as np\n",
    "import pandas as pd"
   ]
  },
  {
   "cell_type": "code",
   "execution_count": 2,
   "id": "053e457c",
   "metadata": {},
   "outputs": [],
   "source": [
    "df = pd.read_csv('https://raw.githubusercontent.com/leekyuyoungSandeateak/20220823_start_sandeateak/main/II%20%EB%A8%B8%EC%8B%A0%EB%9F%AC%EB%8B%9D/data.csv?token=GHSAT0AAAAAABZZF54CZ7LFKS37EGR26ZIAY2GIYTA')"
   ]
  },
  {
   "cell_type": "code",
   "execution_count": 5,
   "id": "19a36ea0",
   "metadata": {},
   "outputs": [],
   "source": [
    "df.to_csv('data.csv')"
   ]
  },
  {
   "cell_type": "code",
   "execution_count": 7,
   "id": "6f86dc9f",
   "metadata": {},
   "outputs": [
    {
     "data": {
      "text/plain": [
       "(56, 3)"
      ]
     },
     "execution_count": 7,
     "metadata": {},
     "output_type": "execute_result"
    }
   ],
   "source": [
    "df.shape"
   ]
  },
  {
   "cell_type": "code",
   "execution_count": 9,
   "id": "f3516e1c",
   "metadata": {},
   "outputs": [
    {
     "data": {
      "text/html": [
       "<div>\n",
       "<style scoped>\n",
       "    .dataframe tbody tr th:only-of-type {\n",
       "        vertical-align: middle;\n",
       "    }\n",
       "\n",
       "    .dataframe tbody tr th {\n",
       "        vertical-align: top;\n",
       "    }\n",
       "\n",
       "    .dataframe thead th {\n",
       "        text-align: right;\n",
       "    }\n",
       "</style>\n",
       "<table border=\"1\" class=\"dataframe\">\n",
       "  <thead>\n",
       "    <tr style=\"text-align: right;\">\n",
       "      <th></th>\n",
       "      <th>length</th>\n",
       "      <th>height</th>\n",
       "      <th>width</th>\n",
       "    </tr>\n",
       "  </thead>\n",
       "  <tbody>\n",
       "    <tr>\n",
       "      <th>0</th>\n",
       "      <td>8.4</td>\n",
       "      <td>2.11</td>\n",
       "      <td>1.41</td>\n",
       "    </tr>\n",
       "    <tr>\n",
       "      <th>1</th>\n",
       "      <td>13.7</td>\n",
       "      <td>3.53</td>\n",
       "      <td>2.00</td>\n",
       "    </tr>\n",
       "    <tr>\n",
       "      <th>2</th>\n",
       "      <td>15.0</td>\n",
       "      <td>3.82</td>\n",
       "      <td>2.43</td>\n",
       "    </tr>\n",
       "    <tr>\n",
       "      <th>3</th>\n",
       "      <td>16.2</td>\n",
       "      <td>4.59</td>\n",
       "      <td>2.63</td>\n",
       "    </tr>\n",
       "    <tr>\n",
       "      <th>4</th>\n",
       "      <td>17.4</td>\n",
       "      <td>4.59</td>\n",
       "      <td>2.94</td>\n",
       "    </tr>\n",
       "  </tbody>\n",
       "</table>\n",
       "</div>"
      ],
      "text/plain": [
       "   length   height   width\n",
       "0     8.4     2.11    1.41\n",
       "1    13.7     3.53    2.00\n",
       "2    15.0     3.82    2.43\n",
       "3    16.2     4.59    2.63\n",
       "4    17.4     4.59    2.94"
      ]
     },
     "execution_count": 9,
     "metadata": {},
     "output_type": "execute_result"
    }
   ],
   "source": [
    "df.head()"
   ]
  },
  {
   "cell_type": "code",
   "execution_count": 10,
   "id": "093ebecd",
   "metadata": {},
   "outputs": [],
   "source": [
    "weight = [5.9, 32.0, 40.0, 51.5, 70.0, 100.0, 78.0, 80.0, 85.0, 85.0, 110.0, 115.0, 125.0, 130.0, 120.0, 120.0, 130.0, 135.0, 110.0, 130.0, 150.0, 145.0, 150.0, 170.0, 225.0, 145.0, 188.0, 180.0, 197.0, 218.0, 300.0, 260.0, 265.0, 250.0, 250.0, 300.0, 320.0, 514.0, 556.0, 840.0, 685.0, 700.0, 700.0, 690.0, 900.0, 650.0, 820.0, 850.0, 900.0, 1015.0, 820.0, 1100.0, 1000.0, 1100.0, 1000.0, 1000.0]"
   ]
  },
  {
   "cell_type": "code",
   "execution_count": 12,
   "id": "4d059cc2",
   "metadata": {},
   "outputs": [],
   "source": [
    "from sklearn.model_selection import train_test_split"
   ]
  },
  {
   "cell_type": "code",
   "execution_count": 14,
   "id": "1d47229a",
   "metadata": {},
   "outputs": [],
   "source": [
    "x_train,x_test,y_train,y_test =  train_test_split(df,weight)"
   ]
  },
  {
   "cell_type": "code",
   "execution_count": 17,
   "id": "bf0d4fe8",
   "metadata": {},
   "outputs": [
    {
     "data": {
      "text/plain": [
       "((42, 3), 42)"
      ]
     },
     "execution_count": 17,
     "metadata": {},
     "output_type": "execute_result"
    }
   ],
   "source": [
    "x_train.shape, len(y_train)"
   ]
  },
  {
   "cell_type": "code",
   "execution_count": 18,
   "id": "dcc195dd",
   "metadata": {},
   "outputs": [],
   "source": [
    "# 선형 회귀"
   ]
  },
  {
   "cell_type": "code",
   "execution_count": 19,
   "id": "f5526968",
   "metadata": {},
   "outputs": [],
   "source": [
    "from sklearn.linear_model import LinearRegression"
   ]
  },
  {
   "cell_type": "code",
   "execution_count": 22,
   "id": "fffbfb88",
   "metadata": {},
   "outputs": [
    {
     "data": {
      "text/plain": [
       "(0.9277430457250423, 0.952377983855472)"
      ]
     },
     "execution_count": 22,
     "metadata": {},
     "output_type": "execute_result"
    }
   ],
   "source": [
    "lr =  LinearRegression()\n",
    "lr.fit(x_train,y_train)\n",
    "lr.score(x_train,y_train), lr.score(x_test,y_test)"
   ]
  },
  {
   "cell_type": "code",
   "execution_count": 23,
   "id": "a62ae9a9",
   "metadata": {},
   "outputs": [
    {
     "data": {
      "text/plain": [
       "(array([-4.14521577, 97.29678371, 53.03107473]), -512.4630649895453)"
      ]
     },
     "execution_count": 23,
     "metadata": {},
     "output_type": "execute_result"
    }
   ],
   "source": [
    "lr.coef_,lr.intercept_"
   ]
  },
  {
   "cell_type": "code",
   "execution_count": 37,
   "id": "ff822803",
   "metadata": {},
   "outputs": [
    {
     "data": {
      "text/plain": [
       "949.3633617277683"
      ]
     },
     "execution_count": 37,
     "metadata": {},
     "output_type": "execute_result"
    }
   ],
   "source": [
    "lr.coef_[0]*10+lr.coef_[1]*10+lr.coef_[2]*10+lr.intercept_"
   ]
  },
  {
   "cell_type": "code",
   "execution_count": 33,
   "id": "a4c18863",
   "metadata": {},
   "outputs": [
    {
     "name": "stderr",
     "output_type": "stream",
     "text": [
      "C:\\Users\\user\\miniconda3\\envs\\ai\\lib\\site-packages\\sklearn\\base.py:451: UserWarning: X does not have valid feature names, but LinearRegression was fitted with feature names\n",
      "  \"X does not have valid feature names, but\"\n"
     ]
    },
    {
     "data": {
      "text/plain": [
       "array([949.36336173])"
      ]
     },
     "execution_count": 33,
     "metadata": {},
     "output_type": "execute_result"
    }
   ],
   "source": [
    "lr.predict([[10,10,10]])"
   ]
  },
  {
   "cell_type": "code",
   "execution_count": 25,
   "id": "a7974e1a",
   "metadata": {},
   "outputs": [],
   "source": [
    "import matplotlib.pyplot as plt"
   ]
  },
  {
   "cell_type": "code",
   "execution_count": 31,
   "id": "b9fce49e",
   "metadata": {},
   "outputs": [
    {
     "data": {
      "text/plain": [
       "<matplotlib.collections.PathCollection at 0x1f541e03cc0>"
      ]
     },
     "execution_count": 31,
     "metadata": {},
     "output_type": "execute_result"
    },
    {
     "data": {
      "image/png": "[encoded data removed]",
      "text/plain": [
       "<Figure size 640x480 with 1 Axes>"
      ]
     },
     "metadata": {},
     "output_type": "display_data"
    }
   ],
   "source": [
    "point = np.arange(0,45)\n",
    "plt.scatter(df['length'],weight)\n",
    "# plt.plot(point, lr.coef_[0]*point+lr.coef_[1]*point+lr.coef_[2]*point+lr.intercept_)"
   ]
  },
  {
   "cell_type": "code",
   "execution_count": 38,
   "id": "ac4aff72",
   "metadata": {},
   "outputs": [],
   "source": [
    "# 직선의 방정식\n",
    "# 특성이 여러개....  다항(일차원 이상) 특성\n",
    "# 특성이 하나일때는 -- 다항.. \n",
    "# a,b    a**2 b**2 a*b a b "
   ]
  },
  {
   "cell_type": "code",
   "execution_count": null,
   "id": "7b5bbd67",
   "metadata": {},
   "outputs": [],
   "source": [
    "y = ax + b\n",
    "y = ax**2 + bx + c\n",
    "\n",
    "y = ax1 + bx2 + c\n",
    "y = ax1**2 + bx2**2 + cx1*x2 +dx1 + ex2 + 1(bias)"
   ]
  },
  {
   "cell_type": "code",
   "execution_count": 39,
   "id": "bba71d5b",
   "metadata": {},
   "outputs": [
    {
     "data": {
      "text/plain": [
       "(4, 9, 6, 2, 3, 1)"
      ]
     },
     "execution_count": 39,
     "metadata": {},
     "output_type": "execute_result"
    }
   ],
   "source": [
    "# 특성이 두개\n",
    "2, 3\n",
    "4,9,6,2,3,1"
   ]
  },
  {
   "cell_type": "code",
   "execution_count": 40,
   "id": "c0002190",
   "metadata": {},
   "outputs": [],
   "source": [
    "# 선형회귀에서 다항 특성을 만들때.. 위에처럼 일일이 하나느게 아니라..\n",
    "from sklearn.preprocessing import PolynomialFeatures   # 머신러닝..... 전처리...데이터가공.. 전처리"
   ]
  },
  {
   "cell_type": "code",
   "execution_count": 41,
   "id": "70054fa3",
   "metadata": {},
   "outputs": [],
   "source": [
    "# 객체생성\n",
    "poly =  PolynomialFeatures()"
   ]
  },
  {
   "cell_type": "code",
   "execution_count": 44,
   "id": "6fd3133e",
   "metadata": {},
   "outputs": [
    {
     "data": {
      "text/plain": [
       "array([[1., 2., 3., 4., 6., 9.]])"
      ]
     },
     "execution_count": 44,
     "metadata": {},
     "output_type": "execute_result"
    }
   ],
   "source": [
    "poly.fit_transform([[2,3]])"
   ]
  },
  {
   "cell_type": "code",
   "execution_count": null,
   "id": "69619bfc",
   "metadata": {},
   "outputs": [],
   "source": [
    "# 정확성을 높이기위한 다양한 활동.. "
   ]
  },
  {
   "cell_type": "code",
   "execution_count": 48,
   "id": "0154a69e",
   "metadata": {},
   "outputs": [
    {
     "data": {
      "text/plain": [
       "array([[2., 3., 4., 6., 9.]])"
      ]
     },
     "execution_count": 48,
     "metadata": {},
     "output_type": "execute_result"
    }
   ],
   "source": [
    "poly =  PolynomialFeatures(include_bias=False)\n",
    "poly.fit_transform([[2,3]])"
   ]
  },
  {
   "cell_type": "code",
   "execution_count": 46,
   "id": "a3c55d21",
   "metadata": {},
   "outputs": [
    {
     "data": {
      "text/plain": [
       "(42, 3)"
      ]
     },
     "execution_count": 46,
     "metadata": {},
     "output_type": "execute_result"
    }
   ],
   "source": [
    "x_train.shape"
   ]
  },
  {
   "cell_type": "code",
   "execution_count": 49,
   "id": "8756eca8",
   "metadata": {},
   "outputs": [],
   "source": [
    "poly =  PolynomialFeatures(include_bias=False)\n",
    "x_train_poly =  poly.fit_transform(x_train)"
   ]
  },
  {
   "cell_type": "code",
   "execution_count": 50,
   "id": "b028dea2",
   "metadata": {},
   "outputs": [
    {
     "data": {
      "text/plain": [
       "(42, 9)"
      ]
     },
     "execution_count": 50,
     "metadata": {},
     "output_type": "execute_result"
    }
   ],
   "source": [
    "x_train_poly.shape"
   ]
  },
  {
   "cell_type": "code",
   "execution_count": 51,
   "id": "701528ee",
   "metadata": {},
   "outputs": [
    {
     "data": {
      "text/plain": [
       "array(['length', ' height', ' width', 'length^2', 'length  height',\n",
       "       'length  width', ' height^2', ' height  width', ' width^2'],\n",
       "      dtype=object)"
      ]
     },
     "execution_count": 51,
     "metadata": {},
     "output_type": "execute_result"
    }
   ],
   "source": [
    "poly.get_feature_names_out()"
   ]
  },
  {
   "cell_type": "code",
   "execution_count": 55,
   "id": "806ee7a4",
   "metadata": {},
   "outputs": [
    {
     "data": {
      "text/plain": [
       "sklearn.preprocessing._polynomial.PolynomialFeatures"
      ]
     },
     "execution_count": 55,
     "metadata": {},
     "output_type": "execute_result"
    }
   ],
   "source": [
    "type(poly)"
   ]
  },
  {
   "cell_type": "code",
   "execution_count": 52,
   "id": "177d4648",
   "metadata": {},
   "outputs": [],
   "source": [
    "x_test_poly =  poly.fit_transform(x_test)"
   ]
  },
  {
   "cell_type": "code",
   "execution_count": 53,
   "id": "38b546b2",
   "metadata": {},
   "outputs": [],
   "source": [
    "# 다항 특성. 데이터셋 구성완료.\n",
    "# 적절한 머신러닝 모델을 선택해서 구현"
   ]
  },
  {
   "cell_type": "code",
   "execution_count": 54,
   "id": "ba839456",
   "metadata": {},
   "outputs": [
    {
     "data": {
      "text/plain": [
       "0.962484883636455"
      ]
     },
     "execution_count": 54,
     "metadata": {},
     "output_type": "execute_result"
    }
   ],
   "source": [
    "# 다중회귀 모델 훈련\n",
    "lr = LinearRegression()\n",
    "lr.fit(x_train_poly,y_train)\n",
    "lr.score(x_test_poly,y_test)"
   ]
  },
  {
   "cell_type": "code",
   "execution_count": 57,
   "id": "d74e1594",
   "metadata": {},
   "outputs": [
    {
     "name": "stdout",
     "output_type": "stream",
     "text": [
      "\n",
      "Note: you may need to restart the kernel to use updated packages.\n"
     ]
    },
    {
     "name": "stderr",
     "output_type": "stream",
     "text": [
      "\n",
      "PackageNotInstalledError: Package is not installed in prefix.\n",
      "  prefix: C:\\Users\\user\\miniconda3\\envs\\ai\n",
      "  package name: scikit-learn\n",
      "\n",
      "\n"
     ]
    }
   ],
   "source": [
    "conda update scikit-learn"
   ]
  },
  {
   "cell_type": "code",
   "execution_count": 59,
   "id": "410f7954",
   "metadata": {},
   "outputs": [],
   "source": [
    "dfnumpy =  df.to_numpy()"
   ]
  },
  {
   "cell_type": "code",
   "execution_count": 129,
   "id": "d8a2fd79",
   "metadata": {},
   "outputs": [],
   "source": [
    "x_train,x_test,y_train,y_test =  train_test_split(dfnumpy,weight,random_state=42)"
   ]
  },
  {
   "cell_type": "code",
   "execution_count": 144,
   "id": "53736a9c",
   "metadata": {},
   "outputs": [],
   "source": [
    "poly = PolynomialFeatures(degree=5, include_bias=False)\n",
    "x_train_poly =  poly.fit_transform(x_train)\n",
    "x_test_poly =  poly.fit_transform(x_test)"
   ]
  },
  {
   "cell_type": "code",
   "execution_count": 153,
   "id": "c149e274",
   "metadata": {},
   "outputs": [
    {
     "data": {
      "text/plain": [
       "(42, 55)"
      ]
     },
     "execution_count": 153,
     "metadata": {},
     "output_type": "execute_result"
    }
   ],
   "source": [
    "x_train_poly.shape"
   ]
  },
  {
   "cell_type": "code",
   "execution_count": 145,
   "id": "45f65725",
   "metadata": {},
   "outputs": [
    {
     "data": {
      "text/plain": [
       "(0.9999999999997439, -144.40564427622337)"
      ]
     },
     "execution_count": 145,
     "metadata": {},
     "output_type": "execute_result"
    }
   ],
   "source": [
    "lr = LinearRegression()\n",
    "lr.fit(x_train_poly,y_train)\n",
    "lr.score(x_train_poly,y_train), lr.score(x_test_poly,y_test)"
   ]
  },
  {
   "cell_type": "code",
   "execution_count": null,
   "id": "dff3cde8",
   "metadata": {},
   "outputs": [],
   "source": [
    "# 선형회귀 : 특징이 한개  1차원 방정식 - 직선의 방정식\n",
    "# 다중 선형 회귀 :  특징이 여러개  1차원 x가 여러개 - 직선"
   ]
  },
  {
   "cell_type": "code",
   "execution_count": 147,
   "id": "73c0a5eb",
   "metadata": {},
   "outputs": [],
   "source": [
    "# 피처들이 많다.. 데이터 표준화는 스케일을 해준다.. \n",
    "# 표준화 x - mean / std\n",
    "from sklearn.preprocessing import StandardScaler\n",
    "ss =  StandardScaler()\n",
    "# ss.fit(x_train_poly)\n",
    "# x_train_poly = ss.transform(x_train_poly)\n",
    "x_train_poly_scale =  ss.fit_transform(x_train_poly)\n",
    "x_test_poly_scale =  ss.fit_transform(x_test_poly)"
   ]
  },
  {
   "cell_type": "code",
   "execution_count": null,
   "id": "455534d6",
   "metadata": {},
   "outputs": [],
   "source": [
    "# 릿지 ( L2-Norm)  평균제곱오차의 절대값들의 합의 root 한 값들의 합이 최소가  0에 까깝게 규제"
   ]
  },
  {
   "cell_type": "code",
   "execution_count": 149,
   "id": "d89a6c8d",
   "metadata": {},
   "outputs": [],
   "source": [
    "from sklearn.linear_model import Ridge"
   ]
  },
  {
   "cell_type": "code",
   "execution_count": 150,
   "id": "80c98d65",
   "metadata": {},
   "outputs": [
    {
     "data": {
      "text/plain": [
       "(0.9896101671037343, 0.9133730480649973)"
      ]
     },
     "execution_count": 150,
     "metadata": {},
     "output_type": "execute_result"
    }
   ],
   "source": [
    "ridge =  Ridge()\n",
    "ridge.fit(x_train_poly_scale,y_train)\n",
    "ridge.score(x_train_poly_scale,y_train), ridge.score(x_test_poly_scale,y_test)"
   ]
  },
  {
   "cell_type": "code",
   "execution_count": 151,
   "id": "7af6eb7d",
   "metadata": {},
   "outputs": [
    {
     "data": {
      "text/plain": [
       "(1.0, -307.0975841108402)"
      ]
     },
     "execution_count": 151,
     "metadata": {},
     "output_type": "execute_result"
    }
   ],
   "source": [
    "lr = LinearRegression()\n",
    "lr.fit(x_train_poly_scale,y_train)\n",
    "lr.score(x_train_poly_scale,y_train), lr.score(x_test_poly_scale,y_test)"
   ]
  },
  {
   "cell_type": "code",
   "execution_count": 152,
   "id": "796916dc",
   "metadata": {},
   "outputs": [
    {
     "data": {
      "text/plain": [
       "(42, 55)"
      ]
     },
     "execution_count": 152,
     "metadata": {},
     "output_type": "execute_result"
    }
   ],
   "source": [
    "x_train_poly_scale.shape"
   ]
  },
  {
   "cell_type": "code",
   "execution_count": 170,
   "id": "bf0086fc",
   "metadata": {},
   "outputs": [],
   "source": [
    "train_score = []\n",
    "test_score = []\n",
    "alpha_list = [10**i for i in range(-10,10)] #[0.001,0.01,0.1,1,10,100]\n",
    "for alpha in alpha_list:\n",
    "    ridge = Ridge(alpha=alpha)\n",
    "    ridge.fit(x_train_poly_scale,y_train)\n",
    "    train_score.append(ridge.score(x_train_poly_scale,y_train))\n",
    "    test_score.append(ridge.score(x_test_poly_scale,y_test))"
   ]
  },
  {
   "cell_type": "code",
   "execution_count": 173,
   "id": "64f2338e",
   "metadata": {},
   "outputs": [
    {
     "data": {
      "text/plain": [
       "[<matplotlib.lines.Line2D at 0x1f543a577b8>]"
      ]
     },
     "execution_count": 173,
     "metadata": {},
     "output_type": "execute_result"
    },
    {
     "data": {
      "image/png": "[encoded data removed]",
      "text/plain": [
       "<Figure size 640x480 with 1 Axes>"
      ]
     },
     "metadata": {},
     "output_type": "display_data"
    }
   ],
   "source": [
    "plt.plot(np.log10(alpha_list),train_score)\n",
    "plt.plot(np.log10(alpha_list),test_score)"
   ]
  },
  {
   "cell_type": "code",
   "execution_count": 174,
   "id": "fdc60101",
   "metadata": {},
   "outputs": [
    {
     "data": {
      "text/plain": [
       "0.0031622776601683794"
      ]
     },
     "execution_count": 174,
     "metadata": {},
     "output_type": "execute_result"
    }
   ],
   "source": [
    "# 적절한 규제 강도는 10-2.5\n",
    "10**(-2.5)"
   ]
  },
  {
   "cell_type": "code",
   "execution_count": 176,
   "id": "e2ef34ef",
   "metadata": {},
   "outputs": [
    {
     "data": {
      "text/plain": [
       "(0.9924932467192942, 0.9122537120906251)"
      ]
     },
     "execution_count": 176,
     "metadata": {},
     "output_type": "execute_result"
    }
   ],
   "source": [
    "ridge = Ridge(alpha=10**(-2.5))\n",
    "ridge.fit(x_train_poly_scale,y_train)\n",
    "ridge.score(x_train_poly_scale,y_train), ridge.score(x_test_poly_scale,y_test)"
   ]
  },
  {
   "cell_type": "code",
   "execution_count": 185,
   "id": "14017df7",
   "metadata": {},
   "outputs": [
    {
     "data": {
      "text/plain": [
       "(0.9977474169755483, 0.9020515840796234)"
      ]
     },
     "execution_count": 185,
     "metadata": {},
     "output_type": "execute_result"
    }
   ],
   "source": [
    "ridge = Ridge(alpha=10**(-6.6))\n",
    "ridge.fit(x_train_poly_scale,y_train)\n",
    "ridge.score(x_train_poly_scale,y_train), ridge.score(x_test_poly_scale,y_test)"
   ]
  },
  {
   "cell_type": "code",
   "execution_count": 186,
   "id": "2b287f43",
   "metadata": {},
   "outputs": [],
   "source": [
    "# 라쏘"
   ]
  },
  {
   "cell_type": "code",
   "execution_count": 187,
   "id": "a7fbf670",
   "metadata": {},
   "outputs": [],
   "source": [
    "from sklearn.linear_model import Lasso"
   ]
  },
  {
   "cell_type": "code",
   "execution_count": 191,
   "id": "e4cd0ce5",
   "metadata": {},
   "outputs": [],
   "source": [
    "import warnings\n",
    "warnings.filterwarnings('ignore')"
   ]
  },
  {
   "cell_type": "code",
   "execution_count": 193,
   "id": "9cb9f587",
   "metadata": {},
   "outputs": [],
   "source": [
    "\n",
    "train_score = []\n",
    "test_score = []\n",
    "alpha_list = [10**i for i in range(-10,10)] #[0.001,0.01,0.1,1,10,100]\n",
    "for alpha in alpha_list:\n",
    "    lasso = Lasso(alpha=alpha)\n",
    "    lasso.fit(x_train_poly_scale,y_train)\n",
    "    train_score.append(lasso.score(x_train_poly_scale,y_train))\n",
    "    test_score.append(lasso.score(x_test_poly_scale,y_test))"
   ]
  },
  {
   "cell_type": "code",
   "execution_count": 194,
   "id": "b63315c3",
   "metadata": {},
   "outputs": [
    {
     "data": {
      "text/plain": [
       "[<matplotlib.lines.Line2D at 0x1f543667e10>]"
      ]
     },
     "execution_count": 194,
     "metadata": {},
     "output_type": "execute_result"
    },
    {
     "data": {
      "image/png": "[encoded data removed]",
      "text/plain": [
       "<Figure size 640x480 with 1 Axes>"
      ]
     },
     "metadata": {},
     "output_type": "display_data"
    }
   ],
   "source": [
    "plt.plot(np.log10(alpha_list),train_score)\n",
    "plt.plot(np.log10(alpha_list),test_score)"
   ]
  },
  {
   "cell_type": "code",
   "execution_count": 198,
   "id": "79065d98",
   "metadata": {},
   "outputs": [
    {
     "data": {
      "text/plain": [
       "10"
      ]
     },
     "execution_count": 198,
     "metadata": {},
     "output_type": "execute_result"
    }
   ],
   "source": [
    "np.argmax(test_score)\n",
    "alpha_list[11]"
   ]
  },
  {
   "cell_type": "code",
   "execution_count": 199,
   "id": "0486e581",
   "metadata": {},
   "outputs": [
    {
     "data": {
      "text/plain": [
       "(0.9888067471131867, 0.920615372493506)"
      ]
     },
     "execution_count": 199,
     "metadata": {},
     "output_type": "execute_result"
    }
   ],
   "source": [
    "lasso = Lasso(alpha=10)\n",
    "lasso.fit(x_train_poly_scale,y_train)\n",
    "lasso.score(x_train_poly_scale,y_train),lasso.score(x_test_poly_scale,y_test)"
   ]
  },
  {
   "cell_type": "code",
   "execution_count": 200,
   "id": "b725ea41",
   "metadata": {},
   "outputs": [],
   "source": [
    "import pandas as pd"
   ]
  },
  {
   "cell_type": "code",
   "execution_count": 201,
   "id": "91328e71",
   "metadata": {},
   "outputs": [],
   "source": [
    "df = pd.read_csv('https://bit.ly/fish_csv_data')"
   ]
  },
  {
   "cell_type": "code",
   "execution_count": 209,
   "id": "fab73507",
   "metadata": {},
   "outputs": [],
   "source": [
    "df[df['Species']=='Bream']['Species'] = 'A'"
   ]
  },
  {
   "cell_type": "code",
   "execution_count": 212,
   "id": "ec3d2a7c",
   "metadata": {},
   "outputs": [],
   "source": [
    "df[df['Species']=='Bream'].iloc[:,0] = 'A'"
   ]
  },
  {
   "cell_type": "code",
   "execution_count": 216,
   "id": "871619bd",
   "metadata": {},
   "outputs": [],
   "source": [
    "df[df['Species']=='Bream'].iloc[:,0] = 'A'"
   ]
  },
  {
   "cell_type": "code",
   "execution_count": 219,
   "id": "7324386c",
   "metadata": {},
   "outputs": [],
   "source": [
    "df[df['Species']=='Bream']['Species'] = 'a'"
   ]
  },
  {
   "cell_type": "code",
   "execution_count": 234,
   "id": "6ebfa58b",
   "metadata": {},
   "outputs": [],
   "source": [
    "a = df[df['Species']=='Perch'].iloc[:,1:]\n",
    "b = df[df['Species']=='Bream'].iloc[:,1:]\n",
    "c = df[df['Species']=='Roach'].iloc[:,1:]\n",
    "d = df[df['Species']=='Pike'].iloc[:,1:]\n",
    "e = df[df['Species']=='Smelt'].iloc[:,1:]\n",
    "f = df[df['Species']=='Parkki'].iloc[:,1:]\n",
    "g = df[df['Species']=='Whitefish'].iloc[:,1:]\n",
    "a['type'] = 'A'\n",
    "b['type'] = 'B'\n",
    "c['type'] = 'C'\n",
    "d['type'] = 'D'\n",
    "e['type'] = 'E'\n",
    "f['type'] = 'F'\n",
    "g['type'] = 'G'\n",
    "\n",
    "temp = pd.concat([a,b,c,d,e,f,g])"
   ]
  },
  {
   "cell_type": "code",
   "execution_count": 236,
   "id": "269a6b1d",
   "metadata": {},
   "outputs": [],
   "source": [
    "temp.to_csv('data2.csv')"
   ]
  },
  {
   "cell_type": "code",
   "execution_count": 233,
   "id": "bd0a1db4",
   "metadata": {},
   "outputs": [
    {
     "data": {
      "text/html": [
       "<div>\n",
       "<style scoped>\n",
       "    .dataframe tbody tr th:only-of-type {\n",
       "        vertical-align: middle;\n",
       "    }\n",
       "\n",
       "    .dataframe tbody tr th {\n",
       "        vertical-align: top;\n",
       "    }\n",
       "\n",
       "    .dataframe thead th {\n",
       "        text-align: right;\n",
       "    }\n",
       "</style>\n",
       "<table border=\"1\" class=\"dataframe\">\n",
       "  <thead>\n",
       "    <tr style=\"text-align: right;\">\n",
       "      <th></th>\n",
       "      <th>Weight</th>\n",
       "      <th>Length</th>\n",
       "      <th>Diagonal</th>\n",
       "      <th>Height</th>\n",
       "      <th>Width</th>\n",
       "      <th>type</th>\n",
       "    </tr>\n",
       "  </thead>\n",
       "  <tbody>\n",
       "    <tr>\n",
       "      <th>72</th>\n",
       "      <td>5.9</td>\n",
       "      <td>8.4</td>\n",
       "      <td>8.8</td>\n",
       "      <td>2.1120</td>\n",
       "      <td>1.4080</td>\n",
       "      <td>A</td>\n",
       "    </tr>\n",
       "    <tr>\n",
       "      <th>73</th>\n",
       "      <td>32.0</td>\n",
       "      <td>13.7</td>\n",
       "      <td>14.7</td>\n",
       "      <td>3.5280</td>\n",
       "      <td>1.9992</td>\n",
       "      <td>A</td>\n",
       "    </tr>\n",
       "    <tr>\n",
       "      <th>74</th>\n",
       "      <td>40.0</td>\n",
       "      <td>15.0</td>\n",
       "      <td>16.0</td>\n",
       "      <td>3.8240</td>\n",
       "      <td>2.4320</td>\n",
       "      <td>A</td>\n",
       "    </tr>\n",
       "    <tr>\n",
       "      <th>75</th>\n",
       "      <td>51.5</td>\n",
       "      <td>16.2</td>\n",
       "      <td>17.2</td>\n",
       "      <td>4.5924</td>\n",
       "      <td>2.6316</td>\n",
       "      <td>A</td>\n",
       "    </tr>\n",
       "    <tr>\n",
       "      <th>76</th>\n",
       "      <td>70.0</td>\n",
       "      <td>17.4</td>\n",
       "      <td>18.5</td>\n",
       "      <td>4.5880</td>\n",
       "      <td>2.9415</td>\n",
       "      <td>A</td>\n",
       "    </tr>\n",
       "    <tr>\n",
       "      <th>77</th>\n",
       "      <td>100.0</td>\n",
       "      <td>18.0</td>\n",
       "      <td>19.2</td>\n",
       "      <td>5.2224</td>\n",
       "      <td>3.3216</td>\n",
       "      <td>A</td>\n",
       "    </tr>\n",
       "    <tr>\n",
       "      <th>78</th>\n",
       "      <td>78.0</td>\n",
       "      <td>18.7</td>\n",
       "      <td>19.4</td>\n",
       "      <td>5.1992</td>\n",
       "      <td>3.1234</td>\n",
       "      <td>A</td>\n",
       "    </tr>\n",
       "    <tr>\n",
       "      <th>79</th>\n",
       "      <td>80.0</td>\n",
       "      <td>19.0</td>\n",
       "      <td>20.2</td>\n",
       "      <td>5.6358</td>\n",
       "      <td>3.0502</td>\n",
       "      <td>A</td>\n",
       "    </tr>\n",
       "    <tr>\n",
       "      <th>80</th>\n",
       "      <td>85.0</td>\n",
       "      <td>19.6</td>\n",
       "      <td>20.8</td>\n",
       "      <td>5.1376</td>\n",
       "      <td>3.0368</td>\n",
       "      <td>A</td>\n",
       "    </tr>\n",
       "    <tr>\n",
       "      <th>81</th>\n",
       "      <td>85.0</td>\n",
       "      <td>20.0</td>\n",
       "      <td>21.0</td>\n",
       "      <td>5.0820</td>\n",
       "      <td>2.7720</td>\n",
       "      <td>A</td>\n",
       "    </tr>\n",
       "    <tr>\n",
       "      <th>82</th>\n",
       "      <td>110.0</td>\n",
       "      <td>21.0</td>\n",
       "      <td>22.5</td>\n",
       "      <td>5.6925</td>\n",
       "      <td>3.5550</td>\n",
       "      <td>A</td>\n",
       "    </tr>\n",
       "    <tr>\n",
       "      <th>83</th>\n",
       "      <td>115.0</td>\n",
       "      <td>21.0</td>\n",
       "      <td>22.5</td>\n",
       "      <td>5.9175</td>\n",
       "      <td>3.3075</td>\n",
       "      <td>A</td>\n",
       "    </tr>\n",
       "    <tr>\n",
       "      <th>84</th>\n",
       "      <td>125.0</td>\n",
       "      <td>21.0</td>\n",
       "      <td>22.5</td>\n",
       "      <td>5.6925</td>\n",
       "      <td>3.6675</td>\n",
       "      <td>A</td>\n",
       "    </tr>\n",
       "    <tr>\n",
       "      <th>85</th>\n",
       "      <td>130.0</td>\n",
       "      <td>21.3</td>\n",
       "      <td>22.8</td>\n",
       "      <td>6.3840</td>\n",
       "      <td>3.5340</td>\n",
       "      <td>A</td>\n",
       "    </tr>\n",
       "    <tr>\n",
       "      <th>86</th>\n",
       "      <td>120.0</td>\n",
       "      <td>22.0</td>\n",
       "      <td>23.5</td>\n",
       "      <td>6.1100</td>\n",
       "      <td>3.4075</td>\n",
       "      <td>A</td>\n",
       "    </tr>\n",
       "    <tr>\n",
       "      <th>87</th>\n",
       "      <td>120.0</td>\n",
       "      <td>22.0</td>\n",
       "      <td>23.5</td>\n",
       "      <td>5.6400</td>\n",
       "      <td>3.5250</td>\n",
       "      <td>A</td>\n",
       "    </tr>\n",
       "    <tr>\n",
       "      <th>88</th>\n",
       "      <td>130.0</td>\n",
       "      <td>22.0</td>\n",
       "      <td>23.5</td>\n",
       "      <td>6.1100</td>\n",
       "      <td>3.5250</td>\n",
       "      <td>A</td>\n",
       "    </tr>\n",
       "    <tr>\n",
       "      <th>89</th>\n",
       "      <td>135.0</td>\n",
       "      <td>22.0</td>\n",
       "      <td>23.5</td>\n",
       "      <td>5.8750</td>\n",
       "      <td>3.5250</td>\n",
       "      <td>A</td>\n",
       "    </tr>\n",
       "    <tr>\n",
       "      <th>90</th>\n",
       "      <td>110.0</td>\n",
       "      <td>22.0</td>\n",
       "      <td>23.5</td>\n",
       "      <td>5.5225</td>\n",
       "      <td>3.9950</td>\n",
       "      <td>A</td>\n",
       "    </tr>\n",
       "    <tr>\n",
       "      <th>91</th>\n",
       "      <td>130.0</td>\n",
       "      <td>22.5</td>\n",
       "      <td>24.0</td>\n",
       "      <td>5.8560</td>\n",
       "      <td>3.6240</td>\n",
       "      <td>A</td>\n",
       "    </tr>\n",
       "    <tr>\n",
       "      <th>92</th>\n",
       "      <td>150.0</td>\n",
       "      <td>22.5</td>\n",
       "      <td>24.0</td>\n",
       "      <td>6.7920</td>\n",
       "      <td>3.6240</td>\n",
       "      <td>A</td>\n",
       "    </tr>\n",
       "    <tr>\n",
       "      <th>93</th>\n",
       "      <td>145.0</td>\n",
       "      <td>22.7</td>\n",
       "      <td>24.2</td>\n",
       "      <td>5.9532</td>\n",
       "      <td>3.6300</td>\n",
       "      <td>A</td>\n",
       "    </tr>\n",
       "    <tr>\n",
       "      <th>94</th>\n",
       "      <td>150.0</td>\n",
       "      <td>23.0</td>\n",
       "      <td>24.5</td>\n",
       "      <td>5.2185</td>\n",
       "      <td>3.6260</td>\n",
       "      <td>A</td>\n",
       "    </tr>\n",
       "    <tr>\n",
       "      <th>95</th>\n",
       "      <td>170.0</td>\n",
       "      <td>23.5</td>\n",
       "      <td>25.0</td>\n",
       "      <td>6.2750</td>\n",
       "      <td>3.7250</td>\n",
       "      <td>A</td>\n",
       "    </tr>\n",
       "    <tr>\n",
       "      <th>96</th>\n",
       "      <td>225.0</td>\n",
       "      <td>24.0</td>\n",
       "      <td>25.5</td>\n",
       "      <td>7.2930</td>\n",
       "      <td>3.7230</td>\n",
       "      <td>A</td>\n",
       "    </tr>\n",
       "    <tr>\n",
       "      <th>97</th>\n",
       "      <td>145.0</td>\n",
       "      <td>24.0</td>\n",
       "      <td>25.5</td>\n",
       "      <td>6.3750</td>\n",
       "      <td>3.8250</td>\n",
       "      <td>A</td>\n",
       "    </tr>\n",
       "    <tr>\n",
       "      <th>98</th>\n",
       "      <td>188.0</td>\n",
       "      <td>24.6</td>\n",
       "      <td>26.2</td>\n",
       "      <td>6.7334</td>\n",
       "      <td>4.1658</td>\n",
       "      <td>A</td>\n",
       "    </tr>\n",
       "    <tr>\n",
       "      <th>99</th>\n",
       "      <td>180.0</td>\n",
       "      <td>25.0</td>\n",
       "      <td>26.5</td>\n",
       "      <td>6.4395</td>\n",
       "      <td>3.6835</td>\n",
       "      <td>A</td>\n",
       "    </tr>\n",
       "    <tr>\n",
       "      <th>100</th>\n",
       "      <td>197.0</td>\n",
       "      <td>25.6</td>\n",
       "      <td>27.0</td>\n",
       "      <td>6.5610</td>\n",
       "      <td>4.2390</td>\n",
       "      <td>A</td>\n",
       "    </tr>\n",
       "    <tr>\n",
       "      <th>101</th>\n",
       "      <td>218.0</td>\n",
       "      <td>26.5</td>\n",
       "      <td>28.0</td>\n",
       "      <td>7.1680</td>\n",
       "      <td>4.1440</td>\n",
       "      <td>A</td>\n",
       "    </tr>\n",
       "    <tr>\n",
       "      <th>102</th>\n",
       "      <td>300.0</td>\n",
       "      <td>27.3</td>\n",
       "      <td>28.7</td>\n",
       "      <td>8.3230</td>\n",
       "      <td>5.1373</td>\n",
       "      <td>A</td>\n",
       "    </tr>\n",
       "    <tr>\n",
       "      <th>103</th>\n",
       "      <td>260.0</td>\n",
       "      <td>27.5</td>\n",
       "      <td>28.9</td>\n",
       "      <td>7.1672</td>\n",
       "      <td>4.3350</td>\n",
       "      <td>A</td>\n",
       "    </tr>\n",
       "    <tr>\n",
       "      <th>104</th>\n",
       "      <td>265.0</td>\n",
       "      <td>27.5</td>\n",
       "      <td>28.9</td>\n",
       "      <td>7.0516</td>\n",
       "      <td>4.3350</td>\n",
       "      <td>A</td>\n",
       "    </tr>\n",
       "    <tr>\n",
       "      <th>105</th>\n",
       "      <td>250.0</td>\n",
       "      <td>27.5</td>\n",
       "      <td>28.9</td>\n",
       "      <td>7.2828</td>\n",
       "      <td>4.5662</td>\n",
       "      <td>A</td>\n",
       "    </tr>\n",
       "    <tr>\n",
       "      <th>106</th>\n",
       "      <td>250.0</td>\n",
       "      <td>28.0</td>\n",
       "      <td>29.4</td>\n",
       "      <td>7.8204</td>\n",
       "      <td>4.2042</td>\n",
       "      <td>A</td>\n",
       "    </tr>\n",
       "    <tr>\n",
       "      <th>107</th>\n",
       "      <td>300.0</td>\n",
       "      <td>28.7</td>\n",
       "      <td>30.1</td>\n",
       "      <td>7.5852</td>\n",
       "      <td>4.6354</td>\n",
       "      <td>A</td>\n",
       "    </tr>\n",
       "    <tr>\n",
       "      <th>108</th>\n",
       "      <td>320.0</td>\n",
       "      <td>30.0</td>\n",
       "      <td>31.6</td>\n",
       "      <td>7.6156</td>\n",
       "      <td>4.7716</td>\n",
       "      <td>A</td>\n",
       "    </tr>\n",
       "    <tr>\n",
       "      <th>109</th>\n",
       "      <td>514.0</td>\n",
       "      <td>32.8</td>\n",
       "      <td>34.0</td>\n",
       "      <td>10.0300</td>\n",
       "      <td>6.0180</td>\n",
       "      <td>A</td>\n",
       "    </tr>\n",
       "    <tr>\n",
       "      <th>110</th>\n",
       "      <td>556.0</td>\n",
       "      <td>34.5</td>\n",
       "      <td>36.5</td>\n",
       "      <td>10.2565</td>\n",
       "      <td>6.3875</td>\n",
       "      <td>A</td>\n",
       "    </tr>\n",
       "    <tr>\n",
       "      <th>111</th>\n",
       "      <td>840.0</td>\n",
       "      <td>35.0</td>\n",
       "      <td>37.3</td>\n",
       "      <td>11.4884</td>\n",
       "      <td>7.7957</td>\n",
       "      <td>A</td>\n",
       "    </tr>\n",
       "    <tr>\n",
       "      <th>112</th>\n",
       "      <td>685.0</td>\n",
       "      <td>36.5</td>\n",
       "      <td>39.0</td>\n",
       "      <td>10.8810</td>\n",
       "      <td>6.8640</td>\n",
       "      <td>A</td>\n",
       "    </tr>\n",
       "    <tr>\n",
       "      <th>113</th>\n",
       "      <td>700.0</td>\n",
       "      <td>36.0</td>\n",
       "      <td>38.3</td>\n",
       "      <td>10.6091</td>\n",
       "      <td>6.7408</td>\n",
       "      <td>A</td>\n",
       "    </tr>\n",
       "    <tr>\n",
       "      <th>114</th>\n",
       "      <td>700.0</td>\n",
       "      <td>37.0</td>\n",
       "      <td>39.4</td>\n",
       "      <td>10.8350</td>\n",
       "      <td>6.2646</td>\n",
       "      <td>A</td>\n",
       "    </tr>\n",
       "    <tr>\n",
       "      <th>115</th>\n",
       "      <td>690.0</td>\n",
       "      <td>37.0</td>\n",
       "      <td>39.3</td>\n",
       "      <td>10.5717</td>\n",
       "      <td>6.3666</td>\n",
       "      <td>A</td>\n",
       "    </tr>\n",
       "    <tr>\n",
       "      <th>116</th>\n",
       "      <td>900.0</td>\n",
       "      <td>39.0</td>\n",
       "      <td>41.4</td>\n",
       "      <td>11.1366</td>\n",
       "      <td>7.4934</td>\n",
       "      <td>A</td>\n",
       "    </tr>\n",
       "    <tr>\n",
       "      <th>117</th>\n",
       "      <td>650.0</td>\n",
       "      <td>39.0</td>\n",
       "      <td>41.4</td>\n",
       "      <td>11.1366</td>\n",
       "      <td>6.0030</td>\n",
       "      <td>A</td>\n",
       "    </tr>\n",
       "    <tr>\n",
       "      <th>118</th>\n",
       "      <td>820.0</td>\n",
       "      <td>39.0</td>\n",
       "      <td>41.3</td>\n",
       "      <td>12.4313</td>\n",
       "      <td>7.3514</td>\n",
       "      <td>A</td>\n",
       "    </tr>\n",
       "    <tr>\n",
       "      <th>119</th>\n",
       "      <td>850.0</td>\n",
       "      <td>40.0</td>\n",
       "      <td>42.3</td>\n",
       "      <td>11.9286</td>\n",
       "      <td>7.1064</td>\n",
       "      <td>A</td>\n",
       "    </tr>\n",
       "    <tr>\n",
       "      <th>120</th>\n",
       "      <td>900.0</td>\n",
       "      <td>40.0</td>\n",
       "      <td>42.5</td>\n",
       "      <td>11.7300</td>\n",
       "      <td>7.2250</td>\n",
       "      <td>A</td>\n",
       "    </tr>\n",
       "    <tr>\n",
       "      <th>121</th>\n",
       "      <td>1015.0</td>\n",
       "      <td>40.0</td>\n",
       "      <td>42.4</td>\n",
       "      <td>12.3808</td>\n",
       "      <td>7.4624</td>\n",
       "      <td>A</td>\n",
       "    </tr>\n",
       "    <tr>\n",
       "      <th>122</th>\n",
       "      <td>820.0</td>\n",
       "      <td>40.0</td>\n",
       "      <td>42.5</td>\n",
       "      <td>11.1350</td>\n",
       "      <td>6.6300</td>\n",
       "      <td>A</td>\n",
       "    </tr>\n",
       "    <tr>\n",
       "      <th>123</th>\n",
       "      <td>1100.0</td>\n",
       "      <td>42.0</td>\n",
       "      <td>44.6</td>\n",
       "      <td>12.8002</td>\n",
       "      <td>6.8684</td>\n",
       "      <td>A</td>\n",
       "    </tr>\n",
       "    <tr>\n",
       "      <th>124</th>\n",
       "      <td>1000.0</td>\n",
       "      <td>43.0</td>\n",
       "      <td>45.2</td>\n",
       "      <td>11.9328</td>\n",
       "      <td>7.2772</td>\n",
       "      <td>A</td>\n",
       "    </tr>\n",
       "    <tr>\n",
       "      <th>125</th>\n",
       "      <td>1100.0</td>\n",
       "      <td>43.0</td>\n",
       "      <td>45.5</td>\n",
       "      <td>12.5125</td>\n",
       "      <td>7.4165</td>\n",
       "      <td>A</td>\n",
       "    </tr>\n",
       "    <tr>\n",
       "      <th>126</th>\n",
       "      <td>1000.0</td>\n",
       "      <td>43.5</td>\n",
       "      <td>46.0</td>\n",
       "      <td>12.6040</td>\n",
       "      <td>8.1420</td>\n",
       "      <td>A</td>\n",
       "    </tr>\n",
       "    <tr>\n",
       "      <th>127</th>\n",
       "      <td>1000.0</td>\n",
       "      <td>44.0</td>\n",
       "      <td>46.6</td>\n",
       "      <td>12.4888</td>\n",
       "      <td>7.5958</td>\n",
       "      <td>A</td>\n",
       "    </tr>\n",
       "  </tbody>\n",
       "</table>\n",
       "</div>"
      ],
      "text/plain": [
       "     Weight  Length  Diagonal   Height   Width type\n",
       "72      5.9     8.4       8.8   2.1120  1.4080    A\n",
       "73     32.0    13.7      14.7   3.5280  1.9992    A\n",
       "74     40.0    15.0      16.0   3.8240  2.4320    A\n",
       "75     51.5    16.2      17.2   4.5924  2.6316    A\n",
       "76     70.0    17.4      18.5   4.5880  2.9415    A\n",
       "77    100.0    18.0      19.2   5.2224  3.3216    A\n",
       "78     78.0    18.7      19.4   5.1992  3.1234    A\n",
       "79     80.0    19.0      20.2   5.6358  3.0502    A\n",
       "80     85.0    19.6      20.8   5.1376  3.0368    A\n",
       "81     85.0    20.0      21.0   5.0820  2.7720    A\n",
       "82    110.0    21.0      22.5   5.6925  3.5550    A\n",
       "83    115.0    21.0      22.5   5.9175  3.3075    A\n",
       "84    125.0    21.0      22.5   5.6925  3.6675    A\n",
       "85    130.0    21.3      22.8   6.3840  3.5340    A\n",
       "86    120.0    22.0      23.5   6.1100  3.4075    A\n",
       "87    120.0    22.0      23.5   5.6400  3.5250    A\n",
       "88    130.0    22.0      23.5   6.1100  3.5250    A\n",
       "89    135.0    22.0      23.5   5.8750  3.5250    A\n",
       "90    110.0    22.0      23.5   5.5225  3.9950    A\n",
       "91    130.0    22.5      24.0   5.8560  3.6240    A\n",
       "92    150.0    22.5      24.0   6.7920  3.6240    A\n",
       "93    145.0    22.7      24.2   5.9532  3.6300    A\n",
       "94    150.0    23.0      24.5   5.2185  3.6260    A\n",
       "95    170.0    23.5      25.0   6.2750  3.7250    A\n",
       "96    225.0    24.0      25.5   7.2930  3.7230    A\n",
       "97    145.0    24.0      25.5   6.3750  3.8250    A\n",
       "98    188.0    24.6      26.2   6.7334  4.1658    A\n",
       "99    180.0    25.0      26.5   6.4395  3.6835    A\n",
       "100   197.0    25.6      27.0   6.5610  4.2390    A\n",
       "101   218.0    26.5      28.0   7.1680  4.1440    A\n",
       "102   300.0    27.3      28.7   8.3230  5.1373    A\n",
       "103   260.0    27.5      28.9   7.1672  4.3350    A\n",
       "104   265.0    27.5      28.9   7.0516  4.3350    A\n",
       "105   250.0    27.5      28.9   7.2828  4.5662    A\n",
       "106   250.0    28.0      29.4   7.8204  4.2042    A\n",
       "107   300.0    28.7      30.1   7.5852  4.6354    A\n",
       "108   320.0    30.0      31.6   7.6156  4.7716    A\n",
       "109   514.0    32.8      34.0  10.0300  6.0180    A\n",
       "110   556.0    34.5      36.5  10.2565  6.3875    A\n",
       "111   840.0    35.0      37.3  11.4884  7.7957    A\n",
       "112   685.0    36.5      39.0  10.8810  6.8640    A\n",
       "113   700.0    36.0      38.3  10.6091  6.7408    A\n",
       "114   700.0    37.0      39.4  10.8350  6.2646    A\n",
       "115   690.0    37.0      39.3  10.5717  6.3666    A\n",
       "116   900.0    39.0      41.4  11.1366  7.4934    A\n",
       "117   650.0    39.0      41.4  11.1366  6.0030    A\n",
       "118   820.0    39.0      41.3  12.4313  7.3514    A\n",
       "119   850.0    40.0      42.3  11.9286  7.1064    A\n",
       "120   900.0    40.0      42.5  11.7300  7.2250    A\n",
       "121  1015.0    40.0      42.4  12.3808  7.4624    A\n",
       "122   820.0    40.0      42.5  11.1350  6.6300    A\n",
       "123  1100.0    42.0      44.6  12.8002  6.8684    A\n",
       "124  1000.0    43.0      45.2  11.9328  7.2772    A\n",
       "125  1100.0    43.0      45.5  12.5125  7.4165    A\n",
       "126  1000.0    43.5      46.0  12.6040  8.1420    A\n",
       "127  1000.0    44.0      46.6  12.4888  7.5958    A"
      ]
     },
     "execution_count": 233,
     "metadata": {},
     "output_type": "execute_result"
    }
   ],
   "source": [
    "a"
   ]
  }
 ],
 "metadata": {
  "kernelspec": {
   "display_name": "Python 3 (ipykernel)",
   "language": "python",
   "name": "python3"
  },
  "language_info": {
   "codemirror_mode": {
    "name": "ipython",
    "version": 3
   },
   "file_extension": ".py",
   "mimetype": "text/x-python",
   "name": "python",
   "nbconvert_exporter": "python",
   "pygments_lexer": "ipython3",
   "version": "3.7.0"
  }
 },
 "nbformat": 4,
 "nbformat_minor": 5
}

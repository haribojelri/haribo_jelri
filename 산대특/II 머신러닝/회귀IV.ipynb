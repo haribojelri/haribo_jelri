{
 "cells": [
  {
   "cell_type": "code",
   "execution_count": 2,
   "id": "bb8d1f5f",
   "metadata": {},
   "outputs": [],
   "source": [
    "url = 'https://raw.githubusercontent.com/leekyuyoungSandeateak/20220823_start_sandeateak/main/II%20%EB%A8%B8%EC%8B%A0%EB%9F%AC%EB%8B%9D/data2.csv?token=GHSAT0AAAAAABZZF54C25Q3JQFGSZXTNWXGY2HQB5A'"
   ]
  },
  {
   "cell_type": "code",
   "execution_count": 3,
   "id": "d53ecf05",
   "metadata": {},
   "outputs": [],
   "source": [
    "import pandas as pd\n",
    "import numpy as np"
   ]
  },
  {
   "cell_type": "code",
   "execution_count": 5,
   "id": "5fc92d83",
   "metadata": {},
   "outputs": [
    {
     "data": {
      "text/html": [
       "<div>\n",
       "<style scoped>\n",
       "    .dataframe tbody tr th:only-of-type {\n",
       "        vertical-align: middle;\n",
       "    }\n",
       "\n",
       "    .dataframe tbody tr th {\n",
       "        vertical-align: top;\n",
       "    }\n",
       "\n",
       "    .dataframe thead th {\n",
       "        text-align: right;\n",
       "    }\n",
       "</style>\n",
       "<table border=\"1\" class=\"dataframe\">\n",
       "  <thead>\n",
       "    <tr style=\"text-align: right;\">\n",
       "      <th></th>\n",
       "      <th>Weight</th>\n",
       "      <th>Length</th>\n",
       "      <th>Diagonal</th>\n",
       "      <th>Height</th>\n",
       "      <th>Width</th>\n",
       "      <th>type</th>\n",
       "    </tr>\n",
       "  </thead>\n",
       "  <tbody>\n",
       "    <tr>\n",
       "      <th>0</th>\n",
       "      <td>5.9</td>\n",
       "      <td>8.4</td>\n",
       "      <td>8.8</td>\n",
       "      <td>2.1120</td>\n",
       "      <td>1.4080</td>\n",
       "      <td>A</td>\n",
       "    </tr>\n",
       "    <tr>\n",
       "      <th>1</th>\n",
       "      <td>32.0</td>\n",
       "      <td>13.7</td>\n",
       "      <td>14.7</td>\n",
       "      <td>3.5280</td>\n",
       "      <td>1.9992</td>\n",
       "      <td>A</td>\n",
       "    </tr>\n",
       "    <tr>\n",
       "      <th>2</th>\n",
       "      <td>40.0</td>\n",
       "      <td>15.0</td>\n",
       "      <td>16.0</td>\n",
       "      <td>3.8240</td>\n",
       "      <td>2.4320</td>\n",
       "      <td>A</td>\n",
       "    </tr>\n",
       "    <tr>\n",
       "      <th>3</th>\n",
       "      <td>51.5</td>\n",
       "      <td>16.2</td>\n",
       "      <td>17.2</td>\n",
       "      <td>4.5924</td>\n",
       "      <td>2.6316</td>\n",
       "      <td>A</td>\n",
       "    </tr>\n",
       "    <tr>\n",
       "      <th>4</th>\n",
       "      <td>70.0</td>\n",
       "      <td>17.4</td>\n",
       "      <td>18.5</td>\n",
       "      <td>4.5880</td>\n",
       "      <td>2.9415</td>\n",
       "      <td>A</td>\n",
       "    </tr>\n",
       "  </tbody>\n",
       "</table>\n",
       "</div>"
      ],
      "text/plain": [
       "   Weight  Length  Diagonal  Height   Width type\n",
       "0     5.9     8.4       8.8  2.1120  1.4080    A\n",
       "1    32.0    13.7      14.7  3.5280  1.9992    A\n",
       "2    40.0    15.0      16.0  3.8240  2.4320    A\n",
       "3    51.5    16.2      17.2  4.5924  2.6316    A\n",
       "4    70.0    17.4      18.5  4.5880  2.9415    A"
      ]
     },
     "execution_count": 5,
     "metadata": {},
     "output_type": "execute_result"
    }
   ],
   "source": [
    "df = pd.read_csv(url)\n",
    "df = df.iloc[:,1:]\n",
    "df.head()"
   ]
  },
  {
   "cell_type": "code",
   "execution_count": 6,
   "id": "dd20d5f0",
   "metadata": {},
   "outputs": [],
   "source": [
    "# 다중분류 - logistic 회귀 - sigmoid  0, 1"
   ]
  },
  {
   "cell_type": "code",
   "execution_count": 7,
   "id": "ff914806",
   "metadata": {},
   "outputs": [],
   "source": [
    "# 시그모이드 VS 소프트 맥스"
   ]
  },
  {
   "cell_type": "code",
   "execution_count": 8,
   "id": "014fda9c",
   "metadata": {},
   "outputs": [],
   "source": [
    "from sklearn.linear_model import LogisticRegression"
   ]
  },
  {
   "cell_type": "code",
   "execution_count": 49,
   "id": "e5313783",
   "metadata": {},
   "outputs": [],
   "source": [
    "lr = LogisticRegression(max_iter=50000, C=20)"
   ]
  },
  {
   "cell_type": "code",
   "execution_count": 50,
   "id": "619ac5bd",
   "metadata": {},
   "outputs": [],
   "source": [
    "# help(LogisticRegression)"
   ]
  },
  {
   "cell_type": "code",
   "execution_count": 51,
   "id": "a46b59a8",
   "metadata": {},
   "outputs": [],
   "source": [
    "# scaled 된 학습데이터를 가지고 학습\n",
    "# scaled된 테스트 데이털르 가지고 분류\n",
    "from sklearn.preprocessing import  StandardScaler"
   ]
  },
  {
   "cell_type": "code",
   "execution_count": 52,
   "id": "29a277a3",
   "metadata": {},
   "outputs": [],
   "source": [
    "# 학습과, 정답을 분리\n",
    "# 학습데이터를 스케일링\n",
    "# 훈련데이터와 테스트 데이터 분리\n",
    "# 학습\n",
    "# 평가 및 예측"
   ]
  },
  {
   "cell_type": "code",
   "execution_count": 53,
   "id": "dc906294",
   "metadata": {},
   "outputs": [],
   "source": [
    "X = df.iloc[:,:-1]\n",
    "Y = df.iloc[:,-1]"
   ]
  },
  {
   "cell_type": "code",
   "execution_count": 54,
   "id": "427e206a",
   "metadata": {},
   "outputs": [],
   "source": [
    "from sklearn.preprocessing import StandardScaler\n",
    "ss = StandardScaler()\n",
    "X = ss.fit_transform(X)"
   ]
  },
  {
   "cell_type": "code",
   "execution_count": 55,
   "id": "5ddbcfcd",
   "metadata": {},
   "outputs": [],
   "source": [
    "from sklearn.model_selection import train_test_split\n",
    "x_train,x_test,y_train,y_test =  train_test_split(X,Y)"
   ]
  },
  {
   "cell_type": "code",
   "execution_count": 56,
   "id": "a8509529",
   "metadata": {},
   "outputs": [
    {
     "data": {
      "text/plain": [
       "LogisticRegression(C=20, max_iter=50000)"
      ]
     },
     "execution_count": 56,
     "metadata": {},
     "output_type": "execute_result"
    }
   ],
   "source": [
    "lr.fit(x_train,y_train)"
   ]
  },
  {
   "cell_type": "code",
   "execution_count": 57,
   "id": "63a96db7",
   "metadata": {},
   "outputs": [
    {
     "data": {
      "text/plain": [
       "(0.907563025210084, 0.9)"
      ]
     },
     "execution_count": 57,
     "metadata": {},
     "output_type": "execute_result"
    }
   ],
   "source": [
    "lr.score(x_train,y_train), lr.score(x_test,y_test)"
   ]
  },
  {
   "cell_type": "code",
   "execution_count": 58,
   "id": "57c9b2ec",
   "metadata": {},
   "outputs": [
    {
     "data": {
      "text/plain": [
       "array(['B', 'F', 'E', 'A', 'A', 'A', 'E', 'B', 'D', 'F'], dtype=object)"
      ]
     },
     "execution_count": 58,
     "metadata": {},
     "output_type": "execute_result"
    }
   ],
   "source": [
    "lr.predict(x_test[:10])"
   ]
  },
  {
   "cell_type": "code",
   "execution_count": 60,
   "id": "ff6cfc6c",
   "metadata": {
    "scrolled": true
   },
   "outputs": [
    {
     "data": {
      "text/plain": [
       "array([[0.   , 0.999, 0.   , 0.   , 0.   , 0.   , 0.001],\n",
       "       [0.001, 0.369, 0.044, 0.   , 0.   , 0.504, 0.082],\n",
       "       [0.361, 0.   , 0.12 , 0.   , 0.411, 0.098, 0.01 ],\n",
       "       [0.912, 0.002, 0.009, 0.   , 0.   , 0.   , 0.076],\n",
       "       [0.744, 0.   , 0.093, 0.   , 0.104, 0.049, 0.01 ],\n",
       "       [0.882, 0.   , 0.087, 0.006, 0.   , 0.001, 0.024],\n",
       "       [0.044, 0.   , 0.001, 0.   , 0.953, 0.002, 0.   ],\n",
       "       [0.   , 0.981, 0.001, 0.   , 0.   , 0.013, 0.005],\n",
       "       [0.039, 0.   , 0.   , 0.961, 0.   , 0.   , 0.   ],\n",
       "       [0.   , 0.124, 0.041, 0.   , 0.   , 0.798, 0.037]])"
      ]
     },
     "execution_count": 60,
     "metadata": {},
     "output_type": "execute_result"
    }
   ],
   "source": [
    "proba = lr.predict_proba(x_test[:10])\n",
    "np.round(proba,3)"
   ]
  },
  {
   "cell_type": "code",
   "execution_count": 68,
   "id": "19a3f13f",
   "metadata": {
    "scrolled": true
   },
   "outputs": [
    {
     "data": {
      "text/plain": [
       "array([[ -3.865,  15.371,  -1.027,  -2.545, -21.89 ,   5.614,   8.341],\n",
       "       [ -2.151,   4.428,   2.304,  -4.22 ,  -8.024,   4.738,   2.923],\n",
       "       [  3.48 ,  -7.632,   2.375,  -3.933,   3.609,   2.173,  -0.072],\n",
       "       [  6.984,   0.878,   2.404,  -0.72 , -11.506,  -2.538,   4.498],\n",
       "       [  4.365,  -7.085,   2.283,  -3.668,   2.399,   1.646,   0.06 ],\n",
       "       [  4.98 ,  -2.961,   2.658,   0.059,  -3.812,  -2.291,   1.367],\n",
       "       [  5.014, -11.362,   1.064,  -3.171,   8.09 ,   1.766,  -1.402],\n",
       "       [ -5.254,   9.637,   2.096,  -3.366, -12.84 ,   5.288,   4.439],\n",
       "       [ 11.054,   1.5  ,  -2.684,  14.258, -14.09 , -14.612,   4.574],\n",
       "       [ -2.57 ,   3.378,   2.27 ,  -4.48 ,  -6.008,   5.242,   2.17 ]])"
      ]
     },
     "execution_count": 68,
     "metadata": {},
     "output_type": "execute_result"
    }
   ],
   "source": [
    "decision = lr.decision_function(x_test[:10])\n",
    "np.round(decision,3)"
   ]
  },
  {
   "cell_type": "code",
   "execution_count": null,
   "id": "dc620252",
   "metadata": {},
   "outputs": [],
   "source": []
  },
  {
   "cell_type": "code",
   "execution_count": 61,
   "id": "f9bdd00d",
   "metadata": {},
   "outputs": [
    {
     "data": {
      "text/plain": [
       "array(['A', 'B', 'C', 'D', 'E', 'F', 'G'], dtype=object)"
      ]
     },
     "execution_count": 61,
     "metadata": {},
     "output_type": "execute_result"
    }
   ],
   "source": [
    "lr.classes_"
   ]
  },
  {
   "cell_type": "code",
   "execution_count": 62,
   "id": "84c3fd61",
   "metadata": {},
   "outputs": [
    {
     "data": {
      "text/plain": [
       "(159, 6)"
      ]
     },
     "execution_count": 62,
     "metadata": {},
     "output_type": "execute_result"
    }
   ],
   "source": [
    "df.shape"
   ]
  },
  {
   "cell_type": "code",
   "execution_count": 67,
   "id": "a8313f37",
   "metadata": {},
   "outputs": [
    {
     "data": {
      "text/plain": [
       "(array([[ 3.93,  6.58, -8.9 , -6.48,  4.2 ],\n",
       "        [-1.28, -1.1 ,  2.25,  7.89, -0.98],\n",
       "        [-3.46, -4.95,  5.06, -0.72,  2.91],\n",
       "        [-0.01,  3.59,  3.98, -3.64, -1.86],\n",
       "        [-1.63,  0.79,  0.99, -4.76, -4.17],\n",
       "        [ 0.28, -2.3 , -3.32,  6.51, -2.2 ],\n",
       "        [ 2.16, -2.61, -0.05,  1.2 ,  2.1 ]]),\n",
       " array([ 2.74893427,  0.1851716 ,  1.74846591, -0.46465791, -6.38984436,\n",
       "        -0.40942554,  2.58135602]))"
      ]
     },
     "execution_count": 67,
     "metadata": {},
     "output_type": "execute_result"
    }
   ],
   "source": [
    "np.round(lr.coef_,2), lr.intercept_"
   ]
  },
  {
   "cell_type": "code",
   "execution_count": null,
   "id": "33c9ad43",
   "metadata": {},
   "outputs": [],
   "source": [
    "# sigmoid  : 돌리면 돌리수록 0또는 1로 수렴 \n",
    "# softmax : 다중분류의 각 라벨에대한 확률을 계산할때 사용--> 출력벡터의 합이 1인 확률 함수\n",
    "# 벡터의 각 원소를 정규화 하기위해서 입력값을 모두 지수값으로 바꿘준다.\n",
    "# argmax같은 함수를 사용해서 어느 분류인지 판다"
   ]
  },
  {
   "cell_type": "code",
   "execution_count": 69,
   "id": "51eaf106",
   "metadata": {},
   "outputs": [],
   "source": [
    "from scipy.special import softmax"
   ]
  },
  {
   "cell_type": "code",
   "execution_count": 70,
   "id": "8f7d95fc",
   "metadata": {},
   "outputs": [
    {
     "data": {
      "text/plain": [
       "array([[0.   , 0.999, 0.   , 0.   , 0.   , 0.   , 0.001],\n",
       "       [0.001, 0.369, 0.044, 0.   , 0.   , 0.504, 0.082],\n",
       "       [0.361, 0.   , 0.12 , 0.   , 0.411, 0.098, 0.01 ],\n",
       "       [0.912, 0.002, 0.009, 0.   , 0.   , 0.   , 0.076],\n",
       "       [0.744, 0.   , 0.093, 0.   , 0.104, 0.049, 0.01 ],\n",
       "       [0.882, 0.   , 0.087, 0.006, 0.   , 0.001, 0.024],\n",
       "       [0.044, 0.   , 0.001, 0.   , 0.953, 0.002, 0.   ],\n",
       "       [0.   , 0.981, 0.001, 0.   , 0.   , 0.013, 0.005],\n",
       "       [0.039, 0.   , 0.   , 0.961, 0.   , 0.   , 0.   ],\n",
       "       [0.   , 0.124, 0.041, 0.   , 0.   , 0.798, 0.037]])"
      ]
     },
     "execution_count": 70,
     "metadata": {},
     "output_type": "execute_result"
    }
   ],
   "source": [
    "proba = softmax(decision,axis = 1)\n",
    "np.round(proba,3)"
   ]
  },
  {
   "cell_type": "code",
   "execution_count": null,
   "id": "4a558061",
   "metadata": {},
   "outputs": [],
   "source": [
    "# 분류 - kNei....  로지스틱  - 확률  분류에 잘맞다...(이진(sigmoid) , 다중(softmax))\n",
    "# 회귀 - kNei(단점), 선형회귀 - 차수를 늘려서 좀더 다양하게 수렴 -> 과대적합 ->규제(L1, L2)"
   ]
  },
  {
   "cell_type": "code",
   "execution_count": null,
   "id": "ae3fdaf3",
   "metadata": {},
   "outputs": [],
   "source": []
  },
  {
   "cell_type": "code",
   "execution_count": null,
   "id": "0979aa8b",
   "metadata": {},
   "outputs": [],
   "source": []
  }
 ],
 "metadata": {
  "kernelspec": {
   "display_name": "Python 3 (ipykernel)",
   "language": "python",
   "name": "python3"
  },
  "language_info": {
   "codemirror_mode": {
    "name": "ipython",
    "version": 3
   },
   "file_extension": ".py",
   "mimetype": "text/x-python",
   "name": "python",
   "nbconvert_exporter": "python",
   "pygments_lexer": "ipython3",
   "version": "3.7.0"
  }
 },
 "nbformat": 4,
 "nbformat_minor": 5
}
